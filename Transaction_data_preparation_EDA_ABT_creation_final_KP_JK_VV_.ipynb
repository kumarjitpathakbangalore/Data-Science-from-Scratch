{
  "nbformat": 4,
  "nbformat_minor": 0,
  "metadata": {
    "colab": {
      "name": "Transaction data preparation EDA ABT creation final KP JK VV .ipynb",
      "provenance": [],
      "collapsed_sections": [],
      "authorship_tag": "ABX9TyMXzUOzLfOJNdPZ+xlNM+fT",
      "include_colab_link": true
    },
    "kernelspec": {
      "name": "python3",
      "display_name": "Python 3"
    }
  },
  "cells": [
    {
      "cell_type": "markdown",
      "metadata": {
        "id": "view-in-github",
        "colab_type": "text"
      },
      "source": [
        "<a href=\"https://colab.research.google.com/github/kumarjitpathakbangalore/Data-Science-from-Scratch/blob/master/Transaction_data_preparation_EDA_ABT_creation_final_KP_JK_VV_.ipynb\" target=\"_parent\"><img src=\"https://colab.research.google.com/assets/colab-badge.svg\" alt=\"Open In Colab\"/></a>"
      ]
    },
    {
      "cell_type": "markdown",
      "metadata": {
        "id": "gWhDY6o4MKyO",
        "colab_type": "text"
      },
      "source": [
        "# A journey from POS data to usable features for any classification modelling \n",
        "\n",
        "## What are we going to cover here?\n",
        "\n",
        "Note: This is a long coding excercise. Please have patinece to go till the end. In case if you don't have 30min time on hand, please wait for a peaceful time to gothrough the same.\n"
      ]
    },
    {
      "cell_type": "markdown",
      "metadata": {
        "id": "dACzcD9PaWXl",
        "colab_type": "text"
      },
      "source": [
        "Hello readers, It's been some time since  posted my last bolg on neural network. \n",
        "\n",
        "After spending 14 years on the field of data science(predictive modelling. I realized that many of the **budding data scienitst** have great difficulty in understanding data before applying any machine learning techniques or mathing the coding skills of a core programmer. \n",
        "\n",
        "We intend to build this **notebook with step by step execution** so that a budding data scientist can cee and feel what is happening in each step of the program before executing the same at the same time realize the vaue of understanding the data in detail.\n",
        "\n",
        "This notebook is for budding data scientists not for the expert programmers. \n",
        "\n",
        "This notebook is a joint effort of **three partners colaboration (Jitin Kapila, Vinoth Venkatraman, and myself- Kumarjit Pathak)**. Without both of them coming togeather it may not have been possible to achieve this during COVID crisis period where we all are trying to save our job amidst great uncertainity.\n",
        "\n",
        "\n",
        "However there is a bigger responsibility of sharing while learning and hence continuing our effort. Hope you like it.\n",
        "\n",
        "**PS: Our contact details are at the end of the content. Please scroldown to the last to find it.**"
      ]
    },
    {
      "cell_type": "markdown",
      "metadata": {
        "id": "a9c2K30fRGUP",
        "colab_type": "text"
      },
      "source": [
        "We are going to use google colab for this excercise. Whoever wants to know more about how to use google colab you can follow the below link:\n",
        "\n",
        "https://medium.com/@kumarjitpathak/how-to-use-colab-for-data-science-experimentation-6859553c82da\n",
        "\n",
        "\n",
        "### We want to cover the following in this notebook\n",
        "\n",
        "\n",
        "> ## Data Understanding using transactional data\n",
        "\n",
        "*   **Understanding data issues**\n",
        "*   **Understanding date operation**\n",
        "*   **Dynamic subsetting of data** \n",
        "*   **Using if statement, for loop, list comprehension in a dataframe for analysis**\n",
        "*   **Data cleaning based on multiple condition**\n",
        "*   **Recoding of values in a dataframe based on condition** \n",
        "*   etc....\n",
        "\n",
        "\n",
        "\n",
        "> ## Exploratory data analysis\n",
        "\n",
        "\n",
        "*   **Univariate Study of variables**\n",
        "*   **Feature extraction from different variable**\n",
        "*   **Cross-tabulation**\n",
        "\n",
        "\n",
        "> ## Building ABT(Analytical Base Table)\n",
        "\n",
        "\n",
        "*   **Aggregating data at different level to build ABT**\n",
        "*   **How to dynamically recode column names using raval**\n",
        "\n",
        "\n",
        "\n",
        "\n",
        "\n",
        "\n",
        "\n",
        "**We shall cover the modelling part of it in our upcoming blogs: stay tuned**\n",
        "\n",
        "\n",
        "\n",
        "\n",
        "\n",
        "\n",
        "\n",
        "\n",
        "\n",
        "\n",
        "\n",
        "\n",
        "\n"
      ]
    },
    {
      "cell_type": "code",
      "metadata": {
        "id": "-28mNOvACYMY",
        "colab_type": "code",
        "colab": {}
      },
      "source": [
        "# If you want to directly fetch any data from kaggle you need to download kaggle.jason once yu login in kaggle. \n",
        "#This will help colab to connec to the required dataset based on your own authentication\n",
        "\n",
        "\n",
        "from google.colab import files\n",
        "files.upload()\n",
        "\n",
        "# it would prompt for a jason file upload. Please go to your computer and select the kaggle Jason and it would autometically upload.\n",
        "\n"
      ],
      "execution_count": 0,
      "outputs": []
    },
    {
      "cell_type": "code",
      "metadata": {
        "id": "9S6d_KQUTFb1",
        "colab_type": "code",
        "outputId": "dbc98961-1076-4614-d428-5169558b2bcf",
        "colab": {
          "base_uri": "https://localhost:8080/",
          "height": 34
        }
      },
      "source": [
        "# Let's make sure the kaggle.json file is present.\n",
        "!ls -lha kaggle.json"
      ],
      "execution_count": 2,
      "outputs": [
        {
          "output_type": "stream",
          "text": [
            "-rw-r--r-- 1 root root 70 Apr 12 08:50 kaggle.json\n"
          ],
          "name": "stdout"
        }
      ]
    },
    {
      "cell_type": "code",
      "metadata": {
        "id": "dB7V_HjHTTMc",
        "colab_type": "code",
        "colab": {}
      },
      "source": [
        "# Next, install the Kaggle API client.\n",
        "!pip install -q kaggle"
      ],
      "execution_count": 0,
      "outputs": []
    },
    {
      "cell_type": "code",
      "metadata": {
        "id": "gIu0SI8aTTPg",
        "colab_type": "code",
        "colab": {}
      },
      "source": [
        "# The Kaggle API client expects this file to be in ~/.kaggle,\n",
        "# so move it there.\n",
        "!mkdir -p ~/.kaggle\n",
        "!cp kaggle.json ~/.kaggle/\n",
        "\n",
        "# This permissions change avoids a warning on Kaggle tool startup.\n",
        "!chmod 600 ~/.kaggle/kaggle.json"
      ],
      "execution_count": 0,
      "outputs": []
    },
    {
      "cell_type": "markdown",
      "metadata": {
        "id": "HC0-A8ZmTkUK",
        "colab_type": "text"
      },
      "source": [
        "### Now we have successfuly setup the kaggle API . It's time to data download directly from kaggle"
      ]
    },
    {
      "cell_type": "code",
      "metadata": {
        "id": "B3esL9n-TTSC",
        "colab_type": "code",
        "outputId": "310204af-bc69-42f1-d73d-c4708895f0c2",
        "colab": {
          "base_uri": "https://localhost:8080/",
          "height": 69
        }
      },
      "source": [
        "!kaggle datasets download -d carrie1/ecommerce-data"
      ],
      "execution_count": 5,
      "outputs": [
        {
          "output_type": "stream",
          "text": [
            "Downloading ecommerce-data.zip to /content\n",
            "\r  0% 0.00/7.20M [00:00<?, ?B/s]\n",
            "\r100% 7.20M/7.20M [00:00<00:00, 65.9MB/s]\n"
          ],
          "name": "stdout"
        }
      ]
    },
    {
      "cell_type": "markdown",
      "metadata": {
        "id": "Up2RRIqMk51U",
        "colab_type": "text"
      },
      "source": [
        "### Do we know where is the file currently located?"
      ]
    },
    {
      "cell_type": "code",
      "metadata": {
        "id": "j39aaOp6TTbM",
        "colab_type": "code",
        "outputId": "8ae1452c-93f9-4e8a-af9c-11b551708ca1",
        "colab": {
          "base_uri": "https://localhost:8080/",
          "height": 34
        }
      },
      "source": [
        "!ls /content/"
      ],
      "execution_count": 0,
      "outputs": [
        {
          "output_type": "stream",
          "text": [
            "ecommerce-data.zip  kaggle.json  sample_data\n"
          ],
          "name": "stdout"
        }
      ]
    },
    {
      "cell_type": "markdown",
      "metadata": {
        "id": "KvkzJgIXlJun",
        "colab_type": "text"
      },
      "source": [
        "### Data above in zip format, We might need to unzip the same.\n",
        "\n"
      ]
    },
    {
      "cell_type": "code",
      "metadata": {
        "id": "XL-nO1ZElIDy",
        "colab_type": "code",
        "outputId": "28872970-9138-4b1d-9db1-c60275efa31a",
        "colab": {
          "base_uri": "https://localhost:8080/",
          "height": 104
        }
      },
      "source": [
        "!sudo apt install unzip"
      ],
      "execution_count": 6,
      "outputs": [
        {
          "output_type": "stream",
          "text": [
            "Reading package lists... Done\n",
            "Building dependency tree       \n",
            "Reading state information... Done\n",
            "unzip is already the newest version (6.0-21ubuntu1).\n",
            "0 upgraded, 0 newly installed, 0 to remove and 25 not upgraded.\n"
          ],
          "name": "stdout"
        }
      ]
    },
    {
      "cell_type": "code",
      "metadata": {
        "id": "c0zM74mSTTgK",
        "colab_type": "code",
        "outputId": "ac194bef-df67-4ecd-80e2-b19bdec9b46a",
        "colab": {
          "base_uri": "https://localhost:8080/",
          "height": 52
        }
      },
      "source": [
        "!unzip ecommerce-data.zip"
      ],
      "execution_count": 7,
      "outputs": [
        {
          "output_type": "stream",
          "text": [
            "Archive:  ecommerce-data.zip\n",
            "  inflating: data.csv                \n"
          ],
          "name": "stdout"
        }
      ]
    },
    {
      "cell_type": "markdown",
      "metadata": {
        "id": "NK0c59R3ln8_",
        "colab_type": "text"
      },
      "source": [
        "### Before going ahead and loading this file using pandas. Let's do litte check of our environment. These are codes just good to know not essential"
      ]
    },
    {
      "cell_type": "code",
      "metadata": {
        "id": "nWRxIMyTTTly",
        "colab_type": "code",
        "outputId": "e5b17474-0138-4340-cdf4-ef6c40ab2ec1",
        "colab": {
          "base_uri": "https://localhost:8080/",
          "height": 1000
        }
      },
      "source": [
        "!cat /proc/cpuinfo\n",
        "!cat /proc/meminfo"
      ],
      "execution_count": 0,
      "outputs": [
        {
          "output_type": "stream",
          "text": [
            "processor\t: 0\n",
            "vendor_id\t: GenuineIntel\n",
            "cpu family\t: 6\n",
            "model\t\t: 63\n",
            "model name\t: Intel(R) Xeon(R) CPU @ 2.30GHz\n",
            "stepping\t: 0\n",
            "microcode\t: 0x1\n",
            "cpu MHz\t\t: 2300.000\n",
            "cache size\t: 46080 KB\n",
            "physical id\t: 0\n",
            "siblings\t: 2\n",
            "core id\t\t: 0\n",
            "cpu cores\t: 1\n",
            "apicid\t\t: 0\n",
            "initial apicid\t: 0\n",
            "fpu\t\t: yes\n",
            "fpu_exception\t: yes\n",
            "cpuid level\t: 13\n",
            "wp\t\t: yes\n",
            "flags\t\t: fpu vme de pse tsc msr pae mce cx8 apic sep mtrr pge mca cmov pat pse36 clflush mmx fxsr sse sse2 ss ht syscall nx pdpe1gb rdtscp lm constant_tsc rep_good nopl xtopology nonstop_tsc cpuid tsc_known_freq pni pclmulqdq ssse3 fma cx16 pcid sse4_1 sse4_2 x2apic movbe popcnt aes xsave avx f16c rdrand hypervisor lahf_lm abm invpcid_single ssbd ibrs ibpb stibp fsgsbase tsc_adjust bmi1 avx2 smep bmi2 erms invpcid xsaveopt arat md_clear arch_capabilities\n",
            "bugs\t\t: cpu_meltdown spectre_v1 spectre_v2 spec_store_bypass l1tf mds swapgs itlb_multihit\n",
            "bogomips\t: 4600.00\n",
            "clflush size\t: 64\n",
            "cache_alignment\t: 64\n",
            "address sizes\t: 46 bits physical, 48 bits virtual\n",
            "power management:\n",
            "\n",
            "processor\t: 1\n",
            "vendor_id\t: GenuineIntel\n",
            "cpu family\t: 6\n",
            "model\t\t: 63\n",
            "model name\t: Intel(R) Xeon(R) CPU @ 2.30GHz\n",
            "stepping\t: 0\n",
            "microcode\t: 0x1\n",
            "cpu MHz\t\t: 2300.000\n",
            "cache size\t: 46080 KB\n",
            "physical id\t: 0\n",
            "siblings\t: 2\n",
            "core id\t\t: 0\n",
            "cpu cores\t: 1\n",
            "apicid\t\t: 1\n",
            "initial apicid\t: 1\n",
            "fpu\t\t: yes\n",
            "fpu_exception\t: yes\n",
            "cpuid level\t: 13\n",
            "wp\t\t: yes\n",
            "flags\t\t: fpu vme de pse tsc msr pae mce cx8 apic sep mtrr pge mca cmov pat pse36 clflush mmx fxsr sse sse2 ss ht syscall nx pdpe1gb rdtscp lm constant_tsc rep_good nopl xtopology nonstop_tsc cpuid tsc_known_freq pni pclmulqdq ssse3 fma cx16 pcid sse4_1 sse4_2 x2apic movbe popcnt aes xsave avx f16c rdrand hypervisor lahf_lm abm invpcid_single ssbd ibrs ibpb stibp fsgsbase tsc_adjust bmi1 avx2 smep bmi2 erms invpcid xsaveopt arat md_clear arch_capabilities\n",
            "bugs\t\t: cpu_meltdown spectre_v1 spectre_v2 spec_store_bypass l1tf mds swapgs itlb_multihit\n",
            "bogomips\t: 4600.00\n",
            "clflush size\t: 64\n",
            "cache_alignment\t: 64\n",
            "address sizes\t: 46 bits physical, 48 bits virtual\n",
            "power management:\n",
            "\n",
            "MemTotal:       13333556 kB\n",
            "MemFree:        10301868 kB\n",
            "MemAvailable:   12496540 kB\n",
            "Buffers:           71516 kB\n",
            "Cached:          2272044 kB\n",
            "SwapCached:            0 kB\n",
            "Active:           738032 kB\n",
            "Inactive:        2031088 kB\n",
            "Active(anon):     399856 kB\n",
            "Inactive(anon):      308 kB\n",
            "Active(file):     338176 kB\n",
            "Inactive(file):  2030780 kB\n",
            "Unevictable:           0 kB\n",
            "Mlocked:               0 kB\n",
            "SwapTotal:             0 kB\n",
            "SwapFree:              0 kB\n",
            "Dirty:               380 kB\n",
            "Writeback:             0 kB\n",
            "AnonPages:        425548 kB\n",
            "Mapped:           224784 kB\n",
            "Shmem:               892 kB\n",
            "Slab:             170360 kB\n",
            "SReclaimable:     132944 kB\n",
            "SUnreclaim:        37416 kB\n",
            "KernelStack:        3388 kB\n",
            "PageTables:         5352 kB\n",
            "NFS_Unstable:          0 kB\n",
            "Bounce:                0 kB\n",
            "WritebackTmp:          0 kB\n",
            "CommitLimit:     6666776 kB\n",
            "Committed_AS:    2509988 kB\n",
            "VmallocTotal:   34359738367 kB\n",
            "VmallocUsed:           0 kB\n",
            "VmallocChunk:          0 kB\n",
            "Percpu:              912 kB\n",
            "AnonHugePages:         0 kB\n",
            "ShmemHugePages:        0 kB\n",
            "ShmemPmdMapped:        0 kB\n",
            "HugePages_Total:       0\n",
            "HugePages_Free:        0\n",
            "HugePages_Rsvd:        0\n",
            "HugePages_Surp:        0\n",
            "Hugepagesize:       2048 kB\n",
            "Hugetlb:               0 kB\n",
            "DirectMap4k:       66748 kB\n",
            "DirectMap2M:     6223872 kB\n",
            "DirectMap1G:     9437184 kB\n"
          ],
          "name": "stdout"
        }
      ]
    },
    {
      "cell_type": "code",
      "metadata": {
        "id": "ZjSmFVnBTTrQ",
        "colab_type": "code",
        "outputId": "02745ac1-019d-45f3-cad0-cf2c22a12238",
        "colab": {
          "base_uri": "https://localhost:8080/",
          "height": 230
        }
      },
      "source": [
        "# Check GPU specification\n",
        "from tensorflow.python.client import device_lib\n",
        "device_lib.list_local_devices()"
      ],
      "execution_count": 0,
      "outputs": [
        {
          "output_type": "execute_result",
          "data": {
            "text/plain": [
              "[name: \"/device:CPU:0\"\n",
              " device_type: \"CPU\"\n",
              " memory_limit: 268435456\n",
              " locality {\n",
              " }\n",
              " incarnation: 11879623607362747225, name: \"/device:XLA_CPU:0\"\n",
              " device_type: \"XLA_CPU\"\n",
              " memory_limit: 17179869184\n",
              " locality {\n",
              " }\n",
              " incarnation: 7308560481223555769\n",
              " physical_device_desc: \"device: XLA_CPU device\"]"
            ]
          },
          "metadata": {
            "tags": []
          },
          "execution_count": 10
        }
      ]
    },
    {
      "cell_type": "markdown",
      "metadata": {
        "id": "U9Jv4EGkmJ5G",
        "colab_type": "text"
      },
      "source": [
        "### Let's now start working on the data and load the same in pandas. "
      ]
    },
    {
      "cell_type": "code",
      "metadata": {
        "id": "cr9DZ_UZTTzU",
        "colab_type": "code",
        "colab": {}
      },
      "source": [
        "import pandas as pd\n",
        "import numpy as np"
      ],
      "execution_count": 0,
      "outputs": []
    },
    {
      "cell_type": "code",
      "metadata": {
        "id": "38TEAduGTT5j",
        "colab_type": "code",
        "colab": {}
      },
      "source": [
        "ecomdata= pd.read_csv('data.csv', delimiter = ',',encoding= 'unicode_escape')"
      ],
      "execution_count": 0,
      "outputs": []
    },
    {
      "cell_type": "code",
      "metadata": {
        "id": "aG41rH9OTT2w",
        "colab_type": "code",
        "outputId": "b556ea41-561b-455b-c97f-d206e046eb98",
        "colab": {
          "base_uri": "https://localhost:8080/",
          "height": 139
        }
      },
      "source": [
        "ecomdata.head(3)"
      ],
      "execution_count": 0,
      "outputs": [
        {
          "output_type": "execute_result",
          "data": {
            "text/html": [
              "<div>\n",
              "<style scoped>\n",
              "    .dataframe tbody tr th:only-of-type {\n",
              "        vertical-align: middle;\n",
              "    }\n",
              "\n",
              "    .dataframe tbody tr th {\n",
              "        vertical-align: top;\n",
              "    }\n",
              "\n",
              "    .dataframe thead th {\n",
              "        text-align: right;\n",
              "    }\n",
              "</style>\n",
              "<table border=\"1\" class=\"dataframe\">\n",
              "  <thead>\n",
              "    <tr style=\"text-align: right;\">\n",
              "      <th></th>\n",
              "      <th>InvoiceNo</th>\n",
              "      <th>StockCode</th>\n",
              "      <th>Description</th>\n",
              "      <th>Quantity</th>\n",
              "      <th>InvoiceDate</th>\n",
              "      <th>UnitPrice</th>\n",
              "      <th>CustomerID</th>\n",
              "      <th>Country</th>\n",
              "    </tr>\n",
              "  </thead>\n",
              "  <tbody>\n",
              "    <tr>\n",
              "      <th>0</th>\n",
              "      <td>536365</td>\n",
              "      <td>85123A</td>\n",
              "      <td>WHITE HANGING HEART T-LIGHT HOLDER</td>\n",
              "      <td>6</td>\n",
              "      <td>12/1/2010 8:26</td>\n",
              "      <td>2.55</td>\n",
              "      <td>17850.0</td>\n",
              "      <td>United Kingdom</td>\n",
              "    </tr>\n",
              "    <tr>\n",
              "      <th>1</th>\n",
              "      <td>536365</td>\n",
              "      <td>71053</td>\n",
              "      <td>WHITE METAL LANTERN</td>\n",
              "      <td>6</td>\n",
              "      <td>12/1/2010 8:26</td>\n",
              "      <td>3.39</td>\n",
              "      <td>17850.0</td>\n",
              "      <td>United Kingdom</td>\n",
              "    </tr>\n",
              "    <tr>\n",
              "      <th>2</th>\n",
              "      <td>536365</td>\n",
              "      <td>84406B</td>\n",
              "      <td>CREAM CUPID HEARTS COAT HANGER</td>\n",
              "      <td>8</td>\n",
              "      <td>12/1/2010 8:26</td>\n",
              "      <td>2.75</td>\n",
              "      <td>17850.0</td>\n",
              "      <td>United Kingdom</td>\n",
              "    </tr>\n",
              "  </tbody>\n",
              "</table>\n",
              "</div>"
            ],
            "text/plain": [
              "  InvoiceNo StockCode  ... CustomerID         Country\n",
              "0    536365    85123A  ...    17850.0  United Kingdom\n",
              "1    536365     71053  ...    17850.0  United Kingdom\n",
              "2    536365    84406B  ...    17850.0  United Kingdom\n",
              "\n",
              "[3 rows x 8 columns]"
            ]
          },
          "metadata": {
            "tags": []
          },
          "execution_count": 11
        }
      ]
    },
    {
      "cell_type": "markdown",
      "metadata": {
        "id": "u4_PTONwqfPm",
        "colab_type": "text"
      },
      "source": [
        "#### Let's see what is the current data types and details of the file loaded"
      ]
    },
    {
      "cell_type": "code",
      "metadata": {
        "id": "5OpAuUicTTyH",
        "colab_type": "code",
        "outputId": "d89d122f-21d7-461a-f799-595900adec38",
        "colab": {
          "base_uri": "https://localhost:8080/",
          "height": 284
        }
      },
      "source": [
        "ecomdata.info()"
      ],
      "execution_count": 0,
      "outputs": [
        {
          "output_type": "stream",
          "text": [
            "<class 'pandas.core.frame.DataFrame'>\n",
            "RangeIndex: 541909 entries, 0 to 541908\n",
            "Data columns (total 8 columns):\n",
            " #   Column       Non-Null Count   Dtype  \n",
            "---  ------       --------------   -----  \n",
            " 0   InvoiceNo    541909 non-null  object \n",
            " 1   StockCode    541909 non-null  object \n",
            " 2   Description  540455 non-null  object \n",
            " 3   Quantity     541909 non-null  int64  \n",
            " 4   InvoiceDate  541909 non-null  object \n",
            " 5   UnitPrice    541909 non-null  float64\n",
            " 6   CustomerID   406829 non-null  float64\n",
            " 7   Country      541909 non-null  object \n",
            "dtypes: float64(2), int64(1), object(5)\n",
            "memory usage: 33.1+ MB\n"
          ],
          "name": "stdout"
        }
      ]
    },
    {
      "cell_type": "code",
      "metadata": {
        "id": "ZK24bCSYTTo5",
        "colab_type": "code",
        "outputId": "6b36e7bd-670b-429d-91dd-af73e1341f87",
        "colab": {
          "base_uri": "https://localhost:8080/",
          "height": 177
        }
      },
      "source": [
        "ecomdata.dtypes"
      ],
      "execution_count": 0,
      "outputs": [
        {
          "output_type": "execute_result",
          "data": {
            "text/plain": [
              "InvoiceNo       object\n",
              "StockCode       object\n",
              "Description     object\n",
              "Quantity         int64\n",
              "InvoiceDate     object\n",
              "UnitPrice      float64\n",
              "CustomerID     float64\n",
              "Country         object\n",
              "dtype: object"
            ]
          },
          "metadata": {
            "tags": []
          },
          "execution_count": 13
        }
      ]
    },
    {
      "cell_type": "markdown",
      "metadata": {
        "id": "XHlPBvUjq_dL",
        "colab_type": "text"
      },
      "source": [
        "#### Checking some priliminary matters:\n",
        "\n",
        "*   Shape of the files , Understand the size of the file dimention\n",
        "*   Basic descriptive , is there any extreme value?\n",
        "*   Is there any missing value?\n",
        "\n"
      ]
    },
    {
      "cell_type": "code",
      "metadata": {
        "id": "OJ1PBOKwTTwP",
        "colab_type": "code",
        "outputId": "34f25d78-3899-424d-c9bc-2dd7514d6a71",
        "colab": {
          "base_uri": "https://localhost:8080/",
          "height": 35
        }
      },
      "source": [
        "ecomdata.shape"
      ],
      "execution_count": 0,
      "outputs": [
        {
          "output_type": "execute_result",
          "data": {
            "text/plain": [
              "(541909, 8)"
            ]
          },
          "metadata": {
            "tags": []
          },
          "execution_count": 14
        }
      ]
    },
    {
      "cell_type": "code",
      "metadata": {
        "id": "UMt3WczH0POe",
        "colab_type": "code",
        "outputId": "7c95fcec-7f31-47d0-b69d-2e9471f5352d",
        "colab": {
          "base_uri": "https://localhost:8080/",
          "height": 291
        }
      },
      "source": [
        "ecomdata.describe() # basic descriptive statistics fr the comumns in neumeric"
      ],
      "execution_count": 0,
      "outputs": [
        {
          "output_type": "execute_result",
          "data": {
            "text/html": [
              "<div>\n",
              "<style scoped>\n",
              "    .dataframe tbody tr th:only-of-type {\n",
              "        vertical-align: middle;\n",
              "    }\n",
              "\n",
              "    .dataframe tbody tr th {\n",
              "        vertical-align: top;\n",
              "    }\n",
              "\n",
              "    .dataframe thead th {\n",
              "        text-align: right;\n",
              "    }\n",
              "</style>\n",
              "<table border=\"1\" class=\"dataframe\">\n",
              "  <thead>\n",
              "    <tr style=\"text-align: right;\">\n",
              "      <th></th>\n",
              "      <th>Quantity</th>\n",
              "      <th>UnitPrice</th>\n",
              "      <th>CustomerID</th>\n",
              "    </tr>\n",
              "  </thead>\n",
              "  <tbody>\n",
              "    <tr>\n",
              "      <th>count</th>\n",
              "      <td>541909.000000</td>\n",
              "      <td>541909.000000</td>\n",
              "      <td>406829.000000</td>\n",
              "    </tr>\n",
              "    <tr>\n",
              "      <th>mean</th>\n",
              "      <td>9.552250</td>\n",
              "      <td>4.611114</td>\n",
              "      <td>15287.690570</td>\n",
              "    </tr>\n",
              "    <tr>\n",
              "      <th>std</th>\n",
              "      <td>218.081158</td>\n",
              "      <td>96.759853</td>\n",
              "      <td>1713.600303</td>\n",
              "    </tr>\n",
              "    <tr>\n",
              "      <th>min</th>\n",
              "      <td>-80995.000000</td>\n",
              "      <td>-11062.060000</td>\n",
              "      <td>12346.000000</td>\n",
              "    </tr>\n",
              "    <tr>\n",
              "      <th>25%</th>\n",
              "      <td>1.000000</td>\n",
              "      <td>1.250000</td>\n",
              "      <td>13953.000000</td>\n",
              "    </tr>\n",
              "    <tr>\n",
              "      <th>50%</th>\n",
              "      <td>3.000000</td>\n",
              "      <td>2.080000</td>\n",
              "      <td>15152.000000</td>\n",
              "    </tr>\n",
              "    <tr>\n",
              "      <th>75%</th>\n",
              "      <td>10.000000</td>\n",
              "      <td>4.130000</td>\n",
              "      <td>16791.000000</td>\n",
              "    </tr>\n",
              "    <tr>\n",
              "      <th>max</th>\n",
              "      <td>80995.000000</td>\n",
              "      <td>38970.000000</td>\n",
              "      <td>18287.000000</td>\n",
              "    </tr>\n",
              "  </tbody>\n",
              "</table>\n",
              "</div>"
            ],
            "text/plain": [
              "            Quantity      UnitPrice     CustomerID\n",
              "count  541909.000000  541909.000000  406829.000000\n",
              "mean        9.552250       4.611114   15287.690570\n",
              "std       218.081158      96.759853    1713.600303\n",
              "min    -80995.000000  -11062.060000   12346.000000\n",
              "25%         1.000000       1.250000   13953.000000\n",
              "50%         3.000000       2.080000   15152.000000\n",
              "75%        10.000000       4.130000   16791.000000\n",
              "max     80995.000000   38970.000000   18287.000000"
            ]
          },
          "metadata": {
            "tags": []
          },
          "execution_count": 15
        }
      ]
    },
    {
      "cell_type": "code",
      "metadata": {
        "id": "lr6WloUB0dtK",
        "colab_type": "code",
        "outputId": "518b9974-7da7-44cd-f722-e7c8af05f6f2",
        "colab": {
          "base_uri": "https://localhost:8080/",
          "height": 177
        }
      },
      "source": [
        "ecomdata.isnull().sum() # Count of nulls by each column"
      ],
      "execution_count": 0,
      "outputs": [
        {
          "output_type": "execute_result",
          "data": {
            "text/plain": [
              "InvoiceNo           0\n",
              "StockCode           0\n",
              "Description      1454\n",
              "Quantity            0\n",
              "InvoiceDate         0\n",
              "UnitPrice           0\n",
              "CustomerID     135080\n",
              "Country             0\n",
              "dtype: int64"
            ]
          },
          "metadata": {
            "tags": []
          },
          "execution_count": 16
        }
      ]
    },
    {
      "cell_type": "markdown",
      "metadata": {
        "id": "gOJhpibazzsQ",
        "colab_type": "text"
      },
      "source": [
        "### Our observation above:\n",
        "\n",
        "\n",
        "*   Date is currently in Object format and hence the operation might be difficult\n",
        "*   There are extreme values both on positive side and negative side\n",
        "*   There are missing values in Description and Customer ID columns \n",
        "*   Columns has capital and small letter as well - sometimes inconvenient for programming \n",
        "\n",
        "Note: Description can be filled based on Unique stock code vs description lookup, but customer ID is a basic beed of the data and hence it is better to drop the data lines which has NULL customer IDs\n",
        "\n"
      ]
    },
    {
      "cell_type": "markdown",
      "metadata": {
        "id": "b-SVmCfi797M",
        "colab_type": "text"
      },
      "source": [
        "### Now you must be thinking that we shall remove outliers?\n",
        "\n",
        "No , not so soon. We need to understad outlier before we take decision of removing them. We shall do it in due course of time before we create **ABT**     (**Analytical Base Table**- This data goes into machine learning model witout any further transformation)"
      ]
    },
    {
      "cell_type": "markdown",
      "metadata": {
        "id": "bHgMB1GMVu3e",
        "colab_type": "text"
      },
      "source": [
        "### Let's first do date operation"
      ]
    },
    {
      "cell_type": "code",
      "metadata": {
        "id": "LyvGgujc0asz",
        "colab_type": "code",
        "outputId": "05912268-3af1-4f3c-8b35-82ad975de930",
        "colab": {
          "base_uri": "https://localhost:8080/",
          "height": 499
        }
      },
      "source": [
        "# Let's start with Date operations. Let's see what are the options it provides\n",
        "help(pd.datetime)"
      ],
      "execution_count": 0,
      "outputs": [
        {
          "output_type": "stream",
          "text": [
            "Help on class __DatetimeSub in module pandas:\n",
            "\n",
            "class __DatetimeSub(builtins.object)\n",
            " |  Methods defined here:\n",
            " |  \n",
            " |  emit_warning(dummy=0)\n",
            " |  \n",
            " |  ----------------------------------------------------------------------\n",
            " |  Static methods defined here:\n",
            " |  \n",
            " |  __new__(cls, *args, **kwargs)\n",
            " |      Create and return a new object.  See help(type) for accurate signature.\n",
            " |  \n",
            " |  ----------------------------------------------------------------------\n",
            " |  Data descriptors defined here:\n",
            " |  \n",
            " |  __dict__\n",
            " |      dictionary for instance variables (if defined)\n",
            " |  \n",
            " |  __weakref__\n",
            " |      list of weak references to the object (if defined)\n",
            "\n"
          ],
          "name": "stdout"
        },
        {
          "output_type": "stream",
          "text": [
            "/usr/lib/python3.6/inspect.py:441: FutureWarning: The pandas.datetime class is deprecated and will be removed from pandas in a future version. Import from datetime instead.\n",
            "  srch_obj = srch_cls.__getattr__(cls, name)\n",
            "/usr/lib/python3.6/pydoc.py:220: FutureWarning: The pandas.datetime class is deprecated and will be removed from pandas in a future version. Import from datetime instead.\n",
            "  fields = getattr(object, '_fields', [])\n"
          ],
          "name": "stderr"
        }
      ]
    },
    {
      "cell_type": "code",
      "metadata": {
        "id": "0O4V0ktvTTUb",
        "colab_type": "code",
        "colab": {}
      },
      "source": [
        "# Date Operation- Converting the Invoice date to DATE\n",
        "\n",
        "ecomdata[\"InvoiceDate\"]= pd.to_datetime(ecomdata.InvoiceDate)"
      ],
      "execution_count": 0,
      "outputs": []
    },
    {
      "cell_type": "code",
      "metadata": {
        "id": "tEIFVWtu23Oo",
        "colab_type": "code",
        "outputId": "bfcd2579-4972-490f-e9a0-0aa8161e21e8",
        "colab": {
          "base_uri": "https://localhost:8080/",
          "height": 177
        }
      },
      "source": [
        "ecomdata.dtypes # Checking whether the type has "
      ],
      "execution_count": 0,
      "outputs": [
        {
          "output_type": "execute_result",
          "data": {
            "text/plain": [
              "InvoiceNo              object\n",
              "StockCode              object\n",
              "Description            object\n",
              "Quantity                int64\n",
              "InvoiceDate    datetime64[ns]\n",
              "UnitPrice             float64\n",
              "CustomerID            float64\n",
              "Country                object\n",
              "dtype: object"
            ]
          },
          "metadata": {
            "tags": []
          },
          "execution_count": 19
        }
      ]
    },
    {
      "cell_type": "markdown",
      "metadata": {
        "id": "QaLVgZm32_Db",
        "colab_type": "text"
      },
      "source": [
        "after coverting date time we can explore all the options to extract all info using below code +TAB\n",
        "\n",
        "CODE:\n",
        "ecomdata.InvoiceDate.dt."
      ]
    },
    {
      "cell_type": "markdown",
      "metadata": {
        "id": "RdyU8go-30L4",
        "colab_type": "text"
      },
      "source": [
        "### Let's Do Date operation in a different way, Using lambda function. This will help us to learn and apply in many other occisions "
      ]
    },
    {
      "cell_type": "code",
      "metadata": {
        "id": "6x5iAzrf4eU7",
        "colab_type": "code",
        "outputId": "99e2d599-78ef-4733-89f4-0f6956baaaf9",
        "colab": {
          "base_uri": "https://localhost:8080/",
          "height": 200
        }
      },
      "source": [
        "ecomdata[:5]"
      ],
      "execution_count": 0,
      "outputs": [
        {
          "output_type": "execute_result",
          "data": {
            "text/html": [
              "<div>\n",
              "<style scoped>\n",
              "    .dataframe tbody tr th:only-of-type {\n",
              "        vertical-align: middle;\n",
              "    }\n",
              "\n",
              "    .dataframe tbody tr th {\n",
              "        vertical-align: top;\n",
              "    }\n",
              "\n",
              "    .dataframe thead th {\n",
              "        text-align: right;\n",
              "    }\n",
              "</style>\n",
              "<table border=\"1\" class=\"dataframe\">\n",
              "  <thead>\n",
              "    <tr style=\"text-align: right;\">\n",
              "      <th></th>\n",
              "      <th>InvoiceNo</th>\n",
              "      <th>StockCode</th>\n",
              "      <th>Description</th>\n",
              "      <th>Quantity</th>\n",
              "      <th>InvoiceDate</th>\n",
              "      <th>UnitPrice</th>\n",
              "      <th>CustomerID</th>\n",
              "      <th>Country</th>\n",
              "    </tr>\n",
              "  </thead>\n",
              "  <tbody>\n",
              "    <tr>\n",
              "      <th>0</th>\n",
              "      <td>536365</td>\n",
              "      <td>85123A</td>\n",
              "      <td>WHITE HANGING HEART T-LIGHT HOLDER</td>\n",
              "      <td>6</td>\n",
              "      <td>12/1/2010 8:26</td>\n",
              "      <td>2.55</td>\n",
              "      <td>17850.0</td>\n",
              "      <td>United Kingdom</td>\n",
              "    </tr>\n",
              "    <tr>\n",
              "      <th>1</th>\n",
              "      <td>536365</td>\n",
              "      <td>71053</td>\n",
              "      <td>WHITE METAL LANTERN</td>\n",
              "      <td>6</td>\n",
              "      <td>12/1/2010 8:26</td>\n",
              "      <td>3.39</td>\n",
              "      <td>17850.0</td>\n",
              "      <td>United Kingdom</td>\n",
              "    </tr>\n",
              "    <tr>\n",
              "      <th>2</th>\n",
              "      <td>536365</td>\n",
              "      <td>84406B</td>\n",
              "      <td>CREAM CUPID HEARTS COAT HANGER</td>\n",
              "      <td>8</td>\n",
              "      <td>12/1/2010 8:26</td>\n",
              "      <td>2.75</td>\n",
              "      <td>17850.0</td>\n",
              "      <td>United Kingdom</td>\n",
              "    </tr>\n",
              "    <tr>\n",
              "      <th>3</th>\n",
              "      <td>536365</td>\n",
              "      <td>84029G</td>\n",
              "      <td>KNITTED UNION FLAG HOT WATER BOTTLE</td>\n",
              "      <td>6</td>\n",
              "      <td>12/1/2010 8:26</td>\n",
              "      <td>3.39</td>\n",
              "      <td>17850.0</td>\n",
              "      <td>United Kingdom</td>\n",
              "    </tr>\n",
              "    <tr>\n",
              "      <th>4</th>\n",
              "      <td>536365</td>\n",
              "      <td>84029E</td>\n",
              "      <td>RED WOOLLY HOTTIE WHITE HEART.</td>\n",
              "      <td>6</td>\n",
              "      <td>12/1/2010 8:26</td>\n",
              "      <td>3.39</td>\n",
              "      <td>17850.0</td>\n",
              "      <td>United Kingdom</td>\n",
              "    </tr>\n",
              "  </tbody>\n",
              "</table>\n",
              "</div>"
            ],
            "text/plain": [
              "  InvoiceNo StockCode  ... CustomerID         Country\n",
              "0    536365    85123A  ...    17850.0  United Kingdom\n",
              "1    536365     71053  ...    17850.0  United Kingdom\n",
              "2    536365    84406B  ...    17850.0  United Kingdom\n",
              "3    536365    84029G  ...    17850.0  United Kingdom\n",
              "4    536365    84029E  ...    17850.0  United Kingdom\n",
              "\n",
              "[5 rows x 8 columns]"
            ]
          },
          "metadata": {
            "tags": []
          },
          "execution_count": 21
        }
      ]
    },
    {
      "cell_type": "code",
      "metadata": {
        "id": "7p7OLTne26Jd",
        "colab_type": "code",
        "outputId": "e870b8db-a9de-4de7-a2b1-f135f586719f",
        "colab": {
          "base_uri": "https://localhost:8080/",
          "height": 124
        }
      },
      "source": [
        "# Another way to do it: Using lambda function and splitting the string based on space \n",
        "ecomdata[:5].InvoiceDate.apply(lambda X: X.split())"
      ],
      "execution_count": 0,
      "outputs": [
        {
          "output_type": "execute_result",
          "data": {
            "text/plain": [
              "0    [12/1/2010, 8:26]\n",
              "1    [12/1/2010, 8:26]\n",
              "2    [12/1/2010, 8:26]\n",
              "3    [12/1/2010, 8:26]\n",
              "4    [12/1/2010, 8:26]\n",
              "Name: InvoiceDate, dtype: object"
            ]
          },
          "metadata": {
            "tags": []
          },
          "execution_count": 22
        }
      ]
    },
    {
      "cell_type": "code",
      "metadata": {
        "id": "mS3YY1fB3zIZ",
        "colab_type": "code",
        "outputId": "6fb0892c-6aa9-4591-9580-7ae46d6a90f6",
        "colab": {
          "base_uri": "https://localhost:8080/",
          "height": 124
        }
      },
      "source": [
        "# Can we select only the first part of the string split\n",
        "ecomdata[:5].InvoiceDate.apply(lambda X: X.split()[0])"
      ],
      "execution_count": 0,
      "outputs": [
        {
          "output_type": "execute_result",
          "data": {
            "text/plain": [
              "0    12/1/2010\n",
              "1    12/1/2010\n",
              "2    12/1/2010\n",
              "3    12/1/2010\n",
              "4    12/1/2010\n",
              "Name: InvoiceDate, dtype: object"
            ]
          },
          "metadata": {
            "tags": []
          },
          "execution_count": 23
        }
      ]
    },
    {
      "cell_type": "code",
      "metadata": {
        "id": "nYR5rqE03uX1",
        "colab_type": "code",
        "colab": {}
      },
      "source": [
        "# Let's now apply this on the complete ecom data for Invoice Date column\n",
        "ecomdata[\"newdate\"] = ecomdata.InvoiceDate.apply(lambda X: X.split()[0])"
      ],
      "execution_count": 0,
      "outputs": []
    },
    {
      "cell_type": "code",
      "metadata": {
        "id": "AhEY3H7w5k-A",
        "colab_type": "code",
        "outputId": "4351abc7-e9af-43e1-8cd7-3b7a50d9426a",
        "colab": {
          "base_uri": "https://localhost:8080/",
          "height": 139
        }
      },
      "source": [
        "ecomdata.head(3)"
      ],
      "execution_count": 0,
      "outputs": [
        {
          "output_type": "execute_result",
          "data": {
            "text/html": [
              "<div>\n",
              "<style scoped>\n",
              "    .dataframe tbody tr th:only-of-type {\n",
              "        vertical-align: middle;\n",
              "    }\n",
              "\n",
              "    .dataframe tbody tr th {\n",
              "        vertical-align: top;\n",
              "    }\n",
              "\n",
              "    .dataframe thead th {\n",
              "        text-align: right;\n",
              "    }\n",
              "</style>\n",
              "<table border=\"1\" class=\"dataframe\">\n",
              "  <thead>\n",
              "    <tr style=\"text-align: right;\">\n",
              "      <th></th>\n",
              "      <th>InvoiceNo</th>\n",
              "      <th>StockCode</th>\n",
              "      <th>Description</th>\n",
              "      <th>Quantity</th>\n",
              "      <th>InvoiceDate</th>\n",
              "      <th>UnitPrice</th>\n",
              "      <th>CustomerID</th>\n",
              "      <th>Country</th>\n",
              "      <th>newdate</th>\n",
              "    </tr>\n",
              "  </thead>\n",
              "  <tbody>\n",
              "    <tr>\n",
              "      <th>0</th>\n",
              "      <td>536365</td>\n",
              "      <td>85123A</td>\n",
              "      <td>WHITE HANGING HEART T-LIGHT HOLDER</td>\n",
              "      <td>6</td>\n",
              "      <td>12/1/2010 8:26</td>\n",
              "      <td>2.55</td>\n",
              "      <td>17850.0</td>\n",
              "      <td>United Kingdom</td>\n",
              "      <td>12/1/2010</td>\n",
              "    </tr>\n",
              "    <tr>\n",
              "      <th>1</th>\n",
              "      <td>536365</td>\n",
              "      <td>71053</td>\n",
              "      <td>WHITE METAL LANTERN</td>\n",
              "      <td>6</td>\n",
              "      <td>12/1/2010 8:26</td>\n",
              "      <td>3.39</td>\n",
              "      <td>17850.0</td>\n",
              "      <td>United Kingdom</td>\n",
              "      <td>12/1/2010</td>\n",
              "    </tr>\n",
              "    <tr>\n",
              "      <th>2</th>\n",
              "      <td>536365</td>\n",
              "      <td>84406B</td>\n",
              "      <td>CREAM CUPID HEARTS COAT HANGER</td>\n",
              "      <td>8</td>\n",
              "      <td>12/1/2010 8:26</td>\n",
              "      <td>2.75</td>\n",
              "      <td>17850.0</td>\n",
              "      <td>United Kingdom</td>\n",
              "      <td>12/1/2010</td>\n",
              "    </tr>\n",
              "  </tbody>\n",
              "</table>\n",
              "</div>"
            ],
            "text/plain": [
              "  InvoiceNo StockCode  ...         Country    newdate\n",
              "0    536365    85123A  ...  United Kingdom  12/1/2010\n",
              "1    536365     71053  ...  United Kingdom  12/1/2010\n",
              "2    536365    84406B  ...  United Kingdom  12/1/2010\n",
              "\n",
              "[3 rows x 9 columns]"
            ]
          },
          "metadata": {
            "tags": []
          },
          "execution_count": 25
        }
      ]
    },
    {
      "cell_type": "code",
      "metadata": {
        "id": "B33FF5IJ5sZR",
        "colab_type": "code",
        "colab": {}
      },
      "source": [
        "# now converting the \"newdate\" to date time type\n",
        "\n",
        "ecomdata[\"newdate\"]= pd.to_datetime(ecomdata.newdate)"
      ],
      "execution_count": 0,
      "outputs": []
    },
    {
      "cell_type": "code",
      "metadata": {
        "id": "qCICuTiC6FVq",
        "colab_type": "code",
        "outputId": "e8d55d5b-84ce-4cb0-a96d-c510272a60c9",
        "colab": {
          "base_uri": "https://localhost:8080/",
          "height": 212
        }
      },
      "source": [
        "# Shrinking the date time feaure to only date \n",
        "\n",
        "ecomdata[:10].newdate.dt.date"
      ],
      "execution_count": 0,
      "outputs": [
        {
          "output_type": "execute_result",
          "data": {
            "text/plain": [
              "0    2010-12-01\n",
              "1    2010-12-01\n",
              "2    2010-12-01\n",
              "3    2010-12-01\n",
              "4    2010-12-01\n",
              "5    2010-12-01\n",
              "6    2010-12-01\n",
              "7    2010-12-01\n",
              "8    2010-12-01\n",
              "9    2010-12-01\n",
              "Name: newdate, dtype: object"
            ]
          },
          "metadata": {
            "tags": []
          },
          "execution_count": 27
        }
      ]
    },
    {
      "cell_type": "markdown",
      "metadata": {
        "id": "Emab6dDvV0l5",
        "colab_type": "text"
      },
      "source": [
        "### Let's now remove Nulls"
      ]
    },
    {
      "cell_type": "code",
      "metadata": {
        "id": "FdqDgVOoCI4Q",
        "colab_type": "code",
        "outputId": "d1d82ed8-a507-4fcb-99fc-f3c7096d45f4",
        "colab": {
          "base_uri": "https://localhost:8080/",
          "height": 411
        }
      },
      "source": [
        "# finding the data subset which has NaN in Description\n",
        "ecomdata[ecomdata.description.isnull()]"
      ],
      "execution_count": 0,
      "outputs": [
        {
          "output_type": "execute_result",
          "data": {
            "text/html": [
              "<div>\n",
              "<style scoped>\n",
              "    .dataframe tbody tr th:only-of-type {\n",
              "        vertical-align: middle;\n",
              "    }\n",
              "\n",
              "    .dataframe tbody tr th {\n",
              "        vertical-align: top;\n",
              "    }\n",
              "\n",
              "    .dataframe thead th {\n",
              "        text-align: right;\n",
              "    }\n",
              "</style>\n",
              "<table border=\"1\" class=\"dataframe\">\n",
              "  <thead>\n",
              "    <tr style=\"text-align: right;\">\n",
              "      <th></th>\n",
              "      <th>invoiceno</th>\n",
              "      <th>stockcode</th>\n",
              "      <th>description</th>\n",
              "      <th>quantity</th>\n",
              "      <th>invoicedate</th>\n",
              "      <th>unitprice</th>\n",
              "      <th>customerid</th>\n",
              "      <th>country</th>\n",
              "      <th>newdate</th>\n",
              "    </tr>\n",
              "  </thead>\n",
              "  <tbody>\n",
              "    <tr>\n",
              "      <th>622</th>\n",
              "      <td>536414</td>\n",
              "      <td>22139</td>\n",
              "      <td>NaN</td>\n",
              "      <td>56</td>\n",
              "      <td>12/1/2010 11:52</td>\n",
              "      <td>0.0</td>\n",
              "      <td>NaN</td>\n",
              "      <td>United Kingdom</td>\n",
              "      <td>2010-12-01</td>\n",
              "    </tr>\n",
              "    <tr>\n",
              "      <th>1970</th>\n",
              "      <td>536545</td>\n",
              "      <td>21134</td>\n",
              "      <td>NaN</td>\n",
              "      <td>1</td>\n",
              "      <td>12/1/2010 14:32</td>\n",
              "      <td>0.0</td>\n",
              "      <td>NaN</td>\n",
              "      <td>United Kingdom</td>\n",
              "      <td>2010-12-01</td>\n",
              "    </tr>\n",
              "    <tr>\n",
              "      <th>1971</th>\n",
              "      <td>536546</td>\n",
              "      <td>22145</td>\n",
              "      <td>NaN</td>\n",
              "      <td>1</td>\n",
              "      <td>12/1/2010 14:33</td>\n",
              "      <td>0.0</td>\n",
              "      <td>NaN</td>\n",
              "      <td>United Kingdom</td>\n",
              "      <td>2010-12-01</td>\n",
              "    </tr>\n",
              "    <tr>\n",
              "      <th>1972</th>\n",
              "      <td>536547</td>\n",
              "      <td>37509</td>\n",
              "      <td>NaN</td>\n",
              "      <td>1</td>\n",
              "      <td>12/1/2010 14:33</td>\n",
              "      <td>0.0</td>\n",
              "      <td>NaN</td>\n",
              "      <td>United Kingdom</td>\n",
              "      <td>2010-12-01</td>\n",
              "    </tr>\n",
              "    <tr>\n",
              "      <th>1987</th>\n",
              "      <td>536549</td>\n",
              "      <td>85226A</td>\n",
              "      <td>NaN</td>\n",
              "      <td>1</td>\n",
              "      <td>12/1/2010 14:34</td>\n",
              "      <td>0.0</td>\n",
              "      <td>NaN</td>\n",
              "      <td>United Kingdom</td>\n",
              "      <td>2010-12-01</td>\n",
              "    </tr>\n",
              "    <tr>\n",
              "      <th>...</th>\n",
              "      <td>...</td>\n",
              "      <td>...</td>\n",
              "      <td>...</td>\n",
              "      <td>...</td>\n",
              "      <td>...</td>\n",
              "      <td>...</td>\n",
              "      <td>...</td>\n",
              "      <td>...</td>\n",
              "      <td>...</td>\n",
              "    </tr>\n",
              "    <tr>\n",
              "      <th>535322</th>\n",
              "      <td>581199</td>\n",
              "      <td>84581</td>\n",
              "      <td>NaN</td>\n",
              "      <td>-2</td>\n",
              "      <td>12/7/2011 18:26</td>\n",
              "      <td>0.0</td>\n",
              "      <td>NaN</td>\n",
              "      <td>United Kingdom</td>\n",
              "      <td>2011-12-07</td>\n",
              "    </tr>\n",
              "    <tr>\n",
              "      <th>535326</th>\n",
              "      <td>581203</td>\n",
              "      <td>23406</td>\n",
              "      <td>NaN</td>\n",
              "      <td>15</td>\n",
              "      <td>12/7/2011 18:31</td>\n",
              "      <td>0.0</td>\n",
              "      <td>NaN</td>\n",
              "      <td>United Kingdom</td>\n",
              "      <td>2011-12-07</td>\n",
              "    </tr>\n",
              "    <tr>\n",
              "      <th>535332</th>\n",
              "      <td>581209</td>\n",
              "      <td>21620</td>\n",
              "      <td>NaN</td>\n",
              "      <td>6</td>\n",
              "      <td>12/7/2011 18:35</td>\n",
              "      <td>0.0</td>\n",
              "      <td>NaN</td>\n",
              "      <td>United Kingdom</td>\n",
              "      <td>2011-12-07</td>\n",
              "    </tr>\n",
              "    <tr>\n",
              "      <th>536981</th>\n",
              "      <td>581234</td>\n",
              "      <td>72817</td>\n",
              "      <td>NaN</td>\n",
              "      <td>27</td>\n",
              "      <td>12/8/2011 10:33</td>\n",
              "      <td>0.0</td>\n",
              "      <td>NaN</td>\n",
              "      <td>United Kingdom</td>\n",
              "      <td>2011-12-08</td>\n",
              "    </tr>\n",
              "    <tr>\n",
              "      <th>538554</th>\n",
              "      <td>581408</td>\n",
              "      <td>85175</td>\n",
              "      <td>NaN</td>\n",
              "      <td>20</td>\n",
              "      <td>12/8/2011 14:06</td>\n",
              "      <td>0.0</td>\n",
              "      <td>NaN</td>\n",
              "      <td>United Kingdom</td>\n",
              "      <td>2011-12-08</td>\n",
              "    </tr>\n",
              "  </tbody>\n",
              "</table>\n",
              "<p>1454 rows × 9 columns</p>\n",
              "</div>"
            ],
            "text/plain": [
              "       invoiceno stockcode description  ...  customerid         country    newdate\n",
              "622       536414     22139         NaN  ...         NaN  United Kingdom 2010-12-01\n",
              "1970      536545     21134         NaN  ...         NaN  United Kingdom 2010-12-01\n",
              "1971      536546     22145         NaN  ...         NaN  United Kingdom 2010-12-01\n",
              "1972      536547     37509         NaN  ...         NaN  United Kingdom 2010-12-01\n",
              "1987      536549    85226A         NaN  ...         NaN  United Kingdom 2010-12-01\n",
              "...          ...       ...         ...  ...         ...             ...        ...\n",
              "535322    581199     84581         NaN  ...         NaN  United Kingdom 2011-12-07\n",
              "535326    581203     23406         NaN  ...         NaN  United Kingdom 2011-12-07\n",
              "535332    581209     21620         NaN  ...         NaN  United Kingdom 2011-12-07\n",
              "536981    581234     72817         NaN  ...         NaN  United Kingdom 2011-12-08\n",
              "538554    581408     85175         NaN  ...         NaN  United Kingdom 2011-12-08\n",
              "\n",
              "[1454 rows x 9 columns]"
            ]
          },
          "metadata": {
            "tags": []
          },
          "execution_count": 68
        }
      ]
    },
    {
      "cell_type": "code",
      "metadata": {
        "id": "fp4uHfWe6IRo",
        "colab_type": "code",
        "colab": {}
      },
      "source": [
        "# let's remove nulls in customer id which are null\n",
        "ecomnew= ecomdata[~ecomdata.CustomerID.isnull()].copy() \n"
      ],
      "execution_count": 0,
      "outputs": []
    },
    {
      "cell_type": "markdown",
      "metadata": {
        "id": "iWyGB2B7r8ef",
        "colab_type": "text"
      },
      "source": [
        "In the above operation we have used an additional function \".copy()\" . This helps to create complete dataframe from ecom data. \n",
        "\n",
        "If we don't use this then after creating the new data file in case if we decide to chage the old file data it woud impact the new data file as well. The reason being python applies all functions as mask on the data. by giving .copy command we are actually asking us to execute thr command and create the dataframe now instead of creating mask."
      ]
    },
    {
      "cell_type": "code",
      "metadata": {
        "id": "K6_RZy7MV5Lr",
        "colab_type": "code",
        "outputId": "01b48cd3-104c-4d1c-853d-93c1426be534",
        "colab": {
          "base_uri": "https://localhost:8080/",
          "height": 192
        }
      },
      "source": [
        "ecomnew.isnull().sum()"
      ],
      "execution_count": 13,
      "outputs": [
        {
          "output_type": "execute_result",
          "data": {
            "text/plain": [
              "InvoiceNo      0\n",
              "StockCode      0\n",
              "Description    0\n",
              "Quantity       0\n",
              "InvoiceDate    0\n",
              "UnitPrice      0\n",
              "CustomerID     0\n",
              "Country        0\n",
              "newdate        0\n",
              "dtype: int64"
            ]
          },
          "metadata": {
            "tags": []
          },
          "execution_count": 13
        }
      ]
    },
    {
      "cell_type": "markdown",
      "metadata": {
        "id": "Vdk2O_kaWnLF",
        "colab_type": "text"
      },
      "source": [
        "### Let's change all the column header to lower case"
      ]
    },
    {
      "cell_type": "code",
      "metadata": {
        "id": "EA0dGCd6V9Ig",
        "colab_type": "code",
        "outputId": "4e2e58d4-de65-4064-9771-0bbbf0d294c4",
        "colab": {
          "base_uri": "https://localhost:8080/",
          "height": 69
        }
      },
      "source": [
        "ecomnew.columns # this output a list , hence to change this, we ned to do list comprehension"
      ],
      "execution_count": 14,
      "outputs": [
        {
          "output_type": "execute_result",
          "data": {
            "text/plain": [
              "Index(['InvoiceNo', 'StockCode', 'Description', 'Quantity', 'InvoiceDate',\n",
              "       'UnitPrice', 'CustomerID', 'Country', 'newdate'],\n",
              "      dtype='object')"
            ]
          },
          "metadata": {
            "tags": []
          },
          "execution_count": 14
        }
      ]
    },
    {
      "cell_type": "code",
      "metadata": {
        "id": "kFs1R86qWMms",
        "colab_type": "code",
        "outputId": "42943137-2373-4ca5-c145-0f53bb184860",
        "colab": {
          "base_uri": "https://localhost:8080/",
          "height": 174
        }
      },
      "source": [
        "# For ease of operation we can put all the columns names in to lower case\n",
        "[i.lower() for i in ecomnew.columns]"
      ],
      "execution_count": 15,
      "outputs": [
        {
          "output_type": "execute_result",
          "data": {
            "text/plain": [
              "['invoiceno',\n",
              " 'stockcode',\n",
              " 'description',\n",
              " 'quantity',\n",
              " 'invoicedate',\n",
              " 'unitprice',\n",
              " 'customerid',\n",
              " 'country',\n",
              " 'newdate']"
            ]
          },
          "metadata": {
            "tags": []
          },
          "execution_count": 15
        }
      ]
    },
    {
      "cell_type": "code",
      "metadata": {
        "id": "zbTBeOnWXKrr",
        "colab_type": "code",
        "colab": {}
      },
      "source": [
        "ecomnew.columns = [i.lower() for i in ecomnew.columns]"
      ],
      "execution_count": 0,
      "outputs": []
    },
    {
      "cell_type": "code",
      "metadata": {
        "id": "0r5ZDbazXiMj",
        "colab_type": "code",
        "outputId": "8d1bd02b-2acc-4c39-897f-42c73c3c35dd",
        "colab": {
          "base_uri": "https://localhost:8080/",
          "height": 137
        }
      },
      "source": [
        "ecomnew.head(3)"
      ],
      "execution_count": 18,
      "outputs": [
        {
          "output_type": "execute_result",
          "data": {
            "text/html": [
              "<div>\n",
              "<style scoped>\n",
              "    .dataframe tbody tr th:only-of-type {\n",
              "        vertical-align: middle;\n",
              "    }\n",
              "\n",
              "    .dataframe tbody tr th {\n",
              "        vertical-align: top;\n",
              "    }\n",
              "\n",
              "    .dataframe thead th {\n",
              "        text-align: right;\n",
              "    }\n",
              "</style>\n",
              "<table border=\"1\" class=\"dataframe\">\n",
              "  <thead>\n",
              "    <tr style=\"text-align: right;\">\n",
              "      <th></th>\n",
              "      <th>invoiceno</th>\n",
              "      <th>stockcode</th>\n",
              "      <th>description</th>\n",
              "      <th>quantity</th>\n",
              "      <th>invoicedate</th>\n",
              "      <th>unitprice</th>\n",
              "      <th>customerid</th>\n",
              "      <th>country</th>\n",
              "      <th>newdate</th>\n",
              "    </tr>\n",
              "  </thead>\n",
              "  <tbody>\n",
              "    <tr>\n",
              "      <th>0</th>\n",
              "      <td>536365</td>\n",
              "      <td>85123A</td>\n",
              "      <td>WHITE HANGING HEART T-LIGHT HOLDER</td>\n",
              "      <td>6</td>\n",
              "      <td>12/1/2010 8:26</td>\n",
              "      <td>2.55</td>\n",
              "      <td>17850.0</td>\n",
              "      <td>United Kingdom</td>\n",
              "      <td>2010-12-01</td>\n",
              "    </tr>\n",
              "    <tr>\n",
              "      <th>1</th>\n",
              "      <td>536365</td>\n",
              "      <td>71053</td>\n",
              "      <td>WHITE METAL LANTERN</td>\n",
              "      <td>6</td>\n",
              "      <td>12/1/2010 8:26</td>\n",
              "      <td>3.39</td>\n",
              "      <td>17850.0</td>\n",
              "      <td>United Kingdom</td>\n",
              "      <td>2010-12-01</td>\n",
              "    </tr>\n",
              "    <tr>\n",
              "      <th>2</th>\n",
              "      <td>536365</td>\n",
              "      <td>84406B</td>\n",
              "      <td>CREAM CUPID HEARTS COAT HANGER</td>\n",
              "      <td>8</td>\n",
              "      <td>12/1/2010 8:26</td>\n",
              "      <td>2.75</td>\n",
              "      <td>17850.0</td>\n",
              "      <td>United Kingdom</td>\n",
              "      <td>2010-12-01</td>\n",
              "    </tr>\n",
              "  </tbody>\n",
              "</table>\n",
              "</div>"
            ],
            "text/plain": [
              "  invoiceno stockcode  ...         country    newdate\n",
              "0    536365    85123A  ...  United Kingdom 2010-12-01\n",
              "1    536365     71053  ...  United Kingdom 2010-12-01\n",
              "2    536365    84406B  ...  United Kingdom 2010-12-01\n",
              "\n",
              "[3 rows x 9 columns]"
            ]
          },
          "metadata": {
            "tags": []
          },
          "execution_count": 18
        }
      ]
    },
    {
      "cell_type": "markdown",
      "metadata": {
        "id": "VwrXIV2R_gPA",
        "colab_type": "text"
      },
      "source": [
        "## Let's do some exploration of the data before doing any operation on this. \n",
        "\n",
        "Data is the most importnat thing. You dont's understand data, you can not apply right science. In my experience in this filed for last 14 years , data has managed to surprise me every time with new variations and unknowen patterns.\n",
        "\n",
        "I want to share the same with all the budding data scientist. Understand your data like your girlfriend and you will know how she will react to any situation or science.\n",
        "\n",
        "Turst me on this there is no better match than a near-perfet understanding.\n",
        "\n",
        "\n",
        "\n",
        "        I shall try to give some glimps of the data exploration(it's never enough though )\n",
        "        Where ever you have doubt , please extract the data and put it in simple excel and understand deeper."
      ]
    },
    {
      "cell_type": "markdown",
      "metadata": {
        "id": "XihDyrbDC6cr",
        "colab_type": "text"
      },
      "source": [
        "## Let's Play now: "
      ]
    },
    {
      "cell_type": "code",
      "metadata": {
        "id": "JhQcRjByYEou",
        "colab_type": "code",
        "outputId": "7381e19b-aacb-4a1c-ca70-c19950fecd33",
        "colab": {
          "base_uri": "https://localhost:8080/",
          "height": 227
        }
      },
      "source": [
        "# Data frame consist of Row and columns and both the index starts from 0 . So DF[0,0] gives you the first row and first column value.\n",
        "\n",
        "ecomnew.iloc[:,1] # extracting 2nd column data for all rows from the data frame"
      ],
      "execution_count": 19,
      "outputs": [
        {
          "output_type": "execute_result",
          "data": {
            "text/plain": [
              "0         85123A\n",
              "1          71053\n",
              "2         84406B\n",
              "3         84029G\n",
              "4         84029E\n",
              "           ...  \n",
              "541904     22613\n",
              "541905     22899\n",
              "541906     23254\n",
              "541907     23255\n",
              "541908     22138\n",
              "Name: stockcode, Length: 406829, dtype: object"
            ]
          },
          "metadata": {
            "tags": []
          },
          "execution_count": 19
        }
      ]
    },
    {
      "cell_type": "code",
      "metadata": {
        "id": "QupypmnICAix",
        "colab_type": "code",
        "outputId": "2cddb956-c3ff-4111-ce84-3ef7c2cc7f80",
        "colab": {
          "base_uri": "https://localhost:8080/",
          "height": 192
        }
      },
      "source": [
        "ecomnew.iloc[1] # we are just extracting the 2nd row of the data"
      ],
      "execution_count": 20,
      "outputs": [
        {
          "output_type": "execute_result",
          "data": {
            "text/plain": [
              "invoiceno                   536365\n",
              "stockcode                    71053\n",
              "description    WHITE METAL LANTERN\n",
              "quantity                         6\n",
              "invoicedate         12/1/2010 8:26\n",
              "unitprice                     3.39\n",
              "customerid                   17850\n",
              "country             United Kingdom\n",
              "newdate        2010-12-01 00:00:00\n",
              "Name: 1, dtype: object"
            ]
          },
          "metadata": {
            "tags": []
          },
          "execution_count": 20
        }
      ]
    },
    {
      "cell_type": "code",
      "metadata": {
        "id": "Vsp95ylJCGDD",
        "colab_type": "code",
        "outputId": "e6b14628-a195-4e38-90d2-1e1780f74f2a",
        "colab": {
          "base_uri": "https://localhost:8080/",
          "height": 34
        }
      },
      "source": [
        "ecomnew.iloc[10,0] # 10th row first column "
      ],
      "execution_count": 21,
      "outputs": [
        {
          "output_type": "execute_result",
          "data": {
            "text/plain": [
              "'536367'"
            ]
          },
          "metadata": {
            "tags": []
          },
          "execution_count": 21
        }
      ]
    },
    {
      "cell_type": "code",
      "metadata": {
        "id": "v5wyjCuUD8v2",
        "colab_type": "code",
        "outputId": "8ad3ca67-0783-4318-b219-5b9adde9632e",
        "colab": {
          "base_uri": "https://localhost:8080/",
          "height": 137
        }
      },
      "source": [
        "# Let's now see the distribution of the data , In pandas we can jut get the descriptive stats for only numeric features unlike R which gives for everything\n",
        "# .T stands for transpose the output\n",
        "ecomnew.describe().T"
      ],
      "execution_count": 23,
      "outputs": [
        {
          "output_type": "execute_result",
          "data": {
            "text/html": [
              "<div>\n",
              "<style scoped>\n",
              "    .dataframe tbody tr th:only-of-type {\n",
              "        vertical-align: middle;\n",
              "    }\n",
              "\n",
              "    .dataframe tbody tr th {\n",
              "        vertical-align: top;\n",
              "    }\n",
              "\n",
              "    .dataframe thead th {\n",
              "        text-align: right;\n",
              "    }\n",
              "</style>\n",
              "<table border=\"1\" class=\"dataframe\">\n",
              "  <thead>\n",
              "    <tr style=\"text-align: right;\">\n",
              "      <th></th>\n",
              "      <th>count</th>\n",
              "      <th>mean</th>\n",
              "      <th>std</th>\n",
              "      <th>min</th>\n",
              "      <th>25%</th>\n",
              "      <th>50%</th>\n",
              "      <th>75%</th>\n",
              "      <th>max</th>\n",
              "    </tr>\n",
              "  </thead>\n",
              "  <tbody>\n",
              "    <tr>\n",
              "      <th>quantity</th>\n",
              "      <td>406829.0</td>\n",
              "      <td>12.061303</td>\n",
              "      <td>248.693370</td>\n",
              "      <td>-80995.0</td>\n",
              "      <td>2.00</td>\n",
              "      <td>5.00</td>\n",
              "      <td>12.00</td>\n",
              "      <td>80995.0</td>\n",
              "    </tr>\n",
              "    <tr>\n",
              "      <th>unitprice</th>\n",
              "      <td>406829.0</td>\n",
              "      <td>3.460471</td>\n",
              "      <td>69.315162</td>\n",
              "      <td>0.0</td>\n",
              "      <td>1.25</td>\n",
              "      <td>1.95</td>\n",
              "      <td>3.75</td>\n",
              "      <td>38970.0</td>\n",
              "    </tr>\n",
              "    <tr>\n",
              "      <th>customerid</th>\n",
              "      <td>406829.0</td>\n",
              "      <td>15287.690570</td>\n",
              "      <td>1713.600303</td>\n",
              "      <td>12346.0</td>\n",
              "      <td>13953.00</td>\n",
              "      <td>15152.00</td>\n",
              "      <td>16791.00</td>\n",
              "      <td>18287.0</td>\n",
              "    </tr>\n",
              "  </tbody>\n",
              "</table>\n",
              "</div>"
            ],
            "text/plain": [
              "               count          mean          std  ...       50%       75%      max\n",
              "quantity    406829.0     12.061303   248.693370  ...      5.00     12.00  80995.0\n",
              "unitprice   406829.0      3.460471    69.315162  ...      1.95      3.75  38970.0\n",
              "customerid  406829.0  15287.690570  1713.600303  ...  15152.00  16791.00  18287.0\n",
              "\n",
              "[3 rows x 8 columns]"
            ]
          },
          "metadata": {
            "tags": []
          },
          "execution_count": 23
        }
      ]
    },
    {
      "cell_type": "code",
      "metadata": {
        "id": "OT4Ef4H1EsDL",
        "colab_type": "code",
        "outputId": "8a90122d-183e-4ce5-d2b6-6a887f3da6f3",
        "colab": {
          "base_uri": "https://localhost:8080/",
          "height": 174
        }
      },
      "source": [
        "# Checking where cutomers arre doing transaction more than 1000 units\n",
        "\n",
        "print(ecomnew[ecomnew.quantity > 1000].head(6))"
      ],
      "execution_count": 24,
      "outputs": [
        {
          "output_type": "stream",
          "text": [
            "      invoiceno stockcode  ...         country    newdate\n",
            "4850     536809     84950  ...  United Kingdom 2010-12-02\n",
            "4945     536830     84077  ...  United Kingdom 2010-12-02\n",
            "4946     536830     21915  ...  United Kingdom 2010-12-02\n",
            "6365     536890    17084R  ...            EIRE 2010-12-03\n",
            "16435    537659     22189  ...  United Kingdom 2010-12-07\n",
            "16436    537659     22188  ...  United Kingdom 2010-12-07\n",
            "\n",
            "[6 rows x 9 columns]\n"
          ],
          "name": "stdout"
        }
      ]
    },
    {
      "cell_type": "code",
      "metadata": {
        "id": "Bt-0FJ_KFHq6",
        "colab_type": "code",
        "outputId": "b1b43995-740b-4a55-ad73-fc96742ca2b7",
        "colab": {
          "base_uri": "https://localhost:8080/",
          "height": 682
        }
      },
      "source": [
        "# Understanding the frequency count of the countries \n",
        "ecomnew.country.value_counts()"
      ],
      "execution_count": 25,
      "outputs": [
        {
          "output_type": "execute_result",
          "data": {
            "text/plain": [
              "United Kingdom          361878\n",
              "Germany                   9495\n",
              "France                    8491\n",
              "EIRE                      7485\n",
              "Spain                     2533\n",
              "Netherlands               2371\n",
              "Belgium                   2069\n",
              "Switzerland               1877\n",
              "Portugal                  1480\n",
              "Australia                 1259\n",
              "Norway                    1086\n",
              "Italy                      803\n",
              "Channel Islands            758\n",
              "Finland                    695\n",
              "Cyprus                     622\n",
              "Sweden                     462\n",
              "Austria                    401\n",
              "Denmark                    389\n",
              "Japan                      358\n",
              "Poland                     341\n",
              "USA                        291\n",
              "Israel                     250\n",
              "Unspecified                244\n",
              "Singapore                  229\n",
              "Iceland                    182\n",
              "Canada                     151\n",
              "Greece                     146\n",
              "Malta                      127\n",
              "United Arab Emirates        68\n",
              "European Community          61\n",
              "RSA                         58\n",
              "Lebanon                     45\n",
              "Lithuania                   35\n",
              "Brazil                      32\n",
              "Czech Republic              30\n",
              "Bahrain                     17\n",
              "Saudi Arabia                10\n",
              "Name: country, dtype: int64"
            ]
          },
          "metadata": {
            "tags": []
          },
          "execution_count": 25
        }
      ]
    },
    {
      "cell_type": "markdown",
      "metadata": {
        "id": "VEJAshKAFfRt",
        "colab_type": "text"
      },
      "source": [
        "###   What do we see on this ?\n",
        "\n",
        "      UK has the most transaction then there are europian countries and Middleeastern countries. \n",
        "      If you observe you will see distribution is really low starting from **Italy**  to **Saudi Arabia**\n",
        "\n",
        "      You might want to group them in to some larger buckets do that the distribution is prominant"
      ]
    },
    {
      "cell_type": "markdown",
      "metadata": {
        "id": "LvsRewdVJeYN",
        "colab_type": "text"
      },
      "source": [
        "**To access any part of the data in data frame we should use** \n",
        "\n",
        "\n",
        "*   .loc----- location based search based on column key\n",
        "*   .iloc---- Index location based search for each row operation \n",
        "\n"
      ]
    },
    {
      "cell_type": "markdown",
      "metadata": {
        "id": "kZdKL__yo5xJ",
        "colab_type": "text"
      },
      "source": [
        "## There anre multiple ways to do this :\n",
        "\n",
        "Using list operations where we create a list of countries belonging to a region and then iteratively search in the database to replace the same:\n",
        "This is most useful way \n",
        "\n",
        "Another ways is to use pandas dataframe selector and change the values to region for each country seperately"
      ]
    },
    {
      "cell_type": "code",
      "metadata": {
        "id": "tb7PxrrpHD-O",
        "colab_type": "code",
        "colab": {}
      },
      "source": [
        "middleeast=['Saudi Arabia','Bahrain','United Arab Emirates','Greece'] # We might try to do this using list operation"
      ],
      "execution_count": 0,
      "outputs": []
    },
    {
      "cell_type": "code",
      "metadata": {
        "id": "GRqg201NzBgk",
        "colab_type": "code",
        "colab": {}
      },
      "source": [
        "europe= ['Germany','Italy','Gerogia','Denmark','United Kingdom','UK']"
      ],
      "execution_count": 0,
      "outputs": []
    },
    {
      "cell_type": "code",
      "metadata": {
        "id": "DSqvebul4aZJ",
        "colab_type": "code",
        "outputId": "4334122c-3970-4d1b-9767-25133d1ee433",
        "colab": {
          "base_uri": "https://localhost:8080/",
          "height": 347
        }
      },
      "source": [
        "ecomnew.loc[ecomnew.country=='Saudi Arabia'][[\"country\", 'customerid']]"
      ],
      "execution_count": 29,
      "outputs": [
        {
          "output_type": "execute_result",
          "data": {
            "text/html": [
              "<div>\n",
              "<style scoped>\n",
              "    .dataframe tbody tr th:only-of-type {\n",
              "        vertical-align: middle;\n",
              "    }\n",
              "\n",
              "    .dataframe tbody tr th {\n",
              "        vertical-align: top;\n",
              "    }\n",
              "\n",
              "    .dataframe thead th {\n",
              "        text-align: right;\n",
              "    }\n",
              "</style>\n",
              "<table border=\"1\" class=\"dataframe\">\n",
              "  <thead>\n",
              "    <tr style=\"text-align: right;\">\n",
              "      <th></th>\n",
              "      <th>country</th>\n",
              "      <th>customerid</th>\n",
              "    </tr>\n",
              "  </thead>\n",
              "  <tbody>\n",
              "    <tr>\n",
              "      <th>100810</th>\n",
              "      <td>Saudi Arabia</td>\n",
              "      <td>12565.0</td>\n",
              "    </tr>\n",
              "    <tr>\n",
              "      <th>100811</th>\n",
              "      <td>Saudi Arabia</td>\n",
              "      <td>12565.0</td>\n",
              "    </tr>\n",
              "    <tr>\n",
              "      <th>100812</th>\n",
              "      <td>Saudi Arabia</td>\n",
              "      <td>12565.0</td>\n",
              "    </tr>\n",
              "    <tr>\n",
              "      <th>100813</th>\n",
              "      <td>Saudi Arabia</td>\n",
              "      <td>12565.0</td>\n",
              "    </tr>\n",
              "    <tr>\n",
              "      <th>100814</th>\n",
              "      <td>Saudi Arabia</td>\n",
              "      <td>12565.0</td>\n",
              "    </tr>\n",
              "    <tr>\n",
              "      <th>100815</th>\n",
              "      <td>Saudi Arabia</td>\n",
              "      <td>12565.0</td>\n",
              "    </tr>\n",
              "    <tr>\n",
              "      <th>100816</th>\n",
              "      <td>Saudi Arabia</td>\n",
              "      <td>12565.0</td>\n",
              "    </tr>\n",
              "    <tr>\n",
              "      <th>100817</th>\n",
              "      <td>Saudi Arabia</td>\n",
              "      <td>12565.0</td>\n",
              "    </tr>\n",
              "    <tr>\n",
              "      <th>100818</th>\n",
              "      <td>Saudi Arabia</td>\n",
              "      <td>12565.0</td>\n",
              "    </tr>\n",
              "    <tr>\n",
              "      <th>108127</th>\n",
              "      <td>Saudi Arabia</td>\n",
              "      <td>12565.0</td>\n",
              "    </tr>\n",
              "  </tbody>\n",
              "</table>\n",
              "</div>"
            ],
            "text/plain": [
              "             country  customerid\n",
              "100810  Saudi Arabia     12565.0\n",
              "100811  Saudi Arabia     12565.0\n",
              "100812  Saudi Arabia     12565.0\n",
              "100813  Saudi Arabia     12565.0\n",
              "100814  Saudi Arabia     12565.0\n",
              "100815  Saudi Arabia     12565.0\n",
              "100816  Saudi Arabia     12565.0\n",
              "100817  Saudi Arabia     12565.0\n",
              "100818  Saudi Arabia     12565.0\n",
              "108127  Saudi Arabia     12565.0"
            ]
          },
          "metadata": {
            "tags": []
          },
          "execution_count": 29
        }
      ]
    },
    {
      "cell_type": "code",
      "metadata": {
        "id": "0klMcq8oxpzd",
        "colab_type": "code",
        "colab": {}
      },
      "source": [
        "# Trying to use the aplly approach for thr getting\n",
        "ecomnew['country_group'] = ecomnew['country'].apply(lambda x: 'MiddleEast' if x in middleeast else x)\n",
        "ecomnew['country_group'] = ecomnew['country_group'].apply(lambda x: 'Europe' if x in europe else x)"
      ],
      "execution_count": 0,
      "outputs": []
    },
    {
      "cell_type": "markdown",
      "metadata": {
        "id": "aAruUw2q-pds",
        "colab_type": "text"
      },
      "source": [
        "### Few ways to change values in a dataframe  (hard coded):\n",
        "\n",
        "\n",
        "\n",
        "       Option-1 Using Index Location\n",
        "        SYNTAX:\n",
        "        df.loc[df[<some_column_name>] == <condition>, [<another_column_name>]] = <value_to_add>\n",
        "        EXAMPLE:\n",
        "        df.loc[df['age']==3, ['age-group']] = 'toddler'\n",
        "        \n",
        "        Option-2 Using pd.replace() function\n",
        "        SYNTAX:\n",
        "        DataFrame.replace(self, to_replace=None, value=None, inplace=False, limit=None, regex=False, method='pad')\n",
        "        EXAMPLE:\n",
        "        ecomdata.country.replace(to_replace=\"Bahrain\", value=\"Middle East1\", inplace=True)\n",
        "\n",
        "        Option-3 Using np.where\n",
        "        SYNTAX:\n",
        "        df['Event'] = np.where((df.Event == 'Painting'),'Art',df.Event)\n",
        "\n",
        "        Option-4 Using Mask\n",
        "        ecomdata['country'].mask(ecomdata['country'] == 'Value to replace', 'value to replace with', inplace=True)\n",
        "\n"
      ]
    },
    {
      "cell_type": "code",
      "metadata": {
        "id": "0ZptGCms9P1K",
        "colab_type": "code",
        "colab": {}
      },
      "source": [
        "ecomnew.loc[ecomnew.country==\"Saudi Arabia\",['country']]=\"Middle East\""
      ],
      "execution_count": 0,
      "outputs": []
    },
    {
      "cell_type": "code",
      "metadata": {
        "id": "-AlU9iCi-aLY",
        "colab_type": "code",
        "outputId": "1117d658-f66a-4f35-a8f8-c433658b6bce",
        "colab": {
          "base_uri": "https://localhost:8080/",
          "height": 352
        }
      },
      "source": [
        "ecomdata.loc[ecomdata.country=='Middle East']"
      ],
      "execution_count": 0,
      "outputs": [
        {
          "output_type": "execute_result",
          "data": {
            "text/html": [
              "<div>\n",
              "<style scoped>\n",
              "    .dataframe tbody tr th:only-of-type {\n",
              "        vertical-align: middle;\n",
              "    }\n",
              "\n",
              "    .dataframe tbody tr th {\n",
              "        vertical-align: top;\n",
              "    }\n",
              "\n",
              "    .dataframe thead th {\n",
              "        text-align: right;\n",
              "    }\n",
              "</style>\n",
              "<table border=\"1\" class=\"dataframe\">\n",
              "  <thead>\n",
              "    <tr style=\"text-align: right;\">\n",
              "      <th></th>\n",
              "      <th>invoiceno</th>\n",
              "      <th>stockcode</th>\n",
              "      <th>description</th>\n",
              "      <th>quantity</th>\n",
              "      <th>invoicedate</th>\n",
              "      <th>unitprice</th>\n",
              "      <th>customerid</th>\n",
              "      <th>country</th>\n",
              "    </tr>\n",
              "  </thead>\n",
              "  <tbody>\n",
              "    <tr>\n",
              "      <th>100810</th>\n",
              "      <td>544838</td>\n",
              "      <td>22915</td>\n",
              "      <td>ASSORTED BOTTLE TOP  MAGNETS</td>\n",
              "      <td>12</td>\n",
              "      <td>2/24/2011 10:34</td>\n",
              "      <td>0.42</td>\n",
              "      <td>12565.0</td>\n",
              "      <td>Middle East</td>\n",
              "    </tr>\n",
              "    <tr>\n",
              "      <th>100811</th>\n",
              "      <td>544838</td>\n",
              "      <td>22363</td>\n",
              "      <td>GLASS JAR MARMALADE</td>\n",
              "      <td>6</td>\n",
              "      <td>2/24/2011 10:34</td>\n",
              "      <td>2.95</td>\n",
              "      <td>12565.0</td>\n",
              "      <td>Middle East</td>\n",
              "    </tr>\n",
              "    <tr>\n",
              "      <th>100812</th>\n",
              "      <td>544838</td>\n",
              "      <td>22362</td>\n",
              "      <td>GLASS JAR PEACOCK BATH SALTS</td>\n",
              "      <td>6</td>\n",
              "      <td>2/24/2011 10:34</td>\n",
              "      <td>2.95</td>\n",
              "      <td>12565.0</td>\n",
              "      <td>Middle East</td>\n",
              "    </tr>\n",
              "    <tr>\n",
              "      <th>100813</th>\n",
              "      <td>544838</td>\n",
              "      <td>22361</td>\n",
              "      <td>GLASS JAR DAISY FRESH COTTON WOOL</td>\n",
              "      <td>6</td>\n",
              "      <td>2/24/2011 10:34</td>\n",
              "      <td>2.95</td>\n",
              "      <td>12565.0</td>\n",
              "      <td>Middle East</td>\n",
              "    </tr>\n",
              "    <tr>\n",
              "      <th>100814</th>\n",
              "      <td>544838</td>\n",
              "      <td>22553</td>\n",
              "      <td>PLASTERS IN TIN SKULLS</td>\n",
              "      <td>12</td>\n",
              "      <td>2/24/2011 10:34</td>\n",
              "      <td>1.65</td>\n",
              "      <td>12565.0</td>\n",
              "      <td>Middle East</td>\n",
              "    </tr>\n",
              "    <tr>\n",
              "      <th>100815</th>\n",
              "      <td>544838</td>\n",
              "      <td>22555</td>\n",
              "      <td>PLASTERS IN TIN STRONGMAN</td>\n",
              "      <td>12</td>\n",
              "      <td>2/24/2011 10:34</td>\n",
              "      <td>1.65</td>\n",
              "      <td>12565.0</td>\n",
              "      <td>Middle East</td>\n",
              "    </tr>\n",
              "    <tr>\n",
              "      <th>100816</th>\n",
              "      <td>544838</td>\n",
              "      <td>22556</td>\n",
              "      <td>PLASTERS IN TIN CIRCUS PARADE</td>\n",
              "      <td>12</td>\n",
              "      <td>2/24/2011 10:34</td>\n",
              "      <td>1.65</td>\n",
              "      <td>12565.0</td>\n",
              "      <td>Middle East</td>\n",
              "    </tr>\n",
              "    <tr>\n",
              "      <th>100817</th>\n",
              "      <td>544838</td>\n",
              "      <td>20781</td>\n",
              "      <td>GOLD EAR MUFF HEADPHONES</td>\n",
              "      <td>2</td>\n",
              "      <td>2/24/2011 10:34</td>\n",
              "      <td>5.49</td>\n",
              "      <td>12565.0</td>\n",
              "      <td>Middle East</td>\n",
              "    </tr>\n",
              "    <tr>\n",
              "      <th>100818</th>\n",
              "      <td>544838</td>\n",
              "      <td>22969</td>\n",
              "      <td>HOMEMADE JAM SCENTED CANDLES</td>\n",
              "      <td>12</td>\n",
              "      <td>2/24/2011 10:34</td>\n",
              "      <td>1.45</td>\n",
              "      <td>12565.0</td>\n",
              "      <td>Middle East</td>\n",
              "    </tr>\n",
              "    <tr>\n",
              "      <th>108127</th>\n",
              "      <td>C545507</td>\n",
              "      <td>22361</td>\n",
              "      <td>GLASS JAR DAISY FRESH COTTON WOOL</td>\n",
              "      <td>-5</td>\n",
              "      <td>3/3/2011 11:43</td>\n",
              "      <td>2.95</td>\n",
              "      <td>12565.0</td>\n",
              "      <td>Middle East</td>\n",
              "    </tr>\n",
              "  </tbody>\n",
              "</table>\n",
              "</div>"
            ],
            "text/plain": [
              "       invoiceno stockcode  ... customerid      country\n",
              "100810    544838     22915  ...    12565.0  Middle East\n",
              "100811    544838     22363  ...    12565.0  Middle East\n",
              "100812    544838     22362  ...    12565.0  Middle East\n",
              "100813    544838     22361  ...    12565.0  Middle East\n",
              "100814    544838     22553  ...    12565.0  Middle East\n",
              "100815    544838     22555  ...    12565.0  Middle East\n",
              "100816    544838     22556  ...    12565.0  Middle East\n",
              "100817    544838     20781  ...    12565.0  Middle East\n",
              "100818    544838     22969  ...    12565.0  Middle East\n",
              "108127   C545507     22361  ...    12565.0  Middle East\n",
              "\n",
              "[10 rows x 8 columns]"
            ]
          },
          "metadata": {
            "tags": []
          },
          "execution_count": 100
        }
      ]
    },
    {
      "cell_type": "code",
      "metadata": {
        "id": "fnoH7csjp_p3",
        "colab_type": "code",
        "colab": {
          "base_uri": "https://localhost:8080/",
          "height": 197
        },
        "outputId": "2e6b8afe-36e6-4650-e81f-1ca180cfab0a"
      },
      "source": [
        "ecomnew[ecomnew.country==\"Bahrain\"].head()"
      ],
      "execution_count": 32,
      "outputs": [
        {
          "output_type": "execute_result",
          "data": {
            "text/html": [
              "<div>\n",
              "<style scoped>\n",
              "    .dataframe tbody tr th:only-of-type {\n",
              "        vertical-align: middle;\n",
              "    }\n",
              "\n",
              "    .dataframe tbody tr th {\n",
              "        vertical-align: top;\n",
              "    }\n",
              "\n",
              "    .dataframe thead th {\n",
              "        text-align: right;\n",
              "    }\n",
              "</style>\n",
              "<table border=\"1\" class=\"dataframe\">\n",
              "  <thead>\n",
              "    <tr style=\"text-align: right;\">\n",
              "      <th></th>\n",
              "      <th>invoiceno</th>\n",
              "      <th>stockcode</th>\n",
              "      <th>description</th>\n",
              "      <th>quantity</th>\n",
              "      <th>invoicedate</th>\n",
              "      <th>unitprice</th>\n",
              "      <th>customerid</th>\n",
              "      <th>country</th>\n",
              "      <th>newdate</th>\n",
              "    </tr>\n",
              "  </thead>\n",
              "  <tbody>\n",
              "    <tr>\n",
              "      <th>181140</th>\n",
              "      <td>552449</td>\n",
              "      <td>22693</td>\n",
              "      <td>GROW A FLYTRAP OR SUNFLOWER IN TIN</td>\n",
              "      <td>24</td>\n",
              "      <td>5/9/2011 13:49</td>\n",
              "      <td>1.25</td>\n",
              "      <td>12355.0</td>\n",
              "      <td>Bahrain</td>\n",
              "      <td>2011-05-09</td>\n",
              "    </tr>\n",
              "    <tr>\n",
              "      <th>181141</th>\n",
              "      <td>552449</td>\n",
              "      <td>23076</td>\n",
              "      <td>ICE CREAM SUNDAE LIP GLOSS</td>\n",
              "      <td>96</td>\n",
              "      <td>5/9/2011 13:49</td>\n",
              "      <td>1.25</td>\n",
              "      <td>12355.0</td>\n",
              "      <td>Bahrain</td>\n",
              "      <td>2011-05-09</td>\n",
              "    </tr>\n",
              "    <tr>\n",
              "      <th>181142</th>\n",
              "      <td>552449</td>\n",
              "      <td>23077</td>\n",
              "      <td>DOUGHNUT LIP GLOSS</td>\n",
              "      <td>60</td>\n",
              "      <td>5/9/2011 13:49</td>\n",
              "      <td>1.25</td>\n",
              "      <td>12355.0</td>\n",
              "      <td>Bahrain</td>\n",
              "      <td>2011-05-09</td>\n",
              "    </tr>\n",
              "    <tr>\n",
              "      <th>181143</th>\n",
              "      <td>552449</td>\n",
              "      <td>22890</td>\n",
              "      <td>NOVELTY BISCUITS CAKE STAND 3 TIER</td>\n",
              "      <td>2</td>\n",
              "      <td>5/9/2011 13:49</td>\n",
              "      <td>9.95</td>\n",
              "      <td>12355.0</td>\n",
              "      <td>Bahrain</td>\n",
              "      <td>2011-05-09</td>\n",
              "    </tr>\n",
              "    <tr>\n",
              "      <th>181144</th>\n",
              "      <td>552449</td>\n",
              "      <td>22649</td>\n",
              "      <td>STRAWBERRY FAIRY CAKE TEAPOT</td>\n",
              "      <td>8</td>\n",
              "      <td>5/9/2011 13:49</td>\n",
              "      <td>4.95</td>\n",
              "      <td>12355.0</td>\n",
              "      <td>Bahrain</td>\n",
              "      <td>2011-05-09</td>\n",
              "    </tr>\n",
              "  </tbody>\n",
              "</table>\n",
              "</div>"
            ],
            "text/plain": [
              "       invoiceno stockcode  ...  country    newdate\n",
              "181140    552449     22693  ...  Bahrain 2011-05-09\n",
              "181141    552449     23076  ...  Bahrain 2011-05-09\n",
              "181142    552449     23077  ...  Bahrain 2011-05-09\n",
              "181143    552449     22890  ...  Bahrain 2011-05-09\n",
              "181144    552449     22649  ...  Bahrain 2011-05-09\n",
              "\n",
              "[5 rows x 9 columns]"
            ]
          },
          "metadata": {
            "tags": []
          },
          "execution_count": 32
        }
      ]
    },
    {
      "cell_type": "code",
      "metadata": {
        "id": "8uDtU1C9qmaj",
        "colab_type": "code",
        "colab": {
          "base_uri": "https://localhost:8080/",
          "height": 122
        },
        "outputId": "02877104-4c87-4885-f762-a323ad2d144e"
      },
      "source": [
        "ecomnew[ecomnew.country==\"Bahrain\"].head().country.replace(to_replace=\"Bahrain\", value=\"Middle East1\")"
      ],
      "execution_count": 34,
      "outputs": [
        {
          "output_type": "execute_result",
          "data": {
            "text/plain": [
              "181140    Middle East1\n",
              "181141    Middle East1\n",
              "181142    Middle East1\n",
              "181143    Middle East1\n",
              "181144    Middle East1\n",
              "Name: country, dtype: object"
            ]
          },
          "metadata": {
            "tags": []
          },
          "execution_count": 34
        }
      ]
    },
    {
      "cell_type": "code",
      "metadata": {
        "id": "aVLUUaCYKMDx",
        "colab_type": "code",
        "colab": {}
      },
      "source": [
        "# We are chaging th county names and grouping them togeather based on option 1 (most useful as you can put condition as well)\n",
        "ecomnew.loc[ecomnew.country==\"Germany\",['country']]=\"Europe\"\n",
        "ecomnew.loc[ecomnew.country==\"France\",['country']]=\"Europe\"\n",
        "ecomnew.loc[ecomnew.country==\"EIRE\",['country']]=\"Europe\"\n",
        "ecomnew.loc[ecomnew.country==\"Spain\",['country']]=\"Europe\"\n",
        "ecomnew.loc[ecomnew.country==\"Netherlands\",['country']]=\"Europe\"\n",
        "ecomnew.loc[ecomnew.country==\"Belgium\",['country']]=\"Europe\"\n",
        "ecomnew.loc[ecomnew.country==\"Switzerland\",['country']]=\"Europe\"\n",
        "ecomnew.loc[ecomnew.country==\"Portugal\",['country']]=\"Europe\"\n",
        "ecomnew.loc[ecomnew.country==\"Norway\",['country']]=\"Europe\"\n",
        "ecomnew.loc[ecomnew.country==\"Italy\",['country']]=\"Europe\"\n",
        "ecomnew.loc[ecomnew.country==\"Channel Islands\",['country']]=\"Europe\"\n",
        "ecomnew.loc[ecomnew.country==\"Finland\",['country']]=\"Europe\"\n",
        "ecomnew.loc[ecomnew.country==\"Cyprus\",['country']]=\"Europe\"\n",
        "ecomnew.loc[ecomnew.country==\"Sweden\",['country']]=\"Europe\"\n",
        "ecomnew.loc[ecomnew.country==\"Austria\",['country']]=\"Europe\"\n",
        "ecomnew.loc[ecomnew.country==\"Denmark\",['country']]=\"Europe\"\n",
        "ecomnew.loc[ecomnew.country==\"Japan\",['country']]=\"Asia\"\n",
        "ecomnew.loc[ecomnew.country==\"Poland\",['country']]=\"Europe\"\n",
        "ecomnew.loc[ecomnew.country==\"Israel\",['country']]=\"Europe\"\n",
        "ecomnew.loc[ecomnew.country==\"Hong Kong\",['country']]=\"Asia\"\n",
        "ecomnew.loc[ecomnew.country==\"Singapore\",['country']]=\"Asia\"\n",
        "ecomnew.loc[ecomnew.country==\"Iceland\",['country']]=\"Europe\"\n",
        "ecomnew.loc[ecomnew.country==\"Greece\",['country']]=\"Europe\"\n",
        "ecomnew.loc[ecomnew.country==\"Malta\",['country']]=\"Europe\"\n",
        "ecomnew.loc[ecomnew.country==\"United Arab Emirates\",['country']]=\"Middle East\"\n",
        "ecomnew.loc[ecomnew.country==\"European Community\",['country']]=\"Europe\"\n",
        "ecomnew.loc[ecomnew.country==\"RSA\",['country']]=\"Europe\"\n",
        "ecomnew.loc[ecomnew.country==\"Lebanon\",['country']]=\"Middle East\"\n",
        "ecomnew.loc[ecomnew.country==\"Lithuania\",['country']]=\"Europe\"\n",
        "ecomnew.loc[ecomnew.country==\"Brazil\",['country']]=\"South America\"\n",
        "ecomnew.loc[ecomnew.country==\"Czech Republic\",['country']]=\"Europe\"\n",
        "ecomnew.loc[ecomnew.country==\"Bahrain\",['country']]=\"Middle East\"\n",
        "ecomnew.loc[ecomnew.country==\"Saudi Arabia\",['country']]=\"Middle East\""
      ],
      "execution_count": 0,
      "outputs": []
    },
    {
      "cell_type": "code",
      "metadata": {
        "id": "abjIPn9I3-qN",
        "colab_type": "code",
        "outputId": "973d9d1d-c2b0-41b9-b410-b6107f57f8b7",
        "colab": {
          "base_uri": "https://localhost:8080/",
          "height": 192
        }
      },
      "source": [
        "ecomnew.country.value_counts() # We have successfuly changed the same"
      ],
      "execution_count": 36,
      "outputs": [
        {
          "output_type": "execute_result",
          "data": {
            "text/plain": [
              "United Kingdom    361878\n",
              "Europe             42247\n",
              "Australia           1259\n",
              "Asia                 587\n",
              "USA                  291\n",
              "Unspecified          244\n",
              "Canada               151\n",
              "Middle East          140\n",
              "South America         32\n",
              "Name: country, dtype: int64"
            ]
          },
          "metadata": {
            "tags": []
          },
          "execution_count": 36
        }
      ]
    },
    {
      "cell_type": "markdown",
      "metadata": {
        "id": "97nrsWnwFddV",
        "colab_type": "text"
      },
      "source": [
        "#### Time to look at some values and slice selection of  dataframe\n",
        "\n",
        "More you do this it will give you the feel of the data"
      ]
    },
    {
      "cell_type": "code",
      "metadata": {
        "id": "gytmBIUXLT2F",
        "colab_type": "code",
        "outputId": "b33dbfd5-23ee-4027-bce6-2d29ad7d915c",
        "colab": {
          "base_uri": "https://localhost:8080/",
          "height": 174
        }
      },
      "source": [
        "# Checking where cutomers arre doing transaction more than 1000 units\n",
        "\n",
        "print(ecomnew[ecomnew.quantity > 1000].head(6))"
      ],
      "execution_count": 37,
      "outputs": [
        {
          "output_type": "stream",
          "text": [
            "      invoiceno stockcode  ...         country    newdate\n",
            "4850     536809     84950  ...  United Kingdom 2010-12-02\n",
            "4945     536830     84077  ...  United Kingdom 2010-12-02\n",
            "4946     536830     21915  ...  United Kingdom 2010-12-02\n",
            "6365     536890    17084R  ...          Europe 2010-12-03\n",
            "16435    537659     22189  ...  United Kingdom 2010-12-07\n",
            "16436    537659     22188  ...  United Kingdom 2010-12-07\n",
            "\n",
            "[6 rows x 9 columns]\n"
          ],
          "name": "stdout"
        }
      ]
    },
    {
      "cell_type": "code",
      "metadata": {
        "id": "oAE_jcwG1rgP",
        "colab_type": "code",
        "outputId": "efdf1688-dcc1-4315-ab3f-c004fcd4c3a9",
        "colab": {
          "base_uri": "https://localhost:8080/",
          "height": 122
        }
      },
      "source": [
        "# AND operation in the dataframe \"&\"\n",
        "print(ecomnew[(ecomnew.unitprice > 3) & (ecomnew.quantity > 1000)].head(10))"
      ],
      "execution_count": 38,
      "outputs": [
        {
          "output_type": "stream",
          "text": [
            "       invoiceno stockcode  ...         country    newdate\n",
            "52132     540689    85123A  ...  United Kingdom 2011-01-11\n",
            "52134     540689     22470  ...  United Kingdom 2011-01-11\n",
            "348325    567423     23243  ...  United Kingdom 2011-09-20\n",
            "\n",
            "[3 rows x 9 columns]\n"
          ],
          "name": "stdout"
        }
      ]
    },
    {
      "cell_type": "code",
      "metadata": {
        "id": "Cz9hNaWS0wOi",
        "colab_type": "code",
        "outputId": "d7a1a596-a286-4ca4-9641-1e52e6daaf0c",
        "colab": {
          "base_uri": "https://localhost:8080/",
          "height": 244
        }
      },
      "source": [
        "# OR operation in dataframe \"|\"\n",
        "\n",
        "\n",
        "print(ecomnew[(ecomnew.quantity >1000) | (ecomnew.quantity< -1000)].head(10))"
      ],
      "execution_count": 39,
      "outputs": [
        {
          "output_type": "stream",
          "text": [
            "      invoiceno stockcode  ...         country    newdate\n",
            "4287    C536757     84347  ...  United Kingdom 2010-12-02\n",
            "4850     536809     84950  ...  United Kingdom 2010-12-02\n",
            "4945     536830     84077  ...  United Kingdom 2010-12-02\n",
            "4946     536830     21915  ...  United Kingdom 2010-12-02\n",
            "6365     536890    17084R  ...          Europe 2010-12-03\n",
            "16435    537659     22189  ...  United Kingdom 2010-12-07\n",
            "16436    537659     22188  ...  United Kingdom 2010-12-07\n",
            "19871    537899     22328  ...            Asia 2010-12-09\n",
            "19980    537981     22492  ...  United Kingdom 2010-12-09\n",
            "25920    538420     17096  ...  United Kingdom 2010-12-12\n",
            "\n",
            "[10 rows x 9 columns]\n"
          ],
          "name": "stdout"
        }
      ]
    },
    {
      "cell_type": "code",
      "metadata": {
        "id": "jyhczVod3x-4",
        "colab_type": "code",
        "outputId": "f4d60b98-e036-4a93-fbc9-3bfc20ca4f65",
        "colab": {
          "base_uri": "https://localhost:8080/",
          "height": 407
        }
      },
      "source": [
        "### Little better looking one? See below\n",
        "ecomnew[(ecomnew.quantity >1000) | (ecomnew.quantity< -1000)]"
      ],
      "execution_count": 40,
      "outputs": [
        {
          "output_type": "execute_result",
          "data": {
            "text/html": [
              "<div>\n",
              "<style scoped>\n",
              "    .dataframe tbody tr th:only-of-type {\n",
              "        vertical-align: middle;\n",
              "    }\n",
              "\n",
              "    .dataframe tbody tr th {\n",
              "        vertical-align: top;\n",
              "    }\n",
              "\n",
              "    .dataframe thead th {\n",
              "        text-align: right;\n",
              "    }\n",
              "</style>\n",
              "<table border=\"1\" class=\"dataframe\">\n",
              "  <thead>\n",
              "    <tr style=\"text-align: right;\">\n",
              "      <th></th>\n",
              "      <th>invoiceno</th>\n",
              "      <th>stockcode</th>\n",
              "      <th>description</th>\n",
              "      <th>quantity</th>\n",
              "      <th>invoicedate</th>\n",
              "      <th>unitprice</th>\n",
              "      <th>customerid</th>\n",
              "      <th>country</th>\n",
              "      <th>newdate</th>\n",
              "    </tr>\n",
              "  </thead>\n",
              "  <tbody>\n",
              "    <tr>\n",
              "      <th>4287</th>\n",
              "      <td>C536757</td>\n",
              "      <td>84347</td>\n",
              "      <td>ROTATING SILVER ANGELS T-LIGHT HLDR</td>\n",
              "      <td>-9360</td>\n",
              "      <td>12/2/2010 14:23</td>\n",
              "      <td>0.03</td>\n",
              "      <td>15838.0</td>\n",
              "      <td>United Kingdom</td>\n",
              "      <td>2010-12-02</td>\n",
              "    </tr>\n",
              "    <tr>\n",
              "      <th>4850</th>\n",
              "      <td>536809</td>\n",
              "      <td>84950</td>\n",
              "      <td>ASSORTED COLOUR T-LIGHT HOLDER</td>\n",
              "      <td>1824</td>\n",
              "      <td>12/2/2010 16:48</td>\n",
              "      <td>0.55</td>\n",
              "      <td>15299.0</td>\n",
              "      <td>United Kingdom</td>\n",
              "      <td>2010-12-02</td>\n",
              "    </tr>\n",
              "    <tr>\n",
              "      <th>4945</th>\n",
              "      <td>536830</td>\n",
              "      <td>84077</td>\n",
              "      <td>WORLD WAR 2 GLIDERS ASSTD DESIGNS</td>\n",
              "      <td>2880</td>\n",
              "      <td>12/2/2010 17:38</td>\n",
              "      <td>0.18</td>\n",
              "      <td>16754.0</td>\n",
              "      <td>United Kingdom</td>\n",
              "      <td>2010-12-02</td>\n",
              "    </tr>\n",
              "    <tr>\n",
              "      <th>4946</th>\n",
              "      <td>536830</td>\n",
              "      <td>21915</td>\n",
              "      <td>RED  HARMONICA IN BOX</td>\n",
              "      <td>1400</td>\n",
              "      <td>12/2/2010 17:38</td>\n",
              "      <td>1.06</td>\n",
              "      <td>16754.0</td>\n",
              "      <td>United Kingdom</td>\n",
              "      <td>2010-12-02</td>\n",
              "    </tr>\n",
              "    <tr>\n",
              "      <th>6365</th>\n",
              "      <td>536890</td>\n",
              "      <td>17084R</td>\n",
              "      <td>ASSORTED INCENSE PACK</td>\n",
              "      <td>1440</td>\n",
              "      <td>12/3/2010 11:48</td>\n",
              "      <td>0.16</td>\n",
              "      <td>14156.0</td>\n",
              "      <td>Europe</td>\n",
              "      <td>2010-12-03</td>\n",
              "    </tr>\n",
              "    <tr>\n",
              "      <th>...</th>\n",
              "      <td>...</td>\n",
              "      <td>...</td>\n",
              "      <td>...</td>\n",
              "      <td>...</td>\n",
              "      <td>...</td>\n",
              "      <td>...</td>\n",
              "      <td>...</td>\n",
              "      <td>...</td>\n",
              "      <td>...</td>\n",
              "    </tr>\n",
              "    <tr>\n",
              "      <th>534952</th>\n",
              "      <td>581175</td>\n",
              "      <td>23084</td>\n",
              "      <td>RABBIT NIGHT LIGHT</td>\n",
              "      <td>1440</td>\n",
              "      <td>12/7/2011 15:16</td>\n",
              "      <td>1.79</td>\n",
              "      <td>14646.0</td>\n",
              "      <td>Europe</td>\n",
              "      <td>2011-12-07</td>\n",
              "    </tr>\n",
              "    <tr>\n",
              "      <th>540070</th>\n",
              "      <td>581458</td>\n",
              "      <td>22197</td>\n",
              "      <td>POPCORN HOLDER</td>\n",
              "      <td>1500</td>\n",
              "      <td>12/8/2011 18:45</td>\n",
              "      <td>0.72</td>\n",
              "      <td>17949.0</td>\n",
              "      <td>United Kingdom</td>\n",
              "      <td>2011-12-08</td>\n",
              "    </tr>\n",
              "    <tr>\n",
              "      <th>540071</th>\n",
              "      <td>581459</td>\n",
              "      <td>22197</td>\n",
              "      <td>POPCORN HOLDER</td>\n",
              "      <td>1200</td>\n",
              "      <td>12/8/2011 18:46</td>\n",
              "      <td>0.72</td>\n",
              "      <td>17949.0</td>\n",
              "      <td>United Kingdom</td>\n",
              "      <td>2011-12-08</td>\n",
              "    </tr>\n",
              "    <tr>\n",
              "      <th>540421</th>\n",
              "      <td>581483</td>\n",
              "      <td>23843</td>\n",
              "      <td>PAPER CRAFT , LITTLE BIRDIE</td>\n",
              "      <td>80995</td>\n",
              "      <td>12/9/2011 9:15</td>\n",
              "      <td>2.08</td>\n",
              "      <td>16446.0</td>\n",
              "      <td>United Kingdom</td>\n",
              "      <td>2011-12-09</td>\n",
              "    </tr>\n",
              "    <tr>\n",
              "      <th>540422</th>\n",
              "      <td>C581484</td>\n",
              "      <td>23843</td>\n",
              "      <td>PAPER CRAFT , LITTLE BIRDIE</td>\n",
              "      <td>-80995</td>\n",
              "      <td>12/9/2011 9:27</td>\n",
              "      <td>2.08</td>\n",
              "      <td>16446.0</td>\n",
              "      <td>United Kingdom</td>\n",
              "      <td>2011-12-09</td>\n",
              "    </tr>\n",
              "  </tbody>\n",
              "</table>\n",
              "<p>118 rows × 9 columns</p>\n",
              "</div>"
            ],
            "text/plain": [
              "       invoiceno stockcode  ...         country    newdate\n",
              "4287     C536757     84347  ...  United Kingdom 2010-12-02\n",
              "4850      536809     84950  ...  United Kingdom 2010-12-02\n",
              "4945      536830     84077  ...  United Kingdom 2010-12-02\n",
              "4946      536830     21915  ...  United Kingdom 2010-12-02\n",
              "6365      536890    17084R  ...          Europe 2010-12-03\n",
              "...          ...       ...  ...             ...        ...\n",
              "534952    581175     23084  ...          Europe 2011-12-07\n",
              "540070    581458     22197  ...  United Kingdom 2011-12-08\n",
              "540071    581459     22197  ...  United Kingdom 2011-12-08\n",
              "540421    581483     23843  ...  United Kingdom 2011-12-09\n",
              "540422   C581484     23843  ...  United Kingdom 2011-12-09\n",
              "\n",
              "[118 rows x 9 columns]"
            ]
          },
          "metadata": {
            "tags": []
          },
          "execution_count": 40
        }
      ]
    },
    {
      "cell_type": "markdown",
      "metadata": {
        "id": "ZMkVElaDwa53",
        "colab_type": "text"
      },
      "source": [
        "### Selecting based on values in a series. \n",
        "# is.in function\n",
        "\n",
        "     SYNTAX:\n",
        "     DF[DF['column1'].isin(['492807', '567183']) & DF['column2'].isin(['21813', '22659'])]\n",
        "\n"
      ]
    },
    {
      "cell_type": "code",
      "metadata": {
        "id": "PVeiPPyXxGaH",
        "colab_type": "code",
        "outputId": "1a4180d7-2ba8-4953-8493-49f1645af0d0",
        "colab": {
          "base_uri": "https://localhost:8080/",
          "height": 69
        }
      },
      "source": [
        "ecomnew.columns"
      ],
      "execution_count": 41,
      "outputs": [
        {
          "output_type": "execute_result",
          "data": {
            "text/plain": [
              "Index(['invoiceno', 'stockcode', 'description', 'quantity', 'invoicedate',\n",
              "       'unitprice', 'customerid', 'country', 'newdate'],\n",
              "      dtype='object')"
            ]
          },
          "metadata": {
            "tags": []
          },
          "execution_count": 41
        }
      ]
    },
    {
      "cell_type": "code",
      "metadata": {
        "id": "IhfyhGLKwGyz",
        "colab_type": "code",
        "outputId": "5c588fab-c748-463d-91bd-22026f6029a9",
        "colab": {
          "base_uri": "https://localhost:8080/",
          "height": 107
        }
      },
      "source": [
        "# New way t0 search for any values in a series and selecting based on th\n",
        "\n",
        "ecomnew[ecomnew['invoiceno'].isin(['492807', '567183']) & ecomnew['stockcode'].isin(['21813', '22659'])]\n",
        "\n"
      ],
      "execution_count": 42,
      "outputs": [
        {
          "output_type": "execute_result",
          "data": {
            "text/html": [
              "<div>\n",
              "<style scoped>\n",
              "    .dataframe tbody tr th:only-of-type {\n",
              "        vertical-align: middle;\n",
              "    }\n",
              "\n",
              "    .dataframe tbody tr th {\n",
              "        vertical-align: top;\n",
              "    }\n",
              "\n",
              "    .dataframe thead th {\n",
              "        text-align: right;\n",
              "    }\n",
              "</style>\n",
              "<table border=\"1\" class=\"dataframe\">\n",
              "  <thead>\n",
              "    <tr style=\"text-align: right;\">\n",
              "      <th></th>\n",
              "      <th>invoiceno</th>\n",
              "      <th>stockcode</th>\n",
              "      <th>description</th>\n",
              "      <th>quantity</th>\n",
              "      <th>invoicedate</th>\n",
              "      <th>unitprice</th>\n",
              "      <th>customerid</th>\n",
              "      <th>country</th>\n",
              "      <th>newdate</th>\n",
              "    </tr>\n",
              "  </thead>\n",
              "  <tbody>\n",
              "    <tr>\n",
              "      <th>346033</th>\n",
              "      <td>567183</td>\n",
              "      <td>22659</td>\n",
              "      <td>LUNCH BOX I LOVE LONDON</td>\n",
              "      <td>2</td>\n",
              "      <td>9/18/2011 15:32</td>\n",
              "      <td>1.95</td>\n",
              "      <td>14769.0</td>\n",
              "      <td>United Kingdom</td>\n",
              "      <td>2011-09-18</td>\n",
              "    </tr>\n",
              "    <tr>\n",
              "      <th>346281</th>\n",
              "      <td>567183</td>\n",
              "      <td>22659</td>\n",
              "      <td>LUNCH BOX I LOVE LONDON</td>\n",
              "      <td>2</td>\n",
              "      <td>9/18/2011 15:33</td>\n",
              "      <td>1.95</td>\n",
              "      <td>14769.0</td>\n",
              "      <td>United Kingdom</td>\n",
              "      <td>2011-09-18</td>\n",
              "    </tr>\n",
              "  </tbody>\n",
              "</table>\n",
              "</div>"
            ],
            "text/plain": [
              "       invoiceno stockcode  ...         country    newdate\n",
              "346033    567183     22659  ...  United Kingdom 2011-09-18\n",
              "346281    567183     22659  ...  United Kingdom 2011-09-18\n",
              "\n",
              "[2 rows x 9 columns]"
            ]
          },
          "metadata": {
            "tags": []
          },
          "execution_count": 42
        }
      ]
    },
    {
      "cell_type": "markdown",
      "metadata": {
        "id": "bGTqpiOKmFAl",
        "colab_type": "text"
      },
      "source": [
        ""
      ]
    },
    {
      "cell_type": "markdown",
      "metadata": {
        "id": "I3YxYvpmGkM9",
        "colab_type": "text"
      },
      "source": [
        "#### One problem which often we might face- It does not display the large number of rows ,\n",
        "#### we might export this in Excel and check manually \n",
        "However to display all the rows we do have an option"
      ]
    },
    {
      "cell_type": "code",
      "metadata": {
        "id": "tiYjwONfGRr_",
        "colab_type": "code",
        "colab": {}
      },
      "source": [
        "pd.set_option('display.expand_frame_repr', False)"
      ],
      "execution_count": 0,
      "outputs": []
    },
    {
      "cell_type": "code",
      "metadata": {
        "id": "k0IWTd00G7EE",
        "colab_type": "code",
        "outputId": "cd21f6df-c47e-46db-ee1e-77ec6c35a2e6",
        "colab": {
          "base_uri": "https://localhost:8080/",
          "height": 947
        }
      },
      "source": [
        "ecomnew[(ecomnew.quantity >1000) | (ecomnew.quantity< -1000)].head(30)"
      ],
      "execution_count": 44,
      "outputs": [
        {
          "output_type": "execute_result",
          "data": {
            "text/html": [
              "<div>\n",
              "<style scoped>\n",
              "    .dataframe tbody tr th:only-of-type {\n",
              "        vertical-align: middle;\n",
              "    }\n",
              "\n",
              "    .dataframe tbody tr th {\n",
              "        vertical-align: top;\n",
              "    }\n",
              "\n",
              "    .dataframe thead th {\n",
              "        text-align: right;\n",
              "    }\n",
              "</style>\n",
              "<table border=\"1\" class=\"dataframe\">\n",
              "  <thead>\n",
              "    <tr style=\"text-align: right;\">\n",
              "      <th></th>\n",
              "      <th>invoiceno</th>\n",
              "      <th>stockcode</th>\n",
              "      <th>description</th>\n",
              "      <th>quantity</th>\n",
              "      <th>invoicedate</th>\n",
              "      <th>unitprice</th>\n",
              "      <th>customerid</th>\n",
              "      <th>country</th>\n",
              "      <th>newdate</th>\n",
              "    </tr>\n",
              "  </thead>\n",
              "  <tbody>\n",
              "    <tr>\n",
              "      <th>4287</th>\n",
              "      <td>C536757</td>\n",
              "      <td>84347</td>\n",
              "      <td>ROTATING SILVER ANGELS T-LIGHT HLDR</td>\n",
              "      <td>-9360</td>\n",
              "      <td>12/2/2010 14:23</td>\n",
              "      <td>0.03</td>\n",
              "      <td>15838.0</td>\n",
              "      <td>United Kingdom</td>\n",
              "      <td>2010-12-02</td>\n",
              "    </tr>\n",
              "    <tr>\n",
              "      <th>4850</th>\n",
              "      <td>536809</td>\n",
              "      <td>84950</td>\n",
              "      <td>ASSORTED COLOUR T-LIGHT HOLDER</td>\n",
              "      <td>1824</td>\n",
              "      <td>12/2/2010 16:48</td>\n",
              "      <td>0.55</td>\n",
              "      <td>15299.0</td>\n",
              "      <td>United Kingdom</td>\n",
              "      <td>2010-12-02</td>\n",
              "    </tr>\n",
              "    <tr>\n",
              "      <th>4945</th>\n",
              "      <td>536830</td>\n",
              "      <td>84077</td>\n",
              "      <td>WORLD WAR 2 GLIDERS ASSTD DESIGNS</td>\n",
              "      <td>2880</td>\n",
              "      <td>12/2/2010 17:38</td>\n",
              "      <td>0.18</td>\n",
              "      <td>16754.0</td>\n",
              "      <td>United Kingdom</td>\n",
              "      <td>2010-12-02</td>\n",
              "    </tr>\n",
              "    <tr>\n",
              "      <th>4946</th>\n",
              "      <td>536830</td>\n",
              "      <td>21915</td>\n",
              "      <td>RED  HARMONICA IN BOX</td>\n",
              "      <td>1400</td>\n",
              "      <td>12/2/2010 17:38</td>\n",
              "      <td>1.06</td>\n",
              "      <td>16754.0</td>\n",
              "      <td>United Kingdom</td>\n",
              "      <td>2010-12-02</td>\n",
              "    </tr>\n",
              "    <tr>\n",
              "      <th>6365</th>\n",
              "      <td>536890</td>\n",
              "      <td>17084R</td>\n",
              "      <td>ASSORTED INCENSE PACK</td>\n",
              "      <td>1440</td>\n",
              "      <td>12/3/2010 11:48</td>\n",
              "      <td>0.16</td>\n",
              "      <td>14156.0</td>\n",
              "      <td>Europe</td>\n",
              "      <td>2010-12-03</td>\n",
              "    </tr>\n",
              "    <tr>\n",
              "      <th>16435</th>\n",
              "      <td>537659</td>\n",
              "      <td>22189</td>\n",
              "      <td>CREAM HEART CARD HOLDER</td>\n",
              "      <td>1008</td>\n",
              "      <td>12/7/2010 16:43</td>\n",
              "      <td>2.31</td>\n",
              "      <td>18102.0</td>\n",
              "      <td>United Kingdom</td>\n",
              "      <td>2010-12-07</td>\n",
              "    </tr>\n",
              "    <tr>\n",
              "      <th>16436</th>\n",
              "      <td>537659</td>\n",
              "      <td>22188</td>\n",
              "      <td>BLACK HEART CARD HOLDER</td>\n",
              "      <td>1008</td>\n",
              "      <td>12/7/2010 16:43</td>\n",
              "      <td>2.31</td>\n",
              "      <td>18102.0</td>\n",
              "      <td>United Kingdom</td>\n",
              "      <td>2010-12-07</td>\n",
              "    </tr>\n",
              "    <tr>\n",
              "      <th>19871</th>\n",
              "      <td>537899</td>\n",
              "      <td>22328</td>\n",
              "      <td>ROUND SNACK BOXES SET OF 4 FRUITS</td>\n",
              "      <td>1488</td>\n",
              "      <td>12/9/2010 10:44</td>\n",
              "      <td>2.55</td>\n",
              "      <td>12755.0</td>\n",
              "      <td>Asia</td>\n",
              "      <td>2010-12-09</td>\n",
              "    </tr>\n",
              "    <tr>\n",
              "      <th>19980</th>\n",
              "      <td>537981</td>\n",
              "      <td>22492</td>\n",
              "      <td>MINI PAINT SET VINTAGE</td>\n",
              "      <td>1394</td>\n",
              "      <td>12/9/2010 11:35</td>\n",
              "      <td>0.55</td>\n",
              "      <td>17857.0</td>\n",
              "      <td>United Kingdom</td>\n",
              "      <td>2010-12-09</td>\n",
              "    </tr>\n",
              "    <tr>\n",
              "      <th>25920</th>\n",
              "      <td>538420</td>\n",
              "      <td>17096</td>\n",
              "      <td>ASSORTED LAQUERED INCENSE HOLDERS</td>\n",
              "      <td>1728</td>\n",
              "      <td>12/12/2010 12:03</td>\n",
              "      <td>0.17</td>\n",
              "      <td>12875.0</td>\n",
              "      <td>United Kingdom</td>\n",
              "      <td>2010-12-12</td>\n",
              "    </tr>\n",
              "    <tr>\n",
              "      <th>32671</th>\n",
              "      <td>539101</td>\n",
              "      <td>22693</td>\n",
              "      <td>GROW A FLYTRAP OR SUNFLOWER IN TIN</td>\n",
              "      <td>2400</td>\n",
              "      <td>12/16/2010 10:35</td>\n",
              "      <td>0.94</td>\n",
              "      <td>16029.0</td>\n",
              "      <td>United Kingdom</td>\n",
              "      <td>2010-12-16</td>\n",
              "    </tr>\n",
              "    <tr>\n",
              "      <th>40060</th>\n",
              "      <td>539721</td>\n",
              "      <td>22616</td>\n",
              "      <td>PACK OF 12 LONDON TISSUES</td>\n",
              "      <td>1296</td>\n",
              "      <td>12/21/2010 13:34</td>\n",
              "      <td>0.25</td>\n",
              "      <td>17306.0</td>\n",
              "      <td>United Kingdom</td>\n",
              "      <td>2010-12-21</td>\n",
              "    </tr>\n",
              "    <tr>\n",
              "      <th>52132</th>\n",
              "      <td>540689</td>\n",
              "      <td>85123A</td>\n",
              "      <td>WHITE HANGING HEART T-LIGHT HOLDER</td>\n",
              "      <td>1010</td>\n",
              "      <td>1/11/2011 8:43</td>\n",
              "      <td>3.24</td>\n",
              "      <td>17450.0</td>\n",
              "      <td>United Kingdom</td>\n",
              "      <td>2011-01-11</td>\n",
              "    </tr>\n",
              "    <tr>\n",
              "      <th>52133</th>\n",
              "      <td>540689</td>\n",
              "      <td>22469</td>\n",
              "      <td>HEART OF WICKER SMALL</td>\n",
              "      <td>1356</td>\n",
              "      <td>1/11/2011 8:43</td>\n",
              "      <td>1.93</td>\n",
              "      <td>17450.0</td>\n",
              "      <td>United Kingdom</td>\n",
              "      <td>2011-01-11</td>\n",
              "    </tr>\n",
              "    <tr>\n",
              "      <th>52134</th>\n",
              "      <td>540689</td>\n",
              "      <td>22470</td>\n",
              "      <td>HEART OF WICKER LARGE</td>\n",
              "      <td>1284</td>\n",
              "      <td>1/11/2011 8:43</td>\n",
              "      <td>3.21</td>\n",
              "      <td>17450.0</td>\n",
              "      <td>United Kingdom</td>\n",
              "      <td>2011-01-11</td>\n",
              "    </tr>\n",
              "    <tr>\n",
              "      <th>52709</th>\n",
              "      <td>540815</td>\n",
              "      <td>85123A</td>\n",
              "      <td>WHITE HANGING HEART T-LIGHT HOLDER</td>\n",
              "      <td>1930</td>\n",
              "      <td>1/11/2011 12:55</td>\n",
              "      <td>2.55</td>\n",
              "      <td>15749.0</td>\n",
              "      <td>United Kingdom</td>\n",
              "      <td>2011-01-11</td>\n",
              "    </tr>\n",
              "    <tr>\n",
              "      <th>52710</th>\n",
              "      <td>540815</td>\n",
              "      <td>21175</td>\n",
              "      <td>GIN + TONIC DIET METAL SIGN</td>\n",
              "      <td>2000</td>\n",
              "      <td>1/11/2011 12:55</td>\n",
              "      <td>1.85</td>\n",
              "      <td>15749.0</td>\n",
              "      <td>United Kingdom</td>\n",
              "      <td>2011-01-11</td>\n",
              "    </tr>\n",
              "    <tr>\n",
              "      <th>52711</th>\n",
              "      <td>540815</td>\n",
              "      <td>21108</td>\n",
              "      <td>FAIRY CAKE FLANNEL ASSORTED COLOUR</td>\n",
              "      <td>3114</td>\n",
              "      <td>1/11/2011 12:55</td>\n",
              "      <td>2.10</td>\n",
              "      <td>15749.0</td>\n",
              "      <td>United Kingdom</td>\n",
              "      <td>2011-01-11</td>\n",
              "    </tr>\n",
              "    <tr>\n",
              "      <th>52771</th>\n",
              "      <td>540818</td>\n",
              "      <td>47556B</td>\n",
              "      <td>TEA TIME TEA TOWELS</td>\n",
              "      <td>1300</td>\n",
              "      <td>1/11/2011 12:57</td>\n",
              "      <td>2.55</td>\n",
              "      <td>15749.0</td>\n",
              "      <td>United Kingdom</td>\n",
              "      <td>2011-01-11</td>\n",
              "    </tr>\n",
              "    <tr>\n",
              "      <th>61619</th>\n",
              "      <td>541431</td>\n",
              "      <td>23166</td>\n",
              "      <td>MEDIUM CERAMIC TOP STORAGE JAR</td>\n",
              "      <td>74215</td>\n",
              "      <td>1/18/2011 10:01</td>\n",
              "      <td>1.04</td>\n",
              "      <td>12346.0</td>\n",
              "      <td>United Kingdom</td>\n",
              "      <td>2011-01-18</td>\n",
              "    </tr>\n",
              "    <tr>\n",
              "      <th>61624</th>\n",
              "      <td>C541433</td>\n",
              "      <td>23166</td>\n",
              "      <td>MEDIUM CERAMIC TOP STORAGE JAR</td>\n",
              "      <td>-74215</td>\n",
              "      <td>1/18/2011 10:17</td>\n",
              "      <td>1.04</td>\n",
              "      <td>12346.0</td>\n",
              "      <td>United Kingdom</td>\n",
              "      <td>2011-01-18</td>\n",
              "    </tr>\n",
              "    <tr>\n",
              "      <th>63444</th>\n",
              "      <td>541570</td>\n",
              "      <td>21212</td>\n",
              "      <td>PACK OF 72 RETROSPOT CAKE CASES</td>\n",
              "      <td>1440</td>\n",
              "      <td>1/19/2011 12:34</td>\n",
              "      <td>0.42</td>\n",
              "      <td>14646.0</td>\n",
              "      <td>Europe</td>\n",
              "      <td>2011-01-19</td>\n",
              "    </tr>\n",
              "    <tr>\n",
              "      <th>80742</th>\n",
              "      <td>543057</td>\n",
              "      <td>84077</td>\n",
              "      <td>WORLD WAR 2 GLIDERS ASSTD DESIGNS</td>\n",
              "      <td>2592</td>\n",
              "      <td>2/3/2011 10:50</td>\n",
              "      <td>0.21</td>\n",
              "      <td>16333.0</td>\n",
              "      <td>United Kingdom</td>\n",
              "      <td>2011-02-03</td>\n",
              "    </tr>\n",
              "    <tr>\n",
              "      <th>82205</th>\n",
              "      <td>543192</td>\n",
              "      <td>15036</td>\n",
              "      <td>ASSORTED COLOURS SILK FAN</td>\n",
              "      <td>1200</td>\n",
              "      <td>2/4/2011 11:55</td>\n",
              "      <td>0.65</td>\n",
              "      <td>17381.0</td>\n",
              "      <td>United Kingdom</td>\n",
              "      <td>2011-02-04</td>\n",
              "    </tr>\n",
              "    <tr>\n",
              "      <th>86503</th>\n",
              "      <td>543549</td>\n",
              "      <td>21982</td>\n",
              "      <td>PACK OF 12 SUKI TISSUES</td>\n",
              "      <td>1296</td>\n",
              "      <td>2/10/2011 9:29</td>\n",
              "      <td>0.22</td>\n",
              "      <td>17940.0</td>\n",
              "      <td>United Kingdom</td>\n",
              "      <td>2011-02-10</td>\n",
              "    </tr>\n",
              "    <tr>\n",
              "      <th>86504</th>\n",
              "      <td>543549</td>\n",
              "      <td>21986</td>\n",
              "      <td>PACK OF 12 PINK POLKADOT TISSUES</td>\n",
              "      <td>1296</td>\n",
              "      <td>2/10/2011 9:29</td>\n",
              "      <td>0.22</td>\n",
              "      <td>17940.0</td>\n",
              "      <td>United Kingdom</td>\n",
              "      <td>2011-02-10</td>\n",
              "    </tr>\n",
              "    <tr>\n",
              "      <th>86505</th>\n",
              "      <td>543549</td>\n",
              "      <td>21985</td>\n",
              "      <td>PACK OF 12 HEARTS DESIGN TISSUES</td>\n",
              "      <td>1296</td>\n",
              "      <td>2/10/2011 9:29</td>\n",
              "      <td>0.22</td>\n",
              "      <td>17940.0</td>\n",
              "      <td>United Kingdom</td>\n",
              "      <td>2011-02-10</td>\n",
              "    </tr>\n",
              "    <tr>\n",
              "      <th>87631</th>\n",
              "      <td>543669</td>\n",
              "      <td>22693</td>\n",
              "      <td>GROW A FLYTRAP OR SUNFLOWER IN TIN</td>\n",
              "      <td>2400</td>\n",
              "      <td>2/11/2011 11:22</td>\n",
              "      <td>0.94</td>\n",
              "      <td>16029.0</td>\n",
              "      <td>United Kingdom</td>\n",
              "      <td>2011-02-11</td>\n",
              "    </tr>\n",
              "    <tr>\n",
              "      <th>89284</th>\n",
              "      <td>543842</td>\n",
              "      <td>22693</td>\n",
              "      <td>GROW A FLYTRAP OR SUNFLOWER IN TIN</td>\n",
              "      <td>1056</td>\n",
              "      <td>2/14/2011 11:22</td>\n",
              "      <td>1.06</td>\n",
              "      <td>16333.0</td>\n",
              "      <td>United Kingdom</td>\n",
              "      <td>2011-02-14</td>\n",
              "    </tr>\n",
              "    <tr>\n",
              "      <th>90259</th>\n",
              "      <td>543991</td>\n",
              "      <td>16014</td>\n",
              "      <td>SMALL CHINESE STYLE SCISSOR</td>\n",
              "      <td>1500</td>\n",
              "      <td>2/15/2011 10:17</td>\n",
              "      <td>0.32</td>\n",
              "      <td>13848.0</td>\n",
              "      <td>United Kingdom</td>\n",
              "      <td>2011-02-15</td>\n",
              "    </tr>\n",
              "  </tbody>\n",
              "</table>\n",
              "</div>"
            ],
            "text/plain": [
              "      invoiceno stockcode                          description  quantity       invoicedate  unitprice  customerid         country    newdate\n",
              "4287    C536757     84347  ROTATING SILVER ANGELS T-LIGHT HLDR     -9360   12/2/2010 14:23       0.03     15838.0  United Kingdom 2010-12-02\n",
              "4850     536809     84950       ASSORTED COLOUR T-LIGHT HOLDER      1824   12/2/2010 16:48       0.55     15299.0  United Kingdom 2010-12-02\n",
              "4945     536830     84077    WORLD WAR 2 GLIDERS ASSTD DESIGNS      2880   12/2/2010 17:38       0.18     16754.0  United Kingdom 2010-12-02\n",
              "4946     536830     21915               RED  HARMONICA IN BOX       1400   12/2/2010 17:38       1.06     16754.0  United Kingdom 2010-12-02\n",
              "6365     536890    17084R                ASSORTED INCENSE PACK      1440   12/3/2010 11:48       0.16     14156.0          Europe 2010-12-03\n",
              "16435    537659     22189              CREAM HEART CARD HOLDER      1008   12/7/2010 16:43       2.31     18102.0  United Kingdom 2010-12-07\n",
              "16436    537659     22188              BLACK HEART CARD HOLDER      1008   12/7/2010 16:43       2.31     18102.0  United Kingdom 2010-12-07\n",
              "19871    537899     22328   ROUND SNACK BOXES SET OF 4 FRUITS       1488   12/9/2010 10:44       2.55     12755.0            Asia 2010-12-09\n",
              "19980    537981     22492              MINI PAINT SET VINTAGE       1394   12/9/2010 11:35       0.55     17857.0  United Kingdom 2010-12-09\n",
              "25920    538420     17096    ASSORTED LAQUERED INCENSE HOLDERS      1728  12/12/2010 12:03       0.17     12875.0  United Kingdom 2010-12-12\n",
              "32671    539101     22693   GROW A FLYTRAP OR SUNFLOWER IN TIN      2400  12/16/2010 10:35       0.94     16029.0  United Kingdom 2010-12-16\n",
              "40060    539721     22616           PACK OF 12 LONDON TISSUES       1296  12/21/2010 13:34       0.25     17306.0  United Kingdom 2010-12-21\n",
              "52132    540689    85123A   WHITE HANGING HEART T-LIGHT HOLDER      1010    1/11/2011 8:43       3.24     17450.0  United Kingdom 2011-01-11\n",
              "52133    540689     22469                HEART OF WICKER SMALL      1356    1/11/2011 8:43       1.93     17450.0  United Kingdom 2011-01-11\n",
              "52134    540689     22470                HEART OF WICKER LARGE      1284    1/11/2011 8:43       3.21     17450.0  United Kingdom 2011-01-11\n",
              "52709    540815    85123A   WHITE HANGING HEART T-LIGHT HOLDER      1930   1/11/2011 12:55       2.55     15749.0  United Kingdom 2011-01-11\n",
              "52710    540815     21175          GIN + TONIC DIET METAL SIGN      2000   1/11/2011 12:55       1.85     15749.0  United Kingdom 2011-01-11\n",
              "52711    540815     21108   FAIRY CAKE FLANNEL ASSORTED COLOUR      3114   1/11/2011 12:55       2.10     15749.0  United Kingdom 2011-01-11\n",
              "52771    540818    47556B                 TEA TIME TEA TOWELS       1300   1/11/2011 12:57       2.55     15749.0  United Kingdom 2011-01-11\n",
              "61619    541431     23166       MEDIUM CERAMIC TOP STORAGE JAR     74215   1/18/2011 10:01       1.04     12346.0  United Kingdom 2011-01-18\n",
              "61624   C541433     23166       MEDIUM CERAMIC TOP STORAGE JAR    -74215   1/18/2011 10:17       1.04     12346.0  United Kingdom 2011-01-18\n",
              "63444    541570     21212      PACK OF 72 RETROSPOT CAKE CASES      1440   1/19/2011 12:34       0.42     14646.0          Europe 2011-01-19\n",
              "80742    543057     84077    WORLD WAR 2 GLIDERS ASSTD DESIGNS      2592    2/3/2011 10:50       0.21     16333.0  United Kingdom 2011-02-03\n",
              "82205    543192     15036            ASSORTED COLOURS SILK FAN      1200    2/4/2011 11:55       0.65     17381.0  United Kingdom 2011-02-04\n",
              "86503    543549     21982             PACK OF 12 SUKI TISSUES       1296    2/10/2011 9:29       0.22     17940.0  United Kingdom 2011-02-10\n",
              "86504    543549     21986     PACK OF 12 PINK POLKADOT TISSUES      1296    2/10/2011 9:29       0.22     17940.0  United Kingdom 2011-02-10\n",
              "86505    543549     21985    PACK OF 12 HEARTS DESIGN TISSUES       1296    2/10/2011 9:29       0.22     17940.0  United Kingdom 2011-02-10\n",
              "87631    543669     22693   GROW A FLYTRAP OR SUNFLOWER IN TIN      2400   2/11/2011 11:22       0.94     16029.0  United Kingdom 2011-02-11\n",
              "89284    543842     22693   GROW A FLYTRAP OR SUNFLOWER IN TIN      1056   2/14/2011 11:22       1.06     16333.0  United Kingdom 2011-02-14\n",
              "90259    543991     16014          SMALL CHINESE STYLE SCISSOR      1500   2/15/2011 10:17       0.32     13848.0  United Kingdom 2011-02-15"
            ]
          },
          "metadata": {
            "tags": []
          },
          "execution_count": 44
        }
      ]
    },
    {
      "cell_type": "markdown",
      "metadata": {
        "id": "q491W2MFmHHI",
        "colab_type": "text"
      },
      "source": [
        "### Let's Learn Sorting methods\n",
        "\n",
        "        Series Sorting method-----> Series.sort_values(axis=0, ascending=True, inplace=False, kind=’quicksort’, na_position=’last’)\n",
        "\n",
        "        Numpy Array sorting method-----> numpy.sort(a, axis=-1, kind=None, order=None"
      ]
    },
    {
      "cell_type": "code",
      "metadata": {
        "id": "2p4XNCsAmJgs",
        "colab_type": "code",
        "outputId": "82bb1ac8-3057-4731-fd63-3b63e1a73fc5",
        "colab": {
          "base_uri": "https://localhost:8080/",
          "height": 804
        }
      },
      "source": [
        "# Get a series of unique values in column 'Quantity' of the dataframe\n",
        "uniqueValues = ecomnew['quantity'].unique()\n",
        "uniqueValues = np.sort(uniqueValues, axis=0) # output was a numpy array in the previous row and hence need to use numpy sorting\n",
        "print('Unique elements in column \"Quantity\" ')\n",
        "print(uniqueValues)"
      ],
      "execution_count": 45,
      "outputs": [
        {
          "output_type": "stream",
          "text": [
            "Unique elements in column \"Quantity\" \n",
            "[-80995 -74215  -9360  -3114  -2000  -1930  -1515  -1350  -1300  -1296\n",
            "  -1200   -960   -840   -828   -756   -720   -701   -670   -624   -600\n",
            "   -576   -500   -480   -468   -432   -420   -408   -400   -360   -334\n",
            "   -324   -318   -312   -300   -288   -276   -252   -250   -244   -240\n",
            "   -234   -220   -200   -192   -186   -184   -180   -168   -164   -162\n",
            "   -160   -152   -150   -144   -140   -132   -130   -126   -121   -120\n",
            "   -113   -112   -110   -108   -102   -100    -96    -94    -86    -85\n",
            "    -82    -80    -79    -76    -75    -72    -70    -68    -67    -66\n",
            "    -64    -60    -58    -53    -52    -51    -50    -49    -48    -47\n",
            "    -46    -45    -43    -42    -40    -39    -38    -37    -36    -35\n",
            "    -34    -33    -32    -31    -30    -29    -28    -27    -26    -25\n",
            "    -24    -23    -22    -21    -20    -19    -18    -17    -16    -15\n",
            "    -14    -13    -12    -11    -10     -9     -8     -7     -6     -5\n",
            "     -4     -3     -2     -1      1      2      3      4      5      6\n",
            "      7      8      9     10     11     12     13     14     15     16\n",
            "     17     18     19     20     21     22     23     24     25     26\n",
            "     27     28     29     30     31     32     33     34     35     36\n",
            "     37     38     39     40     41     42     43     44     45     46\n",
            "     47     48     49     50     51     52     53     54     55     56\n",
            "     57     58     59     60     62     63     64     65     66     67\n",
            "     69     70     72     74     75     76     78     79     80     81\n",
            "     83     84     85     86     87     88     89     90     92     93\n",
            "     94     95     96     98    100    101    102    104    108    109\n",
            "    110    112    114    115    116    117    120    121    124    125\n",
            "    126    128    129    130    132    136    139    140    141    144\n",
            "    147    150    151    152    156    157    160    162    168    176\n",
            "    180    183    186    188    192    196    198    200    204    208\n",
            "    210    216    220    222    224    227    228    230    232    234\n",
            "    236    240    244    246    248    250    252    255    256    261\n",
            "    264    270    272    273    276    280    288    291    300    304\n",
            "    306    312    320    323    324    330    336    342    348    350\n",
            "    352    360    378    384    388    392    396    400    402    407\n",
            "    408    410    416    420    428    430    432    448    450    456\n",
            "    462    468    480    490    492    494    496    500    504    512\n",
            "    528    540    552    560    576    588    600    608    612    620\n",
            "    624    630    640    648    660    666    670    672    684    696\n",
            "    698    700    701    708    720    738    744    756    760    768\n",
            "    774    800    824    828    832    840    852    860    864    888\n",
            "    900    906    912    960    968    972    992   1000   1008   1010\n",
            "   1020   1056   1120   1152   1200   1284   1296   1300   1350   1356\n",
            "   1394   1400   1404   1412   1428   1440   1488   1500   1515   1540\n",
            "   1600   1728   1788   1824   1878   1900   1930   1944   1992   2000\n",
            "   2040   2100   2160   2400   2592   2700   2880   3000   3114   3186\n",
            "   3906   4300   4800  12540  74215  80995]\n"
          ],
          "name": "stdout"
        }
      ]
    },
    {
      "cell_type": "markdown",
      "metadata": {
        "id": "PtDmhpTRt7Bq",
        "colab_type": "text"
      },
      "source": [
        "### What do you see on the above output? \n",
        "\n",
        "Can you see large numbers like '80995' , '74215' ... etc are repeating both on the posive side and negative side!!! \n",
        "\n",
        "May be these are misplaced order which are cancelled. We might need to check these a little deep in future."
      ]
    },
    {
      "cell_type": "code",
      "metadata": {
        "id": "AOpHXhyIoz0Q",
        "colab_type": "code",
        "outputId": "560237f0-83ca-4b72-f8bc-2b7e33f15a58",
        "colab": {
          "base_uri": "https://localhost:8080/",
          "height": 69
        }
      },
      "source": [
        "# Get a series of unique values in column 'Country' of the dataframe\n",
        "uniqueValues = ecomnew['country'].unique()\n",
        "print('Unique elements in column \"Country\" ')\n",
        "print(uniqueValues)"
      ],
      "execution_count": 46,
      "outputs": [
        {
          "output_type": "stream",
          "text": [
            "Unique elements in column \"Country\" \n",
            "['United Kingdom' 'Europe' 'Australia' 'Asia' 'Middle East' 'Canada'\n",
            " 'Unspecified' 'South America' 'USA']\n"
          ],
          "name": "stdout"
        }
      ]
    },
    {
      "cell_type": "code",
      "metadata": {
        "id": "a5-kqTKG5sbc",
        "colab_type": "code",
        "outputId": "8a9032e1-f27d-439f-b9f1-c8395081daa7",
        "colab": {
          "base_uri": "https://localhost:8080/",
          "height": 262
        }
      },
      "source": [
        "print(ecomnew[(ecomnew.customerid==12931.0)])"
      ],
      "execution_count": 47,
      "outputs": [
        {
          "output_type": "stream",
          "text": [
            "       invoiceno stockcode                       description  quantity       invoicedate  unitprice  customerid         country    newdate\n",
            "34302     539332     22197              SMALL POPCORN HOLDER       200   12/17/2010 9:45       0.72     12931.0  United Kingdom 2010-12-17\n",
            "37355     539460     21731     RED TOADSTOOL LED NIGHT LIGHT        20  12/17/2010 18:07       1.65     12931.0  United Kingdom 2010-12-17\n",
            "86950    C543624         M                            Manual      -200   2/10/2011 15:33       0.41     12931.0  United Kingdom 2011-02-10\n",
            "90281     543994     22604    SET OF 4 NAPKIN CHARMS CUTLERY       256   2/15/2011 10:41       2.10     12931.0  United Kingdom 2011-02-15\n",
            "90282     543994     22149        FELTCRAFT 6 FLOWER FRIENDS       280   2/15/2011 10:41       1.85     12931.0  United Kingdom 2011-02-15\n",
            "...          ...       ...                               ...       ...               ...        ...         ...             ...        ...\n",
            "476466    577021     21479     WHITE SKULL HOT WATER BOTTLE        300  11/17/2011 12:39       3.75     12931.0  United Kingdom 2011-11-17\n",
            "476467    577021     23203          JUMBO BAG VINTAGE DOILY        150  11/17/2011 12:39       1.79     12931.0  United Kingdom 2011-11-17\n",
            "476468    577021     23215  JINGLE BELL HEART ANTIQUE SILVER       456  11/17/2011 12:39       1.79     12931.0  United Kingdom 2011-11-17\n",
            "480212    577289     22564            ALPHABET STENCIL CRAFT       216  11/18/2011 12:39       1.06     12931.0  United Kingdom 2011-11-18\n",
            "480213    577289     22197                    POPCORN HOLDER       300  11/18/2011 12:39       0.72     12931.0  United Kingdom 2011-11-18\n",
            "\n",
            "[102 rows x 9 columns]\n"
          ],
          "name": "stdout"
        }
      ]
    },
    {
      "cell_type": "markdown",
      "metadata": {
        "id": "6u-bWz2g6Ii0",
        "colab_type": "text"
      },
      "source": [
        "#### Description \"Manual\", Non neumetric stock code ???? Need to do a deep dive to understand this data. \n",
        "\n",
        "I am sure you must be feeling there is some relationship between non neumeric stock code and description being non-product description. We shall check this as well"
      ]
    },
    {
      "cell_type": "code",
      "metadata": {
        "id": "hn42nH8Ppwoj",
        "colab_type": "code",
        "outputId": "81307545-93bf-4533-efa4-3386445e2c69",
        "colab": {
          "base_uri": "https://localhost:8080/",
          "height": 107
        }
      },
      "source": [
        "ecomnew[(ecomnew.quantity==80995) | (ecomnew.quantity==-80995)]"
      ],
      "execution_count": 48,
      "outputs": [
        {
          "output_type": "execute_result",
          "data": {
            "text/html": [
              "<div>\n",
              "<style scoped>\n",
              "    .dataframe tbody tr th:only-of-type {\n",
              "        vertical-align: middle;\n",
              "    }\n",
              "\n",
              "    .dataframe tbody tr th {\n",
              "        vertical-align: top;\n",
              "    }\n",
              "\n",
              "    .dataframe thead th {\n",
              "        text-align: right;\n",
              "    }\n",
              "</style>\n",
              "<table border=\"1\" class=\"dataframe\">\n",
              "  <thead>\n",
              "    <tr style=\"text-align: right;\">\n",
              "      <th></th>\n",
              "      <th>invoiceno</th>\n",
              "      <th>stockcode</th>\n",
              "      <th>description</th>\n",
              "      <th>quantity</th>\n",
              "      <th>invoicedate</th>\n",
              "      <th>unitprice</th>\n",
              "      <th>customerid</th>\n",
              "      <th>country</th>\n",
              "      <th>newdate</th>\n",
              "    </tr>\n",
              "  </thead>\n",
              "  <tbody>\n",
              "    <tr>\n",
              "      <th>540421</th>\n",
              "      <td>581483</td>\n",
              "      <td>23843</td>\n",
              "      <td>PAPER CRAFT , LITTLE BIRDIE</td>\n",
              "      <td>80995</td>\n",
              "      <td>12/9/2011 9:15</td>\n",
              "      <td>2.08</td>\n",
              "      <td>16446.0</td>\n",
              "      <td>United Kingdom</td>\n",
              "      <td>2011-12-09</td>\n",
              "    </tr>\n",
              "    <tr>\n",
              "      <th>540422</th>\n",
              "      <td>C581484</td>\n",
              "      <td>23843</td>\n",
              "      <td>PAPER CRAFT , LITTLE BIRDIE</td>\n",
              "      <td>-80995</td>\n",
              "      <td>12/9/2011 9:27</td>\n",
              "      <td>2.08</td>\n",
              "      <td>16446.0</td>\n",
              "      <td>United Kingdom</td>\n",
              "      <td>2011-12-09</td>\n",
              "    </tr>\n",
              "  </tbody>\n",
              "</table>\n",
              "</div>"
            ],
            "text/plain": [
              "       invoiceno stockcode                  description  quantity     invoicedate  unitprice  customerid         country    newdate\n",
              "540421    581483     23843  PAPER CRAFT , LITTLE BIRDIE     80995  12/9/2011 9:15       2.08     16446.0  United Kingdom 2011-12-09\n",
              "540422   C581484     23843  PAPER CRAFT , LITTLE BIRDIE    -80995  12/9/2011 9:27       2.08     16446.0  United Kingdom 2011-12-09"
            ]
          },
          "metadata": {
            "tags": []
          },
          "execution_count": 48
        }
      ]
    },
    {
      "cell_type": "code",
      "metadata": {
        "id": "BIuo_RjB35Hi",
        "colab_type": "code",
        "colab": {
          "base_uri": "https://localhost:8080/",
          "height": 107
        },
        "outputId": "9445caa1-6741-4587-beaf-ae05268820d0"
      },
      "source": [
        "ecomnew[(ecomnew.quantity==74215) | (ecomnew.quantity==-74215)]"
      ],
      "execution_count": 64,
      "outputs": [
        {
          "output_type": "execute_result",
          "data": {
            "text/html": [
              "<div>\n",
              "<style scoped>\n",
              "    .dataframe tbody tr th:only-of-type {\n",
              "        vertical-align: middle;\n",
              "    }\n",
              "\n",
              "    .dataframe tbody tr th {\n",
              "        vertical-align: top;\n",
              "    }\n",
              "\n",
              "    .dataframe thead th {\n",
              "        text-align: right;\n",
              "    }\n",
              "</style>\n",
              "<table border=\"1\" class=\"dataframe\">\n",
              "  <thead>\n",
              "    <tr style=\"text-align: right;\">\n",
              "      <th></th>\n",
              "      <th>invoiceno</th>\n",
              "      <th>stockcode</th>\n",
              "      <th>description</th>\n",
              "      <th>quantity</th>\n",
              "      <th>invoicedate</th>\n",
              "      <th>unitprice</th>\n",
              "      <th>customerid</th>\n",
              "      <th>country</th>\n",
              "      <th>newdate</th>\n",
              "      <th>alpha_description</th>\n",
              "    </tr>\n",
              "  </thead>\n",
              "  <tbody>\n",
              "    <tr>\n",
              "      <th>61619</th>\n",
              "      <td>541431</td>\n",
              "      <td>23166</td>\n",
              "      <td>MEDIUM CERAMIC TOP STORAGE JAR</td>\n",
              "      <td>74215</td>\n",
              "      <td>1/18/2011 10:01</td>\n",
              "      <td>1.04</td>\n",
              "      <td>12346.0</td>\n",
              "      <td>United Kingdom</td>\n",
              "      <td>2011-01-18</td>\n",
              "      <td>2</td>\n",
              "    </tr>\n",
              "    <tr>\n",
              "      <th>61624</th>\n",
              "      <td>C541433</td>\n",
              "      <td>23166</td>\n",
              "      <td>MEDIUM CERAMIC TOP STORAGE JAR</td>\n",
              "      <td>-74215</td>\n",
              "      <td>1/18/2011 10:17</td>\n",
              "      <td>1.04</td>\n",
              "      <td>12346.0</td>\n",
              "      <td>United Kingdom</td>\n",
              "      <td>2011-01-18</td>\n",
              "      <td>2</td>\n",
              "    </tr>\n",
              "  </tbody>\n",
              "</table>\n",
              "</div>"
            ],
            "text/plain": [
              "      invoiceno stockcode                     description  quantity      invoicedate  unitprice  customerid         country    newdate alpha_description\n",
              "61619    541431     23166  MEDIUM CERAMIC TOP STORAGE JAR     74215  1/18/2011 10:01       1.04     12346.0  United Kingdom 2011-01-18                 2\n",
              "61624   C541433     23166  MEDIUM CERAMIC TOP STORAGE JAR    -74215  1/18/2011 10:17       1.04     12346.0  United Kingdom 2011-01-18                 2"
            ]
          },
          "metadata": {
            "tags": []
          },
          "execution_count": 64
        }
      ]
    },
    {
      "cell_type": "code",
      "metadata": {
        "id": "K6HtvJhJ49iy",
        "colab_type": "code",
        "colab": {}
      },
      "source": [
        ""
      ],
      "execution_count": 0,
      "outputs": []
    },
    {
      "cell_type": "markdown",
      "metadata": {
        "id": "sYHMFL0sy1xj",
        "colab_type": "text"
      },
      "source": [
        "#### We had observe there are lot of negative values which might be signifying return.However there are some numbers which are >1000 which has been returned. Looks suspicious \n",
        "\n",
        "If you look at the sample below the return happended on the same day within few minutes of time . Considering this data as return would be a noise.\n",
        "\n",
        "However creating a loop which will search this pattern would be computationally heavy. Rather we should see if we can extract information from first digit of the stock code and create some rules to remove these\n",
        "\n",
        "However in case if you want to try... create a function with 2 search loop as home-work"
      ]
    },
    {
      "cell_type": "code",
      "metadata": {
        "id": "JVOlvi_F0Fps",
        "colab_type": "code",
        "outputId": "efd35b91-3516-4b6c-f317-dfe6a2ed4421",
        "colab": {
          "base_uri": "https://localhost:8080/",
          "height": 227
        }
      },
      "source": [
        "print(ecomnew[(ecomnew.quantity==252) | (ecomnew.quantity==-252)])"
      ],
      "execution_count": 49,
      "outputs": [
        {
          "output_type": "stream",
          "text": [
            "       invoiceno stockcode                   description  quantity       invoicedate  unitprice  customerid         country    newdate\n",
            "2308      536575     22095          LADS ONLY TISSUE BOX       252   12/1/2010 16:01       1.25     13777.0  United Kingdom 2010-12-01\n",
            "132911    547708     22459  CAST IRON HOOK GARDEN TROWEL       252   3/24/2011 18:34       2.69     17450.0  United Kingdom 2011-03-24\n",
            "154572    549927     22970         LONDON BUS COFFEE MUG       252   4/13/2011 10:19       2.10     16684.0  United Kingdom 2011-04-13\n",
            "245136    558612     21877           HOME SWEET HOME MUG       252   6/30/2011 15:40       1.06     17949.0  United Kingdom 2011-06-30\n",
            "319917   C564940     22561   WOODEN SCHOOL COLOURING SET      -252   8/31/2011 13:10       1.45     12931.0  United Kingdom 2011-08-31\n",
            "323064    565240     21098         CHRISTMAS TOILET ROLL       252    9/2/2011 10:05       1.06     17949.0  United Kingdom 2011-09-02\n",
            "372999    569255     22189       CREAM HEART CARD HOLDER       252   10/3/2011 11:01       2.32     18102.0  United Kingdom 2011-10-03\n",
            "377909    569570     22970         LONDON BUS COFFEE MUG       252   10/5/2011 10:06       2.10     16684.0  United Kingdom 2011-10-05\n",
            "377913    569570     21844             RED RETROSPOT MUG       252   10/5/2011 10:06       2.55     16684.0  United Kingdom 2011-10-05\n",
            "437476    574293     22470         HEART OF WICKER LARGE       252   11/3/2011 15:32       3.20     17450.0  United Kingdom 2011-11-03\n",
            "465772    576254     22492       MINI PAINT SET VINTAGE        252  11/14/2011 14:02       0.65     16422.0  United Kingdom 2011-11-14\n"
          ],
          "name": "stdout"
        }
      ]
    },
    {
      "cell_type": "markdown",
      "metadata": {
        "id": "O9AnxdirxwL8",
        "colab_type": "text"
      },
      "source": [
        "### Now let's look at the stock code little deeper.\n",
        "\n",
        "Let's extract the first eliment of the stock code and look at the distribution"
      ]
    },
    {
      "cell_type": "code",
      "metadata": {
        "id": "ZjMvAtrbyOo-",
        "colab_type": "code",
        "colab": {
          "base_uri": "https://localhost:8080/",
          "height": 227
        },
        "outputId": "8480462f-8b45-455f-9e2a-56a918688810"
      },
      "source": [
        "ecomnew['stockcode'].str[:1]"
      ],
      "execution_count": 52,
      "outputs": [
        {
          "output_type": "execute_result",
          "data": {
            "text/plain": [
              "0         8\n",
              "1         7\n",
              "2         8\n",
              "3         8\n",
              "4         8\n",
              "         ..\n",
              "541904    2\n",
              "541905    2\n",
              "541906    2\n",
              "541907    2\n",
              "541908    2\n",
              "Name: stockcode, Length: 406829, dtype: object"
            ]
          },
          "metadata": {
            "tags": []
          },
          "execution_count": 52
        }
      ]
    },
    {
      "cell_type": "code",
      "metadata": {
        "id": "cLOUY-99yCrl",
        "colab_type": "code",
        "colab": {}
      },
      "source": [
        "ecomnew[\"alpha_description\"] = ecomnew['stockcode'].str[:1] # Taking the first element considering the stock code as string at each cell\n",
        "# in this function for each eliment in the dataframe \"ecomnew['stockcode']\" .str function convertin the same in to string and then we are taking first element[:1]\n"
      ],
      "execution_count": 0,
      "outputs": []
    },
    {
      "cell_type": "code",
      "metadata": {
        "id": "94jQneDfyXQg",
        "colab_type": "code",
        "colab": {
          "base_uri": "https://localhost:8080/",
          "height": 279
        },
        "outputId": "d414ddee-74f3-45af-add2-6b71713aced7"
      },
      "source": [
        "# Let's look at the distribution of the first char\n",
        "ecomnew.alpha_description.value_counts()\n"
      ],
      "execution_count": 55,
      "outputs": [
        {
          "output_type": "execute_result",
          "data": {
            "text/plain": [
              "2    335278\n",
              "8     44622\n",
              "4      8688\n",
              "1      5353\n",
              "7      5285\n",
              "3      3643\n",
              "9      1499\n",
              "P      1200\n",
              "M       465\n",
              "5       444\n",
              "C       150\n",
              "6        97\n",
              "D        93\n",
              "B        12\n",
              "Name: alpha_description, dtype: int64"
            ]
          },
          "metadata": {
            "tags": []
          },
          "execution_count": 55
        }
      ]
    },
    {
      "cell_type": "markdown",
      "metadata": {
        "id": "QAhEkXxrzJ-H",
        "colab_type": "text"
      },
      "source": [
        "### We have 2000+ transactions which are having some alphaneumeric value\n",
        "We shall take a deeper look at them "
      ]
    },
    {
      "cell_type": "code",
      "metadata": {
        "id": "Y6Lw6Pr9zWkS",
        "colab_type": "code",
        "colab": {
          "base_uri": "https://localhost:8080/",
          "height": 107
        },
        "outputId": "3a3ca1d5-7573-46a7-833f-aa8e20c4e7f8"
      },
      "source": [
        "ecomnew[ecomnew.alpha_description=='M'].head(2)"
      ],
      "execution_count": 56,
      "outputs": [
        {
          "output_type": "execute_result",
          "data": {
            "text/html": [
              "<div>\n",
              "<style scoped>\n",
              "    .dataframe tbody tr th:only-of-type {\n",
              "        vertical-align: middle;\n",
              "    }\n",
              "\n",
              "    .dataframe tbody tr th {\n",
              "        vertical-align: top;\n",
              "    }\n",
              "\n",
              "    .dataframe thead th {\n",
              "        text-align: right;\n",
              "    }\n",
              "</style>\n",
              "<table border=\"1\" class=\"dataframe\">\n",
              "  <thead>\n",
              "    <tr style=\"text-align: right;\">\n",
              "      <th></th>\n",
              "      <th>invoiceno</th>\n",
              "      <th>stockcode</th>\n",
              "      <th>description</th>\n",
              "      <th>quantity</th>\n",
              "      <th>invoicedate</th>\n",
              "      <th>unitprice</th>\n",
              "      <th>customerid</th>\n",
              "      <th>country</th>\n",
              "      <th>newdate</th>\n",
              "      <th>alpha_description</th>\n",
              "    </tr>\n",
              "  </thead>\n",
              "  <tbody>\n",
              "    <tr>\n",
              "      <th>2239</th>\n",
              "      <td>536569</td>\n",
              "      <td>M</td>\n",
              "      <td>Manual</td>\n",
              "      <td>1</td>\n",
              "      <td>12/1/2010 15:35</td>\n",
              "      <td>1.25</td>\n",
              "      <td>16274.0</td>\n",
              "      <td>United Kingdom</td>\n",
              "      <td>2010-12-01</td>\n",
              "      <td>M</td>\n",
              "    </tr>\n",
              "    <tr>\n",
              "      <th>2250</th>\n",
              "      <td>536569</td>\n",
              "      <td>M</td>\n",
              "      <td>Manual</td>\n",
              "      <td>1</td>\n",
              "      <td>12/1/2010 15:35</td>\n",
              "      <td>18.95</td>\n",
              "      <td>16274.0</td>\n",
              "      <td>United Kingdom</td>\n",
              "      <td>2010-12-01</td>\n",
              "      <td>M</td>\n",
              "    </tr>\n",
              "  </tbody>\n",
              "</table>\n",
              "</div>"
            ],
            "text/plain": [
              "     invoiceno stockcode description  quantity      invoicedate  unitprice  customerid         country    newdate alpha_description\n",
              "2239    536569         M      Manual         1  12/1/2010 15:35       1.25     16274.0  United Kingdom 2010-12-01                 M\n",
              "2250    536569         M      Manual         1  12/1/2010 15:35      18.95     16274.0  United Kingdom 2010-12-01                 M"
            ]
          },
          "metadata": {
            "tags": []
          },
          "execution_count": 56
        }
      ]
    },
    {
      "cell_type": "code",
      "metadata": {
        "id": "aZHXJLj3zeSC",
        "colab_type": "code",
        "colab": {
          "base_uri": "https://localhost:8080/",
          "height": 107
        },
        "outputId": "64170527-f9de-4bdf-9f12-e129fbf8d31d"
      },
      "source": [
        "ecomnew[ecomnew.alpha_description=='P'].head(2)"
      ],
      "execution_count": 57,
      "outputs": [
        {
          "output_type": "execute_result",
          "data": {
            "text/html": [
              "<div>\n",
              "<style scoped>\n",
              "    .dataframe tbody tr th:only-of-type {\n",
              "        vertical-align: middle;\n",
              "    }\n",
              "\n",
              "    .dataframe tbody tr th {\n",
              "        vertical-align: top;\n",
              "    }\n",
              "\n",
              "    .dataframe thead th {\n",
              "        text-align: right;\n",
              "    }\n",
              "</style>\n",
              "<table border=\"1\" class=\"dataframe\">\n",
              "  <thead>\n",
              "    <tr style=\"text-align: right;\">\n",
              "      <th></th>\n",
              "      <th>invoiceno</th>\n",
              "      <th>stockcode</th>\n",
              "      <th>description</th>\n",
              "      <th>quantity</th>\n",
              "      <th>invoicedate</th>\n",
              "      <th>unitprice</th>\n",
              "      <th>customerid</th>\n",
              "      <th>country</th>\n",
              "      <th>newdate</th>\n",
              "      <th>alpha_description</th>\n",
              "    </tr>\n",
              "  </thead>\n",
              "  <tbody>\n",
              "    <tr>\n",
              "      <th>45</th>\n",
              "      <td>536370</td>\n",
              "      <td>POST</td>\n",
              "      <td>POSTAGE</td>\n",
              "      <td>3</td>\n",
              "      <td>12/1/2010 8:45</td>\n",
              "      <td>18.0</td>\n",
              "      <td>12583.0</td>\n",
              "      <td>Europe</td>\n",
              "      <td>2010-12-01</td>\n",
              "      <td>P</td>\n",
              "    </tr>\n",
              "    <tr>\n",
              "      <th>386</th>\n",
              "      <td>536403</td>\n",
              "      <td>POST</td>\n",
              "      <td>POSTAGE</td>\n",
              "      <td>1</td>\n",
              "      <td>12/1/2010 11:27</td>\n",
              "      <td>15.0</td>\n",
              "      <td>12791.0</td>\n",
              "      <td>Europe</td>\n",
              "      <td>2010-12-01</td>\n",
              "      <td>P</td>\n",
              "    </tr>\n",
              "  </tbody>\n",
              "</table>\n",
              "</div>"
            ],
            "text/plain": [
              "    invoiceno stockcode description  quantity      invoicedate  unitprice  customerid country    newdate alpha_description\n",
              "45     536370      POST     POSTAGE         3   12/1/2010 8:45       18.0     12583.0  Europe 2010-12-01                 P\n",
              "386    536403      POST     POSTAGE         1  12/1/2010 11:27       15.0     12791.0  Europe 2010-12-01                 P"
            ]
          },
          "metadata": {
            "tags": []
          },
          "execution_count": 57
        }
      ]
    },
    {
      "cell_type": "code",
      "metadata": {
        "id": "RiPkwATZzhaQ",
        "colab_type": "code",
        "colab": {
          "base_uri": "https://localhost:8080/",
          "height": 107
        },
        "outputId": "1b148d54-ff18-4712-c964-298dca597c01"
      },
      "source": [
        "ecomnew[ecomnew.alpha_description=='C'].head(2)"
      ],
      "execution_count": 58,
      "outputs": [
        {
          "output_type": "execute_result",
          "data": {
            "text/html": [
              "<div>\n",
              "<style scoped>\n",
              "    .dataframe tbody tr th:only-of-type {\n",
              "        vertical-align: middle;\n",
              "    }\n",
              "\n",
              "    .dataframe tbody tr th {\n",
              "        vertical-align: top;\n",
              "    }\n",
              "\n",
              "    .dataframe thead th {\n",
              "        text-align: right;\n",
              "    }\n",
              "</style>\n",
              "<table border=\"1\" class=\"dataframe\">\n",
              "  <thead>\n",
              "    <tr style=\"text-align: right;\">\n",
              "      <th></th>\n",
              "      <th>invoiceno</th>\n",
              "      <th>stockcode</th>\n",
              "      <th>description</th>\n",
              "      <th>quantity</th>\n",
              "      <th>invoicedate</th>\n",
              "      <th>unitprice</th>\n",
              "      <th>customerid</th>\n",
              "      <th>country</th>\n",
              "      <th>newdate</th>\n",
              "      <th>alpha_description</th>\n",
              "    </tr>\n",
              "  </thead>\n",
              "  <tbody>\n",
              "    <tr>\n",
              "      <th>1423</th>\n",
              "      <td>536540</td>\n",
              "      <td>C2</td>\n",
              "      <td>CARRIAGE</td>\n",
              "      <td>1</td>\n",
              "      <td>12/1/2010 14:05</td>\n",
              "      <td>50.0</td>\n",
              "      <td>14911.0</td>\n",
              "      <td>Europe</td>\n",
              "      <td>2010-12-01</td>\n",
              "      <td>C</td>\n",
              "    </tr>\n",
              "    <tr>\n",
              "      <th>12119</th>\n",
              "      <td>537368</td>\n",
              "      <td>C2</td>\n",
              "      <td>CARRIAGE</td>\n",
              "      <td>1</td>\n",
              "      <td>12/6/2010 12:40</td>\n",
              "      <td>50.0</td>\n",
              "      <td>14911.0</td>\n",
              "      <td>Europe</td>\n",
              "      <td>2010-12-06</td>\n",
              "      <td>C</td>\n",
              "    </tr>\n",
              "  </tbody>\n",
              "</table>\n",
              "</div>"
            ],
            "text/plain": [
              "      invoiceno stockcode description  quantity      invoicedate  unitprice  customerid country    newdate alpha_description\n",
              "1423     536540        C2    CARRIAGE         1  12/1/2010 14:05       50.0     14911.0  Europe 2010-12-01                 C\n",
              "12119    537368        C2    CARRIAGE         1  12/6/2010 12:40       50.0     14911.0  Europe 2010-12-06                 C"
            ]
          },
          "metadata": {
            "tags": []
          },
          "execution_count": 58
        }
      ]
    },
    {
      "cell_type": "code",
      "metadata": {
        "id": "wxWYfsERzhpr",
        "colab_type": "code",
        "colab": {
          "base_uri": "https://localhost:8080/",
          "height": 107
        },
        "outputId": "ba4880fc-231e-4b96-c100-4a8bfafff7aa"
      },
      "source": [
        "ecomnew[ecomnew.alpha_description=='D'].head(2)"
      ],
      "execution_count": 59,
      "outputs": [
        {
          "output_type": "execute_result",
          "data": {
            "text/html": [
              "<div>\n",
              "<style scoped>\n",
              "    .dataframe tbody tr th:only-of-type {\n",
              "        vertical-align: middle;\n",
              "    }\n",
              "\n",
              "    .dataframe tbody tr th {\n",
              "        vertical-align: top;\n",
              "    }\n",
              "\n",
              "    .dataframe thead th {\n",
              "        text-align: right;\n",
              "    }\n",
              "</style>\n",
              "<table border=\"1\" class=\"dataframe\">\n",
              "  <thead>\n",
              "    <tr style=\"text-align: right;\">\n",
              "      <th></th>\n",
              "      <th>invoiceno</th>\n",
              "      <th>stockcode</th>\n",
              "      <th>description</th>\n",
              "      <th>quantity</th>\n",
              "      <th>invoicedate</th>\n",
              "      <th>unitprice</th>\n",
              "      <th>customerid</th>\n",
              "      <th>country</th>\n",
              "      <th>newdate</th>\n",
              "      <th>alpha_description</th>\n",
              "    </tr>\n",
              "  </thead>\n",
              "  <tbody>\n",
              "    <tr>\n",
              "      <th>141</th>\n",
              "      <td>C536379</td>\n",
              "      <td>D</td>\n",
              "      <td>Discount</td>\n",
              "      <td>-1</td>\n",
              "      <td>12/1/2010 9:41</td>\n",
              "      <td>27.50</td>\n",
              "      <td>14527.0</td>\n",
              "      <td>United Kingdom</td>\n",
              "      <td>2010-12-01</td>\n",
              "      <td>D</td>\n",
              "    </tr>\n",
              "    <tr>\n",
              "      <th>9038</th>\n",
              "      <td>C537164</td>\n",
              "      <td>D</td>\n",
              "      <td>Discount</td>\n",
              "      <td>-1</td>\n",
              "      <td>12/5/2010 13:21</td>\n",
              "      <td>29.29</td>\n",
              "      <td>14527.0</td>\n",
              "      <td>United Kingdom</td>\n",
              "      <td>2010-12-05</td>\n",
              "      <td>D</td>\n",
              "    </tr>\n",
              "  </tbody>\n",
              "</table>\n",
              "</div>"
            ],
            "text/plain": [
              "     invoiceno stockcode description  quantity      invoicedate  unitprice  customerid         country    newdate alpha_description\n",
              "141    C536379         D    Discount        -1   12/1/2010 9:41      27.50     14527.0  United Kingdom 2010-12-01                 D\n",
              "9038   C537164         D    Discount        -1  12/5/2010 13:21      29.29     14527.0  United Kingdom 2010-12-05                 D"
            ]
          },
          "metadata": {
            "tags": []
          },
          "execution_count": 59
        }
      ]
    },
    {
      "cell_type": "code",
      "metadata": {
        "id": "nmJoILXGz6BQ",
        "colab_type": "code",
        "colab": {
          "base_uri": "https://localhost:8080/",
          "height": 69
        },
        "outputId": "21c5fa9d-d871-48f1-ac52-bdc249951cb1"
      },
      "source": [
        "# Checking what description does it have for each of them \n",
        "ecomnew[ecomnew.alpha_description=='C'].description.value_counts()"
      ],
      "execution_count": 60,
      "outputs": [
        {
          "output_type": "execute_result",
          "data": {
            "text/plain": [
              "CARRIAGE           134\n",
              "CRUK Commission     16\n",
              "Name: description, dtype: int64"
            ]
          },
          "metadata": {
            "tags": []
          },
          "execution_count": 60
        }
      ]
    },
    {
      "cell_type": "code",
      "metadata": {
        "id": "74Fz9QoP0cq4",
        "colab_type": "code",
        "colab": {
          "base_uri": "https://localhost:8080/",
          "height": 52
        },
        "outputId": "a6de8447-453a-4726-fb2c-ae2aada2e8c4"
      },
      "source": [
        "ecomnew[ecomnew.alpha_description=='M'].description.value_counts()"
      ],
      "execution_count": 61,
      "outputs": [
        {
          "output_type": "execute_result",
          "data": {
            "text/plain": [
              "Manual    465\n",
              "Name: description, dtype: int64"
            ]
          },
          "metadata": {
            "tags": []
          },
          "execution_count": 61
        }
      ]
    },
    {
      "cell_type": "code",
      "metadata": {
        "id": "xp74me8p0c4l",
        "colab_type": "code",
        "colab": {
          "base_uri": "https://localhost:8080/",
          "height": 69
        },
        "outputId": "5a7b77eb-0c88-4229-ee8c-eef3e4df0894"
      },
      "source": [
        "ecomnew[ecomnew.alpha_description=='D'].description.value_counts()"
      ],
      "execution_count": 62,
      "outputs": [
        {
          "output_type": "execute_result",
          "data": {
            "text/plain": [
              "Discount          77\n",
              "DOTCOM POSTAGE    16\n",
              "Name: description, dtype: int64"
            ]
          },
          "metadata": {
            "tags": []
          },
          "execution_count": 62
        }
      ]
    },
    {
      "cell_type": "code",
      "metadata": {
        "id": "D4ESWQEi0dC2",
        "colab_type": "code",
        "colab": {
          "base_uri": "https://localhost:8080/",
          "height": 69
        },
        "outputId": "22553504-eedc-4bcf-f605-55e3cf5bc700"
      },
      "source": [
        "ecomnew[ecomnew.alpha_description=='P'].description.value_counts()"
      ],
      "execution_count": 63,
      "outputs": [
        {
          "output_type": "execute_result",
          "data": {
            "text/plain": [
              "POSTAGE                       1196\n",
              "PADS TO MATCH ALL CUSHIONS       4\n",
              "Name: description, dtype: int64"
            ]
          },
          "metadata": {
            "tags": []
          },
          "execution_count": 63
        }
      ]
    },
    {
      "cell_type": "code",
      "metadata": {
        "id": "J_Jl0CXz5FWf",
        "colab_type": "code",
        "colab": {}
      },
      "source": [
        "ecomnew['invoice_c']=ecomnew['invoiceno'].str[:1]"
      ],
      "execution_count": 0,
      "outputs": []
    },
    {
      "cell_type": "code",
      "metadata": {
        "id": "HB1tvPbe5Z-3",
        "colab_type": "code",
        "colab": {
          "base_uri": "https://localhost:8080/",
          "height": 227
        },
        "outputId": "b31cc781-928a-4cc5-94ff-930036dc6014"
      },
      "source": [
        "ecomnew[ecomnew.invoice_c=='C'].description.value_counts()"
      ],
      "execution_count": 66,
      "outputs": [
        {
          "output_type": "execute_result",
          "data": {
            "text/plain": [
              "REGENCY CAKESTAND 3 TIER            181\n",
              "Manual                              175\n",
              "POSTAGE                              97\n",
              "JAM MAKING SET WITH JARS             86\n",
              "Discount                             77\n",
              "                                   ... \n",
              "SET 12 RETRO WHITE CHALK STICKS       1\n",
              "MAGIC DRAWING SLATE BAKE A CAKE       1\n",
              "VINTAGE EMBOSSED HEART                1\n",
              "EMPIRE BIRTHDAY CARD                  1\n",
              "SILK PURSE BABUSHKA BLUE              1\n",
              "Name: description, Length: 1945, dtype: int64"
            ]
          },
          "metadata": {
            "tags": []
          },
          "execution_count": 66
        }
      ]
    },
    {
      "cell_type": "markdown",
      "metadata": {
        "id": "nfiAXiei6xUr",
        "colab_type": "text"
      },
      "source": [
        "### Lets see invoice no with 'C' , how the quantity looks like"
      ]
    },
    {
      "cell_type": "code",
      "metadata": {
        "id": "zaEkhCbcABGz",
        "colab_type": "code",
        "colab": {
          "base_uri": "https://localhost:8080/",
          "height": 282
        },
        "outputId": "dc1b2dd7-bef8-484f-aa1e-7b650fe1dc7f"
      },
      "source": [
        "ecomnew[(ecomnew.invoice_c=='C') & (ecomnew.quantity<-1)].quantity.hist()"
      ],
      "execution_count": 71,
      "outputs": [
        {
          "output_type": "execute_result",
          "data": {
            "text/plain": [
              "<matplotlib.axes._subplots.AxesSubplot at 0x7f4ee0cb8080>"
            ]
          },
          "metadata": {
            "tags": []
          },
          "execution_count": 71
        },
        {
          "output_type": "display_data",
          "data": {
            "image/png": "[encoded data removed]",
            "text/plain": [
              "<Figure size 432x288 with 1 Axes>"
            ]
          },
          "metadata": {
            "tags": [],
            "needs_background": "light"
          }
        }
      ]
    },
    {
      "cell_type": "code",
      "metadata": {
        "id": "5xTt4EC05rCO",
        "colab_type": "code",
        "colab": {
          "base_uri": "https://localhost:8080/",
          "height": 282
        },
        "outputId": "2cf25b28-3acf-4b8f-e2e5-6c9c91e16dfd"
      },
      "source": [
        "ecomnew[(ecomnew.invoice_c=='C') & (ecomnew.quantity<-500)].quantity.hist()"
      ],
      "execution_count": 70,
      "outputs": [
        {
          "output_type": "execute_result",
          "data": {
            "text/plain": [
              "<matplotlib.axes._subplots.AxesSubplot at 0x7f4ee05c6e80>"
            ]
          },
          "metadata": {
            "tags": []
          },
          "execution_count": 70
        },
        {
          "output_type": "display_data",
          "data": {
            "image/png": "[encoded data removed]",
            "text/plain": [
              "<Figure size 432x288 with 1 Axes>"
            ]
          },
          "metadata": {
            "tags": [],
            "needs_background": "light"
          }
        }
      ]
    },
    {
      "cell_type": "markdown",
      "metadata": {
        "id": "sBIQJNfm1ecx",
        "colab_type": "text"
      },
      "source": [
        "### This is interesting Not everytime high number of return does not mean wrong data . So we need to build a logic based on this condition....   \n",
        "\n",
        "Some useful way of multiple condition data subsetting \n",
        "\n",
        "So where ever theere are C tagged invoice number it is most likely return or cancelled transaction. We shall develop our data cleaning criteria based on this.\n",
        "\n",
        "### **Creating a condition DF for multiple condition for gross subsetting**\n",
        "\n"
      ]
    },
    {
      "cell_type": "code",
      "metadata": {
        "id": "-AsOxVK80Fsu",
        "colab_type": "code",
        "colab": {}
      },
      "source": [
        "# an example of dataframe with key:value pair with a lambda function to check if there is any cancelled events along with negative quantity <-30\n",
        "\n",
        "\n",
        "condition_df = pd.DataFrame({'cancelled events':ecomnew.invoiceno.apply(lambda X: X.startswith('C')), \n",
        "                             'negative quantity': (ecomnew.quantity<-30)})"
      ],
      "execution_count": 0,
      "outputs": []
    },
    {
      "cell_type": "code",
      "metadata": {
        "id": "s9J8XAAez5Il",
        "colab_type": "code",
        "outputId": "30c6ed59-90c9-4fe7-b4df-7cdbc9c73617",
        "colab": {
          "base_uri": "https://localhost:8080/",
          "height": 252
        }
      },
      "source": [
        "condition_df[\"Flag\"] = condition_df['cancelled events'] + condition_df['negative quantity']\n",
        "\n",
        "condition_df.head()"
      ],
      "execution_count": 73,
      "outputs": [
        {
          "output_type": "stream",
          "text": [
            "/usr/local/lib/python3.6/dist-packages/pandas/core/computation/expressions.py:178: UserWarning: evaluating in Python space because the '+' operator is not supported by numexpr for the bool dtype, use '|' instead\n",
            "  f\"evaluating in Python space because the {repr(op_str)} \"\n"
          ],
          "name": "stderr"
        },
        {
          "output_type": "execute_result",
          "data": {
            "text/html": [
              "<div>\n",
              "<style scoped>\n",
              "    .dataframe tbody tr th:only-of-type {\n",
              "        vertical-align: middle;\n",
              "    }\n",
              "\n",
              "    .dataframe tbody tr th {\n",
              "        vertical-align: top;\n",
              "    }\n",
              "\n",
              "    .dataframe thead th {\n",
              "        text-align: right;\n",
              "    }\n",
              "</style>\n",
              "<table border=\"1\" class=\"dataframe\">\n",
              "  <thead>\n",
              "    <tr style=\"text-align: right;\">\n",
              "      <th></th>\n",
              "      <th>cancelled events</th>\n",
              "      <th>negative quantity</th>\n",
              "      <th>Flag</th>\n",
              "    </tr>\n",
              "  </thead>\n",
              "  <tbody>\n",
              "    <tr>\n",
              "      <th>0</th>\n",
              "      <td>False</td>\n",
              "      <td>False</td>\n",
              "      <td>False</td>\n",
              "    </tr>\n",
              "    <tr>\n",
              "      <th>1</th>\n",
              "      <td>False</td>\n",
              "      <td>False</td>\n",
              "      <td>False</td>\n",
              "    </tr>\n",
              "    <tr>\n",
              "      <th>2</th>\n",
              "      <td>False</td>\n",
              "      <td>False</td>\n",
              "      <td>False</td>\n",
              "    </tr>\n",
              "    <tr>\n",
              "      <th>3</th>\n",
              "      <td>False</td>\n",
              "      <td>False</td>\n",
              "      <td>False</td>\n",
              "    </tr>\n",
              "    <tr>\n",
              "      <th>4</th>\n",
              "      <td>False</td>\n",
              "      <td>False</td>\n",
              "      <td>False</td>\n",
              "    </tr>\n",
              "  </tbody>\n",
              "</table>\n",
              "</div>"
            ],
            "text/plain": [
              "   cancelled events  negative quantity   Flag\n",
              "0             False              False  False\n",
              "1             False              False  False\n",
              "2             False              False  False\n",
              "3             False              False  False\n",
              "4             False              False  False"
            ]
          },
          "metadata": {
            "tags": []
          },
          "execution_count": 73
        }
      ]
    },
    {
      "cell_type": "code",
      "metadata": {
        "id": "UZTD0MreHnc1",
        "colab_type": "code",
        "outputId": "46b19e14-ddca-4e85-a7a5-805fe10c1db4",
        "colab": {
          "base_uri": "https://localhost:8080/",
          "height": 197
        }
      },
      "source": [
        "# Let's change the flag to number\n",
        "condition_df[\"Flag\"] = condition_df['cancelled events']*1 + condition_df['negative quantity']*1\n",
        "condition_df.head()"
      ],
      "execution_count": 74,
      "outputs": [
        {
          "output_type": "execute_result",
          "data": {
            "text/html": [
              "<div>\n",
              "<style scoped>\n",
              "    .dataframe tbody tr th:only-of-type {\n",
              "        vertical-align: middle;\n",
              "    }\n",
              "\n",
              "    .dataframe tbody tr th {\n",
              "        vertical-align: top;\n",
              "    }\n",
              "\n",
              "    .dataframe thead th {\n",
              "        text-align: right;\n",
              "    }\n",
              "</style>\n",
              "<table border=\"1\" class=\"dataframe\">\n",
              "  <thead>\n",
              "    <tr style=\"text-align: right;\">\n",
              "      <th></th>\n",
              "      <th>cancelled events</th>\n",
              "      <th>negative quantity</th>\n",
              "      <th>Flag</th>\n",
              "    </tr>\n",
              "  </thead>\n",
              "  <tbody>\n",
              "    <tr>\n",
              "      <th>0</th>\n",
              "      <td>False</td>\n",
              "      <td>False</td>\n",
              "      <td>0</td>\n",
              "    </tr>\n",
              "    <tr>\n",
              "      <th>1</th>\n",
              "      <td>False</td>\n",
              "      <td>False</td>\n",
              "      <td>0</td>\n",
              "    </tr>\n",
              "    <tr>\n",
              "      <th>2</th>\n",
              "      <td>False</td>\n",
              "      <td>False</td>\n",
              "      <td>0</td>\n",
              "    </tr>\n",
              "    <tr>\n",
              "      <th>3</th>\n",
              "      <td>False</td>\n",
              "      <td>False</td>\n",
              "      <td>0</td>\n",
              "    </tr>\n",
              "    <tr>\n",
              "      <th>4</th>\n",
              "      <td>False</td>\n",
              "      <td>False</td>\n",
              "      <td>0</td>\n",
              "    </tr>\n",
              "  </tbody>\n",
              "</table>\n",
              "</div>"
            ],
            "text/plain": [
              "   cancelled events  negative quantity  Flag\n",
              "0             False              False     0\n",
              "1             False              False     0\n",
              "2             False              False     0\n",
              "3             False              False     0\n",
              "4             False              False     0"
            ]
          },
          "metadata": {
            "tags": []
          },
          "execution_count": 74
        }
      ]
    },
    {
      "cell_type": "code",
      "metadata": {
        "id": "65lazrVBH0T4",
        "colab_type": "code",
        "outputId": "f22decbd-9c5b-4e52-9528-66e3dc7011f8",
        "colab": {
          "base_uri": "https://localhost:8080/",
          "height": 197
        }
      },
      "source": [
        "# Now extracting customer ID and dates from the above selection\n",
        "\n",
        "ecomnew[condition_df.Flag==2].head()"
      ],
      "execution_count": 87,
      "outputs": [
        {
          "output_type": "execute_result",
          "data": {
            "text/html": [
              "<div>\n",
              "<style scoped>\n",
              "    .dataframe tbody tr th:only-of-type {\n",
              "        vertical-align: middle;\n",
              "    }\n",
              "\n",
              "    .dataframe tbody tr th {\n",
              "        vertical-align: top;\n",
              "    }\n",
              "\n",
              "    .dataframe thead th {\n",
              "        text-align: right;\n",
              "    }\n",
              "</style>\n",
              "<table border=\"1\" class=\"dataframe\">\n",
              "  <thead>\n",
              "    <tr style=\"text-align: right;\">\n",
              "      <th></th>\n",
              "      <th>invoiceno</th>\n",
              "      <th>stockcode</th>\n",
              "      <th>description</th>\n",
              "      <th>quantity</th>\n",
              "      <th>invoicedate</th>\n",
              "      <th>unitprice</th>\n",
              "      <th>customerid</th>\n",
              "      <th>country</th>\n",
              "      <th>newdate</th>\n",
              "      <th>alpha_description</th>\n",
              "      <th>invoice_c</th>\n",
              "    </tr>\n",
              "  </thead>\n",
              "  <tbody>\n",
              "    <tr>\n",
              "      <th>4287</th>\n",
              "      <td>C536757</td>\n",
              "      <td>84347</td>\n",
              "      <td>ROTATING SILVER ANGELS T-LIGHT HLDR</td>\n",
              "      <td>-9360</td>\n",
              "      <td>12/2/2010 14:23</td>\n",
              "      <td>0.03</td>\n",
              "      <td>15838.0</td>\n",
              "      <td>United Kingdom</td>\n",
              "      <td>2010-12-02</td>\n",
              "      <td>8</td>\n",
              "      <td>C</td>\n",
              "    </tr>\n",
              "    <tr>\n",
              "      <th>4853</th>\n",
              "      <td>C536812</td>\n",
              "      <td>22578</td>\n",
              "      <td>WOODEN STAR CHRISTMAS SCANDINAVIAN</td>\n",
              "      <td>-36</td>\n",
              "      <td>12/2/2010 16:58</td>\n",
              "      <td>0.85</td>\n",
              "      <td>16546.0</td>\n",
              "      <td>United Kingdom</td>\n",
              "      <td>2010-12-02</td>\n",
              "      <td>2</td>\n",
              "      <td>C</td>\n",
              "    </tr>\n",
              "    <tr>\n",
              "      <th>4854</th>\n",
              "      <td>C536812</td>\n",
              "      <td>22574</td>\n",
              "      <td>HEART WOODEN CHRISTMAS DECORATION</td>\n",
              "      <td>-192</td>\n",
              "      <td>12/2/2010 16:58</td>\n",
              "      <td>0.72</td>\n",
              "      <td>16546.0</td>\n",
              "      <td>United Kingdom</td>\n",
              "      <td>2010-12-02</td>\n",
              "      <td>2</td>\n",
              "      <td>C</td>\n",
              "    </tr>\n",
              "    <tr>\n",
              "      <th>4855</th>\n",
              "      <td>C536812</td>\n",
              "      <td>22593</td>\n",
              "      <td>CHRISTMAS GINGHAM STAR</td>\n",
              "      <td>-144</td>\n",
              "      <td>12/2/2010 16:58</td>\n",
              "      <td>0.72</td>\n",
              "      <td>16546.0</td>\n",
              "      <td>United Kingdom</td>\n",
              "      <td>2010-12-02</td>\n",
              "      <td>2</td>\n",
              "      <td>C</td>\n",
              "    </tr>\n",
              "    <tr>\n",
              "      <th>4856</th>\n",
              "      <td>C536812</td>\n",
              "      <td>22595</td>\n",
              "      <td>CHRISTMAS GINGHAM HEART</td>\n",
              "      <td>-144</td>\n",
              "      <td>12/2/2010 16:58</td>\n",
              "      <td>0.72</td>\n",
              "      <td>16546.0</td>\n",
              "      <td>United Kingdom</td>\n",
              "      <td>2010-12-02</td>\n",
              "      <td>2</td>\n",
              "      <td>C</td>\n",
              "    </tr>\n",
              "  </tbody>\n",
              "</table>\n",
              "</div>"
            ],
            "text/plain": [
              "     invoiceno stockcode                          description  quantity      invoicedate  unitprice  customerid         country    newdate alpha_description invoice_c\n",
              "4287   C536757     84347  ROTATING SILVER ANGELS T-LIGHT HLDR     -9360  12/2/2010 14:23       0.03     15838.0  United Kingdom 2010-12-02                 8         C\n",
              "4853   C536812     22578   WOODEN STAR CHRISTMAS SCANDINAVIAN       -36  12/2/2010 16:58       0.85     16546.0  United Kingdom 2010-12-02                 2         C\n",
              "4854   C536812     22574    HEART WOODEN CHRISTMAS DECORATION      -192  12/2/2010 16:58       0.72     16546.0  United Kingdom 2010-12-02                 2         C\n",
              "4855   C536812     22593               CHRISTMAS GINGHAM STAR      -144  12/2/2010 16:58       0.72     16546.0  United Kingdom 2010-12-02                 2         C\n",
              "4856   C536812     22595              CHRISTMAS GINGHAM HEART      -144  12/2/2010 16:58       0.72     16546.0  United Kingdom 2010-12-02                 2         C"
            ]
          },
          "metadata": {
            "tags": []
          },
          "execution_count": 87
        }
      ]
    },
    {
      "cell_type": "code",
      "metadata": {
        "id": "NZ0YYvTsUO3D",
        "colab_type": "code",
        "outputId": "f7cee411-f851-4ce3-f374-25297d0b54fa",
        "colab": {
          "base_uri": "https://localhost:8080/",
          "height": 407
        }
      },
      "source": [
        "ecomnew[condition_df.Flag==2][['customerid', 'newdate']]"
      ],
      "execution_count": 78,
      "outputs": [
        {
          "output_type": "execute_result",
          "data": {
            "text/html": [
              "<div>\n",
              "<style scoped>\n",
              "    .dataframe tbody tr th:only-of-type {\n",
              "        vertical-align: middle;\n",
              "    }\n",
              "\n",
              "    .dataframe tbody tr th {\n",
              "        vertical-align: top;\n",
              "    }\n",
              "\n",
              "    .dataframe thead th {\n",
              "        text-align: right;\n",
              "    }\n",
              "</style>\n",
              "<table border=\"1\" class=\"dataframe\">\n",
              "  <thead>\n",
              "    <tr style=\"text-align: right;\">\n",
              "      <th></th>\n",
              "      <th>customerid</th>\n",
              "      <th>newdate</th>\n",
              "    </tr>\n",
              "  </thead>\n",
              "  <tbody>\n",
              "    <tr>\n",
              "      <th>4287</th>\n",
              "      <td>15838.0</td>\n",
              "      <td>2010-12-02</td>\n",
              "    </tr>\n",
              "    <tr>\n",
              "      <th>4853</th>\n",
              "      <td>16546.0</td>\n",
              "      <td>2010-12-02</td>\n",
              "    </tr>\n",
              "    <tr>\n",
              "      <th>4854</th>\n",
              "      <td>16546.0</td>\n",
              "      <td>2010-12-02</td>\n",
              "    </tr>\n",
              "    <tr>\n",
              "      <th>4855</th>\n",
              "      <td>16546.0</td>\n",
              "      <td>2010-12-02</td>\n",
              "    </tr>\n",
              "    <tr>\n",
              "      <th>4856</th>\n",
              "      <td>16546.0</td>\n",
              "      <td>2010-12-02</td>\n",
              "    </tr>\n",
              "    <tr>\n",
              "      <th>...</th>\n",
              "      <td>...</td>\n",
              "      <td>...</td>\n",
              "    </tr>\n",
              "    <tr>\n",
              "      <th>536922</th>\n",
              "      <td>12558.0</td>\n",
              "      <td>2011-12-08</td>\n",
              "    </tr>\n",
              "    <tr>\n",
              "      <th>537615</th>\n",
              "      <td>15877.0</td>\n",
              "      <td>2011-12-08</td>\n",
              "    </tr>\n",
              "    <tr>\n",
              "      <th>540078</th>\n",
              "      <td>12985.0</td>\n",
              "      <td>2011-12-08</td>\n",
              "    </tr>\n",
              "    <tr>\n",
              "      <th>540079</th>\n",
              "      <td>12985.0</td>\n",
              "      <td>2011-12-08</td>\n",
              "    </tr>\n",
              "    <tr>\n",
              "      <th>540422</th>\n",
              "      <td>16446.0</td>\n",
              "      <td>2011-12-09</td>\n",
              "    </tr>\n",
              "  </tbody>\n",
              "</table>\n",
              "<p>517 rows × 2 columns</p>\n",
              "</div>"
            ],
            "text/plain": [
              "        customerid    newdate\n",
              "4287       15838.0 2010-12-02\n",
              "4853       16546.0 2010-12-02\n",
              "4854       16546.0 2010-12-02\n",
              "4855       16546.0 2010-12-02\n",
              "4856       16546.0 2010-12-02\n",
              "...            ...        ...\n",
              "536922     12558.0 2011-12-08\n",
              "537615     15877.0 2011-12-08\n",
              "540078     12985.0 2011-12-08\n",
              "540079     12985.0 2011-12-08\n",
              "540422     16446.0 2011-12-09\n",
              "\n",
              "[517 rows x 2 columns]"
            ]
          },
          "metadata": {
            "tags": []
          },
          "execution_count": 78
        }
      ]
    },
    {
      "cell_type": "code",
      "metadata": {
        "id": "2hW663y3UVc3",
        "colab_type": "code",
        "outputId": "167931a4-6291-48d6-ed93-679e627e3ac7",
        "colab": {
          "base_uri": "https://localhost:8080/",
          "height": 34
        }
      },
      "source": [
        "#let's check how any unique combinations are available\n",
        "\n",
        "ecomnew[condition_df.Flag==2][['customerid', 'newdate']].drop_duplicates().shape\n"
      ],
      "execution_count": 79,
      "outputs": [
        {
          "output_type": "execute_result",
          "data": {
            "text/plain": [
              "(245, 2)"
            ]
          },
          "metadata": {
            "tags": []
          },
          "execution_count": 79
        }
      ]
    },
    {
      "cell_type": "code",
      "metadata": {
        "id": "SnflTLtFUmlf",
        "colab_type": "code",
        "colab": {}
      },
      "source": [
        "# Let's now create a databased of all unique combinations\n",
        "\n",
        "new_condition_df=ecomnew[condition_df.Flag==2][['customerid', 'newdate']].drop_duplicates()"
      ],
      "execution_count": 0,
      "outputs": []
    },
    {
      "cell_type": "code",
      "metadata": {
        "id": "N0x5PRLIU0UU",
        "colab_type": "code",
        "colab": {}
      },
      "source": [
        "#Creating a flag variable in the unique database.\n",
        "#idea is to map and merge the condition fd to original df to map the customer ID and date combination which are selected based on above condition\n",
        "new_condition_df[\"Flag\"]=1\n"
      ],
      "execution_count": 0,
      "outputs": []
    },
    {
      "cell_type": "code",
      "metadata": {
        "id": "BEGeMlakVRvX",
        "colab_type": "code",
        "outputId": "daf11bfa-5126-4a65-835d-0d09bc3ffd3a",
        "colab": {
          "base_uri": "https://localhost:8080/",
          "height": 197
        }
      },
      "source": [
        "new_condition_df.head()"
      ],
      "execution_count": 82,
      "outputs": [
        {
          "output_type": "execute_result",
          "data": {
            "text/html": [
              "<div>\n",
              "<style scoped>\n",
              "    .dataframe tbody tr th:only-of-type {\n",
              "        vertical-align: middle;\n",
              "    }\n",
              "\n",
              "    .dataframe tbody tr th {\n",
              "        vertical-align: top;\n",
              "    }\n",
              "\n",
              "    .dataframe thead th {\n",
              "        text-align: right;\n",
              "    }\n",
              "</style>\n",
              "<table border=\"1\" class=\"dataframe\">\n",
              "  <thead>\n",
              "    <tr style=\"text-align: right;\">\n",
              "      <th></th>\n",
              "      <th>customerid</th>\n",
              "      <th>newdate</th>\n",
              "      <th>Flag</th>\n",
              "    </tr>\n",
              "  </thead>\n",
              "  <tbody>\n",
              "    <tr>\n",
              "      <th>4287</th>\n",
              "      <td>15838.0</td>\n",
              "      <td>2010-12-02</td>\n",
              "      <td>1</td>\n",
              "    </tr>\n",
              "    <tr>\n",
              "      <th>4853</th>\n",
              "      <td>16546.0</td>\n",
              "      <td>2010-12-02</td>\n",
              "      <td>1</td>\n",
              "    </tr>\n",
              "    <tr>\n",
              "      <th>5232</th>\n",
              "      <td>14213.0</td>\n",
              "      <td>2010-12-03</td>\n",
              "      <td>1</td>\n",
              "    </tr>\n",
              "    <tr>\n",
              "      <th>7278</th>\n",
              "      <td>13941.0</td>\n",
              "      <td>2010-12-03</td>\n",
              "      <td>1</td>\n",
              "    </tr>\n",
              "    <tr>\n",
              "      <th>13042</th>\n",
              "      <td>14409.0</td>\n",
              "      <td>2010-12-06</td>\n",
              "      <td>1</td>\n",
              "    </tr>\n",
              "  </tbody>\n",
              "</table>\n",
              "</div>"
            ],
            "text/plain": [
              "       customerid    newdate  Flag\n",
              "4287      15838.0 2010-12-02     1\n",
              "4853      16546.0 2010-12-02     1\n",
              "5232      14213.0 2010-12-03     1\n",
              "7278      13941.0 2010-12-03     1\n",
              "13042     14409.0 2010-12-06     1"
            ]
          },
          "metadata": {
            "tags": []
          },
          "execution_count": 82
        }
      ]
    },
    {
      "cell_type": "code",
      "metadata": {
        "id": "srTNshnxVVhJ",
        "colab_type": "code",
        "colab": {}
      },
      "source": [
        "# doing a left join with orginal df. Tis will keep all rows of orginal df and map based on multiple key and flag them\n",
        "# post this we can select such transaction \n",
        "cleanecom= pd.merge(ecomnew,new_condition_df, on =['customerid','newdate'] , how='left')"
      ],
      "execution_count": 0,
      "outputs": []
    },
    {
      "cell_type": "code",
      "metadata": {
        "id": "YRMw7Pd_XKsm",
        "colab_type": "code",
        "outputId": "a7f7964a-5bdd-471b-f45f-5afe1a8b1eb1",
        "colab": {
          "base_uri": "https://localhost:8080/",
          "height": 107
        }
      },
      "source": [
        "cleanecom.head(2)"
      ],
      "execution_count": 84,
      "outputs": [
        {
          "output_type": "execute_result",
          "data": {
            "text/html": [
              "<div>\n",
              "<style scoped>\n",
              "    .dataframe tbody tr th:only-of-type {\n",
              "        vertical-align: middle;\n",
              "    }\n",
              "\n",
              "    .dataframe tbody tr th {\n",
              "        vertical-align: top;\n",
              "    }\n",
              "\n",
              "    .dataframe thead th {\n",
              "        text-align: right;\n",
              "    }\n",
              "</style>\n",
              "<table border=\"1\" class=\"dataframe\">\n",
              "  <thead>\n",
              "    <tr style=\"text-align: right;\">\n",
              "      <th></th>\n",
              "      <th>invoiceno</th>\n",
              "      <th>stockcode</th>\n",
              "      <th>description</th>\n",
              "      <th>quantity</th>\n",
              "      <th>invoicedate</th>\n",
              "      <th>unitprice</th>\n",
              "      <th>customerid</th>\n",
              "      <th>country</th>\n",
              "      <th>newdate</th>\n",
              "      <th>alpha_description</th>\n",
              "      <th>invoice_c</th>\n",
              "      <th>Flag</th>\n",
              "    </tr>\n",
              "  </thead>\n",
              "  <tbody>\n",
              "    <tr>\n",
              "      <th>0</th>\n",
              "      <td>536365</td>\n",
              "      <td>85123A</td>\n",
              "      <td>WHITE HANGING HEART T-LIGHT HOLDER</td>\n",
              "      <td>6</td>\n",
              "      <td>12/1/2010 8:26</td>\n",
              "      <td>2.55</td>\n",
              "      <td>17850.0</td>\n",
              "      <td>United Kingdom</td>\n",
              "      <td>2010-12-01</td>\n",
              "      <td>8</td>\n",
              "      <td>5</td>\n",
              "      <td>NaN</td>\n",
              "    </tr>\n",
              "    <tr>\n",
              "      <th>1</th>\n",
              "      <td>536365</td>\n",
              "      <td>71053</td>\n",
              "      <td>WHITE METAL LANTERN</td>\n",
              "      <td>6</td>\n",
              "      <td>12/1/2010 8:26</td>\n",
              "      <td>3.39</td>\n",
              "      <td>17850.0</td>\n",
              "      <td>United Kingdom</td>\n",
              "      <td>2010-12-01</td>\n",
              "      <td>7</td>\n",
              "      <td>5</td>\n",
              "      <td>NaN</td>\n",
              "    </tr>\n",
              "  </tbody>\n",
              "</table>\n",
              "</div>"
            ],
            "text/plain": [
              "  invoiceno stockcode                         description  quantity     invoicedate  unitprice  customerid         country    newdate alpha_description invoice_c  Flag\n",
              "0    536365    85123A  WHITE HANGING HEART T-LIGHT HOLDER         6  12/1/2010 8:26       2.55     17850.0  United Kingdom 2010-12-01                 8         5   NaN\n",
              "1    536365     71053                 WHITE METAL LANTERN         6  12/1/2010 8:26       3.39     17850.0  United Kingdom 2010-12-01                 7         5   NaN"
            ]
          },
          "metadata": {
            "tags": []
          },
          "execution_count": 84
        }
      ]
    },
    {
      "cell_type": "code",
      "metadata": {
        "id": "GQkKK92hXucL",
        "colab_type": "code",
        "outputId": "98792cde-4ffc-44af-a289-4d8c4a98d9ca",
        "colab": {
          "base_uri": "https://localhost:8080/",
          "height": 52
        }
      },
      "source": [
        "cleanecom.Flag.value_counts()"
      ],
      "execution_count": 85,
      "outputs": [
        {
          "output_type": "execute_result",
          "data": {
            "text/plain": [
              "1.0    3282\n",
              "Name: Flag, dtype: int64"
            ]
          },
          "metadata": {
            "tags": []
          },
          "execution_count": 85
        }
      ]
    },
    {
      "cell_type": "markdown",
      "metadata": {
        "id": "OxLfWdqcYHBQ",
        "colab_type": "text"
      },
      "source": [
        "     3282 records are found to be problemetic. Let's filter it further"
      ]
    },
    {
      "cell_type": "code",
      "metadata": {
        "id": "ChGG2cm1X8Ng",
        "colab_type": "code",
        "outputId": "ad50a7fa-5f90-481a-8199-d28a76eb6e46",
        "colab": {
          "base_uri": "https://localhost:8080/",
          "height": 197
        }
      },
      "source": [
        "cleanecom[cleanecom.Flag==1].head() # Seeing the data after filtering "
      ],
      "execution_count": 86,
      "outputs": [
        {
          "output_type": "execute_result",
          "data": {
            "text/html": [
              "<div>\n",
              "<style scoped>\n",
              "    .dataframe tbody tr th:only-of-type {\n",
              "        vertical-align: middle;\n",
              "    }\n",
              "\n",
              "    .dataframe tbody tr th {\n",
              "        vertical-align: top;\n",
              "    }\n",
              "\n",
              "    .dataframe thead th {\n",
              "        text-align: right;\n",
              "    }\n",
              "</style>\n",
              "<table border=\"1\" class=\"dataframe\">\n",
              "  <thead>\n",
              "    <tr style=\"text-align: right;\">\n",
              "      <th></th>\n",
              "      <th>invoiceno</th>\n",
              "      <th>stockcode</th>\n",
              "      <th>description</th>\n",
              "      <th>quantity</th>\n",
              "      <th>invoicedate</th>\n",
              "      <th>unitprice</th>\n",
              "      <th>customerid</th>\n",
              "      <th>country</th>\n",
              "      <th>newdate</th>\n",
              "      <th>alpha_description</th>\n",
              "      <th>invoice_c</th>\n",
              "      <th>Flag</th>\n",
              "    </tr>\n",
              "  </thead>\n",
              "  <tbody>\n",
              "    <tr>\n",
              "      <th>2570</th>\n",
              "      <td>536663</td>\n",
              "      <td>22867</td>\n",
              "      <td>HAND WARMER BIRD DESIGN</td>\n",
              "      <td>24</td>\n",
              "      <td>12/2/2010 12:07</td>\n",
              "      <td>2.10</td>\n",
              "      <td>16546.0</td>\n",
              "      <td>United Kingdom</td>\n",
              "      <td>2010-12-02</td>\n",
              "      <td>2</td>\n",
              "      <td>5</td>\n",
              "      <td>1.0</td>\n",
              "    </tr>\n",
              "    <tr>\n",
              "      <th>2571</th>\n",
              "      <td>536663</td>\n",
              "      <td>22633</td>\n",
              "      <td>HAND WARMER UNION JACK</td>\n",
              "      <td>24</td>\n",
              "      <td>12/2/2010 12:07</td>\n",
              "      <td>2.10</td>\n",
              "      <td>16546.0</td>\n",
              "      <td>United Kingdom</td>\n",
              "      <td>2010-12-02</td>\n",
              "      <td>2</td>\n",
              "      <td>5</td>\n",
              "      <td>1.0</td>\n",
              "    </tr>\n",
              "    <tr>\n",
              "      <th>2572</th>\n",
              "      <td>536663</td>\n",
              "      <td>22632</td>\n",
              "      <td>HAND WARMER RED RETROSPOT</td>\n",
              "      <td>24</td>\n",
              "      <td>12/2/2010 12:07</td>\n",
              "      <td>2.10</td>\n",
              "      <td>16546.0</td>\n",
              "      <td>United Kingdom</td>\n",
              "      <td>2010-12-02</td>\n",
              "      <td>2</td>\n",
              "      <td>5</td>\n",
              "      <td>1.0</td>\n",
              "    </tr>\n",
              "    <tr>\n",
              "      <th>2573</th>\n",
              "      <td>536663</td>\n",
              "      <td>22910</td>\n",
              "      <td>PAPER CHAIN KIT VINTAGE CHRISTMAS</td>\n",
              "      <td>40</td>\n",
              "      <td>12/2/2010 12:07</td>\n",
              "      <td>2.55</td>\n",
              "      <td>16546.0</td>\n",
              "      <td>United Kingdom</td>\n",
              "      <td>2010-12-02</td>\n",
              "      <td>2</td>\n",
              "      <td>5</td>\n",
              "      <td>1.0</td>\n",
              "    </tr>\n",
              "    <tr>\n",
              "      <th>2574</th>\n",
              "      <td>536663</td>\n",
              "      <td>22737</td>\n",
              "      <td>RIBBON REEL CHRISTMAS PRESENT</td>\n",
              "      <td>20</td>\n",
              "      <td>12/2/2010 12:07</td>\n",
              "      <td>1.65</td>\n",
              "      <td>16546.0</td>\n",
              "      <td>United Kingdom</td>\n",
              "      <td>2010-12-02</td>\n",
              "      <td>2</td>\n",
              "      <td>5</td>\n",
              "      <td>1.0</td>\n",
              "    </tr>\n",
              "  </tbody>\n",
              "</table>\n",
              "</div>"
            ],
            "text/plain": [
              "     invoiceno stockcode                        description  quantity      invoicedate  unitprice  customerid         country    newdate alpha_description invoice_c  Flag\n",
              "2570    536663     22867            HAND WARMER BIRD DESIGN        24  12/2/2010 12:07       2.10     16546.0  United Kingdom 2010-12-02                 2         5   1.0\n",
              "2571    536663     22633             HAND WARMER UNION JACK        24  12/2/2010 12:07       2.10     16546.0  United Kingdom 2010-12-02                 2         5   1.0\n",
              "2572    536663     22632          HAND WARMER RED RETROSPOT        24  12/2/2010 12:07       2.10     16546.0  United Kingdom 2010-12-02                 2         5   1.0\n",
              "2573    536663     22910  PAPER CHAIN KIT VINTAGE CHRISTMAS        40  12/2/2010 12:07       2.55     16546.0  United Kingdom 2010-12-02                 2         5   1.0\n",
              "2574    536663     22737     RIBBON REEL CHRISTMAS PRESENT         20  12/2/2010 12:07       1.65     16546.0  United Kingdom 2010-12-02                 2         5   1.0"
            ]
          },
          "metadata": {
            "tags": []
          },
          "execution_count": 86
        }
      ]
    },
    {
      "cell_type": "code",
      "metadata": {
        "id": "REzafi16Ytad",
        "colab_type": "code",
        "outputId": "8d2c63f6-6586-43a4-87be-107f87da5e91",
        "colab": {
          "base_uri": "https://localhost:8080/",
          "height": 407
        }
      },
      "source": [
        "# sorting the values in a data frame\n",
        "\n",
        "cleanecom[cleanecom.Flag==1].sort_values('customerid')"
      ],
      "execution_count": 88,
      "outputs": [
        {
          "output_type": "execute_result",
          "data": {
            "text/html": [
              "<div>\n",
              "<style scoped>\n",
              "    .dataframe tbody tr th:only-of-type {\n",
              "        vertical-align: middle;\n",
              "    }\n",
              "\n",
              "    .dataframe tbody tr th {\n",
              "        vertical-align: top;\n",
              "    }\n",
              "\n",
              "    .dataframe thead th {\n",
              "        text-align: right;\n",
              "    }\n",
              "</style>\n",
              "<table border=\"1\" class=\"dataframe\">\n",
              "  <thead>\n",
              "    <tr style=\"text-align: right;\">\n",
              "      <th></th>\n",
              "      <th>invoiceno</th>\n",
              "      <th>stockcode</th>\n",
              "      <th>description</th>\n",
              "      <th>quantity</th>\n",
              "      <th>invoicedate</th>\n",
              "      <th>unitprice</th>\n",
              "      <th>customerid</th>\n",
              "      <th>country</th>\n",
              "      <th>newdate</th>\n",
              "      <th>alpha_description</th>\n",
              "      <th>invoice_c</th>\n",
              "      <th>Flag</th>\n",
              "    </tr>\n",
              "  </thead>\n",
              "  <tbody>\n",
              "    <tr>\n",
              "      <th>38120</th>\n",
              "      <td>541431</td>\n",
              "      <td>23166</td>\n",
              "      <td>MEDIUM CERAMIC TOP STORAGE JAR</td>\n",
              "      <td>74215</td>\n",
              "      <td>1/18/2011 10:01</td>\n",
              "      <td>1.04</td>\n",
              "      <td>12346.0</td>\n",
              "      <td>United Kingdom</td>\n",
              "      <td>2011-01-18</td>\n",
              "      <td>2</td>\n",
              "      <td>5</td>\n",
              "      <td>1.0</td>\n",
              "    </tr>\n",
              "    <tr>\n",
              "      <th>38125</th>\n",
              "      <td>C541433</td>\n",
              "      <td>23166</td>\n",
              "      <td>MEDIUM CERAMIC TOP STORAGE JAR</td>\n",
              "      <td>-74215</td>\n",
              "      <td>1/18/2011 10:17</td>\n",
              "      <td>1.04</td>\n",
              "      <td>12346.0</td>\n",
              "      <td>United Kingdom</td>\n",
              "      <td>2011-01-18</td>\n",
              "      <td>2</td>\n",
              "      <td>C</td>\n",
              "      <td>1.0</td>\n",
              "    </tr>\n",
              "    <tr>\n",
              "      <th>192792</th>\n",
              "      <td>C560540</td>\n",
              "      <td>23243</td>\n",
              "      <td>SET OF TEA COFFEE SUGAR TINS PANTRY</td>\n",
              "      <td>-1</td>\n",
              "      <td>7/19/2011 12:26</td>\n",
              "      <td>4.95</td>\n",
              "      <td>12415.0</td>\n",
              "      <td>Australia</td>\n",
              "      <td>2011-07-19</td>\n",
              "      <td>2</td>\n",
              "      <td>C</td>\n",
              "      <td>1.0</td>\n",
              "    </tr>\n",
              "    <tr>\n",
              "      <th>192782</th>\n",
              "      <td>C560540</td>\n",
              "      <td>23296</td>\n",
              "      <td>SET OF 6 TEA TIME BAKING CASES</td>\n",
              "      <td>-2</td>\n",
              "      <td>7/19/2011 12:26</td>\n",
              "      <td>1.25</td>\n",
              "      <td>12415.0</td>\n",
              "      <td>Australia</td>\n",
              "      <td>2011-07-19</td>\n",
              "      <td>2</td>\n",
              "      <td>C</td>\n",
              "      <td>1.0</td>\n",
              "    </tr>\n",
              "    <tr>\n",
              "      <th>192781</th>\n",
              "      <td>C560540</td>\n",
              "      <td>23297</td>\n",
              "      <td>SET 40 HEART SHAPE PETIT FOUR CASES</td>\n",
              "      <td>-2</td>\n",
              "      <td>7/19/2011 12:26</td>\n",
              "      <td>1.65</td>\n",
              "      <td>12415.0</td>\n",
              "      <td>Australia</td>\n",
              "      <td>2011-07-19</td>\n",
              "      <td>2</td>\n",
              "      <td>C</td>\n",
              "      <td>1.0</td>\n",
              "    </tr>\n",
              "    <tr>\n",
              "      <th>...</th>\n",
              "      <td>...</td>\n",
              "      <td>...</td>\n",
              "      <td>...</td>\n",
              "      <td>...</td>\n",
              "      <td>...</td>\n",
              "      <td>...</td>\n",
              "      <td>...</td>\n",
              "      <td>...</td>\n",
              "      <td>...</td>\n",
              "      <td>...</td>\n",
              "      <td>...</td>\n",
              "      <td>...</td>\n",
              "    </tr>\n",
              "    <tr>\n",
              "      <th>368950</th>\n",
              "      <td>577845</td>\n",
              "      <td>22960</td>\n",
              "      <td>JAM MAKING SET WITH JARS</td>\n",
              "      <td>12</td>\n",
              "      <td>11/22/2011 10:44</td>\n",
              "      <td>3.75</td>\n",
              "      <td>18139.0</td>\n",
              "      <td>United Kingdom</td>\n",
              "      <td>2011-11-22</td>\n",
              "      <td>2</td>\n",
              "      <td>5</td>\n",
              "      <td>1.0</td>\n",
              "    </tr>\n",
              "    <tr>\n",
              "      <th>283173</th>\n",
              "      <td>C569987</td>\n",
              "      <td>22439</td>\n",
              "      <td>6 ROCKET BALLOONS</td>\n",
              "      <td>-40</td>\n",
              "      <td>10/6/2011 19:54</td>\n",
              "      <td>0.65</td>\n",
              "      <td>18194.0</td>\n",
              "      <td>United Kingdom</td>\n",
              "      <td>2011-10-06</td>\n",
              "      <td>2</td>\n",
              "      <td>C</td>\n",
              "      <td>1.0</td>\n",
              "    </tr>\n",
              "    <tr>\n",
              "      <th>283174</th>\n",
              "      <td>C569987</td>\n",
              "      <td>22027</td>\n",
              "      <td>TEA PARTY BIRTHDAY CARD</td>\n",
              "      <td>-144</td>\n",
              "      <td>10/6/2011 19:54</td>\n",
              "      <td>0.36</td>\n",
              "      <td>18194.0</td>\n",
              "      <td>United Kingdom</td>\n",
              "      <td>2011-10-06</td>\n",
              "      <td>2</td>\n",
              "      <td>C</td>\n",
              "      <td>1.0</td>\n",
              "    </tr>\n",
              "    <tr>\n",
              "      <th>196031</th>\n",
              "      <td>C560903</td>\n",
              "      <td>22178</td>\n",
              "      <td>VICTORIAN GLASS HANGING T-LIGHT</td>\n",
              "      <td>-75</td>\n",
              "      <td>7/21/2011 17:47</td>\n",
              "      <td>1.06</td>\n",
              "      <td>18198.0</td>\n",
              "      <td>United Kingdom</td>\n",
              "      <td>2011-07-21</td>\n",
              "      <td>2</td>\n",
              "      <td>C</td>\n",
              "      <td>1.0</td>\n",
              "    </tr>\n",
              "    <tr>\n",
              "      <th>260085</th>\n",
              "      <td>C567953</td>\n",
              "      <td>22178</td>\n",
              "      <td>VICTORIAN GLASS HANGING T-LIGHT</td>\n",
              "      <td>-144</td>\n",
              "      <td>9/23/2011 8:28</td>\n",
              "      <td>1.65</td>\n",
              "      <td>18198.0</td>\n",
              "      <td>United Kingdom</td>\n",
              "      <td>2011-09-23</td>\n",
              "      <td>2</td>\n",
              "      <td>C</td>\n",
              "      <td>1.0</td>\n",
              "    </tr>\n",
              "  </tbody>\n",
              "</table>\n",
              "<p>3282 rows × 12 columns</p>\n",
              "</div>"
            ],
            "text/plain": [
              "       invoiceno stockcode                          description  quantity       invoicedate  unitprice  customerid         country    newdate alpha_description invoice_c  Flag\n",
              "38120     541431     23166       MEDIUM CERAMIC TOP STORAGE JAR     74215   1/18/2011 10:01       1.04     12346.0  United Kingdom 2011-01-18                 2         5   1.0\n",
              "38125    C541433     23166       MEDIUM CERAMIC TOP STORAGE JAR    -74215   1/18/2011 10:17       1.04     12346.0  United Kingdom 2011-01-18                 2         C   1.0\n",
              "192792   C560540     23243  SET OF TEA COFFEE SUGAR TINS PANTRY        -1   7/19/2011 12:26       4.95     12415.0       Australia 2011-07-19                 2         C   1.0\n",
              "192782   C560540     23296       SET OF 6 TEA TIME BAKING CASES        -2   7/19/2011 12:26       1.25     12415.0       Australia 2011-07-19                 2         C   1.0\n",
              "192781   C560540     23297  SET 40 HEART SHAPE PETIT FOUR CASES        -2   7/19/2011 12:26       1.65     12415.0       Australia 2011-07-19                 2         C   1.0\n",
              "...          ...       ...                                  ...       ...               ...        ...         ...             ...        ...               ...       ...   ...\n",
              "368950    577845     22960             JAM MAKING SET WITH JARS        12  11/22/2011 10:44       3.75     18139.0  United Kingdom 2011-11-22                 2         5   1.0\n",
              "283173   C569987     22439                   6 ROCKET BALLOONS        -40   10/6/2011 19:54       0.65     18194.0  United Kingdom 2011-10-06                 2         C   1.0\n",
              "283174   C569987     22027              TEA PARTY BIRTHDAY CARD      -144   10/6/2011 19:54       0.36     18194.0  United Kingdom 2011-10-06                 2         C   1.0\n",
              "196031   C560903     22178      VICTORIAN GLASS HANGING T-LIGHT       -75   7/21/2011 17:47       1.06     18198.0  United Kingdom 2011-07-21                 2         C   1.0\n",
              "260085   C567953     22178      VICTORIAN GLASS HANGING T-LIGHT      -144    9/23/2011 8:28       1.65     18198.0  United Kingdom 2011-09-23                 2         C   1.0\n",
              "\n",
              "[3282 rows x 12 columns]"
            ]
          },
          "metadata": {
            "tags": []
          },
          "execution_count": 88
        }
      ]
    },
    {
      "cell_type": "markdown",
      "metadata": {
        "id": "7sGnunLKZK6x",
        "colab_type": "text"
      },
      "source": [
        "#### Lousy job done. looks like filter on negative condition is not properly worked. My bad.. Let's put this condition again"
      ]
    },
    {
      "cell_type": "code",
      "metadata": {
        "id": "Zqs0s0FTdtbq",
        "colab_type": "code",
        "colab": {}
      },
      "source": [
        "# We need to take different wway to encode the values looks like. Hence applying further condition on the data frame\n",
        "cleanecom['qtyflag']= cleanecom.quantity.apply(lambda X : 0 if ((X < 100) & (X >-100)) else 1 ) "
      ],
      "execution_count": 0,
      "outputs": []
    },
    {
      "cell_type": "code",
      "metadata": {
        "id": "9N4Py2sFeHRd",
        "colab_type": "code",
        "outputId": "2813180f-8d0c-4d55-ef5d-47ac25e90f10",
        "colab": {
          "base_uri": "https://localhost:8080/",
          "height": 69
        }
      },
      "source": [
        "#Let's see if it has worked\n",
        "\n",
        "cleanecom.qtyflag.value_counts()"
      ],
      "execution_count": 94,
      "outputs": [
        {
          "output_type": "execute_result",
          "data": {
            "text/plain": [
              "0    400146\n",
              "1      6683\n",
              "Name: qtyflag, dtype: int64"
            ]
          },
          "metadata": {
            "tags": []
          },
          "execution_count": 94
        }
      ]
    },
    {
      "cell_type": "code",
      "metadata": {
        "id": "kym0lMn1eYG4",
        "colab_type": "code",
        "colab": {}
      },
      "source": [
        "# now let's make the fina flag once again with imapct of both being 1 \n",
        "cleanecom['finalflag']= cleanecom.Flag+cleanecom.qtyflag\n"
      ],
      "execution_count": 0,
      "outputs": []
    },
    {
      "cell_type": "code",
      "metadata": {
        "id": "ALIp427WecfY",
        "colab_type": "code",
        "outputId": "454aa72f-b73a-4c9c-8855-41b9913e1420",
        "colab": {
          "base_uri": "https://localhost:8080/",
          "height": 69
        }
      },
      "source": [
        "cleanecom.finalflag.value_counts()"
      ],
      "execution_count": 96,
      "outputs": [
        {
          "output_type": "execute_result",
          "data": {
            "text/plain": [
              "1.0    2785\n",
              "2.0     497\n",
              "Name: finalflag, dtype: int64"
            ]
          },
          "metadata": {
            "tags": []
          },
          "execution_count": 96
        }
      ]
    },
    {
      "cell_type": "markdown",
      "metadata": {
        "id": "LwHMebeZfPZ_",
        "colab_type": "text"
      },
      "source": [
        "### So this means 497 cases such values are there where customer has cancelled the transaction and hence should be removed from dataset for any further analysis"
      ]
    },
    {
      "cell_type": "code",
      "metadata": {
        "id": "fCrcSshxfMI5",
        "colab_type": "code",
        "outputId": "a76afb73-9f61-450f-cfc0-df25e4d620a4",
        "colab": {
          "base_uri": "https://localhost:8080/",
          "height": 281
        }
      },
      "source": [
        "# Let's see once the 497 cases before deleting the same\n",
        "\n",
        "cleanecom[cleanecom.finalflag==2].head().sort_values('customerid')"
      ],
      "execution_count": 97,
      "outputs": [
        {
          "output_type": "execute_result",
          "data": {
            "text/html": [
              "<div>\n",
              "<style scoped>\n",
              "    .dataframe tbody tr th:only-of-type {\n",
              "        vertical-align: middle;\n",
              "    }\n",
              "\n",
              "    .dataframe tbody tr th {\n",
              "        vertical-align: top;\n",
              "    }\n",
              "\n",
              "    .dataframe thead th {\n",
              "        text-align: right;\n",
              "    }\n",
              "</style>\n",
              "<table border=\"1\" class=\"dataframe\">\n",
              "  <thead>\n",
              "    <tr style=\"text-align: right;\">\n",
              "      <th></th>\n",
              "      <th>invoiceno</th>\n",
              "      <th>stockcode</th>\n",
              "      <th>description</th>\n",
              "      <th>quantity</th>\n",
              "      <th>invoicedate</th>\n",
              "      <th>unitprice</th>\n",
              "      <th>customerid</th>\n",
              "      <th>country</th>\n",
              "      <th>newdate</th>\n",
              "      <th>alpha_description</th>\n",
              "      <th>invoice_c</th>\n",
              "      <th>Flag</th>\n",
              "      <th>qtyflag</th>\n",
              "      <th>finalflag</th>\n",
              "    </tr>\n",
              "  </thead>\n",
              "  <tbody>\n",
              "    <tr>\n",
              "      <th>3102</th>\n",
              "      <td>C536757</td>\n",
              "      <td>84347</td>\n",
              "      <td>ROTATING SILVER ANGELS T-LIGHT HLDR</td>\n",
              "      <td>-9360</td>\n",
              "      <td>12/2/2010 14:23</td>\n",
              "      <td>0.03</td>\n",
              "      <td>15838.0</td>\n",
              "      <td>United Kingdom</td>\n",
              "      <td>2010-12-02</td>\n",
              "      <td>8</td>\n",
              "      <td>C</td>\n",
              "      <td>1.0</td>\n",
              "      <td>1</td>\n",
              "      <td>2.0</td>\n",
              "    </tr>\n",
              "    <tr>\n",
              "      <th>3649</th>\n",
              "      <td>C536812</td>\n",
              "      <td>22574</td>\n",
              "      <td>HEART WOODEN CHRISTMAS DECORATION</td>\n",
              "      <td>-192</td>\n",
              "      <td>12/2/2010 16:58</td>\n",
              "      <td>0.72</td>\n",
              "      <td>16546.0</td>\n",
              "      <td>United Kingdom</td>\n",
              "      <td>2010-12-02</td>\n",
              "      <td>2</td>\n",
              "      <td>C</td>\n",
              "      <td>1.0</td>\n",
              "      <td>1</td>\n",
              "      <td>2.0</td>\n",
              "    </tr>\n",
              "    <tr>\n",
              "      <th>3650</th>\n",
              "      <td>C536812</td>\n",
              "      <td>22593</td>\n",
              "      <td>CHRISTMAS GINGHAM STAR</td>\n",
              "      <td>-144</td>\n",
              "      <td>12/2/2010 16:58</td>\n",
              "      <td>0.72</td>\n",
              "      <td>16546.0</td>\n",
              "      <td>United Kingdom</td>\n",
              "      <td>2010-12-02</td>\n",
              "      <td>2</td>\n",
              "      <td>C</td>\n",
              "      <td>1.0</td>\n",
              "      <td>1</td>\n",
              "      <td>2.0</td>\n",
              "    </tr>\n",
              "    <tr>\n",
              "      <th>3651</th>\n",
              "      <td>C536812</td>\n",
              "      <td>22595</td>\n",
              "      <td>CHRISTMAS GINGHAM HEART</td>\n",
              "      <td>-144</td>\n",
              "      <td>12/2/2010 16:58</td>\n",
              "      <td>0.72</td>\n",
              "      <td>16546.0</td>\n",
              "      <td>United Kingdom</td>\n",
              "      <td>2010-12-02</td>\n",
              "      <td>2</td>\n",
              "      <td>C</td>\n",
              "      <td>1.0</td>\n",
              "      <td>1</td>\n",
              "      <td>2.0</td>\n",
              "    </tr>\n",
              "    <tr>\n",
              "      <th>3652</th>\n",
              "      <td>C536812</td>\n",
              "      <td>22588</td>\n",
              "      <td>CARD HOLDER GINGHAM HEART</td>\n",
              "      <td>-192</td>\n",
              "      <td>12/2/2010 16:58</td>\n",
              "      <td>2.10</td>\n",
              "      <td>16546.0</td>\n",
              "      <td>United Kingdom</td>\n",
              "      <td>2010-12-02</td>\n",
              "      <td>2</td>\n",
              "      <td>C</td>\n",
              "      <td>1.0</td>\n",
              "      <td>1</td>\n",
              "      <td>2.0</td>\n",
              "    </tr>\n",
              "  </tbody>\n",
              "</table>\n",
              "</div>"
            ],
            "text/plain": [
              "     invoiceno stockcode                          description  quantity      invoicedate  unitprice  customerid         country    newdate alpha_description invoice_c  Flag  qtyflag  finalflag\n",
              "3102   C536757     84347  ROTATING SILVER ANGELS T-LIGHT HLDR     -9360  12/2/2010 14:23       0.03     15838.0  United Kingdom 2010-12-02                 8         C   1.0        1        2.0\n",
              "3649   C536812     22574    HEART WOODEN CHRISTMAS DECORATION      -192  12/2/2010 16:58       0.72     16546.0  United Kingdom 2010-12-02                 2         C   1.0        1        2.0\n",
              "3650   C536812     22593               CHRISTMAS GINGHAM STAR      -144  12/2/2010 16:58       0.72     16546.0  United Kingdom 2010-12-02                 2         C   1.0        1        2.0\n",
              "3651   C536812     22595              CHRISTMAS GINGHAM HEART      -144  12/2/2010 16:58       0.72     16546.0  United Kingdom 2010-12-02                 2         C   1.0        1        2.0\n",
              "3652   C536812     22588            CARD HOLDER GINGHAM HEART      -192  12/2/2010 16:58       2.10     16546.0  United Kingdom 2010-12-02                 2         C   1.0        1        2.0"
            ]
          },
          "metadata": {
            "tags": []
          },
          "execution_count": 97
        }
      ]
    },
    {
      "cell_type": "markdown",
      "metadata": {
        "id": "0mjSGrNB3ktZ",
        "colab_type": "text"
      },
      "source": [
        "Let's check dsome of these customer IDs quickly before deleting he data"
      ]
    },
    {
      "cell_type": "code",
      "metadata": {
        "id": "hGkl78LFfy0B",
        "colab_type": "code",
        "outputId": "ac9f3f17-2e8f-4806-98e2-385163cb7066",
        "colab": {
          "base_uri": "https://localhost:8080/",
          "height": 94
        }
      },
      "source": [
        "cleanecom[(cleanecom.finalflag==2) & (cleanecom.customerid==15838.0)]"
      ],
      "execution_count": 98,
      "outputs": [
        {
          "output_type": "execute_result",
          "data": {
            "text/html": [
              "<div>\n",
              "<style scoped>\n",
              "    .dataframe tbody tr th:only-of-type {\n",
              "        vertical-align: middle;\n",
              "    }\n",
              "\n",
              "    .dataframe tbody tr th {\n",
              "        vertical-align: top;\n",
              "    }\n",
              "\n",
              "    .dataframe thead th {\n",
              "        text-align: right;\n",
              "    }\n",
              "</style>\n",
              "<table border=\"1\" class=\"dataframe\">\n",
              "  <thead>\n",
              "    <tr style=\"text-align: right;\">\n",
              "      <th></th>\n",
              "      <th>invoiceno</th>\n",
              "      <th>stockcode</th>\n",
              "      <th>description</th>\n",
              "      <th>quantity</th>\n",
              "      <th>invoicedate</th>\n",
              "      <th>unitprice</th>\n",
              "      <th>customerid</th>\n",
              "      <th>country</th>\n",
              "      <th>newdate</th>\n",
              "      <th>alpha_description</th>\n",
              "      <th>invoice_c</th>\n",
              "      <th>Flag</th>\n",
              "      <th>qtyflag</th>\n",
              "      <th>finalflag</th>\n",
              "    </tr>\n",
              "  </thead>\n",
              "  <tbody>\n",
              "    <tr>\n",
              "      <th>3102</th>\n",
              "      <td>C536757</td>\n",
              "      <td>84347</td>\n",
              "      <td>ROTATING SILVER ANGELS T-LIGHT HLDR</td>\n",
              "      <td>-9360</td>\n",
              "      <td>12/2/2010 14:23</td>\n",
              "      <td>0.03</td>\n",
              "      <td>15838.0</td>\n",
              "      <td>United Kingdom</td>\n",
              "      <td>2010-12-02</td>\n",
              "      <td>8</td>\n",
              "      <td>C</td>\n",
              "      <td>1.0</td>\n",
              "      <td>1</td>\n",
              "      <td>2.0</td>\n",
              "    </tr>\n",
              "  </tbody>\n",
              "</table>\n",
              "</div>"
            ],
            "text/plain": [
              "     invoiceno stockcode                          description  quantity      invoicedate  unitprice  customerid         country    newdate alpha_description invoice_c  Flag  qtyflag  finalflag\n",
              "3102   C536757     84347  ROTATING SILVER ANGELS T-LIGHT HLDR     -9360  12/2/2010 14:23       0.03     15838.0  United Kingdom 2010-12-02                 8         C   1.0        1        2.0"
            ]
          },
          "metadata": {
            "tags": []
          },
          "execution_count": 98
        }
      ]
    },
    {
      "cell_type": "code",
      "metadata": {
        "id": "2Vp6wGdVgpww",
        "colab_type": "code",
        "outputId": "2ac184d0-bf21-44a4-8e09-08e2d402913e",
        "colab": {
          "base_uri": "https://localhost:8080/",
          "height": 94
        }
      },
      "source": [
        "cleanecom[(cleanecom.customerid==15838.0) & (cleanecom.stockcode==\"84347\")]"
      ],
      "execution_count": 99,
      "outputs": [
        {
          "output_type": "execute_result",
          "data": {
            "text/html": [
              "<div>\n",
              "<style scoped>\n",
              "    .dataframe tbody tr th:only-of-type {\n",
              "        vertical-align: middle;\n",
              "    }\n",
              "\n",
              "    .dataframe tbody tr th {\n",
              "        vertical-align: top;\n",
              "    }\n",
              "\n",
              "    .dataframe thead th {\n",
              "        text-align: right;\n",
              "    }\n",
              "</style>\n",
              "<table border=\"1\" class=\"dataframe\">\n",
              "  <thead>\n",
              "    <tr style=\"text-align: right;\">\n",
              "      <th></th>\n",
              "      <th>invoiceno</th>\n",
              "      <th>stockcode</th>\n",
              "      <th>description</th>\n",
              "      <th>quantity</th>\n",
              "      <th>invoicedate</th>\n",
              "      <th>unitprice</th>\n",
              "      <th>customerid</th>\n",
              "      <th>country</th>\n",
              "      <th>newdate</th>\n",
              "      <th>alpha_description</th>\n",
              "      <th>invoice_c</th>\n",
              "      <th>Flag</th>\n",
              "      <th>qtyflag</th>\n",
              "      <th>finalflag</th>\n",
              "    </tr>\n",
              "  </thead>\n",
              "  <tbody>\n",
              "    <tr>\n",
              "      <th>3102</th>\n",
              "      <td>C536757</td>\n",
              "      <td>84347</td>\n",
              "      <td>ROTATING SILVER ANGELS T-LIGHT HLDR</td>\n",
              "      <td>-9360</td>\n",
              "      <td>12/2/2010 14:23</td>\n",
              "      <td>0.03</td>\n",
              "      <td>15838.0</td>\n",
              "      <td>United Kingdom</td>\n",
              "      <td>2010-12-02</td>\n",
              "      <td>8</td>\n",
              "      <td>C</td>\n",
              "      <td>1.0</td>\n",
              "      <td>1</td>\n",
              "      <td>2.0</td>\n",
              "    </tr>\n",
              "  </tbody>\n",
              "</table>\n",
              "</div>"
            ],
            "text/plain": [
              "     invoiceno stockcode                          description  quantity      invoicedate  unitprice  customerid         country    newdate alpha_description invoice_c  Flag  qtyflag  finalflag\n",
              "3102   C536757     84347  ROTATING SILVER ANGELS T-LIGHT HLDR     -9360  12/2/2010 14:23       0.03     15838.0  United Kingdom 2010-12-02                 8         C   1.0        1        2.0"
            ]
          },
          "metadata": {
            "tags": []
          },
          "execution_count": 99
        }
      ]
    },
    {
      "cell_type": "markdown",
      "metadata": {
        "id": "Sr1XUqLBh8q3",
        "colab_type": "text"
      },
      "source": [
        "### LEt's now remove 497 data points , looks like these are legit removal case. Again please try to check these data in excel and then decide to remove them. "
      ]
    },
    {
      "cell_type": "code",
      "metadata": {
        "id": "JvAk-Mvbg-Ca",
        "colab_type": "code",
        "colab": {}
      },
      "source": [
        "cleanecom= cleanecom[~(cleanecom.finalflag==2)] # Based on final flag we are removing the rows"
      ],
      "execution_count": 0,
      "outputs": []
    },
    {
      "cell_type": "code",
      "metadata": {
        "id": "gzn7pNoOiSF8",
        "colab_type": "code",
        "outputId": "65c1b6c0-03b5-4536-da40-3e3db8c51b80",
        "colab": {
          "base_uri": "https://localhost:8080/",
          "height": 34
        }
      },
      "source": [
        "cleanecom.shape, ecomnew.shape"
      ],
      "execution_count": 102,
      "outputs": [
        {
          "output_type": "execute_result",
          "data": {
            "text/plain": [
              "((406332, 14), (406829, 11))"
            ]
          },
          "metadata": {
            "tags": []
          },
          "execution_count": 102
        }
      ]
    },
    {
      "cell_type": "markdown",
      "metadata": {
        "id": "qyAjHHuVildn",
        "colab_type": "text"
      },
      "source": [
        "### Let's now have a look at the description column\n",
        "\n",
        "         Frequency tables in Python:   \n",
        "         Padas.Series.value_counts(self, normalize=False, sort=True, ascending=False, bins=None, dropna=True)"
      ]
    },
    {
      "cell_type": "code",
      "metadata": {
        "id": "lqmz99XiiVZI",
        "colab_type": "code",
        "outputId": "eb3c3805-62c8-4016-81ba-eba308eeeaec",
        "colab": {
          "base_uri": "https://localhost:8080/",
          "height": 87
        }
      },
      "source": [
        "# Get a series of unique values in column 'Quantity' of the dataframe\n",
        "uniqueValues = cleanecom['description'].unique()\n",
        "print('Unique elements in column \"Description\" ')\n",
        "print(uniqueValues)"
      ],
      "execution_count": 103,
      "outputs": [
        {
          "output_type": "stream",
          "text": [
            "Unique elements in column \"Description\" \n",
            "['WHITE HANGING HEART T-LIGHT HOLDER' 'WHITE METAL LANTERN'\n",
            " 'CREAM CUPID HEARTS COAT HANGER' ... 'LETTER \"Z\" BLING KEY RING'\n",
            " 'PINK CRYSTAL SKULL PHONE CHARM' 'CREAM HANGING HEART T-LIGHT HOLDER']\n"
          ],
          "name": "stdout"
        }
      ]
    },
    {
      "cell_type": "code",
      "metadata": {
        "id": "tpZUlLskjZ5U",
        "colab_type": "code",
        "outputId": "c8c2f8fb-45a1-4478-c58b-15d6f15647ad",
        "colab": {
          "base_uri": "https://localhost:8080/",
          "height": 227
        }
      },
      "source": [
        "cleanecom.description.value_counts()"
      ],
      "execution_count": 104,
      "outputs": [
        {
          "output_type": "execute_result",
          "data": {
            "text/plain": [
              "WHITE HANGING HEART T-LIGHT HOLDER    2067\n",
              "REGENCY CAKESTAND 3 TIER              1904\n",
              "JUMBO BAG RED RETROSPOT               1646\n",
              "ASSORTED COLOUR BIRD ORNAMENT         1417\n",
              "PARTY BUNTING                         1415\n",
              "                                      ... \n",
              "KNITTED RABBIT DOLL                      1\n",
              "AMBER GLASS/SHELL/PEARL NECKLACE         1\n",
              "GOLD/AMBER DROP EARRINGS W LEAF          1\n",
              "WRAP  PINK FLOCK                         1\n",
              "VINTAGE BLUE TINSEL REEL                 1\n",
              "Name: description, Length: 3895, dtype: int64"
            ]
          },
          "metadata": {
            "tags": []
          },
          "execution_count": 104
        }
      ]
    },
    {
      "cell_type": "markdown",
      "metadata": {
        "id": "J8euCPYrlISW",
        "colab_type": "text"
      },
      "source": [
        "### Iteratively you can continue to clean data as you wish . In the iterest of time I am moving to sent stage of data eloration and then we shall get into femous feature creation"
      ]
    },
    {
      "cell_type": "markdown",
      "metadata": {
        "id": "04exCd5flw-H",
        "colab_type": "text"
      },
      "source": [
        "### Pandas Cross tab- Titanic data example. I am sure you must have seen this data in some shape and form else just look in to kaggle datasets. This data is easy to find\n",
        "\n",
        "**One-Way Tables**  \n",
        "      \n",
        "      my_tab = pd.crosstab(index=titanic_train[\"Survived\"],\n",
        "                              columns=\"count\")\n",
        "\n",
        "**Two-Way tables**\n",
        "\n",
        "\n",
        "      pd.crosstab(index,columns,values=?,rownames=?,colnames=?,aggfunc=?,dropna=True,normalize=True)\n",
        "\n",
        "      survived_sex = pd.crosstab(index=titanic_train[\"Survived\"], \n",
        "                           columns=titanic_train[\"Sex\"])\n",
        "\n",
        "      survived_sex.index= [\"died\",\"survived\"]\n",
        "\n",
        "      survived_sex"
      ]
    },
    {
      "cell_type": "code",
      "metadata": {
        "id": "IIpj4Rgcjvmc",
        "colab_type": "code",
        "outputId": "2a6db4d4-1e9b-4261-bc42-9b3878b0fe45",
        "colab": {
          "base_uri": "https://localhost:8080/",
          "height": 209
        }
      },
      "source": [
        "kk = pd.crosstab(index=cleanecom[\"country\"],columns=\"count\")\n",
        "print(kk)"
      ],
      "execution_count": 105,
      "outputs": [
        {
          "output_type": "stream",
          "text": [
            "col_0            count\n",
            "country               \n",
            "Asia               586\n",
            "Australia         1218\n",
            "Canada             151\n",
            "Europe           42189\n",
            "Middle East        140\n",
            "South America       32\n",
            "USA                291\n",
            "United Kingdom  361481\n",
            "Unspecified        244\n"
          ],
          "name": "stdout"
        }
      ]
    },
    {
      "cell_type": "code",
      "metadata": {
        "id": "t63EL5yqngnF",
        "colab_type": "code",
        "outputId": "17647483-6a04-45c9-fdf5-762e484632d7",
        "colab": {
          "base_uri": "https://localhost:8080/",
          "height": 227
        }
      },
      "source": [
        "pd.crosstab(index=cleanecom['country'],columns=cleanecom['finalflag'],values=cleanecom['finalflag'],aggfunc='count',dropna=True,normalize=True)"
      ],
      "execution_count": 106,
      "outputs": [
        {
          "output_type": "execute_result",
          "data": {
            "text/html": [
              "<div>\n",
              "<style scoped>\n",
              "    .dataframe tbody tr th:only-of-type {\n",
              "        vertical-align: middle;\n",
              "    }\n",
              "\n",
              "    .dataframe tbody tr th {\n",
              "        vertical-align: top;\n",
              "    }\n",
              "\n",
              "    .dataframe thead th {\n",
              "        text-align: right;\n",
              "    }\n",
              "</style>\n",
              "<table border=\"1\" class=\"dataframe\">\n",
              "  <thead>\n",
              "    <tr style=\"text-align: right;\">\n",
              "      <th>finalflag</th>\n",
              "      <th>1.0</th>\n",
              "    </tr>\n",
              "    <tr>\n",
              "      <th>country</th>\n",
              "      <th></th>\n",
              "    </tr>\n",
              "  </thead>\n",
              "  <tbody>\n",
              "    <tr>\n",
              "      <th>Asia</th>\n",
              "      <td>0.001436</td>\n",
              "    </tr>\n",
              "    <tr>\n",
              "      <th>Australia</th>\n",
              "      <td>0.058169</td>\n",
              "    </tr>\n",
              "    <tr>\n",
              "      <th>Europe</th>\n",
              "      <td>0.106284</td>\n",
              "    </tr>\n",
              "    <tr>\n",
              "      <th>USA</th>\n",
              "      <td>0.040215</td>\n",
              "    </tr>\n",
              "    <tr>\n",
              "      <th>United Kingdom</th>\n",
              "      <td>0.793896</td>\n",
              "    </tr>\n",
              "  </tbody>\n",
              "</table>\n",
              "</div>"
            ],
            "text/plain": [
              "finalflag            1.0\n",
              "country                 \n",
              "Asia            0.001436\n",
              "Australia       0.058169\n",
              "Europe          0.106284\n",
              "USA             0.040215\n",
              "United Kingdom  0.793896"
            ]
          },
          "metadata": {
            "tags": []
          },
          "execution_count": 106
        }
      ]
    },
    {
      "cell_type": "markdown",
      "metadata": {
        "id": "YpQu3x8QmQOt",
        "colab_type": "text"
      },
      "source": [
        "### SORTING A PANDAS DATAFRAME\n",
        "\n",
        "SYNTAX:  \n",
        "     \n",
        "     DataFrame.sort_values(self, by, axis=0, ascending=True, inplace=False, kind='quicksort', na_position='last', ignore_index=False)\n",
        "\n",
        "EXAMPLE:  \n",
        "\n",
        "    df.sort_values(by=['col1', 'col2'], ascending=False, na_position='first')\n",
        "\n",
        "------------------------------------------------------------\n",
        "There is a function to SORT INDEX  \n",
        "Explore df.sort_index"
      ]
    },
    {
      "cell_type": "code",
      "metadata": {
        "id": "_hdwffMZmHEc",
        "colab_type": "code",
        "outputId": "bad68ca1-2a81-42ad-e566-e74352aaa311",
        "colab": {
          "base_uri": "https://localhost:8080/",
          "height": 227
        }
      },
      "source": [
        "kk.sort_values(by=['count'],inplace=True)\n",
        "kk.head(5)"
      ],
      "execution_count": 107,
      "outputs": [
        {
          "output_type": "execute_result",
          "data": {
            "text/html": [
              "<div>\n",
              "<style scoped>\n",
              "    .dataframe tbody tr th:only-of-type {\n",
              "        vertical-align: middle;\n",
              "    }\n",
              "\n",
              "    .dataframe tbody tr th {\n",
              "        vertical-align: top;\n",
              "    }\n",
              "\n",
              "    .dataframe thead th {\n",
              "        text-align: right;\n",
              "    }\n",
              "</style>\n",
              "<table border=\"1\" class=\"dataframe\">\n",
              "  <thead>\n",
              "    <tr style=\"text-align: right;\">\n",
              "      <th>col_0</th>\n",
              "      <th>count</th>\n",
              "    </tr>\n",
              "    <tr>\n",
              "      <th>country</th>\n",
              "      <th></th>\n",
              "    </tr>\n",
              "  </thead>\n",
              "  <tbody>\n",
              "    <tr>\n",
              "      <th>South America</th>\n",
              "      <td>32</td>\n",
              "    </tr>\n",
              "    <tr>\n",
              "      <th>Middle East</th>\n",
              "      <td>140</td>\n",
              "    </tr>\n",
              "    <tr>\n",
              "      <th>Canada</th>\n",
              "      <td>151</td>\n",
              "    </tr>\n",
              "    <tr>\n",
              "      <th>Unspecified</th>\n",
              "      <td>244</td>\n",
              "    </tr>\n",
              "    <tr>\n",
              "      <th>USA</th>\n",
              "      <td>291</td>\n",
              "    </tr>\n",
              "  </tbody>\n",
              "</table>\n",
              "</div>"
            ],
            "text/plain": [
              "col_0          count\n",
              "country             \n",
              "South America     32\n",
              "Middle East      140\n",
              "Canada           151\n",
              "Unspecified      244\n",
              "USA              291"
            ]
          },
          "metadata": {
            "tags": []
          },
          "execution_count": 107
        }
      ]
    },
    {
      "cell_type": "markdown",
      "metadata": {
        "id": "nzWMQY8JsHF4",
        "colab_type": "text"
      },
      "source": [
        "#### Let's check for duplicate records\n",
        "\n",
        "       SYNTAX:\n",
        "       print('Duplicate entries: {}'.format(df_input_data.duplicated().sum()))\n",
        "       \n",
        "       EXAMPLE:\n",
        "       duplicate_rows = df_input_data[df_input_data.duplicated()]\n",
        "       duplicate_rows\n",
        "\n"
      ]
    },
    {
      "cell_type": "code",
      "metadata": {
        "id": "w1S11I10solI",
        "colab_type": "code",
        "outputId": "c68eab27-8524-4d04-a538-cdc3f910af37",
        "colab": {
          "base_uri": "https://localhost:8080/",
          "height": 34
        }
      },
      "source": [
        "print('Duplicate entries: {}'.format(cleanecom.duplicated().sum()))"
      ],
      "execution_count": 108,
      "outputs": [
        {
          "output_type": "stream",
          "text": [
            "Duplicate entries: 5221\n"
          ],
          "name": "stdout"
        }
      ]
    },
    {
      "cell_type": "code",
      "metadata": {
        "id": "cajSzz_hs1OS",
        "colab_type": "code",
        "outputId": "efb025e5-03b6-47ad-ad6f-8336f0cb19be",
        "colab": {
          "base_uri": "https://localhost:8080/",
          "height": 573
        }
      },
      "source": [
        "duplicate_rows = cleanecom[cleanecom.duplicated()]\n",
        "duplicate_rows"
      ],
      "execution_count": 109,
      "outputs": [
        {
          "output_type": "execute_result",
          "data": {
            "text/html": [
              "<div>\n",
              "<style scoped>\n",
              "    .dataframe tbody tr th:only-of-type {\n",
              "        vertical-align: middle;\n",
              "    }\n",
              "\n",
              "    .dataframe tbody tr th {\n",
              "        vertical-align: top;\n",
              "    }\n",
              "\n",
              "    .dataframe thead th {\n",
              "        text-align: right;\n",
              "    }\n",
              "</style>\n",
              "<table border=\"1\" class=\"dataframe\">\n",
              "  <thead>\n",
              "    <tr style=\"text-align: right;\">\n",
              "      <th></th>\n",
              "      <th>invoiceno</th>\n",
              "      <th>stockcode</th>\n",
              "      <th>description</th>\n",
              "      <th>quantity</th>\n",
              "      <th>invoicedate</th>\n",
              "      <th>unitprice</th>\n",
              "      <th>customerid</th>\n",
              "      <th>country</th>\n",
              "      <th>newdate</th>\n",
              "      <th>alpha_description</th>\n",
              "      <th>invoice_c</th>\n",
              "      <th>Flag</th>\n",
              "      <th>qtyflag</th>\n",
              "      <th>finalflag</th>\n",
              "    </tr>\n",
              "  </thead>\n",
              "  <tbody>\n",
              "    <tr>\n",
              "      <th>517</th>\n",
              "      <td>536409</td>\n",
              "      <td>21866</td>\n",
              "      <td>UNION JACK FLAG LUGGAGE TAG</td>\n",
              "      <td>1</td>\n",
              "      <td>12/1/2010 11:45</td>\n",
              "      <td>1.25</td>\n",
              "      <td>17908.0</td>\n",
              "      <td>United Kingdom</td>\n",
              "      <td>2010-12-01</td>\n",
              "      <td>2</td>\n",
              "      <td>5</td>\n",
              "      <td>NaN</td>\n",
              "      <td>0</td>\n",
              "      <td>NaN</td>\n",
              "    </tr>\n",
              "    <tr>\n",
              "      <th>527</th>\n",
              "      <td>536409</td>\n",
              "      <td>22866</td>\n",
              "      <td>HAND WARMER SCOTTY DOG DESIGN</td>\n",
              "      <td>1</td>\n",
              "      <td>12/1/2010 11:45</td>\n",
              "      <td>2.10</td>\n",
              "      <td>17908.0</td>\n",
              "      <td>United Kingdom</td>\n",
              "      <td>2010-12-01</td>\n",
              "      <td>2</td>\n",
              "      <td>5</td>\n",
              "      <td>NaN</td>\n",
              "      <td>0</td>\n",
              "      <td>NaN</td>\n",
              "    </tr>\n",
              "    <tr>\n",
              "      <th>537</th>\n",
              "      <td>536409</td>\n",
              "      <td>22900</td>\n",
              "      <td>SET 2 TEA TOWELS I LOVE LONDON</td>\n",
              "      <td>1</td>\n",
              "      <td>12/1/2010 11:45</td>\n",
              "      <td>2.95</td>\n",
              "      <td>17908.0</td>\n",
              "      <td>United Kingdom</td>\n",
              "      <td>2010-12-01</td>\n",
              "      <td>2</td>\n",
              "      <td>5</td>\n",
              "      <td>NaN</td>\n",
              "      <td>0</td>\n",
              "      <td>NaN</td>\n",
              "    </tr>\n",
              "    <tr>\n",
              "      <th>539</th>\n",
              "      <td>536409</td>\n",
              "      <td>22111</td>\n",
              "      <td>SCOTTIE DOG HOT WATER BOTTLE</td>\n",
              "      <td>1</td>\n",
              "      <td>12/1/2010 11:45</td>\n",
              "      <td>4.95</td>\n",
              "      <td>17908.0</td>\n",
              "      <td>United Kingdom</td>\n",
              "      <td>2010-12-01</td>\n",
              "      <td>2</td>\n",
              "      <td>5</td>\n",
              "      <td>NaN</td>\n",
              "      <td>0</td>\n",
              "      <td>NaN</td>\n",
              "    </tr>\n",
              "    <tr>\n",
              "      <th>555</th>\n",
              "      <td>536412</td>\n",
              "      <td>22327</td>\n",
              "      <td>ROUND SNACK BOXES SET OF 4 SKULLS</td>\n",
              "      <td>1</td>\n",
              "      <td>12/1/2010 11:49</td>\n",
              "      <td>2.95</td>\n",
              "      <td>17920.0</td>\n",
              "      <td>United Kingdom</td>\n",
              "      <td>2010-12-01</td>\n",
              "      <td>2</td>\n",
              "      <td>5</td>\n",
              "      <td>NaN</td>\n",
              "      <td>0</td>\n",
              "      <td>NaN</td>\n",
              "    </tr>\n",
              "    <tr>\n",
              "      <th>...</th>\n",
              "      <td>...</td>\n",
              "      <td>...</td>\n",
              "      <td>...</td>\n",
              "      <td>...</td>\n",
              "      <td>...</td>\n",
              "      <td>...</td>\n",
              "      <td>...</td>\n",
              "      <td>...</td>\n",
              "      <td>...</td>\n",
              "      <td>...</td>\n",
              "      <td>...</td>\n",
              "      <td>...</td>\n",
              "      <td>...</td>\n",
              "      <td>...</td>\n",
              "    </tr>\n",
              "    <tr>\n",
              "      <th>406595</th>\n",
              "      <td>581538</td>\n",
              "      <td>22068</td>\n",
              "      <td>BLACK PIRATE TREASURE CHEST</td>\n",
              "      <td>1</td>\n",
              "      <td>12/9/2011 11:34</td>\n",
              "      <td>0.39</td>\n",
              "      <td>14446.0</td>\n",
              "      <td>United Kingdom</td>\n",
              "      <td>2011-12-09</td>\n",
              "      <td>2</td>\n",
              "      <td>5</td>\n",
              "      <td>NaN</td>\n",
              "      <td>0</td>\n",
              "      <td>NaN</td>\n",
              "    </tr>\n",
              "    <tr>\n",
              "      <th>406609</th>\n",
              "      <td>581538</td>\n",
              "      <td>23318</td>\n",
              "      <td>BOX OF 6 MINI VINTAGE CRACKERS</td>\n",
              "      <td>1</td>\n",
              "      <td>12/9/2011 11:34</td>\n",
              "      <td>2.49</td>\n",
              "      <td>14446.0</td>\n",
              "      <td>United Kingdom</td>\n",
              "      <td>2011-12-09</td>\n",
              "      <td>2</td>\n",
              "      <td>5</td>\n",
              "      <td>NaN</td>\n",
              "      <td>0</td>\n",
              "      <td>NaN</td>\n",
              "    </tr>\n",
              "    <tr>\n",
              "      <th>406612</th>\n",
              "      <td>581538</td>\n",
              "      <td>22992</td>\n",
              "      <td>REVOLVER WOODEN RULER</td>\n",
              "      <td>1</td>\n",
              "      <td>12/9/2011 11:34</td>\n",
              "      <td>1.95</td>\n",
              "      <td>14446.0</td>\n",
              "      <td>United Kingdom</td>\n",
              "      <td>2011-12-09</td>\n",
              "      <td>2</td>\n",
              "      <td>5</td>\n",
              "      <td>NaN</td>\n",
              "      <td>0</td>\n",
              "      <td>NaN</td>\n",
              "    </tr>\n",
              "    <tr>\n",
              "      <th>406619</th>\n",
              "      <td>581538</td>\n",
              "      <td>22694</td>\n",
              "      <td>WICKER STAR</td>\n",
              "      <td>1</td>\n",
              "      <td>12/9/2011 11:34</td>\n",
              "      <td>2.10</td>\n",
              "      <td>14446.0</td>\n",
              "      <td>United Kingdom</td>\n",
              "      <td>2011-12-09</td>\n",
              "      <td>2</td>\n",
              "      <td>5</td>\n",
              "      <td>NaN</td>\n",
              "      <td>0</td>\n",
              "      <td>NaN</td>\n",
              "    </tr>\n",
              "    <tr>\n",
              "      <th>406621</th>\n",
              "      <td>581538</td>\n",
              "      <td>23343</td>\n",
              "      <td>JUMBO BAG VINTAGE CHRISTMAS</td>\n",
              "      <td>1</td>\n",
              "      <td>12/9/2011 11:34</td>\n",
              "      <td>2.08</td>\n",
              "      <td>14446.0</td>\n",
              "      <td>United Kingdom</td>\n",
              "      <td>2011-12-09</td>\n",
              "      <td>2</td>\n",
              "      <td>5</td>\n",
              "      <td>NaN</td>\n",
              "      <td>0</td>\n",
              "      <td>NaN</td>\n",
              "    </tr>\n",
              "  </tbody>\n",
              "</table>\n",
              "<p>5221 rows × 14 columns</p>\n",
              "</div>"
            ],
            "text/plain": [
              "       invoiceno stockcode                        description  quantity      invoicedate  unitprice  customerid         country    newdate alpha_description invoice_c  Flag  qtyflag  finalflag\n",
              "517       536409     21866        UNION JACK FLAG LUGGAGE TAG         1  12/1/2010 11:45       1.25     17908.0  United Kingdom 2010-12-01                 2         5   NaN        0        NaN\n",
              "527       536409     22866      HAND WARMER SCOTTY DOG DESIGN         1  12/1/2010 11:45       2.10     17908.0  United Kingdom 2010-12-01                 2         5   NaN        0        NaN\n",
              "537       536409     22900    SET 2 TEA TOWELS I LOVE LONDON          1  12/1/2010 11:45       2.95     17908.0  United Kingdom 2010-12-01                 2         5   NaN        0        NaN\n",
              "539       536409     22111       SCOTTIE DOG HOT WATER BOTTLE         1  12/1/2010 11:45       4.95     17908.0  United Kingdom 2010-12-01                 2         5   NaN        0        NaN\n",
              "555       536412     22327  ROUND SNACK BOXES SET OF 4 SKULLS         1  12/1/2010 11:49       2.95     17920.0  United Kingdom 2010-12-01                 2         5   NaN        0        NaN\n",
              "...          ...       ...                                ...       ...              ...        ...         ...             ...        ...               ...       ...   ...      ...        ...\n",
              "406595    581538     22068        BLACK PIRATE TREASURE CHEST         1  12/9/2011 11:34       0.39     14446.0  United Kingdom 2011-12-09                 2         5   NaN        0        NaN\n",
              "406609    581538     23318     BOX OF 6 MINI VINTAGE CRACKERS         1  12/9/2011 11:34       2.49     14446.0  United Kingdom 2011-12-09                 2         5   NaN        0        NaN\n",
              "406612    581538     22992             REVOLVER WOODEN RULER          1  12/9/2011 11:34       1.95     14446.0  United Kingdom 2011-12-09                 2         5   NaN        0        NaN\n",
              "406619    581538     22694                       WICKER STAR          1  12/9/2011 11:34       2.10     14446.0  United Kingdom 2011-12-09                 2         5   NaN        0        NaN\n",
              "406621    581538     23343       JUMBO BAG VINTAGE CHRISTMAS          1  12/9/2011 11:34       2.08     14446.0  United Kingdom 2011-12-09                 2         5   NaN        0        NaN\n",
              "\n",
              "[5221 rows x 14 columns]"
            ]
          },
          "metadata": {
            "tags": []
          },
          "execution_count": 109
        }
      ]
    },
    {
      "cell_type": "code",
      "metadata": {
        "id": "XPC9jcO6tbGP",
        "colab_type": "code",
        "outputId": "a02cda6c-6c03-4f36-99cd-d413952f1fb5",
        "colab": {
          "base_uri": "https://localhost:8080/",
          "height": 167
        }
      },
      "source": [
        "# Not sure why these are duplicates as the data in each row is different in some way or other\n",
        "duplicate_rows = cleanecom[cleanecom.duplicated() & (cleanecom.invoiceno=='536409')]\n",
        "duplicate_rows"
      ],
      "execution_count": 110,
      "outputs": [
        {
          "output_type": "execute_result",
          "data": {
            "text/html": [
              "<div>\n",
              "<style scoped>\n",
              "    .dataframe tbody tr th:only-of-type {\n",
              "        vertical-align: middle;\n",
              "    }\n",
              "\n",
              "    .dataframe tbody tr th {\n",
              "        vertical-align: top;\n",
              "    }\n",
              "\n",
              "    .dataframe thead th {\n",
              "        text-align: right;\n",
              "    }\n",
              "</style>\n",
              "<table border=\"1\" class=\"dataframe\">\n",
              "  <thead>\n",
              "    <tr style=\"text-align: right;\">\n",
              "      <th></th>\n",
              "      <th>invoiceno</th>\n",
              "      <th>stockcode</th>\n",
              "      <th>description</th>\n",
              "      <th>quantity</th>\n",
              "      <th>invoicedate</th>\n",
              "      <th>unitprice</th>\n",
              "      <th>customerid</th>\n",
              "      <th>country</th>\n",
              "      <th>newdate</th>\n",
              "      <th>alpha_description</th>\n",
              "      <th>invoice_c</th>\n",
              "      <th>Flag</th>\n",
              "      <th>qtyflag</th>\n",
              "      <th>finalflag</th>\n",
              "    </tr>\n",
              "  </thead>\n",
              "  <tbody>\n",
              "    <tr>\n",
              "      <th>517</th>\n",
              "      <td>536409</td>\n",
              "      <td>21866</td>\n",
              "      <td>UNION JACK FLAG LUGGAGE TAG</td>\n",
              "      <td>1</td>\n",
              "      <td>12/1/2010 11:45</td>\n",
              "      <td>1.25</td>\n",
              "      <td>17908.0</td>\n",
              "      <td>United Kingdom</td>\n",
              "      <td>2010-12-01</td>\n",
              "      <td>2</td>\n",
              "      <td>5</td>\n",
              "      <td>NaN</td>\n",
              "      <td>0</td>\n",
              "      <td>NaN</td>\n",
              "    </tr>\n",
              "    <tr>\n",
              "      <th>527</th>\n",
              "      <td>536409</td>\n",
              "      <td>22866</td>\n",
              "      <td>HAND WARMER SCOTTY DOG DESIGN</td>\n",
              "      <td>1</td>\n",
              "      <td>12/1/2010 11:45</td>\n",
              "      <td>2.10</td>\n",
              "      <td>17908.0</td>\n",
              "      <td>United Kingdom</td>\n",
              "      <td>2010-12-01</td>\n",
              "      <td>2</td>\n",
              "      <td>5</td>\n",
              "      <td>NaN</td>\n",
              "      <td>0</td>\n",
              "      <td>NaN</td>\n",
              "    </tr>\n",
              "    <tr>\n",
              "      <th>537</th>\n",
              "      <td>536409</td>\n",
              "      <td>22900</td>\n",
              "      <td>SET 2 TEA TOWELS I LOVE LONDON</td>\n",
              "      <td>1</td>\n",
              "      <td>12/1/2010 11:45</td>\n",
              "      <td>2.95</td>\n",
              "      <td>17908.0</td>\n",
              "      <td>United Kingdom</td>\n",
              "      <td>2010-12-01</td>\n",
              "      <td>2</td>\n",
              "      <td>5</td>\n",
              "      <td>NaN</td>\n",
              "      <td>0</td>\n",
              "      <td>NaN</td>\n",
              "    </tr>\n",
              "    <tr>\n",
              "      <th>539</th>\n",
              "      <td>536409</td>\n",
              "      <td>22111</td>\n",
              "      <td>SCOTTIE DOG HOT WATER BOTTLE</td>\n",
              "      <td>1</td>\n",
              "      <td>12/1/2010 11:45</td>\n",
              "      <td>4.95</td>\n",
              "      <td>17908.0</td>\n",
              "      <td>United Kingdom</td>\n",
              "      <td>2010-12-01</td>\n",
              "      <td>2</td>\n",
              "      <td>5</td>\n",
              "      <td>NaN</td>\n",
              "      <td>0</td>\n",
              "      <td>NaN</td>\n",
              "    </tr>\n",
              "  </tbody>\n",
              "</table>\n",
              "</div>"
            ],
            "text/plain": [
              "    invoiceno stockcode                       description  quantity      invoicedate  unitprice  customerid         country    newdate alpha_description invoice_c  Flag  qtyflag  finalflag\n",
              "517    536409     21866       UNION JACK FLAG LUGGAGE TAG         1  12/1/2010 11:45       1.25     17908.0  United Kingdom 2010-12-01                 2         5   NaN        0        NaN\n",
              "527    536409     22866     HAND WARMER SCOTTY DOG DESIGN         1  12/1/2010 11:45       2.10     17908.0  United Kingdom 2010-12-01                 2         5   NaN        0        NaN\n",
              "537    536409     22900   SET 2 TEA TOWELS I LOVE LONDON          1  12/1/2010 11:45       2.95     17908.0  United Kingdom 2010-12-01                 2         5   NaN        0        NaN\n",
              "539    536409     22111      SCOTTIE DOG HOT WATER BOTTLE         1  12/1/2010 11:45       4.95     17908.0  United Kingdom 2010-12-01                 2         5   NaN        0        NaN"
            ]
          },
          "metadata": {
            "tags": []
          },
          "execution_count": 110
        }
      ]
    },
    {
      "cell_type": "markdown",
      "metadata": {
        "id": "rXcA13cQKGj_",
        "colab_type": "text"
      },
      "source": [
        "### Looks like the above one is a data entry mistake. somehow people have forgotton to club the items in the single invoice. Hence these are not duplicates. However below is an example , how you can remove duplicates.\n",
        "\n",
        "Please don't run it here... it will remove data without any justification\n",
        "\n",
        "\n",
        "\n",
        "```\n",
        "# Dropping the duplicates \n",
        "cleanecom = cleanecom.drop_duplicates(keep= 'first',inplace=True)\n",
        "cleanecom.shape\n",
        "```\n",
        "\n"
      ]
    },
    {
      "cell_type": "markdown",
      "metadata": {
        "id": "SIfbNa5DsZE2",
        "colab_type": "text"
      },
      "source": [
        "### Let's create some date features :\n",
        "\n",
        "\n",
        "*   Extract Month \n",
        "*   Year\n",
        "*    Day of the transaction\n",
        "\n"
      ]
    },
    {
      "cell_type": "code",
      "metadata": {
        "id": "0sk2DBHymmzB",
        "colab_type": "code",
        "colab": {}
      },
      "source": [
        "cleanecom[\"year\"] = cleanecom.newdate.dt.year\n",
        "cleanecom[\"month\"] = cleanecom.newdate.dt.month\n",
        "cleanecom[\"day\"] = cleanecom.newdate.dt.day"
      ],
      "execution_count": 0,
      "outputs": []
    },
    {
      "cell_type": "code",
      "metadata": {
        "id": "dxwR5NjsrufA",
        "colab_type": "code",
        "outputId": "30fe8de6-3e13-49d6-f8a3-9818e3623368",
        "colab": {
          "base_uri": "https://localhost:8080/",
          "height": 281
        }
      },
      "source": [
        "cleanecom.head()"
      ],
      "execution_count": 112,
      "outputs": [
        {
          "output_type": "execute_result",
          "data": {
            "text/html": [
              "<div>\n",
              "<style scoped>\n",
              "    .dataframe tbody tr th:only-of-type {\n",
              "        vertical-align: middle;\n",
              "    }\n",
              "\n",
              "    .dataframe tbody tr th {\n",
              "        vertical-align: top;\n",
              "    }\n",
              "\n",
              "    .dataframe thead th {\n",
              "        text-align: right;\n",
              "    }\n",
              "</style>\n",
              "<table border=\"1\" class=\"dataframe\">\n",
              "  <thead>\n",
              "    <tr style=\"text-align: right;\">\n",
              "      <th></th>\n",
              "      <th>invoiceno</th>\n",
              "      <th>stockcode</th>\n",
              "      <th>description</th>\n",
              "      <th>quantity</th>\n",
              "      <th>invoicedate</th>\n",
              "      <th>unitprice</th>\n",
              "      <th>customerid</th>\n",
              "      <th>country</th>\n",
              "      <th>newdate</th>\n",
              "      <th>alpha_description</th>\n",
              "      <th>invoice_c</th>\n",
              "      <th>Flag</th>\n",
              "      <th>qtyflag</th>\n",
              "      <th>finalflag</th>\n",
              "      <th>year</th>\n",
              "      <th>month</th>\n",
              "      <th>day</th>\n",
              "    </tr>\n",
              "  </thead>\n",
              "  <tbody>\n",
              "    <tr>\n",
              "      <th>0</th>\n",
              "      <td>536365</td>\n",
              "      <td>85123A</td>\n",
              "      <td>WHITE HANGING HEART T-LIGHT HOLDER</td>\n",
              "      <td>6</td>\n",
              "      <td>12/1/2010 8:26</td>\n",
              "      <td>2.55</td>\n",
              "      <td>17850.0</td>\n",
              "      <td>United Kingdom</td>\n",
              "      <td>2010-12-01</td>\n",
              "      <td>8</td>\n",
              "      <td>5</td>\n",
              "      <td>NaN</td>\n",
              "      <td>0</td>\n",
              "      <td>NaN</td>\n",
              "      <td>2010</td>\n",
              "      <td>12</td>\n",
              "      <td>1</td>\n",
              "    </tr>\n",
              "    <tr>\n",
              "      <th>1</th>\n",
              "      <td>536365</td>\n",
              "      <td>71053</td>\n",
              "      <td>WHITE METAL LANTERN</td>\n",
              "      <td>6</td>\n",
              "      <td>12/1/2010 8:26</td>\n",
              "      <td>3.39</td>\n",
              "      <td>17850.0</td>\n",
              "      <td>United Kingdom</td>\n",
              "      <td>2010-12-01</td>\n",
              "      <td>7</td>\n",
              "      <td>5</td>\n",
              "      <td>NaN</td>\n",
              "      <td>0</td>\n",
              "      <td>NaN</td>\n",
              "      <td>2010</td>\n",
              "      <td>12</td>\n",
              "      <td>1</td>\n",
              "    </tr>\n",
              "    <tr>\n",
              "      <th>2</th>\n",
              "      <td>536365</td>\n",
              "      <td>84406B</td>\n",
              "      <td>CREAM CUPID HEARTS COAT HANGER</td>\n",
              "      <td>8</td>\n",
              "      <td>12/1/2010 8:26</td>\n",
              "      <td>2.75</td>\n",
              "      <td>17850.0</td>\n",
              "      <td>United Kingdom</td>\n",
              "      <td>2010-12-01</td>\n",
              "      <td>8</td>\n",
              "      <td>5</td>\n",
              "      <td>NaN</td>\n",
              "      <td>0</td>\n",
              "      <td>NaN</td>\n",
              "      <td>2010</td>\n",
              "      <td>12</td>\n",
              "      <td>1</td>\n",
              "    </tr>\n",
              "    <tr>\n",
              "      <th>3</th>\n",
              "      <td>536365</td>\n",
              "      <td>84029G</td>\n",
              "      <td>KNITTED UNION FLAG HOT WATER BOTTLE</td>\n",
              "      <td>6</td>\n",
              "      <td>12/1/2010 8:26</td>\n",
              "      <td>3.39</td>\n",
              "      <td>17850.0</td>\n",
              "      <td>United Kingdom</td>\n",
              "      <td>2010-12-01</td>\n",
              "      <td>8</td>\n",
              "      <td>5</td>\n",
              "      <td>NaN</td>\n",
              "      <td>0</td>\n",
              "      <td>NaN</td>\n",
              "      <td>2010</td>\n",
              "      <td>12</td>\n",
              "      <td>1</td>\n",
              "    </tr>\n",
              "    <tr>\n",
              "      <th>4</th>\n",
              "      <td>536365</td>\n",
              "      <td>84029E</td>\n",
              "      <td>RED WOOLLY HOTTIE WHITE HEART.</td>\n",
              "      <td>6</td>\n",
              "      <td>12/1/2010 8:26</td>\n",
              "      <td>3.39</td>\n",
              "      <td>17850.0</td>\n",
              "      <td>United Kingdom</td>\n",
              "      <td>2010-12-01</td>\n",
              "      <td>8</td>\n",
              "      <td>5</td>\n",
              "      <td>NaN</td>\n",
              "      <td>0</td>\n",
              "      <td>NaN</td>\n",
              "      <td>2010</td>\n",
              "      <td>12</td>\n",
              "      <td>1</td>\n",
              "    </tr>\n",
              "  </tbody>\n",
              "</table>\n",
              "</div>"
            ],
            "text/plain": [
              "  invoiceno stockcode                          description  quantity     invoicedate  unitprice  customerid         country    newdate alpha_description invoice_c  Flag  qtyflag  finalflag  year  month  day\n",
              "0    536365    85123A   WHITE HANGING HEART T-LIGHT HOLDER         6  12/1/2010 8:26       2.55     17850.0  United Kingdom 2010-12-01                 8         5   NaN        0        NaN  2010     12    1\n",
              "1    536365     71053                  WHITE METAL LANTERN         6  12/1/2010 8:26       3.39     17850.0  United Kingdom 2010-12-01                 7         5   NaN        0        NaN  2010     12    1\n",
              "2    536365    84406B       CREAM CUPID HEARTS COAT HANGER         8  12/1/2010 8:26       2.75     17850.0  United Kingdom 2010-12-01                 8         5   NaN        0        NaN  2010     12    1\n",
              "3    536365    84029G  KNITTED UNION FLAG HOT WATER BOTTLE         6  12/1/2010 8:26       3.39     17850.0  United Kingdom 2010-12-01                 8         5   NaN        0        NaN  2010     12    1\n",
              "4    536365    84029E       RED WOOLLY HOTTIE WHITE HEART.         6  12/1/2010 8:26       3.39     17850.0  United Kingdom 2010-12-01                 8         5   NaN        0        NaN  2010     12    1"
            ]
          },
          "metadata": {
            "tags": []
          },
          "execution_count": 112
        }
      ]
    },
    {
      "cell_type": "markdown",
      "metadata": {
        "id": "BZnFwb5hydf9",
        "colab_type": "text"
      },
      "source": [
        "# EDA - Exploratory data analysis before creating ABT\n",
        "# & Feature Engineering "
      ]
    },
    {
      "cell_type": "markdown",
      "metadata": {
        "id": "KqtRGmmzMRKO",
        "colab_type": "text"
      },
      "source": [
        "### In case if you forgot my life long learning what I am still trying to share with you, \"please know your data like your girlfriend/boyfriend\"\n",
        "\n",
        "### Exploratory data analysis is again dependent on your creativity and zeal to know your data. There is no boundery what you can do here. \n",
        "\n",
        "Wat I am going to share are some simple techniques (never enough) which might get you started on the journey.\n",
        "\n",
        "Exploration should be done at 2 stages for any data:\n",
        "\n",
        "\n",
        "*   Before you create your ABT(Analytical Base Table). which will be consumed by model. \n",
        "         This will help you to understand in case any anomally data before\n",
        "         get's on aggregation. Like in case if you have not removed all 193 \n",
        "         transactions we removed it might be lost in the aggregation at \n",
        "         customer level. However impact might be there. Same goes for null values as well\n",
        "*   After you have actually created the ABT as well. \n",
        "        This would help you to study the relationship between features and help\n",
        "        you to understand how each feature might impact your dependent variable.\n",
        "        In case if you have any colier features which is not adding any value.\n",
        "        Is there any noisy features which we should drom or transform.\n",
        "\n",
        "        What Feature engineering may be required in order to capture the right pattern.\n",
        "\n"
      ]
    },
    {
      "cell_type": "markdown",
      "metadata": {
        "id": "jN6sJdBxPGjw",
        "colab_type": "text"
      },
      "source": [
        "### Good way to start may be to understand how many unique values you have in each column:"
      ]
    },
    {
      "cell_type": "code",
      "metadata": {
        "id": "yGDkO_7arzE9",
        "colab_type": "code",
        "outputId": "fef33dc1-a9e9-41c7-ec96-437601551c25",
        "colab": {
          "base_uri": "https://localhost:8080/",
          "height": 384
        }
      },
      "source": [
        "print('Total number of records in the data frame: ', cleanecom.customerid.count() )\n",
        "print('\\n Count of unique values by each column:\\n', cleanecom.nunique())\n",
        "\n",
        "\n"
      ],
      "execution_count": 114,
      "outputs": [
        {
          "output_type": "stream",
          "text": [
            "Total number of records in the data frame:  406332\n",
            "\n",
            " Count of unique values by each column:\n",
            " invoiceno            22085\n",
            "stockcode             3683\n",
            "description           3895\n",
            "quantity               360\n",
            "invoicedate          20374\n",
            "unitprice              617\n",
            "customerid            4370\n",
            "country                  9\n",
            "newdate                305\n",
            "alpha_description       14\n",
            "invoice_c                2\n",
            "Flag                     1\n",
            "qtyflag                  2\n",
            "finalflag                1\n",
            "year                     2\n",
            "month                   12\n",
            "day                     31\n",
            "dtype: int64\n"
          ],
          "name": "stdout"
        }
      ]
    },
    {
      "cell_type": "code",
      "metadata": {
        "id": "jo_Rahhscszf",
        "colab_type": "code",
        "outputId": "b671d5c5-3c4b-47e8-e2ca-6a3d3f277a5c",
        "colab": {
          "base_uri": "https://localhost:8080/",
          "height": 87
        }
      },
      "source": [
        "cleanecom.columns"
      ],
      "execution_count": 115,
      "outputs": [
        {
          "output_type": "execute_result",
          "data": {
            "text/plain": [
              "Index(['invoiceno', 'stockcode', 'description', 'quantity', 'invoicedate',\n",
              "       'unitprice', 'customerid', 'country', 'newdate', 'alpha_description',\n",
              "       'invoice_c', 'Flag', 'qtyflag', 'finalflag', 'year', 'month', 'day'],\n",
              "      dtype='object')"
            ]
          },
          "metadata": {
            "tags": []
          },
          "execution_count": 115
        }
      ]
    },
    {
      "cell_type": "markdown",
      "metadata": {
        "id": "YdAY_0b6a_pT",
        "colab_type": "text"
      },
      "source": [
        "### Please take a subjective decision which one you want ot keep and which one you want to eliminate?"
      ]
    },
    {
      "cell_type": "code",
      "metadata": {
        "id": "tzrqm3tHJacA",
        "colab_type": "code",
        "colab": {
          "base_uri": "https://localhost:8080/",
          "height": 437
        },
        "outputId": "06a35cec-cd3a-4732-fdaa-09ef087c55a6"
      },
      "source": [
        "pd.crosstab(index=cleanecom.description,columns=cleanecom.alpha_description)"
      ],
      "execution_count": 116,
      "outputs": [
        {
          "output_type": "execute_result",
          "data": {
            "text/html": [
              "<div>\n",
              "<style scoped>\n",
              "    .dataframe tbody tr th:only-of-type {\n",
              "        vertical-align: middle;\n",
              "    }\n",
              "\n",
              "    .dataframe tbody tr th {\n",
              "        vertical-align: top;\n",
              "    }\n",
              "\n",
              "    .dataframe thead th {\n",
              "        text-align: right;\n",
              "    }\n",
              "</style>\n",
              "<table border=\"1\" class=\"dataframe\">\n",
              "  <thead>\n",
              "    <tr style=\"text-align: right;\">\n",
              "      <th>alpha_description</th>\n",
              "      <th>1</th>\n",
              "      <th>2</th>\n",
              "      <th>3</th>\n",
              "      <th>4</th>\n",
              "      <th>5</th>\n",
              "      <th>6</th>\n",
              "      <th>7</th>\n",
              "      <th>8</th>\n",
              "      <th>9</th>\n",
              "      <th>B</th>\n",
              "      <th>C</th>\n",
              "      <th>D</th>\n",
              "      <th>M</th>\n",
              "      <th>P</th>\n",
              "    </tr>\n",
              "    <tr>\n",
              "      <th>description</th>\n",
              "      <th></th>\n",
              "      <th></th>\n",
              "      <th></th>\n",
              "      <th></th>\n",
              "      <th></th>\n",
              "      <th></th>\n",
              "      <th></th>\n",
              "      <th></th>\n",
              "      <th></th>\n",
              "      <th></th>\n",
              "      <th></th>\n",
              "      <th></th>\n",
              "      <th></th>\n",
              "      <th></th>\n",
              "    </tr>\n",
              "  </thead>\n",
              "  <tbody>\n",
              "    <tr>\n",
              "      <th>4 PURPLE FLOCK DINNER CANDLES</th>\n",
              "      <td>0</td>\n",
              "      <td>0</td>\n",
              "      <td>0</td>\n",
              "      <td>0</td>\n",
              "      <td>0</td>\n",
              "      <td>0</td>\n",
              "      <td>39</td>\n",
              "      <td>0</td>\n",
              "      <td>0</td>\n",
              "      <td>0</td>\n",
              "      <td>0</td>\n",
              "      <td>0</td>\n",
              "      <td>0</td>\n",
              "      <td>0</td>\n",
              "    </tr>\n",
              "    <tr>\n",
              "      <th>50'S CHRISTMAS GIFT BAG LARGE</th>\n",
              "      <td>0</td>\n",
              "      <td>110</td>\n",
              "      <td>0</td>\n",
              "      <td>0</td>\n",
              "      <td>0</td>\n",
              "      <td>0</td>\n",
              "      <td>0</td>\n",
              "      <td>0</td>\n",
              "      <td>0</td>\n",
              "      <td>0</td>\n",
              "      <td>0</td>\n",
              "      <td>0</td>\n",
              "      <td>0</td>\n",
              "      <td>0</td>\n",
              "    </tr>\n",
              "    <tr>\n",
              "      <th>DOLLY GIRL BEAKER</th>\n",
              "      <td>0</td>\n",
              "      <td>140</td>\n",
              "      <td>0</td>\n",
              "      <td>0</td>\n",
              "      <td>0</td>\n",
              "      <td>0</td>\n",
              "      <td>0</td>\n",
              "      <td>0</td>\n",
              "      <td>0</td>\n",
              "      <td>0</td>\n",
              "      <td>0</td>\n",
              "      <td>0</td>\n",
              "      <td>0</td>\n",
              "      <td>0</td>\n",
              "    </tr>\n",
              "    <tr>\n",
              "      <th>I LOVE LONDON MINI BACKPACK</th>\n",
              "      <td>0</td>\n",
              "      <td>70</td>\n",
              "      <td>0</td>\n",
              "      <td>0</td>\n",
              "      <td>0</td>\n",
              "      <td>0</td>\n",
              "      <td>0</td>\n",
              "      <td>0</td>\n",
              "      <td>0</td>\n",
              "      <td>0</td>\n",
              "      <td>0</td>\n",
              "      <td>0</td>\n",
              "      <td>0</td>\n",
              "      <td>0</td>\n",
              "    </tr>\n",
              "    <tr>\n",
              "      <th>I LOVE LONDON MINI RUCKSACK</th>\n",
              "      <td>0</td>\n",
              "      <td>1</td>\n",
              "      <td>0</td>\n",
              "      <td>0</td>\n",
              "      <td>0</td>\n",
              "      <td>0</td>\n",
              "      <td>0</td>\n",
              "      <td>0</td>\n",
              "      <td>0</td>\n",
              "      <td>0</td>\n",
              "      <td>0</td>\n",
              "      <td>0</td>\n",
              "      <td>0</td>\n",
              "      <td>0</td>\n",
              "    </tr>\n",
              "    <tr>\n",
              "      <th>...</th>\n",
              "      <td>...</td>\n",
              "      <td>...</td>\n",
              "      <td>...</td>\n",
              "      <td>...</td>\n",
              "      <td>...</td>\n",
              "      <td>...</td>\n",
              "      <td>...</td>\n",
              "      <td>...</td>\n",
              "      <td>...</td>\n",
              "      <td>...</td>\n",
              "      <td>...</td>\n",
              "      <td>...</td>\n",
              "      <td>...</td>\n",
              "      <td>...</td>\n",
              "    </tr>\n",
              "    <tr>\n",
              "      <th>ZINC T-LIGHT HOLDER STARS SMALL</th>\n",
              "      <td>0</td>\n",
              "      <td>240</td>\n",
              "      <td>0</td>\n",
              "      <td>0</td>\n",
              "      <td>0</td>\n",
              "      <td>0</td>\n",
              "      <td>0</td>\n",
              "      <td>0</td>\n",
              "      <td>0</td>\n",
              "      <td>0</td>\n",
              "      <td>0</td>\n",
              "      <td>0</td>\n",
              "      <td>0</td>\n",
              "      <td>0</td>\n",
              "    </tr>\n",
              "    <tr>\n",
              "      <th>ZINC TOP  2 DOOR WOODEN SHELF</th>\n",
              "      <td>0</td>\n",
              "      <td>11</td>\n",
              "      <td>0</td>\n",
              "      <td>0</td>\n",
              "      <td>0</td>\n",
              "      <td>0</td>\n",
              "      <td>0</td>\n",
              "      <td>0</td>\n",
              "      <td>0</td>\n",
              "      <td>0</td>\n",
              "      <td>0</td>\n",
              "      <td>0</td>\n",
              "      <td>0</td>\n",
              "      <td>0</td>\n",
              "    </tr>\n",
              "    <tr>\n",
              "      <th>ZINC WILLIE WINKIE  CANDLE STICK</th>\n",
              "      <td>0</td>\n",
              "      <td>0</td>\n",
              "      <td>0</td>\n",
              "      <td>0</td>\n",
              "      <td>0</td>\n",
              "      <td>0</td>\n",
              "      <td>0</td>\n",
              "      <td>193</td>\n",
              "      <td>0</td>\n",
              "      <td>0</td>\n",
              "      <td>0</td>\n",
              "      <td>0</td>\n",
              "      <td>0</td>\n",
              "      <td>0</td>\n",
              "    </tr>\n",
              "    <tr>\n",
              "      <th>ZINC WIRE KITCHEN ORGANISER</th>\n",
              "      <td>0</td>\n",
              "      <td>12</td>\n",
              "      <td>0</td>\n",
              "      <td>0</td>\n",
              "      <td>0</td>\n",
              "      <td>0</td>\n",
              "      <td>0</td>\n",
              "      <td>0</td>\n",
              "      <td>0</td>\n",
              "      <td>0</td>\n",
              "      <td>0</td>\n",
              "      <td>0</td>\n",
              "      <td>0</td>\n",
              "      <td>0</td>\n",
              "    </tr>\n",
              "    <tr>\n",
              "      <th>ZINC WIRE SWEETHEART LETTER TRAY</th>\n",
              "      <td>0</td>\n",
              "      <td>20</td>\n",
              "      <td>0</td>\n",
              "      <td>0</td>\n",
              "      <td>0</td>\n",
              "      <td>0</td>\n",
              "      <td>0</td>\n",
              "      <td>0</td>\n",
              "      <td>0</td>\n",
              "      <td>0</td>\n",
              "      <td>0</td>\n",
              "      <td>0</td>\n",
              "      <td>0</td>\n",
              "      <td>0</td>\n",
              "    </tr>\n",
              "  </tbody>\n",
              "</table>\n",
              "<p>3895 rows × 14 columns</p>\n",
              "</div>"
            ],
            "text/plain": [
              "alpha_description                 1    2  3  4  5  6   7    8  9  B  C  D  M  P\n",
              "description                                                                    \n",
              " 4 PURPLE FLOCK DINNER CANDLES    0    0  0  0  0  0  39    0  0  0  0  0  0  0\n",
              " 50'S CHRISTMAS GIFT BAG LARGE    0  110  0  0  0  0   0    0  0  0  0  0  0  0\n",
              " DOLLY GIRL BEAKER                0  140  0  0  0  0   0    0  0  0  0  0  0  0\n",
              " I LOVE LONDON MINI BACKPACK      0   70  0  0  0  0   0    0  0  0  0  0  0  0\n",
              " I LOVE LONDON MINI RUCKSACK      0    1  0  0  0  0   0    0  0  0  0  0  0  0\n",
              "...                              ..  ... .. .. .. ..  ..  ... .. .. .. .. .. ..\n",
              "ZINC T-LIGHT HOLDER STARS SMALL   0  240  0  0  0  0   0    0  0  0  0  0  0  0\n",
              "ZINC TOP  2 DOOR WOODEN SHELF     0   11  0  0  0  0   0    0  0  0  0  0  0  0\n",
              "ZINC WILLIE WINKIE  CANDLE STICK  0    0  0  0  0  0   0  193  0  0  0  0  0  0\n",
              "ZINC WIRE KITCHEN ORGANISER       0   12  0  0  0  0   0    0  0  0  0  0  0  0\n",
              "ZINC WIRE SWEETHEART LETTER TRAY  0   20  0  0  0  0   0    0  0  0  0  0  0  0\n",
              "\n",
              "[3895 rows x 14 columns]"
            ]
          },
          "metadata": {
            "tags": []
          },
          "execution_count": 116
        }
      ]
    },
    {
      "cell_type": "code",
      "metadata": {
        "id": "boo-vZXYa6Tm",
        "colab_type": "code",
        "outputId": "7a19f7d7-0786-41f3-d569-8fc0db4f9886",
        "colab": {
          "base_uri": "https://localhost:8080/",
          "height": 547
        }
      },
      "source": [
        "# This step is  not required ... Hence creating a new dataframe cleanecom1 just to show the usecase . However we shall go ahead with cleanecom only for further analysis\n",
        "\n",
        "cleanecom1=cleanecom[(cleanecom.alpha_description!='A') & (cleanecom.alpha_description!='B')] # Removing A and B for now\n",
        "print('New distribution of th alpha char:\\n', cleanecom.alpha_description.value_counts())\n",
        "cleanecom1=cleanecom[['invoiceno', 'stockcode', 'description', 'quantity', 'invoicedate',\n",
        "       'unitprice', 'customerid', 'country', 'newdate',\n",
        "       'finalflag', 'year', 'month', 'day']] # Keeping only the required columns \n",
        "\n",
        "print('\\n\\n data frame cleaned:\\n')\n",
        "cleanecom1.head()\n"
      ],
      "execution_count": 118,
      "outputs": [
        {
          "output_type": "stream",
          "text": [
            "New distribution of th alpha char:\n",
            " 2    334882\n",
            "8     44567\n",
            "4      8681\n",
            "1      5340\n",
            "7      5273\n",
            "3      3640\n",
            "9      1499\n",
            "P      1200\n",
            "M       456\n",
            "5       444\n",
            "C       150\n",
            "6        97\n",
            "D        91\n",
            "B        12\n",
            "Name: alpha_description, dtype: int64\n",
            "\n",
            "\n",
            " data frame cleaned:\n",
            "\n"
          ],
          "name": "stdout"
        },
        {
          "output_type": "execute_result",
          "data": {
            "text/html": [
              "<div>\n",
              "<style scoped>\n",
              "    .dataframe tbody tr th:only-of-type {\n",
              "        vertical-align: middle;\n",
              "    }\n",
              "\n",
              "    .dataframe tbody tr th {\n",
              "        vertical-align: top;\n",
              "    }\n",
              "\n",
              "    .dataframe thead th {\n",
              "        text-align: right;\n",
              "    }\n",
              "</style>\n",
              "<table border=\"1\" class=\"dataframe\">\n",
              "  <thead>\n",
              "    <tr style=\"text-align: right;\">\n",
              "      <th></th>\n",
              "      <th>invoiceno</th>\n",
              "      <th>stockcode</th>\n",
              "      <th>description</th>\n",
              "      <th>quantity</th>\n",
              "      <th>invoicedate</th>\n",
              "      <th>unitprice</th>\n",
              "      <th>customerid</th>\n",
              "      <th>country</th>\n",
              "      <th>newdate</th>\n",
              "      <th>finalflag</th>\n",
              "      <th>year</th>\n",
              "      <th>month</th>\n",
              "      <th>day</th>\n",
              "    </tr>\n",
              "  </thead>\n",
              "  <tbody>\n",
              "    <tr>\n",
              "      <th>0</th>\n",
              "      <td>536365</td>\n",
              "      <td>85123A</td>\n",
              "      <td>WHITE HANGING HEART T-LIGHT HOLDER</td>\n",
              "      <td>6</td>\n",
              "      <td>12/1/2010 8:26</td>\n",
              "      <td>2.55</td>\n",
              "      <td>17850.0</td>\n",
              "      <td>United Kingdom</td>\n",
              "      <td>2010-12-01</td>\n",
              "      <td>NaN</td>\n",
              "      <td>2010</td>\n",
              "      <td>12</td>\n",
              "      <td>1</td>\n",
              "    </tr>\n",
              "    <tr>\n",
              "      <th>1</th>\n",
              "      <td>536365</td>\n",
              "      <td>71053</td>\n",
              "      <td>WHITE METAL LANTERN</td>\n",
              "      <td>6</td>\n",
              "      <td>12/1/2010 8:26</td>\n",
              "      <td>3.39</td>\n",
              "      <td>17850.0</td>\n",
              "      <td>United Kingdom</td>\n",
              "      <td>2010-12-01</td>\n",
              "      <td>NaN</td>\n",
              "      <td>2010</td>\n",
              "      <td>12</td>\n",
              "      <td>1</td>\n",
              "    </tr>\n",
              "    <tr>\n",
              "      <th>2</th>\n",
              "      <td>536365</td>\n",
              "      <td>84406B</td>\n",
              "      <td>CREAM CUPID HEARTS COAT HANGER</td>\n",
              "      <td>8</td>\n",
              "      <td>12/1/2010 8:26</td>\n",
              "      <td>2.75</td>\n",
              "      <td>17850.0</td>\n",
              "      <td>United Kingdom</td>\n",
              "      <td>2010-12-01</td>\n",
              "      <td>NaN</td>\n",
              "      <td>2010</td>\n",
              "      <td>12</td>\n",
              "      <td>1</td>\n",
              "    </tr>\n",
              "    <tr>\n",
              "      <th>3</th>\n",
              "      <td>536365</td>\n",
              "      <td>84029G</td>\n",
              "      <td>KNITTED UNION FLAG HOT WATER BOTTLE</td>\n",
              "      <td>6</td>\n",
              "      <td>12/1/2010 8:26</td>\n",
              "      <td>3.39</td>\n",
              "      <td>17850.0</td>\n",
              "      <td>United Kingdom</td>\n",
              "      <td>2010-12-01</td>\n",
              "      <td>NaN</td>\n",
              "      <td>2010</td>\n",
              "      <td>12</td>\n",
              "      <td>1</td>\n",
              "    </tr>\n",
              "    <tr>\n",
              "      <th>4</th>\n",
              "      <td>536365</td>\n",
              "      <td>84029E</td>\n",
              "      <td>RED WOOLLY HOTTIE WHITE HEART.</td>\n",
              "      <td>6</td>\n",
              "      <td>12/1/2010 8:26</td>\n",
              "      <td>3.39</td>\n",
              "      <td>17850.0</td>\n",
              "      <td>United Kingdom</td>\n",
              "      <td>2010-12-01</td>\n",
              "      <td>NaN</td>\n",
              "      <td>2010</td>\n",
              "      <td>12</td>\n",
              "      <td>1</td>\n",
              "    </tr>\n",
              "  </tbody>\n",
              "</table>\n",
              "</div>"
            ],
            "text/plain": [
              "  invoiceno stockcode                          description  quantity     invoicedate  unitprice  customerid         country    newdate  finalflag  year  month  day\n",
              "0    536365    85123A   WHITE HANGING HEART T-LIGHT HOLDER         6  12/1/2010 8:26       2.55     17850.0  United Kingdom 2010-12-01        NaN  2010     12    1\n",
              "1    536365     71053                  WHITE METAL LANTERN         6  12/1/2010 8:26       3.39     17850.0  United Kingdom 2010-12-01        NaN  2010     12    1\n",
              "2    536365    84406B       CREAM CUPID HEARTS COAT HANGER         8  12/1/2010 8:26       2.75     17850.0  United Kingdom 2010-12-01        NaN  2010     12    1\n",
              "3    536365    84029G  KNITTED UNION FLAG HOT WATER BOTTLE         6  12/1/2010 8:26       3.39     17850.0  United Kingdom 2010-12-01        NaN  2010     12    1\n",
              "4    536365    84029E       RED WOOLLY HOTTIE WHITE HEART.         6  12/1/2010 8:26       3.39     17850.0  United Kingdom 2010-12-01        NaN  2010     12    1"
            ]
          },
          "metadata": {
            "tags": []
          },
          "execution_count": 118
        }
      ]
    },
    {
      "cell_type": "markdown",
      "metadata": {
        "id": "V5uMbvVDfv84",
        "colab_type": "text"
      },
      "source": [
        "### Time to look for some plots. Obviously all the analysis at this point would be univariate study. \n",
        "\n",
        "You might want to take a look at few below links:\n",
        "\n",
        "**BOXPLOT:** \n",
        "https://cduvallet.github.io/posts/2018/03/boxplots-in-python\n",
        "\n",
        "**Few Other Plots:** https://towardsdatascience.com/make-your-data-talk-13072f84eeac\n",
        "\n",
        "https://towardsdatascience.com/practical-statistics-visualization-with-python-plotly-770e96e35067\n",
        "\n",
        "\n"
      ]
    },
    {
      "cell_type": "code",
      "metadata": {
        "id": "g54wChqhbtVB",
        "colab_type": "code",
        "outputId": "dfc3d60b-ac7d-425a-e4e5-0bbcb665dd84",
        "colab": {
          "base_uri": "https://localhost:8080/",
          "height": 52
        }
      },
      "source": [
        "### let's import the wel-knowen libraries:\n",
        "import matplotlib as mpl\n",
        "import matplotlib.pyplot as plt\n",
        "import seaborn as sns\n",
        "\n",
        "%matplotlib inline"
      ],
      "execution_count": 119,
      "outputs": [
        {
          "output_type": "stream",
          "text": [
            "/usr/local/lib/python3.6/dist-packages/statsmodels/tools/_testing.py:19: FutureWarning: pandas.util.testing is deprecated. Use the functions in the public API at pandas.testing instead.\n",
            "  import pandas.util.testing as tm\n"
          ],
          "name": "stderr"
        }
      ]
    },
    {
      "cell_type": "code",
      "metadata": {
        "id": "r6JduRydb0XK",
        "colab_type": "code",
        "outputId": "5d2cfef3-7f6f-4849-f37a-2991f89af88a",
        "colab": {
          "base_uri": "https://localhost:8080/",
          "height": 405
        }
      },
      "source": [
        "plt.boxplot(cleanecom.quantity)"
      ],
      "execution_count": 120,
      "outputs": [
        {
          "output_type": "execute_result",
          "data": {
            "text/plain": [
              "{'boxes': [<matplotlib.lines.Line2D at 0x7f4ed2a8f2b0>],\n",
              " 'caps': [<matplotlib.lines.Line2D at 0x7f4ed2a8fcc0>,\n",
              "  <matplotlib.lines.Line2D at 0x7f4ed2aa1080>],\n",
              " 'fliers': [<matplotlib.lines.Line2D at 0x7f4ed2aa1780>],\n",
              " 'means': [],\n",
              " 'medians': [<matplotlib.lines.Line2D at 0x7f4ed2aa1400>],\n",
              " 'whiskers': [<matplotlib.lines.Line2D at 0x7f4ed2a8f5c0>,\n",
              "  <matplotlib.lines.Line2D at 0x7f4ed2a8f940>]}"
            ]
          },
          "metadata": {
            "tags": []
          },
          "execution_count": 120
        },
        {
          "output_type": "display_data",
          "data": {
            "image/png": "[encoded data removed]",
            "text/plain": [
              "<Figure size 432x288 with 1 Axes>"
            ]
          },
          "metadata": {
            "tags": [],
            "needs_background": "light"
          }
        }
      ]
    },
    {
      "cell_type": "markdown",
      "metadata": {
        "id": "k3K0f-pXRt7t",
        "colab_type": "text"
      },
      "source": [
        "### Too Many outliers we shall remove them soon.\n",
        "\n",
        "Many a case before removing outlier you need to check in the data whether ourlier can be justified or not. It needs to make a business sense to remove them ... \n",
        "\n",
        "Treatment to outlier can be below:\n",
        "\n",
        "\n",
        "\n",
        "*   Outlier removal directly from data--- here we are loosing information though\n",
        "*   Caping/flooring the outlier to a certain value\n",
        "*   Imputation of outlier based on a model\n",
        "\n"
      ]
    },
    {
      "cell_type": "code",
      "metadata": {
        "id": "EGdbmMARgjCr",
        "colab_type": "code",
        "outputId": "f3b88702-f7ff-4e78-ee16-4a61a52629ff",
        "colab": {
          "base_uri": "https://localhost:8080/",
          "height": 934
        }
      },
      "source": [
        "plt.hist(cleanecom.quantity,bins=100)"
      ],
      "execution_count": 121,
      "outputs": [
        {
          "output_type": "execute_result",
          "data": {
            "text/plain": [
              "(array([3.82169e+05, 2.16500e+04, 1.36500e+03, 5.68000e+02, 2.22000e+02,\n",
              "        1.46000e+02, 5.60000e+01, 3.10000e+01, 3.30000e+01, 1.00000e+01,\n",
              "        1.80000e+01, 1.40000e+01, 1.60000e+01, 2.00000e+00, 4.00000e+00,\n",
              "        3.00000e+00, 8.00000e+00, 2.00000e+00, 0.00000e+00, 4.00000e+00,\n",
              "        0.00000e+00, 1.00000e+00, 1.00000e+00, 2.00000e+00, 1.00000e+00,\n",
              "        2.00000e+00, 0.00000e+00, 0.00000e+00, 0.00000e+00, 0.00000e+00,\n",
              "        0.00000e+00, 1.00000e+00, 0.00000e+00, 0.00000e+00, 1.00000e+00,\n",
              "        0.00000e+00, 0.00000e+00, 0.00000e+00, 1.00000e+00, 0.00000e+00,\n",
              "        0.00000e+00, 0.00000e+00, 0.00000e+00, 0.00000e+00, 0.00000e+00,\n",
              "        0.00000e+00, 0.00000e+00, 0.00000e+00, 0.00000e+00, 0.00000e+00,\n",
              "        0.00000e+00, 0.00000e+00, 0.00000e+00, 0.00000e+00, 0.00000e+00,\n",
              "        0.00000e+00, 0.00000e+00, 0.00000e+00, 0.00000e+00, 0.00000e+00,\n",
              "        0.00000e+00, 0.00000e+00, 0.00000e+00, 0.00000e+00, 0.00000e+00,\n",
              "        0.00000e+00, 0.00000e+00, 0.00000e+00, 0.00000e+00, 0.00000e+00,\n",
              "        0.00000e+00, 0.00000e+00, 0.00000e+00, 0.00000e+00, 0.00000e+00,\n",
              "        0.00000e+00, 0.00000e+00, 0.00000e+00, 0.00000e+00, 0.00000e+00,\n",
              "        0.00000e+00, 0.00000e+00, 0.00000e+00, 0.00000e+00, 0.00000e+00,\n",
              "        0.00000e+00, 0.00000e+00, 0.00000e+00, 0.00000e+00, 0.00000e+00,\n",
              "        0.00000e+00, 0.00000e+00, 0.00000e+00, 0.00000e+00, 0.00000e+00,\n",
              "        0.00000e+00, 0.00000e+00, 0.00000e+00, 0.00000e+00, 1.00000e+00]),\n",
              " array([  -96.  ,    30.36,   156.72,   283.08,   409.44,   535.8 ,\n",
              "          662.16,   788.52,   914.88,  1041.24,  1167.6 ,  1293.96,\n",
              "         1420.32,  1546.68,  1673.04,  1799.4 ,  1925.76,  2052.12,\n",
              "         2178.48,  2304.84,  2431.2 ,  2557.56,  2683.92,  2810.28,\n",
              "         2936.64,  3063.  ,  3189.36,  3315.72,  3442.08,  3568.44,\n",
              "         3694.8 ,  3821.16,  3947.52,  4073.88,  4200.24,  4326.6 ,\n",
              "         4452.96,  4579.32,  4705.68,  4832.04,  4958.4 ,  5084.76,\n",
              "         5211.12,  5337.48,  5463.84,  5590.2 ,  5716.56,  5842.92,\n",
              "         5969.28,  6095.64,  6222.  ,  6348.36,  6474.72,  6601.08,\n",
              "         6727.44,  6853.8 ,  6980.16,  7106.52,  7232.88,  7359.24,\n",
              "         7485.6 ,  7611.96,  7738.32,  7864.68,  7991.04,  8117.4 ,\n",
              "         8243.76,  8370.12,  8496.48,  8622.84,  8749.2 ,  8875.56,\n",
              "         9001.92,  9128.28,  9254.64,  9381.  ,  9507.36,  9633.72,\n",
              "         9760.08,  9886.44, 10012.8 , 10139.16, 10265.52, 10391.88,\n",
              "        10518.24, 10644.6 , 10770.96, 10897.32, 11023.68, 11150.04,\n",
              "        11276.4 , 11402.76, 11529.12, 11655.48, 11781.84, 11908.2 ,\n",
              "        12034.56, 12160.92, 12287.28, 12413.64, 12540.  ]),\n",
              " <a list of 100 Patch objects>)"
            ]
          },
          "metadata": {
            "tags": []
          },
          "execution_count": 121
        },
        {
          "output_type": "display_data",
          "data": {
            "image/png": "[encoded data removed]",
            "text/plain": [
              "<Figure size 432x288 with 1 Axes>"
            ]
          },
          "metadata": {
            "tags": [],
            "needs_background": "light"
          }
        }
      ]
    },
    {
      "cell_type": "code",
      "metadata": {
        "id": "U7NbxLbZ7y2G",
        "colab_type": "code",
        "outputId": "695c7a71-d418-4bcf-fc1e-949dab4402ed",
        "colab": {
          "base_uri": "https://localhost:8080/",
          "height": 297
        }
      },
      "source": [
        "# using seaborn for box plots to check variation amongst countries\n",
        "sns.boxplot(x='country', y='quantity', hue='country', data=cleanecom)\n",
        "\n"
      ],
      "execution_count": 122,
      "outputs": [
        {
          "output_type": "execute_result",
          "data": {
            "text/plain": [
              "<matplotlib.axes._subplots.AxesSubplot at 0x7f4ed2a11c88>"
            ]
          },
          "metadata": {
            "tags": []
          },
          "execution_count": 122
        },
        {
          "output_type": "display_data",
          "data": {
            "image/png": "[encoded data removed]",
            "text/plain": [
              "<Figure size 432x288 with 1 Axes>"
            ]
          },
          "metadata": {
            "tags": [],
            "needs_background": "light"
          }
        }
      ]
    },
    {
      "cell_type": "code",
      "metadata": {
        "id": "0sQHwDwp9Fw0",
        "colab_type": "code",
        "colab": {}
      },
      "source": [
        "stripplot_kwargs = {'size': 12, 'alpha': 0.7}"
      ],
      "execution_count": 0,
      "outputs": []
    },
    {
      "cell_type": "code",
      "metadata": {
        "id": "WqYXWDS3_cPF",
        "colab_type": "code",
        "outputId": "b27ee985-f20f-4086-daf7-cc5f70821d3b",
        "colab": {
          "base_uri": "https://localhost:8080/",
          "height": 297
        }
      },
      "source": [
        "sns.stripplot(x='country', y='quantity', hue='country', data=cleanecom,\n",
        "              jitter=True, dodge=True, linewidth=0.9,**stripplot_kwargs)\n",
        "plt.legend(loc='lower right')"
      ],
      "execution_count": 124,
      "outputs": [
        {
          "output_type": "execute_result",
          "data": {
            "text/plain": [
              "<matplotlib.legend.Legend at 0x7f4ee05ac9e8>"
            ]
          },
          "metadata": {
            "tags": []
          },
          "execution_count": 124
        },
        {
          "output_type": "display_data",
          "data": {
            "image/png": "[encoded data removed]",
            "text/plain": [
              "<Figure size 432x288 with 1 Axes>"
            ]
          },
          "metadata": {
            "tags": [],
            "needs_background": "light"
          }
        }
      ]
    },
    {
      "cell_type": "markdown",
      "metadata": {
        "id": "0y3X3OitBb5n",
        "colab_type": "text"
      },
      "source": [
        "One thing which is evidant from the graph that we have not ceaned the values which are more than 30 or less than -30 properly. Mostlikely this is due to another condition which we put on the invoiceno starting with \"C\".\n",
        "\n",
        "May be these have different pattern."
      ]
    },
    {
      "cell_type": "code",
      "metadata": {
        "id": "lRKyAVZICgtZ",
        "colab_type": "code",
        "outputId": "b3564f04-9c35-4975-9bb3-7c0c78490815",
        "colab": {
          "base_uri": "https://localhost:8080/",
          "height": 34
        }
      },
      "source": [
        "cleanecom[cleanecom.quantity>200].shape # just checking any count less than -100"
      ],
      "execution_count": 130,
      "outputs": [
        {
          "output_type": "execute_result",
          "data": {
            "text/plain": [
              "(1635, 17)"
            ]
          },
          "metadata": {
            "tags": []
          },
          "execution_count": 130
        }
      ]
    },
    {
      "cell_type": "code",
      "metadata": {
        "id": "8pY6rfwM8Asf",
        "colab_type": "code",
        "outputId": "12582a21-d07a-4023-b3ef-c0596685a8f1",
        "colab": {
          "base_uri": "https://localhost:8080/",
          "height": 514
        }
      },
      "source": [
        "cleanecom[cleanecom.quantity>200].head(10)"
      ],
      "execution_count": 131,
      "outputs": [
        {
          "output_type": "execute_result",
          "data": {
            "text/html": [
              "<div>\n",
              "<style scoped>\n",
              "    .dataframe tbody tr th:only-of-type {\n",
              "        vertical-align: middle;\n",
              "    }\n",
              "\n",
              "    .dataframe tbody tr th {\n",
              "        vertical-align: top;\n",
              "    }\n",
              "\n",
              "    .dataframe thead th {\n",
              "        text-align: right;\n",
              "    }\n",
              "</style>\n",
              "<table border=\"1\" class=\"dataframe\">\n",
              "  <thead>\n",
              "    <tr style=\"text-align: right;\">\n",
              "      <th></th>\n",
              "      <th>invoiceno</th>\n",
              "      <th>stockcode</th>\n",
              "      <th>description</th>\n",
              "      <th>quantity</th>\n",
              "      <th>invoicedate</th>\n",
              "      <th>unitprice</th>\n",
              "      <th>customerid</th>\n",
              "      <th>country</th>\n",
              "      <th>newdate</th>\n",
              "      <th>alpha_description</th>\n",
              "      <th>invoice_c</th>\n",
              "      <th>Flag</th>\n",
              "      <th>qtyflag</th>\n",
              "      <th>finalflag</th>\n",
              "      <th>year</th>\n",
              "      <th>month</th>\n",
              "      <th>day</th>\n",
              "    </tr>\n",
              "  </thead>\n",
              "  <tbody>\n",
              "    <tr>\n",
              "      <th>181</th>\n",
              "      <td>536387</td>\n",
              "      <td>22466</td>\n",
              "      <td>FAIRY TALE COTTAGE NIGHTLIGHT</td>\n",
              "      <td>432</td>\n",
              "      <td>12/1/2010 9:58</td>\n",
              "      <td>1.45</td>\n",
              "      <td>16029.0</td>\n",
              "      <td>United Kingdom</td>\n",
              "      <td>2010-12-01</td>\n",
              "      <td>2</td>\n",
              "      <td>5</td>\n",
              "      <td>NaN</td>\n",
              "      <td>1</td>\n",
              "      <td>NaN</td>\n",
              "      <td>2010</td>\n",
              "      <td>12</td>\n",
              "      <td>1</td>\n",
              "    </tr>\n",
              "    <tr>\n",
              "      <th>182</th>\n",
              "      <td>536387</td>\n",
              "      <td>21731</td>\n",
              "      <td>RED TOADSTOOL LED NIGHT LIGHT</td>\n",
              "      <td>432</td>\n",
              "      <td>12/1/2010 9:58</td>\n",
              "      <td>1.25</td>\n",
              "      <td>16029.0</td>\n",
              "      <td>United Kingdom</td>\n",
              "      <td>2010-12-01</td>\n",
              "      <td>2</td>\n",
              "      <td>5</td>\n",
              "      <td>NaN</td>\n",
              "      <td>1</td>\n",
              "      <td>NaN</td>\n",
              "      <td>2010</td>\n",
              "      <td>12</td>\n",
              "      <td>1</td>\n",
              "    </tr>\n",
              "    <tr>\n",
              "      <th>219</th>\n",
              "      <td>536390</td>\n",
              "      <td>20668</td>\n",
              "      <td>DISCO BALL CHRISTMAS DECORATION</td>\n",
              "      <td>288</td>\n",
              "      <td>12/1/2010 10:19</td>\n",
              "      <td>0.10</td>\n",
              "      <td>17511.0</td>\n",
              "      <td>United Kingdom</td>\n",
              "      <td>2010-12-01</td>\n",
              "      <td>2</td>\n",
              "      <td>5</td>\n",
              "      <td>NaN</td>\n",
              "      <td>1</td>\n",
              "      <td>NaN</td>\n",
              "      <td>2010</td>\n",
              "      <td>12</td>\n",
              "      <td>1</td>\n",
              "    </tr>\n",
              "    <tr>\n",
              "      <th>729</th>\n",
              "      <td>536437</td>\n",
              "      <td>17021</td>\n",
              "      <td>NAMASTE SWAGAT INCENSE</td>\n",
              "      <td>600</td>\n",
              "      <td>12/1/2010 12:12</td>\n",
              "      <td>0.24</td>\n",
              "      <td>13694.0</td>\n",
              "      <td>United Kingdom</td>\n",
              "      <td>2010-12-01</td>\n",
              "      <td>1</td>\n",
              "      <td>5</td>\n",
              "      <td>NaN</td>\n",
              "      <td>1</td>\n",
              "      <td>NaN</td>\n",
              "      <td>2010</td>\n",
              "      <td>12</td>\n",
              "      <td>1</td>\n",
              "    </tr>\n",
              "    <tr>\n",
              "      <th>869</th>\n",
              "      <td>536477</td>\n",
              "      <td>21137</td>\n",
              "      <td>BLACK RECORD COVER FRAME</td>\n",
              "      <td>480</td>\n",
              "      <td>12/1/2010 12:27</td>\n",
              "      <td>3.39</td>\n",
              "      <td>16210.0</td>\n",
              "      <td>United Kingdom</td>\n",
              "      <td>2010-12-01</td>\n",
              "      <td>2</td>\n",
              "      <td>5</td>\n",
              "      <td>NaN</td>\n",
              "      <td>1</td>\n",
              "      <td>NaN</td>\n",
              "      <td>2010</td>\n",
              "      <td>12</td>\n",
              "      <td>1</td>\n",
              "    </tr>\n",
              "    <tr>\n",
              "      <th>1767</th>\n",
              "      <td>536575</td>\n",
              "      <td>22095</td>\n",
              "      <td>LADS ONLY TISSUE BOX</td>\n",
              "      <td>252</td>\n",
              "      <td>12/1/2010 16:01</td>\n",
              "      <td>1.25</td>\n",
              "      <td>13777.0</td>\n",
              "      <td>United Kingdom</td>\n",
              "      <td>2010-12-01</td>\n",
              "      <td>2</td>\n",
              "      <td>5</td>\n",
              "      <td>NaN</td>\n",
              "      <td>1</td>\n",
              "      <td>NaN</td>\n",
              "      <td>2010</td>\n",
              "      <td>12</td>\n",
              "      <td>1</td>\n",
              "    </tr>\n",
              "    <tr>\n",
              "      <th>1796</th>\n",
              "      <td>536579</td>\n",
              "      <td>21232</td>\n",
              "      <td>STRAWBERRY CERAMIC TRINKET BOX</td>\n",
              "      <td>216</td>\n",
              "      <td>12/1/2010 16:16</td>\n",
              "      <td>1.06</td>\n",
              "      <td>13777.0</td>\n",
              "      <td>United Kingdom</td>\n",
              "      <td>2010-12-01</td>\n",
              "      <td>2</td>\n",
              "      <td>5</td>\n",
              "      <td>NaN</td>\n",
              "      <td>1</td>\n",
              "      <td>NaN</td>\n",
              "      <td>2010</td>\n",
              "      <td>12</td>\n",
              "      <td>1</td>\n",
              "    </tr>\n",
              "    <tr>\n",
              "      <th>1823</th>\n",
              "      <td>536584</td>\n",
              "      <td>84029E</td>\n",
              "      <td>RED WOOLLY HOTTIE WHITE HEART.</td>\n",
              "      <td>384</td>\n",
              "      <td>12/1/2010 16:22</td>\n",
              "      <td>2.95</td>\n",
              "      <td>13777.0</td>\n",
              "      <td>United Kingdom</td>\n",
              "      <td>2010-12-01</td>\n",
              "      <td>8</td>\n",
              "      <td>5</td>\n",
              "      <td>NaN</td>\n",
              "      <td>1</td>\n",
              "      <td>NaN</td>\n",
              "      <td>2010</td>\n",
              "      <td>12</td>\n",
              "      <td>1</td>\n",
              "    </tr>\n",
              "    <tr>\n",
              "      <th>2765</th>\n",
              "      <td>536736</td>\n",
              "      <td>21791</td>\n",
              "      <td>VINTAGE HEADS AND TAILS CARD GAME</td>\n",
              "      <td>216</td>\n",
              "      <td>12/2/2010 12:59</td>\n",
              "      <td>1.06</td>\n",
              "      <td>17381.0</td>\n",
              "      <td>United Kingdom</td>\n",
              "      <td>2010-12-02</td>\n",
              "      <td>2</td>\n",
              "      <td>5</td>\n",
              "      <td>NaN</td>\n",
              "      <td>1</td>\n",
              "      <td>NaN</td>\n",
              "      <td>2010</td>\n",
              "      <td>12</td>\n",
              "      <td>2</td>\n",
              "    </tr>\n",
              "    <tr>\n",
              "      <th>2766</th>\n",
              "      <td>536736</td>\n",
              "      <td>22616</td>\n",
              "      <td>PACK OF 12 LONDON TISSUES</td>\n",
              "      <td>600</td>\n",
              "      <td>12/2/2010 12:59</td>\n",
              "      <td>0.29</td>\n",
              "      <td>17381.0</td>\n",
              "      <td>United Kingdom</td>\n",
              "      <td>2010-12-02</td>\n",
              "      <td>2</td>\n",
              "      <td>5</td>\n",
              "      <td>NaN</td>\n",
              "      <td>1</td>\n",
              "      <td>NaN</td>\n",
              "      <td>2010</td>\n",
              "      <td>12</td>\n",
              "      <td>2</td>\n",
              "    </tr>\n",
              "  </tbody>\n",
              "</table>\n",
              "</div>"
            ],
            "text/plain": [
              "     invoiceno stockcode                         description  quantity      invoicedate  unitprice  customerid         country    newdate alpha_description invoice_c  Flag  qtyflag  finalflag  year  month  day\n",
              "181     536387     22466       FAIRY TALE COTTAGE NIGHTLIGHT       432   12/1/2010 9:58       1.45     16029.0  United Kingdom 2010-12-01                 2         5   NaN        1        NaN  2010     12    1\n",
              "182     536387     21731       RED TOADSTOOL LED NIGHT LIGHT       432   12/1/2010 9:58       1.25     16029.0  United Kingdom 2010-12-01                 2         5   NaN        1        NaN  2010     12    1\n",
              "219     536390     20668     DISCO BALL CHRISTMAS DECORATION       288  12/1/2010 10:19       0.10     17511.0  United Kingdom 2010-12-01                 2         5   NaN        1        NaN  2010     12    1\n",
              "729     536437     17021              NAMASTE SWAGAT INCENSE       600  12/1/2010 12:12       0.24     13694.0  United Kingdom 2010-12-01                 1         5   NaN        1        NaN  2010     12    1\n",
              "869     536477     21137            BLACK RECORD COVER FRAME       480  12/1/2010 12:27       3.39     16210.0  United Kingdom 2010-12-01                 2         5   NaN        1        NaN  2010     12    1\n",
              "1767    536575     22095                LADS ONLY TISSUE BOX       252  12/1/2010 16:01       1.25     13777.0  United Kingdom 2010-12-01                 2         5   NaN        1        NaN  2010     12    1\n",
              "1796    536579     21232      STRAWBERRY CERAMIC TRINKET BOX       216  12/1/2010 16:16       1.06     13777.0  United Kingdom 2010-12-01                 2         5   NaN        1        NaN  2010     12    1\n",
              "1823    536584    84029E      RED WOOLLY HOTTIE WHITE HEART.       384  12/1/2010 16:22       2.95     13777.0  United Kingdom 2010-12-01                 8         5   NaN        1        NaN  2010     12    1\n",
              "2765    536736     21791  VINTAGE HEADS AND TAILS CARD GAME        216  12/2/2010 12:59       1.06     17381.0  United Kingdom 2010-12-02                 2         5   NaN        1        NaN  2010     12    2\n",
              "2766    536736     22616          PACK OF 12 LONDON TISSUES        600  12/2/2010 12:59       0.29     17381.0  United Kingdom 2010-12-02                 2         5   NaN        1        NaN  2010     12    2"
            ]
          },
          "metadata": {
            "tags": []
          },
          "execution_count": 131
        }
      ]
    },
    {
      "cell_type": "code",
      "metadata": {
        "id": "FM8eylGLUt_I",
        "colab_type": "code",
        "colab": {
          "base_uri": "https://localhost:8080/",
          "height": 227
        },
        "outputId": "87f80184-f7ac-4056-db3a-dec6e15e717e"
      },
      "source": [
        "cleanecom[cleanecom.quantity>200].customerid.value_counts() # checking howmany customer has ordered such large items "
      ],
      "execution_count": 132,
      "outputs": [
        {
          "output_type": "execute_result",
          "data": {
            "text/plain": [
              "14646.0    156\n",
              "17450.0    102\n",
              "18102.0    101\n",
              "16684.0     85\n",
              "12415.0     74\n",
              "          ... \n",
              "12435.0      1\n",
              "17443.0      1\n",
              "17033.0      1\n",
              "15311.0      1\n",
              "17856.0      1\n",
              "Name: customerid, Length: 253, dtype: int64"
            ]
          },
          "metadata": {
            "tags": []
          },
          "execution_count": 132
        }
      ]
    },
    {
      "cell_type": "code",
      "metadata": {
        "id": "PVKGylFcVE72",
        "colab_type": "code",
        "colab": {
          "base_uri": "https://localhost:8080/",
          "height": 227
        },
        "outputId": "5e753d86-3873-4478-8976-d816561c3e25"
      },
      "source": [
        "cleanecom[cleanecom.quantity>200].newdate.value_counts() # Checking which all day this is been ordered "
      ],
      "execution_count": 133,
      "outputs": [
        {
          "output_type": "execute_result",
          "data": {
            "text/plain": [
              "2011-09-20    39\n",
              "2011-10-05    38\n",
              "2011-08-11    32\n",
              "2011-06-09    28\n",
              "2011-08-04    26\n",
              "              ..\n",
              "2011-02-28     1\n",
              "2011-03-21     1\n",
              "2011-05-25     1\n",
              "2011-01-17     1\n",
              "2011-01-31     1\n",
              "Name: newdate, Length: 254, dtype: int64"
            ]
          },
          "metadata": {
            "tags": []
          },
          "execution_count": 133
        }
      ]
    },
    {
      "cell_type": "markdown",
      "metadata": {
        "id": "FjICvLM5C2-1",
        "colab_type": "text"
      },
      "source": [
        "#### We should review these orders in details by taking the data subset out in an excel and veryfying this row by row.\n",
        "\n",
        "**We can create sales column based on UnitPrice*Quantity and do an outlier treatment based on that ..... However as of now doing it based on quantity itself**\n",
        "\n",
        "However as of now I am going to remove all of them "
      ]
    },
    {
      "cell_type": "code",
      "metadata": {
        "id": "XpcS69LPCd8r",
        "colab_type": "code",
        "colab": {}
      },
      "source": [
        "cleanecom['qtyflag']= cleanecom.quantity.apply(lambda X : 0 if ((X < 100) & (X >-100)) else 1 ) # this is the function whcich worked "
      ],
      "execution_count": 0,
      "outputs": []
    },
    {
      "cell_type": "code",
      "metadata": {
        "id": "fUJRUioXDmjo",
        "colab_type": "code",
        "outputId": "e9741007-f1a4-406e-f0f1-1c0e47879d5b",
        "colab": {
          "base_uri": "https://localhost:8080/",
          "height": 187
        }
      },
      "source": [
        "cleanecom[cleanecom.qtyflag==1].tail(3)"
      ],
      "execution_count": 136,
      "outputs": [
        {
          "output_type": "execute_result",
          "data": {
            "text/html": [
              "<div>\n",
              "<style scoped>\n",
              "    .dataframe tbody tr th:only-of-type {\n",
              "        vertical-align: middle;\n",
              "    }\n",
              "\n",
              "    .dataframe tbody tr th {\n",
              "        vertical-align: top;\n",
              "    }\n",
              "\n",
              "    .dataframe thead th {\n",
              "        text-align: right;\n",
              "    }\n",
              "</style>\n",
              "<table border=\"1\" class=\"dataframe\">\n",
              "  <thead>\n",
              "    <tr style=\"text-align: right;\">\n",
              "      <th></th>\n",
              "      <th>invoiceno</th>\n",
              "      <th>stockcode</th>\n",
              "      <th>description</th>\n",
              "      <th>quantity</th>\n",
              "      <th>invoicedate</th>\n",
              "      <th>unitprice</th>\n",
              "      <th>customerid</th>\n",
              "      <th>country</th>\n",
              "      <th>newdate</th>\n",
              "      <th>alpha_description</th>\n",
              "      <th>invoice_c</th>\n",
              "      <th>Flag</th>\n",
              "      <th>qtyflag</th>\n",
              "      <th>finalflag</th>\n",
              "      <th>year</th>\n",
              "      <th>month</th>\n",
              "      <th>day</th>\n",
              "    </tr>\n",
              "  </thead>\n",
              "  <tbody>\n",
              "    <tr>\n",
              "      <th>406465</th>\n",
              "      <td>581501</td>\n",
              "      <td>22319</td>\n",
              "      <td>HAIRCLIPS FORTIES FABRIC ASSORTED</td>\n",
              "      <td>180</td>\n",
              "      <td>12/9/2011 10:46</td>\n",
              "      <td>0.19</td>\n",
              "      <td>12985.0</td>\n",
              "      <td>United Kingdom</td>\n",
              "      <td>2011-12-09</td>\n",
              "      <td>2</td>\n",
              "      <td>5</td>\n",
              "      <td>NaN</td>\n",
              "      <td>1</td>\n",
              "      <td>NaN</td>\n",
              "      <td>2011</td>\n",
              "      <td>12</td>\n",
              "      <td>9</td>\n",
              "    </tr>\n",
              "    <tr>\n",
              "      <th>406622</th>\n",
              "      <td>581566</td>\n",
              "      <td>23404</td>\n",
              "      <td>HOME SWEET HOME BLACKBOARD</td>\n",
              "      <td>144</td>\n",
              "      <td>12/9/2011 11:50</td>\n",
              "      <td>3.26</td>\n",
              "      <td>18102.0</td>\n",
              "      <td>United Kingdom</td>\n",
              "      <td>2011-12-09</td>\n",
              "      <td>2</td>\n",
              "      <td>5</td>\n",
              "      <td>NaN</td>\n",
              "      <td>1</td>\n",
              "      <td>NaN</td>\n",
              "      <td>2011</td>\n",
              "      <td>12</td>\n",
              "      <td>9</td>\n",
              "    </tr>\n",
              "    <tr>\n",
              "      <th>406631</th>\n",
              "      <td>581567</td>\n",
              "      <td>21326</td>\n",
              "      <td>AGED GLASS SILVER T-LIGHT HOLDER</td>\n",
              "      <td>144</td>\n",
              "      <td>12/9/2011 11:56</td>\n",
              "      <td>0.55</td>\n",
              "      <td>16626.0</td>\n",
              "      <td>United Kingdom</td>\n",
              "      <td>2011-12-09</td>\n",
              "      <td>2</td>\n",
              "      <td>5</td>\n",
              "      <td>NaN</td>\n",
              "      <td>1</td>\n",
              "      <td>NaN</td>\n",
              "      <td>2011</td>\n",
              "      <td>12</td>\n",
              "      <td>9</td>\n",
              "    </tr>\n",
              "  </tbody>\n",
              "</table>\n",
              "</div>"
            ],
            "text/plain": [
              "       invoiceno stockcode                        description  quantity      invoicedate  unitprice  customerid         country    newdate alpha_description invoice_c  Flag  qtyflag  finalflag  year  month  day\n",
              "406465    581501     22319  HAIRCLIPS FORTIES FABRIC ASSORTED       180  12/9/2011 10:46       0.19     12985.0  United Kingdom 2011-12-09                 2         5   NaN        1        NaN  2011     12    9\n",
              "406622    581566     23404         HOME SWEET HOME BLACKBOARD       144  12/9/2011 11:50       3.26     18102.0  United Kingdom 2011-12-09                 2         5   NaN        1        NaN  2011     12    9\n",
              "406631    581567     21326   AGED GLASS SILVER T-LIGHT HOLDER       144  12/9/2011 11:56       0.55     16626.0  United Kingdom 2011-12-09                 2         5   NaN        1        NaN  2011     12    9"
            ]
          },
          "metadata": {
            "tags": []
          },
          "execution_count": 136
        }
      ]
    },
    {
      "cell_type": "code",
      "metadata": {
        "id": "uyon_ywcDsoO",
        "colab_type": "code",
        "colab": {}
      },
      "source": [
        "# Removing all values >100 and <-100. However please do it wisely , I am just trying to show different iteration on the data. This way of removal is not right. \n",
        "# All the items are low price items and looks like for decoration. Hence bulk order may be possible\n",
        "\n",
        "cleanecom=cleanecom[cleanecom.qtyflag==0].copy()"
      ],
      "execution_count": 0,
      "outputs": []
    },
    {
      "cell_type": "code",
      "metadata": {
        "id": "57QrfBkWWeA0",
        "colab_type": "code",
        "colab": {
          "base_uri": "https://localhost:8080/",
          "height": 860
        },
        "outputId": "7bbc2d80-aac4-471e-97b4-3787b8ccfc7b"
      },
      "source": [
        "plt.hist(cleanecom.quantity,bins=100)"
      ],
      "execution_count": 138,
      "outputs": [
        {
          "output_type": "execute_result",
          "data": {
            "text/plain": [
              "(array([2.50000e+01, 1.00000e+00, 0.00000e+00, 0.00000e+00, 0.00000e+00,\n",
              "        2.00000e+00, 0.00000e+00, 1.00000e+00, 3.00000e+00, 0.00000e+00,\n",
              "        3.00000e+00, 0.00000e+00, 2.80000e+01, 2.00000e+00, 2.00000e+00,\n",
              "        1.00000e+00, 3.00000e+00, 0.00000e+00, 5.00000e+00, 2.00000e+00,\n",
              "        0.00000e+00, 0.00000e+00, 2.00000e+00, 1.40000e+01, 8.20000e+01,\n",
              "        2.00000e+00, 1.00000e+00, 6.00000e+00, 2.20000e+01, 5.00000e+00,\n",
              "        5.60000e+01, 6.00000e+00, 2.40000e+01, 2.00000e+00, 1.80000e+01,\n",
              "        4.00000e+00, 3.70000e+01, 2.47000e+02, 1.90000e+01, 5.40000e+01,\n",
              "        4.60000e+01, 6.20000e+01, 3.80000e+01, 5.65000e+02, 2.11000e+02,\n",
              "        2.24000e+02, 6.54000e+02, 1.03200e+03, 5.17700e+03, 0.00000e+00,\n",
              "        1.31317e+05, 5.91310e+04, 4.58380e+04, 1.29430e+04, 2.23830e+04,\n",
              "        6.03740e+04, 4.37000e+02, 4.39400e+03, 1.63000e+03, 4.83700e+03,\n",
              "        1.25000e+02, 2.37810e+04, 5.03100e+03, 1.54000e+02, 1.10600e+03,\n",
              "        1.01200e+03, 2.00000e+01, 2.90000e+01, 3.75600e+03, 1.30000e+01,\n",
              "        1.03100e+03, 5.40000e+01, 1.90000e+01, 1.40000e+01, 5.99100e+03,\n",
              "        8.98000e+02, 1.30000e+01, 2.90000e+01, 2.30000e+01, 5.00000e+00,\n",
              "        6.49000e+02, 1.00000e+01, 2.73000e+02, 8.00000e+00, 1.00000e+00,\n",
              "        1.90000e+01, 1.93500e+03, 2.00000e+00, 5.50000e+01, 9.00000e+00,\n",
              "        2.04000e+02, 1.00000e+00, 4.80000e+01, 5.00000e+00, 6.00000e+00,\n",
              "        3.80000e+01, 2.00000e+00, 2.00000e+00, 1.80200e+03, 1.00000e+00]),\n",
              " array([-96.  , -94.06, -92.12, -90.18, -88.24, -86.3 , -84.36, -82.42,\n",
              "        -80.48, -78.54, -76.6 , -74.66, -72.72, -70.78, -68.84, -66.9 ,\n",
              "        -64.96, -63.02, -61.08, -59.14, -57.2 , -55.26, -53.32, -51.38,\n",
              "        -49.44, -47.5 , -45.56, -43.62, -41.68, -39.74, -37.8 , -35.86,\n",
              "        -33.92, -31.98, -30.04, -28.1 , -26.16, -24.22, -22.28, -20.34,\n",
              "        -18.4 , -16.46, -14.52, -12.58, -10.64,  -8.7 ,  -6.76,  -4.82,\n",
              "         -2.88,  -0.94,   1.  ,   2.94,   4.88,   6.82,   8.76,  10.7 ,\n",
              "         12.64,  14.58,  16.52,  18.46,  20.4 ,  22.34,  24.28,  26.22,\n",
              "         28.16,  30.1 ,  32.04,  33.98,  35.92,  37.86,  39.8 ,  41.74,\n",
              "         43.68,  45.62,  47.56,  49.5 ,  51.44,  53.38,  55.32,  57.26,\n",
              "         59.2 ,  61.14,  63.08,  65.02,  66.96,  68.9 ,  70.84,  72.78,\n",
              "         74.72,  76.66,  78.6 ,  80.54,  82.48,  84.42,  86.36,  88.3 ,\n",
              "         90.24,  92.18,  94.12,  96.06,  98.  ]),\n",
              " <a list of 100 Patch objects>)"
            ]
          },
          "metadata": {
            "tags": []
          },
          "execution_count": 138
        },
        {
          "output_type": "display_data",
          "data": {
            "image/png": "[encoded data removed]",
            "text/plain": [
              "<Figure size 432x288 with 1 Axes>"
            ]
          },
          "metadata": {
            "tags": [],
            "needs_background": "light"
          }
        }
      ]
    },
    {
      "cell_type": "markdown",
      "metadata": {
        "id": "jgDpxel_ewHq",
        "colab_type": "text"
      },
      "source": [
        "#### As -ve quantity can be safely asumed to be return transactions we might need to create a feature or flag flagging these transactions\n",
        "\n",
        "While creating ABT we might treat these as seperate transactions or may be count numner of transactions which are returned\n",
        "\n",
        "Also as the current price is unit price we need to create column for the **total sales** as well"
      ]
    },
    {
      "cell_type": "code",
      "metadata": {
        "id": "RGyqf6regtoP",
        "colab_type": "code",
        "outputId": "455f7a2f-01af-424d-b0e3-f6cb066fe4a7",
        "colab": {
          "base_uri": "https://localhost:8080/",
          "height": 107
        }
      },
      "source": [
        "cleanecom[cleanecom.quantity<0].head(2)"
      ],
      "execution_count": 0,
      "outputs": [
        {
          "output_type": "execute_result",
          "data": {
            "text/html": [
              "<div>\n",
              "<style scoped>\n",
              "    .dataframe tbody tr th:only-of-type {\n",
              "        vertical-align: middle;\n",
              "    }\n",
              "\n",
              "    .dataframe tbody tr th {\n",
              "        vertical-align: top;\n",
              "    }\n",
              "\n",
              "    .dataframe thead th {\n",
              "        text-align: right;\n",
              "    }\n",
              "</style>\n",
              "<table border=\"1\" class=\"dataframe\">\n",
              "  <thead>\n",
              "    <tr style=\"text-align: right;\">\n",
              "      <th></th>\n",
              "      <th>invoiceno</th>\n",
              "      <th>stockcode</th>\n",
              "      <th>description</th>\n",
              "      <th>quantity</th>\n",
              "      <th>invoicedate</th>\n",
              "      <th>unitprice</th>\n",
              "      <th>customerid</th>\n",
              "      <th>country</th>\n",
              "      <th>newdate</th>\n",
              "      <th>finalflag</th>\n",
              "      <th>year</th>\n",
              "      <th>Month</th>\n",
              "      <th>Day</th>\n",
              "      <th>qtyflag</th>\n",
              "      <th>return</th>\n",
              "    </tr>\n",
              "  </thead>\n",
              "  <tbody>\n",
              "    <tr>\n",
              "      <th>141</th>\n",
              "      <td>C536379</td>\n",
              "      <td>D</td>\n",
              "      <td>Discount</td>\n",
              "      <td>-1</td>\n",
              "      <td>12/1/2010 9:41</td>\n",
              "      <td>27.50</td>\n",
              "      <td>14527.0</td>\n",
              "      <td>United Kingdom</td>\n",
              "      <td>2010-12-01</td>\n",
              "      <td>0.0</td>\n",
              "      <td>2010</td>\n",
              "      <td>12</td>\n",
              "      <td>1</td>\n",
              "      <td>0</td>\n",
              "      <td>1</td>\n",
              "    </tr>\n",
              "    <tr>\n",
              "      <th>154</th>\n",
              "      <td>C536383</td>\n",
              "      <td>35004C</td>\n",
              "      <td>SET OF 3 COLOURED  FLYING DUCKS</td>\n",
              "      <td>-1</td>\n",
              "      <td>12/1/2010 9:49</td>\n",
              "      <td>4.65</td>\n",
              "      <td>15311.0</td>\n",
              "      <td>United Kingdom</td>\n",
              "      <td>2010-12-01</td>\n",
              "      <td>0.0</td>\n",
              "      <td>2010</td>\n",
              "      <td>12</td>\n",
              "      <td>1</td>\n",
              "      <td>0</td>\n",
              "      <td>1</td>\n",
              "    </tr>\n",
              "  </tbody>\n",
              "</table>\n",
              "</div>"
            ],
            "text/plain": [
              "    invoiceno stockcode                      description  ...  Day qtyflag  return\n",
              "141   C536379         D                         Discount  ...    1       0       1\n",
              "154   C536383    35004C  SET OF 3 COLOURED  FLYING DUCKS  ...    1       0       1\n",
              "\n",
              "[2 rows x 15 columns]"
            ]
          },
          "metadata": {
            "tags": []
          },
          "execution_count": 145
        }
      ]
    },
    {
      "cell_type": "code",
      "metadata": {
        "id": "LBSLRvqnT6LP",
        "colab_type": "code",
        "colab": {}
      },
      "source": [
        "# As you can see in the above data even discount is having a negative quanityty so while creating flag for return this should not be considered \n",
        "cleanecom['return']= cleanecom[cleanecom.stockcode!='D'].quantity.apply(lambda X : 1 if (X < 0) else 0 ) # Creating a return flag on the data"
      ],
      "execution_count": 0,
      "outputs": []
    },
    {
      "cell_type": "markdown",
      "metadata": {
        "id": "mnI_rDuMYzTf",
        "colab_type": "text"
      },
      "source": [
        "### Word of caution value_counts does not show how many null valuse go created in the flag. It is wise to check the same before subsetting the data based on flag"
      ]
    },
    {
      "cell_type": "code",
      "metadata": {
        "id": "WMAb0-zrXsiB",
        "colab_type": "code",
        "colab": {
          "base_uri": "https://localhost:8080/",
          "height": 69
        },
        "outputId": "d71ca7bb-173a-4fe9-f37d-dd0e51356c2d"
      },
      "source": [
        "cleanecom['return'].value_counts() "
      ],
      "execution_count": 141,
      "outputs": [
        {
          "output_type": "execute_result",
          "data": {
            "text/plain": [
              "0.0    391458\n",
              "1.0      8613\n",
              "Name: return, dtype: int64"
            ]
          },
          "metadata": {
            "tags": []
          },
          "execution_count": 141
        }
      ]
    },
    {
      "cell_type": "code",
      "metadata": {
        "id": "PGAPf1jSYNSn",
        "colab_type": "code",
        "colab": {
          "base_uri": "https://localhost:8080/",
          "height": 349
        },
        "outputId": "bdee4276-4fb4-4142-d096-067f1ec26649"
      },
      "source": [
        "cleanecom.isna().sum()"
      ],
      "execution_count": 142,
      "outputs": [
        {
          "output_type": "execute_result",
          "data": {
            "text/plain": [
              "invoiceno                 0\n",
              "stockcode                 0\n",
              "description               0\n",
              "quantity                  0\n",
              "invoicedate               0\n",
              "unitprice                 0\n",
              "customerid                0\n",
              "country                   0\n",
              "newdate                   0\n",
              "alpha_description         0\n",
              "invoice_c                 0\n",
              "Flag                 397361\n",
              "qtyflag                   0\n",
              "finalflag            397361\n",
              "year                      0\n",
              "month                     0\n",
              "day                       0\n",
              "return                   75\n",
              "dtype: int64"
            ]
          },
          "metadata": {
            "tags": []
          },
          "execution_count": 142
        }
      ]
    },
    {
      "cell_type": "code",
      "metadata": {
        "id": "w1NQir8mZBLk",
        "colab_type": "code",
        "colab": {}
      },
      "source": [
        "cleanecom['return'].fillna(0,inplace=True)"
      ],
      "execution_count": 0,
      "outputs": []
    },
    {
      "cell_type": "code",
      "metadata": {
        "id": "KLMb1dBeZsQG",
        "colab_type": "code",
        "colab": {
          "base_uri": "https://localhost:8080/",
          "height": 34
        },
        "outputId": "fcd64b79-b278-4efd-fdee-7e2f99814a15"
      },
      "source": [
        "cleanecom['return'].isna().sum() # no null now"
      ],
      "execution_count": 149,
      "outputs": [
        {
          "output_type": "execute_result",
          "data": {
            "text/plain": [
              "0"
            ]
          },
          "metadata": {
            "tags": []
          },
          "execution_count": 149
        }
      ]
    },
    {
      "cell_type": "markdown",
      "metadata": {
        "id": "8qMi0NzWaWV-",
        "colab_type": "text"
      },
      "source": [
        "#### Creating another feature named sales"
      ]
    },
    {
      "cell_type": "code",
      "metadata": {
        "id": "FhT8uKaJoJe9",
        "colab_type": "code",
        "colab": {}
      },
      "source": [
        "cleanecom['sales']=cleanecom.unitprice*cleanecom.quantity # creating sales feature"
      ],
      "execution_count": 0,
      "outputs": []
    },
    {
      "cell_type": "code",
      "metadata": {
        "id": "CjXLGa62gU9t",
        "colab_type": "code",
        "outputId": "a9070df0-9f6a-4186-dd8d-93757400e2e0",
        "colab": {
          "base_uri": "https://localhost:8080/",
          "height": 157
        }
      },
      "source": [
        "cleanecom[cleanecom.quantity<0].head(2)"
      ],
      "execution_count": 151,
      "outputs": [
        {
          "output_type": "execute_result",
          "data": {
            "text/html": [
              "<div>\n",
              "<style scoped>\n",
              "    .dataframe tbody tr th:only-of-type {\n",
              "        vertical-align: middle;\n",
              "    }\n",
              "\n",
              "    .dataframe tbody tr th {\n",
              "        vertical-align: top;\n",
              "    }\n",
              "\n",
              "    .dataframe thead th {\n",
              "        text-align: right;\n",
              "    }\n",
              "</style>\n",
              "<table border=\"1\" class=\"dataframe\">\n",
              "  <thead>\n",
              "    <tr style=\"text-align: right;\">\n",
              "      <th></th>\n",
              "      <th>invoiceno</th>\n",
              "      <th>stockcode</th>\n",
              "      <th>description</th>\n",
              "      <th>quantity</th>\n",
              "      <th>invoicedate</th>\n",
              "      <th>unitprice</th>\n",
              "      <th>customerid</th>\n",
              "      <th>country</th>\n",
              "      <th>newdate</th>\n",
              "      <th>alpha_description</th>\n",
              "      <th>invoice_c</th>\n",
              "      <th>Flag</th>\n",
              "      <th>qtyflag</th>\n",
              "      <th>finalflag</th>\n",
              "      <th>year</th>\n",
              "      <th>month</th>\n",
              "      <th>day</th>\n",
              "      <th>return</th>\n",
              "      <th>sales</th>\n",
              "    </tr>\n",
              "  </thead>\n",
              "  <tbody>\n",
              "    <tr>\n",
              "      <th>141</th>\n",
              "      <td>C536379</td>\n",
              "      <td>D</td>\n",
              "      <td>Discount</td>\n",
              "      <td>-1</td>\n",
              "      <td>12/1/2010 9:41</td>\n",
              "      <td>27.50</td>\n",
              "      <td>14527.0</td>\n",
              "      <td>United Kingdom</td>\n",
              "      <td>2010-12-01</td>\n",
              "      <td>D</td>\n",
              "      <td>C</td>\n",
              "      <td>NaN</td>\n",
              "      <td>0</td>\n",
              "      <td>NaN</td>\n",
              "      <td>2010</td>\n",
              "      <td>12</td>\n",
              "      <td>1</td>\n",
              "      <td>0.0</td>\n",
              "      <td>-27.50</td>\n",
              "    </tr>\n",
              "    <tr>\n",
              "      <th>154</th>\n",
              "      <td>C536383</td>\n",
              "      <td>35004C</td>\n",
              "      <td>SET OF 3 COLOURED  FLYING DUCKS</td>\n",
              "      <td>-1</td>\n",
              "      <td>12/1/2010 9:49</td>\n",
              "      <td>4.65</td>\n",
              "      <td>15311.0</td>\n",
              "      <td>United Kingdom</td>\n",
              "      <td>2010-12-01</td>\n",
              "      <td>3</td>\n",
              "      <td>C</td>\n",
              "      <td>NaN</td>\n",
              "      <td>0</td>\n",
              "      <td>NaN</td>\n",
              "      <td>2010</td>\n",
              "      <td>12</td>\n",
              "      <td>1</td>\n",
              "      <td>1.0</td>\n",
              "      <td>-4.65</td>\n",
              "    </tr>\n",
              "  </tbody>\n",
              "</table>\n",
              "</div>"
            ],
            "text/plain": [
              "    invoiceno stockcode                      description  quantity     invoicedate  unitprice  customerid         country    newdate alpha_description invoice_c  Flag  qtyflag  finalflag  year  month  day  return  sales\n",
              "141   C536379         D                         Discount        -1  12/1/2010 9:41      27.50     14527.0  United Kingdom 2010-12-01                 D         C   NaN        0        NaN  2010     12    1     0.0 -27.50\n",
              "154   C536383    35004C  SET OF 3 COLOURED  FLYING DUCKS        -1  12/1/2010 9:49       4.65     15311.0  United Kingdom 2010-12-01                 3         C   NaN        0        NaN  2010     12    1     1.0  -4.65"
            ]
          },
          "metadata": {
            "tags": []
          },
          "execution_count": 151
        }
      ]
    },
    {
      "cell_type": "code",
      "metadata": {
        "id": "mimZGMBTkFrQ",
        "colab_type": "code",
        "outputId": "ab63783c-9249-48e6-bb7f-c9ad41451376",
        "colab": {
          "base_uri": "https://localhost:8080/",
          "height": 478
        }
      },
      "source": [
        "cleanecom['description'].value_counts().head(20).plot.bar()"
      ],
      "execution_count": 153,
      "outputs": [
        {
          "output_type": "execute_result",
          "data": {
            "text/plain": [
              "<matplotlib.axes._subplots.AxesSubplot at 0x7f4ecfb1f588>"
            ]
          },
          "metadata": {
            "tags": []
          },
          "execution_count": 153
        },
        {
          "output_type": "display_data",
          "data": {
            "image/png": "[encoded data removed]",
            "text/plain": [
              "<Figure size 432x288 with 1 Axes>"
            ]
          },
          "metadata": {
            "tags": [],
            "needs_background": "light"
          }
        }
      ]
    },
    {
      "cell_type": "code",
      "metadata": {
        "id": "GmsKFuD3kbHr",
        "colab_type": "code",
        "outputId": "b29cbff5-b511-4b15-cd91-01705e03b807",
        "colab": {
          "base_uri": "https://localhost:8080/",
          "height": 488
        }
      },
      "source": [
        "cleanecom['description'].value_counts().tail(20).plot.bar()"
      ],
      "execution_count": 154,
      "outputs": [
        {
          "output_type": "execute_result",
          "data": {
            "text/plain": [
              "<matplotlib.axes._subplots.AxesSubplot at 0x7f4ecfa7df28>"
            ]
          },
          "metadata": {
            "tags": []
          },
          "execution_count": 154
        },
        {
          "output_type": "display_data",
          "data": {
            "image/png": "[encoded data removed]",
            "text/plain": [
              "<Figure size 432x288 with 1 Axes>"
            ]
          },
          "metadata": {
            "tags": [],
            "needs_background": "light"
          }
        }
      ]
    },
    {
      "cell_type": "code",
      "metadata": {
        "id": "IPolZE5dml_2",
        "colab_type": "code",
        "outputId": "86a6411e-fbc9-4dea-89ab-bf00ccbd2ec6",
        "colab": {
          "base_uri": "https://localhost:8080/",
          "height": 367
        }
      },
      "source": [
        "cleanecom.dtypes"
      ],
      "execution_count": 155,
      "outputs": [
        {
          "output_type": "execute_result",
          "data": {
            "text/plain": [
              "invoiceno                    object\n",
              "stockcode                    object\n",
              "description                  object\n",
              "quantity                      int64\n",
              "invoicedate                  object\n",
              "unitprice                   float64\n",
              "customerid                  float64\n",
              "country                      object\n",
              "newdate              datetime64[ns]\n",
              "alpha_description            object\n",
              "invoice_c                    object\n",
              "Flag                        float64\n",
              "qtyflag                       int64\n",
              "finalflag                   float64\n",
              "year                          int64\n",
              "month                         int64\n",
              "day                           int64\n",
              "return                      float64\n",
              "sales                       float64\n",
              "dtype: object"
            ]
          },
          "metadata": {
            "tags": []
          },
          "execution_count": 155
        }
      ]
    },
    {
      "cell_type": "code",
      "metadata": {
        "id": "yE0UfDL2nPe3",
        "colab_type": "code",
        "outputId": "174e5377-3a88-40c3-c7ed-a81c70f6374d",
        "colab": {
          "base_uri": "https://localhost:8080/",
          "height": 442
        }
      },
      "source": [
        "# With Seaborn\n",
        "from matplotlib.pyplot import figure\n",
        "figure(figsize=(10, 7))\n",
        "sns.scatterplot(x='unitprice', y='quantity', data=cleanecom, \n",
        "                label=\"scatterplot\");"
      ],
      "execution_count": 156,
      "outputs": [
        {
          "output_type": "display_data",
          "data": {
            "image/png": "[encoded data removed]",
            "text/plain": [
              "<Figure size 720x504 with 1 Axes>"
            ]
          },
          "metadata": {
            "tags": [],
            "needs_background": "light"
          }
        }
      ]
    },
    {
      "cell_type": "code",
      "metadata": {
        "id": "EPJmX8Mlkg3L",
        "colab_type": "code",
        "outputId": "64ddcd40-fbf8-4191-c117-ce6d42e53f00",
        "colab": {
          "base_uri": "https://localhost:8080/",
          "height": 442
        }
      },
      "source": [
        "\n",
        "figure(figsize=(10, 7))\n",
        "sns.scatterplot(x='unitprice', y='sales', data=cleanecom, \n",
        "                label=\"scatterplot\");\n"
      ],
      "execution_count": 157,
      "outputs": [
        {
          "output_type": "display_data",
          "data": {
            "image/png": "[encoded data removed]",
            "text/plain": [
              "<Figure size 720x504 with 1 Axes>"
            ]
          },
          "metadata": {
            "tags": [],
            "needs_background": "light"
          }
        }
      ]
    },
    {
      "cell_type": "markdown",
      "metadata": {
        "id": "zsuHAJ9Kx6mu",
        "colab_type": "text"
      },
      "source": [
        "**Looks like there are outliers on price , sales as well .** \n",
        "Looks like there are obseravations which has zero price as well: Let's check them"
      ]
    },
    {
      "cell_type": "code",
      "metadata": {
        "id": "Uu0VGcdMmc2A",
        "colab_type": "code",
        "outputId": "f103d82b-9300-4610-b454-81715fd0bd55",
        "colab": {
          "base_uri": "https://localhost:8080/",
          "height": 327
        }
      },
      "source": [
        "# How many zero price observation are existing?\n",
        "print(\"number of entries with price zero:\", cleanecom[cleanecom.unitprice==0].shape[0])\n",
        "\n",
        "print(\"Let's look at some sample data :  \\n\")\n",
        "\n",
        "cleanecom[cleanecom.unitprice==0].head(3)"
      ],
      "execution_count": 158,
      "outputs": [
        {
          "output_type": "stream",
          "text": [
            "number of entries with price zero: 34\n",
            "Let's look at some sample data :  \n",
            "\n"
          ],
          "name": "stdout"
        },
        {
          "output_type": "execute_result",
          "data": {
            "text/html": [
              "<div>\n",
              "<style scoped>\n",
              "    .dataframe tbody tr th:only-of-type {\n",
              "        vertical-align: middle;\n",
              "    }\n",
              "\n",
              "    .dataframe tbody tr th {\n",
              "        vertical-align: top;\n",
              "    }\n",
              "\n",
              "    .dataframe thead th {\n",
              "        text-align: right;\n",
              "    }\n",
              "</style>\n",
              "<table border=\"1\" class=\"dataframe\">\n",
              "  <thead>\n",
              "    <tr style=\"text-align: right;\">\n",
              "      <th></th>\n",
              "      <th>invoiceno</th>\n",
              "      <th>stockcode</th>\n",
              "      <th>description</th>\n",
              "      <th>quantity</th>\n",
              "      <th>invoicedate</th>\n",
              "      <th>unitprice</th>\n",
              "      <th>customerid</th>\n",
              "      <th>country</th>\n",
              "      <th>newdate</th>\n",
              "      <th>alpha_description</th>\n",
              "      <th>invoice_c</th>\n",
              "      <th>Flag</th>\n",
              "      <th>qtyflag</th>\n",
              "      <th>finalflag</th>\n",
              "      <th>year</th>\n",
              "      <th>month</th>\n",
              "      <th>day</th>\n",
              "      <th>return</th>\n",
              "      <th>sales</th>\n",
              "    </tr>\n",
              "  </thead>\n",
              "  <tbody>\n",
              "    <tr>\n",
              "      <th>7012</th>\n",
              "      <td>537197</td>\n",
              "      <td>22841</td>\n",
              "      <td>ROUND CAKE TIN VINTAGE GREEN</td>\n",
              "      <td>1</td>\n",
              "      <td>12/5/2010 14:02</td>\n",
              "      <td>0.0</td>\n",
              "      <td>12647.0</td>\n",
              "      <td>Europe</td>\n",
              "      <td>2010-12-05</td>\n",
              "      <td>2</td>\n",
              "      <td>5</td>\n",
              "      <td>NaN</td>\n",
              "      <td>0</td>\n",
              "      <td>NaN</td>\n",
              "      <td>2010</td>\n",
              "      <td>12</td>\n",
              "      <td>5</td>\n",
              "      <td>0.0</td>\n",
              "      <td>0.0</td>\n",
              "    </tr>\n",
              "    <tr>\n",
              "      <th>23071</th>\n",
              "      <td>539263</td>\n",
              "      <td>22580</td>\n",
              "      <td>ADVENT CALENDAR GINGHAM SACK</td>\n",
              "      <td>4</td>\n",
              "      <td>12/16/2010 14:36</td>\n",
              "      <td>0.0</td>\n",
              "      <td>16560.0</td>\n",
              "      <td>United Kingdom</td>\n",
              "      <td>2010-12-16</td>\n",
              "      <td>2</td>\n",
              "      <td>5</td>\n",
              "      <td>NaN</td>\n",
              "      <td>0</td>\n",
              "      <td>NaN</td>\n",
              "      <td>2010</td>\n",
              "      <td>12</td>\n",
              "      <td>16</td>\n",
              "      <td>0.0</td>\n",
              "      <td>0.0</td>\n",
              "    </tr>\n",
              "    <tr>\n",
              "      <th>26046</th>\n",
              "      <td>539722</td>\n",
              "      <td>22423</td>\n",
              "      <td>REGENCY CAKESTAND 3 TIER</td>\n",
              "      <td>10</td>\n",
              "      <td>12/21/2010 13:45</td>\n",
              "      <td>0.0</td>\n",
              "      <td>14911.0</td>\n",
              "      <td>Europe</td>\n",
              "      <td>2010-12-21</td>\n",
              "      <td>2</td>\n",
              "      <td>5</td>\n",
              "      <td>NaN</td>\n",
              "      <td>0</td>\n",
              "      <td>NaN</td>\n",
              "      <td>2010</td>\n",
              "      <td>12</td>\n",
              "      <td>21</td>\n",
              "      <td>0.0</td>\n",
              "      <td>0.0</td>\n",
              "    </tr>\n",
              "  </tbody>\n",
              "</table>\n",
              "</div>"
            ],
            "text/plain": [
              "      invoiceno stockcode                   description  quantity       invoicedate  unitprice  customerid         country    newdate alpha_description invoice_c  Flag  qtyflag  finalflag  year  month  day  return  sales\n",
              "7012     537197     22841  ROUND CAKE TIN VINTAGE GREEN         1   12/5/2010 14:02        0.0     12647.0          Europe 2010-12-05                 2         5   NaN        0        NaN  2010     12    5     0.0    0.0\n",
              "23071    539263     22580  ADVENT CALENDAR GINGHAM SACK         4  12/16/2010 14:36        0.0     16560.0  United Kingdom 2010-12-16                 2         5   NaN        0        NaN  2010     12   16     0.0    0.0\n",
              "26046    539722     22423      REGENCY CAKESTAND 3 TIER        10  12/21/2010 13:45        0.0     14911.0          Europe 2010-12-21                 2         5   NaN        0        NaN  2010     12   21     0.0    0.0"
            ]
          },
          "metadata": {
            "tags": []
          },
          "execution_count": 158
        }
      ]
    },
    {
      "cell_type": "code",
      "metadata": {
        "id": "5YAmKORqblJd",
        "colab_type": "code",
        "colab": {
          "base_uri": "https://localhost:8080/",
          "height": 104
        },
        "outputId": "4ea1719a-f5e0-42e5-aca9-30560b0e176a"
      },
      "source": [
        "cleanecom.columns"
      ],
      "execution_count": 160,
      "outputs": [
        {
          "output_type": "execute_result",
          "data": {
            "text/plain": [
              "Index(['invoiceno', 'stockcode', 'description', 'quantity', 'invoicedate',\n",
              "       'unitprice', 'customerid', 'country', 'newdate', 'alpha_description',\n",
              "       'invoice_c', 'Flag', 'qtyflag', 'finalflag', 'year', 'month', 'day',\n",
              "       'return', 'sales'],\n",
              "      dtype='object')"
            ]
          },
          "metadata": {
            "tags": []
          },
          "execution_count": 160
        }
      ]
    },
    {
      "cell_type": "markdown",
      "metadata": {
        "id": "t9AkycTj0FC3",
        "colab_type": "text"
      },
      "source": [
        "### We might want to get rid of these observation! What do you thik?\n",
        "choose wisely and proceed further."
      ]
    },
    {
      "cell_type": "code",
      "metadata": {
        "id": "ac3qikRXxvdU",
        "colab_type": "code",
        "colab": {}
      },
      "source": [
        "# Let's remove the zeros as of now : for you in case if you think this would help please keep these\n",
        "# Will do a column subsetting as well -- just to remove all unsable flag columns\n",
        "cleanecom=cleanecom[cleanecom.unitprice!=0][['invoiceno', 'stockcode', 'description', 'quantity', 'invoicedate',\n",
        "       'unitprice', 'customerid', 'country', 'newdate',\n",
        "       'year', 'month', 'day', 'return', 'sales']]"
      ],
      "execution_count": 0,
      "outputs": []
    },
    {
      "cell_type": "code",
      "metadata": {
        "id": "EpUftrS-cMXQ",
        "colab_type": "code",
        "colab": {
          "base_uri": "https://localhost:8080/",
          "height": 137
        },
        "outputId": "c4601c69-829f-43b4-a566-0746716a0c45"
      },
      "source": [
        "cleanecom.head(3)"
      ],
      "execution_count": 162,
      "outputs": [
        {
          "output_type": "execute_result",
          "data": {
            "text/html": [
              "<div>\n",
              "<style scoped>\n",
              "    .dataframe tbody tr th:only-of-type {\n",
              "        vertical-align: middle;\n",
              "    }\n",
              "\n",
              "    .dataframe tbody tr th {\n",
              "        vertical-align: top;\n",
              "    }\n",
              "\n",
              "    .dataframe thead th {\n",
              "        text-align: right;\n",
              "    }\n",
              "</style>\n",
              "<table border=\"1\" class=\"dataframe\">\n",
              "  <thead>\n",
              "    <tr style=\"text-align: right;\">\n",
              "      <th></th>\n",
              "      <th>invoiceno</th>\n",
              "      <th>stockcode</th>\n",
              "      <th>description</th>\n",
              "      <th>quantity</th>\n",
              "      <th>invoicedate</th>\n",
              "      <th>unitprice</th>\n",
              "      <th>customerid</th>\n",
              "      <th>country</th>\n",
              "      <th>newdate</th>\n",
              "      <th>year</th>\n",
              "      <th>month</th>\n",
              "      <th>day</th>\n",
              "      <th>return</th>\n",
              "      <th>sales</th>\n",
              "    </tr>\n",
              "  </thead>\n",
              "  <tbody>\n",
              "    <tr>\n",
              "      <th>0</th>\n",
              "      <td>536365</td>\n",
              "      <td>85123A</td>\n",
              "      <td>WHITE HANGING HEART T-LIGHT HOLDER</td>\n",
              "      <td>6</td>\n",
              "      <td>12/1/2010 8:26</td>\n",
              "      <td>2.55</td>\n",
              "      <td>17850.0</td>\n",
              "      <td>United Kingdom</td>\n",
              "      <td>2010-12-01</td>\n",
              "      <td>2010</td>\n",
              "      <td>12</td>\n",
              "      <td>1</td>\n",
              "      <td>0.0</td>\n",
              "      <td>15.30</td>\n",
              "    </tr>\n",
              "    <tr>\n",
              "      <th>1</th>\n",
              "      <td>536365</td>\n",
              "      <td>71053</td>\n",
              "      <td>WHITE METAL LANTERN</td>\n",
              "      <td>6</td>\n",
              "      <td>12/1/2010 8:26</td>\n",
              "      <td>3.39</td>\n",
              "      <td>17850.0</td>\n",
              "      <td>United Kingdom</td>\n",
              "      <td>2010-12-01</td>\n",
              "      <td>2010</td>\n",
              "      <td>12</td>\n",
              "      <td>1</td>\n",
              "      <td>0.0</td>\n",
              "      <td>20.34</td>\n",
              "    </tr>\n",
              "    <tr>\n",
              "      <th>2</th>\n",
              "      <td>536365</td>\n",
              "      <td>84406B</td>\n",
              "      <td>CREAM CUPID HEARTS COAT HANGER</td>\n",
              "      <td>8</td>\n",
              "      <td>12/1/2010 8:26</td>\n",
              "      <td>2.75</td>\n",
              "      <td>17850.0</td>\n",
              "      <td>United Kingdom</td>\n",
              "      <td>2010-12-01</td>\n",
              "      <td>2010</td>\n",
              "      <td>12</td>\n",
              "      <td>1</td>\n",
              "      <td>0.0</td>\n",
              "      <td>22.00</td>\n",
              "    </tr>\n",
              "  </tbody>\n",
              "</table>\n",
              "</div>"
            ],
            "text/plain": [
              "  invoiceno stockcode                         description  quantity     invoicedate  unitprice  customerid         country    newdate  year  month  day  return  sales\n",
              "0    536365    85123A  WHITE HANGING HEART T-LIGHT HOLDER         6  12/1/2010 8:26       2.55     17850.0  United Kingdom 2010-12-01  2010     12    1     0.0  15.30\n",
              "1    536365     71053                 WHITE METAL LANTERN         6  12/1/2010 8:26       3.39     17850.0  United Kingdom 2010-12-01  2010     12    1     0.0  20.34\n",
              "2    536365    84406B      CREAM CUPID HEARTS COAT HANGER         8  12/1/2010 8:26       2.75     17850.0  United Kingdom 2010-12-01  2010     12    1     0.0  22.00"
            ]
          },
          "metadata": {
            "tags": []
          },
          "execution_count": 162
        }
      ]
    },
    {
      "cell_type": "code",
      "metadata": {
        "id": "UOFX1-Z45YKE",
        "colab_type": "code",
        "outputId": "7e2f92bc-a9e0-48bc-faf4-79aa659e8101",
        "colab": {
          "base_uri": "https://localhost:8080/",
          "height": 266
        }
      },
      "source": [
        "# Example of pie chart\n",
        "cleanecom['country'].value_counts().plot.pie()"
      ],
      "execution_count": 163,
      "outputs": [
        {
          "output_type": "execute_result",
          "data": {
            "text/plain": [
              "<matplotlib.axes._subplots.AxesSubplot at 0x7f4ecf983438>"
            ]
          },
          "metadata": {
            "tags": []
          },
          "execution_count": 163
        },
        {
          "output_type": "display_data",
          "data": {
            "image/png": "[encoded data removed]",
            "text/plain": [
              "<Figure size 432x288 with 1 Axes>"
            ]
          },
          "metadata": {
            "tags": []
          }
        }
      ]
    },
    {
      "cell_type": "code",
      "metadata": {
        "id": "KN4lwafh8vzg",
        "colab_type": "code",
        "outputId": "280c1fea-a07f-4967-bd52-5687431d710a",
        "colab": {
          "base_uri": "https://localhost:8080/",
          "height": 413
        }
      },
      "source": [
        "country_ = cleanecom['country'].value_counts().sort_index()\n",
        "\n",
        "plt.figure(figsize=(14,6))\n",
        "ax = sns.barplot(x=country_.index, y=country_.values)\n",
        "\n",
        "for p in ax.patches:\n",
        "    ax.annotate(f'{p.get_height():.0f}\\n({p.get_height() / sum(country_) * 100:.1f}%)', \n",
        "                xy=(p.get_x() + p.get_width()/2., p.get_height()), ha='center', xytext=(0,5), textcoords='offset points')\n",
        "    \n",
        "ax.set_ylim(0, 1.1*max(country_))\n",
        "plt.xlabel('Country Frequency', fontsize=14)\n",
        "plt.ylabel('Count', fontsize=14)\n",
        "plt.title('Country Frequency Distribution', fontsize=20)\n",
        "plt.show()"
      ],
      "execution_count": 164,
      "outputs": [
        {
          "output_type": "display_data",
          "data": {
            "image/png": "[encoded data removed]",
            "text/plain": [
              "<Figure size 1008x432 with 1 Axes>"
            ]
          },
          "metadata": {
            "tags": [],
            "needs_background": "light"
          }
        }
      ]
    },
    {
      "cell_type": "markdown",
      "metadata": {
        "id": "M7J7pMW5cih6",
        "colab_type": "text"
      },
      "source": [
        "### I wanted to again reiterate -- this is definitely not enough of data exploration. There are more to it . All we wanted to ensure that we show you the glimps of it \n",
        "\n",
        "Please do look into different cross tabs, scatter plots and manay more innovating way to understand data before you proceed further on building your ABT...."
      ]
    },
    {
      "cell_type": "markdown",
      "metadata": {
        "id": "radpUmAwdflC",
        "colab_type": "text"
      },
      "source": [
        "### Some summary statistics would be useful do you think?\n",
        "\n",
        "Let's see some of it"
      ]
    },
    {
      "cell_type": "code",
      "metadata": {
        "id": "IU4bdaXuhO8i",
        "colab_type": "code",
        "colab": {
          "base_uri": "https://localhost:8080/",
          "height": 287
        },
        "outputId": "19c49d8a-308e-4cb4-b36a-169df549df49"
      },
      "source": [
        "cleanecom.describe().T"
      ],
      "execution_count": 165,
      "outputs": [
        {
          "output_type": "execute_result",
          "data": {
            "text/html": [
              "<div>\n",
              "<style scoped>\n",
              "    .dataframe tbody tr th:only-of-type {\n",
              "        vertical-align: middle;\n",
              "    }\n",
              "\n",
              "    .dataframe tbody tr th {\n",
              "        vertical-align: top;\n",
              "    }\n",
              "\n",
              "    .dataframe thead th {\n",
              "        text-align: right;\n",
              "    }\n",
              "</style>\n",
              "<table border=\"1\" class=\"dataframe\">\n",
              "  <thead>\n",
              "    <tr style=\"text-align: right;\">\n",
              "      <th></th>\n",
              "      <th>count</th>\n",
              "      <th>mean</th>\n",
              "      <th>std</th>\n",
              "      <th>min</th>\n",
              "      <th>25%</th>\n",
              "      <th>50%</th>\n",
              "      <th>75%</th>\n",
              "      <th>max</th>\n",
              "    </tr>\n",
              "  </thead>\n",
              "  <tbody>\n",
              "    <tr>\n",
              "      <th>quantity</th>\n",
              "      <td>400112.0</td>\n",
              "      <td>8.883348</td>\n",
              "      <td>12.496614</td>\n",
              "      <td>-96.000</td>\n",
              "      <td>2.00</td>\n",
              "      <td>5.00</td>\n",
              "      <td>12.00</td>\n",
              "      <td>98.0</td>\n",
              "    </tr>\n",
              "    <tr>\n",
              "      <th>unitprice</th>\n",
              "      <td>400112.0</td>\n",
              "      <td>3.494995</td>\n",
              "      <td>69.893851</td>\n",
              "      <td>0.001</td>\n",
              "      <td>1.25</td>\n",
              "      <td>1.95</td>\n",
              "      <td>3.75</td>\n",
              "      <td>38970.0</td>\n",
              "    </tr>\n",
              "    <tr>\n",
              "      <th>customerid</th>\n",
              "      <td>400112.0</td>\n",
              "      <td>15288.166496</td>\n",
              "      <td>1713.101517</td>\n",
              "      <td>12347.000</td>\n",
              "      <td>13956.00</td>\n",
              "      <td>15154.00</td>\n",
              "      <td>16791.00</td>\n",
              "      <td>18287.0</td>\n",
              "    </tr>\n",
              "    <tr>\n",
              "      <th>year</th>\n",
              "      <td>400112.0</td>\n",
              "      <td>2010.933846</td>\n",
              "      <td>0.248551</td>\n",
              "      <td>2010.000</td>\n",
              "      <td>2011.00</td>\n",
              "      <td>2011.00</td>\n",
              "      <td>2011.00</td>\n",
              "      <td>2011.0</td>\n",
              "    </tr>\n",
              "    <tr>\n",
              "      <th>month</th>\n",
              "      <td>400112.0</td>\n",
              "      <td>7.611366</td>\n",
              "      <td>3.420621</td>\n",
              "      <td>1.000</td>\n",
              "      <td>5.00</td>\n",
              "      <td>8.00</td>\n",
              "      <td>11.00</td>\n",
              "      <td>12.0</td>\n",
              "    </tr>\n",
              "    <tr>\n",
              "      <th>day</th>\n",
              "      <td>400112.0</td>\n",
              "      <td>15.038204</td>\n",
              "      <td>8.657432</td>\n",
              "      <td>1.000</td>\n",
              "      <td>7.00</td>\n",
              "      <td>15.00</td>\n",
              "      <td>22.00</td>\n",
              "      <td>31.0</td>\n",
              "    </tr>\n",
              "    <tr>\n",
              "      <th>return</th>\n",
              "      <td>400112.0</td>\n",
              "      <td>0.021526</td>\n",
              "      <td>0.145131</td>\n",
              "      <td>0.000</td>\n",
              "      <td>0.00</td>\n",
              "      <td>0.00</td>\n",
              "      <td>0.00</td>\n",
              "      <td>1.0</td>\n",
              "    </tr>\n",
              "    <tr>\n",
              "      <th>sales</th>\n",
              "      <td>400112.0</td>\n",
              "      <td>16.380779</td>\n",
              "      <td>97.981931</td>\n",
              "      <td>-38970.000</td>\n",
              "      <td>4.20</td>\n",
              "      <td>10.50</td>\n",
              "      <td>17.85</td>\n",
              "      <td>38970.0</td>\n",
              "    </tr>\n",
              "  </tbody>\n",
              "</table>\n",
              "</div>"
            ],
            "text/plain": [
              "               count          mean          std        min       25%       50%       75%      max\n",
              "quantity    400112.0      8.883348    12.496614    -96.000      2.00      5.00     12.00     98.0\n",
              "unitprice   400112.0      3.494995    69.893851      0.001      1.25      1.95      3.75  38970.0\n",
              "customerid  400112.0  15288.166496  1713.101517  12347.000  13956.00  15154.00  16791.00  18287.0\n",
              "year        400112.0   2010.933846     0.248551   2010.000   2011.00   2011.00   2011.00   2011.0\n",
              "month       400112.0      7.611366     3.420621      1.000      5.00      8.00     11.00     12.0\n",
              "day         400112.0     15.038204     8.657432      1.000      7.00     15.00     22.00     31.0\n",
              "return      400112.0      0.021526     0.145131      0.000      0.00      0.00      0.00      1.0\n",
              "sales       400112.0     16.380779    97.981931 -38970.000      4.20     10.50     17.85  38970.0"
            ]
          },
          "metadata": {
            "tags": []
          },
          "execution_count": 165
        }
      ]
    },
    {
      "cell_type": "markdown",
      "metadata": {
        "id": "In0RkN_gdRVm",
        "colab_type": "text"
      },
      "source": [
        "## Let's do some outlier treatmnt before we go ahead and start building ABT"
      ]
    },
    {
      "cell_type": "markdown",
      "metadata": {
        "id": "1c6UyIvNlP6j",
        "colab_type": "text"
      },
      "source": [
        "## Outlier removal methodologies -- popular univariate ones \n",
        "\n",
        "Qunatile Method:\n",
        "\n",
        "\n",
        "\n",
        "```\n",
        "q_low = df[\"col\"].quantile(0.01)\n",
        "q_hi  = df[\"col\"].quantile(0.99)\n",
        "\n",
        "df_filtered = df[(df[\"col\"] < q_hi) & (df[\"col\"] > q_low)]\n",
        "```\n",
        "\n",
        "\n",
        "\n",
        "\n",
        "6-Sigma method:\n",
        "\n",
        "```\n",
        "df = pd.DataFrame({'Data':np.random.normal(size=200)})\n",
        "# example dataset of normally distributed data. \n",
        "\n",
        "df[np.abs(df.Data-df.Data.mean()) <= (3*df.Data.std())]\n",
        "# keep only the ones that are within +3 to -3 standard deviations in the column 'Data'.\n",
        "\n",
        "df[~(np.abs(df.Data-df.Data.mean()) > (3*df.Data.std()))]\n",
        "# or if you prefer the other way around\n",
        "```\n",
        "\n",
        "IQR Method:\n",
        "\n",
        "\n",
        "\n",
        "```\n",
        "#------------------------------------------------------------------------------\n",
        "# accept a dataframe, remove outliers, return cleaned data in a new dataframe\n",
        "# see http://www.itl.nist.gov/div898/handbook/prc/section1/prc16.htm\n",
        "#------------------------------------------------------------------------------\n",
        "def remove_outlier(df_in, col_name):\n",
        "    q1 = df_in[col_name].quantile(0.25)\n",
        "    q3 = df_in[col_name].quantile(0.75)\n",
        "    iqr = q3-q1 #Interquartile range\n",
        "    fence_low  = q1-1.5*iqr\n",
        "    fence_high = q3+1.5*iqr\n",
        "    df_out = df_in.loc[(df_in[col_name] > fence_low) & (df_in[col_name] < fence_high)]\n",
        "    return df_out\n",
        "\n",
        "```\n",
        "\n",
        "\n"
      ]
    },
    {
      "cell_type": "code",
      "metadata": {
        "id": "M-QygeKShucP",
        "colab_type": "code",
        "colab": {
          "base_uri": "https://localhost:8080/",
          "height": 405
        },
        "outputId": "e9c997a1-c013-4520-8508-078b1a094ab9"
      },
      "source": [
        "plt.boxplot(cleanecom.sales) # Too much outlier"
      ],
      "execution_count": 166,
      "outputs": [
        {
          "output_type": "execute_result",
          "data": {
            "text/plain": [
              "{'boxes': [<matplotlib.lines.Line2D at 0x7f4ecf86f320>],\n",
              " 'caps': [<matplotlib.lines.Line2D at 0x7f4ecf745160>,\n",
              "  <matplotlib.lines.Line2D at 0x7f4ecf7454e0>],\n",
              " 'fliers': [<matplotlib.lines.Line2D at 0x7f4ecf745be0>],\n",
              " 'means': [],\n",
              " 'medians': [<matplotlib.lines.Line2D at 0x7f4ecf745860>],\n",
              " 'whiskers': [<matplotlib.lines.Line2D at 0x7f4ecf7e1ef0>,\n",
              "  <matplotlib.lines.Line2D at 0x7f4ecf7b6da0>]}"
            ]
          },
          "metadata": {
            "tags": []
          },
          "execution_count": 166
        },
        {
          "output_type": "display_data",
          "data": {
            "image/png": "[encoded data removed]",
            "text/plain": [
              "<Figure size 432x288 with 1 Axes>"
            ]
          },
          "metadata": {
            "tags": [],
            "needs_background": "light"
          }
        }
      ]
    },
    {
      "cell_type": "code",
      "metadata": {
        "id": "IAWodsp2iB2m",
        "colab_type": "code",
        "colab": {
          "base_uri": "https://localhost:8080/",
          "height": 227
        },
        "outputId": "37706ae5-688c-4b49-e78f-4a9a20d3423f"
      },
      "source": [
        "# Getting pecentile across customer sales\n",
        "\n",
        "arr_univariate_righttail = [0.91, 0.92, 0.93, 0.94, 0.95, 0.96, 0.97, 0.98, 0.99, 0.995, 1]\n",
        "\n",
        "print(cleanecom['sales'].quantile(arr_univariate_righttail))"
      ],
      "execution_count": 167,
      "outputs": [
        {
          "output_type": "stream",
          "text": [
            "0.910       34.00000\n",
            "0.920       35.70000\n",
            "0.930       39.80000\n",
            "0.940       45.00000\n",
            "0.950       51.00000\n",
            "0.960       61.20000\n",
            "0.970       73.44000\n",
            "0.980       90.00000\n",
            "0.990      128.88000\n",
            "0.995      178.61125\n",
            "1.000    38970.00000\n",
            "Name: sales, dtype: float64\n"
          ],
          "name": "stdout"
        }
      ]
    },
    {
      "cell_type": "code",
      "metadata": {
        "id": "5s_ySsjsiYbN",
        "colab_type": "code",
        "colab": {}
      },
      "source": [
        "# I'm going to cut the tail where sales is greater than 99th percentile. This is a bit subjective and you can remove outlier according to your judgment and business understanding\n",
        "\n",
        "cleanecom=cleanecom[~(cleanecom['sales']>cleanecom['sales'].quantile(0.995))]\n",
        "\n",
        "\n"
      ],
      "execution_count": 0,
      "outputs": []
    },
    {
      "cell_type": "code",
      "metadata": {
        "id": "aJoKaa_rjF64",
        "colab_type": "code",
        "colab": {
          "base_uri": "https://localhost:8080/",
          "height": 209
        },
        "outputId": "60ad9f4f-b66d-4700-d709-c3af980cf213"
      },
      "source": [
        "arr_univariate_lefttail = [0,0.001,0.002,0.005, 0.01, 0.02, 0.05, 0.07, 0.1, 0.15]\n",
        "\n",
        "print(cleanecom['sales'].quantile(arr_univariate_lefttail))"
      ],
      "execution_count": 176,
      "outputs": [
        {
          "output_type": "stream",
          "text": [
            "0.000   -38970.00\n",
            "0.001      -72.00\n",
            "0.002      -38.16\n",
            "0.005      -17.00\n",
            "0.010       -9.24\n",
            "0.020       -1.65\n",
            "0.050        0.85\n",
            "0.070        1.25\n",
            "0.100        1.65\n",
            "0.150        2.50\n",
            "Name: sales, dtype: float64\n"
          ],
          "name": "stdout"
        }
      ]
    },
    {
      "cell_type": "code",
      "metadata": {
        "id": "GiW7lLTGrH0t",
        "colab_type": "code",
        "colab": {}
      },
      "source": [
        "cleanecom=cleanecom[~(cleanecom['sales']<cleanecom['sales'].quantile(0.001))]"
      ],
      "execution_count": 0,
      "outputs": []
    },
    {
      "cell_type": "code",
      "metadata": {
        "id": "X1jUpH4fi33k",
        "colab_type": "code",
        "colab": {
          "base_uri": "https://localhost:8080/",
          "height": 405
        },
        "outputId": "2b3de5a1-e6e2-4924-aac4-181196de7b9e"
      },
      "source": [
        "plt.boxplot(cleanecom.sales)"
      ],
      "execution_count": 178,
      "outputs": [
        {
          "output_type": "execute_result",
          "data": {
            "text/plain": [
              "{'boxes': [<matplotlib.lines.Line2D at 0x7f4ecf66d908>],\n",
              " 'caps': [<matplotlib.lines.Line2D at 0x7f4ecf5fa358>,\n",
              "  <matplotlib.lines.Line2D at 0x7f4ecf5fa6d8>],\n",
              " 'fliers': [<matplotlib.lines.Line2D at 0x7f4ecf5fadd8>],\n",
              " 'means': [],\n",
              " 'medians': [<matplotlib.lines.Line2D at 0x7f4ecf5faa58>],\n",
              " 'whiskers': [<matplotlib.lines.Line2D at 0x7f4ecf66dc18>,\n",
              "  <matplotlib.lines.Line2D at 0x7f4ecf66df98>]}"
            ]
          },
          "metadata": {
            "tags": []
          },
          "execution_count": 178
        },
        {
          "output_type": "display_data",
          "data": {
            "image/png": "[encoded data removed]",
            "text/plain": [
              "<Figure size 432x288 with 1 Axes>"
            ]
          },
          "metadata": {
            "tags": [],
            "needs_background": "light"
          }
        }
      ]
    },
    {
      "cell_type": "markdown",
      "metadata": {
        "id": "7_NInY88YM6H",
        "colab_type": "text"
      },
      "source": [
        "## Data Summarization: \n",
        "\n",
        "we shall now look at different aggregation functions and then we shall get on to Dynamic reference frame"
      ]
    },
    {
      "cell_type": "markdown",
      "metadata": {
        "id": "VcubYrt2Z1LQ",
        "colab_type": "text"
      },
      "source": [
        "## Group By statement:\n",
        "\n",
        "Let's understand how to summarize the data at customer level:\n",
        "\n",
        "\n",
        "      *   DF.groupby([\"column1\", \"column2\"...]).agg({\"column3\": [\"sum\", \"mean\"], \"column4\": [\"std\", \"nunique\",\"count/size\"] }).....\n",
        "       You can define a custom fuction some where and use it like AB = np.mean(np.sqrt(x)).\n",
        "     *   Data frame . for by( list of columns as index). Aggregation declearation(   \"columnK\" : list of aggregation function with space like)."
      ]
    },
    {
      "cell_type": "markdown",
      "metadata": {
        "id": "lu2j6N4egEvp",
        "colab_type": "text"
      },
      "source": [
        "### Creating a monthly level aggregated data."
      ]
    },
    {
      "cell_type": "code",
      "metadata": {
        "id": "ZscJwP2FaZW_",
        "colab_type": "code",
        "outputId": "c03f6bcf-5975-456a-acc9-8cc19c8f7ee7",
        "colab": {
          "base_uri": "https://localhost:8080/",
          "height": 467
        }
      },
      "source": [
        "cleanecom.groupby([\"country\",\"customerid\",\"year\",\"month\"]).agg({\"quantity\":[\"sum\",\"count\"], \"sales\": [\"sum\"], \"unitprice\": [\"mean\"], \"stockcode\": [\"nunique\"], \"return\":[\"sum\"]})"
      ],
      "execution_count": 180,
      "outputs": [
        {
          "output_type": "execute_result",
          "data": {
            "text/html": [
              "<div>\n",
              "<style scoped>\n",
              "    .dataframe tbody tr th:only-of-type {\n",
              "        vertical-align: middle;\n",
              "    }\n",
              "\n",
              "    .dataframe tbody tr th {\n",
              "        vertical-align: top;\n",
              "    }\n",
              "\n",
              "    .dataframe thead tr th {\n",
              "        text-align: left;\n",
              "    }\n",
              "\n",
              "    .dataframe thead tr:last-of-type th {\n",
              "        text-align: right;\n",
              "    }\n",
              "</style>\n",
              "<table border=\"1\" class=\"dataframe\">\n",
              "  <thead>\n",
              "    <tr>\n",
              "      <th></th>\n",
              "      <th></th>\n",
              "      <th></th>\n",
              "      <th></th>\n",
              "      <th colspan=\"2\" halign=\"left\">quantity</th>\n",
              "      <th>sales</th>\n",
              "      <th>unitprice</th>\n",
              "      <th>stockcode</th>\n",
              "      <th>return</th>\n",
              "    </tr>\n",
              "    <tr>\n",
              "      <th></th>\n",
              "      <th></th>\n",
              "      <th></th>\n",
              "      <th></th>\n",
              "      <th>sum</th>\n",
              "      <th>count</th>\n",
              "      <th>sum</th>\n",
              "      <th>mean</th>\n",
              "      <th>nunique</th>\n",
              "      <th>sum</th>\n",
              "    </tr>\n",
              "    <tr>\n",
              "      <th>country</th>\n",
              "      <th>customerid</th>\n",
              "      <th>year</th>\n",
              "      <th>month</th>\n",
              "      <th></th>\n",
              "      <th></th>\n",
              "      <th></th>\n",
              "      <th></th>\n",
              "      <th></th>\n",
              "      <th></th>\n",
              "    </tr>\n",
              "  </thead>\n",
              "  <tbody>\n",
              "    <tr>\n",
              "      <th rowspan=\"5\" valign=\"top\">Asia</th>\n",
              "      <th rowspan=\"4\" valign=\"top\">12744.0</th>\n",
              "      <th rowspan=\"4\" valign=\"top\">2011</th>\n",
              "      <th>1</th>\n",
              "      <td>989</td>\n",
              "      <td>54</td>\n",
              "      <td>1731.07</td>\n",
              "      <td>2.548519</td>\n",
              "      <td>54</td>\n",
              "      <td>0.0</td>\n",
              "    </tr>\n",
              "    <tr>\n",
              "      <th>4</th>\n",
              "      <td>1255</td>\n",
              "      <td>51</td>\n",
              "      <td>2006.84</td>\n",
              "      <td>5.550196</td>\n",
              "      <td>51</td>\n",
              "      <td>0.0</td>\n",
              "    </tr>\n",
              "    <tr>\n",
              "      <th>7</th>\n",
              "      <td>1872</td>\n",
              "      <td>74</td>\n",
              "      <td>3790.92</td>\n",
              "      <td>3.106892</td>\n",
              "      <td>74</td>\n",
              "      <td>0.0</td>\n",
              "    </tr>\n",
              "    <tr>\n",
              "      <th>10</th>\n",
              "      <td>499</td>\n",
              "      <td>31</td>\n",
              "      <td>927.26</td>\n",
              "      <td>5.440000</td>\n",
              "      <td>31</td>\n",
              "      <td>0.0</td>\n",
              "    </tr>\n",
              "    <tr>\n",
              "      <th>12753.0</th>\n",
              "      <th>2010</th>\n",
              "      <th>12</th>\n",
              "      <td>2309</td>\n",
              "      <td>47</td>\n",
              "      <td>3518.59</td>\n",
              "      <td>1.941277</td>\n",
              "      <td>47</td>\n",
              "      <td>0.0</td>\n",
              "    </tr>\n",
              "    <tr>\n",
              "      <th>...</th>\n",
              "      <th>...</th>\n",
              "      <th>...</th>\n",
              "      <th>...</th>\n",
              "      <td>...</td>\n",
              "      <td>...</td>\n",
              "      <td>...</td>\n",
              "      <td>...</td>\n",
              "      <td>...</td>\n",
              "      <td>...</td>\n",
              "    </tr>\n",
              "    <tr>\n",
              "      <th rowspan=\"5\" valign=\"top\">Unspecified</th>\n",
              "      <th>12743.0</th>\n",
              "      <th>2011</th>\n",
              "      <th>7</th>\n",
              "      <td>319</td>\n",
              "      <td>134</td>\n",
              "      <td>546.43</td>\n",
              "      <td>3.038582</td>\n",
              "      <td>114</td>\n",
              "      <td>0.0</td>\n",
              "    </tr>\n",
              "    <tr>\n",
              "      <th rowspan=\"2\" valign=\"top\">14265.0</th>\n",
              "      <th rowspan=\"2\" valign=\"top\">2011</th>\n",
              "      <th>7</th>\n",
              "      <td>271</td>\n",
              "      <td>15</td>\n",
              "      <td>252.05</td>\n",
              "      <td>3.460667</td>\n",
              "      <td>15</td>\n",
              "      <td>0.0</td>\n",
              "    </tr>\n",
              "    <tr>\n",
              "      <th>8</th>\n",
              "      <td>59</td>\n",
              "      <td>16</td>\n",
              "      <td>278.13</td>\n",
              "      <td>8.115000</td>\n",
              "      <td>16</td>\n",
              "      <td>0.0</td>\n",
              "    </tr>\n",
              "    <tr>\n",
              "      <th rowspan=\"2\" valign=\"top\">16320.0</th>\n",
              "      <th rowspan=\"2\" valign=\"top\">2011</th>\n",
              "      <th>5</th>\n",
              "      <td>654</td>\n",
              "      <td>47</td>\n",
              "      <td>852.68</td>\n",
              "      <td>2.059787</td>\n",
              "      <td>47</td>\n",
              "      <td>0.0</td>\n",
              "    </tr>\n",
              "    <tr>\n",
              "      <th>6</th>\n",
              "      <td>78</td>\n",
              "      <td>9</td>\n",
              "      <td>185.78</td>\n",
              "      <td>4.677778</td>\n",
              "      <td>9</td>\n",
              "      <td>0.0</td>\n",
              "    </tr>\n",
              "  </tbody>\n",
              "</table>\n",
              "<p>13352 rows × 6 columns</p>\n",
              "</div>"
            ],
            "text/plain": [
              "                                  quantity          sales unitprice stockcode return\n",
              "                                       sum count      sum      mean   nunique    sum\n",
              "country     customerid year month                                                   \n",
              "Asia        12744.0    2011 1          989    54  1731.07  2.548519        54    0.0\n",
              "                            4         1255    51  2006.84  5.550196        51    0.0\n",
              "                            7         1872    74  3790.92  3.106892        74    0.0\n",
              "                            10         499    31   927.26  5.440000        31    0.0\n",
              "            12753.0    2010 12        2309    47  3518.59  1.941277        47    0.0\n",
              "...                                    ...   ...      ...       ...       ...    ...\n",
              "Unspecified 12743.0    2011 7          319   134   546.43  3.038582       114    0.0\n",
              "            14265.0    2011 7          271    15   252.05  3.460667        15    0.0\n",
              "                            8           59    16   278.13  8.115000        16    0.0\n",
              "            16320.0    2011 5          654    47   852.68  2.059787        47    0.0\n",
              "                            6           78     9   185.78  4.677778         9    0.0\n",
              "\n",
              "[13352 rows x 6 columns]"
            ]
          },
          "metadata": {
            "tags": []
          },
          "execution_count": 180
        }
      ]
    },
    {
      "cell_type": "code",
      "metadata": {
        "id": "KUjO_rDoo4zY",
        "colab_type": "code",
        "colab": {}
      },
      "source": [
        "# Month 1-12 does not look good : Let's chaneg it to proper months\n",
        "# date time operation comes with lots of option. changing the month number to the name is one of them \n",
        "cleanecom['month'] = cleanecom.newdate.dt.month_name()"
      ],
      "execution_count": 0,
      "outputs": []
    },
    {
      "cell_type": "code",
      "metadata": {
        "id": "12HuvoqZsvcf",
        "colab_type": "code",
        "colab": {
          "base_uri": "https://localhost:8080/",
          "height": 437
        },
        "outputId": "2184bcb4-7dfb-489c-e196-b434b8a7c3c4"
      },
      "source": [
        "cleanecom.groupby(\n",
        "    by=['customerid','year','month'],\n",
        "    as_index=True).agg(  \n",
        "        total_quantity = ('quantity','sum'),            # total quantity purchased\n",
        "        average_quantity = ('quantity','mean'),         # monthly average quanity purchased in each transaction\n",
        "        products_spread = ('stockcode', 'nunique'),     # number of distinct products purchased\n",
        "        transactions = ('invoiceno', \"nunique\"),        # total number of transactions done\n",
        "        no_of_days_shopped = ('newdate', \"nunique\"),    # How many days customer shopped\n",
        "        total_sales = ('sales', 'sum'),                 # Total amount spent    \n",
        "        no_return=('return','sum'),                     # Number of returns\n",
        "        max_price= ('unitprice','max'),                 # highest price paid by customer\n",
        "        avg_price=('unitprice','mean'),                 # average price paid by customer in the month\n",
        "        avg_spend= ('sales','mean'),                    # average spend by the customer on a given month\n",
        ")"
      ],
      "execution_count": 182,
      "outputs": [
        {
          "output_type": "execute_result",
          "data": {
            "text/html": [
              "<div>\n",
              "<style scoped>\n",
              "    .dataframe tbody tr th:only-of-type {\n",
              "        vertical-align: middle;\n",
              "    }\n",
              "\n",
              "    .dataframe tbody tr th {\n",
              "        vertical-align: top;\n",
              "    }\n",
              "\n",
              "    .dataframe thead th {\n",
              "        text-align: right;\n",
              "    }\n",
              "</style>\n",
              "<table border=\"1\" class=\"dataframe\">\n",
              "  <thead>\n",
              "    <tr style=\"text-align: right;\">\n",
              "      <th></th>\n",
              "      <th></th>\n",
              "      <th></th>\n",
              "      <th>total_quantity</th>\n",
              "      <th>average_quantity</th>\n",
              "      <th>products_spread</th>\n",
              "      <th>transactions</th>\n",
              "      <th>no_of_days_shopped</th>\n",
              "      <th>total_sales</th>\n",
              "      <th>no_return</th>\n",
              "      <th>max_price</th>\n",
              "      <th>avg_price</th>\n",
              "      <th>avg_spend</th>\n",
              "    </tr>\n",
              "    <tr>\n",
              "      <th>customerid</th>\n",
              "      <th>year</th>\n",
              "      <th>month</th>\n",
              "      <th></th>\n",
              "      <th></th>\n",
              "      <th></th>\n",
              "      <th></th>\n",
              "      <th></th>\n",
              "      <th></th>\n",
              "      <th></th>\n",
              "      <th></th>\n",
              "      <th></th>\n",
              "      <th></th>\n",
              "    </tr>\n",
              "  </thead>\n",
              "  <tbody>\n",
              "    <tr>\n",
              "      <th rowspan=\"5\" valign=\"top\">12347.0</th>\n",
              "      <th>2010</th>\n",
              "      <th>December</th>\n",
              "      <td>319</td>\n",
              "      <td>10.290323</td>\n",
              "      <td>31</td>\n",
              "      <td>1</td>\n",
              "      <td>1</td>\n",
              "      <td>711.79</td>\n",
              "      <td>0.0</td>\n",
              "      <td>5.95</td>\n",
              "      <td>2.890000</td>\n",
              "      <td>22.960968</td>\n",
              "    </tr>\n",
              "    <tr>\n",
              "      <th rowspan=\"4\" valign=\"top\">2011</th>\n",
              "      <th>April</th>\n",
              "      <td>243</td>\n",
              "      <td>10.565217</td>\n",
              "      <td>23</td>\n",
              "      <td>1</td>\n",
              "      <td>1</td>\n",
              "      <td>386.65</td>\n",
              "      <td>0.0</td>\n",
              "      <td>12.75</td>\n",
              "      <td>2.663043</td>\n",
              "      <td>16.810870</td>\n",
              "    </tr>\n",
              "    <tr>\n",
              "      <th>August</th>\n",
              "      <td>277</td>\n",
              "      <td>12.590909</td>\n",
              "      <td>22</td>\n",
              "      <td>1</td>\n",
              "      <td>1</td>\n",
              "      <td>584.91</td>\n",
              "      <td>0.0</td>\n",
              "      <td>12.75</td>\n",
              "      <td>3.101818</td>\n",
              "      <td>26.586818</td>\n",
              "    </tr>\n",
              "    <tr>\n",
              "      <th>December</th>\n",
              "      <td>192</td>\n",
              "      <td>17.454545</td>\n",
              "      <td>11</td>\n",
              "      <td>1</td>\n",
              "      <td>1</td>\n",
              "      <td>224.82</td>\n",
              "      <td>0.0</td>\n",
              "      <td>2.08</td>\n",
              "      <td>1.230909</td>\n",
              "      <td>20.438182</td>\n",
              "    </tr>\n",
              "    <tr>\n",
              "      <th>January</th>\n",
              "      <td>315</td>\n",
              "      <td>10.862069</td>\n",
              "      <td>29</td>\n",
              "      <td>1</td>\n",
              "      <td>1</td>\n",
              "      <td>475.39</td>\n",
              "      <td>0.0</td>\n",
              "      <td>12.75</td>\n",
              "      <td>2.523103</td>\n",
              "      <td>16.392759</td>\n",
              "    </tr>\n",
              "    <tr>\n",
              "      <th>...</th>\n",
              "      <th>...</th>\n",
              "      <th>...</th>\n",
              "      <td>...</td>\n",
              "      <td>...</td>\n",
              "      <td>...</td>\n",
              "      <td>...</td>\n",
              "      <td>...</td>\n",
              "      <td>...</td>\n",
              "      <td>...</td>\n",
              "      <td>...</td>\n",
              "      <td>...</td>\n",
              "      <td>...</td>\n",
              "    </tr>\n",
              "    <tr>\n",
              "      <th rowspan=\"3\" valign=\"top\">18283.0</th>\n",
              "      <th rowspan=\"3\" valign=\"top\">2011</th>\n",
              "      <th>November</th>\n",
              "      <td>450</td>\n",
              "      <td>2.054795</td>\n",
              "      <td>115</td>\n",
              "      <td>4</td>\n",
              "      <td>3</td>\n",
              "      <td>651.56</td>\n",
              "      <td>0.0</td>\n",
              "      <td>3.75</td>\n",
              "      <td>1.455525</td>\n",
              "      <td>2.975160</td>\n",
              "    </tr>\n",
              "    <tr>\n",
              "      <th>October</th>\n",
              "      <td>63</td>\n",
              "      <td>1.575000</td>\n",
              "      <td>38</td>\n",
              "      <td>1</td>\n",
              "      <td>1</td>\n",
              "      <td>114.65</td>\n",
              "      <td>0.0</td>\n",
              "      <td>15.95</td>\n",
              "      <td>2.087000</td>\n",
              "      <td>2.866250</td>\n",
              "    </tr>\n",
              "    <tr>\n",
              "      <th>September</th>\n",
              "      <td>95</td>\n",
              "      <td>2.021277</td>\n",
              "      <td>47</td>\n",
              "      <td>1</td>\n",
              "      <td>1</td>\n",
              "      <td>134.90</td>\n",
              "      <td>0.0</td>\n",
              "      <td>4.00</td>\n",
              "      <td>1.401915</td>\n",
              "      <td>2.870213</td>\n",
              "    </tr>\n",
              "    <tr>\n",
              "      <th rowspan=\"2\" valign=\"top\">18287.0</th>\n",
              "      <th rowspan=\"2\" valign=\"top\">2011</th>\n",
              "      <th>May</th>\n",
              "      <td>488</td>\n",
              "      <td>16.827586</td>\n",
              "      <td>27</td>\n",
              "      <td>1</td>\n",
              "      <td>1</td>\n",
              "      <td>765.28</td>\n",
              "      <td>0.0</td>\n",
              "      <td>8.50</td>\n",
              "      <td>1.962759</td>\n",
              "      <td>26.388966</td>\n",
              "    </tr>\n",
              "    <tr>\n",
              "      <th>October</th>\n",
              "      <td>1098</td>\n",
              "      <td>26.780488</td>\n",
              "      <td>38</td>\n",
              "      <td>2</td>\n",
              "      <td>2</td>\n",
              "      <td>1072.00</td>\n",
              "      <td>0.0</td>\n",
              "      <td>4.25</td>\n",
              "      <td>1.161707</td>\n",
              "      <td>26.146341</td>\n",
              "    </tr>\n",
              "  </tbody>\n",
              "</table>\n",
              "<p>13350 rows × 10 columns</p>\n",
              "</div>"
            ],
            "text/plain": [
              "                           total_quantity  average_quantity  products_spread  transactions  no_of_days_shopped  total_sales  no_return  max_price  avg_price  avg_spend\n",
              "customerid year month                                                                                                                                                  \n",
              "12347.0    2010 December              319         10.290323               31             1                   1       711.79        0.0       5.95   2.890000  22.960968\n",
              "           2011 April                 243         10.565217               23             1                   1       386.65        0.0      12.75   2.663043  16.810870\n",
              "                August                277         12.590909               22             1                   1       584.91        0.0      12.75   3.101818  26.586818\n",
              "                December              192         17.454545               11             1                   1       224.82        0.0       2.08   1.230909  20.438182\n",
              "                January               315         10.862069               29             1                   1       475.39        0.0      12.75   2.523103  16.392759\n",
              "...                                   ...               ...              ...           ...                 ...          ...        ...        ...        ...        ...\n",
              "18283.0    2011 November              450          2.054795              115             4                   3       651.56        0.0       3.75   1.455525   2.975160\n",
              "                October                63          1.575000               38             1                   1       114.65        0.0      15.95   2.087000   2.866250\n",
              "                September              95          2.021277               47             1                   1       134.90        0.0       4.00   1.401915   2.870213\n",
              "18287.0    2011 May                   488         16.827586               27             1                   1       765.28        0.0       8.50   1.962759  26.388966\n",
              "                October              1098         26.780488               38             2                   2      1072.00        0.0       4.25   1.161707  26.146341\n",
              "\n",
              "[13350 rows x 10 columns]"
            ]
          },
          "metadata": {
            "tags": []
          },
          "execution_count": 182
        }
      ]
    },
    {
      "cell_type": "markdown",
      "metadata": {
        "id": "BE5V5nk-eoEE",
        "colab_type": "text"
      },
      "source": [
        "### In case if you don't want the returns to be included \n",
        "\n",
        "\n",
        "\n",
        "```\n",
        "\n",
        "ecom_cust_level = cleanecom[(cleanecom['return']==0)].groupby(\n",
        "    by=['customerid','year','Month'],\n",
        "    as_index=True).agg(  \n",
        "        total_quantity = ('quantity','sum'),            # total quantity purchased\n",
        "        average_quantity = ('quantity','mean'),         # monthly average quanity purchased in each transaction\n",
        "        products_spread = ('stockcode', 'nunique'),     # number of distinct products purchased\n",
        "        transactions = ('invoiceno', \"nunique\"),        # total number of transactions done\n",
        "        no_of_days_shopped = ('newdate', \"nunique\"),    # How many days customer shopped\n",
        "        total_sales = ('sales', 'sum'),           # Total amount spent    \n",
        "      #  no_return=('return','sum'),                     # Number of returns\n",
        "        max_price= ('unitprice','max'),                 # highest price paid by customer\n",
        "        avg_price=('unitprice','mean'),                 # average price paid by customer in the month\n",
        "        avg_spend= ('sales','mean'),                    # average spend by the customer on a given month\n",
        ").reset_index()\n",
        "```\n",
        "\n",
        "\n"
      ]
    },
    {
      "cell_type": "markdown",
      "metadata": {
        "id": "iXuAjMRbtFSV",
        "colab_type": "text"
      },
      "source": [
        "## ABT ( Aalytical Base Table) creation:\n",
        "\n",
        "We are going to show two approach here in case if we want to create a **model to identify propensity of the cutomer shopping next month**\n",
        "\n",
        "There can be different ways to do this... we are just going to show one of the easy non-program heavy way of doing it"
      ]
    },
    {
      "cell_type": "markdown",
      "metadata": {
        "id": "nsxNf8BT3hPY",
        "colab_type": "text"
      },
      "source": [
        "### So we have data from December 2010 to December 2011\n",
        "\n",
        "#### Now we need to create a train and test data set along with OOT (out of time )\n",
        "\n",
        "\n",
        "> \n",
        "\n",
        "*   DF1= Create a dataset from Dec-2010 to Oct-2011\n",
        "*   DF2=Create another dataset from Dec-2010 to Nov-2011. delete all december data\n",
        "*   DF3 Create dataset for Nov-2011 seperately with only customerid also for month of Dec2011(DF4)\n",
        "*   Aggreate DF1 and DF 2 seperately\n",
        "*   Merge aggregated-DF3 with DF1 to flag the customer who shopped ( change the column names)--- this will be used for training and testing \n",
        "*   Merge aggregated-DF2 with DF4 to flag the dataset with customer shopped in Dec-2011 .... this will be used for OOT\n",
        "\n",
        "\n",
        "\n"
      ]
    },
    {
      "cell_type": "code",
      "metadata": {
        "id": "B_eUABa9uWUp",
        "colab_type": "code",
        "colab": {
          "base_uri": "https://localhost:8080/",
          "height": 69
        },
        "outputId": "32067123-0e7e-44dc-cdeb-342a67a28479"
      },
      "source": [
        "# we shall quickly analyse the time period that we can use to train and do out of time validation\n",
        "cleanecom[\"year_month\"]= cleanecom[[\"year\",\"month\"]].apply(lambda X: \"{}_{}\".format(X[\"year\"], X[\"month\"][0:3]),axis=1)\n",
        "cleanecom[\"year_month\"].unique()"
      ],
      "execution_count": 183,
      "outputs": [
        {
          "output_type": "execute_result",
          "data": {
            "text/plain": [
              "array(['2010_Dec', '2011_Jan', '2011_Feb', '2011_Mar', '2011_Apr',\n",
              "       '2011_May', '2011_Jun', '2011_Jul', '2011_Aug', '2011_Sep',\n",
              "       '2011_Oct', '2011_Nov', '2011_Dec'], dtype=object)"
            ]
          },
          "metadata": {
            "tags": []
          },
          "execution_count": 183
        }
      ]
    },
    {
      "cell_type": "code",
      "metadata": {
        "id": "_V18xVFvuiNg",
        "colab_type": "code",
        "colab": {
          "base_uri": "https://localhost:8080/",
          "height": 497
        },
        "outputId": "0cc192bc-eedb-4357-b4c0-690e5cb2a425"
      },
      "source": [
        "# Let us also check if all the months have complete data points. That is has transaction been covered across most of the days in a month\n",
        "cleanecom.groupby(by=['year_month']).agg({\"newdate\":[\"nunique\"]})\n",
        "# It looks like 2011 Dec could be incomplete as it as only 8 day of transactions "
      ],
      "execution_count": 184,
      "outputs": [
        {
          "output_type": "execute_result",
          "data": {
            "text/html": [
              "<div>\n",
              "<style scoped>\n",
              "    .dataframe tbody tr th:only-of-type {\n",
              "        vertical-align: middle;\n",
              "    }\n",
              "\n",
              "    .dataframe tbody tr th {\n",
              "        vertical-align: top;\n",
              "    }\n",
              "\n",
              "    .dataframe thead tr th {\n",
              "        text-align: left;\n",
              "    }\n",
              "\n",
              "    .dataframe thead tr:last-of-type th {\n",
              "        text-align: right;\n",
              "    }\n",
              "</style>\n",
              "<table border=\"1\" class=\"dataframe\">\n",
              "  <thead>\n",
              "    <tr>\n",
              "      <th></th>\n",
              "      <th>newdate</th>\n",
              "    </tr>\n",
              "    <tr>\n",
              "      <th></th>\n",
              "      <th>nunique</th>\n",
              "    </tr>\n",
              "    <tr>\n",
              "      <th>year_month</th>\n",
              "      <th></th>\n",
              "    </tr>\n",
              "  </thead>\n",
              "  <tbody>\n",
              "    <tr>\n",
              "      <th>2010_Dec</th>\n",
              "      <td>20</td>\n",
              "    </tr>\n",
              "    <tr>\n",
              "      <th>2011_Apr</th>\n",
              "      <td>21</td>\n",
              "    </tr>\n",
              "    <tr>\n",
              "      <th>2011_Aug</th>\n",
              "      <td>26</td>\n",
              "    </tr>\n",
              "    <tr>\n",
              "      <th>2011_Dec</th>\n",
              "      <td>8</td>\n",
              "    </tr>\n",
              "    <tr>\n",
              "      <th>2011_Feb</th>\n",
              "      <td>24</td>\n",
              "    </tr>\n",
              "    <tr>\n",
              "      <th>2011_Jan</th>\n",
              "      <td>24</td>\n",
              "    </tr>\n",
              "    <tr>\n",
              "      <th>2011_Jul</th>\n",
              "      <td>26</td>\n",
              "    </tr>\n",
              "    <tr>\n",
              "      <th>2011_Jun</th>\n",
              "      <td>26</td>\n",
              "    </tr>\n",
              "    <tr>\n",
              "      <th>2011_Mar</th>\n",
              "      <td>27</td>\n",
              "    </tr>\n",
              "    <tr>\n",
              "      <th>2011_May</th>\n",
              "      <td>25</td>\n",
              "    </tr>\n",
              "    <tr>\n",
              "      <th>2011_Nov</th>\n",
              "      <td>26</td>\n",
              "    </tr>\n",
              "    <tr>\n",
              "      <th>2011_Oct</th>\n",
              "      <td>26</td>\n",
              "    </tr>\n",
              "    <tr>\n",
              "      <th>2011_Sep</th>\n",
              "      <td>26</td>\n",
              "    </tr>\n",
              "  </tbody>\n",
              "</table>\n",
              "</div>"
            ],
            "text/plain": [
              "           newdate\n",
              "           nunique\n",
              "year_month        \n",
              "2010_Dec        20\n",
              "2011_Apr        21\n",
              "2011_Aug        26\n",
              "2011_Dec         8\n",
              "2011_Feb        24\n",
              "2011_Jan        24\n",
              "2011_Jul        26\n",
              "2011_Jun        26\n",
              "2011_Mar        27\n",
              "2011_May        25\n",
              "2011_Nov        26\n",
              "2011_Oct        26\n",
              "2011_Sep        26"
            ]
          },
          "metadata": {
            "tags": []
          },
          "execution_count": 184
        }
      ]
    },
    {
      "cell_type": "code",
      "metadata": {
        "id": "A0kba1bKuzWo",
        "colab_type": "code",
        "colab": {}
      },
      "source": [
        "# Let us create our training dataset. For this we are going to use customer behavior from 2010 Dec to  2011 Sep (10 months) to train the model. Target would be customers shopping in 2011 Oct\n",
        "start_date = '12-01-2010'\n",
        "end_date = '09-01-2011'\n",
        "\n",
        "# Subsetting our train DF \n",
        "cleanecom_train_obs=cleanecom[(cleanecom[\"newdate\"]>=start_date) & (cleanecom[\"newdate\"]<end_date)]"
      ],
      "execution_count": 0,
      "outputs": []
    },
    {
      "cell_type": "code",
      "metadata": {
        "id": "XOmVSplpu73J",
        "colab_type": "code",
        "colab": {
          "base_uri": "https://localhost:8080/",
          "height": 197
        },
        "outputId": "ef942deb-861d-45fb-c9c1-9f9d0e11c702"
      },
      "source": [
        "# Building ABT1 for training. We are going ot use groupby to create our (ABT)database. Benefit being you can rename the columns as per your wish and subset the data while doing so\n",
        "ABT1_train = cleanecom_train_obs.groupby(\n",
        "    by=['customerid'],\n",
        "    as_index=True).agg(  \n",
        "        total_quantity = ('quantity','sum'),            # total quantity purchased\n",
        "        average_quantity = ('quantity','mean'),         # monthly average quanity purchased in each transaction\n",
        "        products_spread = ('stockcode', 'nunique'),     # number of distinct products purchased\n",
        "        transactions = ('invoiceno', \"nunique\"),        # total number of transactions done\n",
        "        no_of_days_shopped = ('newdate', \"nunique\"),    # How many days customer shopped\n",
        "        total_sales = ('sales', 'sum'),                 # Total amount spent    \n",
        "        no_return=('return','sum'),                     # Number of returns\n",
        "        max_price= ('unitprice','max'),                 # highest price paid by customer\n",
        "        avg_price=('unitprice','mean'),                 # average price paid by customer in the month\n",
        "        avg_spend= ('sales','mean'),                    # average spend by the customer on a given month\n",
        ").reset_index()\n",
        "\n",
        "ABT1_train.head()"
      ],
      "execution_count": 186,
      "outputs": [
        {
          "output_type": "execute_result",
          "data": {
            "text/html": [
              "<div>\n",
              "<style scoped>\n",
              "    .dataframe tbody tr th:only-of-type {\n",
              "        vertical-align: middle;\n",
              "    }\n",
              "\n",
              "    .dataframe tbody tr th {\n",
              "        vertical-align: top;\n",
              "    }\n",
              "\n",
              "    .dataframe thead th {\n",
              "        text-align: right;\n",
              "    }\n",
              "</style>\n",
              "<table border=\"1\" class=\"dataframe\">\n",
              "  <thead>\n",
              "    <tr style=\"text-align: right;\">\n",
              "      <th></th>\n",
              "      <th>customerid</th>\n",
              "      <th>total_quantity</th>\n",
              "      <th>average_quantity</th>\n",
              "      <th>products_spread</th>\n",
              "      <th>transactions</th>\n",
              "      <th>no_of_days_shopped</th>\n",
              "      <th>total_sales</th>\n",
              "      <th>no_return</th>\n",
              "      <th>max_price</th>\n",
              "      <th>avg_price</th>\n",
              "      <th>avg_spend</th>\n",
              "    </tr>\n",
              "  </thead>\n",
              "  <tbody>\n",
              "    <tr>\n",
              "      <th>0</th>\n",
              "      <td>12347.0</td>\n",
              "      <td>1350</td>\n",
              "      <td>10.975610</td>\n",
              "      <td>81</td>\n",
              "      <td>5</td>\n",
              "      <td>5</td>\n",
              "      <td>2541.26</td>\n",
              "      <td>0.0</td>\n",
              "      <td>12.75</td>\n",
              "      <td>2.811951</td>\n",
              "      <td>20.660650</td>\n",
              "    </tr>\n",
              "    <tr>\n",
              "      <th>1</th>\n",
              "      <td>12348.0</td>\n",
              "      <td>774</td>\n",
              "      <td>45.529412</td>\n",
              "      <td>16</td>\n",
              "      <td>3</td>\n",
              "      <td>3</td>\n",
              "      <td>795.08</td>\n",
              "      <td>0.0</td>\n",
              "      <td>40.00</td>\n",
              "      <td>5.458235</td>\n",
              "      <td>46.769412</td>\n",
              "    </tr>\n",
              "    <tr>\n",
              "      <th>2</th>\n",
              "      <td>12350.0</td>\n",
              "      <td>197</td>\n",
              "      <td>11.588235</td>\n",
              "      <td>17</td>\n",
              "      <td>1</td>\n",
              "      <td>1</td>\n",
              "      <td>334.40</td>\n",
              "      <td>0.0</td>\n",
              "      <td>40.00</td>\n",
              "      <td>3.841176</td>\n",
              "      <td>19.670588</td>\n",
              "    </tr>\n",
              "    <tr>\n",
              "      <th>3</th>\n",
              "      <td>12352.0</td>\n",
              "      <td>188</td>\n",
              "      <td>4.476190</td>\n",
              "      <td>25</td>\n",
              "      <td>5</td>\n",
              "      <td>4</td>\n",
              "      <td>601.18</td>\n",
              "      <td>7.0</td>\n",
              "      <td>40.00</td>\n",
              "      <td>5.225476</td>\n",
              "      <td>14.313810</td>\n",
              "    </tr>\n",
              "    <tr>\n",
              "      <th>4</th>\n",
              "      <td>12353.0</td>\n",
              "      <td>20</td>\n",
              "      <td>5.000000</td>\n",
              "      <td>4</td>\n",
              "      <td>1</td>\n",
              "      <td>1</td>\n",
              "      <td>89.00</td>\n",
              "      <td>0.0</td>\n",
              "      <td>9.95</td>\n",
              "      <td>6.075000</td>\n",
              "      <td>22.250000</td>\n",
              "    </tr>\n",
              "  </tbody>\n",
              "</table>\n",
              "</div>"
            ],
            "text/plain": [
              "   customerid  total_quantity  average_quantity  products_spread  transactions  no_of_days_shopped  total_sales  no_return  max_price  avg_price  avg_spend\n",
              "0     12347.0            1350         10.975610               81             5                   5      2541.26        0.0      12.75   2.811951  20.660650\n",
              "1     12348.0             774         45.529412               16             3                   3       795.08        0.0      40.00   5.458235  46.769412\n",
              "2     12350.0             197         11.588235               17             1                   1       334.40        0.0      40.00   3.841176  19.670588\n",
              "3     12352.0             188          4.476190               25             5                   4       601.18        7.0      40.00   5.225476  14.313810\n",
              "4     12353.0              20          5.000000                4             1                   1        89.00        0.0       9.95   6.075000  22.250000"
            ]
          },
          "metadata": {
            "tags": []
          },
          "execution_count": 186
        }
      ]
    },
    {
      "cell_type": "code",
      "metadata": {
        "id": "_LBFNv3cjARh",
        "colab_type": "code",
        "outputId": "fe50deea-55e9-4f89-8262-b52c87328c2f",
        "colab": {
          "base_uri": "https://localhost:8080/",
          "height": 377
        }
      },
      "source": [
        "# Quick check on the data\n",
        "ABT1_train.describe().T"
      ],
      "execution_count": 187,
      "outputs": [
        {
          "output_type": "execute_result",
          "data": {
            "text/html": [
              "<div>\n",
              "<style scoped>\n",
              "    .dataframe tbody tr th:only-of-type {\n",
              "        vertical-align: middle;\n",
              "    }\n",
              "\n",
              "    .dataframe tbody tr th {\n",
              "        vertical-align: top;\n",
              "    }\n",
              "\n",
              "    .dataframe thead th {\n",
              "        text-align: right;\n",
              "    }\n",
              "</style>\n",
              "<table border=\"1\" class=\"dataframe\">\n",
              "  <thead>\n",
              "    <tr style=\"text-align: right;\">\n",
              "      <th></th>\n",
              "      <th>count</th>\n",
              "      <th>mean</th>\n",
              "      <th>std</th>\n",
              "      <th>min</th>\n",
              "      <th>25%</th>\n",
              "      <th>50%</th>\n",
              "      <th>75%</th>\n",
              "      <th>max</th>\n",
              "    </tr>\n",
              "  </thead>\n",
              "  <tbody>\n",
              "    <tr>\n",
              "      <th>customerid</th>\n",
              "      <td>3293.0</td>\n",
              "      <td>15281.355299</td>\n",
              "      <td>1724.417209</td>\n",
              "      <td>12347.000000</td>\n",
              "      <td>13792.000000</td>\n",
              "      <td>15241.000000</td>\n",
              "      <td>16768.000000</td>\n",
              "      <td>18287.00</td>\n",
              "    </tr>\n",
              "    <tr>\n",
              "      <th>total_quantity</th>\n",
              "      <td>3293.0</td>\n",
              "      <td>612.782569</td>\n",
              "      <td>1395.070395</td>\n",
              "      <td>-158.000000</td>\n",
              "      <td>115.000000</td>\n",
              "      <td>267.000000</td>\n",
              "      <td>657.000000</td>\n",
              "      <td>31520.00</td>\n",
              "    </tr>\n",
              "    <tr>\n",
              "      <th>average_quantity</th>\n",
              "      <td>3293.0</td>\n",
              "      <td>10.509676</td>\n",
              "      <td>9.362139</td>\n",
              "      <td>-26.000000</td>\n",
              "      <td>5.250000</td>\n",
              "      <td>8.888889</td>\n",
              "      <td>12.722222</td>\n",
              "      <td>96.00</td>\n",
              "    </tr>\n",
              "    <tr>\n",
              "      <th>products_spread</th>\n",
              "      <td>3293.0</td>\n",
              "      <td>48.997874</td>\n",
              "      <td>65.581086</td>\n",
              "      <td>1.000000</td>\n",
              "      <td>13.000000</td>\n",
              "      <td>29.000000</td>\n",
              "      <td>62.000000</td>\n",
              "      <td>1192.00</td>\n",
              "    </tr>\n",
              "    <tr>\n",
              "      <th>transactions</th>\n",
              "      <td>3293.0</td>\n",
              "      <td>3.996356</td>\n",
              "      <td>6.571597</td>\n",
              "      <td>1.000000</td>\n",
              "      <td>1.000000</td>\n",
              "      <td>2.000000</td>\n",
              "      <td>4.000000</td>\n",
              "      <td>132.00</td>\n",
              "    </tr>\n",
              "    <tr>\n",
              "      <th>no_of_days_shopped</th>\n",
              "      <td>3293.0</td>\n",
              "      <td>3.526875</td>\n",
              "      <td>4.935824</td>\n",
              "      <td>1.000000</td>\n",
              "      <td>1.000000</td>\n",
              "      <td>2.000000</td>\n",
              "      <td>4.000000</td>\n",
              "      <td>88.00</td>\n",
              "    </tr>\n",
              "    <tr>\n",
              "      <th>total_sales</th>\n",
              "      <td>3293.0</td>\n",
              "      <td>1090.012995</td>\n",
              "      <td>2319.953791</td>\n",
              "      <td>-367.000000</td>\n",
              "      <td>226.370000</td>\n",
              "      <td>487.750000</td>\n",
              "      <td>1156.580000</td>\n",
              "      <td>58851.11</td>\n",
              "    </tr>\n",
              "    <tr>\n",
              "      <th>no_return</th>\n",
              "      <td>3293.0</td>\n",
              "      <td>1.571515</td>\n",
              "      <td>5.084535</td>\n",
              "      <td>0.000000</td>\n",
              "      <td>0.000000</td>\n",
              "      <td>0.000000</td>\n",
              "      <td>1.000000</td>\n",
              "      <td>92.00</td>\n",
              "    </tr>\n",
              "    <tr>\n",
              "      <th>max_price</th>\n",
              "      <td>3293.0</td>\n",
              "      <td>14.640938</td>\n",
              "      <td>16.634974</td>\n",
              "      <td>0.390000</td>\n",
              "      <td>7.950000</td>\n",
              "      <td>12.750000</td>\n",
              "      <td>15.950000</td>\n",
              "      <td>165.00</td>\n",
              "    </tr>\n",
              "    <tr>\n",
              "      <th>avg_price</th>\n",
              "      <td>3293.0</td>\n",
              "      <td>3.569416</td>\n",
              "      <td>4.265009</td>\n",
              "      <td>0.298235</td>\n",
              "      <td>2.309607</td>\n",
              "      <td>3.046778</td>\n",
              "      <td>4.042121</td>\n",
              "      <td>165.00</td>\n",
              "    </tr>\n",
              "    <tr>\n",
              "      <th>avg_spend</th>\n",
              "      <td>3293.0</td>\n",
              "      <td>19.834716</td>\n",
              "      <td>17.704533</td>\n",
              "      <td>-66.240000</td>\n",
              "      <td>11.019000</td>\n",
              "      <td>16.603194</td>\n",
              "      <td>22.217966</td>\n",
              "      <td>177.60</td>\n",
              "    </tr>\n",
              "  </tbody>\n",
              "</table>\n",
              "</div>"
            ],
            "text/plain": [
              "                     count          mean          std           min           25%           50%           75%       max\n",
              "customerid          3293.0  15281.355299  1724.417209  12347.000000  13792.000000  15241.000000  16768.000000  18287.00\n",
              "total_quantity      3293.0    612.782569  1395.070395   -158.000000    115.000000    267.000000    657.000000  31520.00\n",
              "average_quantity    3293.0     10.509676     9.362139    -26.000000      5.250000      8.888889     12.722222     96.00\n",
              "products_spread     3293.0     48.997874    65.581086      1.000000     13.000000     29.000000     62.000000   1192.00\n",
              "transactions        3293.0      3.996356     6.571597      1.000000      1.000000      2.000000      4.000000    132.00\n",
              "no_of_days_shopped  3293.0      3.526875     4.935824      1.000000      1.000000      2.000000      4.000000     88.00\n",
              "total_sales         3293.0   1090.012995  2319.953791   -367.000000    226.370000    487.750000   1156.580000  58851.11\n",
              "no_return           3293.0      1.571515     5.084535      0.000000      0.000000      0.000000      1.000000     92.00\n",
              "max_price           3293.0     14.640938    16.634974      0.390000      7.950000     12.750000     15.950000    165.00\n",
              "avg_price           3293.0      3.569416     4.265009      0.298235      2.309607      3.046778      4.042121    165.00\n",
              "avg_spend           3293.0     19.834716    17.704533    -66.240000     11.019000     16.603194     22.217966    177.60"
            ]
          },
          "metadata": {
            "tags": []
          },
          "execution_count": 187
        }
      ]
    },
    {
      "cell_type": "code",
      "metadata": {
        "id": "xYfBp56zv5Nx",
        "colab_type": "code",
        "colab": {
          "base_uri": "https://localhost:8080/",
          "height": 34
        },
        "outputId": "192d5caf-fc16-4c91-ddd0-9058847ea998"
      },
      "source": [
        "# How many customers we have in our training dataset\n",
        "ABT1_train.customerid.count()"
      ],
      "execution_count": 189,
      "outputs": [
        {
          "output_type": "execute_result",
          "data": {
            "text/plain": [
              "3293"
            ]
          },
          "metadata": {
            "tags": []
          },
          "execution_count": 189
        }
      ]
    },
    {
      "cell_type": "code",
      "metadata": {
        "id": "LmyHbRElv5dR",
        "colab_type": "code",
        "colab": {}
      },
      "source": [
        "# Let us create our target variable for our training. This would be customers shopping in 2011 Oct\n",
        "start_date = '10-01-2011'\n",
        "end_date = '11-01-2011'\n",
        "\n",
        "# Subsetting our train DF for capturing response/target\n",
        "cleanecom_train_tar=cleanecom[(cleanecom[\"newdate\"]>=start_date) & (cleanecom[\"newdate\"]<end_date)]"
      ],
      "execution_count": 0,
      "outputs": []
    },
    {
      "cell_type": "code",
      "metadata": {
        "id": "wG974sMdv5mV",
        "colab_type": "code",
        "colab": {}
      },
      "source": [
        "# subsetting those customers shopped on 2011 Oct\n",
        "train_target_cust=pd.DataFrame(cleanecom_train_tar.customerid.unique())\n",
        "train_target_cust.rename(columns = {0:'customerid'}, inplace = True) \n",
        "train_target_cust['target']=1"
      ],
      "execution_count": 0,
      "outputs": []
    },
    {
      "cell_type": "code",
      "metadata": {
        "id": "OV9xrcRmv5u-",
        "colab_type": "code",
        "colab": {
          "base_uri": "https://localhost:8080/",
          "height": 34
        },
        "outputId": "2f258ab1-8321-46e0-94b5-b18eae44717d"
      },
      "source": [
        "# How many customers who have shopped in 2011 Oct\n",
        "train_target_cust.customerid.count()"
      ],
      "execution_count": 192,
      "outputs": [
        {
          "output_type": "execute_result",
          "data": {
            "text/plain": [
              "1407"
            ]
          },
          "metadata": {
            "tags": []
          },
          "execution_count": 192
        }
      ]
    },
    {
      "cell_type": "code",
      "metadata": {
        "id": "F_juA2GUv53_",
        "colab_type": "code",
        "colab": {
          "base_uri": "https://localhost:8080/",
          "height": 197
        },
        "outputId": "c937f733-3231-471f-cc9d-afa4d0f4b450"
      },
      "source": [
        "# We shall now intgrate the training target dataset to the training DF\n",
        "ABT1_train_tar = pd.merge(ABT1_train, train_target_cust, how='left', on=['customerid'])\n",
        "ABT1_train_tar['target'].fillna(0,inplace=True)\n",
        "ABT1_train_tar.head()"
      ],
      "execution_count": 193,
      "outputs": [
        {
          "output_type": "execute_result",
          "data": {
            "text/html": [
              "<div>\n",
              "<style scoped>\n",
              "    .dataframe tbody tr th:only-of-type {\n",
              "        vertical-align: middle;\n",
              "    }\n",
              "\n",
              "    .dataframe tbody tr th {\n",
              "        vertical-align: top;\n",
              "    }\n",
              "\n",
              "    .dataframe thead th {\n",
              "        text-align: right;\n",
              "    }\n",
              "</style>\n",
              "<table border=\"1\" class=\"dataframe\">\n",
              "  <thead>\n",
              "    <tr style=\"text-align: right;\">\n",
              "      <th></th>\n",
              "      <th>customerid</th>\n",
              "      <th>total_quantity</th>\n",
              "      <th>average_quantity</th>\n",
              "      <th>products_spread</th>\n",
              "      <th>transactions</th>\n",
              "      <th>no_of_days_shopped</th>\n",
              "      <th>total_sales</th>\n",
              "      <th>no_return</th>\n",
              "      <th>max_price</th>\n",
              "      <th>avg_price</th>\n",
              "      <th>avg_spend</th>\n",
              "      <th>target</th>\n",
              "    </tr>\n",
              "  </thead>\n",
              "  <tbody>\n",
              "    <tr>\n",
              "      <th>0</th>\n",
              "      <td>12347.0</td>\n",
              "      <td>1350</td>\n",
              "      <td>10.975610</td>\n",
              "      <td>81</td>\n",
              "      <td>5</td>\n",
              "      <td>5</td>\n",
              "      <td>2541.26</td>\n",
              "      <td>0.0</td>\n",
              "      <td>12.75</td>\n",
              "      <td>2.811951</td>\n",
              "      <td>20.660650</td>\n",
              "      <td>1.0</td>\n",
              "    </tr>\n",
              "    <tr>\n",
              "      <th>1</th>\n",
              "      <td>12348.0</td>\n",
              "      <td>774</td>\n",
              "      <td>45.529412</td>\n",
              "      <td>16</td>\n",
              "      <td>3</td>\n",
              "      <td>3</td>\n",
              "      <td>795.08</td>\n",
              "      <td>0.0</td>\n",
              "      <td>40.00</td>\n",
              "      <td>5.458235</td>\n",
              "      <td>46.769412</td>\n",
              "      <td>0.0</td>\n",
              "    </tr>\n",
              "    <tr>\n",
              "      <th>2</th>\n",
              "      <td>12350.0</td>\n",
              "      <td>197</td>\n",
              "      <td>11.588235</td>\n",
              "      <td>17</td>\n",
              "      <td>1</td>\n",
              "      <td>1</td>\n",
              "      <td>334.40</td>\n",
              "      <td>0.0</td>\n",
              "      <td>40.00</td>\n",
              "      <td>3.841176</td>\n",
              "      <td>19.670588</td>\n",
              "      <td>0.0</td>\n",
              "    </tr>\n",
              "    <tr>\n",
              "      <th>3</th>\n",
              "      <td>12352.0</td>\n",
              "      <td>188</td>\n",
              "      <td>4.476190</td>\n",
              "      <td>25</td>\n",
              "      <td>5</td>\n",
              "      <td>4</td>\n",
              "      <td>601.18</td>\n",
              "      <td>7.0</td>\n",
              "      <td>40.00</td>\n",
              "      <td>5.225476</td>\n",
              "      <td>14.313810</td>\n",
              "      <td>0.0</td>\n",
              "    </tr>\n",
              "    <tr>\n",
              "      <th>4</th>\n",
              "      <td>12353.0</td>\n",
              "      <td>20</td>\n",
              "      <td>5.000000</td>\n",
              "      <td>4</td>\n",
              "      <td>1</td>\n",
              "      <td>1</td>\n",
              "      <td>89.00</td>\n",
              "      <td>0.0</td>\n",
              "      <td>9.95</td>\n",
              "      <td>6.075000</td>\n",
              "      <td>22.250000</td>\n",
              "      <td>0.0</td>\n",
              "    </tr>\n",
              "  </tbody>\n",
              "</table>\n",
              "</div>"
            ],
            "text/plain": [
              "   customerid  total_quantity  average_quantity  products_spread  transactions  no_of_days_shopped  total_sales  no_return  max_price  avg_price  avg_spend  target\n",
              "0     12347.0            1350         10.975610               81             5                   5      2541.26        0.0      12.75   2.811951  20.660650     1.0\n",
              "1     12348.0             774         45.529412               16             3                   3       795.08        0.0      40.00   5.458235  46.769412     0.0\n",
              "2     12350.0             197         11.588235               17             1                   1       334.40        0.0      40.00   3.841176  19.670588     0.0\n",
              "3     12352.0             188          4.476190               25             5                   4       601.18        7.0      40.00   5.225476  14.313810     0.0\n",
              "4     12353.0              20          5.000000                4             1                   1        89.00        0.0       9.95   6.075000  22.250000     0.0"
            ]
          },
          "metadata": {
            "tags": []
          },
          "execution_count": 193
        }
      ]
    },
    {
      "cell_type": "code",
      "metadata": {
        "id": "ob6i4_4ev6Eh",
        "colab_type": "code",
        "colab": {
          "base_uri": "https://localhost:8080/",
          "height": 52
        },
        "outputId": "16cdf1f9-579e-4b3e-c1db-0c009230bee1"
      },
      "source": [
        "# Lets finally check how many cutomers in the training and of them who have shopped in 2011 Oct\n",
        "print(\"Total # of customers in training data is {}\".format(ABT1_train_tar.customerid.count()))\n",
        "print(\"Total # of customers who have shopped in training window and target window is {}\".format(ABT1_train_tar.target.sum()))"
      ],
      "execution_count": 194,
      "outputs": [
        {
          "output_type": "stream",
          "text": [
            "Total # of customers in training data is 3293\n",
            "Total # of customers who have shopped in training window and target window is 965.0\n"
          ],
          "name": "stdout"
        }
      ]
    },
    {
      "cell_type": "code",
      "metadata": {
        "id": "V57RIuizv6X5",
        "colab_type": "code",
        "colab": {
          "base_uri": "https://localhost:8080/",
          "height": 405
        },
        "outputId": "2b091135-ed51-4b2b-9925-93d6b7644ded"
      },
      "source": [
        "# It is generally a good practice to check outliers even after creating the ABT2. Since outliers create noise in your training data, it is advisable to remove if any\n",
        "# However we should not be removing outliers in Out of Time validation data as it acts a true data and it will give us a view of how model performs on real world data\n",
        "plt.boxplot(ABT1_train_tar.total_sales)\n",
        "\n",
        "# It looks like Sales has outliers. There are few outlier records"
      ],
      "execution_count": 195,
      "outputs": [
        {
          "output_type": "execute_result",
          "data": {
            "text/plain": [
              "{'boxes': [<matplotlib.lines.Line2D at 0x7f4ecdea9d68>],\n",
              " 'caps': [<matplotlib.lines.Line2D at 0x7f4ecde9c7b8>,\n",
              "  <matplotlib.lines.Line2D at 0x7f4ecde9cb38>],\n",
              " 'fliers': [<matplotlib.lines.Line2D at 0x7f4ecde91278>],\n",
              " 'means': [],\n",
              " 'medians': [<matplotlib.lines.Line2D at 0x7f4ecde9ceb8>],\n",
              " 'whiskers': [<matplotlib.lines.Line2D at 0x7f4ecde9c0b8>,\n",
              "  <matplotlib.lines.Line2D at 0x7f4ecde9c438>]}"
            ]
          },
          "metadata": {
            "tags": []
          },
          "execution_count": 195
        },
        {
          "output_type": "display_data",
          "data": {
            "image/png": "[encoded data removed]",
            "text/plain": [
              "<Figure size 432x288 with 1 Axes>"
            ]
          },
          "metadata": {
            "tags": [],
            "needs_background": "light"
          }
        }
      ]
    },
    {
      "cell_type": "code",
      "metadata": {
        "id": "bO5Eq9rkv6Qa",
        "colab_type": "code",
        "colab": {
          "base_uri": "https://localhost:8080/",
          "height": 227
        },
        "outputId": "b70b611a-8000-458d-a10b-69246541a713"
      },
      "source": [
        "# Getting pecentile across customer sales\n",
        "\n",
        "arr_univariate_righttail = [0.91, 0.92, 0.93, 0.94, 0.95, 0.96, 0.97, 0.98, 0.99, 0.995, 1]\n",
        "\n",
        "print(ABT1_train_tar['total_sales'].quantile(arr_univariate_righttail))"
      ],
      "execution_count": 196,
      "outputs": [
        {
          "output_type": "stream",
          "text": [
            "0.910     2596.0440\n",
            "0.920     2742.4576\n",
            "0.930     2992.6068\n",
            "0.940     3283.3376\n",
            "0.950     3790.2320\n",
            "0.960     4248.2936\n",
            "0.970     4945.8136\n",
            "0.980     6166.1016\n",
            "0.990     8071.9444\n",
            "0.995    12266.5580\n",
            "1.000    58851.1100\n",
            "Name: total_sales, dtype: float64\n"
          ],
          "name": "stdout"
        }
      ]
    },
    {
      "cell_type": "code",
      "metadata": {
        "id": "-wyr-ExdxUqN",
        "colab_type": "code",
        "colab": {
          "base_uri": "https://localhost:8080/",
          "height": 52
        },
        "outputId": "c91f10e1-4a1b-4df6-9b80-d05b5b6fb95b"
      },
      "source": [
        "# I'm going to cut the tail where sales is greater than 99th percentile. This is a bit subjective and you can remove outlier according to your judgment and business understanding\n",
        "\n",
        "ABT1_train_tar=ABT1_train_tar[~(ABT1_train_tar['total_sales']>ABT1_train_tar['total_sales'].quantile(0.995))]\n",
        "\n",
        "# Now, Lets finally check how many cutomers in the training and of them who have shopped in 2011 Oct after the outlier removal\n",
        "print(\"Total # of customers in training data is {}\".format(ABT1_train_tar.customerid.count()))\n",
        "print(\"Total # of customers who have shopped in training window and target window is {}\".format(ABT1_train_tar.target.sum()))\n"
      ],
      "execution_count": 197,
      "outputs": [
        {
          "output_type": "stream",
          "text": [
            "Total # of customers in training data is 3276\n",
            "Total # of customers who have shopped in training window and target window is 949.0\n"
          ],
          "name": "stdout"
        }
      ]
    },
    {
      "cell_type": "code",
      "metadata": {
        "id": "4Oo9HHXO1e4m",
        "colab_type": "code",
        "colab": {}
      },
      "source": [
        ""
      ],
      "execution_count": 0,
      "outputs": []
    },
    {
      "cell_type": "markdown",
      "metadata": {
        "id": "taqQPENs0AbT",
        "colab_type": "text"
      },
      "source": [
        "## Here are the steps to create the ABT2 for Out of Time Validation (OOT) Data\n",
        "\n",
        "What is OOT? this is"
      ]
    },
    {
      "cell_type": "code",
      "metadata": {
        "id": "7GcfBLF7xU4V",
        "colab_type": "code",
        "colab": {}
      },
      "source": [
        "# Time of building the ABT2 for Out of Time Validation. For this we are going to use customer behavior from 2011 Jan to  2011 Oct (10 months) to train the model. Target would be customers shopping in 2011 Nov\n",
        "start_date = '01-01-2011'\n",
        "end_date = '10-01-2011'\n",
        "\n",
        "# Subsetting our train DF \n",
        "cleanecom_oot_obs=cleanecom[(cleanecom[\"newdate\"]>=start_date) & (cleanecom[\"newdate\"]<end_date)]"
      ],
      "execution_count": 0,
      "outputs": []
    },
    {
      "cell_type": "code",
      "metadata": {
        "id": "2kXfvkLAxVAA",
        "colab_type": "code",
        "colab": {
          "base_uri": "https://localhost:8080/",
          "height": 197
        },
        "outputId": "af966483-c03c-47ae-8ed7-329a7f7afa57"
      },
      "source": [
        "# Building ABT2 for OOT. \n",
        "ABT2_oot = cleanecom_oot_obs.groupby(\n",
        "    by=['customerid'],\n",
        "    as_index=True).agg(  \n",
        "        total_quantity = ('quantity','sum'),            # total quantity purchased\n",
        "        average_quantity = ('quantity','mean'),         # monthly average quanity purchased in each transaction\n",
        "        products_spread = ('stockcode', 'nunique'),     # number of distinct products purchased\n",
        "        transactions = ('invoiceno', \"nunique\"),        # total number of transactions done\n",
        "        no_of_days_shopped = ('newdate', \"nunique\"),    # How many days customer shopped\n",
        "        total_sales = ('sales', 'sum'),                 # Total amount spent    \n",
        "        no_return=('return','sum'),                     # Number of returns\n",
        "        max_price= ('unitprice','max'),                 # highest price paid by customer\n",
        "        avg_price=('unitprice','mean'),                 # average price paid by customer in the month\n",
        "        avg_spend= ('sales','mean'),                    # average spend by the customer on a given month\n",
        ").reset_index()\n",
        "\n",
        "ABT2_oot.head()"
      ],
      "execution_count": 199,
      "outputs": [
        {
          "output_type": "execute_result",
          "data": {
            "text/html": [
              "<div>\n",
              "<style scoped>\n",
              "    .dataframe tbody tr th:only-of-type {\n",
              "        vertical-align: middle;\n",
              "    }\n",
              "\n",
              "    .dataframe tbody tr th {\n",
              "        vertical-align: top;\n",
              "    }\n",
              "\n",
              "    .dataframe thead th {\n",
              "        text-align: right;\n",
              "    }\n",
              "</style>\n",
              "<table border=\"1\" class=\"dataframe\">\n",
              "  <thead>\n",
              "    <tr style=\"text-align: right;\">\n",
              "      <th></th>\n",
              "      <th>customerid</th>\n",
              "      <th>total_quantity</th>\n",
              "      <th>average_quantity</th>\n",
              "      <th>products_spread</th>\n",
              "      <th>transactions</th>\n",
              "      <th>no_of_days_shopped</th>\n",
              "      <th>total_sales</th>\n",
              "      <th>no_return</th>\n",
              "      <th>max_price</th>\n",
              "      <th>avg_price</th>\n",
              "      <th>avg_spend</th>\n",
              "    </tr>\n",
              "  </thead>\n",
              "  <tbody>\n",
              "    <tr>\n",
              "      <th>0</th>\n",
              "      <td>12347.0</td>\n",
              "      <td>1031</td>\n",
              "      <td>11.206522</td>\n",
              "      <td>64</td>\n",
              "      <td>4</td>\n",
              "      <td>4</td>\n",
              "      <td>1829.47</td>\n",
              "      <td>0.0</td>\n",
              "      <td>12.75</td>\n",
              "      <td>2.785652</td>\n",
              "      <td>19.885543</td>\n",
              "    </tr>\n",
              "    <tr>\n",
              "      <th>1</th>\n",
              "      <td>12348.0</td>\n",
              "      <td>391</td>\n",
              "      <td>43.444444</td>\n",
              "      <td>6</td>\n",
              "      <td>3</td>\n",
              "      <td>3</td>\n",
              "      <td>587.40</td>\n",
              "      <td>0.0</td>\n",
              "      <td>40.00</td>\n",
              "      <td>14.077778</td>\n",
              "      <td>65.266667</td>\n",
              "    </tr>\n",
              "    <tr>\n",
              "      <th>2</th>\n",
              "      <td>12350.0</td>\n",
              "      <td>197</td>\n",
              "      <td>11.588235</td>\n",
              "      <td>17</td>\n",
              "      <td>1</td>\n",
              "      <td>1</td>\n",
              "      <td>334.40</td>\n",
              "      <td>0.0</td>\n",
              "      <td>40.00</td>\n",
              "      <td>3.841176</td>\n",
              "      <td>19.670588</td>\n",
              "    </tr>\n",
              "    <tr>\n",
              "      <th>3</th>\n",
              "      <td>12352.0</td>\n",
              "      <td>343</td>\n",
              "      <td>4.635135</td>\n",
              "      <td>46</td>\n",
              "      <td>7</td>\n",
              "      <td>6</td>\n",
              "      <td>1233.68</td>\n",
              "      <td>7.0</td>\n",
              "      <td>40.00</td>\n",
              "      <td>5.999595</td>\n",
              "      <td>16.671351</td>\n",
              "    </tr>\n",
              "    <tr>\n",
              "      <th>4</th>\n",
              "      <td>12353.0</td>\n",
              "      <td>20</td>\n",
              "      <td>5.000000</td>\n",
              "      <td>4</td>\n",
              "      <td>1</td>\n",
              "      <td>1</td>\n",
              "      <td>89.00</td>\n",
              "      <td>0.0</td>\n",
              "      <td>9.95</td>\n",
              "      <td>6.075000</td>\n",
              "      <td>22.250000</td>\n",
              "    </tr>\n",
              "  </tbody>\n",
              "</table>\n",
              "</div>"
            ],
            "text/plain": [
              "   customerid  total_quantity  average_quantity  products_spread  transactions  no_of_days_shopped  total_sales  no_return  max_price  avg_price  avg_spend\n",
              "0     12347.0            1031         11.206522               64             4                   4      1829.47        0.0      12.75   2.785652  19.885543\n",
              "1     12348.0             391         43.444444                6             3                   3       587.40        0.0      40.00  14.077778  65.266667\n",
              "2     12350.0             197         11.588235               17             1                   1       334.40        0.0      40.00   3.841176  19.670588\n",
              "3     12352.0             343          4.635135               46             7                   6      1233.68        7.0      40.00   5.999595  16.671351\n",
              "4     12353.0              20          5.000000                4             1                   1        89.00        0.0       9.95   6.075000  22.250000"
            ]
          },
          "metadata": {
            "tags": []
          },
          "execution_count": 199
        }
      ]
    },
    {
      "cell_type": "code",
      "metadata": {
        "id": "y-TtVPTexVKu",
        "colab_type": "code",
        "colab": {
          "base_uri": "https://localhost:8080/",
          "height": 34
        },
        "outputId": "4fc6c5b7-30c4-4967-e423-3aa66299406b"
      },
      "source": [
        "# How many customers we have in our training dataset\n",
        "ABT2_oot.customerid.count()"
      ],
      "execution_count": 200,
      "outputs": [
        {
          "output_type": "execute_result",
          "data": {
            "text/plain": [
              "3401"
            ]
          },
          "metadata": {
            "tags": []
          },
          "execution_count": 200
        }
      ]
    },
    {
      "cell_type": "code",
      "metadata": {
        "id": "sUg8RWib2eEu",
        "colab_type": "code",
        "colab": {}
      },
      "source": [
        "# Let us create our target variable for our OOT. This would be customers shopping in 2011 Nov\n",
        "start_date = '11-01-2011'\n",
        "end_date = '12-01-2011'\n",
        "\n",
        "# Subsetting our OOT DF for capturing response/target\n",
        "cleanecom_oot_tar=cleanecom[(cleanecom[\"newdate\"]>=start_date) & (cleanecom[\"newdate\"]<end_date)]"
      ],
      "execution_count": 0,
      "outputs": []
    },
    {
      "cell_type": "code",
      "metadata": {
        "id": "48D8-Una2eby",
        "colab_type": "code",
        "colab": {}
      },
      "source": [
        "# subsetting those customers shopped on 2011 Nov\n",
        "oot_target_cust=pd.DataFrame(cleanecom_oot_tar.customerid.unique())\n",
        "oot_target_cust.rename(columns = {0:'customerid'}, inplace = True) \n",
        "oot_target_cust['target']=1"
      ],
      "execution_count": 0,
      "outputs": []
    },
    {
      "cell_type": "code",
      "metadata": {
        "id": "4ACWQDAD2exJ",
        "colab_type": "code",
        "colab": {
          "base_uri": "https://localhost:8080/",
          "height": 34
        },
        "outputId": "b4767259-87ea-4ba1-8919-7717158d007f"
      },
      "source": [
        "# How many customers who have shopped in 2011 Nov\n",
        "oot_target_cust.customerid.count()"
      ],
      "execution_count": 203,
      "outputs": [
        {
          "output_type": "execute_result",
          "data": {
            "text/plain": [
              "1682"
            ]
          },
          "metadata": {
            "tags": []
          },
          "execution_count": 203
        }
      ]
    },
    {
      "cell_type": "code",
      "metadata": {
        "id": "NOfYHrCy2fD8",
        "colab_type": "code",
        "colab": {
          "base_uri": "https://localhost:8080/",
          "height": 197
        },
        "outputId": "d9e69de5-e0f4-4894-d900-762414d2194e"
      },
      "source": [
        "# We shall now intgrate the OOT target dataset to the OOT DF\n",
        "ABT2_oot_tar = pd.merge(ABT2_oot, oot_target_cust, how='left', on=['customerid'])\n",
        "ABT2_oot_tar['target'].fillna(0,inplace=True)\n",
        "ABT2_oot_tar.head()"
      ],
      "execution_count": 204,
      "outputs": [
        {
          "output_type": "execute_result",
          "data": {
            "text/html": [
              "<div>\n",
              "<style scoped>\n",
              "    .dataframe tbody tr th:only-of-type {\n",
              "        vertical-align: middle;\n",
              "    }\n",
              "\n",
              "    .dataframe tbody tr th {\n",
              "        vertical-align: top;\n",
              "    }\n",
              "\n",
              "    .dataframe thead th {\n",
              "        text-align: right;\n",
              "    }\n",
              "</style>\n",
              "<table border=\"1\" class=\"dataframe\">\n",
              "  <thead>\n",
              "    <tr style=\"text-align: right;\">\n",
              "      <th></th>\n",
              "      <th>customerid</th>\n",
              "      <th>total_quantity</th>\n",
              "      <th>average_quantity</th>\n",
              "      <th>products_spread</th>\n",
              "      <th>transactions</th>\n",
              "      <th>no_of_days_shopped</th>\n",
              "      <th>total_sales</th>\n",
              "      <th>no_return</th>\n",
              "      <th>max_price</th>\n",
              "      <th>avg_price</th>\n",
              "      <th>avg_spend</th>\n",
              "      <th>target</th>\n",
              "    </tr>\n",
              "  </thead>\n",
              "  <tbody>\n",
              "    <tr>\n",
              "      <th>0</th>\n",
              "      <td>12347.0</td>\n",
              "      <td>1031</td>\n",
              "      <td>11.206522</td>\n",
              "      <td>64</td>\n",
              "      <td>4</td>\n",
              "      <td>4</td>\n",
              "      <td>1829.47</td>\n",
              "      <td>0.0</td>\n",
              "      <td>12.75</td>\n",
              "      <td>2.785652</td>\n",
              "      <td>19.885543</td>\n",
              "      <td>0.0</td>\n",
              "    </tr>\n",
              "    <tr>\n",
              "      <th>1</th>\n",
              "      <td>12348.0</td>\n",
              "      <td>391</td>\n",
              "      <td>43.444444</td>\n",
              "      <td>6</td>\n",
              "      <td>3</td>\n",
              "      <td>3</td>\n",
              "      <td>587.40</td>\n",
              "      <td>0.0</td>\n",
              "      <td>40.00</td>\n",
              "      <td>14.077778</td>\n",
              "      <td>65.266667</td>\n",
              "      <td>0.0</td>\n",
              "    </tr>\n",
              "    <tr>\n",
              "      <th>2</th>\n",
              "      <td>12350.0</td>\n",
              "      <td>197</td>\n",
              "      <td>11.588235</td>\n",
              "      <td>17</td>\n",
              "      <td>1</td>\n",
              "      <td>1</td>\n",
              "      <td>334.40</td>\n",
              "      <td>0.0</td>\n",
              "      <td>40.00</td>\n",
              "      <td>3.841176</td>\n",
              "      <td>19.670588</td>\n",
              "      <td>0.0</td>\n",
              "    </tr>\n",
              "    <tr>\n",
              "      <th>3</th>\n",
              "      <td>12352.0</td>\n",
              "      <td>343</td>\n",
              "      <td>4.635135</td>\n",
              "      <td>46</td>\n",
              "      <td>7</td>\n",
              "      <td>6</td>\n",
              "      <td>1233.68</td>\n",
              "      <td>7.0</td>\n",
              "      <td>40.00</td>\n",
              "      <td>5.999595</td>\n",
              "      <td>16.671351</td>\n",
              "      <td>1.0</td>\n",
              "    </tr>\n",
              "    <tr>\n",
              "      <th>4</th>\n",
              "      <td>12353.0</td>\n",
              "      <td>20</td>\n",
              "      <td>5.000000</td>\n",
              "      <td>4</td>\n",
              "      <td>1</td>\n",
              "      <td>1</td>\n",
              "      <td>89.00</td>\n",
              "      <td>0.0</td>\n",
              "      <td>9.95</td>\n",
              "      <td>6.075000</td>\n",
              "      <td>22.250000</td>\n",
              "      <td>0.0</td>\n",
              "    </tr>\n",
              "  </tbody>\n",
              "</table>\n",
              "</div>"
            ],
            "text/plain": [
              "   customerid  total_quantity  average_quantity  products_spread  transactions  no_of_days_shopped  total_sales  no_return  max_price  avg_price  avg_spend  target\n",
              "0     12347.0            1031         11.206522               64             4                   4      1829.47        0.0      12.75   2.785652  19.885543     0.0\n",
              "1     12348.0             391         43.444444                6             3                   3       587.40        0.0      40.00  14.077778  65.266667     0.0\n",
              "2     12350.0             197         11.588235               17             1                   1       334.40        0.0      40.00   3.841176  19.670588     0.0\n",
              "3     12352.0             343          4.635135               46             7                   6      1233.68        7.0      40.00   5.999595  16.671351     1.0\n",
              "4     12353.0              20          5.000000                4             1                   1        89.00        0.0       9.95   6.075000  22.250000     0.0"
            ]
          },
          "metadata": {
            "tags": []
          },
          "execution_count": 204
        }
      ]
    },
    {
      "cell_type": "code",
      "metadata": {
        "id": "8L1Z20iNv6Aa",
        "colab_type": "code",
        "colab": {
          "base_uri": "https://localhost:8080/",
          "height": 52
        },
        "outputId": "42770ab9-8495-485f-f8a7-40d81b67608d"
      },
      "source": [
        "# Lets finally check how many cutomers in the oot and of them who have shopped in 2011 Nov\n",
        "print(\"Total # of customers in OOT data is {}\".format(ABT2_oot_tar.customerid.count()))\n",
        "print(\"Total # of customers who have shopped in OOT window and target window is {}\".format(ABT2_oot_tar.target.sum()))"
      ],
      "execution_count": 205,
      "outputs": [
        {
          "output_type": "stream",
          "text": [
            "Total # of customers in OOT data is 3401\n",
            "Total # of customers who have shopped in OOT window and target window is 1228.0\n"
          ],
          "name": "stdout"
        }
      ]
    },
    {
      "cell_type": "markdown",
      "metadata": {
        "id": "B0TiuVz97OHs",
        "colab_type": "text"
      },
      "source": [
        "## So now you have both training data ABT and OOT data ABT done and ready for Model training and validation.\n",
        "\n",
        "We want to show another way of creating the ABT . This is useful when you have large nuber of columns and doing hardcoded feature is costly ask.\n",
        "\n",
        "\n",
        "Insted of hardcoding the columns of ABT in groupby statement .. you might want to do it in little smarter way.\n",
        "\n",
        "However I still like the earleir approach for any quanitative data. It gives me a feel of satisfaction.\n",
        "\n"
      ]
    },
    {
      "cell_type": "code",
      "metadata": {
        "id": "vvFXn-AfjLfw",
        "colab_type": "code",
        "colab": {}
      },
      "source": [
        "# Just to showcase I am taking less data points\n",
        "ABT2= cleanecom.groupby([\"customerid\",\"year\",\"month\"]).agg({\"quantity\":[\"sum\",\"count\"], \"sales\": [\"sum\"], \"unitprice\": [\"mean\"], \"stockcode\": [\"nunique\"], \"return\":[\"sum\"]}).reset_index()"
      ],
      "execution_count": 0,
      "outputs": []
    },
    {
      "cell_type": "code",
      "metadata": {
        "id": "Vd-SL5-Zlsyr",
        "colab_type": "code",
        "outputId": "62a71c83-d99e-4b63-eb62-76771a7975e0",
        "colab": {
          "base_uri": "https://localhost:8080/",
          "height": 167
        }
      },
      "source": [
        "ABT2.head(3)"
      ],
      "execution_count": 210,
      "outputs": [
        {
          "output_type": "execute_result",
          "data": {
            "text/html": [
              "<div>\n",
              "<style scoped>\n",
              "    .dataframe tbody tr th:only-of-type {\n",
              "        vertical-align: middle;\n",
              "    }\n",
              "\n",
              "    .dataframe tbody tr th {\n",
              "        vertical-align: top;\n",
              "    }\n",
              "\n",
              "    .dataframe thead tr th {\n",
              "        text-align: left;\n",
              "    }\n",
              "</style>\n",
              "<table border=\"1\" class=\"dataframe\">\n",
              "  <thead>\n",
              "    <tr>\n",
              "      <th></th>\n",
              "      <th>customerid</th>\n",
              "      <th>year</th>\n",
              "      <th>month</th>\n",
              "      <th colspan=\"2\" halign=\"left\">quantity</th>\n",
              "      <th>sales</th>\n",
              "      <th>unitprice</th>\n",
              "      <th>stockcode</th>\n",
              "      <th>return</th>\n",
              "    </tr>\n",
              "    <tr>\n",
              "      <th></th>\n",
              "      <th></th>\n",
              "      <th></th>\n",
              "      <th></th>\n",
              "      <th>sum</th>\n",
              "      <th>count</th>\n",
              "      <th>sum</th>\n",
              "      <th>mean</th>\n",
              "      <th>nunique</th>\n",
              "      <th>sum</th>\n",
              "    </tr>\n",
              "  </thead>\n",
              "  <tbody>\n",
              "    <tr>\n",
              "      <th>0</th>\n",
              "      <td>12347.0</td>\n",
              "      <td>2010</td>\n",
              "      <td>December</td>\n",
              "      <td>319</td>\n",
              "      <td>31</td>\n",
              "      <td>711.79</td>\n",
              "      <td>2.890000</td>\n",
              "      <td>31</td>\n",
              "      <td>0.0</td>\n",
              "    </tr>\n",
              "    <tr>\n",
              "      <th>1</th>\n",
              "      <td>12347.0</td>\n",
              "      <td>2011</td>\n",
              "      <td>April</td>\n",
              "      <td>243</td>\n",
              "      <td>23</td>\n",
              "      <td>386.65</td>\n",
              "      <td>2.663043</td>\n",
              "      <td>23</td>\n",
              "      <td>0.0</td>\n",
              "    </tr>\n",
              "    <tr>\n",
              "      <th>2</th>\n",
              "      <td>12347.0</td>\n",
              "      <td>2011</td>\n",
              "      <td>August</td>\n",
              "      <td>277</td>\n",
              "      <td>22</td>\n",
              "      <td>584.91</td>\n",
              "      <td>3.101818</td>\n",
              "      <td>22</td>\n",
              "      <td>0.0</td>\n",
              "    </tr>\n",
              "  </tbody>\n",
              "</table>\n",
              "</div>"
            ],
            "text/plain": [
              "  customerid  year     month quantity         sales unitprice stockcode return\n",
              "                                  sum count     sum      mean   nunique    sum\n",
              "0    12347.0  2010  December      319    31  711.79  2.890000        31    0.0\n",
              "1    12347.0  2011     April      243    23  386.65  2.663043        23    0.0\n",
              "2    12347.0  2011    August      277    22  584.91  3.101818        22    0.0"
            ]
          },
          "metadata": {
            "tags": []
          },
          "execution_count": 210
        }
      ]
    },
    {
      "cell_type": "code",
      "metadata": {
        "id": "zjacctCil81a",
        "colab_type": "code",
        "outputId": "1d8ff155-79cf-42de-e664-8007800d10cf",
        "colab": {
          "base_uri": "https://localhost:8080/",
          "height": 192
        }
      },
      "source": [
        "ABT2.columns"
      ],
      "execution_count": 211,
      "outputs": [
        {
          "output_type": "execute_result",
          "data": {
            "text/plain": [
              "MultiIndex([('customerid',        ''),\n",
              "            (      'year',        ''),\n",
              "            (     'month',        ''),\n",
              "            (  'quantity',     'sum'),\n",
              "            (  'quantity',   'count'),\n",
              "            (     'sales',     'sum'),\n",
              "            ( 'unitprice',    'mean'),\n",
              "            ( 'stockcode', 'nunique'),\n",
              "            (    'return',     'sum')],\n",
              "           )"
            ]
          },
          "metadata": {
            "tags": []
          },
          "execution_count": 211
        }
      ]
    },
    {
      "cell_type": "markdown",
      "metadata": {
        "id": "fVu_hudjme2x",
        "colab_type": "text"
      },
      "source": [
        "### We have a multiindex colums ........ ravel() comes to rescue. Thsi is a very nice functionality and in the below example I shall show you how you can get maximum benefit of this!"
      ]
    },
    {
      "cell_type": "code",
      "metadata": {
        "id": "PbiuXpbimB4v",
        "colab_type": "code",
        "outputId": "c9c54e2f-8f3d-4f82-84c6-351852419c6e",
        "colab": {
          "base_uri": "https://localhost:8080/",
          "height": 87
        }
      },
      "source": [
        "# Hope you see how the column names are? we need to somehow join them and change dynamically\n",
        "\n",
        "ABT2.columns.ravel()"
      ],
      "execution_count": 212,
      "outputs": [
        {
          "output_type": "execute_result",
          "data": {
            "text/plain": [
              "array([('customerid', ''), ('year', ''), ('month', ''),\n",
              "       ('quantity', 'sum'), ('quantity', 'count'), ('sales', 'sum'),\n",
              "       ('unitprice', 'mean'), ('stockcode', 'nunique'), ('return', 'sum')],\n",
              "      dtype=object)"
            ]
          },
          "metadata": {
            "tags": []
          },
          "execution_count": 212
        }
      ]
    },
    {
      "cell_type": "code",
      "metadata": {
        "id": "eATkNobamRki",
        "colab_type": "code",
        "outputId": "de671a83-8a6d-4104-f6b0-d8862b912b8b",
        "colab": {
          "base_uri": "https://localhost:8080/",
          "height": 174
        }
      },
      "source": [
        "# using above tuples we need to create columns \n",
        "\n",
        "[ i for i in ABT2.columns.ravel() ]"
      ],
      "execution_count": 214,
      "outputs": [
        {
          "output_type": "execute_result",
          "data": {
            "text/plain": [
              "[('customerid', ''),\n",
              " ('year', ''),\n",
              " ('month', ''),\n",
              " ('quantity', 'sum'),\n",
              " ('quantity', 'count'),\n",
              " ('sales', 'sum'),\n",
              " ('unitprice', 'mean'),\n",
              " ('stockcode', 'nunique'),\n",
              " ('return', 'sum')]"
            ]
          },
          "metadata": {
            "tags": []
          },
          "execution_count": 214
        }
      ]
    },
    {
      "cell_type": "code",
      "metadata": {
        "id": "cp5iLhIfmUFi",
        "colab_type": "code",
        "outputId": "620b571a-d856-47df-b23c-de71892364a5",
        "colab": {
          "base_uri": "https://localhost:8080/",
          "height": 174
        }
      },
      "source": [
        "[ \"_\".join (i) for i in ABT2.columns.ravel() ] # hoining both the eliment in the list using \"_\""
      ],
      "execution_count": 215,
      "outputs": [
        {
          "output_type": "execute_result",
          "data": {
            "text/plain": [
              "['customerid_',\n",
              " 'year_',\n",
              " 'month_',\n",
              " 'quantity_sum',\n",
              " 'quantity_count',\n",
              " 'sales_sum',\n",
              " 'unitprice_mean',\n",
              " 'stockcode_nunique',\n",
              " 'return_sum']"
            ]
          },
          "metadata": {
            "tags": []
          },
          "execution_count": 215
        }
      ]
    },
    {
      "cell_type": "code",
      "metadata": {
        "id": "8T2AtPWzmXKp",
        "colab_type": "code",
        "outputId": "5b0248c1-ac51-419b-872c-ed0fb00c2f3d",
        "colab": {
          "base_uri": "https://localhost:8080/",
          "height": 174
        }
      },
      "source": [
        "[i[0] if len(i[1])==0 else \"_\".join (i) for i in ABT2.columns.ravel()] # putting a condition in case the second eliment is null then don't concatenate else concatenate"
      ],
      "execution_count": 216,
      "outputs": [
        {
          "output_type": "execute_result",
          "data": {
            "text/plain": [
              "['customerid',\n",
              " 'year',\n",
              " 'month',\n",
              " 'quantity_sum',\n",
              " 'quantity_count',\n",
              " 'sales_sum',\n",
              " 'unitprice_mean',\n",
              " 'stockcode_nunique',\n",
              " 'return_sum']"
            ]
          },
          "metadata": {
            "tags": []
          },
          "execution_count": 216
        }
      ]
    },
    {
      "cell_type": "code",
      "metadata": {
        "id": "jzC-pToOmZy7",
        "colab_type": "code",
        "colab": {}
      },
      "source": [
        "# Hurray we have our columns ready. Now we can jsut assign the same back to the dataframe.\n",
        "\n",
        "ABT2.columns = [i[0] if len(i[1])==0 else \"_\".join (i) for i in ABT2.columns.ravel()]"
      ],
      "execution_count": 0,
      "outputs": []
    },
    {
      "cell_type": "code",
      "metadata": {
        "id": "juOciolYoKqm",
        "colab_type": "code",
        "outputId": "5a66c276-4eb5-4709-c5c4-bb47d4ae73d4",
        "colab": {
          "base_uri": "https://localhost:8080/",
          "height": 107
        }
      },
      "source": [
        "ABT2.head(2)"
      ],
      "execution_count": 219,
      "outputs": [
        {
          "output_type": "execute_result",
          "data": {
            "text/html": [
              "<div>\n",
              "<style scoped>\n",
              "    .dataframe tbody tr th:only-of-type {\n",
              "        vertical-align: middle;\n",
              "    }\n",
              "\n",
              "    .dataframe tbody tr th {\n",
              "        vertical-align: top;\n",
              "    }\n",
              "\n",
              "    .dataframe thead th {\n",
              "        text-align: right;\n",
              "    }\n",
              "</style>\n",
              "<table border=\"1\" class=\"dataframe\">\n",
              "  <thead>\n",
              "    <tr style=\"text-align: right;\">\n",
              "      <th></th>\n",
              "      <th>customerid</th>\n",
              "      <th>year</th>\n",
              "      <th>month</th>\n",
              "      <th>quantity_sum</th>\n",
              "      <th>quantity_count</th>\n",
              "      <th>sales_sum</th>\n",
              "      <th>unitprice_mean</th>\n",
              "      <th>stockcode_nunique</th>\n",
              "      <th>return_sum</th>\n",
              "    </tr>\n",
              "  </thead>\n",
              "  <tbody>\n",
              "    <tr>\n",
              "      <th>0</th>\n",
              "      <td>12347.0</td>\n",
              "      <td>2010</td>\n",
              "      <td>December</td>\n",
              "      <td>319</td>\n",
              "      <td>31</td>\n",
              "      <td>711.79</td>\n",
              "      <td>2.890000</td>\n",
              "      <td>31</td>\n",
              "      <td>0.0</td>\n",
              "    </tr>\n",
              "    <tr>\n",
              "      <th>1</th>\n",
              "      <td>12347.0</td>\n",
              "      <td>2011</td>\n",
              "      <td>April</td>\n",
              "      <td>243</td>\n",
              "      <td>23</td>\n",
              "      <td>386.65</td>\n",
              "      <td>2.663043</td>\n",
              "      <td>23</td>\n",
              "      <td>0.0</td>\n",
              "    </tr>\n",
              "  </tbody>\n",
              "</table>\n",
              "</div>"
            ],
            "text/plain": [
              "   customerid  year     month  quantity_sum  quantity_count  sales_sum  unitprice_mean  stockcode_nunique  return_sum\n",
              "0     12347.0  2010  December           319              31     711.79        2.890000                 31         0.0\n",
              "1     12347.0  2011     April           243              23     386.65        2.663043                 23         0.0"
            ]
          },
          "metadata": {
            "tags": []
          },
          "execution_count": 219
        }
      ]
    },
    {
      "cell_type": "code",
      "metadata": {
        "id": "bVUxoZJDoRP0",
        "colab_type": "code",
        "outputId": "8004a737-314e-463f-bd8e-f95395ad2677",
        "colab": {
          "base_uri": "https://localhost:8080/",
          "height": 227
        }
      },
      "source": [
        "# Let's create a year month variable\n",
        "ABT2.month.apply(lambda X: X[0:3])"
      ],
      "execution_count": 221,
      "outputs": [
        {
          "output_type": "execute_result",
          "data": {
            "text/plain": [
              "0        Dec\n",
              "1        Apr\n",
              "2        Aug\n",
              "3        Dec\n",
              "4        Jan\n",
              "        ... \n",
              "13345    Nov\n",
              "13346    Oct\n",
              "13347    Sep\n",
              "13348    May\n",
              "13349    Oct\n",
              "Name: month, Length: 13350, dtype: object"
            ]
          },
          "metadata": {
            "tags": []
          },
          "execution_count": 221
        }
      ]
    },
    {
      "cell_type": "code",
      "metadata": {
        "id": "tsoXl_KMpnwn",
        "colab_type": "code",
        "outputId": "b07bfc13-ee33-46d9-c197-265d608b1518",
        "colab": {
          "base_uri": "https://localhost:8080/",
          "height": 347
        }
      },
      "source": [
        "# Will experiment based on 10 records first and then, once we are satisfied with everything then we shall apply to the rest of the dataframe\n",
        "\n",
        "ABT2[[\"year\",\"month\"]][:10]"
      ],
      "execution_count": 224,
      "outputs": [
        {
          "output_type": "execute_result",
          "data": {
            "text/html": [
              "<div>\n",
              "<style scoped>\n",
              "    .dataframe tbody tr th:only-of-type {\n",
              "        vertical-align: middle;\n",
              "    }\n",
              "\n",
              "    .dataframe tbody tr th {\n",
              "        vertical-align: top;\n",
              "    }\n",
              "\n",
              "    .dataframe thead th {\n",
              "        text-align: right;\n",
              "    }\n",
              "</style>\n",
              "<table border=\"1\" class=\"dataframe\">\n",
              "  <thead>\n",
              "    <tr style=\"text-align: right;\">\n",
              "      <th></th>\n",
              "      <th>year</th>\n",
              "      <th>month</th>\n",
              "    </tr>\n",
              "  </thead>\n",
              "  <tbody>\n",
              "    <tr>\n",
              "      <th>0</th>\n",
              "      <td>2010</td>\n",
              "      <td>December</td>\n",
              "    </tr>\n",
              "    <tr>\n",
              "      <th>1</th>\n",
              "      <td>2011</td>\n",
              "      <td>April</td>\n",
              "    </tr>\n",
              "    <tr>\n",
              "      <th>2</th>\n",
              "      <td>2011</td>\n",
              "      <td>August</td>\n",
              "    </tr>\n",
              "    <tr>\n",
              "      <th>3</th>\n",
              "      <td>2011</td>\n",
              "      <td>December</td>\n",
              "    </tr>\n",
              "    <tr>\n",
              "      <th>4</th>\n",
              "      <td>2011</td>\n",
              "      <td>January</td>\n",
              "    </tr>\n",
              "    <tr>\n",
              "      <th>5</th>\n",
              "      <td>2011</td>\n",
              "      <td>June</td>\n",
              "    </tr>\n",
              "    <tr>\n",
              "      <th>6</th>\n",
              "      <td>2011</td>\n",
              "      <td>October</td>\n",
              "    </tr>\n",
              "    <tr>\n",
              "      <th>7</th>\n",
              "      <td>2010</td>\n",
              "      <td>December</td>\n",
              "    </tr>\n",
              "    <tr>\n",
              "      <th>8</th>\n",
              "      <td>2011</td>\n",
              "      <td>April</td>\n",
              "    </tr>\n",
              "    <tr>\n",
              "      <th>9</th>\n",
              "      <td>2011</td>\n",
              "      <td>January</td>\n",
              "    </tr>\n",
              "  </tbody>\n",
              "</table>\n",
              "</div>"
            ],
            "text/plain": [
              "   year     month\n",
              "0  2010  December\n",
              "1  2011     April\n",
              "2  2011    August\n",
              "3  2011  December\n",
              "4  2011   January\n",
              "5  2011      June\n",
              "6  2011   October\n",
              "7  2010  December\n",
              "8  2011     April\n",
              "9  2011   January"
            ]
          },
          "metadata": {
            "tags": []
          },
          "execution_count": 224
        }
      ]
    },
    {
      "cell_type": "code",
      "metadata": {
        "id": "dZ2zRJsbp_PU",
        "colab_type": "code",
        "outputId": "dbc8bdb8-d6d5-4eed-ed51-1d2c426e19e8",
        "colab": {
          "base_uri": "https://localhost:8080/",
          "height": 209
        }
      },
      "source": [
        "ABT2[[\"year\",\"month\"]][:10].apply(lambda X: \"{}_{}\".format(X[\"year\"], X[\"month\"]),axis= 1) # concatenating using format "
      ],
      "execution_count": 225,
      "outputs": [
        {
          "output_type": "execute_result",
          "data": {
            "text/plain": [
              "0    2010_December\n",
              "1       2011_April\n",
              "2      2011_August\n",
              "3    2011_December\n",
              "4     2011_January\n",
              "5        2011_June\n",
              "6     2011_October\n",
              "7    2010_December\n",
              "8       2011_April\n",
              "9     2011_January\n",
              "dtype: object"
            ]
          },
          "metadata": {
            "tags": []
          },
          "execution_count": 225
        }
      ]
    },
    {
      "cell_type": "code",
      "metadata": {
        "id": "BP7B9orPqjBV",
        "colab_type": "code",
        "outputId": "7c5cdeea-2b60-4ca4-ad66-cc5b6746da32",
        "colab": {
          "base_uri": "https://localhost:8080/",
          "height": 209
        }
      },
      "source": [
        "# Let's do it for just 3 digit of the month\n",
        "ABT2[[\"year\",\"month\"]][:10].apply(lambda X: \"{}_{}\".format(X[\"year\"], X[\"month\"][0:3]),axis= 1)"
      ],
      "execution_count": 226,
      "outputs": [
        {
          "output_type": "execute_result",
          "data": {
            "text/plain": [
              "0    2010_Dec\n",
              "1    2011_Apr\n",
              "2    2011_Aug\n",
              "3    2011_Dec\n",
              "4    2011_Jan\n",
              "5    2011_Jun\n",
              "6    2011_Oct\n",
              "7    2010_Dec\n",
              "8    2011_Apr\n",
              "9    2011_Jan\n",
              "dtype: object"
            ]
          },
          "metadata": {
            "tags": []
          },
          "execution_count": 226
        }
      ]
    },
    {
      "cell_type": "code",
      "metadata": {
        "id": "D-WNQutuqtTV",
        "colab_type": "code",
        "outputId": "729056de-5402-4940-d706-0c40342567c0",
        "colab": {
          "base_uri": "https://localhost:8080/",
          "height": 209
        }
      },
      "source": [
        "# another way of doing this {}_{:.3s}\n",
        "ABT2[[\"year\",\"month\"]][:10].apply(lambda X: \"{}_{:.3s}\".format(X[\"year\"], X[\"month\"]),axis= 1)"
      ],
      "execution_count": 228,
      "outputs": [
        {
          "output_type": "execute_result",
          "data": {
            "text/plain": [
              "0    2010_Dec\n",
              "1    2011_Apr\n",
              "2    2011_Aug\n",
              "3    2011_Dec\n",
              "4    2011_Jan\n",
              "5    2011_Jun\n",
              "6    2011_Oct\n",
              "7    2010_Dec\n",
              "8    2011_Apr\n",
              "9    2011_Jan\n",
              "dtype: object"
            ]
          },
          "metadata": {
            "tags": []
          },
          "execution_count": 228
        }
      ]
    },
    {
      "cell_type": "code",
      "metadata": {
        "id": "E6AdmoT2q1VW",
        "colab_type": "code",
        "colab": {}
      },
      "source": [
        "ABT2[\"year_month\"]= ABT2[[\"year\",\"month\"]].apply(lambda X: \"{}_{}\".format(X[\"year\"], X[\"month\"][0:3]),axis= 1)"
      ],
      "execution_count": 0,
      "outputs": []
    },
    {
      "cell_type": "code",
      "metadata": {
        "id": "-fU4m05lrA2h",
        "colab_type": "code",
        "outputId": "7969d8fa-8643-4910-e13a-4d8c5052a2f6",
        "colab": {
          "base_uri": "https://localhost:8080/",
          "height": 347
        }
      },
      "source": [
        "ABT2.head(10)"
      ],
      "execution_count": 233,
      "outputs": [
        {
          "output_type": "execute_result",
          "data": {
            "text/html": [
              "<div>\n",
              "<style scoped>\n",
              "    .dataframe tbody tr th:only-of-type {\n",
              "        vertical-align: middle;\n",
              "    }\n",
              "\n",
              "    .dataframe tbody tr th {\n",
              "        vertical-align: top;\n",
              "    }\n",
              "\n",
              "    .dataframe thead th {\n",
              "        text-align: right;\n",
              "    }\n",
              "</style>\n",
              "<table border=\"1\" class=\"dataframe\">\n",
              "  <thead>\n",
              "    <tr style=\"text-align: right;\">\n",
              "      <th></th>\n",
              "      <th>customerid</th>\n",
              "      <th>year</th>\n",
              "      <th>month</th>\n",
              "      <th>quantity_sum</th>\n",
              "      <th>quantity_count</th>\n",
              "      <th>sales_sum</th>\n",
              "      <th>unitprice_mean</th>\n",
              "      <th>stockcode_nunique</th>\n",
              "      <th>return_sum</th>\n",
              "      <th>year_month</th>\n",
              "    </tr>\n",
              "  </thead>\n",
              "  <tbody>\n",
              "    <tr>\n",
              "      <th>0</th>\n",
              "      <td>12347.0</td>\n",
              "      <td>2010</td>\n",
              "      <td>December</td>\n",
              "      <td>319</td>\n",
              "      <td>31</td>\n",
              "      <td>711.79</td>\n",
              "      <td>2.890000</td>\n",
              "      <td>31</td>\n",
              "      <td>0.0</td>\n",
              "      <td>2010_Dec</td>\n",
              "    </tr>\n",
              "    <tr>\n",
              "      <th>1</th>\n",
              "      <td>12347.0</td>\n",
              "      <td>2011</td>\n",
              "      <td>April</td>\n",
              "      <td>243</td>\n",
              "      <td>23</td>\n",
              "      <td>386.65</td>\n",
              "      <td>2.663043</td>\n",
              "      <td>23</td>\n",
              "      <td>0.0</td>\n",
              "      <td>2011_Apr</td>\n",
              "    </tr>\n",
              "    <tr>\n",
              "      <th>2</th>\n",
              "      <td>12347.0</td>\n",
              "      <td>2011</td>\n",
              "      <td>August</td>\n",
              "      <td>277</td>\n",
              "      <td>22</td>\n",
              "      <td>584.91</td>\n",
              "      <td>3.101818</td>\n",
              "      <td>22</td>\n",
              "      <td>0.0</td>\n",
              "      <td>2011_Aug</td>\n",
              "    </tr>\n",
              "    <tr>\n",
              "      <th>3</th>\n",
              "      <td>12347.0</td>\n",
              "      <td>2011</td>\n",
              "      <td>December</td>\n",
              "      <td>192</td>\n",
              "      <td>11</td>\n",
              "      <td>224.82</td>\n",
              "      <td>1.230909</td>\n",
              "      <td>11</td>\n",
              "      <td>0.0</td>\n",
              "      <td>2011_Dec</td>\n",
              "    </tr>\n",
              "    <tr>\n",
              "      <th>4</th>\n",
              "      <td>12347.0</td>\n",
              "      <td>2011</td>\n",
              "      <td>January</td>\n",
              "      <td>315</td>\n",
              "      <td>29</td>\n",
              "      <td>475.39</td>\n",
              "      <td>2.523103</td>\n",
              "      <td>29</td>\n",
              "      <td>0.0</td>\n",
              "      <td>2011_Jan</td>\n",
              "    </tr>\n",
              "    <tr>\n",
              "      <th>5</th>\n",
              "      <td>12347.0</td>\n",
              "      <td>2011</td>\n",
              "      <td>June</td>\n",
              "      <td>196</td>\n",
              "      <td>18</td>\n",
              "      <td>382.52</td>\n",
              "      <td>2.978889</td>\n",
              "      <td>18</td>\n",
              "      <td>0.0</td>\n",
              "      <td>2011_Jun</td>\n",
              "    </tr>\n",
              "    <tr>\n",
              "      <th>6</th>\n",
              "      <td>12347.0</td>\n",
              "      <td>2011</td>\n",
              "      <td>October</td>\n",
              "      <td>676</td>\n",
              "      <td>47</td>\n",
              "      <td>1294.32</td>\n",
              "      <td>2.569362</td>\n",
              "      <td>47</td>\n",
              "      <td>0.0</td>\n",
              "      <td>2011_Oct</td>\n",
              "    </tr>\n",
              "    <tr>\n",
              "      <th>7</th>\n",
              "      <td>12348.0</td>\n",
              "      <td>2010</td>\n",
              "      <td>December</td>\n",
              "      <td>480</td>\n",
              "      <td>10</td>\n",
              "      <td>367.68</td>\n",
              "      <td>0.734000</td>\n",
              "      <td>10</td>\n",
              "      <td>0.0</td>\n",
              "      <td>2010_Dec</td>\n",
              "    </tr>\n",
              "    <tr>\n",
              "      <th>8</th>\n",
              "      <td>12348.0</td>\n",
              "      <td>2011</td>\n",
              "      <td>April</td>\n",
              "      <td>269</td>\n",
              "      <td>5</td>\n",
              "      <td>367.00</td>\n",
              "      <td>8.920000</td>\n",
              "      <td>5</td>\n",
              "      <td>0.0</td>\n",
              "      <td>2011_Apr</td>\n",
              "    </tr>\n",
              "    <tr>\n",
              "      <th>9</th>\n",
              "      <td>12348.0</td>\n",
              "      <td>2011</td>\n",
              "      <td>January</td>\n",
              "      <td>25</td>\n",
              "      <td>2</td>\n",
              "      <td>60.40</td>\n",
              "      <td>20.425000</td>\n",
              "      <td>2</td>\n",
              "      <td>0.0</td>\n",
              "      <td>2011_Jan</td>\n",
              "    </tr>\n",
              "  </tbody>\n",
              "</table>\n",
              "</div>"
            ],
            "text/plain": [
              "   customerid  year     month  quantity_sum  quantity_count  sales_sum  unitprice_mean  stockcode_nunique  return_sum year_month\n",
              "0     12347.0  2010  December           319              31     711.79        2.890000                 31         0.0   2010_Dec\n",
              "1     12347.0  2011     April           243              23     386.65        2.663043                 23         0.0   2011_Apr\n",
              "2     12347.0  2011    August           277              22     584.91        3.101818                 22         0.0   2011_Aug\n",
              "3     12347.0  2011  December           192              11     224.82        1.230909                 11         0.0   2011_Dec\n",
              "4     12347.0  2011   January           315              29     475.39        2.523103                 29         0.0   2011_Jan\n",
              "5     12347.0  2011      June           196              18     382.52        2.978889                 18         0.0   2011_Jun\n",
              "6     12347.0  2011   October           676              47    1294.32        2.569362                 47         0.0   2011_Oct\n",
              "7     12348.0  2010  December           480              10     367.68        0.734000                 10         0.0   2010_Dec\n",
              "8     12348.0  2011     April           269               5     367.00        8.920000                  5         0.0   2011_Apr\n",
              "9     12348.0  2011   January            25               2      60.40       20.425000                  2         0.0   2011_Jan"
            ]
          },
          "metadata": {
            "tags": []
          },
          "execution_count": 233
        }
      ]
    },
    {
      "cell_type": "markdown",
      "metadata": {
        "id": "qHPjFNN1BFdk",
        "colab_type": "text"
      },
      "source": [
        "## I have not shown the rest of the date wise subset selection and do the aggregation and map the Target variabele in this approach. We can do it in the same way as we have done in ABT1......"
      ]
    },
    {
      "cell_type": "markdown",
      "metadata": {
        "id": "e3OixqWHtrfR",
        "colab_type": "text"
      },
      "source": [
        "You can identify products with high return rate and may be do a one hot encode if some one is purchasing these produts\n",
        "\n",
        "Which countries are major sales generator?"
      ]
    },
    {
      "cell_type": "markdown",
      "metadata": {
        "id": "yshHQlRi78zR",
        "colab_type": "text"
      },
      "source": [
        "## Pivot table example with multiple aggregating functions\n",
        "\n",
        "\n",
        "```\n",
        "pd.pivot_table(df1, values='lifeExp',\n",
        "                     index=['year'],\n",
        "                     columns='continent',\n",
        "                     aggfunc=[min,max])\n",
        "\n",
        "SYNTAX   \n",
        "pandas.pivot_table(data, values=None, index=None, columns=None, aggfunc='mean', fill_value=None, margins=False, dropna=True, margins_name='All', observed=False)\n",
        "\n",
        "\n",
        "EXAMPLE:   \n",
        "table = pd.pivot_table(df, values=['D', 'E'], index=['A', 'C'],\n",
        "                    aggfunc={'D': np.mean,\n",
        "                             'E': [min, max, np.mean]})\n",
        "table\n",
        "```\n",
        "\n"
      ]
    },
    {
      "cell_type": "code",
      "metadata": {
        "id": "gi-2yHj19LP-",
        "colab_type": "code",
        "colab": {}
      },
      "source": [
        "required_metrics = ['quantity_sum', 'quantity_count', 'sales_sum', 'unitprice_mean', 'stockcode_nunique', 'return_sum']"
      ],
      "execution_count": 0,
      "outputs": []
    },
    {
      "cell_type": "code",
      "metadata": {
        "id": "xfSbDZuCG_6f",
        "colab_type": "code",
        "colab": {
          "base_uri": "https://localhost:8080/",
          "height": 87
        },
        "outputId": "f615f3c3-6c6e-4702-d71e-82f3916dec9f"
      },
      "source": [
        "cleanecom.columns"
      ],
      "execution_count": 235,
      "outputs": [
        {
          "output_type": "execute_result",
          "data": {
            "text/plain": [
              "Index(['invoiceno', 'stockcode', 'description', 'quantity', 'invoicedate',\n",
              "       'unitprice', 'customerid', 'country', 'newdate', 'year', 'month', 'day',\n",
              "       'return', 'sales', 'year_month'],\n",
              "      dtype='object')"
            ]
          },
          "metadata": {
            "tags": []
          },
          "execution_count": 235
        }
      ]
    },
    {
      "cell_type": "code",
      "metadata": {
        "id": "qFPG9qWM8Jf_",
        "colab_type": "code",
        "outputId": "ded69911-2c24-4e68-89fd-10c50f69f5cc",
        "colab": {
          "base_uri": "https://localhost:8080/",
          "height": 487
        }
      },
      "source": [
        "pd.pivot_table(cleanecom,values=['quantity','unitprice','return'],index=['customerid'],aggfunc=\"sum\",columns='year_month')"
      ],
      "execution_count": 237,
      "outputs": [
        {
          "output_type": "execute_result",
          "data": {
            "text/html": [
              "<div>\n",
              "<style scoped>\n",
              "    .dataframe tbody tr th:only-of-type {\n",
              "        vertical-align: middle;\n",
              "    }\n",
              "\n",
              "    .dataframe tbody tr th {\n",
              "        vertical-align: top;\n",
              "    }\n",
              "\n",
              "    .dataframe thead tr th {\n",
              "        text-align: left;\n",
              "    }\n",
              "\n",
              "    .dataframe thead tr:last-of-type th {\n",
              "        text-align: right;\n",
              "    }\n",
              "</style>\n",
              "<table border=\"1\" class=\"dataframe\">\n",
              "  <thead>\n",
              "    <tr>\n",
              "      <th></th>\n",
              "      <th colspan=\"13\" halign=\"left\">quantity</th>\n",
              "      <th colspan=\"13\" halign=\"left\">return</th>\n",
              "      <th colspan=\"13\" halign=\"left\">unitprice</th>\n",
              "    </tr>\n",
              "    <tr>\n",
              "      <th>year_month</th>\n",
              "      <th>2010_Dec</th>\n",
              "      <th>2011_Apr</th>\n",
              "      <th>2011_Aug</th>\n",
              "      <th>2011_Dec</th>\n",
              "      <th>2011_Feb</th>\n",
              "      <th>2011_Jan</th>\n",
              "      <th>2011_Jul</th>\n",
              "      <th>2011_Jun</th>\n",
              "      <th>2011_Mar</th>\n",
              "      <th>2011_May</th>\n",
              "      <th>2011_Nov</th>\n",
              "      <th>2011_Oct</th>\n",
              "      <th>2011_Sep</th>\n",
              "      <th>2010_Dec</th>\n",
              "      <th>2011_Apr</th>\n",
              "      <th>2011_Aug</th>\n",
              "      <th>2011_Dec</th>\n",
              "      <th>2011_Feb</th>\n",
              "      <th>2011_Jan</th>\n",
              "      <th>2011_Jul</th>\n",
              "      <th>2011_Jun</th>\n",
              "      <th>2011_Mar</th>\n",
              "      <th>2011_May</th>\n",
              "      <th>2011_Nov</th>\n",
              "      <th>2011_Oct</th>\n",
              "      <th>2011_Sep</th>\n",
              "      <th>2010_Dec</th>\n",
              "      <th>2011_Apr</th>\n",
              "      <th>2011_Aug</th>\n",
              "      <th>2011_Dec</th>\n",
              "      <th>2011_Feb</th>\n",
              "      <th>2011_Jan</th>\n",
              "      <th>2011_Jul</th>\n",
              "      <th>2011_Jun</th>\n",
              "      <th>2011_Mar</th>\n",
              "      <th>2011_May</th>\n",
              "      <th>2011_Nov</th>\n",
              "      <th>2011_Oct</th>\n",
              "      <th>2011_Sep</th>\n",
              "    </tr>\n",
              "    <tr>\n",
              "      <th>customerid</th>\n",
              "      <th></th>\n",
              "      <th></th>\n",
              "      <th></th>\n",
              "      <th></th>\n",
              "      <th></th>\n",
              "      <th></th>\n",
              "      <th></th>\n",
              "      <th></th>\n",
              "      <th></th>\n",
              "      <th></th>\n",
              "      <th></th>\n",
              "      <th></th>\n",
              "      <th></th>\n",
              "      <th></th>\n",
              "      <th></th>\n",
              "      <th></th>\n",
              "      <th></th>\n",
              "      <th></th>\n",
              "      <th></th>\n",
              "      <th></th>\n",
              "      <th></th>\n",
              "      <th></th>\n",
              "      <th></th>\n",
              "      <th></th>\n",
              "      <th></th>\n",
              "      <th></th>\n",
              "      <th></th>\n",
              "      <th></th>\n",
              "      <th></th>\n",
              "      <th></th>\n",
              "      <th></th>\n",
              "      <th></th>\n",
              "      <th></th>\n",
              "      <th></th>\n",
              "      <th></th>\n",
              "      <th></th>\n",
              "      <th></th>\n",
              "      <th></th>\n",
              "      <th></th>\n",
              "    </tr>\n",
              "  </thead>\n",
              "  <tbody>\n",
              "    <tr>\n",
              "      <th>12347.0</th>\n",
              "      <td>319.0</td>\n",
              "      <td>243.0</td>\n",
              "      <td>277.0</td>\n",
              "      <td>192.0</td>\n",
              "      <td>NaN</td>\n",
              "      <td>315.0</td>\n",
              "      <td>NaN</td>\n",
              "      <td>196.0</td>\n",
              "      <td>NaN</td>\n",
              "      <td>NaN</td>\n",
              "      <td>NaN</td>\n",
              "      <td>676.0</td>\n",
              "      <td>NaN</td>\n",
              "      <td>0.0</td>\n",
              "      <td>0.0</td>\n",
              "      <td>0.0</td>\n",
              "      <td>0.0</td>\n",
              "      <td>NaN</td>\n",
              "      <td>0.0</td>\n",
              "      <td>NaN</td>\n",
              "      <td>0.0</td>\n",
              "      <td>NaN</td>\n",
              "      <td>NaN</td>\n",
              "      <td>NaN</td>\n",
              "      <td>0.0</td>\n",
              "      <td>NaN</td>\n",
              "      <td>89.59</td>\n",
              "      <td>61.25</td>\n",
              "      <td>68.24</td>\n",
              "      <td>13.54</td>\n",
              "      <td>NaN</td>\n",
              "      <td>73.17</td>\n",
              "      <td>NaN</td>\n",
              "      <td>53.62</td>\n",
              "      <td>NaN</td>\n",
              "      <td>NaN</td>\n",
              "      <td>NaN</td>\n",
              "      <td>120.76</td>\n",
              "      <td>NaN</td>\n",
              "    </tr>\n",
              "    <tr>\n",
              "      <th>12348.0</th>\n",
              "      <td>480.0</td>\n",
              "      <td>269.0</td>\n",
              "      <td>NaN</td>\n",
              "      <td>NaN</td>\n",
              "      <td>NaN</td>\n",
              "      <td>25.0</td>\n",
              "      <td>NaN</td>\n",
              "      <td>NaN</td>\n",
              "      <td>NaN</td>\n",
              "      <td>NaN</td>\n",
              "      <td>NaN</td>\n",
              "      <td>NaN</td>\n",
              "      <td>97.0</td>\n",
              "      <td>0.0</td>\n",
              "      <td>0.0</td>\n",
              "      <td>NaN</td>\n",
              "      <td>NaN</td>\n",
              "      <td>NaN</td>\n",
              "      <td>0.0</td>\n",
              "      <td>NaN</td>\n",
              "      <td>NaN</td>\n",
              "      <td>NaN</td>\n",
              "      <td>NaN</td>\n",
              "      <td>NaN</td>\n",
              "      <td>NaN</td>\n",
              "      <td>0.0</td>\n",
              "      <td>7.34</td>\n",
              "      <td>44.60</td>\n",
              "      <td>NaN</td>\n",
              "      <td>NaN</td>\n",
              "      <td>NaN</td>\n",
              "      <td>40.85</td>\n",
              "      <td>NaN</td>\n",
              "      <td>NaN</td>\n",
              "      <td>NaN</td>\n",
              "      <td>NaN</td>\n",
              "      <td>NaN</td>\n",
              "      <td>NaN</td>\n",
              "      <td>41.25</td>\n",
              "    </tr>\n",
              "    <tr>\n",
              "      <th>12349.0</th>\n",
              "      <td>NaN</td>\n",
              "      <td>NaN</td>\n",
              "      <td>NaN</td>\n",
              "      <td>NaN</td>\n",
              "      <td>NaN</td>\n",
              "      <td>NaN</td>\n",
              "      <td>NaN</td>\n",
              "      <td>NaN</td>\n",
              "      <td>NaN</td>\n",
              "      <td>NaN</td>\n",
              "      <td>630.0</td>\n",
              "      <td>NaN</td>\n",
              "      <td>NaN</td>\n",
              "      <td>NaN</td>\n",
              "      <td>NaN</td>\n",
              "      <td>NaN</td>\n",
              "      <td>NaN</td>\n",
              "      <td>NaN</td>\n",
              "      <td>NaN</td>\n",
              "      <td>NaN</td>\n",
              "      <td>NaN</td>\n",
              "      <td>NaN</td>\n",
              "      <td>NaN</td>\n",
              "      <td>0.0</td>\n",
              "      <td>NaN</td>\n",
              "      <td>NaN</td>\n",
              "      <td>NaN</td>\n",
              "      <td>NaN</td>\n",
              "      <td>NaN</td>\n",
              "      <td>NaN</td>\n",
              "      <td>NaN</td>\n",
              "      <td>NaN</td>\n",
              "      <td>NaN</td>\n",
              "      <td>NaN</td>\n",
              "      <td>NaN</td>\n",
              "      <td>NaN</td>\n",
              "      <td>305.10</td>\n",
              "      <td>NaN</td>\n",
              "      <td>NaN</td>\n",
              "    </tr>\n",
              "    <tr>\n",
              "      <th>12350.0</th>\n",
              "      <td>NaN</td>\n",
              "      <td>NaN</td>\n",
              "      <td>NaN</td>\n",
              "      <td>NaN</td>\n",
              "      <td>197.0</td>\n",
              "      <td>NaN</td>\n",
              "      <td>NaN</td>\n",
              "      <td>NaN</td>\n",
              "      <td>NaN</td>\n",
              "      <td>NaN</td>\n",
              "      <td>NaN</td>\n",
              "      <td>NaN</td>\n",
              "      <td>NaN</td>\n",
              "      <td>NaN</td>\n",
              "      <td>NaN</td>\n",
              "      <td>NaN</td>\n",
              "      <td>NaN</td>\n",
              "      <td>0.0</td>\n",
              "      <td>NaN</td>\n",
              "      <td>NaN</td>\n",
              "      <td>NaN</td>\n",
              "      <td>NaN</td>\n",
              "      <td>NaN</td>\n",
              "      <td>NaN</td>\n",
              "      <td>NaN</td>\n",
              "      <td>NaN</td>\n",
              "      <td>NaN</td>\n",
              "      <td>NaN</td>\n",
              "      <td>NaN</td>\n",
              "      <td>NaN</td>\n",
              "      <td>65.30</td>\n",
              "      <td>NaN</td>\n",
              "      <td>NaN</td>\n",
              "      <td>NaN</td>\n",
              "      <td>NaN</td>\n",
              "      <td>NaN</td>\n",
              "      <td>NaN</td>\n",
              "      <td>NaN</td>\n",
              "      <td>NaN</td>\n",
              "    </tr>\n",
              "    <tr>\n",
              "      <th>12352.0</th>\n",
              "      <td>NaN</td>\n",
              "      <td>NaN</td>\n",
              "      <td>NaN</td>\n",
              "      <td>NaN</td>\n",
              "      <td>98.0</td>\n",
              "      <td>NaN</td>\n",
              "      <td>NaN</td>\n",
              "      <td>NaN</td>\n",
              "      <td>90.0</td>\n",
              "      <td>NaN</td>\n",
              "      <td>127.0</td>\n",
              "      <td>NaN</td>\n",
              "      <td>155.0</td>\n",
              "      <td>NaN</td>\n",
              "      <td>NaN</td>\n",
              "      <td>NaN</td>\n",
              "      <td>NaN</td>\n",
              "      <td>0.0</td>\n",
              "      <td>NaN</td>\n",
              "      <td>NaN</td>\n",
              "      <td>NaN</td>\n",
              "      <td>7.0</td>\n",
              "      <td>NaN</td>\n",
              "      <td>0.0</td>\n",
              "      <td>NaN</td>\n",
              "      <td>0.0</td>\n",
              "      <td>NaN</td>\n",
              "      <td>NaN</td>\n",
              "      <td>NaN</td>\n",
              "      <td>NaN</td>\n",
              "      <td>68.35</td>\n",
              "      <td>NaN</td>\n",
              "      <td>NaN</td>\n",
              "      <td>NaN</td>\n",
              "      <td>151.12</td>\n",
              "      <td>NaN</td>\n",
              "      <td>86.53</td>\n",
              "      <td>NaN</td>\n",
              "      <td>224.50</td>\n",
              "    </tr>\n",
              "    <tr>\n",
              "      <th>...</th>\n",
              "      <td>...</td>\n",
              "      <td>...</td>\n",
              "      <td>...</td>\n",
              "      <td>...</td>\n",
              "      <td>...</td>\n",
              "      <td>...</td>\n",
              "      <td>...</td>\n",
              "      <td>...</td>\n",
              "      <td>...</td>\n",
              "      <td>...</td>\n",
              "      <td>...</td>\n",
              "      <td>...</td>\n",
              "      <td>...</td>\n",
              "      <td>...</td>\n",
              "      <td>...</td>\n",
              "      <td>...</td>\n",
              "      <td>...</td>\n",
              "      <td>...</td>\n",
              "      <td>...</td>\n",
              "      <td>...</td>\n",
              "      <td>...</td>\n",
              "      <td>...</td>\n",
              "      <td>...</td>\n",
              "      <td>...</td>\n",
              "      <td>...</td>\n",
              "      <td>...</td>\n",
              "      <td>...</td>\n",
              "      <td>...</td>\n",
              "      <td>...</td>\n",
              "      <td>...</td>\n",
              "      <td>...</td>\n",
              "      <td>...</td>\n",
              "      <td>...</td>\n",
              "      <td>...</td>\n",
              "      <td>...</td>\n",
              "      <td>...</td>\n",
              "      <td>...</td>\n",
              "      <td>...</td>\n",
              "      <td>...</td>\n",
              "    </tr>\n",
              "    <tr>\n",
              "      <th>18280.0</th>\n",
              "      <td>NaN</td>\n",
              "      <td>NaN</td>\n",
              "      <td>NaN</td>\n",
              "      <td>NaN</td>\n",
              "      <td>NaN</td>\n",
              "      <td>NaN</td>\n",
              "      <td>NaN</td>\n",
              "      <td>NaN</td>\n",
              "      <td>45.0</td>\n",
              "      <td>NaN</td>\n",
              "      <td>NaN</td>\n",
              "      <td>NaN</td>\n",
              "      <td>NaN</td>\n",
              "      <td>NaN</td>\n",
              "      <td>NaN</td>\n",
              "      <td>NaN</td>\n",
              "      <td>NaN</td>\n",
              "      <td>NaN</td>\n",
              "      <td>NaN</td>\n",
              "      <td>NaN</td>\n",
              "      <td>NaN</td>\n",
              "      <td>0.0</td>\n",
              "      <td>NaN</td>\n",
              "      <td>NaN</td>\n",
              "      <td>NaN</td>\n",
              "      <td>NaN</td>\n",
              "      <td>NaN</td>\n",
              "      <td>NaN</td>\n",
              "      <td>NaN</td>\n",
              "      <td>NaN</td>\n",
              "      <td>NaN</td>\n",
              "      <td>NaN</td>\n",
              "      <td>NaN</td>\n",
              "      <td>NaN</td>\n",
              "      <td>47.65</td>\n",
              "      <td>NaN</td>\n",
              "      <td>NaN</td>\n",
              "      <td>NaN</td>\n",
              "      <td>NaN</td>\n",
              "    </tr>\n",
              "    <tr>\n",
              "      <th>18281.0</th>\n",
              "      <td>NaN</td>\n",
              "      <td>NaN</td>\n",
              "      <td>NaN</td>\n",
              "      <td>NaN</td>\n",
              "      <td>NaN</td>\n",
              "      <td>NaN</td>\n",
              "      <td>NaN</td>\n",
              "      <td>54.0</td>\n",
              "      <td>NaN</td>\n",
              "      <td>NaN</td>\n",
              "      <td>NaN</td>\n",
              "      <td>NaN</td>\n",
              "      <td>NaN</td>\n",
              "      <td>NaN</td>\n",
              "      <td>NaN</td>\n",
              "      <td>NaN</td>\n",
              "      <td>NaN</td>\n",
              "      <td>NaN</td>\n",
              "      <td>NaN</td>\n",
              "      <td>NaN</td>\n",
              "      <td>0.0</td>\n",
              "      <td>NaN</td>\n",
              "      <td>NaN</td>\n",
              "      <td>NaN</td>\n",
              "      <td>NaN</td>\n",
              "      <td>NaN</td>\n",
              "      <td>NaN</td>\n",
              "      <td>NaN</td>\n",
              "      <td>NaN</td>\n",
              "      <td>NaN</td>\n",
              "      <td>NaN</td>\n",
              "      <td>NaN</td>\n",
              "      <td>NaN</td>\n",
              "      <td>39.36</td>\n",
              "      <td>NaN</td>\n",
              "      <td>NaN</td>\n",
              "      <td>NaN</td>\n",
              "      <td>NaN</td>\n",
              "      <td>NaN</td>\n",
              "    </tr>\n",
              "    <tr>\n",
              "      <th>18282.0</th>\n",
              "      <td>NaN</td>\n",
              "      <td>NaN</td>\n",
              "      <td>70.0</td>\n",
              "      <td>28.0</td>\n",
              "      <td>NaN</td>\n",
              "      <td>NaN</td>\n",
              "      <td>NaN</td>\n",
              "      <td>NaN</td>\n",
              "      <td>NaN</td>\n",
              "      <td>NaN</td>\n",
              "      <td>NaN</td>\n",
              "      <td>NaN</td>\n",
              "      <td>NaN</td>\n",
              "      <td>NaN</td>\n",
              "      <td>NaN</td>\n",
              "      <td>1.0</td>\n",
              "      <td>0.0</td>\n",
              "      <td>NaN</td>\n",
              "      <td>NaN</td>\n",
              "      <td>NaN</td>\n",
              "      <td>NaN</td>\n",
              "      <td>NaN</td>\n",
              "      <td>NaN</td>\n",
              "      <td>NaN</td>\n",
              "      <td>NaN</td>\n",
              "      <td>NaN</td>\n",
              "      <td>NaN</td>\n",
              "      <td>NaN</td>\n",
              "      <td>39.16</td>\n",
              "      <td>23.52</td>\n",
              "      <td>NaN</td>\n",
              "      <td>NaN</td>\n",
              "      <td>NaN</td>\n",
              "      <td>NaN</td>\n",
              "      <td>NaN</td>\n",
              "      <td>NaN</td>\n",
              "      <td>NaN</td>\n",
              "      <td>NaN</td>\n",
              "      <td>NaN</td>\n",
              "    </tr>\n",
              "    <tr>\n",
              "      <th>18283.0</th>\n",
              "      <td>NaN</td>\n",
              "      <td>87.0</td>\n",
              "      <td>NaN</td>\n",
              "      <td>142.0</td>\n",
              "      <td>59.0</td>\n",
              "      <td>128.0</td>\n",
              "      <td>102.0</td>\n",
              "      <td>209.0</td>\n",
              "      <td>NaN</td>\n",
              "      <td>62.0</td>\n",
              "      <td>450.0</td>\n",
              "      <td>63.0</td>\n",
              "      <td>95.0</td>\n",
              "      <td>NaN</td>\n",
              "      <td>0.0</td>\n",
              "      <td>NaN</td>\n",
              "      <td>0.0</td>\n",
              "      <td>0.0</td>\n",
              "      <td>0.0</td>\n",
              "      <td>0.0</td>\n",
              "      <td>0.0</td>\n",
              "      <td>NaN</td>\n",
              "      <td>0.0</td>\n",
              "      <td>0.0</td>\n",
              "      <td>0.0</td>\n",
              "      <td>0.0</td>\n",
              "      <td>NaN</td>\n",
              "      <td>82.82</td>\n",
              "      <td>NaN</td>\n",
              "      <td>65.38</td>\n",
              "      <td>70.55</td>\n",
              "      <td>184.20</td>\n",
              "      <td>92.76</td>\n",
              "      <td>181.85</td>\n",
              "      <td>NaN</td>\n",
              "      <td>75.24</td>\n",
              "      <td>318.76</td>\n",
              "      <td>83.48</td>\n",
              "      <td>65.89</td>\n",
              "    </tr>\n",
              "    <tr>\n",
              "      <th>18287.0</th>\n",
              "      <td>NaN</td>\n",
              "      <td>NaN</td>\n",
              "      <td>NaN</td>\n",
              "      <td>NaN</td>\n",
              "      <td>NaN</td>\n",
              "      <td>NaN</td>\n",
              "      <td>NaN</td>\n",
              "      <td>NaN</td>\n",
              "      <td>NaN</td>\n",
              "      <td>488.0</td>\n",
              "      <td>NaN</td>\n",
              "      <td>1098.0</td>\n",
              "      <td>NaN</td>\n",
              "      <td>NaN</td>\n",
              "      <td>NaN</td>\n",
              "      <td>NaN</td>\n",
              "      <td>NaN</td>\n",
              "      <td>NaN</td>\n",
              "      <td>NaN</td>\n",
              "      <td>NaN</td>\n",
              "      <td>NaN</td>\n",
              "      <td>NaN</td>\n",
              "      <td>0.0</td>\n",
              "      <td>NaN</td>\n",
              "      <td>0.0</td>\n",
              "      <td>NaN</td>\n",
              "      <td>NaN</td>\n",
              "      <td>NaN</td>\n",
              "      <td>NaN</td>\n",
              "      <td>NaN</td>\n",
              "      <td>NaN</td>\n",
              "      <td>NaN</td>\n",
              "      <td>NaN</td>\n",
              "      <td>NaN</td>\n",
              "      <td>NaN</td>\n",
              "      <td>56.92</td>\n",
              "      <td>NaN</td>\n",
              "      <td>47.63</td>\n",
              "      <td>NaN</td>\n",
              "    </tr>\n",
              "  </tbody>\n",
              "</table>\n",
              "<p>4294 rows × 39 columns</p>\n",
              "</div>"
            ],
            "text/plain": [
              "           quantity                                                                                                               return                                                                                                             unitprice                                                                                                            \n",
              "year_month 2010_Dec 2011_Apr 2011_Aug 2011_Dec 2011_Feb 2011_Jan 2011_Jul 2011_Jun 2011_Mar 2011_May 2011_Nov 2011_Oct 2011_Sep 2010_Dec 2011_Apr 2011_Aug 2011_Dec 2011_Feb 2011_Jan 2011_Jul 2011_Jun 2011_Mar 2011_May 2011_Nov 2011_Oct 2011_Sep  2010_Dec 2011_Apr 2011_Aug 2011_Dec 2011_Feb 2011_Jan 2011_Jul 2011_Jun 2011_Mar 2011_May 2011_Nov 2011_Oct 2011_Sep\n",
              "customerid                                                                                                                                                                                                                                                                                                                                                                \n",
              "12347.0       319.0    243.0    277.0    192.0      NaN    315.0      NaN    196.0      NaN      NaN      NaN    676.0      NaN      0.0      0.0      0.0      0.0      NaN      0.0      NaN      0.0      NaN      NaN      NaN      0.0      NaN     89.59    61.25    68.24    13.54      NaN    73.17      NaN    53.62      NaN      NaN      NaN   120.76      NaN\n",
              "12348.0       480.0    269.0      NaN      NaN      NaN     25.0      NaN      NaN      NaN      NaN      NaN      NaN     97.0      0.0      0.0      NaN      NaN      NaN      0.0      NaN      NaN      NaN      NaN      NaN      NaN      0.0      7.34    44.60      NaN      NaN      NaN    40.85      NaN      NaN      NaN      NaN      NaN      NaN    41.25\n",
              "12349.0         NaN      NaN      NaN      NaN      NaN      NaN      NaN      NaN      NaN      NaN    630.0      NaN      NaN      NaN      NaN      NaN      NaN      NaN      NaN      NaN      NaN      NaN      NaN      0.0      NaN      NaN       NaN      NaN      NaN      NaN      NaN      NaN      NaN      NaN      NaN      NaN   305.10      NaN      NaN\n",
              "12350.0         NaN      NaN      NaN      NaN    197.0      NaN      NaN      NaN      NaN      NaN      NaN      NaN      NaN      NaN      NaN      NaN      NaN      0.0      NaN      NaN      NaN      NaN      NaN      NaN      NaN      NaN       NaN      NaN      NaN      NaN    65.30      NaN      NaN      NaN      NaN      NaN      NaN      NaN      NaN\n",
              "12352.0         NaN      NaN      NaN      NaN     98.0      NaN      NaN      NaN     90.0      NaN    127.0      NaN    155.0      NaN      NaN      NaN      NaN      0.0      NaN      NaN      NaN      7.0      NaN      0.0      NaN      0.0       NaN      NaN      NaN      NaN    68.35      NaN      NaN      NaN   151.12      NaN    86.53      NaN   224.50\n",
              "...             ...      ...      ...      ...      ...      ...      ...      ...      ...      ...      ...      ...      ...      ...      ...      ...      ...      ...      ...      ...      ...      ...      ...      ...      ...      ...       ...      ...      ...      ...      ...      ...      ...      ...      ...      ...      ...      ...      ...\n",
              "18280.0         NaN      NaN      NaN      NaN      NaN      NaN      NaN      NaN     45.0      NaN      NaN      NaN      NaN      NaN      NaN      NaN      NaN      NaN      NaN      NaN      NaN      0.0      NaN      NaN      NaN      NaN       NaN      NaN      NaN      NaN      NaN      NaN      NaN      NaN    47.65      NaN      NaN      NaN      NaN\n",
              "18281.0         NaN      NaN      NaN      NaN      NaN      NaN      NaN     54.0      NaN      NaN      NaN      NaN      NaN      NaN      NaN      NaN      NaN      NaN      NaN      NaN      0.0      NaN      NaN      NaN      NaN      NaN       NaN      NaN      NaN      NaN      NaN      NaN      NaN    39.36      NaN      NaN      NaN      NaN      NaN\n",
              "18282.0         NaN      NaN     70.0     28.0      NaN      NaN      NaN      NaN      NaN      NaN      NaN      NaN      NaN      NaN      NaN      1.0      0.0      NaN      NaN      NaN      NaN      NaN      NaN      NaN      NaN      NaN       NaN      NaN    39.16    23.52      NaN      NaN      NaN      NaN      NaN      NaN      NaN      NaN      NaN\n",
              "18283.0         NaN     87.0      NaN    142.0     59.0    128.0    102.0    209.0      NaN     62.0    450.0     63.0     95.0      NaN      0.0      NaN      0.0      0.0      0.0      0.0      0.0      NaN      0.0      0.0      0.0      0.0       NaN    82.82      NaN    65.38    70.55   184.20    92.76   181.85      NaN    75.24   318.76    83.48    65.89\n",
              "18287.0         NaN      NaN      NaN      NaN      NaN      NaN      NaN      NaN      NaN    488.0      NaN   1098.0      NaN      NaN      NaN      NaN      NaN      NaN      NaN      NaN      NaN      NaN      0.0      NaN      0.0      NaN       NaN      NaN      NaN      NaN      NaN      NaN      NaN      NaN      NaN    56.92      NaN    47.63      NaN\n",
              "\n",
              "[4294 rows x 39 columns]"
            ]
          },
          "metadata": {
            "tags": []
          },
          "execution_count": 237
        }
      ]
    },
    {
      "cell_type": "code",
      "metadata": {
        "id": "nGCJ1OxrIhfL",
        "colab_type": "code",
        "colab": {}
      },
      "source": [
        "ABT_pivot= pd.pivot_table(cleanecom,values=['quantity','unitprice','return'],index=['customerid'],aggfunc=\"sum\",columns='year_month')\n"
      ],
      "execution_count": 0,
      "outputs": []
    },
    {
      "cell_type": "code",
      "metadata": {
        "id": "_Rg6aQ18JEar",
        "colab_type": "code",
        "colab": {
          "base_uri": "https://localhost:8080/",
          "height": 717
        },
        "outputId": "8afb14ea-4089-461d-ca35-ce6b919c680a"
      },
      "source": [
        "ABT_pivot.columns"
      ],
      "execution_count": 241,
      "outputs": [
        {
          "output_type": "execute_result",
          "data": {
            "text/plain": [
              "MultiIndex([( 'quantity', '2010_Dec'),\n",
              "            ( 'quantity', '2011_Apr'),\n",
              "            ( 'quantity', '2011_Aug'),\n",
              "            ( 'quantity', '2011_Dec'),\n",
              "            ( 'quantity', '2011_Feb'),\n",
              "            ( 'quantity', '2011_Jan'),\n",
              "            ( 'quantity', '2011_Jul'),\n",
              "            ( 'quantity', '2011_Jun'),\n",
              "            ( 'quantity', '2011_Mar'),\n",
              "            ( 'quantity', '2011_May'),\n",
              "            ( 'quantity', '2011_Nov'),\n",
              "            ( 'quantity', '2011_Oct'),\n",
              "            ( 'quantity', '2011_Sep'),\n",
              "            (   'return', '2010_Dec'),\n",
              "            (   'return', '2011_Apr'),\n",
              "            (   'return', '2011_Aug'),\n",
              "            (   'return', '2011_Dec'),\n",
              "            (   'return', '2011_Feb'),\n",
              "            (   'return', '2011_Jan'),\n",
              "            (   'return', '2011_Jul'),\n",
              "            (   'return', '2011_Jun'),\n",
              "            (   'return', '2011_Mar'),\n",
              "            (   'return', '2011_May'),\n",
              "            (   'return', '2011_Nov'),\n",
              "            (   'return', '2011_Oct'),\n",
              "            (   'return', '2011_Sep'),\n",
              "            ('unitprice', '2010_Dec'),\n",
              "            ('unitprice', '2011_Apr'),\n",
              "            ('unitprice', '2011_Aug'),\n",
              "            ('unitprice', '2011_Dec'),\n",
              "            ('unitprice', '2011_Feb'),\n",
              "            ('unitprice', '2011_Jan'),\n",
              "            ('unitprice', '2011_Jul'),\n",
              "            ('unitprice', '2011_Jun'),\n",
              "            ('unitprice', '2011_Mar'),\n",
              "            ('unitprice', '2011_May'),\n",
              "            ('unitprice', '2011_Nov'),\n",
              "            ('unitprice', '2011_Oct'),\n",
              "            ('unitprice', '2011_Sep')],\n",
              "           names=[None, 'year_month'])"
            ]
          },
          "metadata": {
            "tags": []
          },
          "execution_count": 241
        }
      ]
    },
    {
      "cell_type": "code",
      "metadata": {
        "id": "RlmEbsnxJO-e",
        "colab_type": "code",
        "colab": {}
      },
      "source": [
        "ABT_pivot.columns = [i[0] if len(i[1])==0 else \"_\".join (i) for i in ABT_pivot.columns.ravel()]"
      ],
      "execution_count": 0,
      "outputs": []
    },
    {
      "cell_type": "code",
      "metadata": {
        "id": "g2pqfovlJPSg",
        "colab_type": "code",
        "colab": {
          "base_uri": "https://localhost:8080/",
          "height": 247
        },
        "outputId": "ae7770d8-563c-491f-87fe-c028a42815cd"
      },
      "source": [
        "ABT_pivot.head()"
      ],
      "execution_count": 243,
      "outputs": [
        {
          "output_type": "execute_result",
          "data": {
            "text/html": [
              "<div>\n",
              "<style scoped>\n",
              "    .dataframe tbody tr th:only-of-type {\n",
              "        vertical-align: middle;\n",
              "    }\n",
              "\n",
              "    .dataframe tbody tr th {\n",
              "        vertical-align: top;\n",
              "    }\n",
              "\n",
              "    .dataframe thead th {\n",
              "        text-align: right;\n",
              "    }\n",
              "</style>\n",
              "<table border=\"1\" class=\"dataframe\">\n",
              "  <thead>\n",
              "    <tr style=\"text-align: right;\">\n",
              "      <th></th>\n",
              "      <th>quantity_2010_Dec</th>\n",
              "      <th>quantity_2011_Apr</th>\n",
              "      <th>quantity_2011_Aug</th>\n",
              "      <th>quantity_2011_Dec</th>\n",
              "      <th>quantity_2011_Feb</th>\n",
              "      <th>quantity_2011_Jan</th>\n",
              "      <th>quantity_2011_Jul</th>\n",
              "      <th>quantity_2011_Jun</th>\n",
              "      <th>quantity_2011_Mar</th>\n",
              "      <th>quantity_2011_May</th>\n",
              "      <th>quantity_2011_Nov</th>\n",
              "      <th>quantity_2011_Oct</th>\n",
              "      <th>quantity_2011_Sep</th>\n",
              "      <th>return_2010_Dec</th>\n",
              "      <th>return_2011_Apr</th>\n",
              "      <th>return_2011_Aug</th>\n",
              "      <th>return_2011_Dec</th>\n",
              "      <th>return_2011_Feb</th>\n",
              "      <th>return_2011_Jan</th>\n",
              "      <th>return_2011_Jul</th>\n",
              "      <th>return_2011_Jun</th>\n",
              "      <th>return_2011_Mar</th>\n",
              "      <th>return_2011_May</th>\n",
              "      <th>return_2011_Nov</th>\n",
              "      <th>return_2011_Oct</th>\n",
              "      <th>return_2011_Sep</th>\n",
              "      <th>unitprice_2010_Dec</th>\n",
              "      <th>unitprice_2011_Apr</th>\n",
              "      <th>unitprice_2011_Aug</th>\n",
              "      <th>unitprice_2011_Dec</th>\n",
              "      <th>unitprice_2011_Feb</th>\n",
              "      <th>unitprice_2011_Jan</th>\n",
              "      <th>unitprice_2011_Jul</th>\n",
              "      <th>unitprice_2011_Jun</th>\n",
              "      <th>unitprice_2011_Mar</th>\n",
              "      <th>unitprice_2011_May</th>\n",
              "      <th>unitprice_2011_Nov</th>\n",
              "      <th>unitprice_2011_Oct</th>\n",
              "      <th>unitprice_2011_Sep</th>\n",
              "    </tr>\n",
              "    <tr>\n",
              "      <th>customerid</th>\n",
              "      <th></th>\n",
              "      <th></th>\n",
              "      <th></th>\n",
              "      <th></th>\n",
              "      <th></th>\n",
              "      <th></th>\n",
              "      <th></th>\n",
              "      <th></th>\n",
              "      <th></th>\n",
              "      <th></th>\n",
              "      <th></th>\n",
              "      <th></th>\n",
              "      <th></th>\n",
              "      <th></th>\n",
              "      <th></th>\n",
              "      <th></th>\n",
              "      <th></th>\n",
              "      <th></th>\n",
              "      <th></th>\n",
              "      <th></th>\n",
              "      <th></th>\n",
              "      <th></th>\n",
              "      <th></th>\n",
              "      <th></th>\n",
              "      <th></th>\n",
              "      <th></th>\n",
              "      <th></th>\n",
              "      <th></th>\n",
              "      <th></th>\n",
              "      <th></th>\n",
              "      <th></th>\n",
              "      <th></th>\n",
              "      <th></th>\n",
              "      <th></th>\n",
              "      <th></th>\n",
              "      <th></th>\n",
              "      <th></th>\n",
              "      <th></th>\n",
              "      <th></th>\n",
              "    </tr>\n",
              "  </thead>\n",
              "  <tbody>\n",
              "    <tr>\n",
              "      <th>12347.0</th>\n",
              "      <td>319.0</td>\n",
              "      <td>243.0</td>\n",
              "      <td>277.0</td>\n",
              "      <td>192.0</td>\n",
              "      <td>NaN</td>\n",
              "      <td>315.0</td>\n",
              "      <td>NaN</td>\n",
              "      <td>196.0</td>\n",
              "      <td>NaN</td>\n",
              "      <td>NaN</td>\n",
              "      <td>NaN</td>\n",
              "      <td>676.0</td>\n",
              "      <td>NaN</td>\n",
              "      <td>0.0</td>\n",
              "      <td>0.0</td>\n",
              "      <td>0.0</td>\n",
              "      <td>0.0</td>\n",
              "      <td>NaN</td>\n",
              "      <td>0.0</td>\n",
              "      <td>NaN</td>\n",
              "      <td>0.0</td>\n",
              "      <td>NaN</td>\n",
              "      <td>NaN</td>\n",
              "      <td>NaN</td>\n",
              "      <td>0.0</td>\n",
              "      <td>NaN</td>\n",
              "      <td>89.59</td>\n",
              "      <td>61.25</td>\n",
              "      <td>68.24</td>\n",
              "      <td>13.54</td>\n",
              "      <td>NaN</td>\n",
              "      <td>73.17</td>\n",
              "      <td>NaN</td>\n",
              "      <td>53.62</td>\n",
              "      <td>NaN</td>\n",
              "      <td>NaN</td>\n",
              "      <td>NaN</td>\n",
              "      <td>120.76</td>\n",
              "      <td>NaN</td>\n",
              "    </tr>\n",
              "    <tr>\n",
              "      <th>12348.0</th>\n",
              "      <td>480.0</td>\n",
              "      <td>269.0</td>\n",
              "      <td>NaN</td>\n",
              "      <td>NaN</td>\n",
              "      <td>NaN</td>\n",
              "      <td>25.0</td>\n",
              "      <td>NaN</td>\n",
              "      <td>NaN</td>\n",
              "      <td>NaN</td>\n",
              "      <td>NaN</td>\n",
              "      <td>NaN</td>\n",
              "      <td>NaN</td>\n",
              "      <td>97.0</td>\n",
              "      <td>0.0</td>\n",
              "      <td>0.0</td>\n",
              "      <td>NaN</td>\n",
              "      <td>NaN</td>\n",
              "      <td>NaN</td>\n",
              "      <td>0.0</td>\n",
              "      <td>NaN</td>\n",
              "      <td>NaN</td>\n",
              "      <td>NaN</td>\n",
              "      <td>NaN</td>\n",
              "      <td>NaN</td>\n",
              "      <td>NaN</td>\n",
              "      <td>0.0</td>\n",
              "      <td>7.34</td>\n",
              "      <td>44.60</td>\n",
              "      <td>NaN</td>\n",
              "      <td>NaN</td>\n",
              "      <td>NaN</td>\n",
              "      <td>40.85</td>\n",
              "      <td>NaN</td>\n",
              "      <td>NaN</td>\n",
              "      <td>NaN</td>\n",
              "      <td>NaN</td>\n",
              "      <td>NaN</td>\n",
              "      <td>NaN</td>\n",
              "      <td>41.25</td>\n",
              "    </tr>\n",
              "    <tr>\n",
              "      <th>12349.0</th>\n",
              "      <td>NaN</td>\n",
              "      <td>NaN</td>\n",
              "      <td>NaN</td>\n",
              "      <td>NaN</td>\n",
              "      <td>NaN</td>\n",
              "      <td>NaN</td>\n",
              "      <td>NaN</td>\n",
              "      <td>NaN</td>\n",
              "      <td>NaN</td>\n",
              "      <td>NaN</td>\n",
              "      <td>630.0</td>\n",
              "      <td>NaN</td>\n",
              "      <td>NaN</td>\n",
              "      <td>NaN</td>\n",
              "      <td>NaN</td>\n",
              "      <td>NaN</td>\n",
              "      <td>NaN</td>\n",
              "      <td>NaN</td>\n",
              "      <td>NaN</td>\n",
              "      <td>NaN</td>\n",
              "      <td>NaN</td>\n",
              "      <td>NaN</td>\n",
              "      <td>NaN</td>\n",
              "      <td>0.0</td>\n",
              "      <td>NaN</td>\n",
              "      <td>NaN</td>\n",
              "      <td>NaN</td>\n",
              "      <td>NaN</td>\n",
              "      <td>NaN</td>\n",
              "      <td>NaN</td>\n",
              "      <td>NaN</td>\n",
              "      <td>NaN</td>\n",
              "      <td>NaN</td>\n",
              "      <td>NaN</td>\n",
              "      <td>NaN</td>\n",
              "      <td>NaN</td>\n",
              "      <td>305.10</td>\n",
              "      <td>NaN</td>\n",
              "      <td>NaN</td>\n",
              "    </tr>\n",
              "    <tr>\n",
              "      <th>12350.0</th>\n",
              "      <td>NaN</td>\n",
              "      <td>NaN</td>\n",
              "      <td>NaN</td>\n",
              "      <td>NaN</td>\n",
              "      <td>197.0</td>\n",
              "      <td>NaN</td>\n",
              "      <td>NaN</td>\n",
              "      <td>NaN</td>\n",
              "      <td>NaN</td>\n",
              "      <td>NaN</td>\n",
              "      <td>NaN</td>\n",
              "      <td>NaN</td>\n",
              "      <td>NaN</td>\n",
              "      <td>NaN</td>\n",
              "      <td>NaN</td>\n",
              "      <td>NaN</td>\n",
              "      <td>NaN</td>\n",
              "      <td>0.0</td>\n",
              "      <td>NaN</td>\n",
              "      <td>NaN</td>\n",
              "      <td>NaN</td>\n",
              "      <td>NaN</td>\n",
              "      <td>NaN</td>\n",
              "      <td>NaN</td>\n",
              "      <td>NaN</td>\n",
              "      <td>NaN</td>\n",
              "      <td>NaN</td>\n",
              "      <td>NaN</td>\n",
              "      <td>NaN</td>\n",
              "      <td>NaN</td>\n",
              "      <td>65.30</td>\n",
              "      <td>NaN</td>\n",
              "      <td>NaN</td>\n",
              "      <td>NaN</td>\n",
              "      <td>NaN</td>\n",
              "      <td>NaN</td>\n",
              "      <td>NaN</td>\n",
              "      <td>NaN</td>\n",
              "      <td>NaN</td>\n",
              "    </tr>\n",
              "    <tr>\n",
              "      <th>12352.0</th>\n",
              "      <td>NaN</td>\n",
              "      <td>NaN</td>\n",
              "      <td>NaN</td>\n",
              "      <td>NaN</td>\n",
              "      <td>98.0</td>\n",
              "      <td>NaN</td>\n",
              "      <td>NaN</td>\n",
              "      <td>NaN</td>\n",
              "      <td>90.0</td>\n",
              "      <td>NaN</td>\n",
              "      <td>127.0</td>\n",
              "      <td>NaN</td>\n",
              "      <td>155.0</td>\n",
              "      <td>NaN</td>\n",
              "      <td>NaN</td>\n",
              "      <td>NaN</td>\n",
              "      <td>NaN</td>\n",
              "      <td>0.0</td>\n",
              "      <td>NaN</td>\n",
              "      <td>NaN</td>\n",
              "      <td>NaN</td>\n",
              "      <td>7.0</td>\n",
              "      <td>NaN</td>\n",
              "      <td>0.0</td>\n",
              "      <td>NaN</td>\n",
              "      <td>0.0</td>\n",
              "      <td>NaN</td>\n",
              "      <td>NaN</td>\n",
              "      <td>NaN</td>\n",
              "      <td>NaN</td>\n",
              "      <td>68.35</td>\n",
              "      <td>NaN</td>\n",
              "      <td>NaN</td>\n",
              "      <td>NaN</td>\n",
              "      <td>151.12</td>\n",
              "      <td>NaN</td>\n",
              "      <td>86.53</td>\n",
              "      <td>NaN</td>\n",
              "      <td>224.50</td>\n",
              "    </tr>\n",
              "  </tbody>\n",
              "</table>\n",
              "</div>"
            ],
            "text/plain": [
              "            quantity_2010_Dec  quantity_2011_Apr  quantity_2011_Aug  quantity_2011_Dec  quantity_2011_Feb  quantity_2011_Jan  quantity_2011_Jul  quantity_2011_Jun  quantity_2011_Mar  quantity_2011_May  quantity_2011_Nov  quantity_2011_Oct  quantity_2011_Sep  return_2010_Dec  return_2011_Apr  return_2011_Aug  return_2011_Dec  return_2011_Feb  return_2011_Jan  return_2011_Jul  return_2011_Jun  return_2011_Mar  return_2011_May  return_2011_Nov  return_2011_Oct  return_2011_Sep  unitprice_2010_Dec  unitprice_2011_Apr  unitprice_2011_Aug  unitprice_2011_Dec  unitprice_2011_Feb  unitprice_2011_Jan  unitprice_2011_Jul  unitprice_2011_Jun  unitprice_2011_Mar  unitprice_2011_May  unitprice_2011_Nov  unitprice_2011_Oct  unitprice_2011_Sep\n",
              "customerid                                                                                                                                                                                                                                                                                                                                                                                                                                                                                                                                                                                                                                                                                                                                                        \n",
              "12347.0                 319.0              243.0              277.0              192.0                NaN              315.0                NaN              196.0                NaN                NaN                NaN              676.0                NaN              0.0              0.0              0.0              0.0              NaN              0.0              NaN              0.0              NaN              NaN              NaN              0.0              NaN               89.59               61.25               68.24               13.54                 NaN               73.17                 NaN               53.62                 NaN                 NaN                 NaN              120.76                 NaN\n",
              "12348.0                 480.0              269.0                NaN                NaN                NaN               25.0                NaN                NaN                NaN                NaN                NaN                NaN               97.0              0.0              0.0              NaN              NaN              NaN              0.0              NaN              NaN              NaN              NaN              NaN              NaN              0.0                7.34               44.60                 NaN                 NaN                 NaN               40.85                 NaN                 NaN                 NaN                 NaN                 NaN                 NaN               41.25\n",
              "12349.0                   NaN                NaN                NaN                NaN                NaN                NaN                NaN                NaN                NaN                NaN              630.0                NaN                NaN              NaN              NaN              NaN              NaN              NaN              NaN              NaN              NaN              NaN              NaN              0.0              NaN              NaN                 NaN                 NaN                 NaN                 NaN                 NaN                 NaN                 NaN                 NaN                 NaN                 NaN              305.10                 NaN                 NaN\n",
              "12350.0                   NaN                NaN                NaN                NaN              197.0                NaN                NaN                NaN                NaN                NaN                NaN                NaN                NaN              NaN              NaN              NaN              NaN              0.0              NaN              NaN              NaN              NaN              NaN              NaN              NaN              NaN                 NaN                 NaN                 NaN                 NaN               65.30                 NaN                 NaN                 NaN                 NaN                 NaN                 NaN                 NaN                 NaN\n",
              "12352.0                   NaN                NaN                NaN                NaN               98.0                NaN                NaN                NaN               90.0                NaN              127.0                NaN              155.0              NaN              NaN              NaN              NaN              0.0              NaN              NaN              NaN              7.0              NaN              0.0              NaN              0.0                 NaN                 NaN                 NaN                 NaN               68.35                 NaN                 NaN                 NaN              151.12                 NaN               86.53                 NaN              224.50"
            ]
          },
          "metadata": {
            "tags": []
          },
          "execution_count": 243
        }
      ]
    },
    {
      "cell_type": "code",
      "metadata": {
        "id": "L-wzJSoOJPjw",
        "colab_type": "code",
        "colab": {}
      },
      "source": [
        "ABT_pivot.fillna(value=0,inplace=True)"
      ],
      "execution_count": 0,
      "outputs": []
    },
    {
      "cell_type": "code",
      "metadata": {
        "id": "2BW0HF-xJPwl",
        "colab_type": "code",
        "colab": {
          "base_uri": "https://localhost:8080/",
          "height": 247
        },
        "outputId": "5817fc7f-a67d-4aee-bf98-da0d88157c7c"
      },
      "source": [
        "ABT_pivot.head()"
      ],
      "execution_count": 245,
      "outputs": [
        {
          "output_type": "execute_result",
          "data": {
            "text/html": [
              "<div>\n",
              "<style scoped>\n",
              "    .dataframe tbody tr th:only-of-type {\n",
              "        vertical-align: middle;\n",
              "    }\n",
              "\n",
              "    .dataframe tbody tr th {\n",
              "        vertical-align: top;\n",
              "    }\n",
              "\n",
              "    .dataframe thead th {\n",
              "        text-align: right;\n",
              "    }\n",
              "</style>\n",
              "<table border=\"1\" class=\"dataframe\">\n",
              "  <thead>\n",
              "    <tr style=\"text-align: right;\">\n",
              "      <th></th>\n",
              "      <th>quantity_2010_Dec</th>\n",
              "      <th>quantity_2011_Apr</th>\n",
              "      <th>quantity_2011_Aug</th>\n",
              "      <th>quantity_2011_Dec</th>\n",
              "      <th>quantity_2011_Feb</th>\n",
              "      <th>quantity_2011_Jan</th>\n",
              "      <th>quantity_2011_Jul</th>\n",
              "      <th>quantity_2011_Jun</th>\n",
              "      <th>quantity_2011_Mar</th>\n",
              "      <th>quantity_2011_May</th>\n",
              "      <th>quantity_2011_Nov</th>\n",
              "      <th>quantity_2011_Oct</th>\n",
              "      <th>quantity_2011_Sep</th>\n",
              "      <th>return_2010_Dec</th>\n",
              "      <th>return_2011_Apr</th>\n",
              "      <th>return_2011_Aug</th>\n",
              "      <th>return_2011_Dec</th>\n",
              "      <th>return_2011_Feb</th>\n",
              "      <th>return_2011_Jan</th>\n",
              "      <th>return_2011_Jul</th>\n",
              "      <th>return_2011_Jun</th>\n",
              "      <th>return_2011_Mar</th>\n",
              "      <th>return_2011_May</th>\n",
              "      <th>return_2011_Nov</th>\n",
              "      <th>return_2011_Oct</th>\n",
              "      <th>return_2011_Sep</th>\n",
              "      <th>unitprice_2010_Dec</th>\n",
              "      <th>unitprice_2011_Apr</th>\n",
              "      <th>unitprice_2011_Aug</th>\n",
              "      <th>unitprice_2011_Dec</th>\n",
              "      <th>unitprice_2011_Feb</th>\n",
              "      <th>unitprice_2011_Jan</th>\n",
              "      <th>unitprice_2011_Jul</th>\n",
              "      <th>unitprice_2011_Jun</th>\n",
              "      <th>unitprice_2011_Mar</th>\n",
              "      <th>unitprice_2011_May</th>\n",
              "      <th>unitprice_2011_Nov</th>\n",
              "      <th>unitprice_2011_Oct</th>\n",
              "      <th>unitprice_2011_Sep</th>\n",
              "    </tr>\n",
              "    <tr>\n",
              "      <th>customerid</th>\n",
              "      <th></th>\n",
              "      <th></th>\n",
              "      <th></th>\n",
              "      <th></th>\n",
              "      <th></th>\n",
              "      <th></th>\n",
              "      <th></th>\n",
              "      <th></th>\n",
              "      <th></th>\n",
              "      <th></th>\n",
              "      <th></th>\n",
              "      <th></th>\n",
              "      <th></th>\n",
              "      <th></th>\n",
              "      <th></th>\n",
              "      <th></th>\n",
              "      <th></th>\n",
              "      <th></th>\n",
              "      <th></th>\n",
              "      <th></th>\n",
              "      <th></th>\n",
              "      <th></th>\n",
              "      <th></th>\n",
              "      <th></th>\n",
              "      <th></th>\n",
              "      <th></th>\n",
              "      <th></th>\n",
              "      <th></th>\n",
              "      <th></th>\n",
              "      <th></th>\n",
              "      <th></th>\n",
              "      <th></th>\n",
              "      <th></th>\n",
              "      <th></th>\n",
              "      <th></th>\n",
              "      <th></th>\n",
              "      <th></th>\n",
              "      <th></th>\n",
              "      <th></th>\n",
              "    </tr>\n",
              "  </thead>\n",
              "  <tbody>\n",
              "    <tr>\n",
              "      <th>12347.0</th>\n",
              "      <td>319.0</td>\n",
              "      <td>243.0</td>\n",
              "      <td>277.0</td>\n",
              "      <td>192.0</td>\n",
              "      <td>0.0</td>\n",
              "      <td>315.0</td>\n",
              "      <td>0.0</td>\n",
              "      <td>196.0</td>\n",
              "      <td>0.0</td>\n",
              "      <td>0.0</td>\n",
              "      <td>0.0</td>\n",
              "      <td>676.0</td>\n",
              "      <td>0.0</td>\n",
              "      <td>0.0</td>\n",
              "      <td>0.0</td>\n",
              "      <td>0.0</td>\n",
              "      <td>0.0</td>\n",
              "      <td>0.0</td>\n",
              "      <td>0.0</td>\n",
              "      <td>0.0</td>\n",
              "      <td>0.0</td>\n",
              "      <td>0.0</td>\n",
              "      <td>0.0</td>\n",
              "      <td>0.0</td>\n",
              "      <td>0.0</td>\n",
              "      <td>0.0</td>\n",
              "      <td>89.59</td>\n",
              "      <td>61.25</td>\n",
              "      <td>68.24</td>\n",
              "      <td>13.54</td>\n",
              "      <td>0.00</td>\n",
              "      <td>73.17</td>\n",
              "      <td>0.0</td>\n",
              "      <td>53.62</td>\n",
              "      <td>0.00</td>\n",
              "      <td>0.0</td>\n",
              "      <td>0.00</td>\n",
              "      <td>120.76</td>\n",
              "      <td>0.00</td>\n",
              "    </tr>\n",
              "    <tr>\n",
              "      <th>12348.0</th>\n",
              "      <td>480.0</td>\n",
              "      <td>269.0</td>\n",
              "      <td>0.0</td>\n",
              "      <td>0.0</td>\n",
              "      <td>0.0</td>\n",
              "      <td>25.0</td>\n",
              "      <td>0.0</td>\n",
              "      <td>0.0</td>\n",
              "      <td>0.0</td>\n",
              "      <td>0.0</td>\n",
              "      <td>0.0</td>\n",
              "      <td>0.0</td>\n",
              "      <td>97.0</td>\n",
              "      <td>0.0</td>\n",
              "      <td>0.0</td>\n",
              "      <td>0.0</td>\n",
              "      <td>0.0</td>\n",
              "      <td>0.0</td>\n",
              "      <td>0.0</td>\n",
              "      <td>0.0</td>\n",
              "      <td>0.0</td>\n",
              "      <td>0.0</td>\n",
              "      <td>0.0</td>\n",
              "      <td>0.0</td>\n",
              "      <td>0.0</td>\n",
              "      <td>0.0</td>\n",
              "      <td>7.34</td>\n",
              "      <td>44.60</td>\n",
              "      <td>0.00</td>\n",
              "      <td>0.00</td>\n",
              "      <td>0.00</td>\n",
              "      <td>40.85</td>\n",
              "      <td>0.0</td>\n",
              "      <td>0.00</td>\n",
              "      <td>0.00</td>\n",
              "      <td>0.0</td>\n",
              "      <td>0.00</td>\n",
              "      <td>0.00</td>\n",
              "      <td>41.25</td>\n",
              "    </tr>\n",
              "    <tr>\n",
              "      <th>12349.0</th>\n",
              "      <td>0.0</td>\n",
              "      <td>0.0</td>\n",
              "      <td>0.0</td>\n",
              "      <td>0.0</td>\n",
              "      <td>0.0</td>\n",
              "      <td>0.0</td>\n",
              "      <td>0.0</td>\n",
              "      <td>0.0</td>\n",
              "      <td>0.0</td>\n",
              "      <td>0.0</td>\n",
              "      <td>630.0</td>\n",
              "      <td>0.0</td>\n",
              "      <td>0.0</td>\n",
              "      <td>0.0</td>\n",
              "      <td>0.0</td>\n",
              "      <td>0.0</td>\n",
              "      <td>0.0</td>\n",
              "      <td>0.0</td>\n",
              "      <td>0.0</td>\n",
              "      <td>0.0</td>\n",
              "      <td>0.0</td>\n",
              "      <td>0.0</td>\n",
              "      <td>0.0</td>\n",
              "      <td>0.0</td>\n",
              "      <td>0.0</td>\n",
              "      <td>0.0</td>\n",
              "      <td>0.00</td>\n",
              "      <td>0.00</td>\n",
              "      <td>0.00</td>\n",
              "      <td>0.00</td>\n",
              "      <td>0.00</td>\n",
              "      <td>0.00</td>\n",
              "      <td>0.0</td>\n",
              "      <td>0.00</td>\n",
              "      <td>0.00</td>\n",
              "      <td>0.0</td>\n",
              "      <td>305.10</td>\n",
              "      <td>0.00</td>\n",
              "      <td>0.00</td>\n",
              "    </tr>\n",
              "    <tr>\n",
              "      <th>12350.0</th>\n",
              "      <td>0.0</td>\n",
              "      <td>0.0</td>\n",
              "      <td>0.0</td>\n",
              "      <td>0.0</td>\n",
              "      <td>197.0</td>\n",
              "      <td>0.0</td>\n",
              "      <td>0.0</td>\n",
              "      <td>0.0</td>\n",
              "      <td>0.0</td>\n",
              "      <td>0.0</td>\n",
              "      <td>0.0</td>\n",
              "      <td>0.0</td>\n",
              "      <td>0.0</td>\n",
              "      <td>0.0</td>\n",
              "      <td>0.0</td>\n",
              "      <td>0.0</td>\n",
              "      <td>0.0</td>\n",
              "      <td>0.0</td>\n",
              "      <td>0.0</td>\n",
              "      <td>0.0</td>\n",
              "      <td>0.0</td>\n",
              "      <td>0.0</td>\n",
              "      <td>0.0</td>\n",
              "      <td>0.0</td>\n",
              "      <td>0.0</td>\n",
              "      <td>0.0</td>\n",
              "      <td>0.00</td>\n",
              "      <td>0.00</td>\n",
              "      <td>0.00</td>\n",
              "      <td>0.00</td>\n",
              "      <td>65.30</td>\n",
              "      <td>0.00</td>\n",
              "      <td>0.0</td>\n",
              "      <td>0.00</td>\n",
              "      <td>0.00</td>\n",
              "      <td>0.0</td>\n",
              "      <td>0.00</td>\n",
              "      <td>0.00</td>\n",
              "      <td>0.00</td>\n",
              "    </tr>\n",
              "    <tr>\n",
              "      <th>12352.0</th>\n",
              "      <td>0.0</td>\n",
              "      <td>0.0</td>\n",
              "      <td>0.0</td>\n",
              "      <td>0.0</td>\n",
              "      <td>98.0</td>\n",
              "      <td>0.0</td>\n",
              "      <td>0.0</td>\n",
              "      <td>0.0</td>\n",
              "      <td>90.0</td>\n",
              "      <td>0.0</td>\n",
              "      <td>127.0</td>\n",
              "      <td>0.0</td>\n",
              "      <td>155.0</td>\n",
              "      <td>0.0</td>\n",
              "      <td>0.0</td>\n",
              "      <td>0.0</td>\n",
              "      <td>0.0</td>\n",
              "      <td>0.0</td>\n",
              "      <td>0.0</td>\n",
              "      <td>0.0</td>\n",
              "      <td>0.0</td>\n",
              "      <td>7.0</td>\n",
              "      <td>0.0</td>\n",
              "      <td>0.0</td>\n",
              "      <td>0.0</td>\n",
              "      <td>0.0</td>\n",
              "      <td>0.00</td>\n",
              "      <td>0.00</td>\n",
              "      <td>0.00</td>\n",
              "      <td>0.00</td>\n",
              "      <td>68.35</td>\n",
              "      <td>0.00</td>\n",
              "      <td>0.0</td>\n",
              "      <td>0.00</td>\n",
              "      <td>151.12</td>\n",
              "      <td>0.0</td>\n",
              "      <td>86.53</td>\n",
              "      <td>0.00</td>\n",
              "      <td>224.50</td>\n",
              "    </tr>\n",
              "  </tbody>\n",
              "</table>\n",
              "</div>"
            ],
            "text/plain": [
              "            quantity_2010_Dec  quantity_2011_Apr  quantity_2011_Aug  quantity_2011_Dec  quantity_2011_Feb  quantity_2011_Jan  quantity_2011_Jul  quantity_2011_Jun  quantity_2011_Mar  quantity_2011_May  quantity_2011_Nov  quantity_2011_Oct  quantity_2011_Sep  return_2010_Dec  return_2011_Apr  return_2011_Aug  return_2011_Dec  return_2011_Feb  return_2011_Jan  return_2011_Jul  return_2011_Jun  return_2011_Mar  return_2011_May  return_2011_Nov  return_2011_Oct  return_2011_Sep  unitprice_2010_Dec  unitprice_2011_Apr  unitprice_2011_Aug  unitprice_2011_Dec  unitprice_2011_Feb  unitprice_2011_Jan  unitprice_2011_Jul  unitprice_2011_Jun  unitprice_2011_Mar  unitprice_2011_May  unitprice_2011_Nov  unitprice_2011_Oct  unitprice_2011_Sep\n",
              "customerid                                                                                                                                                                                                                                                                                                                                                                                                                                                                                                                                                                                                                                                                                                                                                        \n",
              "12347.0                 319.0              243.0              277.0              192.0                0.0              315.0                0.0              196.0                0.0                0.0                0.0              676.0                0.0              0.0              0.0              0.0              0.0              0.0              0.0              0.0              0.0              0.0              0.0              0.0              0.0              0.0               89.59               61.25               68.24               13.54                0.00               73.17                 0.0               53.62                0.00                 0.0                0.00              120.76                0.00\n",
              "12348.0                 480.0              269.0                0.0                0.0                0.0               25.0                0.0                0.0                0.0                0.0                0.0                0.0               97.0              0.0              0.0              0.0              0.0              0.0              0.0              0.0              0.0              0.0              0.0              0.0              0.0              0.0                7.34               44.60                0.00                0.00                0.00               40.85                 0.0                0.00                0.00                 0.0                0.00                0.00               41.25\n",
              "12349.0                   0.0                0.0                0.0                0.0                0.0                0.0                0.0                0.0                0.0                0.0              630.0                0.0                0.0              0.0              0.0              0.0              0.0              0.0              0.0              0.0              0.0              0.0              0.0              0.0              0.0              0.0                0.00                0.00                0.00                0.00                0.00                0.00                 0.0                0.00                0.00                 0.0              305.10                0.00                0.00\n",
              "12350.0                   0.0                0.0                0.0                0.0              197.0                0.0                0.0                0.0                0.0                0.0                0.0                0.0                0.0              0.0              0.0              0.0              0.0              0.0              0.0              0.0              0.0              0.0              0.0              0.0              0.0              0.0                0.00                0.00                0.00                0.00               65.30                0.00                 0.0                0.00                0.00                 0.0                0.00                0.00                0.00\n",
              "12352.0                   0.0                0.0                0.0                0.0               98.0                0.0                0.0                0.0               90.0                0.0              127.0                0.0              155.0              0.0              0.0              0.0              0.0              0.0              0.0              0.0              0.0              7.0              0.0              0.0              0.0              0.0                0.00                0.00                0.00                0.00               68.35                0.00                 0.0                0.00              151.12                 0.0               86.53                0.00              224.50"
            ]
          },
          "metadata": {
            "tags": []
          },
          "execution_count": 245
        }
      ]
    },
    {
      "cell_type": "markdown",
      "metadata": {
        "id": "wOIU-JUPT_FJ",
        "colab_type": "text"
      },
      "source": [
        "## Distributing data according to month may help in getting seasonal features as well.However with just one year data this might not be effective enough here for a classification model.\n",
        "\n",
        "# With this, let us THNAK YOU for going through this simplistic coding. I am sure this is not an ART WORK, there are lot more scope to improve. We would love to listen to you and take your contribution as well to make it better on each iteration.\n",
        "\n",
        "For any details please feel free to contact:\n",
        "\n",
        " Kumarjit Pathak:\n",
        "www.linkedin.com/in/kumarjitpathak\n",
        "\n",
        "Vinoth Venkatraman: https://www.linkedin.com/in/vinoth1687/\n",
        "\n",
        "Jitin Kapila: https://www.linkedin.com/in/jitinkapila/\n",
        "\n",
        "\n"
      ]
    },
    {
      "cell_type": "code",
      "metadata": {
        "id": "i8Gslbt0YCUU",
        "colab_type": "code",
        "colab": {}
      },
      "source": [
        ""
      ],
      "execution_count": 0,
      "outputs": []
    }
  ]
}
{
  "nbformat": 4,
  "nbformat_minor": 0,
  "metadata": {
    "colab": {
      "name": "Transaction data preparation final KP JK VV _dynamic reference frame.ipynb",
      "provenance": [],
      "collapsed_sections": [],
      "authorship_tag": "ABX9TyN5nt0t0aEZQh4InWMajduX",
      "include_colab_link": true
    },
    "kernelspec": {
      "name": "python3",
      "display_name": "Python 3"
    }
  },
  "cells": [
    {
      "cell_type": "markdown",
      "metadata": {
        "id": "view-in-github",
        "colab_type": "text"
      },
      "source": [
        "<a href=\"https://colab.research.google.com/github/kumarjitpathakbangalore/Data-Science-from-Scratch/blob/master/Transaction_data_preparation_final_KP_JK_VV__dynamic_reference_frame.ipynb\" target=\"_parent\"><img src=\"https://colab.research.google.com/assets/colab-badge.svg\" alt=\"Open In Colab\"/></a>"
      ]
    },
    {
      "cell_type": "markdown",
      "metadata": {
        "id": "gWhDY6o4MKyO",
        "colab_type": "text"
      },
      "source": [
        "# A journey from POS data to usable features for any classification modelling \n",
        "\n",
        "## What are we going to cover here?\n",
        "\n",
        "Note: We took an example dataset from ecommerce transaction data from kaggle to do our experimentation"
      ]
    },
    {
      "cell_type": "markdown",
      "metadata": {
        "id": "dACzcD9PaWXl",
        "colab_type": "text"
      },
      "source": [
        "Hello readers, It's been some time since  posted my last bolg on neural network. \n",
        "\n",
        "After spending 14 years on the field of data science(predictive modelling. I realized that many of the **budding data scienitst** have great difficulty in understanding data before applying any machine learning techniques or mathing the coding skills of a core programmer. \n",
        "\n",
        "I intend to build this **notebook with step by step execution** so that a budding data scientist can cee and feel what is happening in each step of the program before executing the same at the same time realize the vaue of understanding the data in detail.\n",
        "\n",
        "This notebook is for budding data scientists not for the expert programmers. \n",
        "\n",
        "This notebook is a joint effort of **three partners colaboration (Jitin Kapila, Vinoth Venkatraman, and myself- Kumarjit Pathak)**. without all three of us coming togeather it may not have been possible to achieve this during COVID crisis period where we all are trying to save our job amidst great uncertainity.\n",
        "\n",
        "\n",
        "However there is a bigger responsibility of sharing while learning and hence continuing our effort. Hope you like it."
      ]
    },
    {
      "cell_type": "markdown",
      "metadata": {
        "id": "a9c2K30fRGUP",
        "colab_type": "text"
      },
      "source": [
        "We are going to use google colab for this excercise. Whoever wants to know more about how to use google colab you can follow the below link:\n",
        "\n",
        "https://medium.com/@kumarjitpathak/how-to-use-colab-for-data-science-experimentation-6859553c82da\n",
        "\n",
        "\n",
        "### We want to cover the following in this notebook\n",
        "\n",
        "\n",
        "> ## Data Understanding using transactional data\n",
        "\n",
        "*   **Understanding data issues**\n",
        "*   **Understanding date operation**\n",
        "*   **Dynamic subsetting of data** \n",
        "*   **Using if statement, for loop, list comprehension in a dataframe for analysis**\n",
        "*   **Data cleaning based on multiple condition**\n",
        "*   **Recoding of values in a dataframe based on condition** \n",
        "*   etc....\n",
        "\n",
        "\n",
        "\n",
        "> ## Exploratory data analysis\n",
        "\n",
        "\n",
        "*   **Univariate Study of variables**\n",
        "*   **Feature extraction from different variable**\n",
        "*   **Cross-tabulation**\n",
        "\n",
        "\n",
        "> ## Building ABT(Analytical Base Table)\n",
        "\n",
        "\n",
        "*   **Aggregating data at different level to build ABT**\n",
        "*   **How to dynamically recode column names using raval**\n",
        "\n",
        "\n",
        "\n",
        "> ### Introduction of dynamic reference frame method for ABT creation for futuristic classification (classifying what may happen in future)\n",
        "\n",
        "This is a concept which is not widely known in data science world. Let us introduce our paper on the same. \n",
        "https://scirate.com/arxiv/1805.10168\n",
        "\n",
        "\n",
        "\n",
        "**We shall cover the modelling part of it in our upcoming blogs: stay tuned**\n",
        "\n",
        "\n",
        "\n",
        "\n",
        "\n",
        "\n",
        "\n",
        "\n",
        "\n",
        "\n",
        "\n",
        "\n",
        "\n"
      ]
    },
    {
      "cell_type": "code",
      "metadata": {
        "id": "-28mNOvACYMY",
        "colab_type": "code",
        "outputId": "f05211a7-9bc0-4044-c473-7486a12f314e",
        "colab": {
          "resources": {
            "http://localhost:8080/nbextensions/google.colab/files.js": {
              "data": "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",
              "ok": true,
              "headers": [
                [
                  "content-type",
                  "application/javascript"
                ]
              ],
              "status": 200,
              "status_text": ""
            }
          },
          "base_uri": "https://localhost:8080/",
          "height": 92
        }
      },
      "source": [
        "# If you want to directly fetch any data from kaggle you need to download kaggle.jason once yu login in kaggle. \n",
        "#This will help colab to connec to the required dataset based on your own authentication\n",
        "\n",
        "\n",
        "from google.colab import files\n",
        "files.upload()\n",
        "\n",
        "# it would prompt for a jason file upload. Please go to your computer and select the kaggle Jason and it would autometically upload.\n",
        "\n"
      ],
      "execution_count": 1,
      "outputs": [
        {
          "output_type": "display_data",
          "data": {
            "text/html": [
              "\n",
              "     <input type=\"file\" id=\"files-6ea4f46a-d26e-4eae-b60f-8119e89ba17a\" name=\"files[]\" multiple disabled />\n",
              "     <output id=\"result-6ea4f46a-d26e-4eae-b60f-8119e89ba17a\">\n",
              "      Upload widget is only available when the cell has been executed in the\n",
              "      current browser session. Please rerun this cell to enable.\n",
              "      </output>\n",
              "      <script src=\"/nbextensions/google.colab/files.js\"></script> "
            ],
            "text/plain": [
              "<IPython.core.display.HTML object>"
            ]
          },
          "metadata": {
            "tags": []
          }
        },
        {
          "output_type": "stream",
          "text": [
            "Saving kaggle.json to kaggle.json\n"
          ],
          "name": "stdout"
        },
        {
          "output_type": "execute_result",
          "data": {
            "text/plain": [
              "{'kaggle.json': b'{\"username\":\"kumarjitpathak\",\"key\":\"862e983e01ae8b21ddc280e38eb3eed6\"}'}"
            ]
          },
          "metadata": {
            "tags": []
          },
          "execution_count": 1
        }
      ]
    },
    {
      "cell_type": "code",
      "metadata": {
        "id": "9S6d_KQUTFb1",
        "colab_type": "code",
        "outputId": "ebede488-e002-4196-8ef1-239a114a9f56",
        "colab": {
          "base_uri": "https://localhost:8080/",
          "height": 34
        }
      },
      "source": [
        "# Let's make sure the kaggle.json file is present.\n",
        "!ls -lha kaggle.json"
      ],
      "execution_count": 2,
      "outputs": [
        {
          "output_type": "stream",
          "text": [
            "-rw-r--r-- 1 root root 70 Apr 11 04:04 kaggle.json\n"
          ],
          "name": "stdout"
        }
      ]
    },
    {
      "cell_type": "code",
      "metadata": {
        "id": "dB7V_HjHTTMc",
        "colab_type": "code",
        "colab": {}
      },
      "source": [
        "# Next, install the Kaggle API client.\n",
        "!pip install -q kaggle"
      ],
      "execution_count": 0,
      "outputs": []
    },
    {
      "cell_type": "code",
      "metadata": {
        "id": "gIu0SI8aTTPg",
        "colab_type": "code",
        "colab": {}
      },
      "source": [
        "# The Kaggle API client expects this file to be in ~/.kaggle,\n",
        "# so move it there.\n",
        "!mkdir -p ~/.kaggle\n",
        "!cp kaggle.json ~/.kaggle/\n",
        "\n",
        "# This permissions change avoids a warning on Kaggle tool startup.\n",
        "!chmod 600 ~/.kaggle/kaggle.json"
      ],
      "execution_count": 0,
      "outputs": []
    },
    {
      "cell_type": "markdown",
      "metadata": {
        "id": "HC0-A8ZmTkUK",
        "colab_type": "text"
      },
      "source": [
        "### Now we have successfuly setup the kaggle API . It's time to data download directly from kaggle"
      ]
    },
    {
      "cell_type": "code",
      "metadata": {
        "id": "B3esL9n-TTSC",
        "colab_type": "code",
        "outputId": "eab5f9ca-2592-4100-abd8-52316bb7ce02",
        "colab": {
          "base_uri": "https://localhost:8080/",
          "height": 69
        }
      },
      "source": [
        "!kaggle datasets download -d carrie1/ecommerce-data"
      ],
      "execution_count": 0,
      "outputs": [
        {
          "output_type": "stream",
          "text": [
            "Downloading ecommerce-data.zip to /content\n",
            " 69% 5.00M/7.20M [00:00<00:00, 12.6MB/s]\n",
            "100% 7.20M/7.20M [00:00<00:00, 16.2MB/s]\n"
          ],
          "name": "stdout"
        }
      ]
    },
    {
      "cell_type": "markdown",
      "metadata": {
        "id": "Up2RRIqMk51U",
        "colab_type": "text"
      },
      "source": [
        "### Do we know where is the file currently located?"
      ]
    },
    {
      "cell_type": "code",
      "metadata": {
        "id": "j39aaOp6TTbM",
        "colab_type": "code",
        "outputId": "bc2e8237-c25d-4a70-9a90-d3c6675c5e5c",
        "colab": {
          "base_uri": "https://localhost:8080/",
          "height": 33
        }
      },
      "source": [
        "!ls /content/"
      ],
      "execution_count": 0,
      "outputs": [
        {
          "output_type": "stream",
          "text": [
            "ecommerce-data.zip  kaggle.json  sample_data\n"
          ],
          "name": "stdout"
        }
      ]
    },
    {
      "cell_type": "markdown",
      "metadata": {
        "id": "KvkzJgIXlJun",
        "colab_type": "text"
      },
      "source": [
        "### Data above in zip format, We might need to unzip the same.\n",
        "\n"
      ]
    },
    {
      "cell_type": "code",
      "metadata": {
        "id": "XL-nO1ZElIDy",
        "colab_type": "code",
        "outputId": "f0777e2c-b51e-4f9b-8bfe-149c7295de81",
        "colab": {
          "base_uri": "https://localhost:8080/",
          "height": 104
        }
      },
      "source": [
        "!sudo apt install unzip"
      ],
      "execution_count": 0,
      "outputs": [
        {
          "output_type": "stream",
          "text": [
            "Reading package lists... Done\n",
            "Building dependency tree       \n",
            "Reading state information... Done\n",
            "unzip is already the newest version (6.0-21ubuntu1).\n",
            "0 upgraded, 0 newly installed, 0 to remove and 25 not upgraded.\n"
          ],
          "name": "stdout"
        }
      ]
    },
    {
      "cell_type": "code",
      "metadata": {
        "id": "c0zM74mSTTgK",
        "colab_type": "code",
        "outputId": "1106de33-29bc-4479-db14-1b276c0d1b36",
        "colab": {
          "base_uri": "https://localhost:8080/",
          "height": 52
        }
      },
      "source": [
        "!unzip ecommerce-data.zip"
      ],
      "execution_count": 0,
      "outputs": [
        {
          "output_type": "stream",
          "text": [
            "Archive:  ecommerce-data.zip\n",
            "  inflating: data.csv                \n"
          ],
          "name": "stdout"
        }
      ]
    },
    {
      "cell_type": "markdown",
      "metadata": {
        "id": "NK0c59R3ln8_",
        "colab_type": "text"
      },
      "source": [
        "### Before going ahead and loading this file using pandas. Let's do litte check of our environment. These are codes just good to know not essential"
      ]
    },
    {
      "cell_type": "code",
      "metadata": {
        "id": "nWRxIMyTTTly",
        "colab_type": "code",
        "outputId": "e5b17474-0138-4340-cdf4-ef6c40ab2ec1",
        "colab": {
          "base_uri": "https://localhost:8080/",
          "height": 1000
        }
      },
      "source": [
        "!cat /proc/cpuinfo\n",
        "!cat /proc/meminfo"
      ],
      "execution_count": 0,
      "outputs": [
        {
          "output_type": "stream",
          "text": [
            "processor\t: 0\n",
            "vendor_id\t: GenuineIntel\n",
            "cpu family\t: 6\n",
            "model\t\t: 63\n",
            "model name\t: Intel(R) Xeon(R) CPU @ 2.30GHz\n",
            "stepping\t: 0\n",
            "microcode\t: 0x1\n",
            "cpu MHz\t\t: 2300.000\n",
            "cache size\t: 46080 KB\n",
            "physical id\t: 0\n",
            "siblings\t: 2\n",
            "core id\t\t: 0\n",
            "cpu cores\t: 1\n",
            "apicid\t\t: 0\n",
            "initial apicid\t: 0\n",
            "fpu\t\t: yes\n",
            "fpu_exception\t: yes\n",
            "cpuid level\t: 13\n",
            "wp\t\t: yes\n",
            "flags\t\t: fpu vme de pse tsc msr pae mce cx8 apic sep mtrr pge mca cmov pat pse36 clflush mmx fxsr sse sse2 ss ht syscall nx pdpe1gb rdtscp lm constant_tsc rep_good nopl xtopology nonstop_tsc cpuid tsc_known_freq pni pclmulqdq ssse3 fma cx16 pcid sse4_1 sse4_2 x2apic movbe popcnt aes xsave avx f16c rdrand hypervisor lahf_lm abm invpcid_single ssbd ibrs ibpb stibp fsgsbase tsc_adjust bmi1 avx2 smep bmi2 erms invpcid xsaveopt arat md_clear arch_capabilities\n",
            "bugs\t\t: cpu_meltdown spectre_v1 spectre_v2 spec_store_bypass l1tf mds swapgs itlb_multihit\n",
            "bogomips\t: 4600.00\n",
            "clflush size\t: 64\n",
            "cache_alignment\t: 64\n",
            "address sizes\t: 46 bits physical, 48 bits virtual\n",
            "power management:\n",
            "\n",
            "processor\t: 1\n",
            "vendor_id\t: GenuineIntel\n",
            "cpu family\t: 6\n",
            "model\t\t: 63\n",
            "model name\t: Intel(R) Xeon(R) CPU @ 2.30GHz\n",
            "stepping\t: 0\n",
            "microcode\t: 0x1\n",
            "cpu MHz\t\t: 2300.000\n",
            "cache size\t: 46080 KB\n",
            "physical id\t: 0\n",
            "siblings\t: 2\n",
            "core id\t\t: 0\n",
            "cpu cores\t: 1\n",
            "apicid\t\t: 1\n",
            "initial apicid\t: 1\n",
            "fpu\t\t: yes\n",
            "fpu_exception\t: yes\n",
            "cpuid level\t: 13\n",
            "wp\t\t: yes\n",
            "flags\t\t: fpu vme de pse tsc msr pae mce cx8 apic sep mtrr pge mca cmov pat pse36 clflush mmx fxsr sse sse2 ss ht syscall nx pdpe1gb rdtscp lm constant_tsc rep_good nopl xtopology nonstop_tsc cpuid tsc_known_freq pni pclmulqdq ssse3 fma cx16 pcid sse4_1 sse4_2 x2apic movbe popcnt aes xsave avx f16c rdrand hypervisor lahf_lm abm invpcid_single ssbd ibrs ibpb stibp fsgsbase tsc_adjust bmi1 avx2 smep bmi2 erms invpcid xsaveopt arat md_clear arch_capabilities\n",
            "bugs\t\t: cpu_meltdown spectre_v1 spectre_v2 spec_store_bypass l1tf mds swapgs itlb_multihit\n",
            "bogomips\t: 4600.00\n",
            "clflush size\t: 64\n",
            "cache_alignment\t: 64\n",
            "address sizes\t: 46 bits physical, 48 bits virtual\n",
            "power management:\n",
            "\n",
            "MemTotal:       13333556 kB\n",
            "MemFree:        10301868 kB\n",
            "MemAvailable:   12496540 kB\n",
            "Buffers:           71516 kB\n",
            "Cached:          2272044 kB\n",
            "SwapCached:            0 kB\n",
            "Active:           738032 kB\n",
            "Inactive:        2031088 kB\n",
            "Active(anon):     399856 kB\n",
            "Inactive(anon):      308 kB\n",
            "Active(file):     338176 kB\n",
            "Inactive(file):  2030780 kB\n",
            "Unevictable:           0 kB\n",
            "Mlocked:               0 kB\n",
            "SwapTotal:             0 kB\n",
            "SwapFree:              0 kB\n",
            "Dirty:               380 kB\n",
            "Writeback:             0 kB\n",
            "AnonPages:        425548 kB\n",
            "Mapped:           224784 kB\n",
            "Shmem:               892 kB\n",
            "Slab:             170360 kB\n",
            "SReclaimable:     132944 kB\n",
            "SUnreclaim:        37416 kB\n",
            "KernelStack:        3388 kB\n",
            "PageTables:         5352 kB\n",
            "NFS_Unstable:          0 kB\n",
            "Bounce:                0 kB\n",
            "WritebackTmp:          0 kB\n",
            "CommitLimit:     6666776 kB\n",
            "Committed_AS:    2509988 kB\n",
            "VmallocTotal:   34359738367 kB\n",
            "VmallocUsed:           0 kB\n",
            "VmallocChunk:          0 kB\n",
            "Percpu:              912 kB\n",
            "AnonHugePages:         0 kB\n",
            "ShmemHugePages:        0 kB\n",
            "ShmemPmdMapped:        0 kB\n",
            "HugePages_Total:       0\n",
            "HugePages_Free:        0\n",
            "HugePages_Rsvd:        0\n",
            "HugePages_Surp:        0\n",
            "Hugepagesize:       2048 kB\n",
            "Hugetlb:               0 kB\n",
            "DirectMap4k:       66748 kB\n",
            "DirectMap2M:     6223872 kB\n",
            "DirectMap1G:     9437184 kB\n"
          ],
          "name": "stdout"
        }
      ]
    },
    {
      "cell_type": "code",
      "metadata": {
        "id": "ZjSmFVnBTTrQ",
        "colab_type": "code",
        "outputId": "02745ac1-019d-45f3-cad0-cf2c22a12238",
        "colab": {
          "base_uri": "https://localhost:8080/",
          "height": 230
        }
      },
      "source": [
        "# Check GPU specification\n",
        "from tensorflow.python.client import device_lib\n",
        "device_lib.list_local_devices()"
      ],
      "execution_count": 0,
      "outputs": [
        {
          "output_type": "execute_result",
          "data": {
            "text/plain": [
              "[name: \"/device:CPU:0\"\n",
              " device_type: \"CPU\"\n",
              " memory_limit: 268435456\n",
              " locality {\n",
              " }\n",
              " incarnation: 11879623607362747225, name: \"/device:XLA_CPU:0\"\n",
              " device_type: \"XLA_CPU\"\n",
              " memory_limit: 17179869184\n",
              " locality {\n",
              " }\n",
              " incarnation: 7308560481223555769\n",
              " physical_device_desc: \"device: XLA_CPU device\"]"
            ]
          },
          "metadata": {
            "tags": []
          },
          "execution_count": 10
        }
      ]
    },
    {
      "cell_type": "markdown",
      "metadata": {
        "id": "U9Jv4EGkmJ5G",
        "colab_type": "text"
      },
      "source": [
        "### Let's now start working on the data and load the same in pandas. "
      ]
    },
    {
      "cell_type": "code",
      "metadata": {
        "id": "cr9DZ_UZTTzU",
        "colab_type": "code",
        "colab": {}
      },
      "source": [
        "import pandas as pd\n",
        "import numpy as np"
      ],
      "execution_count": 0,
      "outputs": []
    },
    {
      "cell_type": "code",
      "metadata": {
        "id": "38TEAduGTT5j",
        "colab_type": "code",
        "colab": {}
      },
      "source": [
        "ecomdata= pd.read_csv('data.csv', delimiter = ',',encoding= 'unicode_escape')"
      ],
      "execution_count": 0,
      "outputs": []
    },
    {
      "cell_type": "code",
      "metadata": {
        "id": "aG41rH9OTT2w",
        "colab_type": "code",
        "outputId": "b556ea41-561b-455b-c97f-d206e046eb98",
        "colab": {
          "base_uri": "https://localhost:8080/",
          "height": 139
        }
      },
      "source": [
        "ecomdata.head(3)"
      ],
      "execution_count": 0,
      "outputs": [
        {
          "output_type": "execute_result",
          "data": {
            "text/html": [
              "<div>\n",
              "<style scoped>\n",
              "    .dataframe tbody tr th:only-of-type {\n",
              "        vertical-align: middle;\n",
              "    }\n",
              "\n",
              "    .dataframe tbody tr th {\n",
              "        vertical-align: top;\n",
              "    }\n",
              "\n",
              "    .dataframe thead th {\n",
              "        text-align: right;\n",
              "    }\n",
              "</style>\n",
              "<table border=\"1\" class=\"dataframe\">\n",
              "  <thead>\n",
              "    <tr style=\"text-align: right;\">\n",
              "      <th></th>\n",
              "      <th>InvoiceNo</th>\n",
              "      <th>StockCode</th>\n",
              "      <th>Description</th>\n",
              "      <th>Quantity</th>\n",
              "      <th>InvoiceDate</th>\n",
              "      <th>UnitPrice</th>\n",
              "      <th>CustomerID</th>\n",
              "      <th>Country</th>\n",
              "    </tr>\n",
              "  </thead>\n",
              "  <tbody>\n",
              "    <tr>\n",
              "      <th>0</th>\n",
              "      <td>536365</td>\n",
              "      <td>85123A</td>\n",
              "      <td>WHITE HANGING HEART T-LIGHT HOLDER</td>\n",
              "      <td>6</td>\n",
              "      <td>12/1/2010 8:26</td>\n",
              "      <td>2.55</td>\n",
              "      <td>17850.0</td>\n",
              "      <td>United Kingdom</td>\n",
              "    </tr>\n",
              "    <tr>\n",
              "      <th>1</th>\n",
              "      <td>536365</td>\n",
              "      <td>71053</td>\n",
              "      <td>WHITE METAL LANTERN</td>\n",
              "      <td>6</td>\n",
              "      <td>12/1/2010 8:26</td>\n",
              "      <td>3.39</td>\n",
              "      <td>17850.0</td>\n",
              "      <td>United Kingdom</td>\n",
              "    </tr>\n",
              "    <tr>\n",
              "      <th>2</th>\n",
              "      <td>536365</td>\n",
              "      <td>84406B</td>\n",
              "      <td>CREAM CUPID HEARTS COAT HANGER</td>\n",
              "      <td>8</td>\n",
              "      <td>12/1/2010 8:26</td>\n",
              "      <td>2.75</td>\n",
              "      <td>17850.0</td>\n",
              "      <td>United Kingdom</td>\n",
              "    </tr>\n",
              "  </tbody>\n",
              "</table>\n",
              "</div>"
            ],
            "text/plain": [
              "  InvoiceNo StockCode  ... CustomerID         Country\n",
              "0    536365    85123A  ...    17850.0  United Kingdom\n",
              "1    536365     71053  ...    17850.0  United Kingdom\n",
              "2    536365    84406B  ...    17850.0  United Kingdom\n",
              "\n",
              "[3 rows x 8 columns]"
            ]
          },
          "metadata": {
            "tags": []
          },
          "execution_count": 11
        }
      ]
    },
    {
      "cell_type": "markdown",
      "metadata": {
        "id": "u4_PTONwqfPm",
        "colab_type": "text"
      },
      "source": [
        "#### Let's see what is the current data types and details of the file loaded"
      ]
    },
    {
      "cell_type": "code",
      "metadata": {
        "id": "5OpAuUicTTyH",
        "colab_type": "code",
        "outputId": "d89d122f-21d7-461a-f799-595900adec38",
        "colab": {
          "base_uri": "https://localhost:8080/",
          "height": 284
        }
      },
      "source": [
        "ecomdata.info()"
      ],
      "execution_count": 0,
      "outputs": [
        {
          "output_type": "stream",
          "text": [
            "<class 'pandas.core.frame.DataFrame'>\n",
            "RangeIndex: 541909 entries, 0 to 541908\n",
            "Data columns (total 8 columns):\n",
            " #   Column       Non-Null Count   Dtype  \n",
            "---  ------       --------------   -----  \n",
            " 0   InvoiceNo    541909 non-null  object \n",
            " 1   StockCode    541909 non-null  object \n",
            " 2   Description  540455 non-null  object \n",
            " 3   Quantity     541909 non-null  int64  \n",
            " 4   InvoiceDate  541909 non-null  object \n",
            " 5   UnitPrice    541909 non-null  float64\n",
            " 6   CustomerID   406829 non-null  float64\n",
            " 7   Country      541909 non-null  object \n",
            "dtypes: float64(2), int64(1), object(5)\n",
            "memory usage: 33.1+ MB\n"
          ],
          "name": "stdout"
        }
      ]
    },
    {
      "cell_type": "code",
      "metadata": {
        "id": "ZK24bCSYTTo5",
        "colab_type": "code",
        "outputId": "6b36e7bd-670b-429d-91dd-af73e1341f87",
        "colab": {
          "base_uri": "https://localhost:8080/",
          "height": 177
        }
      },
      "source": [
        "ecomdata.dtypes"
      ],
      "execution_count": 0,
      "outputs": [
        {
          "output_type": "execute_result",
          "data": {
            "text/plain": [
              "InvoiceNo       object\n",
              "StockCode       object\n",
              "Description     object\n",
              "Quantity         int64\n",
              "InvoiceDate     object\n",
              "UnitPrice      float64\n",
              "CustomerID     float64\n",
              "Country         object\n",
              "dtype: object"
            ]
          },
          "metadata": {
            "tags": []
          },
          "execution_count": 13
        }
      ]
    },
    {
      "cell_type": "markdown",
      "metadata": {
        "id": "XHlPBvUjq_dL",
        "colab_type": "text"
      },
      "source": [
        "#### Checking some priliminary matters:\n",
        "\n",
        "*   Shape of the files , Understand the size of the file dimention\n",
        "*   Basic descriptive , is there any extreme value?\n",
        "*   Is there any missing value?\n",
        "\n"
      ]
    },
    {
      "cell_type": "code",
      "metadata": {
        "id": "OJ1PBOKwTTwP",
        "colab_type": "code",
        "outputId": "34f25d78-3899-424d-c9bc-2dd7514d6a71",
        "colab": {
          "base_uri": "https://localhost:8080/",
          "height": 35
        }
      },
      "source": [
        "ecomdata.shape"
      ],
      "execution_count": 0,
      "outputs": [
        {
          "output_type": "execute_result",
          "data": {
            "text/plain": [
              "(541909, 8)"
            ]
          },
          "metadata": {
            "tags": []
          },
          "execution_count": 14
        }
      ]
    },
    {
      "cell_type": "code",
      "metadata": {
        "id": "UMt3WczH0POe",
        "colab_type": "code",
        "outputId": "7c95fcec-7f31-47d0-b69d-2e9471f5352d",
        "colab": {
          "base_uri": "https://localhost:8080/",
          "height": 291
        }
      },
      "source": [
        "ecomdata.describe()"
      ],
      "execution_count": 0,
      "outputs": [
        {
          "output_type": "execute_result",
          "data": {
            "text/html": [
              "<div>\n",
              "<style scoped>\n",
              "    .dataframe tbody tr th:only-of-type {\n",
              "        vertical-align: middle;\n",
              "    }\n",
              "\n",
              "    .dataframe tbody tr th {\n",
              "        vertical-align: top;\n",
              "    }\n",
              "\n",
              "    .dataframe thead th {\n",
              "        text-align: right;\n",
              "    }\n",
              "</style>\n",
              "<table border=\"1\" class=\"dataframe\">\n",
              "  <thead>\n",
              "    <tr style=\"text-align: right;\">\n",
              "      <th></th>\n",
              "      <th>Quantity</th>\n",
              "      <th>UnitPrice</th>\n",
              "      <th>CustomerID</th>\n",
              "    </tr>\n",
              "  </thead>\n",
              "  <tbody>\n",
              "    <tr>\n",
              "      <th>count</th>\n",
              "      <td>541909.000000</td>\n",
              "      <td>541909.000000</td>\n",
              "      <td>406829.000000</td>\n",
              "    </tr>\n",
              "    <tr>\n",
              "      <th>mean</th>\n",
              "      <td>9.552250</td>\n",
              "      <td>4.611114</td>\n",
              "      <td>15287.690570</td>\n",
              "    </tr>\n",
              "    <tr>\n",
              "      <th>std</th>\n",
              "      <td>218.081158</td>\n",
              "      <td>96.759853</td>\n",
              "      <td>1713.600303</td>\n",
              "    </tr>\n",
              "    <tr>\n",
              "      <th>min</th>\n",
              "      <td>-80995.000000</td>\n",
              "      <td>-11062.060000</td>\n",
              "      <td>12346.000000</td>\n",
              "    </tr>\n",
              "    <tr>\n",
              "      <th>25%</th>\n",
              "      <td>1.000000</td>\n",
              "      <td>1.250000</td>\n",
              "      <td>13953.000000</td>\n",
              "    </tr>\n",
              "    <tr>\n",
              "      <th>50%</th>\n",
              "      <td>3.000000</td>\n",
              "      <td>2.080000</td>\n",
              "      <td>15152.000000</td>\n",
              "    </tr>\n",
              "    <tr>\n",
              "      <th>75%</th>\n",
              "      <td>10.000000</td>\n",
              "      <td>4.130000</td>\n",
              "      <td>16791.000000</td>\n",
              "    </tr>\n",
              "    <tr>\n",
              "      <th>max</th>\n",
              "      <td>80995.000000</td>\n",
              "      <td>38970.000000</td>\n",
              "      <td>18287.000000</td>\n",
              "    </tr>\n",
              "  </tbody>\n",
              "</table>\n",
              "</div>"
            ],
            "text/plain": [
              "            Quantity      UnitPrice     CustomerID\n",
              "count  541909.000000  541909.000000  406829.000000\n",
              "mean        9.552250       4.611114   15287.690570\n",
              "std       218.081158      96.759853    1713.600303\n",
              "min    -80995.000000  -11062.060000   12346.000000\n",
              "25%         1.000000       1.250000   13953.000000\n",
              "50%         3.000000       2.080000   15152.000000\n",
              "75%        10.000000       4.130000   16791.000000\n",
              "max     80995.000000   38970.000000   18287.000000"
            ]
          },
          "metadata": {
            "tags": []
          },
          "execution_count": 15
        }
      ]
    },
    {
      "cell_type": "code",
      "metadata": {
        "id": "lr6WloUB0dtK",
        "colab_type": "code",
        "outputId": "518b9974-7da7-44cd-f722-e7c8af05f6f2",
        "colab": {
          "base_uri": "https://localhost:8080/",
          "height": 177
        }
      },
      "source": [
        "ecomdata.isnull().sum()"
      ],
      "execution_count": 0,
      "outputs": [
        {
          "output_type": "execute_result",
          "data": {
            "text/plain": [
              "InvoiceNo           0\n",
              "StockCode           0\n",
              "Description      1454\n",
              "Quantity            0\n",
              "InvoiceDate         0\n",
              "UnitPrice           0\n",
              "CustomerID     135080\n",
              "Country             0\n",
              "dtype: int64"
            ]
          },
          "metadata": {
            "tags": []
          },
          "execution_count": 16
        }
      ]
    },
    {
      "cell_type": "markdown",
      "metadata": {
        "id": "gOJhpibazzsQ",
        "colab_type": "text"
      },
      "source": [
        "### Our observation above:\n",
        "\n",
        "\n",
        "*   Date is currently in Object format and hence the operation might be difficult\n",
        "*   There are extreme values both on positive side and negative side\n",
        "*   There are missing values in Description and Customer ID columns \n",
        "*   Columns has capital and small letter as well - sometimes inconvenient for programming \n",
        "\n",
        "Note: Description can be filled based on Unique stock code vs description lookup, but customer ID is a basic beed of the data and hence it is better to drop the data lines which has NULL customer IDs\n",
        "\n"
      ]
    },
    {
      "cell_type": "markdown",
      "metadata": {
        "id": "bHgMB1GMVu3e",
        "colab_type": "text"
      },
      "source": [
        "### Let's first do date operation"
      ]
    },
    {
      "cell_type": "code",
      "metadata": {
        "id": "LyvGgujc0asz",
        "colab_type": "code",
        "outputId": "05912268-3af1-4f3c-8b35-82ad975de930",
        "colab": {
          "base_uri": "https://localhost:8080/",
          "height": 499
        }
      },
      "source": [
        "# Let's start with Date operations. Let's see what are the options it provides\n",
        "help(pd.datetime)"
      ],
      "execution_count": 0,
      "outputs": [
        {
          "output_type": "stream",
          "text": [
            "Help on class __DatetimeSub in module pandas:\n",
            "\n",
            "class __DatetimeSub(builtins.object)\n",
            " |  Methods defined here:\n",
            " |  \n",
            " |  emit_warning(dummy=0)\n",
            " |  \n",
            " |  ----------------------------------------------------------------------\n",
            " |  Static methods defined here:\n",
            " |  \n",
            " |  __new__(cls, *args, **kwargs)\n",
            " |      Create and return a new object.  See help(type) for accurate signature.\n",
            " |  \n",
            " |  ----------------------------------------------------------------------\n",
            " |  Data descriptors defined here:\n",
            " |  \n",
            " |  __dict__\n",
            " |      dictionary for instance variables (if defined)\n",
            " |  \n",
            " |  __weakref__\n",
            " |      list of weak references to the object (if defined)\n",
            "\n"
          ],
          "name": "stdout"
        },
        {
          "output_type": "stream",
          "text": [
            "/usr/lib/python3.6/inspect.py:441: FutureWarning: The pandas.datetime class is deprecated and will be removed from pandas in a future version. Import from datetime instead.\n",
            "  srch_obj = srch_cls.__getattr__(cls, name)\n",
            "/usr/lib/python3.6/pydoc.py:220: FutureWarning: The pandas.datetime class is deprecated and will be removed from pandas in a future version. Import from datetime instead.\n",
            "  fields = getattr(object, '_fields', [])\n"
          ],
          "name": "stderr"
        }
      ]
    },
    {
      "cell_type": "code",
      "metadata": {
        "id": "0O4V0ktvTTUb",
        "colab_type": "code",
        "colab": {}
      },
      "source": [
        "# Date Operation- Converting the Invoice date to DATE\n",
        "\n",
        "ecomdata[\"InvoiceDate\"]= pd.to_datetime(ecomdata.InvoiceDate)"
      ],
      "execution_count": 0,
      "outputs": []
    },
    {
      "cell_type": "code",
      "metadata": {
        "id": "tEIFVWtu23Oo",
        "colab_type": "code",
        "outputId": "bfcd2579-4972-490f-e9a0-0aa8161e21e8",
        "colab": {
          "base_uri": "https://localhost:8080/",
          "height": 177
        }
      },
      "source": [
        "ecomdata.dtypes"
      ],
      "execution_count": 0,
      "outputs": [
        {
          "output_type": "execute_result",
          "data": {
            "text/plain": [
              "InvoiceNo              object\n",
              "StockCode              object\n",
              "Description            object\n",
              "Quantity                int64\n",
              "InvoiceDate    datetime64[ns]\n",
              "UnitPrice             float64\n",
              "CustomerID            float64\n",
              "Country                object\n",
              "dtype: object"
            ]
          },
          "metadata": {
            "tags": []
          },
          "execution_count": 19
        }
      ]
    },
    {
      "cell_type": "markdown",
      "metadata": {
        "id": "QaLVgZm32_Db",
        "colab_type": "text"
      },
      "source": [
        "after coverting date time we can explore all the options to extract all info using below code +TAB\n",
        "\n",
        "CODE:\n",
        "ecomdata.InvoiceDate.dt."
      ]
    },
    {
      "cell_type": "markdown",
      "metadata": {
        "id": "RdyU8go-30L4",
        "colab_type": "text"
      },
      "source": [
        "### Let's Do Date operation in a different way, Using lambda function. This will help us to learn and apply in many other occisions "
      ]
    },
    {
      "cell_type": "code",
      "metadata": {
        "id": "Yj8c9AqW4Rqe",
        "colab_type": "code",
        "colab": {}
      },
      "source": [
        "# We have to load the data again as we have already changed the object to date above\n",
        "ecomdata= pd.read_csv('data.csv', delimiter = ',',encoding= 'unicode_escape')"
      ],
      "execution_count": 0,
      "outputs": []
    },
    {
      "cell_type": "code",
      "metadata": {
        "id": "6x5iAzrf4eU7",
        "colab_type": "code",
        "outputId": "99e2d599-78ef-4733-89f4-0f6956baaaf9",
        "colab": {
          "base_uri": "https://localhost:8080/",
          "height": 200
        }
      },
      "source": [
        "ecomdata[:5]"
      ],
      "execution_count": 0,
      "outputs": [
        {
          "output_type": "execute_result",
          "data": {
            "text/html": [
              "<div>\n",
              "<style scoped>\n",
              "    .dataframe tbody tr th:only-of-type {\n",
              "        vertical-align: middle;\n",
              "    }\n",
              "\n",
              "    .dataframe tbody tr th {\n",
              "        vertical-align: top;\n",
              "    }\n",
              "\n",
              "    .dataframe thead th {\n",
              "        text-align: right;\n",
              "    }\n",
              "</style>\n",
              "<table border=\"1\" class=\"dataframe\">\n",
              "  <thead>\n",
              "    <tr style=\"text-align: right;\">\n",
              "      <th></th>\n",
              "      <th>InvoiceNo</th>\n",
              "      <th>StockCode</th>\n",
              "      <th>Description</th>\n",
              "      <th>Quantity</th>\n",
              "      <th>InvoiceDate</th>\n",
              "      <th>UnitPrice</th>\n",
              "      <th>CustomerID</th>\n",
              "      <th>Country</th>\n",
              "    </tr>\n",
              "  </thead>\n",
              "  <tbody>\n",
              "    <tr>\n",
              "      <th>0</th>\n",
              "      <td>536365</td>\n",
              "      <td>85123A</td>\n",
              "      <td>WHITE HANGING HEART T-LIGHT HOLDER</td>\n",
              "      <td>6</td>\n",
              "      <td>12/1/2010 8:26</td>\n",
              "      <td>2.55</td>\n",
              "      <td>17850.0</td>\n",
              "      <td>United Kingdom</td>\n",
              "    </tr>\n",
              "    <tr>\n",
              "      <th>1</th>\n",
              "      <td>536365</td>\n",
              "      <td>71053</td>\n",
              "      <td>WHITE METAL LANTERN</td>\n",
              "      <td>6</td>\n",
              "      <td>12/1/2010 8:26</td>\n",
              "      <td>3.39</td>\n",
              "      <td>17850.0</td>\n",
              "      <td>United Kingdom</td>\n",
              "    </tr>\n",
              "    <tr>\n",
              "      <th>2</th>\n",
              "      <td>536365</td>\n",
              "      <td>84406B</td>\n",
              "      <td>CREAM CUPID HEARTS COAT HANGER</td>\n",
              "      <td>8</td>\n",
              "      <td>12/1/2010 8:26</td>\n",
              "      <td>2.75</td>\n",
              "      <td>17850.0</td>\n",
              "      <td>United Kingdom</td>\n",
              "    </tr>\n",
              "    <tr>\n",
              "      <th>3</th>\n",
              "      <td>536365</td>\n",
              "      <td>84029G</td>\n",
              "      <td>KNITTED UNION FLAG HOT WATER BOTTLE</td>\n",
              "      <td>6</td>\n",
              "      <td>12/1/2010 8:26</td>\n",
              "      <td>3.39</td>\n",
              "      <td>17850.0</td>\n",
              "      <td>United Kingdom</td>\n",
              "    </tr>\n",
              "    <tr>\n",
              "      <th>4</th>\n",
              "      <td>536365</td>\n",
              "      <td>84029E</td>\n",
              "      <td>RED WOOLLY HOTTIE WHITE HEART.</td>\n",
              "      <td>6</td>\n",
              "      <td>12/1/2010 8:26</td>\n",
              "      <td>3.39</td>\n",
              "      <td>17850.0</td>\n",
              "      <td>United Kingdom</td>\n",
              "    </tr>\n",
              "  </tbody>\n",
              "</table>\n",
              "</div>"
            ],
            "text/plain": [
              "  InvoiceNo StockCode  ... CustomerID         Country\n",
              "0    536365    85123A  ...    17850.0  United Kingdom\n",
              "1    536365     71053  ...    17850.0  United Kingdom\n",
              "2    536365    84406B  ...    17850.0  United Kingdom\n",
              "3    536365    84029G  ...    17850.0  United Kingdom\n",
              "4    536365    84029E  ...    17850.0  United Kingdom\n",
              "\n",
              "[5 rows x 8 columns]"
            ]
          },
          "metadata": {
            "tags": []
          },
          "execution_count": 21
        }
      ]
    },
    {
      "cell_type": "code",
      "metadata": {
        "id": "7p7OLTne26Jd",
        "colab_type": "code",
        "outputId": "e870b8db-a9de-4de7-a2b1-f135f586719f",
        "colab": {
          "base_uri": "https://localhost:8080/",
          "height": 124
        }
      },
      "source": [
        "# Another way to do it: Using lambda function and splitting the string based on space \n",
        "ecomdata[:5].InvoiceDate.apply(lambda X: X.split())"
      ],
      "execution_count": 0,
      "outputs": [
        {
          "output_type": "execute_result",
          "data": {
            "text/plain": [
              "0    [12/1/2010, 8:26]\n",
              "1    [12/1/2010, 8:26]\n",
              "2    [12/1/2010, 8:26]\n",
              "3    [12/1/2010, 8:26]\n",
              "4    [12/1/2010, 8:26]\n",
              "Name: InvoiceDate, dtype: object"
            ]
          },
          "metadata": {
            "tags": []
          },
          "execution_count": 22
        }
      ]
    },
    {
      "cell_type": "code",
      "metadata": {
        "id": "mS3YY1fB3zIZ",
        "colab_type": "code",
        "outputId": "6fb0892c-6aa9-4591-9580-7ae46d6a90f6",
        "colab": {
          "base_uri": "https://localhost:8080/",
          "height": 124
        }
      },
      "source": [
        "# Can we select only the first part of the string split\n",
        "ecomdata[:5].InvoiceDate.apply(lambda X: X.split()[0])"
      ],
      "execution_count": 0,
      "outputs": [
        {
          "output_type": "execute_result",
          "data": {
            "text/plain": [
              "0    12/1/2010\n",
              "1    12/1/2010\n",
              "2    12/1/2010\n",
              "3    12/1/2010\n",
              "4    12/1/2010\n",
              "Name: InvoiceDate, dtype: object"
            ]
          },
          "metadata": {
            "tags": []
          },
          "execution_count": 23
        }
      ]
    },
    {
      "cell_type": "code",
      "metadata": {
        "id": "nYR5rqE03uX1",
        "colab_type": "code",
        "colab": {}
      },
      "source": [
        "# Let's now apply this on the complete ecom data for Invoice Date column\n",
        "ecomdata[\"newdate\"] = ecomdata.InvoiceDate.apply(lambda X: X.split()[0])"
      ],
      "execution_count": 0,
      "outputs": []
    },
    {
      "cell_type": "code",
      "metadata": {
        "id": "AhEY3H7w5k-A",
        "colab_type": "code",
        "outputId": "4351abc7-e9af-43e1-8cd7-3b7a50d9426a",
        "colab": {
          "base_uri": "https://localhost:8080/",
          "height": 139
        }
      },
      "source": [
        "ecomdata.head(3)"
      ],
      "execution_count": 0,
      "outputs": [
        {
          "output_type": "execute_result",
          "data": {
            "text/html": [
              "<div>\n",
              "<style scoped>\n",
              "    .dataframe tbody tr th:only-of-type {\n",
              "        vertical-align: middle;\n",
              "    }\n",
              "\n",
              "    .dataframe tbody tr th {\n",
              "        vertical-align: top;\n",
              "    }\n",
              "\n",
              "    .dataframe thead th {\n",
              "        text-align: right;\n",
              "    }\n",
              "</style>\n",
              "<table border=\"1\" class=\"dataframe\">\n",
              "  <thead>\n",
              "    <tr style=\"text-align: right;\">\n",
              "      <th></th>\n",
              "      <th>InvoiceNo</th>\n",
              "      <th>StockCode</th>\n",
              "      <th>Description</th>\n",
              "      <th>Quantity</th>\n",
              "      <th>InvoiceDate</th>\n",
              "      <th>UnitPrice</th>\n",
              "      <th>CustomerID</th>\n",
              "      <th>Country</th>\n",
              "      <th>newdate</th>\n",
              "    </tr>\n",
              "  </thead>\n",
              "  <tbody>\n",
              "    <tr>\n",
              "      <th>0</th>\n",
              "      <td>536365</td>\n",
              "      <td>85123A</td>\n",
              "      <td>WHITE HANGING HEART T-LIGHT HOLDER</td>\n",
              "      <td>6</td>\n",
              "      <td>12/1/2010 8:26</td>\n",
              "      <td>2.55</td>\n",
              "      <td>17850.0</td>\n",
              "      <td>United Kingdom</td>\n",
              "      <td>12/1/2010</td>\n",
              "    </tr>\n",
              "    <tr>\n",
              "      <th>1</th>\n",
              "      <td>536365</td>\n",
              "      <td>71053</td>\n",
              "      <td>WHITE METAL LANTERN</td>\n",
              "      <td>6</td>\n",
              "      <td>12/1/2010 8:26</td>\n",
              "      <td>3.39</td>\n",
              "      <td>17850.0</td>\n",
              "      <td>United Kingdom</td>\n",
              "      <td>12/1/2010</td>\n",
              "    </tr>\n",
              "    <tr>\n",
              "      <th>2</th>\n",
              "      <td>536365</td>\n",
              "      <td>84406B</td>\n",
              "      <td>CREAM CUPID HEARTS COAT HANGER</td>\n",
              "      <td>8</td>\n",
              "      <td>12/1/2010 8:26</td>\n",
              "      <td>2.75</td>\n",
              "      <td>17850.0</td>\n",
              "      <td>United Kingdom</td>\n",
              "      <td>12/1/2010</td>\n",
              "    </tr>\n",
              "  </tbody>\n",
              "</table>\n",
              "</div>"
            ],
            "text/plain": [
              "  InvoiceNo StockCode  ...         Country    newdate\n",
              "0    536365    85123A  ...  United Kingdom  12/1/2010\n",
              "1    536365     71053  ...  United Kingdom  12/1/2010\n",
              "2    536365    84406B  ...  United Kingdom  12/1/2010\n",
              "\n",
              "[3 rows x 9 columns]"
            ]
          },
          "metadata": {
            "tags": []
          },
          "execution_count": 25
        }
      ]
    },
    {
      "cell_type": "code",
      "metadata": {
        "id": "B33FF5IJ5sZR",
        "colab_type": "code",
        "colab": {}
      },
      "source": [
        "# now converting the \"newdate\" to date time type\n",
        "\n",
        "ecomdata[\"newdate\"]= pd.to_datetime(ecomdata.newdate)"
      ],
      "execution_count": 0,
      "outputs": []
    },
    {
      "cell_type": "code",
      "metadata": {
        "id": "qCICuTiC6FVq",
        "colab_type": "code",
        "outputId": "e8d55d5b-84ce-4cb0-a96d-c510272a60c9",
        "colab": {
          "base_uri": "https://localhost:8080/",
          "height": 212
        }
      },
      "source": [
        "# Shrinking the date time feaure to only date \n",
        "\n",
        "ecomdata[:10].newdate.dt.date"
      ],
      "execution_count": 0,
      "outputs": [
        {
          "output_type": "execute_result",
          "data": {
            "text/plain": [
              "0    2010-12-01\n",
              "1    2010-12-01\n",
              "2    2010-12-01\n",
              "3    2010-12-01\n",
              "4    2010-12-01\n",
              "5    2010-12-01\n",
              "6    2010-12-01\n",
              "7    2010-12-01\n",
              "8    2010-12-01\n",
              "9    2010-12-01\n",
              "Name: newdate, dtype: object"
            ]
          },
          "metadata": {
            "tags": []
          },
          "execution_count": 27
        }
      ]
    },
    {
      "cell_type": "markdown",
      "metadata": {
        "id": "Emab6dDvV0l5",
        "colab_type": "text"
      },
      "source": [
        "### Let's now remove Nulls"
      ]
    },
    {
      "cell_type": "code",
      "metadata": {
        "id": "fp4uHfWe6IRo",
        "colab_type": "code",
        "colab": {}
      },
      "source": [
        "# let's remove nulls in customer id which are null\n",
        "ecomnew= ecomdata[~ecomdata.CustomerID.isnull()].copy()"
      ],
      "execution_count": 0,
      "outputs": []
    },
    {
      "cell_type": "code",
      "metadata": {
        "id": "K6_RZy7MV5Lr",
        "colab_type": "code",
        "outputId": "a3ffa3e4-24fe-4d4a-bbf0-d63dc10e1f88",
        "colab": {
          "base_uri": "https://localhost:8080/",
          "height": 195
        }
      },
      "source": [
        "ecomnew.isnull().sum()"
      ],
      "execution_count": 0,
      "outputs": [
        {
          "output_type": "execute_result",
          "data": {
            "text/plain": [
              "InvoiceNo      0\n",
              "StockCode      0\n",
              "Description    0\n",
              "Quantity       0\n",
              "InvoiceDate    0\n",
              "UnitPrice      0\n",
              "CustomerID     0\n",
              "Country        0\n",
              "newdate        0\n",
              "dtype: int64"
            ]
          },
          "metadata": {
            "tags": []
          },
          "execution_count": 65
        }
      ]
    },
    {
      "cell_type": "markdown",
      "metadata": {
        "id": "Vdk2O_kaWnLF",
        "colab_type": "text"
      },
      "source": [
        "### Let's change all the column header to lower case"
      ]
    },
    {
      "cell_type": "code",
      "metadata": {
        "id": "EA0dGCd6V9Ig",
        "colab_type": "code",
        "outputId": "d69f8ea1-1448-4e87-a6b6-478bd4afed7f",
        "colab": {
          "base_uri": "https://localhost:8080/",
          "height": 70
        }
      },
      "source": [
        "ecomdata.columns # this output a list , hence to change this, we ned to do list comprehension"
      ],
      "execution_count": 0,
      "outputs": [
        {
          "output_type": "execute_result",
          "data": {
            "text/plain": [
              "Index(['InvoiceNo', 'StockCode', 'Description', 'Quantity', 'InvoiceDate',\n",
              "       'UnitPrice', 'CustomerID', 'Country', 'newdate'],\n",
              "      dtype='object')"
            ]
          },
          "metadata": {
            "tags": []
          },
          "execution_count": 30
        }
      ]
    },
    {
      "cell_type": "code",
      "metadata": {
        "id": "kFs1R86qWMms",
        "colab_type": "code",
        "outputId": "9bcd870e-cea0-4fc6-8c3d-c198bf2d6f9a",
        "colab": {
          "base_uri": "https://localhost:8080/",
          "height": 174
        }
      },
      "source": [
        "# For ease of operation we can put all the columns names in to lower case\n",
        "[i.lower() for i in ecomdata.columns]"
      ],
      "execution_count": 0,
      "outputs": [
        {
          "output_type": "execute_result",
          "data": {
            "text/plain": [
              "['invoiceno',\n",
              " 'stockcode',\n",
              " 'description',\n",
              " 'quantity',\n",
              " 'invoicedate',\n",
              " 'unitprice',\n",
              " 'customerid',\n",
              " 'country',\n",
              " 'newdate']"
            ]
          },
          "metadata": {
            "tags": []
          },
          "execution_count": 14
        }
      ]
    },
    {
      "cell_type": "code",
      "metadata": {
        "id": "zbTBeOnWXKrr",
        "colab_type": "code",
        "colab": {}
      },
      "source": [
        "ecomdata.columns = [i.lower() for i in ecomdata.columns]"
      ],
      "execution_count": 0,
      "outputs": []
    },
    {
      "cell_type": "code",
      "metadata": {
        "id": "0r5ZDbazXiMj",
        "colab_type": "code",
        "outputId": "dad46472-fc58-4b69-f52c-ae967eeb51dd",
        "colab": {
          "base_uri": "https://localhost:8080/",
          "height": 139
        }
      },
      "source": [
        "ecomdata.head(3)"
      ],
      "execution_count": 0,
      "outputs": [
        {
          "output_type": "execute_result",
          "data": {
            "text/html": [
              "<div>\n",
              "<style scoped>\n",
              "    .dataframe tbody tr th:only-of-type {\n",
              "        vertical-align: middle;\n",
              "    }\n",
              "\n",
              "    .dataframe tbody tr th {\n",
              "        vertical-align: top;\n",
              "    }\n",
              "\n",
              "    .dataframe thead th {\n",
              "        text-align: right;\n",
              "    }\n",
              "</style>\n",
              "<table border=\"1\" class=\"dataframe\">\n",
              "  <thead>\n",
              "    <tr style=\"text-align: right;\">\n",
              "      <th></th>\n",
              "      <th>invoiceno</th>\n",
              "      <th>stockcode</th>\n",
              "      <th>description</th>\n",
              "      <th>quantity</th>\n",
              "      <th>invoicedate</th>\n",
              "      <th>unitprice</th>\n",
              "      <th>customerid</th>\n",
              "      <th>country</th>\n",
              "      <th>newdate</th>\n",
              "    </tr>\n",
              "  </thead>\n",
              "  <tbody>\n",
              "    <tr>\n",
              "      <th>0</th>\n",
              "      <td>536365</td>\n",
              "      <td>85123A</td>\n",
              "      <td>WHITE HANGING HEART T-LIGHT HOLDER</td>\n",
              "      <td>6</td>\n",
              "      <td>12/1/2010 8:26</td>\n",
              "      <td>2.55</td>\n",
              "      <td>17850.0</td>\n",
              "      <td>United Kingdom</td>\n",
              "      <td>2010-12-01</td>\n",
              "    </tr>\n",
              "    <tr>\n",
              "      <th>1</th>\n",
              "      <td>536365</td>\n",
              "      <td>71053</td>\n",
              "      <td>WHITE METAL LANTERN</td>\n",
              "      <td>6</td>\n",
              "      <td>12/1/2010 8:26</td>\n",
              "      <td>3.39</td>\n",
              "      <td>17850.0</td>\n",
              "      <td>United Kingdom</td>\n",
              "      <td>2010-12-01</td>\n",
              "    </tr>\n",
              "    <tr>\n",
              "      <th>2</th>\n",
              "      <td>536365</td>\n",
              "      <td>84406B</td>\n",
              "      <td>CREAM CUPID HEARTS COAT HANGER</td>\n",
              "      <td>8</td>\n",
              "      <td>12/1/2010 8:26</td>\n",
              "      <td>2.75</td>\n",
              "      <td>17850.0</td>\n",
              "      <td>United Kingdom</td>\n",
              "      <td>2010-12-01</td>\n",
              "    </tr>\n",
              "  </tbody>\n",
              "</table>\n",
              "</div>"
            ],
            "text/plain": [
              "  invoiceno stockcode  ...         country    newdate\n",
              "0    536365    85123A  ...  United Kingdom 2010-12-01\n",
              "1    536365     71053  ...  United Kingdom 2010-12-01\n",
              "2    536365    84406B  ...  United Kingdom 2010-12-01\n",
              "\n",
              "[3 rows x 9 columns]"
            ]
          },
          "metadata": {
            "tags": []
          },
          "execution_count": 33
        }
      ]
    },
    {
      "cell_type": "markdown",
      "metadata": {
        "id": "b-SVmCfi797M",
        "colab_type": "text"
      },
      "source": [
        "### Now you must be thinking that we shall remove outliers?\n",
        "\n",
        "No , not so soon. We need to understad outlier before we take decision of removing them. We shall do it in due course of time before we create **ABT**     (**Analytical Base Table**- This data goes into machine learning model witout any further transformation)"
      ]
    },
    {
      "cell_type": "markdown",
      "metadata": {
        "id": "VwrXIV2R_gPA",
        "colab_type": "text"
      },
      "source": [
        "## Let's do some exploration of the data before doing any operation on this. \n",
        "\n",
        "Data is the most importnat thing. You dont's understand data, you can not apply right science. In my experience in this filed for last 14 years , data has managed to surprise me every time with new variations and unknowen patterns.\n",
        "\n",
        "I want to share the same with all the budding data scientist. Understand your data like your girlfriend and you will know how she will react to any situation or science.\n",
        "\n",
        "Turst me on this there is no better match than a near-perfet understanding.\n",
        "\n",
        "\n",
        "\n",
        "        I shall try to give some glimps of the data exploration(it's never enough though )\n",
        "        Where ever you have doubt , please extract the data and put it in simple excel and understand deeper."
      ]
    },
    {
      "cell_type": "markdown",
      "metadata": {
        "id": "XihDyrbDC6cr",
        "colab_type": "text"
      },
      "source": [
        "## Let's Play now: "
      ]
    },
    {
      "cell_type": "code",
      "metadata": {
        "id": "JhQcRjByYEou",
        "colab_type": "code",
        "outputId": "1af9666a-96c1-4388-9447-e3e8cc5cb5de",
        "colab": {
          "base_uri": "https://localhost:8080/",
          "height": 230
        }
      },
      "source": [
        "# Data frame consist of Row and columns and both the index starts from 0 . So DF[0,0] gives you the first row and first column value.\n",
        "\n",
        "ecomdata.iloc[:,1] # extracting 2nd column data for all rows from the data frame"
      ],
      "execution_count": 0,
      "outputs": [
        {
          "output_type": "execute_result",
          "data": {
            "text/plain": [
              "0         85123A\n",
              "1          71053\n",
              "2         84406B\n",
              "3         84029G\n",
              "4         84029E\n",
              "           ...  \n",
              "541904     22613\n",
              "541905     22899\n",
              "541906     23254\n",
              "541907     23255\n",
              "541908     22138\n",
              "Name: stockcode, Length: 541909, dtype: object"
            ]
          },
          "metadata": {
            "tags": []
          },
          "execution_count": 34
        }
      ]
    },
    {
      "cell_type": "code",
      "metadata": {
        "id": "QupypmnICAix",
        "colab_type": "code",
        "outputId": "4a7f284b-838b-48e1-8d01-ab95ec7a7529",
        "colab": {
          "base_uri": "https://localhost:8080/",
          "height": 195
        }
      },
      "source": [
        "ecomdata.iloc[1] # we are just extracting the 2nd row of the data"
      ],
      "execution_count": 0,
      "outputs": [
        {
          "output_type": "execute_result",
          "data": {
            "text/plain": [
              "invoiceno                   536365\n",
              "stockcode                    71053\n",
              "description    WHITE METAL LANTERN\n",
              "quantity                         6\n",
              "invoicedate         12/1/2010 8:26\n",
              "unitprice                     3.39\n",
              "customerid                   17850\n",
              "country             United Kingdom\n",
              "newdate        2010-12-01 00:00:00\n",
              "Name: 1, dtype: object"
            ]
          },
          "metadata": {
            "tags": []
          },
          "execution_count": 35
        }
      ]
    },
    {
      "cell_type": "code",
      "metadata": {
        "id": "Vsp95ylJCGDD",
        "colab_type": "code",
        "outputId": "53e55ab0-de73-4fd5-dbaa-418e121431ec",
        "colab": {
          "base_uri": "https://localhost:8080/",
          "height": 35
        }
      },
      "source": [
        "ecomdata.iloc[10,0] # 10th row first column "
      ],
      "execution_count": 0,
      "outputs": [
        {
          "output_type": "execute_result",
          "data": {
            "text/plain": [
              "'536367'"
            ]
          },
          "metadata": {
            "tags": []
          },
          "execution_count": 41
        }
      ]
    },
    {
      "cell_type": "code",
      "metadata": {
        "id": "FdqDgVOoCI4Q",
        "colab_type": "code",
        "outputId": "d1d82ed8-a507-4fcb-99fc-f3c7096d45f4",
        "colab": {
          "base_uri": "https://localhost:8080/",
          "height": 411
        }
      },
      "source": [
        "# finding the data subset which has NaN in Description\n",
        "ecomdata[ecomdata.description.isnull()]"
      ],
      "execution_count": 0,
      "outputs": [
        {
          "output_type": "execute_result",
          "data": {
            "text/html": [
              "<div>\n",
              "<style scoped>\n",
              "    .dataframe tbody tr th:only-of-type {\n",
              "        vertical-align: middle;\n",
              "    }\n",
              "\n",
              "    .dataframe tbody tr th {\n",
              "        vertical-align: top;\n",
              "    }\n",
              "\n",
              "    .dataframe thead th {\n",
              "        text-align: right;\n",
              "    }\n",
              "</style>\n",
              "<table border=\"1\" class=\"dataframe\">\n",
              "  <thead>\n",
              "    <tr style=\"text-align: right;\">\n",
              "      <th></th>\n",
              "      <th>invoiceno</th>\n",
              "      <th>stockcode</th>\n",
              "      <th>description</th>\n",
              "      <th>quantity</th>\n",
              "      <th>invoicedate</th>\n",
              "      <th>unitprice</th>\n",
              "      <th>customerid</th>\n",
              "      <th>country</th>\n",
              "      <th>newdate</th>\n",
              "    </tr>\n",
              "  </thead>\n",
              "  <tbody>\n",
              "    <tr>\n",
              "      <th>622</th>\n",
              "      <td>536414</td>\n",
              "      <td>22139</td>\n",
              "      <td>NaN</td>\n",
              "      <td>56</td>\n",
              "      <td>12/1/2010 11:52</td>\n",
              "      <td>0.0</td>\n",
              "      <td>NaN</td>\n",
              "      <td>United Kingdom</td>\n",
              "      <td>2010-12-01</td>\n",
              "    </tr>\n",
              "    <tr>\n",
              "      <th>1970</th>\n",
              "      <td>536545</td>\n",
              "      <td>21134</td>\n",
              "      <td>NaN</td>\n",
              "      <td>1</td>\n",
              "      <td>12/1/2010 14:32</td>\n",
              "      <td>0.0</td>\n",
              "      <td>NaN</td>\n",
              "      <td>United Kingdom</td>\n",
              "      <td>2010-12-01</td>\n",
              "    </tr>\n",
              "    <tr>\n",
              "      <th>1971</th>\n",
              "      <td>536546</td>\n",
              "      <td>22145</td>\n",
              "      <td>NaN</td>\n",
              "      <td>1</td>\n",
              "      <td>12/1/2010 14:33</td>\n",
              "      <td>0.0</td>\n",
              "      <td>NaN</td>\n",
              "      <td>United Kingdom</td>\n",
              "      <td>2010-12-01</td>\n",
              "    </tr>\n",
              "    <tr>\n",
              "      <th>1972</th>\n",
              "      <td>536547</td>\n",
              "      <td>37509</td>\n",
              "      <td>NaN</td>\n",
              "      <td>1</td>\n",
              "      <td>12/1/2010 14:33</td>\n",
              "      <td>0.0</td>\n",
              "      <td>NaN</td>\n",
              "      <td>United Kingdom</td>\n",
              "      <td>2010-12-01</td>\n",
              "    </tr>\n",
              "    <tr>\n",
              "      <th>1987</th>\n",
              "      <td>536549</td>\n",
              "      <td>85226A</td>\n",
              "      <td>NaN</td>\n",
              "      <td>1</td>\n",
              "      <td>12/1/2010 14:34</td>\n",
              "      <td>0.0</td>\n",
              "      <td>NaN</td>\n",
              "      <td>United Kingdom</td>\n",
              "      <td>2010-12-01</td>\n",
              "    </tr>\n",
              "    <tr>\n",
              "      <th>...</th>\n",
              "      <td>...</td>\n",
              "      <td>...</td>\n",
              "      <td>...</td>\n",
              "      <td>...</td>\n",
              "      <td>...</td>\n",
              "      <td>...</td>\n",
              "      <td>...</td>\n",
              "      <td>...</td>\n",
              "      <td>...</td>\n",
              "    </tr>\n",
              "    <tr>\n",
              "      <th>535322</th>\n",
              "      <td>581199</td>\n",
              "      <td>84581</td>\n",
              "      <td>NaN</td>\n",
              "      <td>-2</td>\n",
              "      <td>12/7/2011 18:26</td>\n",
              "      <td>0.0</td>\n",
              "      <td>NaN</td>\n",
              "      <td>United Kingdom</td>\n",
              "      <td>2011-12-07</td>\n",
              "    </tr>\n",
              "    <tr>\n",
              "      <th>535326</th>\n",
              "      <td>581203</td>\n",
              "      <td>23406</td>\n",
              "      <td>NaN</td>\n",
              "      <td>15</td>\n",
              "      <td>12/7/2011 18:31</td>\n",
              "      <td>0.0</td>\n",
              "      <td>NaN</td>\n",
              "      <td>United Kingdom</td>\n",
              "      <td>2011-12-07</td>\n",
              "    </tr>\n",
              "    <tr>\n",
              "      <th>535332</th>\n",
              "      <td>581209</td>\n",
              "      <td>21620</td>\n",
              "      <td>NaN</td>\n",
              "      <td>6</td>\n",
              "      <td>12/7/2011 18:35</td>\n",
              "      <td>0.0</td>\n",
              "      <td>NaN</td>\n",
              "      <td>United Kingdom</td>\n",
              "      <td>2011-12-07</td>\n",
              "    </tr>\n",
              "    <tr>\n",
              "      <th>536981</th>\n",
              "      <td>581234</td>\n",
              "      <td>72817</td>\n",
              "      <td>NaN</td>\n",
              "      <td>27</td>\n",
              "      <td>12/8/2011 10:33</td>\n",
              "      <td>0.0</td>\n",
              "      <td>NaN</td>\n",
              "      <td>United Kingdom</td>\n",
              "      <td>2011-12-08</td>\n",
              "    </tr>\n",
              "    <tr>\n",
              "      <th>538554</th>\n",
              "      <td>581408</td>\n",
              "      <td>85175</td>\n",
              "      <td>NaN</td>\n",
              "      <td>20</td>\n",
              "      <td>12/8/2011 14:06</td>\n",
              "      <td>0.0</td>\n",
              "      <td>NaN</td>\n",
              "      <td>United Kingdom</td>\n",
              "      <td>2011-12-08</td>\n",
              "    </tr>\n",
              "  </tbody>\n",
              "</table>\n",
              "<p>1454 rows × 9 columns</p>\n",
              "</div>"
            ],
            "text/plain": [
              "       invoiceno stockcode description  ...  customerid         country    newdate\n",
              "622       536414     22139         NaN  ...         NaN  United Kingdom 2010-12-01\n",
              "1970      536545     21134         NaN  ...         NaN  United Kingdom 2010-12-01\n",
              "1971      536546     22145         NaN  ...         NaN  United Kingdom 2010-12-01\n",
              "1972      536547     37509         NaN  ...         NaN  United Kingdom 2010-12-01\n",
              "1987      536549    85226A         NaN  ...         NaN  United Kingdom 2010-12-01\n",
              "...          ...       ...         ...  ...         ...             ...        ...\n",
              "535322    581199     84581         NaN  ...         NaN  United Kingdom 2011-12-07\n",
              "535326    581203     23406         NaN  ...         NaN  United Kingdom 2011-12-07\n",
              "535332    581209     21620         NaN  ...         NaN  United Kingdom 2011-12-07\n",
              "536981    581234     72817         NaN  ...         NaN  United Kingdom 2011-12-08\n",
              "538554    581408     85175         NaN  ...         NaN  United Kingdom 2011-12-08\n",
              "\n",
              "[1454 rows x 9 columns]"
            ]
          },
          "metadata": {
            "tags": []
          },
          "execution_count": 68
        }
      ]
    },
    {
      "cell_type": "markdown",
      "metadata": {
        "id": "ADiO8L_0EG5G",
        "colab_type": "text"
      },
      "source": [
        "Wondering why these nulls came back?\n",
        "\n",
        "        Remember during date operation practice we loaded the data again? \n",
        "        This action was done after the null removal step and hence your nulls came back again."
      ]
    },
    {
      "cell_type": "code",
      "metadata": {
        "id": "v5wyjCuUD8v2",
        "colab_type": "code",
        "outputId": "b193d498-8c41-4b0d-f359-77c9c1715ad8",
        "colab": {
          "base_uri": "https://localhost:8080/",
          "height": 291
        }
      },
      "source": [
        "# Let's now see the distribution of the data , In pandas we can jut get the descriptive stats for only numeric features unlike R which gives for everything\n",
        "ecomdata.describe()"
      ],
      "execution_count": 0,
      "outputs": [
        {
          "output_type": "execute_result",
          "data": {
            "text/html": [
              "<div>\n",
              "<style scoped>\n",
              "    .dataframe tbody tr th:only-of-type {\n",
              "        vertical-align: middle;\n",
              "    }\n",
              "\n",
              "    .dataframe tbody tr th {\n",
              "        vertical-align: top;\n",
              "    }\n",
              "\n",
              "    .dataframe thead th {\n",
              "        text-align: right;\n",
              "    }\n",
              "</style>\n",
              "<table border=\"1\" class=\"dataframe\">\n",
              "  <thead>\n",
              "    <tr style=\"text-align: right;\">\n",
              "      <th></th>\n",
              "      <th>quantity</th>\n",
              "      <th>unitprice</th>\n",
              "      <th>customerid</th>\n",
              "    </tr>\n",
              "  </thead>\n",
              "  <tbody>\n",
              "    <tr>\n",
              "      <th>count</th>\n",
              "      <td>541909.000000</td>\n",
              "      <td>541909.000000</td>\n",
              "      <td>406829.000000</td>\n",
              "    </tr>\n",
              "    <tr>\n",
              "      <th>mean</th>\n",
              "      <td>9.552250</td>\n",
              "      <td>4.611114</td>\n",
              "      <td>15287.690570</td>\n",
              "    </tr>\n",
              "    <tr>\n",
              "      <th>std</th>\n",
              "      <td>218.081158</td>\n",
              "      <td>96.759853</td>\n",
              "      <td>1713.600303</td>\n",
              "    </tr>\n",
              "    <tr>\n",
              "      <th>min</th>\n",
              "      <td>-80995.000000</td>\n",
              "      <td>-11062.060000</td>\n",
              "      <td>12346.000000</td>\n",
              "    </tr>\n",
              "    <tr>\n",
              "      <th>25%</th>\n",
              "      <td>1.000000</td>\n",
              "      <td>1.250000</td>\n",
              "      <td>13953.000000</td>\n",
              "    </tr>\n",
              "    <tr>\n",
              "      <th>50%</th>\n",
              "      <td>3.000000</td>\n",
              "      <td>2.080000</td>\n",
              "      <td>15152.000000</td>\n",
              "    </tr>\n",
              "    <tr>\n",
              "      <th>75%</th>\n",
              "      <td>10.000000</td>\n",
              "      <td>4.130000</td>\n",
              "      <td>16791.000000</td>\n",
              "    </tr>\n",
              "    <tr>\n",
              "      <th>max</th>\n",
              "      <td>80995.000000</td>\n",
              "      <td>38970.000000</td>\n",
              "      <td>18287.000000</td>\n",
              "    </tr>\n",
              "  </tbody>\n",
              "</table>\n",
              "</div>"
            ],
            "text/plain": [
              "            quantity      unitprice     customerid\n",
              "count  541909.000000  541909.000000  406829.000000\n",
              "mean        9.552250       4.611114   15287.690570\n",
              "std       218.081158      96.759853    1713.600303\n",
              "min    -80995.000000  -11062.060000   12346.000000\n",
              "25%         1.000000       1.250000   13953.000000\n",
              "50%         3.000000       2.080000   15152.000000\n",
              "75%        10.000000       4.130000   16791.000000\n",
              "max     80995.000000   38970.000000   18287.000000"
            ]
          },
          "metadata": {
            "tags": []
          },
          "execution_count": 69
        }
      ]
    },
    {
      "cell_type": "code",
      "metadata": {
        "id": "OT4Ef4H1EsDL",
        "colab_type": "code",
        "outputId": "dd282159-0b75-4b2d-bfff-55e821ff35d0",
        "colab": {
          "base_uri": "https://localhost:8080/",
          "height": 177
        }
      },
      "source": [
        "# Checking where cutomers arre doing transaction more than 1000 units\n",
        "\n",
        "print(ecomdata[ecomdata.quantity > 1000].head(6))"
      ],
      "execution_count": 0,
      "outputs": [
        {
          "output_type": "stream",
          "text": [
            "      invoiceno stockcode  ...         country    newdate\n",
            "4850     536809     84950  ...  United Kingdom 2010-12-02\n",
            "4945     536830     84077  ...  United Kingdom 2010-12-02\n",
            "4946     536830     21915  ...  United Kingdom 2010-12-02\n",
            "6365     536890    17084R  ...            EIRE 2010-12-03\n",
            "16435    537659     22189  ...  United Kingdom 2010-12-07\n",
            "16436    537659     22188  ...  United Kingdom 2010-12-07\n",
            "\n",
            "[6 rows x 9 columns]\n"
          ],
          "name": "stdout"
        }
      ]
    },
    {
      "cell_type": "code",
      "metadata": {
        "id": "Bt-0FJ_KFHq6",
        "colab_type": "code",
        "outputId": "7e7dcc7e-e124-4780-844e-5a1b5f03ec36",
        "colab": {
          "base_uri": "https://localhost:8080/",
          "height": 710
        }
      },
      "source": [
        "# Understanding the frequency count of the countries \n",
        "ecomdata.country.value_counts()"
      ],
      "execution_count": 0,
      "outputs": [
        {
          "output_type": "execute_result",
          "data": {
            "text/plain": [
              "United Kingdom          495478\n",
              "Germany                   9495\n",
              "France                    8557\n",
              "EIRE                      8196\n",
              "Spain                     2533\n",
              "Netherlands               2371\n",
              "Belgium                   2069\n",
              "Switzerland               2002\n",
              "Portugal                  1519\n",
              "Australia                 1259\n",
              "Norway                    1086\n",
              "Italy                      803\n",
              "Channel Islands            758\n",
              "Finland                    695\n",
              "Cyprus                     622\n",
              "Sweden                     462\n",
              "Unspecified                446\n",
              "Austria                    401\n",
              "Denmark                    389\n",
              "Japan                      358\n",
              "Poland                     341\n",
              "Israel                     297\n",
              "USA                        291\n",
              "Hong Kong                  288\n",
              "Singapore                  229\n",
              "Iceland                    182\n",
              "Canada                     151\n",
              "Greece                     146\n",
              "Malta                      127\n",
              "United Arab Emirates        68\n",
              "European Community          61\n",
              "RSA                         58\n",
              "Lebanon                     45\n",
              "Lithuania                   35\n",
              "Brazil                      32\n",
              "Czech Republic              30\n",
              "Bahrain                     19\n",
              "Saudi Arabia                10\n",
              "Name: country, dtype: int64"
            ]
          },
          "metadata": {
            "tags": []
          },
          "execution_count": 47
        }
      ]
    },
    {
      "cell_type": "markdown",
      "metadata": {
        "id": "VEJAshKAFfRt",
        "colab_type": "text"
      },
      "source": [
        "###   What do we see on this ?\n",
        "\n",
        "      UK has the most transaction then there are europian countries and Middleeastern countries. \n",
        "      If you observe you will see distribution is really low starting from **Italy**  to **Saudi Arabia**\n",
        "\n",
        "      You might want to group them in to some larger buckets do that the distribution is prominant"
      ]
    },
    {
      "cell_type": "markdown",
      "metadata": {
        "id": "LvsRewdVJeYN",
        "colab_type": "text"
      },
      "source": [
        "To access any part of the data in data frame we should use  \n",
        " **   .loc    **"
      ]
    },
    {
      "cell_type": "code",
      "metadata": {
        "id": "tb7PxrrpHD-O",
        "colab_type": "code",
        "colab": {}
      },
      "source": [
        "middleeast=['Saudi Arabia','Bahrain','United Arab Emirates','Greece'] # We might try to do this using list operation"
      ],
      "execution_count": 0,
      "outputs": []
    },
    {
      "cell_type": "code",
      "metadata": {
        "id": "GRqg201NzBgk",
        "colab_type": "code",
        "colab": {}
      },
      "source": [
        "europe= ['Germany','Italy','Gerogia','Denmark','United Kingdom','UK']"
      ],
      "execution_count": 0,
      "outputs": []
    },
    {
      "cell_type": "code",
      "metadata": {
        "id": "DSqvebul4aZJ",
        "colab_type": "code",
        "outputId": "a7574429-49d7-483c-e30b-3986f1dd5add",
        "colab": {
          "base_uri": "https://localhost:8080/",
          "height": 212
        }
      },
      "source": [
        "ecomdata.loc[ecomdata.country=='Saudi Arabia'][\"country\"]"
      ],
      "execution_count": 0,
      "outputs": [
        {
          "output_type": "execute_result",
          "data": {
            "text/plain": [
              "100810    Saudi Arabia\n",
              "100811    Saudi Arabia\n",
              "100812    Saudi Arabia\n",
              "100813    Saudi Arabia\n",
              "100814    Saudi Arabia\n",
              "100815    Saudi Arabia\n",
              "100816    Saudi Arabia\n",
              "100817    Saudi Arabia\n",
              "100818    Saudi Arabia\n",
              "108127    Saudi Arabia\n",
              "Name: country, dtype: object"
            ]
          },
          "metadata": {
            "tags": []
          },
          "execution_count": 98
        }
      ]
    },
    {
      "cell_type": "code",
      "metadata": {
        "id": "0klMcq8oxpzd",
        "colab_type": "code",
        "colab": {}
      },
      "source": [
        "# Trying to use the aplly approach for thr getting\n",
        "ecomdata['country_group'] = ecomdata['country'].apply(lambda x: 'MiddleEast' if x in middleeast else x)\n",
        "ecomdata['country_group'] = ecomdata['country_group'].apply(lambda x: 'Europe' if x in europe else x)"
      ],
      "execution_count": 0,
      "outputs": []
    },
    {
      "cell_type": "markdown",
      "metadata": {
        "id": "aAruUw2q-pds",
        "colab_type": "text"
      },
      "source": [
        "### Few ways to change values in a dataframe:\n",
        "\n",
        "\n",
        "\n",
        "       Option-1 Using Index Location\n",
        "        SYNTAX:\n",
        "        df.loc[df[<some_column_name>] == <condition>, [<another_column_name>]] = <value_to_add>\n",
        "        EXAMPLE:\n",
        "        df.loc[df['age']==3, ['age-group']] = 'toddler'\n",
        "        \n",
        "        Option-2 Using pd.replace() function\n",
        "        SYNTAX:\n",
        "        DataFrame.replace(self, to_replace=None, value=None, inplace=False, limit=None, regex=False, method='pad')\n",
        "        EXAMPLE:\n",
        "        ecomdata.country.replace(to_replace=\"Bahrain\", value=\"Middle East1\", inplace=True)\n",
        "\n",
        "        Option-3 Using np.where\n",
        "        SYNTAX:\n",
        "        df['Event'] = np.where((df.Event == 'Painting'),'Art',df.Event)\n",
        "\n",
        "        Option-4 Using Mask\n",
        "        ecomdata['country'].mask(ecomdata['country'] == 'Value to replace', 'value to replace with', inplace=True)\n",
        "\n"
      ]
    },
    {
      "cell_type": "code",
      "metadata": {
        "id": "0ZptGCms9P1K",
        "colab_type": "code",
        "colab": {}
      },
      "source": [
        "ecomdata.loc[ecomdata.country==\"Saudi Arabia\",['country']]=\"Middle East\""
      ],
      "execution_count": 0,
      "outputs": []
    },
    {
      "cell_type": "code",
      "metadata": {
        "id": "-AlU9iCi-aLY",
        "colab_type": "code",
        "outputId": "1117d658-f66a-4f35-a8f8-c433658b6bce",
        "colab": {
          "base_uri": "https://localhost:8080/",
          "height": 352
        }
      },
      "source": [
        "ecomdata.loc[ecomdata.country=='Middle East']"
      ],
      "execution_count": 0,
      "outputs": [
        {
          "output_type": "execute_result",
          "data": {
            "text/html": [
              "<div>\n",
              "<style scoped>\n",
              "    .dataframe tbody tr th:only-of-type {\n",
              "        vertical-align: middle;\n",
              "    }\n",
              "\n",
              "    .dataframe tbody tr th {\n",
              "        vertical-align: top;\n",
              "    }\n",
              "\n",
              "    .dataframe thead th {\n",
              "        text-align: right;\n",
              "    }\n",
              "</style>\n",
              "<table border=\"1\" class=\"dataframe\">\n",
              "  <thead>\n",
              "    <tr style=\"text-align: right;\">\n",
              "      <th></th>\n",
              "      <th>invoiceno</th>\n",
              "      <th>stockcode</th>\n",
              "      <th>description</th>\n",
              "      <th>quantity</th>\n",
              "      <th>invoicedate</th>\n",
              "      <th>unitprice</th>\n",
              "      <th>customerid</th>\n",
              "      <th>country</th>\n",
              "    </tr>\n",
              "  </thead>\n",
              "  <tbody>\n",
              "    <tr>\n",
              "      <th>100810</th>\n",
              "      <td>544838</td>\n",
              "      <td>22915</td>\n",
              "      <td>ASSORTED BOTTLE TOP  MAGNETS</td>\n",
              "      <td>12</td>\n",
              "      <td>2/24/2011 10:34</td>\n",
              "      <td>0.42</td>\n",
              "      <td>12565.0</td>\n",
              "      <td>Middle East</td>\n",
              "    </tr>\n",
              "    <tr>\n",
              "      <th>100811</th>\n",
              "      <td>544838</td>\n",
              "      <td>22363</td>\n",
              "      <td>GLASS JAR MARMALADE</td>\n",
              "      <td>6</td>\n",
              "      <td>2/24/2011 10:34</td>\n",
              "      <td>2.95</td>\n",
              "      <td>12565.0</td>\n",
              "      <td>Middle East</td>\n",
              "    </tr>\n",
              "    <tr>\n",
              "      <th>100812</th>\n",
              "      <td>544838</td>\n",
              "      <td>22362</td>\n",
              "      <td>GLASS JAR PEACOCK BATH SALTS</td>\n",
              "      <td>6</td>\n",
              "      <td>2/24/2011 10:34</td>\n",
              "      <td>2.95</td>\n",
              "      <td>12565.0</td>\n",
              "      <td>Middle East</td>\n",
              "    </tr>\n",
              "    <tr>\n",
              "      <th>100813</th>\n",
              "      <td>544838</td>\n",
              "      <td>22361</td>\n",
              "      <td>GLASS JAR DAISY FRESH COTTON WOOL</td>\n",
              "      <td>6</td>\n",
              "      <td>2/24/2011 10:34</td>\n",
              "      <td>2.95</td>\n",
              "      <td>12565.0</td>\n",
              "      <td>Middle East</td>\n",
              "    </tr>\n",
              "    <tr>\n",
              "      <th>100814</th>\n",
              "      <td>544838</td>\n",
              "      <td>22553</td>\n",
              "      <td>PLASTERS IN TIN SKULLS</td>\n",
              "      <td>12</td>\n",
              "      <td>2/24/2011 10:34</td>\n",
              "      <td>1.65</td>\n",
              "      <td>12565.0</td>\n",
              "      <td>Middle East</td>\n",
              "    </tr>\n",
              "    <tr>\n",
              "      <th>100815</th>\n",
              "      <td>544838</td>\n",
              "      <td>22555</td>\n",
              "      <td>PLASTERS IN TIN STRONGMAN</td>\n",
              "      <td>12</td>\n",
              "      <td>2/24/2011 10:34</td>\n",
              "      <td>1.65</td>\n",
              "      <td>12565.0</td>\n",
              "      <td>Middle East</td>\n",
              "    </tr>\n",
              "    <tr>\n",
              "      <th>100816</th>\n",
              "      <td>544838</td>\n",
              "      <td>22556</td>\n",
              "      <td>PLASTERS IN TIN CIRCUS PARADE</td>\n",
              "      <td>12</td>\n",
              "      <td>2/24/2011 10:34</td>\n",
              "      <td>1.65</td>\n",
              "      <td>12565.0</td>\n",
              "      <td>Middle East</td>\n",
              "    </tr>\n",
              "    <tr>\n",
              "      <th>100817</th>\n",
              "      <td>544838</td>\n",
              "      <td>20781</td>\n",
              "      <td>GOLD EAR MUFF HEADPHONES</td>\n",
              "      <td>2</td>\n",
              "      <td>2/24/2011 10:34</td>\n",
              "      <td>5.49</td>\n",
              "      <td>12565.0</td>\n",
              "      <td>Middle East</td>\n",
              "    </tr>\n",
              "    <tr>\n",
              "      <th>100818</th>\n",
              "      <td>544838</td>\n",
              "      <td>22969</td>\n",
              "      <td>HOMEMADE JAM SCENTED CANDLES</td>\n",
              "      <td>12</td>\n",
              "      <td>2/24/2011 10:34</td>\n",
              "      <td>1.45</td>\n",
              "      <td>12565.0</td>\n",
              "      <td>Middle East</td>\n",
              "    </tr>\n",
              "    <tr>\n",
              "      <th>108127</th>\n",
              "      <td>C545507</td>\n",
              "      <td>22361</td>\n",
              "      <td>GLASS JAR DAISY FRESH COTTON WOOL</td>\n",
              "      <td>-5</td>\n",
              "      <td>3/3/2011 11:43</td>\n",
              "      <td>2.95</td>\n",
              "      <td>12565.0</td>\n",
              "      <td>Middle East</td>\n",
              "    </tr>\n",
              "  </tbody>\n",
              "</table>\n",
              "</div>"
            ],
            "text/plain": [
              "       invoiceno stockcode  ... customerid      country\n",
              "100810    544838     22915  ...    12565.0  Middle East\n",
              "100811    544838     22363  ...    12565.0  Middle East\n",
              "100812    544838     22362  ...    12565.0  Middle East\n",
              "100813    544838     22361  ...    12565.0  Middle East\n",
              "100814    544838     22553  ...    12565.0  Middle East\n",
              "100815    544838     22555  ...    12565.0  Middle East\n",
              "100816    544838     22556  ...    12565.0  Middle East\n",
              "100817    544838     20781  ...    12565.0  Middle East\n",
              "100818    544838     22969  ...    12565.0  Middle East\n",
              "108127   C545507     22361  ...    12565.0  Middle East\n",
              "\n",
              "[10 rows x 8 columns]"
            ]
          },
          "metadata": {
            "tags": []
          },
          "execution_count": 100
        }
      ]
    },
    {
      "cell_type": "code",
      "metadata": {
        "id": "fXRW8E3H_UOD",
        "colab_type": "code",
        "colab": {}
      },
      "source": [
        "ecomdata.country.replace(to_replace=\"Bahrain\", value=\"Middle East1\", inplace=True)"
      ],
      "execution_count": 0,
      "outputs": []
    },
    {
      "cell_type": "code",
      "metadata": {
        "id": "UNSu1tnR_4vq",
        "colab_type": "code",
        "outputId": "44b7e092-95cf-498e-9e4d-4e11cd4db84e",
        "colab": {
          "base_uri": "https://localhost:8080/",
          "height": 625
        }
      },
      "source": [
        "ecomdata.loc[ecomdata.country=='Middle East1']"
      ],
      "execution_count": 0,
      "outputs": [
        {
          "output_type": "execute_result",
          "data": {
            "text/html": [
              "<div>\n",
              "<style scoped>\n",
              "    .dataframe tbody tr th:only-of-type {\n",
              "        vertical-align: middle;\n",
              "    }\n",
              "\n",
              "    .dataframe tbody tr th {\n",
              "        vertical-align: top;\n",
              "    }\n",
              "\n",
              "    .dataframe thead th {\n",
              "        text-align: right;\n",
              "    }\n",
              "</style>\n",
              "<table border=\"1\" class=\"dataframe\">\n",
              "  <thead>\n",
              "    <tr style=\"text-align: right;\">\n",
              "      <th></th>\n",
              "      <th>invoiceno</th>\n",
              "      <th>stockcode</th>\n",
              "      <th>description</th>\n",
              "      <th>quantity</th>\n",
              "      <th>invoicedate</th>\n",
              "      <th>unitprice</th>\n",
              "      <th>customerid</th>\n",
              "      <th>country</th>\n",
              "    </tr>\n",
              "  </thead>\n",
              "  <tbody>\n",
              "    <tr>\n",
              "      <th>38313</th>\n",
              "      <td>539500</td>\n",
              "      <td>72802B</td>\n",
              "      <td>OCEAN SCENT CANDLE IN JEWELLED BOX</td>\n",
              "      <td>54</td>\n",
              "      <td>12/20/2010 11:02</td>\n",
              "      <td>3.81</td>\n",
              "      <td>NaN</td>\n",
              "      <td>Middle East1</td>\n",
              "    </tr>\n",
              "    <tr>\n",
              "      <th>44152</th>\n",
              "      <td>C540155</td>\n",
              "      <td>72802B</td>\n",
              "      <td>OCEAN SCENT CANDLE IN JEWELLED BOX</td>\n",
              "      <td>-54</td>\n",
              "      <td>1/5/2011 11:31</td>\n",
              "      <td>3.81</td>\n",
              "      <td>NaN</td>\n",
              "      <td>Middle East1</td>\n",
              "    </tr>\n",
              "    <tr>\n",
              "      <th>181140</th>\n",
              "      <td>552449</td>\n",
              "      <td>22693</td>\n",
              "      <td>GROW A FLYTRAP OR SUNFLOWER IN TIN</td>\n",
              "      <td>24</td>\n",
              "      <td>5/9/2011 13:49</td>\n",
              "      <td>1.25</td>\n",
              "      <td>12355.0</td>\n",
              "      <td>Middle East1</td>\n",
              "    </tr>\n",
              "    <tr>\n",
              "      <th>181141</th>\n",
              "      <td>552449</td>\n",
              "      <td>23076</td>\n",
              "      <td>ICE CREAM SUNDAE LIP GLOSS</td>\n",
              "      <td>96</td>\n",
              "      <td>5/9/2011 13:49</td>\n",
              "      <td>1.25</td>\n",
              "      <td>12355.0</td>\n",
              "      <td>Middle East1</td>\n",
              "    </tr>\n",
              "    <tr>\n",
              "      <th>181142</th>\n",
              "      <td>552449</td>\n",
              "      <td>23077</td>\n",
              "      <td>DOUGHNUT LIP GLOSS</td>\n",
              "      <td>60</td>\n",
              "      <td>5/9/2011 13:49</td>\n",
              "      <td>1.25</td>\n",
              "      <td>12355.0</td>\n",
              "      <td>Middle East1</td>\n",
              "    </tr>\n",
              "    <tr>\n",
              "      <th>181143</th>\n",
              "      <td>552449</td>\n",
              "      <td>22890</td>\n",
              "      <td>NOVELTY BISCUITS CAKE STAND 3 TIER</td>\n",
              "      <td>2</td>\n",
              "      <td>5/9/2011 13:49</td>\n",
              "      <td>9.95</td>\n",
              "      <td>12355.0</td>\n",
              "      <td>Middle East1</td>\n",
              "    </tr>\n",
              "    <tr>\n",
              "      <th>181144</th>\n",
              "      <td>552449</td>\n",
              "      <td>22649</td>\n",
              "      <td>STRAWBERRY FAIRY CAKE TEAPOT</td>\n",
              "      <td>8</td>\n",
              "      <td>5/9/2011 13:49</td>\n",
              "      <td>4.95</td>\n",
              "      <td>12355.0</td>\n",
              "      <td>Middle East1</td>\n",
              "    </tr>\n",
              "    <tr>\n",
              "      <th>181145</th>\n",
              "      <td>552449</td>\n",
              "      <td>22423</td>\n",
              "      <td>REGENCY CAKESTAND 3 TIER</td>\n",
              "      <td>2</td>\n",
              "      <td>5/9/2011 13:49</td>\n",
              "      <td>12.75</td>\n",
              "      <td>12355.0</td>\n",
              "      <td>Middle East1</td>\n",
              "    </tr>\n",
              "    <tr>\n",
              "      <th>181146</th>\n",
              "      <td>552449</td>\n",
              "      <td>85040A</td>\n",
              "      <td>S/4 PINK FLOWER CANDLES IN BOWL</td>\n",
              "      <td>12</td>\n",
              "      <td>5/9/2011 13:49</td>\n",
              "      <td>1.65</td>\n",
              "      <td>12355.0</td>\n",
              "      <td>Middle East1</td>\n",
              "    </tr>\n",
              "    <tr>\n",
              "      <th>181147</th>\n",
              "      <td>552449</td>\n",
              "      <td>22699</td>\n",
              "      <td>ROSES REGENCY TEACUP AND SAUCER</td>\n",
              "      <td>6</td>\n",
              "      <td>5/9/2011 13:49</td>\n",
              "      <td>2.95</td>\n",
              "      <td>12355.0</td>\n",
              "      <td>Middle East1</td>\n",
              "    </tr>\n",
              "    <tr>\n",
              "      <th>181148</th>\n",
              "      <td>552449</td>\n",
              "      <td>22697</td>\n",
              "      <td>GREEN REGENCY TEACUP AND SAUCER</td>\n",
              "      <td>6</td>\n",
              "      <td>5/9/2011 13:49</td>\n",
              "      <td>2.95</td>\n",
              "      <td>12355.0</td>\n",
              "      <td>Middle East1</td>\n",
              "    </tr>\n",
              "    <tr>\n",
              "      <th>181149</th>\n",
              "      <td>552449</td>\n",
              "      <td>22698</td>\n",
              "      <td>PINK REGENCY TEACUP AND SAUCER</td>\n",
              "      <td>6</td>\n",
              "      <td>5/9/2011 13:49</td>\n",
              "      <td>2.95</td>\n",
              "      <td>12355.0</td>\n",
              "      <td>Middle East1</td>\n",
              "    </tr>\n",
              "    <tr>\n",
              "      <th>181150</th>\n",
              "      <td>552449</td>\n",
              "      <td>72802A</td>\n",
              "      <td>ROSE SCENT CANDLE IN JEWELLED BOX</td>\n",
              "      <td>6</td>\n",
              "      <td>5/9/2011 13:49</td>\n",
              "      <td>4.25</td>\n",
              "      <td>12355.0</td>\n",
              "      <td>Middle East1</td>\n",
              "    </tr>\n",
              "    <tr>\n",
              "      <th>181151</th>\n",
              "      <td>552449</td>\n",
              "      <td>72802B</td>\n",
              "      <td>OCEAN SCENT CANDLE IN JEWELLED BOX</td>\n",
              "      <td>6</td>\n",
              "      <td>5/9/2011 13:49</td>\n",
              "      <td>4.25</td>\n",
              "      <td>12355.0</td>\n",
              "      <td>Middle East1</td>\n",
              "    </tr>\n",
              "    <tr>\n",
              "      <th>181152</th>\n",
              "      <td>552449</td>\n",
              "      <td>72802C</td>\n",
              "      <td>VANILLA SCENT CANDLE JEWELLED BOX</td>\n",
              "      <td>6</td>\n",
              "      <td>5/9/2011 13:49</td>\n",
              "      <td>4.25</td>\n",
              "      <td>12355.0</td>\n",
              "      <td>Middle East1</td>\n",
              "    </tr>\n",
              "    <tr>\n",
              "      <th>197371</th>\n",
              "      <td>553900</td>\n",
              "      <td>37449</td>\n",
              "      <td>CERAMIC CAKE STAND + HANGING CAKES</td>\n",
              "      <td>2</td>\n",
              "      <td>5/19/2011 17:47</td>\n",
              "      <td>9.95</td>\n",
              "      <td>12353.0</td>\n",
              "      <td>Middle East1</td>\n",
              "    </tr>\n",
              "    <tr>\n",
              "      <th>197372</th>\n",
              "      <td>553900</td>\n",
              "      <td>37446</td>\n",
              "      <td>MINI CAKE STAND WITH HANGING CAKES</td>\n",
              "      <td>8</td>\n",
              "      <td>5/19/2011 17:47</td>\n",
              "      <td>1.45</td>\n",
              "      <td>12353.0</td>\n",
              "      <td>Middle East1</td>\n",
              "    </tr>\n",
              "    <tr>\n",
              "      <th>197373</th>\n",
              "      <td>553900</td>\n",
              "      <td>22890</td>\n",
              "      <td>NOVELTY BISCUITS CAKE STAND 3 TIER</td>\n",
              "      <td>4</td>\n",
              "      <td>5/19/2011 17:47</td>\n",
              "      <td>9.95</td>\n",
              "      <td>12353.0</td>\n",
              "      <td>Middle East1</td>\n",
              "    </tr>\n",
              "    <tr>\n",
              "      <th>197374</th>\n",
              "      <td>553900</td>\n",
              "      <td>37450</td>\n",
              "      <td>CERAMIC CAKE BOWL + HANGING CAKES</td>\n",
              "      <td>6</td>\n",
              "      <td>5/19/2011 17:47</td>\n",
              "      <td>2.95</td>\n",
              "      <td>12353.0</td>\n",
              "      <td>Middle East1</td>\n",
              "    </tr>\n",
              "  </tbody>\n",
              "</table>\n",
              "</div>"
            ],
            "text/plain": [
              "       invoiceno stockcode  ... customerid       country\n",
              "38313     539500    72802B  ...        NaN  Middle East1\n",
              "44152    C540155    72802B  ...        NaN  Middle East1\n",
              "181140    552449     22693  ...    12355.0  Middle East1\n",
              "181141    552449     23076  ...    12355.0  Middle East1\n",
              "181142    552449     23077  ...    12355.0  Middle East1\n",
              "181143    552449     22890  ...    12355.0  Middle East1\n",
              "181144    552449     22649  ...    12355.0  Middle East1\n",
              "181145    552449     22423  ...    12355.0  Middle East1\n",
              "181146    552449    85040A  ...    12355.0  Middle East1\n",
              "181147    552449     22699  ...    12355.0  Middle East1\n",
              "181148    552449     22697  ...    12355.0  Middle East1\n",
              "181149    552449     22698  ...    12355.0  Middle East1\n",
              "181150    552449    72802A  ...    12355.0  Middle East1\n",
              "181151    552449    72802B  ...    12355.0  Middle East1\n",
              "181152    552449    72802C  ...    12355.0  Middle East1\n",
              "197371    553900     37449  ...    12353.0  Middle East1\n",
              "197372    553900     37446  ...    12353.0  Middle East1\n",
              "197373    553900     22890  ...    12353.0  Middle East1\n",
              "197374    553900     37450  ...    12353.0  Middle East1\n",
              "\n",
              "[19 rows x 8 columns]"
            ]
          },
          "metadata": {
            "tags": []
          },
          "execution_count": 102
        }
      ]
    },
    {
      "cell_type": "code",
      "metadata": {
        "id": "aVLUUaCYKMDx",
        "colab_type": "code",
        "colab": {}
      },
      "source": [
        "# We are chaging th county names and grouping them togeather based on option 1 (most useful as you can put condition as well)\n",
        "ecomdata.loc[ecomdata.country==\"Germany\",['country']]=\"Europe\"\n",
        "ecomdata.loc[ecomdata.country==\"France\",['country']]=\"Europe\"\n",
        "ecomdata.loc[ecomdata.country==\"EIRE\",['country']]=\"Europe\"\n",
        "ecomdata.loc[ecomdata.country==\"Spain\",['country']]=\"Europe\"\n",
        "ecomdata.loc[ecomdata.country==\"Netherlands\",['country']]=\"Europe\"\n",
        "ecomdata.loc[ecomdata.country==\"Belgium\",['country']]=\"Europe\"\n",
        "ecomdata.loc[ecomdata.country==\"Switzerland\",['country']]=\"Europe\"\n",
        "ecomdata.loc[ecomdata.country==\"Portugal\",['country']]=\"Europe\"\n",
        "ecomdata.loc[ecomdata.country==\"Norway\",['country']]=\"Europe\"\n",
        "ecomdata.loc[ecomdata.country==\"Italy\",['country']]=\"Europe\"\n",
        "ecomdata.loc[ecomdata.country==\"Channel Islands\",['country']]=\"Europe\"\n",
        "ecomdata.loc[ecomdata.country==\"Finland\",['country']]=\"Europe\"\n",
        "ecomdata.loc[ecomdata.country==\"Cyprus\",['country']]=\"Europe\"\n",
        "ecomdata.loc[ecomdata.country==\"Sweden\",['country']]=\"Europe\"\n",
        "ecomdata.loc[ecomdata.country==\"Austria\",['country']]=\"Europe\"\n",
        "ecomdata.loc[ecomdata.country==\"Denmark\",['country']]=\"Europe\"\n",
        "ecomdata.loc[ecomdata.country==\"Japan\",['country']]=\"Asia\"\n",
        "ecomdata.loc[ecomdata.country==\"Poland\",['country']]=\"Europe\"\n",
        "ecomdata.loc[ecomdata.country==\"Israel\",['country']]=\"Europe\"\n",
        "ecomdata.loc[ecomdata.country==\"Hong Kong\",['country']]=\"Asia\"\n",
        "ecomdata.loc[ecomdata.country==\"Singapore\",['country']]=\"Asia\"\n",
        "ecomdata.loc[ecomdata.country==\"Iceland\",['country']]=\"Europe\"\n",
        "ecomdata.loc[ecomdata.country==\"Greece\",['country']]=\"Europe\"\n",
        "ecomdata.loc[ecomdata.country==\"Malta\",['country']]=\"Europe\"\n",
        "ecomdata.loc[ecomdata.country==\"United Arab Emirates\",['country']]=\"Middle East\"\n",
        "ecomdata.loc[ecomdata.country==\"European Community\",['country']]=\"Europe\"\n",
        "ecomdata.loc[ecomdata.country==\"RSA\",['country']]=\"Europe\"\n",
        "ecomdata.loc[ecomdata.country==\"Lebanon\",['country']]=\"Middle East\"\n",
        "ecomdata.loc[ecomdata.country==\"Lithuania\",['country']]=\"Europe\"\n",
        "ecomdata.loc[ecomdata.country==\"Brazil\",['country']]=\"South America\"\n",
        "ecomdata.loc[ecomdata.country==\"Czech Republic\",['country']]=\"Europe\"\n",
        "ecomdata.loc[ecomdata.country==\"Bahrain\",['country']]=\"Middle East\"\n",
        "ecomdata.loc[ecomdata.country==\"Saudi Arabia\",['country']]=\"Middle East\""
      ],
      "execution_count": 0,
      "outputs": []
    },
    {
      "cell_type": "code",
      "metadata": {
        "id": "abjIPn9I3-qN",
        "colab_type": "code",
        "outputId": "aef11003-b468-429a-f5c6-940786d14a80",
        "colab": {
          "base_uri": "https://localhost:8080/",
          "height": 177
        }
      },
      "source": [
        "ecomdata.country.value_counts()"
      ],
      "execution_count": 0,
      "outputs": [
        {
          "output_type": "execute_result",
          "data": {
            "text/plain": [
              "United Kingdom    495478\n",
              "Europe             43625\n",
              "Australia           1259\n",
              "Asia                 517\n",
              "Unspecified          446\n",
              "USA                  291\n",
              "Canada               151\n",
              "Middle East          142\n",
              "Name: country, dtype: int64"
            ]
          },
          "metadata": {
            "tags": []
          },
          "execution_count": 18
        }
      ]
    },
    {
      "cell_type": "markdown",
      "metadata": {
        "id": "97nrsWnwFddV",
        "colab_type": "text"
      },
      "source": [
        "#### Time to look at come values and selective dataframe"
      ]
    },
    {
      "cell_type": "code",
      "metadata": {
        "id": "gytmBIUXLT2F",
        "colab_type": "code",
        "outputId": "97cb29a2-c99b-423c-d92f-d34c280e0a54",
        "colab": {
          "base_uri": "https://localhost:8080/",
          "height": 177
        }
      },
      "source": [
        "# Checking where cutomers arre doing transaction more than 1000 units\n",
        "\n",
        "print(ecomdata[ecomdata.quantity > 1000].head(6))"
      ],
      "execution_count": 0,
      "outputs": [
        {
          "output_type": "stream",
          "text": [
            "      invoiceno stockcode  ...         country    newdate\n",
            "4850     536809     84950  ...  United Kingdom 2010-12-02\n",
            "4945     536830     84077  ...  United Kingdom 2010-12-02\n",
            "4946     536830     21915  ...  United Kingdom 2010-12-02\n",
            "6365     536890    17084R  ...          Europe 2010-12-03\n",
            "16435    537659     22189  ...  United Kingdom 2010-12-07\n",
            "16436    537659     22188  ...  United Kingdom 2010-12-07\n",
            "\n",
            "[6 rows x 9 columns]\n"
          ],
          "name": "stdout"
        }
      ]
    },
    {
      "cell_type": "code",
      "metadata": {
        "id": "oAE_jcwG1rgP",
        "colab_type": "code",
        "outputId": "d1a0e86b-98d6-451c-d998-a2a203fd468e",
        "colab": {
          "base_uri": "https://localhost:8080/",
          "height": 124
        }
      },
      "source": [
        "# AND operation in the dataframe \"&\"\n",
        "print(ecomdata[(ecomdata.unitprice > 3) & (ecomdata.quantity > 1000)].head(10))"
      ],
      "execution_count": 0,
      "outputs": [
        {
          "output_type": "stream",
          "text": [
            "       invoiceno stockcode  ...         country    newdate\n",
            "52132     540689    85123A  ...  United Kingdom 2011-01-11\n",
            "52134     540689     22470  ...  United Kingdom 2011-01-11\n",
            "348325    567423     23243  ...  United Kingdom 2011-09-20\n",
            "\n",
            "[3 rows x 9 columns]\n"
          ],
          "name": "stdout"
        }
      ]
    },
    {
      "cell_type": "code",
      "metadata": {
        "id": "Cz9hNaWS0wOi",
        "colab_type": "code",
        "outputId": "9f35166c-cca3-4b98-844e-5203ead59251",
        "colab": {
          "base_uri": "https://localhost:8080/",
          "height": 248
        }
      },
      "source": [
        "# OR operation in dataframe \"|\"\n",
        "\n",
        "\n",
        "print(ecomdata[(ecomdata.quantity >1000) | (ecomdata.quantity< -1000)].head(10))"
      ],
      "execution_count": 0,
      "outputs": [
        {
          "output_type": "stream",
          "text": [
            "      invoiceno stockcode  ...         country    newdate\n",
            "4287    C536757     84347  ...  United Kingdom 2010-12-02\n",
            "4850     536809     84950  ...  United Kingdom 2010-12-02\n",
            "4945     536830     84077  ...  United Kingdom 2010-12-02\n",
            "4946     536830     21915  ...  United Kingdom 2010-12-02\n",
            "6365     536890    17084R  ...          Europe 2010-12-03\n",
            "16435    537659     22189  ...  United Kingdom 2010-12-07\n",
            "16436    537659     22188  ...  United Kingdom 2010-12-07\n",
            "19871    537899     22328  ...          Europe 2010-12-09\n",
            "19980    537981     22492  ...  United Kingdom 2010-12-09\n",
            "25920    538420     17096  ...  United Kingdom 2010-12-12\n",
            "\n",
            "[10 rows x 9 columns]\n"
          ],
          "name": "stdout"
        }
      ]
    },
    {
      "cell_type": "code",
      "metadata": {
        "id": "jyhczVod3x-4",
        "colab_type": "code",
        "outputId": "dfcdb09c-7df7-44c8-e438-ad72547ef101",
        "colab": {
          "base_uri": "https://localhost:8080/",
          "height": 411
        }
      },
      "source": [
        "ecomdata[(ecomdata.quantity >1000) | (ecomdata.quantity< -1000)]"
      ],
      "execution_count": 0,
      "outputs": [
        {
          "output_type": "execute_result",
          "data": {
            "text/html": [
              "<div>\n",
              "<style scoped>\n",
              "    .dataframe tbody tr th:only-of-type {\n",
              "        vertical-align: middle;\n",
              "    }\n",
              "\n",
              "    .dataframe tbody tr th {\n",
              "        vertical-align: top;\n",
              "    }\n",
              "\n",
              "    .dataframe thead th {\n",
              "        text-align: right;\n",
              "    }\n",
              "</style>\n",
              "<table border=\"1\" class=\"dataframe\">\n",
              "  <thead>\n",
              "    <tr style=\"text-align: right;\">\n",
              "      <th></th>\n",
              "      <th>invoiceno</th>\n",
              "      <th>stockcode</th>\n",
              "      <th>description</th>\n",
              "      <th>quantity</th>\n",
              "      <th>invoicedate</th>\n",
              "      <th>unitprice</th>\n",
              "      <th>customerid</th>\n",
              "      <th>country</th>\n",
              "      <th>newdate</th>\n",
              "    </tr>\n",
              "  </thead>\n",
              "  <tbody>\n",
              "    <tr>\n",
              "      <th>4287</th>\n",
              "      <td>C536757</td>\n",
              "      <td>84347</td>\n",
              "      <td>ROTATING SILVER ANGELS T-LIGHT HLDR</td>\n",
              "      <td>-9360</td>\n",
              "      <td>12/2/2010 14:23</td>\n",
              "      <td>0.03</td>\n",
              "      <td>15838.0</td>\n",
              "      <td>United Kingdom</td>\n",
              "      <td>2010-12-02</td>\n",
              "    </tr>\n",
              "    <tr>\n",
              "      <th>4850</th>\n",
              "      <td>536809</td>\n",
              "      <td>84950</td>\n",
              "      <td>ASSORTED COLOUR T-LIGHT HOLDER</td>\n",
              "      <td>1824</td>\n",
              "      <td>12/2/2010 16:48</td>\n",
              "      <td>0.55</td>\n",
              "      <td>15299.0</td>\n",
              "      <td>United Kingdom</td>\n",
              "      <td>2010-12-02</td>\n",
              "    </tr>\n",
              "    <tr>\n",
              "      <th>4945</th>\n",
              "      <td>536830</td>\n",
              "      <td>84077</td>\n",
              "      <td>WORLD WAR 2 GLIDERS ASSTD DESIGNS</td>\n",
              "      <td>2880</td>\n",
              "      <td>12/2/2010 17:38</td>\n",
              "      <td>0.18</td>\n",
              "      <td>16754.0</td>\n",
              "      <td>United Kingdom</td>\n",
              "      <td>2010-12-02</td>\n",
              "    </tr>\n",
              "    <tr>\n",
              "      <th>4946</th>\n",
              "      <td>536830</td>\n",
              "      <td>21915</td>\n",
              "      <td>RED  HARMONICA IN BOX</td>\n",
              "      <td>1400</td>\n",
              "      <td>12/2/2010 17:38</td>\n",
              "      <td>1.06</td>\n",
              "      <td>16754.0</td>\n",
              "      <td>United Kingdom</td>\n",
              "      <td>2010-12-02</td>\n",
              "    </tr>\n",
              "    <tr>\n",
              "      <th>6365</th>\n",
              "      <td>536890</td>\n",
              "      <td>17084R</td>\n",
              "      <td>ASSORTED INCENSE PACK</td>\n",
              "      <td>1440</td>\n",
              "      <td>12/3/2010 11:48</td>\n",
              "      <td>0.16</td>\n",
              "      <td>14156.0</td>\n",
              "      <td>Europe</td>\n",
              "      <td>2010-12-03</td>\n",
              "    </tr>\n",
              "    <tr>\n",
              "      <th>...</th>\n",
              "      <td>...</td>\n",
              "      <td>...</td>\n",
              "      <td>...</td>\n",
              "      <td>...</td>\n",
              "      <td>...</td>\n",
              "      <td>...</td>\n",
              "      <td>...</td>\n",
              "      <td>...</td>\n",
              "      <td>...</td>\n",
              "    </tr>\n",
              "    <tr>\n",
              "      <th>535335</th>\n",
              "      <td>581212</td>\n",
              "      <td>22578</td>\n",
              "      <td>lost</td>\n",
              "      <td>-1050</td>\n",
              "      <td>12/7/2011 18:38</td>\n",
              "      <td>0.00</td>\n",
              "      <td>NaN</td>\n",
              "      <td>United Kingdom</td>\n",
              "      <td>2011-12-07</td>\n",
              "    </tr>\n",
              "    <tr>\n",
              "      <th>540070</th>\n",
              "      <td>581458</td>\n",
              "      <td>22197</td>\n",
              "      <td>POPCORN HOLDER</td>\n",
              "      <td>1500</td>\n",
              "      <td>12/8/2011 18:45</td>\n",
              "      <td>0.72</td>\n",
              "      <td>17949.0</td>\n",
              "      <td>United Kingdom</td>\n",
              "      <td>2011-12-08</td>\n",
              "    </tr>\n",
              "    <tr>\n",
              "      <th>540071</th>\n",
              "      <td>581459</td>\n",
              "      <td>22197</td>\n",
              "      <td>POPCORN HOLDER</td>\n",
              "      <td>1200</td>\n",
              "      <td>12/8/2011 18:46</td>\n",
              "      <td>0.72</td>\n",
              "      <td>17949.0</td>\n",
              "      <td>United Kingdom</td>\n",
              "      <td>2011-12-08</td>\n",
              "    </tr>\n",
              "    <tr>\n",
              "      <th>540421</th>\n",
              "      <td>581483</td>\n",
              "      <td>23843</td>\n",
              "      <td>PAPER CRAFT , LITTLE BIRDIE</td>\n",
              "      <td>80995</td>\n",
              "      <td>12/9/2011 9:15</td>\n",
              "      <td>2.08</td>\n",
              "      <td>16446.0</td>\n",
              "      <td>United Kingdom</td>\n",
              "      <td>2011-12-09</td>\n",
              "    </tr>\n",
              "    <tr>\n",
              "      <th>540422</th>\n",
              "      <td>C581484</td>\n",
              "      <td>23843</td>\n",
              "      <td>PAPER CRAFT , LITTLE BIRDIE</td>\n",
              "      <td>-80995</td>\n",
              "      <td>12/9/2011 9:27</td>\n",
              "      <td>2.08</td>\n",
              "      <td>16446.0</td>\n",
              "      <td>United Kingdom</td>\n",
              "      <td>2011-12-09</td>\n",
              "    </tr>\n",
              "  </tbody>\n",
              "</table>\n",
              "<p>174 rows × 9 columns</p>\n",
              "</div>"
            ],
            "text/plain": [
              "       invoiceno stockcode  ...         country    newdate\n",
              "4287     C536757     84347  ...  United Kingdom 2010-12-02\n",
              "4850      536809     84950  ...  United Kingdom 2010-12-02\n",
              "4945      536830     84077  ...  United Kingdom 2010-12-02\n",
              "4946      536830     21915  ...  United Kingdom 2010-12-02\n",
              "6365      536890    17084R  ...          Europe 2010-12-03\n",
              "...          ...       ...  ...             ...        ...\n",
              "535335    581212     22578  ...  United Kingdom 2011-12-07\n",
              "540070    581458     22197  ...  United Kingdom 2011-12-08\n",
              "540071    581459     22197  ...  United Kingdom 2011-12-08\n",
              "540421    581483     23843  ...  United Kingdom 2011-12-09\n",
              "540422   C581484     23843  ...  United Kingdom 2011-12-09\n",
              "\n",
              "[174 rows x 9 columns]"
            ]
          },
          "metadata": {
            "tags": []
          },
          "execution_count": 119
        }
      ]
    },
    {
      "cell_type": "markdown",
      "metadata": {
        "id": "ZMkVElaDwa53",
        "colab_type": "text"
      },
      "source": [
        "### Selecting based on values in a series. \n",
        "# is.in function\n",
        "\n",
        "     SYNTAX:\n",
        "     DF[DF['column1'].isin(['492807', '567183']) & DF['column2'].isin(['21813', '22659'])]\n",
        "\n"
      ]
    },
    {
      "cell_type": "code",
      "metadata": {
        "id": "PVeiPPyXxGaH",
        "colab_type": "code",
        "outputId": "d8e81a8d-95f0-4880-8874-4cbe7645da71",
        "colab": {
          "base_uri": "https://localhost:8080/",
          "height": 70
        }
      },
      "source": [
        "ecomdata.columns"
      ],
      "execution_count": 0,
      "outputs": [
        {
          "output_type": "execute_result",
          "data": {
            "text/plain": [
              "Index(['invoiceno', 'stockcode', 'description', 'quantity', 'invoicedate',\n",
              "       'unitprice', 'customerid', 'country', 'newdate'],\n",
              "      dtype='object')"
            ]
          },
          "metadata": {
            "tags": []
          },
          "execution_count": 94
        }
      ]
    },
    {
      "cell_type": "code",
      "metadata": {
        "id": "IhfyhGLKwGyz",
        "colab_type": "code",
        "outputId": "1c36f2ac-badd-4bdb-8bcf-7a88a2320cd8",
        "colab": {
          "base_uri": "https://localhost:8080/",
          "height": 109
        }
      },
      "source": [
        "# New way t0 search for any values in a series and selecting based on th\n",
        "\n",
        "ecomdata[ecomdata['invoiceno'].isin(['492807', '567183']) & ecomdata['stockcode'].isin(['21813', '22659'])]\n",
        "\n"
      ],
      "execution_count": 0,
      "outputs": [
        {
          "output_type": "execute_result",
          "data": {
            "text/html": [
              "<div>\n",
              "<style scoped>\n",
              "    .dataframe tbody tr th:only-of-type {\n",
              "        vertical-align: middle;\n",
              "    }\n",
              "\n",
              "    .dataframe tbody tr th {\n",
              "        vertical-align: top;\n",
              "    }\n",
              "\n",
              "    .dataframe thead th {\n",
              "        text-align: right;\n",
              "    }\n",
              "</style>\n",
              "<table border=\"1\" class=\"dataframe\">\n",
              "  <thead>\n",
              "    <tr style=\"text-align: right;\">\n",
              "      <th></th>\n",
              "      <th>invoiceno</th>\n",
              "      <th>stockcode</th>\n",
              "      <th>description</th>\n",
              "      <th>quantity</th>\n",
              "      <th>invoicedate</th>\n",
              "      <th>unitprice</th>\n",
              "      <th>customerid</th>\n",
              "      <th>country</th>\n",
              "      <th>newdate</th>\n",
              "    </tr>\n",
              "  </thead>\n",
              "  <tbody>\n",
              "    <tr>\n",
              "      <th>346033</th>\n",
              "      <td>567183</td>\n",
              "      <td>22659</td>\n",
              "      <td>LUNCH BOX I LOVE LONDON</td>\n",
              "      <td>2</td>\n",
              "      <td>9/18/2011 15:32</td>\n",
              "      <td>1.95</td>\n",
              "      <td>14769.0</td>\n",
              "      <td>United Kingdom</td>\n",
              "      <td>2011-09-18</td>\n",
              "    </tr>\n",
              "    <tr>\n",
              "      <th>346281</th>\n",
              "      <td>567183</td>\n",
              "      <td>22659</td>\n",
              "      <td>LUNCH BOX I LOVE LONDON</td>\n",
              "      <td>2</td>\n",
              "      <td>9/18/2011 15:33</td>\n",
              "      <td>1.95</td>\n",
              "      <td>14769.0</td>\n",
              "      <td>United Kingdom</td>\n",
              "      <td>2011-09-18</td>\n",
              "    </tr>\n",
              "  </tbody>\n",
              "</table>\n",
              "</div>"
            ],
            "text/plain": [
              "       invoiceno stockcode  ...         country    newdate\n",
              "346033    567183     22659  ...  United Kingdom 2011-09-18\n",
              "346281    567183     22659  ...  United Kingdom 2011-09-18\n",
              "\n",
              "[2 rows x 9 columns]"
            ]
          },
          "metadata": {
            "tags": []
          },
          "execution_count": 96
        }
      ]
    },
    {
      "cell_type": "markdown",
      "metadata": {
        "id": "bGTqpiOKmFAl",
        "colab_type": "text"
      },
      "source": [
        ""
      ]
    },
    {
      "cell_type": "markdown",
      "metadata": {
        "id": "I3YxYvpmGkM9",
        "colab_type": "text"
      },
      "source": [
        "#### One problem - It does not display the complete 171 rows ,\n",
        "#### we might export this in Excel and check manually \n",
        "However to display all the rows we do have an option"
      ]
    },
    {
      "cell_type": "code",
      "metadata": {
        "id": "tiYjwONfGRr_",
        "colab_type": "code",
        "colab": {}
      },
      "source": [
        "pd.set_option('display.expand_frame_repr', False)"
      ],
      "execution_count": 0,
      "outputs": []
    },
    {
      "cell_type": "code",
      "metadata": {
        "id": "k0IWTd00G7EE",
        "colab_type": "code",
        "outputId": "4f0bbe08-2495-41b8-eff3-76dc20c7368a",
        "colab": {
          "base_uri": "https://localhost:8080/",
          "height": 959
        }
      },
      "source": [
        "ecomdata[(ecomdata.quantity >1000) | (ecomdata.quantity< -1000)].head(30)"
      ],
      "execution_count": 0,
      "outputs": [
        {
          "output_type": "execute_result",
          "data": {
            "text/html": [
              "<div>\n",
              "<style scoped>\n",
              "    .dataframe tbody tr th:only-of-type {\n",
              "        vertical-align: middle;\n",
              "    }\n",
              "\n",
              "    .dataframe tbody tr th {\n",
              "        vertical-align: top;\n",
              "    }\n",
              "\n",
              "    .dataframe thead th {\n",
              "        text-align: right;\n",
              "    }\n",
              "</style>\n",
              "<table border=\"1\" class=\"dataframe\">\n",
              "  <thead>\n",
              "    <tr style=\"text-align: right;\">\n",
              "      <th></th>\n",
              "      <th>invoiceno</th>\n",
              "      <th>stockcode</th>\n",
              "      <th>description</th>\n",
              "      <th>quantity</th>\n",
              "      <th>invoicedate</th>\n",
              "      <th>unitprice</th>\n",
              "      <th>customerid</th>\n",
              "      <th>country</th>\n",
              "      <th>newdate</th>\n",
              "    </tr>\n",
              "  </thead>\n",
              "  <tbody>\n",
              "    <tr>\n",
              "      <th>4287</th>\n",
              "      <td>C536757</td>\n",
              "      <td>84347</td>\n",
              "      <td>ROTATING SILVER ANGELS T-LIGHT HLDR</td>\n",
              "      <td>-9360</td>\n",
              "      <td>12/2/2010 14:23</td>\n",
              "      <td>0.03</td>\n",
              "      <td>15838.0</td>\n",
              "      <td>United Kingdom</td>\n",
              "      <td>2010-12-02</td>\n",
              "    </tr>\n",
              "    <tr>\n",
              "      <th>4850</th>\n",
              "      <td>536809</td>\n",
              "      <td>84950</td>\n",
              "      <td>ASSORTED COLOUR T-LIGHT HOLDER</td>\n",
              "      <td>1824</td>\n",
              "      <td>12/2/2010 16:48</td>\n",
              "      <td>0.55</td>\n",
              "      <td>15299.0</td>\n",
              "      <td>United Kingdom</td>\n",
              "      <td>2010-12-02</td>\n",
              "    </tr>\n",
              "    <tr>\n",
              "      <th>4945</th>\n",
              "      <td>536830</td>\n",
              "      <td>84077</td>\n",
              "      <td>WORLD WAR 2 GLIDERS ASSTD DESIGNS</td>\n",
              "      <td>2880</td>\n",
              "      <td>12/2/2010 17:38</td>\n",
              "      <td>0.18</td>\n",
              "      <td>16754.0</td>\n",
              "      <td>United Kingdom</td>\n",
              "      <td>2010-12-02</td>\n",
              "    </tr>\n",
              "    <tr>\n",
              "      <th>4946</th>\n",
              "      <td>536830</td>\n",
              "      <td>21915</td>\n",
              "      <td>RED  HARMONICA IN BOX</td>\n",
              "      <td>1400</td>\n",
              "      <td>12/2/2010 17:38</td>\n",
              "      <td>1.06</td>\n",
              "      <td>16754.0</td>\n",
              "      <td>United Kingdom</td>\n",
              "      <td>2010-12-02</td>\n",
              "    </tr>\n",
              "    <tr>\n",
              "      <th>6365</th>\n",
              "      <td>536890</td>\n",
              "      <td>17084R</td>\n",
              "      <td>ASSORTED INCENSE PACK</td>\n",
              "      <td>1440</td>\n",
              "      <td>12/3/2010 11:48</td>\n",
              "      <td>0.16</td>\n",
              "      <td>14156.0</td>\n",
              "      <td>Europe</td>\n",
              "      <td>2010-12-03</td>\n",
              "    </tr>\n",
              "    <tr>\n",
              "      <th>16435</th>\n",
              "      <td>537659</td>\n",
              "      <td>22189</td>\n",
              "      <td>CREAM HEART CARD HOLDER</td>\n",
              "      <td>1008</td>\n",
              "      <td>12/7/2010 16:43</td>\n",
              "      <td>2.31</td>\n",
              "      <td>18102.0</td>\n",
              "      <td>United Kingdom</td>\n",
              "      <td>2010-12-07</td>\n",
              "    </tr>\n",
              "    <tr>\n",
              "      <th>16436</th>\n",
              "      <td>537659</td>\n",
              "      <td>22188</td>\n",
              "      <td>BLACK HEART CARD HOLDER</td>\n",
              "      <td>1008</td>\n",
              "      <td>12/7/2010 16:43</td>\n",
              "      <td>2.31</td>\n",
              "      <td>18102.0</td>\n",
              "      <td>United Kingdom</td>\n",
              "      <td>2010-12-07</td>\n",
              "    </tr>\n",
              "    <tr>\n",
              "      <th>19871</th>\n",
              "      <td>537899</td>\n",
              "      <td>22328</td>\n",
              "      <td>ROUND SNACK BOXES SET OF 4 FRUITS</td>\n",
              "      <td>1488</td>\n",
              "      <td>12/9/2010 10:44</td>\n",
              "      <td>2.55</td>\n",
              "      <td>12755.0</td>\n",
              "      <td>Europe</td>\n",
              "      <td>2010-12-09</td>\n",
              "    </tr>\n",
              "    <tr>\n",
              "      <th>19980</th>\n",
              "      <td>537981</td>\n",
              "      <td>22492</td>\n",
              "      <td>MINI PAINT SET VINTAGE</td>\n",
              "      <td>1394</td>\n",
              "      <td>12/9/2010 11:35</td>\n",
              "      <td>0.55</td>\n",
              "      <td>17857.0</td>\n",
              "      <td>United Kingdom</td>\n",
              "      <td>2010-12-09</td>\n",
              "    </tr>\n",
              "    <tr>\n",
              "      <th>25920</th>\n",
              "      <td>538420</td>\n",
              "      <td>17096</td>\n",
              "      <td>ASSORTED LAQUERED INCENSE HOLDERS</td>\n",
              "      <td>1728</td>\n",
              "      <td>12/12/2010 12:03</td>\n",
              "      <td>0.17</td>\n",
              "      <td>12875.0</td>\n",
              "      <td>United Kingdom</td>\n",
              "      <td>2010-12-12</td>\n",
              "    </tr>\n",
              "    <tr>\n",
              "      <th>32671</th>\n",
              "      <td>539101</td>\n",
              "      <td>22693</td>\n",
              "      <td>GROW A FLYTRAP OR SUNFLOWER IN TIN</td>\n",
              "      <td>2400</td>\n",
              "      <td>12/16/2010 10:35</td>\n",
              "      <td>0.94</td>\n",
              "      <td>16029.0</td>\n",
              "      <td>United Kingdom</td>\n",
              "      <td>2010-12-16</td>\n",
              "    </tr>\n",
              "    <tr>\n",
              "      <th>40060</th>\n",
              "      <td>539721</td>\n",
              "      <td>22616</td>\n",
              "      <td>PACK OF 12 LONDON TISSUES</td>\n",
              "      <td>1296</td>\n",
              "      <td>12/21/2010 13:34</td>\n",
              "      <td>0.25</td>\n",
              "      <td>17306.0</td>\n",
              "      <td>United Kingdom</td>\n",
              "      <td>2010-12-21</td>\n",
              "    </tr>\n",
              "    <tr>\n",
              "      <th>50849</th>\n",
              "      <td>540564</td>\n",
              "      <td>22617</td>\n",
              "      <td>mouldy, thrown away.</td>\n",
              "      <td>-2600</td>\n",
              "      <td>1/10/2011 10:36</td>\n",
              "      <td>0.00</td>\n",
              "      <td>NaN</td>\n",
              "      <td>United Kingdom</td>\n",
              "      <td>2011-01-10</td>\n",
              "    </tr>\n",
              "    <tr>\n",
              "      <th>52132</th>\n",
              "      <td>540689</td>\n",
              "      <td>85123A</td>\n",
              "      <td>WHITE HANGING HEART T-LIGHT HOLDER</td>\n",
              "      <td>1010</td>\n",
              "      <td>1/11/2011 8:43</td>\n",
              "      <td>3.24</td>\n",
              "      <td>17450.0</td>\n",
              "      <td>United Kingdom</td>\n",
              "      <td>2011-01-11</td>\n",
              "    </tr>\n",
              "    <tr>\n",
              "      <th>52133</th>\n",
              "      <td>540689</td>\n",
              "      <td>22469</td>\n",
              "      <td>HEART OF WICKER SMALL</td>\n",
              "      <td>1356</td>\n",
              "      <td>1/11/2011 8:43</td>\n",
              "      <td>1.93</td>\n",
              "      <td>17450.0</td>\n",
              "      <td>United Kingdom</td>\n",
              "      <td>2011-01-11</td>\n",
              "    </tr>\n",
              "    <tr>\n",
              "      <th>52134</th>\n",
              "      <td>540689</td>\n",
              "      <td>22470</td>\n",
              "      <td>HEART OF WICKER LARGE</td>\n",
              "      <td>1284</td>\n",
              "      <td>1/11/2011 8:43</td>\n",
              "      <td>3.21</td>\n",
              "      <td>17450.0</td>\n",
              "      <td>United Kingdom</td>\n",
              "      <td>2011-01-11</td>\n",
              "    </tr>\n",
              "    <tr>\n",
              "      <th>52709</th>\n",
              "      <td>540815</td>\n",
              "      <td>85123A</td>\n",
              "      <td>WHITE HANGING HEART T-LIGHT HOLDER</td>\n",
              "      <td>1930</td>\n",
              "      <td>1/11/2011 12:55</td>\n",
              "      <td>2.55</td>\n",
              "      <td>15749.0</td>\n",
              "      <td>United Kingdom</td>\n",
              "      <td>2011-01-11</td>\n",
              "    </tr>\n",
              "    <tr>\n",
              "      <th>52710</th>\n",
              "      <td>540815</td>\n",
              "      <td>21175</td>\n",
              "      <td>GIN + TONIC DIET METAL SIGN</td>\n",
              "      <td>2000</td>\n",
              "      <td>1/11/2011 12:55</td>\n",
              "      <td>1.85</td>\n",
              "      <td>15749.0</td>\n",
              "      <td>United Kingdom</td>\n",
              "      <td>2011-01-11</td>\n",
              "    </tr>\n",
              "    <tr>\n",
              "      <th>52711</th>\n",
              "      <td>540815</td>\n",
              "      <td>21108</td>\n",
              "      <td>FAIRY CAKE FLANNEL ASSORTED COLOUR</td>\n",
              "      <td>3114</td>\n",
              "      <td>1/11/2011 12:55</td>\n",
              "      <td>2.10</td>\n",
              "      <td>15749.0</td>\n",
              "      <td>United Kingdom</td>\n",
              "      <td>2011-01-11</td>\n",
              "    </tr>\n",
              "    <tr>\n",
              "      <th>52771</th>\n",
              "      <td>540818</td>\n",
              "      <td>47556B</td>\n",
              "      <td>TEA TIME TEA TOWELS</td>\n",
              "      <td>1300</td>\n",
              "      <td>1/11/2011 12:57</td>\n",
              "      <td>2.55</td>\n",
              "      <td>15749.0</td>\n",
              "      <td>United Kingdom</td>\n",
              "      <td>2011-01-11</td>\n",
              "    </tr>\n",
              "    <tr>\n",
              "      <th>61619</th>\n",
              "      <td>541431</td>\n",
              "      <td>23166</td>\n",
              "      <td>MEDIUM CERAMIC TOP STORAGE JAR</td>\n",
              "      <td>74215</td>\n",
              "      <td>1/18/2011 10:01</td>\n",
              "      <td>1.04</td>\n",
              "      <td>12346.0</td>\n",
              "      <td>United Kingdom</td>\n",
              "      <td>2011-01-18</td>\n",
              "    </tr>\n",
              "    <tr>\n",
              "      <th>61624</th>\n",
              "      <td>C541433</td>\n",
              "      <td>23166</td>\n",
              "      <td>MEDIUM CERAMIC TOP STORAGE JAR</td>\n",
              "      <td>-74215</td>\n",
              "      <td>1/18/2011 10:17</td>\n",
              "      <td>1.04</td>\n",
              "      <td>12346.0</td>\n",
              "      <td>United Kingdom</td>\n",
              "      <td>2011-01-18</td>\n",
              "    </tr>\n",
              "    <tr>\n",
              "      <th>63444</th>\n",
              "      <td>541570</td>\n",
              "      <td>21212</td>\n",
              "      <td>PACK OF 72 RETROSPOT CAKE CASES</td>\n",
              "      <td>1440</td>\n",
              "      <td>1/19/2011 12:34</td>\n",
              "      <td>0.42</td>\n",
              "      <td>14646.0</td>\n",
              "      <td>Europe</td>\n",
              "      <td>2011-01-19</td>\n",
              "    </tr>\n",
              "    <tr>\n",
              "      <th>65063</th>\n",
              "      <td>541685</td>\n",
              "      <td>22351</td>\n",
              "      <td>Given away</td>\n",
              "      <td>-1400</td>\n",
              "      <td>1/20/2011 15:41</td>\n",
              "      <td>0.00</td>\n",
              "      <td>NaN</td>\n",
              "      <td>United Kingdom</td>\n",
              "      <td>2011-01-20</td>\n",
              "    </tr>\n",
              "    <tr>\n",
              "      <th>74614</th>\n",
              "      <td>542504</td>\n",
              "      <td>37413</td>\n",
              "      <td>NaN</td>\n",
              "      <td>5568</td>\n",
              "      <td>1/28/2011 12:03</td>\n",
              "      <td>0.00</td>\n",
              "      <td>NaN</td>\n",
              "      <td>United Kingdom</td>\n",
              "      <td>2011-01-28</td>\n",
              "    </tr>\n",
              "    <tr>\n",
              "      <th>74615</th>\n",
              "      <td>542505</td>\n",
              "      <td>79063D</td>\n",
              "      <td>NaN</td>\n",
              "      <td>2560</td>\n",
              "      <td>1/28/2011 12:04</td>\n",
              "      <td>0.00</td>\n",
              "      <td>NaN</td>\n",
              "      <td>United Kingdom</td>\n",
              "      <td>2011-01-28</td>\n",
              "    </tr>\n",
              "    <tr>\n",
              "      <th>80742</th>\n",
              "      <td>543057</td>\n",
              "      <td>84077</td>\n",
              "      <td>WORLD WAR 2 GLIDERS ASSTD DESIGNS</td>\n",
              "      <td>2592</td>\n",
              "      <td>2/3/2011 10:50</td>\n",
              "      <td>0.21</td>\n",
              "      <td>16333.0</td>\n",
              "      <td>United Kingdom</td>\n",
              "      <td>2011-02-03</td>\n",
              "    </tr>\n",
              "    <tr>\n",
              "      <th>82205</th>\n",
              "      <td>543192</td>\n",
              "      <td>15036</td>\n",
              "      <td>ASSORTED COLOURS SILK FAN</td>\n",
              "      <td>1200</td>\n",
              "      <td>2/4/2011 11:55</td>\n",
              "      <td>0.65</td>\n",
              "      <td>17381.0</td>\n",
              "      <td>United Kingdom</td>\n",
              "      <td>2011-02-04</td>\n",
              "    </tr>\n",
              "    <tr>\n",
              "      <th>82794</th>\n",
              "      <td>543257</td>\n",
              "      <td>84611B</td>\n",
              "      <td>thrown away</td>\n",
              "      <td>-1430</td>\n",
              "      <td>2/4/2011 16:06</td>\n",
              "      <td>0.00</td>\n",
              "      <td>NaN</td>\n",
              "      <td>United Kingdom</td>\n",
              "      <td>2011-02-04</td>\n",
              "    </tr>\n",
              "    <tr>\n",
              "      <th>82795</th>\n",
              "      <td>543258</td>\n",
              "      <td>84611B</td>\n",
              "      <td>NaN</td>\n",
              "      <td>1287</td>\n",
              "      <td>2/4/2011 16:06</td>\n",
              "      <td>0.00</td>\n",
              "      <td>NaN</td>\n",
              "      <td>United Kingdom</td>\n",
              "      <td>2011-02-04</td>\n",
              "    </tr>\n",
              "  </tbody>\n",
              "</table>\n",
              "</div>"
            ],
            "text/plain": [
              "      invoiceno stockcode                          description  quantity       invoicedate  unitprice  customerid         country    newdate\n",
              "4287    C536757     84347  ROTATING SILVER ANGELS T-LIGHT HLDR     -9360   12/2/2010 14:23       0.03     15838.0  United Kingdom 2010-12-02\n",
              "4850     536809     84950       ASSORTED COLOUR T-LIGHT HOLDER      1824   12/2/2010 16:48       0.55     15299.0  United Kingdom 2010-12-02\n",
              "4945     536830     84077    WORLD WAR 2 GLIDERS ASSTD DESIGNS      2880   12/2/2010 17:38       0.18     16754.0  United Kingdom 2010-12-02\n",
              "4946     536830     21915               RED  HARMONICA IN BOX       1400   12/2/2010 17:38       1.06     16754.0  United Kingdom 2010-12-02\n",
              "6365     536890    17084R                ASSORTED INCENSE PACK      1440   12/3/2010 11:48       0.16     14156.0          Europe 2010-12-03\n",
              "16435    537659     22189              CREAM HEART CARD HOLDER      1008   12/7/2010 16:43       2.31     18102.0  United Kingdom 2010-12-07\n",
              "16436    537659     22188              BLACK HEART CARD HOLDER      1008   12/7/2010 16:43       2.31     18102.0  United Kingdom 2010-12-07\n",
              "19871    537899     22328   ROUND SNACK BOXES SET OF 4 FRUITS       1488   12/9/2010 10:44       2.55     12755.0          Europe 2010-12-09\n",
              "19980    537981     22492              MINI PAINT SET VINTAGE       1394   12/9/2010 11:35       0.55     17857.0  United Kingdom 2010-12-09\n",
              "25920    538420     17096    ASSORTED LAQUERED INCENSE HOLDERS      1728  12/12/2010 12:03       0.17     12875.0  United Kingdom 2010-12-12\n",
              "32671    539101     22693   GROW A FLYTRAP OR SUNFLOWER IN TIN      2400  12/16/2010 10:35       0.94     16029.0  United Kingdom 2010-12-16\n",
              "40060    539721     22616           PACK OF 12 LONDON TISSUES       1296  12/21/2010 13:34       0.25     17306.0  United Kingdom 2010-12-21\n",
              "50849    540564     22617                 mouldy, thrown away.     -2600   1/10/2011 10:36       0.00         NaN  United Kingdom 2011-01-10\n",
              "52132    540689    85123A   WHITE HANGING HEART T-LIGHT HOLDER      1010    1/11/2011 8:43       3.24     17450.0  United Kingdom 2011-01-11\n",
              "52133    540689     22469                HEART OF WICKER SMALL      1356    1/11/2011 8:43       1.93     17450.0  United Kingdom 2011-01-11\n",
              "52134    540689     22470                HEART OF WICKER LARGE      1284    1/11/2011 8:43       3.21     17450.0  United Kingdom 2011-01-11\n",
              "52709    540815    85123A   WHITE HANGING HEART T-LIGHT HOLDER      1930   1/11/2011 12:55       2.55     15749.0  United Kingdom 2011-01-11\n",
              "52710    540815     21175          GIN + TONIC DIET METAL SIGN      2000   1/11/2011 12:55       1.85     15749.0  United Kingdom 2011-01-11\n",
              "52711    540815     21108   FAIRY CAKE FLANNEL ASSORTED COLOUR      3114   1/11/2011 12:55       2.10     15749.0  United Kingdom 2011-01-11\n",
              "52771    540818    47556B                 TEA TIME TEA TOWELS       1300   1/11/2011 12:57       2.55     15749.0  United Kingdom 2011-01-11\n",
              "61619    541431     23166       MEDIUM CERAMIC TOP STORAGE JAR     74215   1/18/2011 10:01       1.04     12346.0  United Kingdom 2011-01-18\n",
              "61624   C541433     23166       MEDIUM CERAMIC TOP STORAGE JAR    -74215   1/18/2011 10:17       1.04     12346.0  United Kingdom 2011-01-18\n",
              "63444    541570     21212      PACK OF 72 RETROSPOT CAKE CASES      1440   1/19/2011 12:34       0.42     14646.0          Europe 2011-01-19\n",
              "65063    541685     22351                           Given away     -1400   1/20/2011 15:41       0.00         NaN  United Kingdom 2011-01-20\n",
              "74614    542504     37413                                  NaN      5568   1/28/2011 12:03       0.00         NaN  United Kingdom 2011-01-28\n",
              "74615    542505    79063D                                  NaN      2560   1/28/2011 12:04       0.00         NaN  United Kingdom 2011-01-28\n",
              "80742    543057     84077    WORLD WAR 2 GLIDERS ASSTD DESIGNS      2592    2/3/2011 10:50       0.21     16333.0  United Kingdom 2011-02-03\n",
              "82205    543192     15036            ASSORTED COLOURS SILK FAN      1200    2/4/2011 11:55       0.65     17381.0  United Kingdom 2011-02-04\n",
              "82794    543257    84611B                          thrown away     -1430    2/4/2011 16:06       0.00         NaN  United Kingdom 2011-02-04\n",
              "82795    543258    84611B                                  NaN      1287    2/4/2011 16:06       0.00         NaN  United Kingdom 2011-02-04"
            ]
          },
          "metadata": {
            "tags": []
          },
          "execution_count": 122
        }
      ]
    },
    {
      "cell_type": "markdown",
      "metadata": {
        "id": "q491W2MFmHHI",
        "colab_type": "text"
      },
      "source": [
        "### Sorting methods\n",
        "\n",
        "        Series Sorting method-----> Series.sort_values(axis=0, ascending=True, inplace=False, kind=’quicksort’, na_position=’last’)\n",
        "\n",
        "        Numpy Array sorting method-----> numpy.sort(a, axis=-1, kind=None, order=None"
      ]
    },
    {
      "cell_type": "code",
      "metadata": {
        "id": "2p4XNCsAmJgs",
        "colab_type": "code",
        "outputId": "61d8cfd3-8619-47b4-aedf-262384a788d8",
        "colab": {
          "base_uri": "https://localhost:8080/",
          "height": 1000
        }
      },
      "source": [
        "# Get a series of unique values in column 'Quantity' of the dataframe\n",
        "uniqueValues = ecomdata['quantity'].unique()\n",
        "uniqueValues = np.sort(uniqueValues, axis=0) # output was a numpy array in the previous row and hence need to use numpy sorting\n",
        "print('Unique elements in column \"Quantity\" ')\n",
        "print(uniqueValues)"
      ],
      "execution_count": 0,
      "outputs": [
        {
          "output_type": "stream",
          "text": [
            "Unique elements in column \"Quantity\" \n",
            "[-80995 -74215  -9600  -9360  -9058  -5368  -4830  -3667  -3167  -3114\n",
            "  -3100  -3000  -2880  -2834  -2618  -2600  -2472  -2376  -2003  -2000\n",
            "  -1930  -1897  -1681  -1671  -1560  -1515  -1512  -1510  -1479  -1440\n",
            "  -1430  -1400  -1350  -1300  -1296  -1284  -1277  -1206  -1200  -1158\n",
            "  -1131  -1128  -1121  -1100  -1092  -1060  -1050  -1000   -990   -975\n",
            "   -967   -960   -939   -905   -900   -864   -840   -828   -800   -786\n",
            "   -756   -752   -750   -741   -723   -720   -701   -696   -690   -682\n",
            "   -675   -674   -670   -664   -657   -635   -624   -620   -618   -600\n",
            "   -590   -576   -553   -550   -541   -530   -524   -504   -500   -484\n",
            "   -480   -472   -468   -458   -455   -450   -443   -434   -432   -430\n",
            "   -428   -420   -413   -408   -400   -398   -391   -390   -384   -380\n",
            "   -365   -360   -355   -346   -345   -343   -342   -338   -337   -335\n",
            "   -334   -327   -324   -323   -320   -318   -313   -312   -310   -306\n",
            "   -304   -300   -290   -288   -280   -278   -276   -275   -272   -271\n",
            "   -270   -267   -259   -256   -252   -251   -250   -244   -242   -240\n",
            "   -235   -234   -232   -231   -230   -227   -224   -223   -220   -217\n",
            "   -212   -210   -209   -207   -206   -204   -203   -201   -200   -197\n",
            "   -194   -192   -188   -186   -184   -180   -179   -178   -177   -175\n",
            "   -173   -170   -169   -168   -164   -162   -161   -160   -158   -156\n",
            "   -155   -154   -153   -152   -151   -150   -149   -147   -145   -144\n",
            "   -140   -139   -138   -135   -132   -131   -130   -129   -126   -125\n",
            "   -124   -121   -120   -118   -117   -116   -115   -114   -113   -112\n",
            "   -111   -110   -109   -108   -106   -105   -104   -103   -102   -101\n",
            "   -100    -99    -98    -97    -96    -95    -94    -93    -92    -91\n",
            "    -90    -88    -87    -86    -85    -84    -83    -82    -81    -80\n",
            "    -79    -78    -77    -76    -75    -74    -73    -72    -71    -70\n",
            "    -69    -68    -67    -66    -65    -64    -63    -62    -61    -60\n",
            "    -59    -58    -57    -56    -55    -54    -53    -52    -51    -50\n",
            "    -49    -48    -47    -46    -45    -44    -43    -42    -41    -40\n",
            "    -39    -38    -37    -36    -35    -34    -33    -32    -31    -30\n",
            "    -29    -28    -27    -26    -25    -24    -23    -22    -21    -20\n",
            "    -19    -18    -17    -16    -15    -14    -13    -12    -11    -10\n",
            "     -9     -8     -7     -6     -5     -4     -3     -2     -1      1\n",
            "      2      3      4      5      6      7      8      9     10     11\n",
            "     12     13     14     15     16     17     18     19     20     21\n",
            "     22     23     24     25     26     27     28     29     30     31\n",
            "     32     33     34     35     36     37     38     39     40     41\n",
            "     42     43     44     45     46     47     48     49     50     51\n",
            "     52     53     54     55     56     57     58     59     60     61\n",
            "     62     63     64     65     66     67     68     69     70     71\n",
            "     72     73     74     75     76     77     78     79     80     81\n",
            "     82     83     84     85     86     87     88     89     90     91\n",
            "     92     93     94     95     96     97     98     99    100    101\n",
            "    102    104    105    106    107    108    109    110    111    112\n",
            "    113    114    115    116    117    118    120    121    122    123\n",
            "    124    125    126    128    129    130    131    132    133    135\n",
            "    136    137    138    139    140    141    142    143    144    145\n",
            "    146    147    148    149    150    151    152    153    155    156\n",
            "    157    158    160    162    163    164    165    167    168    170\n",
            "    171    172    175    176    177    179    180    181    183    184\n",
            "    186    188    192    193    196    197    198    199    200    204\n",
            "    205    207    208    210    211    212    213    215    216    219\n",
            "    220    222    224    225    227    228    230    232    234    236\n",
            "    240    242    244    245    246    248    249    250    252    253\n",
            "    255    256    257    258    261    264    267    268    270    272\n",
            "    273    276    279    280    281    288    291    300    304    306\n",
            "    310    312    314    320    323    324    326    330    335    336\n",
            "    342    344    348    350    352    360    370    374    375    378\n",
            "    384    388    392    396    400    402    404    407    408    410\n",
            "    416    420    425    428    430    432    448    450    456    460\n",
            "    462    468    478    480    484    490    492    494    496    500\n",
            "    504    512    528    540    552    560    576    588    600    608\n",
            "    612    620    624    628    630    637    640    648    654    660\n",
            "    666    670    672    682    684    688    696    698    700    701\n",
            "    708    720    738    744    750    752    756    760    768    774\n",
            "    800    824    828    832    840    852    860    864    888    900\n",
            "    906    912    960    968    972    992   1000   1008   1010   1020\n",
            "   1056   1120   1130   1152   1200   1284   1287   1296   1300   1350\n",
            "   1356   1394   1400   1404   1412   1428   1440   1488   1500   1515\n",
            "   1540   1600   1728   1788   1820   1824   1878   1900   1930   1944\n",
            "   1992   2000   2040   2100   2160   2400   2560   2592   2700   2880\n",
            "   3000   3100   3114   3186   3906   4000   4300   4800   5568  12540\n",
            "  74215  80995]\n"
          ],
          "name": "stdout"
        }
      ]
    },
    {
      "cell_type": "code",
      "metadata": {
        "id": "AOpHXhyIoz0Q",
        "colab_type": "code",
        "outputId": "d13370db-d546-4eda-a672-681b37893120",
        "colab": {
          "base_uri": "https://localhost:8080/",
          "height": 70
        }
      },
      "source": [
        "# Get a series of unique values in column 'Country' of the dataframe\n",
        "uniqueValues = ecomdata['country'].unique()\n",
        "print('Unique elements in column \"Country\" ')\n",
        "print(uniqueValues)"
      ],
      "execution_count": 0,
      "outputs": [
        {
          "output_type": "stream",
          "text": [
            "Unique elements in column \"Country\" \n",
            "['United Kingdom' 'Europe' 'Australia' 'Middle East' 'Asia' 'Canada'\n",
            " 'Unspecified' 'USA']\n"
          ],
          "name": "stdout"
        }
      ]
    },
    {
      "cell_type": "code",
      "metadata": {
        "id": "a5-kqTKG5sbc",
        "colab_type": "code",
        "outputId": "4a2ba2c4-c0a0-4924-f416-0208ae4d190d",
        "colab": {
          "base_uri": "https://localhost:8080/",
          "height": 266
        }
      },
      "source": [
        "print(ecomdata[(ecomdata.customerid==12931.0)])"
      ],
      "execution_count": 0,
      "outputs": [
        {
          "output_type": "stream",
          "text": [
            "       invoiceno stockcode                       description  quantity       invoicedate  unitprice  customerid         country    newdate\n",
            "34302     539332     22197              SMALL POPCORN HOLDER       200   12/17/2010 9:45       0.72     12931.0  United Kingdom 2010-12-17\n",
            "37355     539460     21731     RED TOADSTOOL LED NIGHT LIGHT        20  12/17/2010 18:07       1.65     12931.0  United Kingdom 2010-12-17\n",
            "86950    C543624         M                            Manual      -200   2/10/2011 15:33       0.41     12931.0  United Kingdom 2011-02-10\n",
            "90281     543994     22604    SET OF 4 NAPKIN CHARMS CUTLERY       256   2/15/2011 10:41       2.10     12931.0  United Kingdom 2011-02-15\n",
            "90282     543994     22149        FELTCRAFT 6 FLOWER FRIENDS       280   2/15/2011 10:41       1.85     12931.0  United Kingdom 2011-02-15\n",
            "...          ...       ...                               ...       ...               ...        ...         ...             ...        ...\n",
            "476466    577021     21479     WHITE SKULL HOT WATER BOTTLE        300  11/17/2011 12:39       3.75     12931.0  United Kingdom 2011-11-17\n",
            "476467    577021     23203          JUMBO BAG VINTAGE DOILY        150  11/17/2011 12:39       1.79     12931.0  United Kingdom 2011-11-17\n",
            "476468    577021     23215  JINGLE BELL HEART ANTIQUE SILVER       456  11/17/2011 12:39       1.79     12931.0  United Kingdom 2011-11-17\n",
            "480212    577289     22564            ALPHABET STENCIL CRAFT       216  11/18/2011 12:39       1.06     12931.0  United Kingdom 2011-11-18\n",
            "480213    577289     22197                    POPCORN HOLDER       300  11/18/2011 12:39       0.72     12931.0  United Kingdom 2011-11-18\n",
            "\n",
            "[102 rows x 9 columns]\n"
          ],
          "name": "stdout"
        }
      ]
    },
    {
      "cell_type": "markdown",
      "metadata": {
        "id": "6u-bWz2g6Ii0",
        "colab_type": "text"
      },
      "source": [
        "#### Description \"Manual\", Non neumetric stock code ???? Need to do a deep dive to understand this data. "
      ]
    },
    {
      "cell_type": "markdown",
      "metadata": {
        "id": "sYHMFL0sy1xj",
        "colab_type": "text"
      },
      "source": [
        "#### We can observe there are lot of negative values which might be signifying return.However there are some numbers which are >1000 which has been returned. Looks suspicious \n",
        "\n",
        "If you look at the sample below the return happended on the same day within few minutes of time . Considering this data as return would be a noise."
      ]
    },
    {
      "cell_type": "code",
      "metadata": {
        "id": "hn42nH8Ppwoj",
        "colab_type": "code",
        "outputId": "0914f7b9-8160-4978-9be1-a7dcb1f4518d",
        "colab": {
          "base_uri": "https://localhost:8080/",
          "height": 109
        }
      },
      "source": [
        "ecomdata[(ecomdata.quantity==80995) | (ecomdata.quantity==-80995)]"
      ],
      "execution_count": 0,
      "outputs": [
        {
          "output_type": "execute_result",
          "data": {
            "text/html": [
              "<div>\n",
              "<style scoped>\n",
              "    .dataframe tbody tr th:only-of-type {\n",
              "        vertical-align: middle;\n",
              "    }\n",
              "\n",
              "    .dataframe tbody tr th {\n",
              "        vertical-align: top;\n",
              "    }\n",
              "\n",
              "    .dataframe thead th {\n",
              "        text-align: right;\n",
              "    }\n",
              "</style>\n",
              "<table border=\"1\" class=\"dataframe\">\n",
              "  <thead>\n",
              "    <tr style=\"text-align: right;\">\n",
              "      <th></th>\n",
              "      <th>invoiceno</th>\n",
              "      <th>stockcode</th>\n",
              "      <th>description</th>\n",
              "      <th>quantity</th>\n",
              "      <th>invoicedate</th>\n",
              "      <th>unitprice</th>\n",
              "      <th>customerid</th>\n",
              "      <th>country</th>\n",
              "      <th>newdate</th>\n",
              "    </tr>\n",
              "  </thead>\n",
              "  <tbody>\n",
              "    <tr>\n",
              "      <th>540421</th>\n",
              "      <td>581483</td>\n",
              "      <td>23843</td>\n",
              "      <td>PAPER CRAFT , LITTLE BIRDIE</td>\n",
              "      <td>80995</td>\n",
              "      <td>12/9/2011 9:15</td>\n",
              "      <td>2.08</td>\n",
              "      <td>16446.0</td>\n",
              "      <td>United Kingdom</td>\n",
              "      <td>2011-12-09</td>\n",
              "    </tr>\n",
              "    <tr>\n",
              "      <th>540422</th>\n",
              "      <td>C581484</td>\n",
              "      <td>23843</td>\n",
              "      <td>PAPER CRAFT , LITTLE BIRDIE</td>\n",
              "      <td>-80995</td>\n",
              "      <td>12/9/2011 9:27</td>\n",
              "      <td>2.08</td>\n",
              "      <td>16446.0</td>\n",
              "      <td>United Kingdom</td>\n",
              "      <td>2011-12-09</td>\n",
              "    </tr>\n",
              "  </tbody>\n",
              "</table>\n",
              "</div>"
            ],
            "text/plain": [
              "       invoiceno stockcode                  description  quantity     invoicedate  unitprice  customerid         country    newdate\n",
              "540421    581483     23843  PAPER CRAFT , LITTLE BIRDIE     80995  12/9/2011 9:15       2.08     16446.0  United Kingdom 2011-12-09\n",
              "540422   C581484     23843  PAPER CRAFT , LITTLE BIRDIE    -80995  12/9/2011 9:27       2.08     16446.0  United Kingdom 2011-12-09"
            ]
          },
          "metadata": {
            "tags": []
          },
          "execution_count": 127
        }
      ]
    },
    {
      "cell_type": "code",
      "metadata": {
        "id": "JVOlvi_F0Fps",
        "colab_type": "code",
        "outputId": "fb7958f2-daa7-489f-fb93-5ef7fbbaf95a",
        "colab": {
          "base_uri": "https://localhost:8080/",
          "height": 248
        }
      },
      "source": [
        "print(ecomdata[(ecomdata.quantity==252) | (ecomdata.quantity==-252)])"
      ],
      "execution_count": 0,
      "outputs": [
        {
          "output_type": "stream",
          "text": [
            "       invoiceno stockcode                   description  quantity       invoicedate  unitprice  customerid         country    newdate\n",
            "2308      536575     22095          LADS ONLY TISSUE BOX       252   12/1/2010 16:01       1.25     13777.0  United Kingdom 2010-12-01\n",
            "132911    547708     22459  CAST IRON HOOK GARDEN TROWEL       252   3/24/2011 18:34       2.69     17450.0  United Kingdom 2011-03-24\n",
            "154572    549927     22970         LONDON BUS COFFEE MUG       252   4/13/2011 10:19       2.10     16684.0  United Kingdom 2011-04-13\n",
            "245136    558612     21877           HOME SWEET HOME MUG       252   6/30/2011 15:40       1.06     17949.0  United Kingdom 2011-06-30\n",
            "319917   C564940     22561   WOODEN SCHOOL COLOURING SET      -252   8/31/2011 13:10       1.45     12931.0  United Kingdom 2011-08-31\n",
            "323064    565240     21098         CHRISTMAS TOILET ROLL       252    9/2/2011 10:05       1.06     17949.0  United Kingdom 2011-09-02\n",
            "323461    565306     21830                     sold as 1      -252    9/2/2011 12:20       0.00         NaN  United Kingdom 2011-09-02\n",
            "372999    569255     22189       CREAM HEART CARD HOLDER       252   10/3/2011 11:01       2.32     18102.0  United Kingdom 2011-10-03\n",
            "377909    569570     22970         LONDON BUS COFFEE MUG       252   10/5/2011 10:06       2.10     16684.0  United Kingdom 2011-10-05\n",
            "377913    569570     21844             RED RETROSPOT MUG       252   10/5/2011 10:06       2.55     16684.0  United Kingdom 2011-10-05\n",
            "437476    574293     22470         HEART OF WICKER LARGE       252   11/3/2011 15:32       3.20     17450.0  United Kingdom 2011-11-03\n",
            "465772    576254     22492       MINI PAINT SET VINTAGE        252  11/14/2011 14:02       0.65     16422.0  United Kingdom 2011-11-14\n"
          ],
          "name": "stdout"
        }
      ]
    },
    {
      "cell_type": "markdown",
      "metadata": {
        "id": "sBIQJNfm1ecx",
        "colab_type": "text"
      },
      "source": [
        "### This is interesting Not everytime high number of return does not mean wrong data . So we need to build a logic based on this condition....   \n",
        "\n",
        "\"if the customer id is same for both occurange of the negative and positive number and the date of the transaction is same then we need to remove these from the data\" cancelled transactions are looks to be prefixed with 'C' on the invoiceno\n",
        "\n",
        "### **Creating a condition DF for multiple condition for gross subsetting**\n",
        "\n"
      ]
    },
    {
      "cell_type": "code",
      "metadata": {
        "id": "-AsOxVK80Fsu",
        "colab_type": "code",
        "colab": {}
      },
      "source": [
        "# an example of dataframe with key:value pair with a lambda function to check if there is any cancelled events along with negative quantity <-30\n",
        "\n",
        "\n",
        "condition_df = pd.DataFrame({'cancelled events':ecomdata.invoiceno.apply(lambda X: X.startswith('C')), \n",
        "                             'negative quantity': (ecomdata.quantity<-30)})"
      ],
      "execution_count": 0,
      "outputs": []
    },
    {
      "cell_type": "code",
      "metadata": {
        "id": "s9J8XAAez5Il",
        "colab_type": "code",
        "outputId": "3c952c5e-464f-4ccd-fcd2-50fc96d24a30",
        "colab": {
          "base_uri": "https://localhost:8080/",
          "height": 252
        }
      },
      "source": [
        "condition_df[\"Flag\"] = condition_df['cancelled events'] + condition_df['negative quantity']\n",
        "\n",
        "condition_df.head()"
      ],
      "execution_count": 0,
      "outputs": [
        {
          "output_type": "stream",
          "text": [
            "/usr/local/lib/python3.6/dist-packages/pandas/core/computation/expressions.py:178: UserWarning: evaluating in Python space because the '+' operator is not supported by numexpr for the bool dtype, use '|' instead\n",
            "  f\"evaluating in Python space because the {repr(op_str)} \"\n"
          ],
          "name": "stderr"
        },
        {
          "output_type": "execute_result",
          "data": {
            "text/html": [
              "<div>\n",
              "<style scoped>\n",
              "    .dataframe tbody tr th:only-of-type {\n",
              "        vertical-align: middle;\n",
              "    }\n",
              "\n",
              "    .dataframe tbody tr th {\n",
              "        vertical-align: top;\n",
              "    }\n",
              "\n",
              "    .dataframe thead th {\n",
              "        text-align: right;\n",
              "    }\n",
              "</style>\n",
              "<table border=\"1\" class=\"dataframe\">\n",
              "  <thead>\n",
              "    <tr style=\"text-align: right;\">\n",
              "      <th></th>\n",
              "      <th>cancelled events</th>\n",
              "      <th>negative quantity</th>\n",
              "      <th>Flag</th>\n",
              "    </tr>\n",
              "  </thead>\n",
              "  <tbody>\n",
              "    <tr>\n",
              "      <th>0</th>\n",
              "      <td>False</td>\n",
              "      <td>False</td>\n",
              "      <td>False</td>\n",
              "    </tr>\n",
              "    <tr>\n",
              "      <th>1</th>\n",
              "      <td>False</td>\n",
              "      <td>False</td>\n",
              "      <td>False</td>\n",
              "    </tr>\n",
              "    <tr>\n",
              "      <th>2</th>\n",
              "      <td>False</td>\n",
              "      <td>False</td>\n",
              "      <td>False</td>\n",
              "    </tr>\n",
              "    <tr>\n",
              "      <th>3</th>\n",
              "      <td>False</td>\n",
              "      <td>False</td>\n",
              "      <td>False</td>\n",
              "    </tr>\n",
              "    <tr>\n",
              "      <th>4</th>\n",
              "      <td>False</td>\n",
              "      <td>False</td>\n",
              "      <td>False</td>\n",
              "    </tr>\n",
              "  </tbody>\n",
              "</table>\n",
              "</div>"
            ],
            "text/plain": [
              "   cancelled events  negative quantity   Flag\n",
              "0             False              False  False\n",
              "1             False              False  False\n",
              "2             False              False  False\n",
              "3             False              False  False\n",
              "4             False              False  False"
            ]
          },
          "metadata": {
            "tags": []
          },
          "execution_count": 18
        }
      ]
    },
    {
      "cell_type": "code",
      "metadata": {
        "id": "UZTD0MreHnc1",
        "colab_type": "code",
        "outputId": "f5203dbf-b72f-4c61-8af3-83db1116480e",
        "colab": {
          "base_uri": "https://localhost:8080/",
          "height": 197
        }
      },
      "source": [
        "# Let's change the flag to number\n",
        "condition_df[\"Flag\"] = condition_df['cancelled events']*1 + condition_df['negative quantity']*1\n",
        "condition_df.head()"
      ],
      "execution_count": 0,
      "outputs": [
        {
          "output_type": "execute_result",
          "data": {
            "text/html": [
              "<div>\n",
              "<style scoped>\n",
              "    .dataframe tbody tr th:only-of-type {\n",
              "        vertical-align: middle;\n",
              "    }\n",
              "\n",
              "    .dataframe tbody tr th {\n",
              "        vertical-align: top;\n",
              "    }\n",
              "\n",
              "    .dataframe thead th {\n",
              "        text-align: right;\n",
              "    }\n",
              "</style>\n",
              "<table border=\"1\" class=\"dataframe\">\n",
              "  <thead>\n",
              "    <tr style=\"text-align: right;\">\n",
              "      <th></th>\n",
              "      <th>cancelled events</th>\n",
              "      <th>negative quantity</th>\n",
              "      <th>Flag</th>\n",
              "    </tr>\n",
              "  </thead>\n",
              "  <tbody>\n",
              "    <tr>\n",
              "      <th>0</th>\n",
              "      <td>False</td>\n",
              "      <td>False</td>\n",
              "      <td>0</td>\n",
              "    </tr>\n",
              "    <tr>\n",
              "      <th>1</th>\n",
              "      <td>False</td>\n",
              "      <td>False</td>\n",
              "      <td>0</td>\n",
              "    </tr>\n",
              "    <tr>\n",
              "      <th>2</th>\n",
              "      <td>False</td>\n",
              "      <td>False</td>\n",
              "      <td>0</td>\n",
              "    </tr>\n",
              "    <tr>\n",
              "      <th>3</th>\n",
              "      <td>False</td>\n",
              "      <td>False</td>\n",
              "      <td>0</td>\n",
              "    </tr>\n",
              "    <tr>\n",
              "      <th>4</th>\n",
              "      <td>False</td>\n",
              "      <td>False</td>\n",
              "      <td>0</td>\n",
              "    </tr>\n",
              "  </tbody>\n",
              "</table>\n",
              "</div>"
            ],
            "text/plain": [
              "   cancelled events  negative quantity  Flag\n",
              "0             False              False     0\n",
              "1             False              False     0\n",
              "2             False              False     0\n",
              "3             False              False     0\n",
              "4             False              False     0"
            ]
          },
          "metadata": {
            "tags": []
          },
          "execution_count": 19
        }
      ]
    },
    {
      "cell_type": "code",
      "metadata": {
        "id": "65lazrVBH0T4",
        "colab_type": "code",
        "outputId": "095615a5-a9f3-4db4-9d8f-53c51ab6bdd1",
        "colab": {
          "base_uri": "https://localhost:8080/",
          "height": 411
        }
      },
      "source": [
        "# Now extracting customer ID and dates from the above selection\n",
        "\n",
        "ecomdata[condition_df.Flag==2]"
      ],
      "execution_count": 0,
      "outputs": [
        {
          "output_type": "execute_result",
          "data": {
            "text/html": [
              "<div>\n",
              "<style scoped>\n",
              "    .dataframe tbody tr th:only-of-type {\n",
              "        vertical-align: middle;\n",
              "    }\n",
              "\n",
              "    .dataframe tbody tr th {\n",
              "        vertical-align: top;\n",
              "    }\n",
              "\n",
              "    .dataframe thead th {\n",
              "        text-align: right;\n",
              "    }\n",
              "</style>\n",
              "<table border=\"1\" class=\"dataframe\">\n",
              "  <thead>\n",
              "    <tr style=\"text-align: right;\">\n",
              "      <th></th>\n",
              "      <th>invoiceno</th>\n",
              "      <th>stockcode</th>\n",
              "      <th>description</th>\n",
              "      <th>quantity</th>\n",
              "      <th>invoicedate</th>\n",
              "      <th>unitprice</th>\n",
              "      <th>customerid</th>\n",
              "      <th>country</th>\n",
              "      <th>newdate</th>\n",
              "    </tr>\n",
              "  </thead>\n",
              "  <tbody>\n",
              "    <tr>\n",
              "      <th>4287</th>\n",
              "      <td>C536757</td>\n",
              "      <td>84347</td>\n",
              "      <td>ROTATING SILVER ANGELS T-LIGHT HLDR</td>\n",
              "      <td>-9360</td>\n",
              "      <td>12/2/2010 14:23</td>\n",
              "      <td>0.03</td>\n",
              "      <td>15838.0</td>\n",
              "      <td>United Kingdom</td>\n",
              "      <td>2010-12-02</td>\n",
              "    </tr>\n",
              "    <tr>\n",
              "      <th>4853</th>\n",
              "      <td>C536812</td>\n",
              "      <td>22578</td>\n",
              "      <td>WOODEN STAR CHRISTMAS SCANDINAVIAN</td>\n",
              "      <td>-36</td>\n",
              "      <td>12/2/2010 16:58</td>\n",
              "      <td>0.85</td>\n",
              "      <td>16546.0</td>\n",
              "      <td>United Kingdom</td>\n",
              "      <td>2010-12-02</td>\n",
              "    </tr>\n",
              "    <tr>\n",
              "      <th>4854</th>\n",
              "      <td>C536812</td>\n",
              "      <td>22574</td>\n",
              "      <td>HEART WOODEN CHRISTMAS DECORATION</td>\n",
              "      <td>-192</td>\n",
              "      <td>12/2/2010 16:58</td>\n",
              "      <td>0.72</td>\n",
              "      <td>16546.0</td>\n",
              "      <td>United Kingdom</td>\n",
              "      <td>2010-12-02</td>\n",
              "    </tr>\n",
              "    <tr>\n",
              "      <th>4855</th>\n",
              "      <td>C536812</td>\n",
              "      <td>22593</td>\n",
              "      <td>CHRISTMAS GINGHAM STAR</td>\n",
              "      <td>-144</td>\n",
              "      <td>12/2/2010 16:58</td>\n",
              "      <td>0.72</td>\n",
              "      <td>16546.0</td>\n",
              "      <td>United Kingdom</td>\n",
              "      <td>2010-12-02</td>\n",
              "    </tr>\n",
              "    <tr>\n",
              "      <th>4856</th>\n",
              "      <td>C536812</td>\n",
              "      <td>22595</td>\n",
              "      <td>CHRISTMAS GINGHAM HEART</td>\n",
              "      <td>-144</td>\n",
              "      <td>12/2/2010 16:58</td>\n",
              "      <td>0.72</td>\n",
              "      <td>16546.0</td>\n",
              "      <td>United Kingdom</td>\n",
              "      <td>2010-12-02</td>\n",
              "    </tr>\n",
              "    <tr>\n",
              "      <th>...</th>\n",
              "      <td>...</td>\n",
              "      <td>...</td>\n",
              "      <td>...</td>\n",
              "      <td>...</td>\n",
              "      <td>...</td>\n",
              "      <td>...</td>\n",
              "      <td>...</td>\n",
              "      <td>...</td>\n",
              "      <td>...</td>\n",
              "    </tr>\n",
              "    <tr>\n",
              "      <th>536922</th>\n",
              "      <td>C581229</td>\n",
              "      <td>23158</td>\n",
              "      <td>SET OF 5 LUCKY CAT MAGNETS</td>\n",
              "      <td>-36</td>\n",
              "      <td>12/8/2011 10:14</td>\n",
              "      <td>2.08</td>\n",
              "      <td>12558.0</td>\n",
              "      <td>USA</td>\n",
              "      <td>2011-12-08</td>\n",
              "    </tr>\n",
              "    <tr>\n",
              "      <th>537615</th>\n",
              "      <td>C581330</td>\n",
              "      <td>16169E</td>\n",
              "      <td>WRAP 50'S  CHRISTMAS</td>\n",
              "      <td>-100</td>\n",
              "      <td>12/8/2011 11:57</td>\n",
              "      <td>0.42</td>\n",
              "      <td>15877.0</td>\n",
              "      <td>United Kingdom</td>\n",
              "      <td>2011-12-08</td>\n",
              "    </tr>\n",
              "    <tr>\n",
              "      <th>540078</th>\n",
              "      <td>C581462</td>\n",
              "      <td>16219</td>\n",
              "      <td>HOUSE SHAPE PENCIL SHARPENER</td>\n",
              "      <td>-48</td>\n",
              "      <td>12/8/2011 18:51</td>\n",
              "      <td>0.06</td>\n",
              "      <td>12985.0</td>\n",
              "      <td>United Kingdom</td>\n",
              "      <td>2011-12-08</td>\n",
              "    </tr>\n",
              "    <tr>\n",
              "      <th>540079</th>\n",
              "      <td>C581462</td>\n",
              "      <td>21642</td>\n",
              "      <td>ASSORTED TUTTI FRUTTI PEN</td>\n",
              "      <td>-72</td>\n",
              "      <td>12/8/2011 18:51</td>\n",
              "      <td>0.29</td>\n",
              "      <td>12985.0</td>\n",
              "      <td>United Kingdom</td>\n",
              "      <td>2011-12-08</td>\n",
              "    </tr>\n",
              "    <tr>\n",
              "      <th>540422</th>\n",
              "      <td>C581484</td>\n",
              "      <td>23843</td>\n",
              "      <td>PAPER CRAFT , LITTLE BIRDIE</td>\n",
              "      <td>-80995</td>\n",
              "      <td>12/9/2011 9:27</td>\n",
              "      <td>2.08</td>\n",
              "      <td>16446.0</td>\n",
              "      <td>United Kingdom</td>\n",
              "      <td>2011-12-09</td>\n",
              "    </tr>\n",
              "  </tbody>\n",
              "</table>\n",
              "<p>539 rows × 9 columns</p>\n",
              "</div>"
            ],
            "text/plain": [
              "       invoiceno stockcode  ...         country    newdate\n",
              "4287     C536757     84347  ...  United Kingdom 2010-12-02\n",
              "4853     C536812     22578  ...  United Kingdom 2010-12-02\n",
              "4854     C536812     22574  ...  United Kingdom 2010-12-02\n",
              "4855     C536812     22593  ...  United Kingdom 2010-12-02\n",
              "4856     C536812     22595  ...  United Kingdom 2010-12-02\n",
              "...          ...       ...  ...             ...        ...\n",
              "536922   C581229     23158  ...             USA 2011-12-08\n",
              "537615   C581330    16169E  ...  United Kingdom 2011-12-08\n",
              "540078   C581462     16219  ...  United Kingdom 2011-12-08\n",
              "540079   C581462     21642  ...  United Kingdom 2011-12-08\n",
              "540422   C581484     23843  ...  United Kingdom 2011-12-09\n",
              "\n",
              "[539 rows x 9 columns]"
            ]
          },
          "metadata": {
            "tags": []
          },
          "execution_count": 32
        }
      ]
    },
    {
      "cell_type": "code",
      "metadata": {
        "id": "NZ0YYvTsUO3D",
        "colab_type": "code",
        "outputId": "c5d305a1-48b6-4cc8-8aed-bd06ce80a844",
        "colab": {
          "base_uri": "https://localhost:8080/",
          "height": 411
        }
      },
      "source": [
        "ecomdata[condition_df.Flag==2][['customerid', 'newdate']]"
      ],
      "execution_count": 0,
      "outputs": [
        {
          "output_type": "execute_result",
          "data": {
            "text/html": [
              "<div>\n",
              "<style scoped>\n",
              "    .dataframe tbody tr th:only-of-type {\n",
              "        vertical-align: middle;\n",
              "    }\n",
              "\n",
              "    .dataframe tbody tr th {\n",
              "        vertical-align: top;\n",
              "    }\n",
              "\n",
              "    .dataframe thead th {\n",
              "        text-align: right;\n",
              "    }\n",
              "</style>\n",
              "<table border=\"1\" class=\"dataframe\">\n",
              "  <thead>\n",
              "    <tr style=\"text-align: right;\">\n",
              "      <th></th>\n",
              "      <th>customerid</th>\n",
              "      <th>newdate</th>\n",
              "    </tr>\n",
              "  </thead>\n",
              "  <tbody>\n",
              "    <tr>\n",
              "      <th>4287</th>\n",
              "      <td>15838.0</td>\n",
              "      <td>2010-12-02</td>\n",
              "    </tr>\n",
              "    <tr>\n",
              "      <th>4853</th>\n",
              "      <td>16546.0</td>\n",
              "      <td>2010-12-02</td>\n",
              "    </tr>\n",
              "    <tr>\n",
              "      <th>4854</th>\n",
              "      <td>16546.0</td>\n",
              "      <td>2010-12-02</td>\n",
              "    </tr>\n",
              "    <tr>\n",
              "      <th>4855</th>\n",
              "      <td>16546.0</td>\n",
              "      <td>2010-12-02</td>\n",
              "    </tr>\n",
              "    <tr>\n",
              "      <th>4856</th>\n",
              "      <td>16546.0</td>\n",
              "      <td>2010-12-02</td>\n",
              "    </tr>\n",
              "    <tr>\n",
              "      <th>...</th>\n",
              "      <td>...</td>\n",
              "      <td>...</td>\n",
              "    </tr>\n",
              "    <tr>\n",
              "      <th>536922</th>\n",
              "      <td>12558.0</td>\n",
              "      <td>2011-12-08</td>\n",
              "    </tr>\n",
              "    <tr>\n",
              "      <th>537615</th>\n",
              "      <td>15877.0</td>\n",
              "      <td>2011-12-08</td>\n",
              "    </tr>\n",
              "    <tr>\n",
              "      <th>540078</th>\n",
              "      <td>12985.0</td>\n",
              "      <td>2011-12-08</td>\n",
              "    </tr>\n",
              "    <tr>\n",
              "      <th>540079</th>\n",
              "      <td>12985.0</td>\n",
              "      <td>2011-12-08</td>\n",
              "    </tr>\n",
              "    <tr>\n",
              "      <th>540422</th>\n",
              "      <td>16446.0</td>\n",
              "      <td>2011-12-09</td>\n",
              "    </tr>\n",
              "  </tbody>\n",
              "</table>\n",
              "<p>539 rows × 2 columns</p>\n",
              "</div>"
            ],
            "text/plain": [
              "        customerid    newdate\n",
              "4287       15838.0 2010-12-02\n",
              "4853       16546.0 2010-12-02\n",
              "4854       16546.0 2010-12-02\n",
              "4855       16546.0 2010-12-02\n",
              "4856       16546.0 2010-12-02\n",
              "...            ...        ...\n",
              "536922     12558.0 2011-12-08\n",
              "537615     15877.0 2011-12-08\n",
              "540078     12985.0 2011-12-08\n",
              "540079     12985.0 2011-12-08\n",
              "540422     16446.0 2011-12-09\n",
              "\n",
              "[539 rows x 2 columns]"
            ]
          },
          "metadata": {
            "tags": []
          },
          "execution_count": 33
        }
      ]
    },
    {
      "cell_type": "code",
      "metadata": {
        "id": "2hW663y3UVc3",
        "colab_type": "code",
        "outputId": "3c49bbb4-9dfb-4cae-d60e-2bbe66b97f65",
        "colab": {
          "base_uri": "https://localhost:8080/",
          "height": 34
        }
      },
      "source": [
        "#let's check how any unique combinations are available\n",
        "\n",
        "ecomdata[condition_df.Flag==2][['customerid', 'newdate']].drop_duplicates().shape\n"
      ],
      "execution_count": 0,
      "outputs": [
        {
          "output_type": "execute_result",
          "data": {
            "text/plain": [
              "(250, 2)"
            ]
          },
          "metadata": {
            "tags": []
          },
          "execution_count": 20
        }
      ]
    },
    {
      "cell_type": "code",
      "metadata": {
        "id": "SnflTLtFUmlf",
        "colab_type": "code",
        "colab": {}
      },
      "source": [
        "# Let's now create a databased of all unique combinations\n",
        "\n",
        "new_condition_df=ecomdata[condition_df.Flag==2][['customerid', 'newdate']].drop_duplicates()"
      ],
      "execution_count": 0,
      "outputs": []
    },
    {
      "cell_type": "code",
      "metadata": {
        "id": "N0x5PRLIU0UU",
        "colab_type": "code",
        "colab": {}
      },
      "source": [
        "#Creating a flag variable in the unique database.\n",
        "#idea is to map and merge the condition fd to original df to map the customer ID and date combination which are selected based on above condition\n",
        "new_condition_df[\"Flag\"]=1\n"
      ],
      "execution_count": 0,
      "outputs": []
    },
    {
      "cell_type": "code",
      "metadata": {
        "id": "BEGeMlakVRvX",
        "colab_type": "code",
        "outputId": "91899551-c71c-41b1-9a6c-a42f5d4805d9",
        "colab": {
          "base_uri": "https://localhost:8080/",
          "height": 197
        }
      },
      "source": [
        "new_condition_df.head()"
      ],
      "execution_count": 0,
      "outputs": [
        {
          "output_type": "execute_result",
          "data": {
            "text/html": [
              "<div>\n",
              "<style scoped>\n",
              "    .dataframe tbody tr th:only-of-type {\n",
              "        vertical-align: middle;\n",
              "    }\n",
              "\n",
              "    .dataframe tbody tr th {\n",
              "        vertical-align: top;\n",
              "    }\n",
              "\n",
              "    .dataframe thead th {\n",
              "        text-align: right;\n",
              "    }\n",
              "</style>\n",
              "<table border=\"1\" class=\"dataframe\">\n",
              "  <thead>\n",
              "    <tr style=\"text-align: right;\">\n",
              "      <th></th>\n",
              "      <th>customerid</th>\n",
              "      <th>newdate</th>\n",
              "      <th>Flag</th>\n",
              "    </tr>\n",
              "  </thead>\n",
              "  <tbody>\n",
              "    <tr>\n",
              "      <th>4287</th>\n",
              "      <td>15838.0</td>\n",
              "      <td>2010-12-02</td>\n",
              "      <td>1</td>\n",
              "    </tr>\n",
              "    <tr>\n",
              "      <th>4853</th>\n",
              "      <td>16546.0</td>\n",
              "      <td>2010-12-02</td>\n",
              "      <td>1</td>\n",
              "    </tr>\n",
              "    <tr>\n",
              "      <th>5232</th>\n",
              "      <td>14213.0</td>\n",
              "      <td>2010-12-03</td>\n",
              "      <td>1</td>\n",
              "    </tr>\n",
              "    <tr>\n",
              "      <th>7278</th>\n",
              "      <td>13941.0</td>\n",
              "      <td>2010-12-03</td>\n",
              "      <td>1</td>\n",
              "    </tr>\n",
              "    <tr>\n",
              "      <th>13042</th>\n",
              "      <td>14409.0</td>\n",
              "      <td>2010-12-06</td>\n",
              "      <td>1</td>\n",
              "    </tr>\n",
              "  </tbody>\n",
              "</table>\n",
              "</div>"
            ],
            "text/plain": [
              "       customerid    newdate  Flag\n",
              "4287      15838.0 2010-12-02     1\n",
              "4853      16546.0 2010-12-02     1\n",
              "5232      14213.0 2010-12-03     1\n",
              "7278      13941.0 2010-12-03     1\n",
              "13042     14409.0 2010-12-06     1"
            ]
          },
          "metadata": {
            "tags": []
          },
          "execution_count": 23
        }
      ]
    },
    {
      "cell_type": "code",
      "metadata": {
        "id": "srTNshnxVVhJ",
        "colab_type": "code",
        "colab": {}
      },
      "source": [
        "# doing a left join with orginal df. Tis will keep all rows of orginal df and map based on multiple key and flag them\n",
        "# post this we can select such transaction \n",
        "cleanecom= pd.merge(ecomdata,new_condition_df, on =['customerid','newdate'] , how='left')"
      ],
      "execution_count": 0,
      "outputs": []
    },
    {
      "cell_type": "code",
      "metadata": {
        "id": "YRMw7Pd_XKsm",
        "colab_type": "code",
        "outputId": "02aa0c2a-3abc-4052-bb65-b17b537adddb",
        "colab": {
          "base_uri": "https://localhost:8080/",
          "height": 109
        }
      },
      "source": [
        "cleanecom.head(2)"
      ],
      "execution_count": 0,
      "outputs": [
        {
          "output_type": "execute_result",
          "data": {
            "text/html": [
              "<div>\n",
              "<style scoped>\n",
              "    .dataframe tbody tr th:only-of-type {\n",
              "        vertical-align: middle;\n",
              "    }\n",
              "\n",
              "    .dataframe tbody tr th {\n",
              "        vertical-align: top;\n",
              "    }\n",
              "\n",
              "    .dataframe thead th {\n",
              "        text-align: right;\n",
              "    }\n",
              "</style>\n",
              "<table border=\"1\" class=\"dataframe\">\n",
              "  <thead>\n",
              "    <tr style=\"text-align: right;\">\n",
              "      <th></th>\n",
              "      <th>invoiceno</th>\n",
              "      <th>stockcode</th>\n",
              "      <th>description</th>\n",
              "      <th>quantity</th>\n",
              "      <th>invoicedate</th>\n",
              "      <th>unitprice</th>\n",
              "      <th>customerid</th>\n",
              "      <th>country</th>\n",
              "      <th>newdate</th>\n",
              "      <th>Flag</th>\n",
              "    </tr>\n",
              "  </thead>\n",
              "  <tbody>\n",
              "    <tr>\n",
              "      <th>0</th>\n",
              "      <td>536365</td>\n",
              "      <td>85123A</td>\n",
              "      <td>WHITE HANGING HEART T-LIGHT HOLDER</td>\n",
              "      <td>6</td>\n",
              "      <td>12/1/2010 8:26</td>\n",
              "      <td>2.55</td>\n",
              "      <td>17850.0</td>\n",
              "      <td>United Kingdom</td>\n",
              "      <td>2010-12-01</td>\n",
              "      <td>NaN</td>\n",
              "    </tr>\n",
              "    <tr>\n",
              "      <th>1</th>\n",
              "      <td>536365</td>\n",
              "      <td>71053</td>\n",
              "      <td>WHITE METAL LANTERN</td>\n",
              "      <td>6</td>\n",
              "      <td>12/1/2010 8:26</td>\n",
              "      <td>3.39</td>\n",
              "      <td>17850.0</td>\n",
              "      <td>United Kingdom</td>\n",
              "      <td>2010-12-01</td>\n",
              "      <td>NaN</td>\n",
              "    </tr>\n",
              "  </tbody>\n",
              "</table>\n",
              "</div>"
            ],
            "text/plain": [
              "  invoiceno stockcode  ...    newdate  Flag\n",
              "0    536365    85123A  ... 2010-12-01   NaN\n",
              "1    536365     71053  ... 2010-12-01   NaN\n",
              "\n",
              "[2 rows x 10 columns]"
            ]
          },
          "metadata": {
            "tags": []
          },
          "execution_count": 40
        }
      ]
    },
    {
      "cell_type": "code",
      "metadata": {
        "id": "GQkKK92hXucL",
        "colab_type": "code",
        "outputId": "822ad603-d8ce-4e29-8512-3b1362119bdf",
        "colab": {
          "base_uri": "https://localhost:8080/",
          "height": 52
        }
      },
      "source": [
        "cleanecom.Flag.value_counts()"
      ],
      "execution_count": 0,
      "outputs": [
        {
          "output_type": "execute_result",
          "data": {
            "text/plain": [
              "1.0    6460\n",
              "Name: Flag, dtype: int64"
            ]
          },
          "metadata": {
            "tags": []
          },
          "execution_count": 41
        }
      ]
    },
    {
      "cell_type": "markdown",
      "metadata": {
        "id": "OxLfWdqcYHBQ",
        "colab_type": "text"
      },
      "source": [
        "     6460 records are found to be problemetic. Let's filter it further"
      ]
    },
    {
      "cell_type": "code",
      "metadata": {
        "id": "ChGG2cm1X8Ng",
        "colab_type": "code",
        "outputId": "089588f2-c6e3-4033-c4d9-7ff793a4474c",
        "colab": {
          "base_uri": "https://localhost:8080/",
          "height": 411
        }
      },
      "source": [
        "cleanecom[cleanecom.Flag==1] # Seeing the data after filtering "
      ],
      "execution_count": 0,
      "outputs": [
        {
          "output_type": "execute_result",
          "data": {
            "text/html": [
              "<div>\n",
              "<style scoped>\n",
              "    .dataframe tbody tr th:only-of-type {\n",
              "        vertical-align: middle;\n",
              "    }\n",
              "\n",
              "    .dataframe tbody tr th {\n",
              "        vertical-align: top;\n",
              "    }\n",
              "\n",
              "    .dataframe thead th {\n",
              "        text-align: right;\n",
              "    }\n",
              "</style>\n",
              "<table border=\"1\" class=\"dataframe\">\n",
              "  <thead>\n",
              "    <tr style=\"text-align: right;\">\n",
              "      <th></th>\n",
              "      <th>invoiceno</th>\n",
              "      <th>stockcode</th>\n",
              "      <th>description</th>\n",
              "      <th>quantity</th>\n",
              "      <th>invoicedate</th>\n",
              "      <th>unitprice</th>\n",
              "      <th>customerid</th>\n",
              "      <th>country</th>\n",
              "      <th>newdate</th>\n",
              "      <th>Flag</th>\n",
              "    </tr>\n",
              "  </thead>\n",
              "  <tbody>\n",
              "    <tr>\n",
              "      <th>3721</th>\n",
              "      <td>536663</td>\n",
              "      <td>22867</td>\n",
              "      <td>HAND WARMER BIRD DESIGN</td>\n",
              "      <td>24</td>\n",
              "      <td>12/2/2010 12:07</td>\n",
              "      <td>2.10</td>\n",
              "      <td>16546.0</td>\n",
              "      <td>United Kingdom</td>\n",
              "      <td>2010-12-02</td>\n",
              "      <td>1.0</td>\n",
              "    </tr>\n",
              "    <tr>\n",
              "      <th>3722</th>\n",
              "      <td>536663</td>\n",
              "      <td>22633</td>\n",
              "      <td>HAND WARMER UNION JACK</td>\n",
              "      <td>24</td>\n",
              "      <td>12/2/2010 12:07</td>\n",
              "      <td>2.10</td>\n",
              "      <td>16546.0</td>\n",
              "      <td>United Kingdom</td>\n",
              "      <td>2010-12-02</td>\n",
              "      <td>1.0</td>\n",
              "    </tr>\n",
              "    <tr>\n",
              "      <th>3723</th>\n",
              "      <td>536663</td>\n",
              "      <td>22632</td>\n",
              "      <td>HAND WARMER RED RETROSPOT</td>\n",
              "      <td>24</td>\n",
              "      <td>12/2/2010 12:07</td>\n",
              "      <td>2.10</td>\n",
              "      <td>16546.0</td>\n",
              "      <td>United Kingdom</td>\n",
              "      <td>2010-12-02</td>\n",
              "      <td>1.0</td>\n",
              "    </tr>\n",
              "    <tr>\n",
              "      <th>3724</th>\n",
              "      <td>536663</td>\n",
              "      <td>22910</td>\n",
              "      <td>PAPER CHAIN KIT VINTAGE CHRISTMAS</td>\n",
              "      <td>40</td>\n",
              "      <td>12/2/2010 12:07</td>\n",
              "      <td>2.55</td>\n",
              "      <td>16546.0</td>\n",
              "      <td>United Kingdom</td>\n",
              "      <td>2010-12-02</td>\n",
              "      <td>1.0</td>\n",
              "    </tr>\n",
              "    <tr>\n",
              "      <th>3725</th>\n",
              "      <td>536663</td>\n",
              "      <td>22737</td>\n",
              "      <td>RIBBON REEL CHRISTMAS PRESENT</td>\n",
              "      <td>20</td>\n",
              "      <td>12/2/2010 12:07</td>\n",
              "      <td>1.65</td>\n",
              "      <td>16546.0</td>\n",
              "      <td>United Kingdom</td>\n",
              "      <td>2010-12-02</td>\n",
              "      <td>1.0</td>\n",
              "    </tr>\n",
              "    <tr>\n",
              "      <th>...</th>\n",
              "      <td>...</td>\n",
              "      <td>...</td>\n",
              "      <td>...</td>\n",
              "      <td>...</td>\n",
              "      <td>...</td>\n",
              "      <td>...</td>\n",
              "      <td>...</td>\n",
              "      <td>...</td>\n",
              "      <td>...</td>\n",
              "      <td>...</td>\n",
              "    </tr>\n",
              "    <tr>\n",
              "      <th>537615</th>\n",
              "      <td>C581330</td>\n",
              "      <td>16169E</td>\n",
              "      <td>WRAP 50'S  CHRISTMAS</td>\n",
              "      <td>-100</td>\n",
              "      <td>12/8/2011 11:57</td>\n",
              "      <td>0.42</td>\n",
              "      <td>15877.0</td>\n",
              "      <td>United Kingdom</td>\n",
              "      <td>2011-12-08</td>\n",
              "      <td>1.0</td>\n",
              "    </tr>\n",
              "    <tr>\n",
              "      <th>540078</th>\n",
              "      <td>C581462</td>\n",
              "      <td>16219</td>\n",
              "      <td>HOUSE SHAPE PENCIL SHARPENER</td>\n",
              "      <td>-48</td>\n",
              "      <td>12/8/2011 18:51</td>\n",
              "      <td>0.06</td>\n",
              "      <td>12985.0</td>\n",
              "      <td>United Kingdom</td>\n",
              "      <td>2011-12-08</td>\n",
              "      <td>1.0</td>\n",
              "    </tr>\n",
              "    <tr>\n",
              "      <th>540079</th>\n",
              "      <td>C581462</td>\n",
              "      <td>21642</td>\n",
              "      <td>ASSORTED TUTTI FRUTTI PEN</td>\n",
              "      <td>-72</td>\n",
              "      <td>12/8/2011 18:51</td>\n",
              "      <td>0.29</td>\n",
              "      <td>12985.0</td>\n",
              "      <td>United Kingdom</td>\n",
              "      <td>2011-12-08</td>\n",
              "      <td>1.0</td>\n",
              "    </tr>\n",
              "    <tr>\n",
              "      <th>540421</th>\n",
              "      <td>581483</td>\n",
              "      <td>23843</td>\n",
              "      <td>PAPER CRAFT , LITTLE BIRDIE</td>\n",
              "      <td>80995</td>\n",
              "      <td>12/9/2011 9:15</td>\n",
              "      <td>2.08</td>\n",
              "      <td>16446.0</td>\n",
              "      <td>United Kingdom</td>\n",
              "      <td>2011-12-09</td>\n",
              "      <td>1.0</td>\n",
              "    </tr>\n",
              "    <tr>\n",
              "      <th>540422</th>\n",
              "      <td>C581484</td>\n",
              "      <td>23843</td>\n",
              "      <td>PAPER CRAFT , LITTLE BIRDIE</td>\n",
              "      <td>-80995</td>\n",
              "      <td>12/9/2011 9:27</td>\n",
              "      <td>2.08</td>\n",
              "      <td>16446.0</td>\n",
              "      <td>United Kingdom</td>\n",
              "      <td>2011-12-09</td>\n",
              "      <td>1.0</td>\n",
              "    </tr>\n",
              "  </tbody>\n",
              "</table>\n",
              "<p>6460 rows × 10 columns</p>\n",
              "</div>"
            ],
            "text/plain": [
              "       invoiceno stockcode  ...    newdate  Flag\n",
              "3721      536663     22867  ... 2010-12-02   1.0\n",
              "3722      536663     22633  ... 2010-12-02   1.0\n",
              "3723      536663     22632  ... 2010-12-02   1.0\n",
              "3724      536663     22910  ... 2010-12-02   1.0\n",
              "3725      536663     22737  ... 2010-12-02   1.0\n",
              "...          ...       ...  ...        ...   ...\n",
              "537615   C581330    16169E  ... 2011-12-08   1.0\n",
              "540078   C581462     16219  ... 2011-12-08   1.0\n",
              "540079   C581462     21642  ... 2011-12-08   1.0\n",
              "540421    581483     23843  ... 2011-12-09   1.0\n",
              "540422   C581484     23843  ... 2011-12-09   1.0\n",
              "\n",
              "[6460 rows x 10 columns]"
            ]
          },
          "metadata": {
            "tags": []
          },
          "execution_count": 42
        }
      ]
    },
    {
      "cell_type": "code",
      "metadata": {
        "id": "REzafi16Ytad",
        "colab_type": "code",
        "outputId": "dc163ce7-facf-44a2-c7f5-7999fdcfc058",
        "colab": {
          "base_uri": "https://localhost:8080/",
          "height": 411
        }
      },
      "source": [
        "# sorting the values in a data frame\n",
        "\n",
        "cleanecom[cleanecom.Flag==1].sort_values('customerid')"
      ],
      "execution_count": 0,
      "outputs": [
        {
          "output_type": "execute_result",
          "data": {
            "text/html": [
              "<div>\n",
              "<style scoped>\n",
              "    .dataframe tbody tr th:only-of-type {\n",
              "        vertical-align: middle;\n",
              "    }\n",
              "\n",
              "    .dataframe tbody tr th {\n",
              "        vertical-align: top;\n",
              "    }\n",
              "\n",
              "    .dataframe thead th {\n",
              "        text-align: right;\n",
              "    }\n",
              "</style>\n",
              "<table border=\"1\" class=\"dataframe\">\n",
              "  <thead>\n",
              "    <tr style=\"text-align: right;\">\n",
              "      <th></th>\n",
              "      <th>invoiceno</th>\n",
              "      <th>stockcode</th>\n",
              "      <th>description</th>\n",
              "      <th>quantity</th>\n",
              "      <th>invoicedate</th>\n",
              "      <th>unitprice</th>\n",
              "      <th>customerid</th>\n",
              "      <th>country</th>\n",
              "      <th>newdate</th>\n",
              "      <th>Flag</th>\n",
              "    </tr>\n",
              "  </thead>\n",
              "  <tbody>\n",
              "    <tr>\n",
              "      <th>61619</th>\n",
              "      <td>541431</td>\n",
              "      <td>23166</td>\n",
              "      <td>MEDIUM CERAMIC TOP STORAGE JAR</td>\n",
              "      <td>74215</td>\n",
              "      <td>1/18/2011 10:01</td>\n",
              "      <td>1.04</td>\n",
              "      <td>12346.0</td>\n",
              "      <td>United Kingdom</td>\n",
              "      <td>2011-01-18</td>\n",
              "      <td>1.0</td>\n",
              "    </tr>\n",
              "    <tr>\n",
              "      <th>61624</th>\n",
              "      <td>C541433</td>\n",
              "      <td>23166</td>\n",
              "      <td>MEDIUM CERAMIC TOP STORAGE JAR</td>\n",
              "      <td>-74215</td>\n",
              "      <td>1/18/2011 10:17</td>\n",
              "      <td>1.04</td>\n",
              "      <td>12346.0</td>\n",
              "      <td>United Kingdom</td>\n",
              "      <td>2011-01-18</td>\n",
              "      <td>1.0</td>\n",
              "    </tr>\n",
              "    <tr>\n",
              "      <th>270066</th>\n",
              "      <td>C560540</td>\n",
              "      <td>23243</td>\n",
              "      <td>SET OF TEA COFFEE SUGAR TINS PANTRY</td>\n",
              "      <td>-1</td>\n",
              "      <td>7/19/2011 12:26</td>\n",
              "      <td>4.95</td>\n",
              "      <td>12415.0</td>\n",
              "      <td>Australia</td>\n",
              "      <td>2011-07-19</td>\n",
              "      <td>1.0</td>\n",
              "    </tr>\n",
              "    <tr>\n",
              "      <th>270056</th>\n",
              "      <td>C560540</td>\n",
              "      <td>23296</td>\n",
              "      <td>SET OF 6 TEA TIME BAKING CASES</td>\n",
              "      <td>-2</td>\n",
              "      <td>7/19/2011 12:26</td>\n",
              "      <td>1.25</td>\n",
              "      <td>12415.0</td>\n",
              "      <td>Australia</td>\n",
              "      <td>2011-07-19</td>\n",
              "      <td>1.0</td>\n",
              "    </tr>\n",
              "    <tr>\n",
              "      <th>270055</th>\n",
              "      <td>C560540</td>\n",
              "      <td>23297</td>\n",
              "      <td>SET 40 HEART SHAPE PETIT FOUR CASES</td>\n",
              "      <td>-2</td>\n",
              "      <td>7/19/2011 12:26</td>\n",
              "      <td>1.65</td>\n",
              "      <td>12415.0</td>\n",
              "      <td>Australia</td>\n",
              "      <td>2011-07-19</td>\n",
              "      <td>1.0</td>\n",
              "    </tr>\n",
              "    <tr>\n",
              "      <th>...</th>\n",
              "      <td>...</td>\n",
              "      <td>...</td>\n",
              "      <td>...</td>\n",
              "      <td>...</td>\n",
              "      <td>...</td>\n",
              "      <td>...</td>\n",
              "      <td>...</td>\n",
              "      <td>...</td>\n",
              "      <td>...</td>\n",
              "      <td>...</td>\n",
              "    </tr>\n",
              "    <tr>\n",
              "      <th>492203</th>\n",
              "      <td>C578097</td>\n",
              "      <td>23358</td>\n",
              "      <td>HOT STUFF HOT WATER BOTTLE</td>\n",
              "      <td>-36</td>\n",
              "      <td>11/22/2011 17:31</td>\n",
              "      <td>3.29</td>\n",
              "      <td>NaN</td>\n",
              "      <td>United Kingdom</td>\n",
              "      <td>2011-11-22</td>\n",
              "      <td>1.0</td>\n",
              "    </tr>\n",
              "    <tr>\n",
              "      <th>492204</th>\n",
              "      <td>C578097</td>\n",
              "      <td>23355</td>\n",
              "      <td>HOT WATER BOTTLE KEEP CALM</td>\n",
              "      <td>-48</td>\n",
              "      <td>11/22/2011 17:31</td>\n",
              "      <td>4.15</td>\n",
              "      <td>NaN</td>\n",
              "      <td>United Kingdom</td>\n",
              "      <td>2011-11-22</td>\n",
              "      <td>1.0</td>\n",
              "    </tr>\n",
              "    <tr>\n",
              "      <th>492205</th>\n",
              "      <td>C578097</td>\n",
              "      <td>22835</td>\n",
              "      <td>HOT WATER BOTTLE I AM SO POORLY</td>\n",
              "      <td>-48</td>\n",
              "      <td>11/22/2011 17:31</td>\n",
              "      <td>4.25</td>\n",
              "      <td>NaN</td>\n",
              "      <td>United Kingdom</td>\n",
              "      <td>2011-11-22</td>\n",
              "      <td>1.0</td>\n",
              "    </tr>\n",
              "    <tr>\n",
              "      <th>492206</th>\n",
              "      <td>C578097</td>\n",
              "      <td>22114</td>\n",
              "      <td>HOT WATER BOTTLE TEA AND SYMPATHY</td>\n",
              "      <td>-48</td>\n",
              "      <td>11/22/2011 17:31</td>\n",
              "      <td>3.75</td>\n",
              "      <td>NaN</td>\n",
              "      <td>United Kingdom</td>\n",
              "      <td>2011-11-22</td>\n",
              "      <td>1.0</td>\n",
              "    </tr>\n",
              "    <tr>\n",
              "      <th>492207</th>\n",
              "      <td>C578097</td>\n",
              "      <td>22112</td>\n",
              "      <td>CHOCOLATE HOT WATER BOTTLE</td>\n",
              "      <td>-48</td>\n",
              "      <td>11/22/2011 17:31</td>\n",
              "      <td>4.25</td>\n",
              "      <td>NaN</td>\n",
              "      <td>United Kingdom</td>\n",
              "      <td>2011-11-22</td>\n",
              "      <td>1.0</td>\n",
              "    </tr>\n",
              "  </tbody>\n",
              "</table>\n",
              "<p>6460 rows × 10 columns</p>\n",
              "</div>"
            ],
            "text/plain": [
              "       invoiceno stockcode  ...    newdate  Flag\n",
              "61619     541431     23166  ... 2011-01-18   1.0\n",
              "61624    C541433     23166  ... 2011-01-18   1.0\n",
              "270066   C560540     23243  ... 2011-07-19   1.0\n",
              "270056   C560540     23296  ... 2011-07-19   1.0\n",
              "270055   C560540     23297  ... 2011-07-19   1.0\n",
              "...          ...       ...  ...        ...   ...\n",
              "492203   C578097     23358  ... 2011-11-22   1.0\n",
              "492204   C578097     23355  ... 2011-11-22   1.0\n",
              "492205   C578097     22835  ... 2011-11-22   1.0\n",
              "492206   C578097     22114  ... 2011-11-22   1.0\n",
              "492207   C578097     22112  ... 2011-11-22   1.0\n",
              "\n",
              "[6460 rows x 10 columns]"
            ]
          },
          "metadata": {
            "tags": []
          },
          "execution_count": 44
        }
      ]
    },
    {
      "cell_type": "markdown",
      "metadata": {
        "id": "7sGnunLKZK6x",
        "colab_type": "text"
      },
      "source": [
        "#### Lousy job done. looks like filter on negative condition is not properly done"
      ]
    },
    {
      "cell_type": "code",
      "metadata": {
        "id": "8Tt8SPgqY6pi",
        "colab_type": "code",
        "colab": {}
      },
      "source": [
        "#Lets apply a quantity flag as well\n",
        "cleanecom['qtyflag']= ((cleanecom.quantity>30) & (cleanecom.quantity<-30))*1"
      ],
      "execution_count": 0,
      "outputs": []
    },
    {
      "cell_type": "code",
      "metadata": {
        "id": "FQwOJeN5Z6be",
        "colab_type": "code",
        "colab": {}
      },
      "source": [
        "cleanecom['finalflag']= cleanecom.Flag*1+cleanecom.qtyflag"
      ],
      "execution_count": 0,
      "outputs": []
    },
    {
      "cell_type": "code",
      "metadata": {
        "id": "R_XY8XkaZ4aK",
        "colab_type": "code",
        "outputId": "846cc1ab-9914-4516-df71-18956d9e038e",
        "colab": {
          "base_uri": "https://localhost:8080/",
          "height": 197
        }
      },
      "source": [
        "cleanecom.head()"
      ],
      "execution_count": 0,
      "outputs": [
        {
          "output_type": "execute_result",
          "data": {
            "text/html": [
              "<div>\n",
              "<style scoped>\n",
              "    .dataframe tbody tr th:only-of-type {\n",
              "        vertical-align: middle;\n",
              "    }\n",
              "\n",
              "    .dataframe tbody tr th {\n",
              "        vertical-align: top;\n",
              "    }\n",
              "\n",
              "    .dataframe thead th {\n",
              "        text-align: right;\n",
              "    }\n",
              "</style>\n",
              "<table border=\"1\" class=\"dataframe\">\n",
              "  <thead>\n",
              "    <tr style=\"text-align: right;\">\n",
              "      <th></th>\n",
              "      <th>invoiceno</th>\n",
              "      <th>stockcode</th>\n",
              "      <th>description</th>\n",
              "      <th>quantity</th>\n",
              "      <th>invoicedate</th>\n",
              "      <th>unitprice</th>\n",
              "      <th>customerid</th>\n",
              "      <th>country</th>\n",
              "      <th>newdate</th>\n",
              "      <th>Flag</th>\n",
              "      <th>qtyflag</th>\n",
              "      <th>finalflag</th>\n",
              "    </tr>\n",
              "  </thead>\n",
              "  <tbody>\n",
              "    <tr>\n",
              "      <th>0</th>\n",
              "      <td>536365</td>\n",
              "      <td>85123A</td>\n",
              "      <td>WHITE HANGING HEART T-LIGHT HOLDER</td>\n",
              "      <td>6</td>\n",
              "      <td>12/1/2010 8:26</td>\n",
              "      <td>2.55</td>\n",
              "      <td>17850.0</td>\n",
              "      <td>United Kingdom</td>\n",
              "      <td>2010-12-01</td>\n",
              "      <td>NaN</td>\n",
              "      <td>0</td>\n",
              "      <td>NaN</td>\n",
              "    </tr>\n",
              "    <tr>\n",
              "      <th>1</th>\n",
              "      <td>536365</td>\n",
              "      <td>71053</td>\n",
              "      <td>WHITE METAL LANTERN</td>\n",
              "      <td>6</td>\n",
              "      <td>12/1/2010 8:26</td>\n",
              "      <td>3.39</td>\n",
              "      <td>17850.0</td>\n",
              "      <td>United Kingdom</td>\n",
              "      <td>2010-12-01</td>\n",
              "      <td>NaN</td>\n",
              "      <td>0</td>\n",
              "      <td>NaN</td>\n",
              "    </tr>\n",
              "    <tr>\n",
              "      <th>2</th>\n",
              "      <td>536365</td>\n",
              "      <td>84406B</td>\n",
              "      <td>CREAM CUPID HEARTS COAT HANGER</td>\n",
              "      <td>8</td>\n",
              "      <td>12/1/2010 8:26</td>\n",
              "      <td>2.75</td>\n",
              "      <td>17850.0</td>\n",
              "      <td>United Kingdom</td>\n",
              "      <td>2010-12-01</td>\n",
              "      <td>NaN</td>\n",
              "      <td>0</td>\n",
              "      <td>NaN</td>\n",
              "    </tr>\n",
              "    <tr>\n",
              "      <th>3</th>\n",
              "      <td>536365</td>\n",
              "      <td>84029G</td>\n",
              "      <td>KNITTED UNION FLAG HOT WATER BOTTLE</td>\n",
              "      <td>6</td>\n",
              "      <td>12/1/2010 8:26</td>\n",
              "      <td>3.39</td>\n",
              "      <td>17850.0</td>\n",
              "      <td>United Kingdom</td>\n",
              "      <td>2010-12-01</td>\n",
              "      <td>NaN</td>\n",
              "      <td>0</td>\n",
              "      <td>NaN</td>\n",
              "    </tr>\n",
              "    <tr>\n",
              "      <th>4</th>\n",
              "      <td>536365</td>\n",
              "      <td>84029E</td>\n",
              "      <td>RED WOOLLY HOTTIE WHITE HEART.</td>\n",
              "      <td>6</td>\n",
              "      <td>12/1/2010 8:26</td>\n",
              "      <td>3.39</td>\n",
              "      <td>17850.0</td>\n",
              "      <td>United Kingdom</td>\n",
              "      <td>2010-12-01</td>\n",
              "      <td>NaN</td>\n",
              "      <td>0</td>\n",
              "      <td>NaN</td>\n",
              "    </tr>\n",
              "  </tbody>\n",
              "</table>\n",
              "</div>"
            ],
            "text/plain": [
              "  invoiceno stockcode  ... qtyflag  finalflag\n",
              "0    536365    85123A  ...       0        NaN\n",
              "1    536365     71053  ...       0        NaN\n",
              "2    536365    84406B  ...       0        NaN\n",
              "3    536365    84029G  ...       0        NaN\n",
              "4    536365    84029E  ...       0        NaN\n",
              "\n",
              "[5 rows x 12 columns]"
            ]
          },
          "metadata": {
            "tags": []
          },
          "execution_count": 27
        }
      ]
    },
    {
      "cell_type": "code",
      "metadata": {
        "id": "btIk7kI2ahsh",
        "colab_type": "code",
        "outputId": "d2812080-4439-4804-b4f4-a250b54f5e99",
        "colab": {
          "base_uri": "https://localhost:8080/",
          "height": 52
        }
      },
      "source": [
        "cleanecom.finalflag.value_counts()"
      ],
      "execution_count": 0,
      "outputs": [
        {
          "output_type": "execute_result",
          "data": {
            "text/plain": [
              "1.0    6460\n",
              "Name: finalflag, dtype: int64"
            ]
          },
          "metadata": {
            "tags": []
          },
          "execution_count": 56
        }
      ]
    },
    {
      "cell_type": "code",
      "metadata": {
        "id": "O5-lquelaz1q",
        "colab_type": "code",
        "colab": {}
      },
      "source": [
        "cleanecom.Flag.fillna(0,inplace=True)"
      ],
      "execution_count": 0,
      "outputs": []
    },
    {
      "cell_type": "code",
      "metadata": {
        "id": "OYdrqL_WdO2X",
        "colab_type": "code",
        "outputId": "7afc91ac-1b86-4725-b9c8-a7b3ddde6c0a",
        "colab": {
          "base_uri": "https://localhost:8080/",
          "height": 200
        }
      },
      "source": [
        "cleanecom.head()"
      ],
      "execution_count": 0,
      "outputs": [
        {
          "output_type": "execute_result",
          "data": {
            "text/html": [
              "<div>\n",
              "<style scoped>\n",
              "    .dataframe tbody tr th:only-of-type {\n",
              "        vertical-align: middle;\n",
              "    }\n",
              "\n",
              "    .dataframe tbody tr th {\n",
              "        vertical-align: top;\n",
              "    }\n",
              "\n",
              "    .dataframe thead th {\n",
              "        text-align: right;\n",
              "    }\n",
              "</style>\n",
              "<table border=\"1\" class=\"dataframe\">\n",
              "  <thead>\n",
              "    <tr style=\"text-align: right;\">\n",
              "      <th></th>\n",
              "      <th>invoiceno</th>\n",
              "      <th>stockcode</th>\n",
              "      <th>description</th>\n",
              "      <th>quantity</th>\n",
              "      <th>invoicedate</th>\n",
              "      <th>unitprice</th>\n",
              "      <th>customerid</th>\n",
              "      <th>country</th>\n",
              "      <th>newdate</th>\n",
              "      <th>Flag</th>\n",
              "      <th>qtyflag</th>\n",
              "      <th>finalflag</th>\n",
              "    </tr>\n",
              "  </thead>\n",
              "  <tbody>\n",
              "    <tr>\n",
              "      <th>0</th>\n",
              "      <td>536365</td>\n",
              "      <td>85123A</td>\n",
              "      <td>WHITE HANGING HEART T-LIGHT HOLDER</td>\n",
              "      <td>6</td>\n",
              "      <td>12/1/2010 8:26</td>\n",
              "      <td>2.55</td>\n",
              "      <td>17850.0</td>\n",
              "      <td>United Kingdom</td>\n",
              "      <td>2010-12-01</td>\n",
              "      <td>0.0</td>\n",
              "      <td>0</td>\n",
              "      <td>NaN</td>\n",
              "    </tr>\n",
              "    <tr>\n",
              "      <th>1</th>\n",
              "      <td>536365</td>\n",
              "      <td>71053</td>\n",
              "      <td>WHITE METAL LANTERN</td>\n",
              "      <td>6</td>\n",
              "      <td>12/1/2010 8:26</td>\n",
              "      <td>3.39</td>\n",
              "      <td>17850.0</td>\n",
              "      <td>United Kingdom</td>\n",
              "      <td>2010-12-01</td>\n",
              "      <td>0.0</td>\n",
              "      <td>0</td>\n",
              "      <td>NaN</td>\n",
              "    </tr>\n",
              "    <tr>\n",
              "      <th>2</th>\n",
              "      <td>536365</td>\n",
              "      <td>84406B</td>\n",
              "      <td>CREAM CUPID HEARTS COAT HANGER</td>\n",
              "      <td>8</td>\n",
              "      <td>12/1/2010 8:26</td>\n",
              "      <td>2.75</td>\n",
              "      <td>17850.0</td>\n",
              "      <td>United Kingdom</td>\n",
              "      <td>2010-12-01</td>\n",
              "      <td>0.0</td>\n",
              "      <td>0</td>\n",
              "      <td>NaN</td>\n",
              "    </tr>\n",
              "    <tr>\n",
              "      <th>3</th>\n",
              "      <td>536365</td>\n",
              "      <td>84029G</td>\n",
              "      <td>KNITTED UNION FLAG HOT WATER BOTTLE</td>\n",
              "      <td>6</td>\n",
              "      <td>12/1/2010 8:26</td>\n",
              "      <td>3.39</td>\n",
              "      <td>17850.0</td>\n",
              "      <td>United Kingdom</td>\n",
              "      <td>2010-12-01</td>\n",
              "      <td>0.0</td>\n",
              "      <td>0</td>\n",
              "      <td>NaN</td>\n",
              "    </tr>\n",
              "    <tr>\n",
              "      <th>4</th>\n",
              "      <td>536365</td>\n",
              "      <td>84029E</td>\n",
              "      <td>RED WOOLLY HOTTIE WHITE HEART.</td>\n",
              "      <td>6</td>\n",
              "      <td>12/1/2010 8:26</td>\n",
              "      <td>3.39</td>\n",
              "      <td>17850.0</td>\n",
              "      <td>United Kingdom</td>\n",
              "      <td>2010-12-01</td>\n",
              "      <td>0.0</td>\n",
              "      <td>0</td>\n",
              "      <td>NaN</td>\n",
              "    </tr>\n",
              "  </tbody>\n",
              "</table>\n",
              "</div>"
            ],
            "text/plain": [
              "  invoiceno stockcode  ... qtyflag  finalflag\n",
              "0    536365    85123A  ...       0        NaN\n",
              "1    536365     71053  ...       0        NaN\n",
              "2    536365    84406B  ...       0        NaN\n",
              "3    536365    84029G  ...       0        NaN\n",
              "4    536365    84029E  ...       0        NaN\n",
              "\n",
              "[5 rows x 12 columns]"
            ]
          },
          "metadata": {
            "tags": []
          },
          "execution_count": 58
        }
      ]
    },
    {
      "cell_type": "code",
      "metadata": {
        "id": "qxKZKExrdQ6S",
        "colab_type": "code",
        "colab": {}
      },
      "source": [
        "cleanecom['finalflag']= cleanecom.Flag + cleanecom.qtyflag"
      ],
      "execution_count": 0,
      "outputs": []
    },
    {
      "cell_type": "code",
      "metadata": {
        "id": "vAtZmyKJdYfx",
        "colab_type": "code",
        "outputId": "053036f7-4cad-4c43-cb15-7d8aeef20c3b",
        "colab": {
          "base_uri": "https://localhost:8080/",
          "height": 200
        }
      },
      "source": [
        "cleanecom.head()"
      ],
      "execution_count": 0,
      "outputs": [
        {
          "output_type": "execute_result",
          "data": {
            "text/html": [
              "<div>\n",
              "<style scoped>\n",
              "    .dataframe tbody tr th:only-of-type {\n",
              "        vertical-align: middle;\n",
              "    }\n",
              "\n",
              "    .dataframe tbody tr th {\n",
              "        vertical-align: top;\n",
              "    }\n",
              "\n",
              "    .dataframe thead th {\n",
              "        text-align: right;\n",
              "    }\n",
              "</style>\n",
              "<table border=\"1\" class=\"dataframe\">\n",
              "  <thead>\n",
              "    <tr style=\"text-align: right;\">\n",
              "      <th></th>\n",
              "      <th>invoiceno</th>\n",
              "      <th>stockcode</th>\n",
              "      <th>description</th>\n",
              "      <th>quantity</th>\n",
              "      <th>invoicedate</th>\n",
              "      <th>unitprice</th>\n",
              "      <th>customerid</th>\n",
              "      <th>country</th>\n",
              "      <th>newdate</th>\n",
              "      <th>Flag</th>\n",
              "      <th>qtyflag</th>\n",
              "      <th>finalflag</th>\n",
              "    </tr>\n",
              "  </thead>\n",
              "  <tbody>\n",
              "    <tr>\n",
              "      <th>0</th>\n",
              "      <td>536365</td>\n",
              "      <td>85123A</td>\n",
              "      <td>WHITE HANGING HEART T-LIGHT HOLDER</td>\n",
              "      <td>6</td>\n",
              "      <td>12/1/2010 8:26</td>\n",
              "      <td>2.55</td>\n",
              "      <td>17850.0</td>\n",
              "      <td>United Kingdom</td>\n",
              "      <td>2010-12-01</td>\n",
              "      <td>0.0</td>\n",
              "      <td>0</td>\n",
              "      <td>0.0</td>\n",
              "    </tr>\n",
              "    <tr>\n",
              "      <th>1</th>\n",
              "      <td>536365</td>\n",
              "      <td>71053</td>\n",
              "      <td>WHITE METAL LANTERN</td>\n",
              "      <td>6</td>\n",
              "      <td>12/1/2010 8:26</td>\n",
              "      <td>3.39</td>\n",
              "      <td>17850.0</td>\n",
              "      <td>United Kingdom</td>\n",
              "      <td>2010-12-01</td>\n",
              "      <td>0.0</td>\n",
              "      <td>0</td>\n",
              "      <td>0.0</td>\n",
              "    </tr>\n",
              "    <tr>\n",
              "      <th>2</th>\n",
              "      <td>536365</td>\n",
              "      <td>84406B</td>\n",
              "      <td>CREAM CUPID HEARTS COAT HANGER</td>\n",
              "      <td>8</td>\n",
              "      <td>12/1/2010 8:26</td>\n",
              "      <td>2.75</td>\n",
              "      <td>17850.0</td>\n",
              "      <td>United Kingdom</td>\n",
              "      <td>2010-12-01</td>\n",
              "      <td>0.0</td>\n",
              "      <td>0</td>\n",
              "      <td>0.0</td>\n",
              "    </tr>\n",
              "    <tr>\n",
              "      <th>3</th>\n",
              "      <td>536365</td>\n",
              "      <td>84029G</td>\n",
              "      <td>KNITTED UNION FLAG HOT WATER BOTTLE</td>\n",
              "      <td>6</td>\n",
              "      <td>12/1/2010 8:26</td>\n",
              "      <td>3.39</td>\n",
              "      <td>17850.0</td>\n",
              "      <td>United Kingdom</td>\n",
              "      <td>2010-12-01</td>\n",
              "      <td>0.0</td>\n",
              "      <td>0</td>\n",
              "      <td>0.0</td>\n",
              "    </tr>\n",
              "    <tr>\n",
              "      <th>4</th>\n",
              "      <td>536365</td>\n",
              "      <td>84029E</td>\n",
              "      <td>RED WOOLLY HOTTIE WHITE HEART.</td>\n",
              "      <td>6</td>\n",
              "      <td>12/1/2010 8:26</td>\n",
              "      <td>3.39</td>\n",
              "      <td>17850.0</td>\n",
              "      <td>United Kingdom</td>\n",
              "      <td>2010-12-01</td>\n",
              "      <td>0.0</td>\n",
              "      <td>0</td>\n",
              "      <td>0.0</td>\n",
              "    </tr>\n",
              "  </tbody>\n",
              "</table>\n",
              "</div>"
            ],
            "text/plain": [
              "  invoiceno stockcode  ... qtyflag  finalflag\n",
              "0    536365    85123A  ...       0        0.0\n",
              "1    536365     71053  ...       0        0.0\n",
              "2    536365    84406B  ...       0        0.0\n",
              "3    536365    84029G  ...       0        0.0\n",
              "4    536365    84029E  ...       0        0.0\n",
              "\n",
              "[5 rows x 12 columns]"
            ]
          },
          "metadata": {
            "tags": []
          },
          "execution_count": 60
        }
      ]
    },
    {
      "cell_type": "code",
      "metadata": {
        "id": "kIWvFJM5dg4F",
        "colab_type": "code",
        "outputId": "b7cc24a9-7a1c-4317-dea1-2c2b24745fe3",
        "colab": {
          "base_uri": "https://localhost:8080/",
          "height": 70
        }
      },
      "source": [
        "cleanecom.finalflag.value_counts()"
      ],
      "execution_count": 0,
      "outputs": [
        {
          "output_type": "execute_result",
          "data": {
            "text/plain": [
              "0.0    535449\n",
              "1.0      6460\n",
              "Name: finalflag, dtype: int64"
            ]
          },
          "metadata": {
            "tags": []
          },
          "execution_count": 61
        }
      ]
    },
    {
      "cell_type": "code",
      "metadata": {
        "id": "2H9B_a6edkl3",
        "colab_type": "code",
        "outputId": "60835a99-a1eb-4315-b10b-6ba7f4d0f8c5",
        "colab": {
          "base_uri": "https://localhost:8080/",
          "height": 52
        }
      },
      "source": [
        "cleanecom.qtyflag.value_counts()# this flag did not work"
      ],
      "execution_count": 0,
      "outputs": [
        {
          "output_type": "execute_result",
          "data": {
            "text/plain": [
              "0    541909\n",
              "Name: qtyflag, dtype: int64"
            ]
          },
          "metadata": {
            "tags": []
          },
          "execution_count": 62
        }
      ]
    },
    {
      "cell_type": "code",
      "metadata": {
        "id": "Zqs0s0FTdtbq",
        "colab_type": "code",
        "colab": {}
      },
      "source": [
        "# We need to take different wway to encode the values looks like. Hence applying further condition on the data frame\n",
        "cleanecom['qtyflag']= cleanecom.quantity.apply(lambda X : 0 if ((X < 200) & (X >-200)) else 1 ) "
      ],
      "execution_count": 0,
      "outputs": []
    },
    {
      "cell_type": "code",
      "metadata": {
        "id": "9N4Py2sFeHRd",
        "colab_type": "code",
        "outputId": "1f37a341-ab8a-4167-c4c6-1163f72fd2bf",
        "colab": {
          "base_uri": "https://localhost:8080/",
          "height": 69
        }
      },
      "source": [
        "#Let's see if it has worked\n",
        "\n",
        "cleanecom.qtyflag.value_counts()"
      ],
      "execution_count": 0,
      "outputs": [
        {
          "output_type": "execute_result",
          "data": {
            "text/plain": [
              "0    539417\n",
              "1      2492\n",
              "Name: qtyflag, dtype: int64"
            ]
          },
          "metadata": {
            "tags": []
          },
          "execution_count": 31
        }
      ]
    },
    {
      "cell_type": "code",
      "metadata": {
        "id": "kym0lMn1eYG4",
        "colab_type": "code",
        "colab": {}
      },
      "source": [
        "# now let's make the fina flag once again with imapct of both being 1 \n",
        "cleanecom['finalflag']= cleanecom.Flag+cleanecom.qtyflag\n"
      ],
      "execution_count": 0,
      "outputs": []
    },
    {
      "cell_type": "code",
      "metadata": {
        "id": "ALIp427WecfY",
        "colab_type": "code",
        "outputId": "e1d6c761-f35d-4974-d5df-aaab34db8dba",
        "colab": {
          "base_uri": "https://localhost:8080/",
          "height": 87
        }
      },
      "source": [
        "cleanecom.finalflag.value_counts()"
      ],
      "execution_count": 0,
      "outputs": [
        {
          "output_type": "execute_result",
          "data": {
            "text/plain": [
              "0.0    533150\n",
              "1.0      8566\n",
              "2.0       193\n",
              "Name: finalflag, dtype: int64"
            ]
          },
          "metadata": {
            "tags": []
          },
          "execution_count": 33
        }
      ]
    },
    {
      "cell_type": "markdown",
      "metadata": {
        "id": "LwHMebeZfPZ_",
        "colab_type": "text"
      },
      "source": [
        "### So this means 193 cases such values are there where customer has cancelled the transaction and hence should be removed from dataset for any further analysis"
      ]
    },
    {
      "cell_type": "code",
      "metadata": {
        "id": "fCrcSshxfMI5",
        "colab_type": "code",
        "outputId": "4b42beaf-1d91-4725-c46a-6e2b4c0c6002",
        "colab": {
          "base_uri": "https://localhost:8080/",
          "height": 197
        }
      },
      "source": [
        "# Let's see once the 193 cases before deleting the same\n",
        "\n",
        "cleanecom[cleanecom.finalflag==2].head().sort_values('customerid')"
      ],
      "execution_count": 0,
      "outputs": [
        {
          "output_type": "execute_result",
          "data": {
            "text/html": [
              "<div>\n",
              "<style scoped>\n",
              "    .dataframe tbody tr th:only-of-type {\n",
              "        vertical-align: middle;\n",
              "    }\n",
              "\n",
              "    .dataframe tbody tr th {\n",
              "        vertical-align: top;\n",
              "    }\n",
              "\n",
              "    .dataframe thead th {\n",
              "        text-align: right;\n",
              "    }\n",
              "</style>\n",
              "<table border=\"1\" class=\"dataframe\">\n",
              "  <thead>\n",
              "    <tr style=\"text-align: right;\">\n",
              "      <th></th>\n",
              "      <th>invoiceno</th>\n",
              "      <th>stockcode</th>\n",
              "      <th>description</th>\n",
              "      <th>quantity</th>\n",
              "      <th>invoicedate</th>\n",
              "      <th>unitprice</th>\n",
              "      <th>customerid</th>\n",
              "      <th>country</th>\n",
              "      <th>newdate</th>\n",
              "      <th>Flag</th>\n",
              "      <th>qtyflag</th>\n",
              "      <th>finalflag</th>\n",
              "    </tr>\n",
              "  </thead>\n",
              "  <tbody>\n",
              "    <tr>\n",
              "      <th>4287</th>\n",
              "      <td>C536757</td>\n",
              "      <td>84347</td>\n",
              "      <td>ROTATING SILVER ANGELS T-LIGHT HLDR</td>\n",
              "      <td>-9360</td>\n",
              "      <td>12/2/2010 14:23</td>\n",
              "      <td>0.03</td>\n",
              "      <td>15838.0</td>\n",
              "      <td>United Kingdom</td>\n",
              "      <td>2010-12-02</td>\n",
              "      <td>1.0</td>\n",
              "      <td>1</td>\n",
              "      <td>2.0</td>\n",
              "    </tr>\n",
              "    <tr>\n",
              "      <th>34291</th>\n",
              "      <td>C539329</td>\n",
              "      <td>20733</td>\n",
              "      <td>GOLD MINI TAPE MEASURE</td>\n",
              "      <td>-300</td>\n",
              "      <td>12/17/2010 9:37</td>\n",
              "      <td>0.72</td>\n",
              "      <td>16013.0</td>\n",
              "      <td>United Kingdom</td>\n",
              "      <td>2010-12-17</td>\n",
              "      <td>1.0</td>\n",
              "      <td>1</td>\n",
              "      <td>2.0</td>\n",
              "    </tr>\n",
              "    <tr>\n",
              "      <th>34292</th>\n",
              "      <td>C539329</td>\n",
              "      <td>85123A</td>\n",
              "      <td>WHITE HANGING HEART T-LIGHT HOLDER</td>\n",
              "      <td>-500</td>\n",
              "      <td>12/17/2010 9:37</td>\n",
              "      <td>2.55</td>\n",
              "      <td>16013.0</td>\n",
              "      <td>United Kingdom</td>\n",
              "      <td>2010-12-17</td>\n",
              "      <td>1.0</td>\n",
              "      <td>1</td>\n",
              "      <td>2.0</td>\n",
              "    </tr>\n",
              "    <tr>\n",
              "      <th>30078</th>\n",
              "      <td>C538847</td>\n",
              "      <td>85232B</td>\n",
              "      <td>SET OF 3 BABUSHKA STACKING TINS</td>\n",
              "      <td>-240</td>\n",
              "      <td>12/14/2010 13:27</td>\n",
              "      <td>4.95</td>\n",
              "      <td>17404.0</td>\n",
              "      <td>Europe</td>\n",
              "      <td>2010-12-14</td>\n",
              "      <td>1.0</td>\n",
              "      <td>1</td>\n",
              "      <td>2.0</td>\n",
              "    </tr>\n",
              "    <tr>\n",
              "      <th>30079</th>\n",
              "      <td>538848</td>\n",
              "      <td>85232B</td>\n",
              "      <td>SET OF 3 BABUSHKA STACKING TINS</td>\n",
              "      <td>240</td>\n",
              "      <td>12/14/2010 13:28</td>\n",
              "      <td>4.95</td>\n",
              "      <td>17404.0</td>\n",
              "      <td>Europe</td>\n",
              "      <td>2010-12-14</td>\n",
              "      <td>1.0</td>\n",
              "      <td>1</td>\n",
              "      <td>2.0</td>\n",
              "    </tr>\n",
              "  </tbody>\n",
              "</table>\n",
              "</div>"
            ],
            "text/plain": [
              "      invoiceno stockcode  ... qtyflag  finalflag\n",
              "4287    C536757     84347  ...       1        2.0\n",
              "34291   C539329     20733  ...       1        2.0\n",
              "34292   C539329    85123A  ...       1        2.0\n",
              "30078   C538847    85232B  ...       1        2.0\n",
              "30079    538848    85232B  ...       1        2.0\n",
              "\n",
              "[5 rows x 12 columns]"
            ]
          },
          "metadata": {
            "tags": []
          },
          "execution_count": 34
        }
      ]
    },
    {
      "cell_type": "code",
      "metadata": {
        "id": "hGkl78LFfy0B",
        "colab_type": "code",
        "outputId": "5144f10d-76af-4d4a-bd92-b85e0f80af7a",
        "colab": {
          "base_uri": "https://localhost:8080/",
          "height": 96
        }
      },
      "source": [
        "cleanecom[(cleanecom.finalflag==2) & (cleanecom.customerid==15838.0)]"
      ],
      "execution_count": 0,
      "outputs": [
        {
          "output_type": "execute_result",
          "data": {
            "text/html": [
              "<div>\n",
              "<style scoped>\n",
              "    .dataframe tbody tr th:only-of-type {\n",
              "        vertical-align: middle;\n",
              "    }\n",
              "\n",
              "    .dataframe tbody tr th {\n",
              "        vertical-align: top;\n",
              "    }\n",
              "\n",
              "    .dataframe thead th {\n",
              "        text-align: right;\n",
              "    }\n",
              "</style>\n",
              "<table border=\"1\" class=\"dataframe\">\n",
              "  <thead>\n",
              "    <tr style=\"text-align: right;\">\n",
              "      <th></th>\n",
              "      <th>invoiceno</th>\n",
              "      <th>stockcode</th>\n",
              "      <th>description</th>\n",
              "      <th>quantity</th>\n",
              "      <th>invoicedate</th>\n",
              "      <th>unitprice</th>\n",
              "      <th>customerid</th>\n",
              "      <th>country</th>\n",
              "      <th>newdate</th>\n",
              "      <th>Flag</th>\n",
              "      <th>qtyflag</th>\n",
              "      <th>finalflag</th>\n",
              "    </tr>\n",
              "  </thead>\n",
              "  <tbody>\n",
              "    <tr>\n",
              "      <th>4287</th>\n",
              "      <td>C536757</td>\n",
              "      <td>84347</td>\n",
              "      <td>ROTATING SILVER ANGELS T-LIGHT HLDR</td>\n",
              "      <td>-9360</td>\n",
              "      <td>12/2/2010 14:23</td>\n",
              "      <td>0.03</td>\n",
              "      <td>15838.0</td>\n",
              "      <td>United Kingdom</td>\n",
              "      <td>2010-12-02</td>\n",
              "      <td>1.0</td>\n",
              "      <td>1</td>\n",
              "      <td>2.0</td>\n",
              "    </tr>\n",
              "  </tbody>\n",
              "</table>\n",
              "</div>"
            ],
            "text/plain": [
              "     invoiceno stockcode  ... qtyflag  finalflag\n",
              "4287   C536757     84347  ...       1        2.0\n",
              "\n",
              "[1 rows x 12 columns]"
            ]
          },
          "metadata": {
            "tags": []
          },
          "execution_count": 71
        },
        {
          "output_type": "stream",
          "text": [
            "ERROR! Session/line number was not unique in database. History logging moved to new session 60\n"
          ],
          "name": "stdout"
        }
      ]
    },
    {
      "cell_type": "code",
      "metadata": {
        "id": "2Vp6wGdVgpww",
        "colab_type": "code",
        "outputId": "519f4f0a-e533-4a8d-94e1-70cd2631d517",
        "colab": {
          "base_uri": "https://localhost:8080/",
          "height": 78
        }
      },
      "source": [
        "cleanecom[(cleanecom.customerid==15838.0) & (cleanecom.stockcode==\"84347\")]"
      ],
      "execution_count": 0,
      "outputs": [
        {
          "output_type": "execute_result",
          "data": {
            "text/html": [
              "<div>\n",
              "<style scoped>\n",
              "    .dataframe tbody tr th:only-of-type {\n",
              "        vertical-align: middle;\n",
              "    }\n",
              "\n",
              "    .dataframe tbody tr th {\n",
              "        vertical-align: top;\n",
              "    }\n",
              "\n",
              "    .dataframe thead th {\n",
              "        text-align: right;\n",
              "    }\n",
              "</style>\n",
              "<table border=\"1\" class=\"dataframe\">\n",
              "  <thead>\n",
              "    <tr style=\"text-align: right;\">\n",
              "      <th></th>\n",
              "      <th>invoiceno</th>\n",
              "      <th>stockcode</th>\n",
              "      <th>description</th>\n",
              "      <th>quantity</th>\n",
              "      <th>invoicedate</th>\n",
              "      <th>unitprice</th>\n",
              "      <th>customerid</th>\n",
              "      <th>country</th>\n",
              "      <th>newdate</th>\n",
              "      <th>Flag</th>\n",
              "      <th>qtyflag</th>\n",
              "      <th>finalflag</th>\n",
              "    </tr>\n",
              "  </thead>\n",
              "  <tbody>\n",
              "    <tr>\n",
              "      <th>4287</th>\n",
              "      <td>C536757</td>\n",
              "      <td>84347</td>\n",
              "      <td>ROTATING SILVER ANGELS T-LIGHT HLDR</td>\n",
              "      <td>-9360</td>\n",
              "      <td>12/2/2010 14:23</td>\n",
              "      <td>0.03</td>\n",
              "      <td>15838.0</td>\n",
              "      <td>United Kingdom</td>\n",
              "      <td>2010-12-02</td>\n",
              "      <td>1.0</td>\n",
              "      <td>1</td>\n",
              "      <td>2.0</td>\n",
              "    </tr>\n",
              "  </tbody>\n",
              "</table>\n",
              "</div>"
            ],
            "text/plain": [
              "     invoiceno stockcode  ... qtyflag  finalflag\n",
              "4287   C536757     84347  ...       1        2.0\n",
              "\n",
              "[1 rows x 12 columns]"
            ]
          },
          "metadata": {
            "tags": []
          },
          "execution_count": 74
        }
      ]
    },
    {
      "cell_type": "markdown",
      "metadata": {
        "id": "Sr1XUqLBh8q3",
        "colab_type": "text"
      },
      "source": [
        "### LEt's now remove 193 data points , looks like these are legit removal case"
      ]
    },
    {
      "cell_type": "code",
      "metadata": {
        "id": "JvAk-Mvbg-Ca",
        "colab_type": "code",
        "colab": {}
      },
      "source": [
        "cleanecom= cleanecom[~(cleanecom.finalflag==2)] # Based on final flag we are removing the rows"
      ],
      "execution_count": 0,
      "outputs": []
    },
    {
      "cell_type": "code",
      "metadata": {
        "id": "gzn7pNoOiSF8",
        "colab_type": "code",
        "outputId": "d1da0f33-9c92-4901-d94a-795e3d201c74",
        "colab": {
          "base_uri": "https://localhost:8080/",
          "height": 35
        }
      },
      "source": [
        "cleanecom.shape, ecomdata.shape"
      ],
      "execution_count": 0,
      "outputs": [
        {
          "output_type": "execute_result",
          "data": {
            "text/plain": [
              "((541716, 12), (541909, 9))"
            ]
          },
          "metadata": {
            "tags": []
          },
          "execution_count": 76
        }
      ]
    },
    {
      "cell_type": "markdown",
      "metadata": {
        "id": "qyAjHHuVildn",
        "colab_type": "text"
      },
      "source": [
        "### Let's now have a look at the description column\n",
        "\n",
        "         Frequency tables in Python:   \n",
        "         Padas.Series.value_counts(self, normalize=False, sort=True, ascending=False, bins=None, dropna=True)"
      ]
    },
    {
      "cell_type": "code",
      "metadata": {
        "id": "lqmz99XiiVZI",
        "colab_type": "code",
        "outputId": "6d108ceb-712f-4f53-a475-85ac7a53a3cb",
        "colab": {
          "base_uri": "https://localhost:8080/",
          "height": 88
        }
      },
      "source": [
        "# Get a series of unique values in column 'Quantity' of the dataframe\n",
        "uniqueValues = cleanecom['description'].unique()\n",
        "print('Unique elements in column \"Description\" ')\n",
        "print(uniqueValues)"
      ],
      "execution_count": 0,
      "outputs": [
        {
          "output_type": "stream",
          "text": [
            "Unique elements in column \"Description\" \n",
            "['WHITE HANGING HEART T-LIGHT HOLDER' 'WHITE METAL LANTERN'\n",
            " 'CREAM CUPID HEARTS COAT HANGER' ... 'mixed up' 'lost'\n",
            " 'CREAM HANGING HEART T-LIGHT HOLDER']\n"
          ],
          "name": "stdout"
        }
      ]
    },
    {
      "cell_type": "code",
      "metadata": {
        "id": "tpZUlLskjZ5U",
        "colab_type": "code",
        "outputId": "90b9cb2e-e625-4ea9-d918-e989525e996c",
        "colab": {
          "base_uri": "https://localhost:8080/",
          "height": 230
        }
      },
      "source": [
        "cleanecom.description.value_counts()"
      ],
      "execution_count": 0,
      "outputs": [
        {
          "output_type": "execute_result",
          "data": {
            "text/plain": [
              "WHITE HANGING HEART T-LIGHT HOLDER    2366\n",
              "REGENCY CAKESTAND 3 TIER              2200\n",
              "JUMBO BAG RED RETROSPOT               2157\n",
              "PARTY BUNTING                         1727\n",
              "LUNCH BAG RED RETROSPOT               1638\n",
              "                                      ... \n",
              "Dotcom                                   1\n",
              "M/COLOUR POM-POM CURTAIN                 1\n",
              "sold as 22467                            1\n",
              "?sold as sets?                           1\n",
              "OCEAN STRIPE HAMMOCK                     1\n",
              "Name: description, Length: 4219, dtype: int64"
            ]
          },
          "metadata": {
            "tags": []
          },
          "execution_count": 80
        }
      ]
    },
    {
      "cell_type": "markdown",
      "metadata": {
        "id": "J8euCPYrlISW",
        "colab_type": "text"
      },
      "source": [
        "### Iteratively you can continue to clean data as you wish . In the iterest of time I am moving to sent stage of data eloration and then we shall get into femous feature creation"
      ]
    },
    {
      "cell_type": "markdown",
      "metadata": {
        "id": "04exCd5flw-H",
        "colab_type": "text"
      },
      "source": [
        "### Pandas Cross tab- Titanic data example. I am sure you must have seen this data in some shape and form else just look in to kaggle datasets. This data is easy to find\n",
        "\n",
        "**One-Way Tables**  \n",
        "      \n",
        "      my_tab = pd.crosstab(index=titanic_train[\"Survived\"],\n",
        "                              columns=\"count\")\n",
        "\n",
        "**Two-Way tables**\n",
        "\n",
        "\n",
        "      pd.crosstab(index,columns,values=?,rownames=?,colnames=?,aggfunc=?,dropna=True,normalize=True)\n",
        "\n",
        "      survived_sex = pd.crosstab(index=titanic_train[\"Survived\"], \n",
        "                           columns=titanic_train[\"Sex\"])\n",
        "\n",
        "      survived_sex.index= [\"died\",\"survived\"]\n",
        "\n",
        "      survived_sex"
      ]
    },
    {
      "cell_type": "code",
      "metadata": {
        "id": "IIpj4Rgcjvmc",
        "colab_type": "code",
        "outputId": "cb1c39b2-f329-402e-84f3-996960d8d149",
        "colab": {
          "base_uri": "https://localhost:8080/",
          "height": 195
        }
      },
      "source": [
        "kk = pd.crosstab(index=ecomdata[\"country\"],columns=\"count\")\n",
        "print(kk)"
      ],
      "execution_count": 0,
      "outputs": [
        {
          "output_type": "stream",
          "text": [
            "col_0            count\n",
            "country               \n",
            "Asia               517\n",
            "Australia         1259\n",
            "Canada             151\n",
            "Europe           43625\n",
            "Middle East        142\n",
            "USA                291\n",
            "United Kingdom  495478\n",
            "Unspecified        446\n"
          ],
          "name": "stdout"
        }
      ]
    },
    {
      "cell_type": "code",
      "metadata": {
        "id": "t63EL5yqngnF",
        "colab_type": "code",
        "outputId": "6ea9f089-f7b7-484c-d2b3-1d4172e40a6d",
        "colab": {
          "base_uri": "https://localhost:8080/",
          "height": 321
        }
      },
      "source": [
        "pd.crosstab(index=cleanecom['country'],columns=cleanecom['finalflag'],values=cleanecom['finalflag'],aggfunc='count',dropna=True,normalize=True)"
      ],
      "execution_count": 0,
      "outputs": [
        {
          "output_type": "execute_result",
          "data": {
            "text/html": [
              "<div>\n",
              "<style scoped>\n",
              "    .dataframe tbody tr th:only-of-type {\n",
              "        vertical-align: middle;\n",
              "    }\n",
              "\n",
              "    .dataframe tbody tr th {\n",
              "        vertical-align: top;\n",
              "    }\n",
              "\n",
              "    .dataframe thead th {\n",
              "        text-align: right;\n",
              "    }\n",
              "</style>\n",
              "<table border=\"1\" class=\"dataframe\">\n",
              "  <thead>\n",
              "    <tr style=\"text-align: right;\">\n",
              "      <th>finalflag</th>\n",
              "      <th>0.0</th>\n",
              "      <th>1.0</th>\n",
              "    </tr>\n",
              "    <tr>\n",
              "      <th>country</th>\n",
              "      <th></th>\n",
              "      <th></th>\n",
              "    </tr>\n",
              "  </thead>\n",
              "  <tbody>\n",
              "    <tr>\n",
              "      <th>Asia</th>\n",
              "      <td>0.000953</td>\n",
              "      <td>0.000002</td>\n",
              "    </tr>\n",
              "    <tr>\n",
              "      <th>Australia</th>\n",
              "      <td>0.001763</td>\n",
              "      <td>0.000530</td>\n",
              "    </tr>\n",
              "    <tr>\n",
              "      <th>Canada</th>\n",
              "      <td>0.000275</td>\n",
              "      <td>0.000004</td>\n",
              "    </tr>\n",
              "    <tr>\n",
              "      <th>Europe</th>\n",
              "      <td>0.078999</td>\n",
              "      <td>0.001495</td>\n",
              "    </tr>\n",
              "    <tr>\n",
              "      <th>Middle East</th>\n",
              "      <td>0.000260</td>\n",
              "      <td>0.000002</td>\n",
              "    </tr>\n",
              "    <tr>\n",
              "      <th>USA</th>\n",
              "      <td>0.000330</td>\n",
              "      <td>0.000207</td>\n",
              "    </tr>\n",
              "    <tr>\n",
              "      <th>United Kingdom</th>\n",
              "      <td>0.900784</td>\n",
              "      <td>0.013574</td>\n",
              "    </tr>\n",
              "    <tr>\n",
              "      <th>Unspecified</th>\n",
              "      <td>0.000823</td>\n",
              "      <td>0.000000</td>\n",
              "    </tr>\n",
              "  </tbody>\n",
              "</table>\n",
              "</div>"
            ],
            "text/plain": [
              "finalflag            0.0       1.0\n",
              "country                           \n",
              "Asia            0.000953  0.000002\n",
              "Australia       0.001763  0.000530\n",
              "Canada          0.000275  0.000004\n",
              "Europe          0.078999  0.001495\n",
              "Middle East     0.000260  0.000002\n",
              "USA             0.000330  0.000207\n",
              "United Kingdom  0.900784  0.013574\n",
              "Unspecified     0.000823  0.000000"
            ]
          },
          "metadata": {
            "tags": []
          },
          "execution_count": 84
        }
      ]
    },
    {
      "cell_type": "markdown",
      "metadata": {
        "id": "YpQu3x8QmQOt",
        "colab_type": "text"
      },
      "source": [
        "### SORTING A PANDAS DATAFRAME\n",
        "\n",
        "SYNTAX:  \n",
        "     \n",
        "     DataFrame.sort_values(self, by, axis=0, ascending=True, inplace=False, kind='quicksort', na_position='last', ignore_index=False)\n",
        "\n",
        "EXAMPLE:  \n",
        "\n",
        "    df.sort_values(by=['col1', 'col2'], ascending=False, na_position='first')\n",
        "\n",
        "------------------------------------------------------------\n",
        "There is a function to SORT INDEX  \n",
        "Explore df.sort_index"
      ]
    },
    {
      "cell_type": "code",
      "metadata": {
        "id": "_hdwffMZmHEc",
        "colab_type": "code",
        "outputId": "0a726938-8ee6-495e-bfb1-cc231f7a1e26",
        "colab": {
          "base_uri": "https://localhost:8080/",
          "height": 230
        }
      },
      "source": [
        "kk.sort_values(by=['count'],inplace=True)\n",
        "kk.head(5)"
      ],
      "execution_count": 0,
      "outputs": [
        {
          "output_type": "execute_result",
          "data": {
            "text/html": [
              "<div>\n",
              "<style scoped>\n",
              "    .dataframe tbody tr th:only-of-type {\n",
              "        vertical-align: middle;\n",
              "    }\n",
              "\n",
              "    .dataframe tbody tr th {\n",
              "        vertical-align: top;\n",
              "    }\n",
              "\n",
              "    .dataframe thead th {\n",
              "        text-align: right;\n",
              "    }\n",
              "</style>\n",
              "<table border=\"1\" class=\"dataframe\">\n",
              "  <thead>\n",
              "    <tr style=\"text-align: right;\">\n",
              "      <th>col_0</th>\n",
              "      <th>count</th>\n",
              "    </tr>\n",
              "    <tr>\n",
              "      <th>country</th>\n",
              "      <th></th>\n",
              "    </tr>\n",
              "  </thead>\n",
              "  <tbody>\n",
              "    <tr>\n",
              "      <th>Middle East</th>\n",
              "      <td>142</td>\n",
              "    </tr>\n",
              "    <tr>\n",
              "      <th>Canada</th>\n",
              "      <td>151</td>\n",
              "    </tr>\n",
              "    <tr>\n",
              "      <th>USA</th>\n",
              "      <td>291</td>\n",
              "    </tr>\n",
              "    <tr>\n",
              "      <th>Unspecified</th>\n",
              "      <td>446</td>\n",
              "    </tr>\n",
              "    <tr>\n",
              "      <th>Asia</th>\n",
              "      <td>517</td>\n",
              "    </tr>\n",
              "  </tbody>\n",
              "</table>\n",
              "</div>"
            ],
            "text/plain": [
              "col_0        count\n",
              "country           \n",
              "Middle East    142\n",
              "Canada         151\n",
              "USA            291\n",
              "Unspecified    446\n",
              "Asia           517"
            ]
          },
          "metadata": {
            "tags": []
          },
          "execution_count": 82
        }
      ]
    },
    {
      "cell_type": "markdown",
      "metadata": {
        "id": "nzWMQY8JsHF4",
        "colab_type": "text"
      },
      "source": [
        "#### Let's check for duplicate records\n",
        "\n",
        "       print('Duplicate entries: {}'.format(df_input_data.duplicated().sum()))\n",
        "       \n",
        "\n",
        "       duplicate_rows = df_input_data[df_input_data.duplicated()]\n",
        "       duplicate_rows\n",
        "\n"
      ]
    },
    {
      "cell_type": "code",
      "metadata": {
        "id": "w1S11I10solI",
        "colab_type": "code",
        "outputId": "12b3de44-a990-4950-fbab-c2390aff8245",
        "colab": {
          "base_uri": "https://localhost:8080/",
          "height": 35
        }
      },
      "source": [
        "print('Duplicate entries: {}'.format(cleanecom.duplicated().sum()))"
      ],
      "execution_count": 0,
      "outputs": [
        {
          "output_type": "stream",
          "text": [
            "Duplicate entries: 5267\n"
          ],
          "name": "stdout"
        }
      ]
    },
    {
      "cell_type": "code",
      "metadata": {
        "id": "cajSzz_hs1OS",
        "colab_type": "code",
        "outputId": "e250f357-a094-4f2a-93cb-6789fc61f303",
        "colab": {
          "base_uri": "https://localhost:8080/",
          "height": 581
        }
      },
      "source": [
        "duplicate_rows = cleanecom[cleanecom.duplicated()]\n",
        "duplicate_rows"
      ],
      "execution_count": 0,
      "outputs": [
        {
          "output_type": "execute_result",
          "data": {
            "text/html": [
              "<div>\n",
              "<style scoped>\n",
              "    .dataframe tbody tr th:only-of-type {\n",
              "        vertical-align: middle;\n",
              "    }\n",
              "\n",
              "    .dataframe tbody tr th {\n",
              "        vertical-align: top;\n",
              "    }\n",
              "\n",
              "    .dataframe thead th {\n",
              "        text-align: right;\n",
              "    }\n",
              "</style>\n",
              "<table border=\"1\" class=\"dataframe\">\n",
              "  <thead>\n",
              "    <tr style=\"text-align: right;\">\n",
              "      <th></th>\n",
              "      <th>invoiceno</th>\n",
              "      <th>stockcode</th>\n",
              "      <th>description</th>\n",
              "      <th>quantity</th>\n",
              "      <th>invoicedate</th>\n",
              "      <th>unitprice</th>\n",
              "      <th>customerid</th>\n",
              "      <th>country</th>\n",
              "      <th>newdate</th>\n",
              "      <th>Flag</th>\n",
              "      <th>qtyflag</th>\n",
              "      <th>finalflag</th>\n",
              "      <th>year</th>\n",
              "      <th>Month</th>\n",
              "      <th>Day</th>\n",
              "    </tr>\n",
              "  </thead>\n",
              "  <tbody>\n",
              "    <tr>\n",
              "      <th>517</th>\n",
              "      <td>536409</td>\n",
              "      <td>21866</td>\n",
              "      <td>UNION JACK FLAG LUGGAGE TAG</td>\n",
              "      <td>1</td>\n",
              "      <td>12/1/2010 11:45</td>\n",
              "      <td>1.25</td>\n",
              "      <td>17908.0</td>\n",
              "      <td>United Kingdom</td>\n",
              "      <td>2010-12-01</td>\n",
              "      <td>0.0</td>\n",
              "      <td>0</td>\n",
              "      <td>0.0</td>\n",
              "      <td>2010</td>\n",
              "      <td>12</td>\n",
              "      <td>1</td>\n",
              "    </tr>\n",
              "    <tr>\n",
              "      <th>527</th>\n",
              "      <td>536409</td>\n",
              "      <td>22866</td>\n",
              "      <td>HAND WARMER SCOTTY DOG DESIGN</td>\n",
              "      <td>1</td>\n",
              "      <td>12/1/2010 11:45</td>\n",
              "      <td>2.10</td>\n",
              "      <td>17908.0</td>\n",
              "      <td>United Kingdom</td>\n",
              "      <td>2010-12-01</td>\n",
              "      <td>0.0</td>\n",
              "      <td>0</td>\n",
              "      <td>0.0</td>\n",
              "      <td>2010</td>\n",
              "      <td>12</td>\n",
              "      <td>1</td>\n",
              "    </tr>\n",
              "    <tr>\n",
              "      <th>537</th>\n",
              "      <td>536409</td>\n",
              "      <td>22900</td>\n",
              "      <td>SET 2 TEA TOWELS I LOVE LONDON</td>\n",
              "      <td>1</td>\n",
              "      <td>12/1/2010 11:45</td>\n",
              "      <td>2.95</td>\n",
              "      <td>17908.0</td>\n",
              "      <td>United Kingdom</td>\n",
              "      <td>2010-12-01</td>\n",
              "      <td>0.0</td>\n",
              "      <td>0</td>\n",
              "      <td>0.0</td>\n",
              "      <td>2010</td>\n",
              "      <td>12</td>\n",
              "      <td>1</td>\n",
              "    </tr>\n",
              "    <tr>\n",
              "      <th>539</th>\n",
              "      <td>536409</td>\n",
              "      <td>22111</td>\n",
              "      <td>SCOTTIE DOG HOT WATER BOTTLE</td>\n",
              "      <td>1</td>\n",
              "      <td>12/1/2010 11:45</td>\n",
              "      <td>4.95</td>\n",
              "      <td>17908.0</td>\n",
              "      <td>United Kingdom</td>\n",
              "      <td>2010-12-01</td>\n",
              "      <td>0.0</td>\n",
              "      <td>0</td>\n",
              "      <td>0.0</td>\n",
              "      <td>2010</td>\n",
              "      <td>12</td>\n",
              "      <td>1</td>\n",
              "    </tr>\n",
              "    <tr>\n",
              "      <th>555</th>\n",
              "      <td>536412</td>\n",
              "      <td>22327</td>\n",
              "      <td>ROUND SNACK BOXES SET OF 4 SKULLS</td>\n",
              "      <td>1</td>\n",
              "      <td>12/1/2010 11:49</td>\n",
              "      <td>2.95</td>\n",
              "      <td>17920.0</td>\n",
              "      <td>United Kingdom</td>\n",
              "      <td>2010-12-01</td>\n",
              "      <td>0.0</td>\n",
              "      <td>0</td>\n",
              "      <td>0.0</td>\n",
              "      <td>2010</td>\n",
              "      <td>12</td>\n",
              "      <td>1</td>\n",
              "    </tr>\n",
              "    <tr>\n",
              "      <th>...</th>\n",
              "      <td>...</td>\n",
              "      <td>...</td>\n",
              "      <td>...</td>\n",
              "      <td>...</td>\n",
              "      <td>...</td>\n",
              "      <td>...</td>\n",
              "      <td>...</td>\n",
              "      <td>...</td>\n",
              "      <td>...</td>\n",
              "      <td>...</td>\n",
              "      <td>...</td>\n",
              "      <td>...</td>\n",
              "      <td>...</td>\n",
              "      <td>...</td>\n",
              "      <td>...</td>\n",
              "    </tr>\n",
              "    <tr>\n",
              "      <th>541675</th>\n",
              "      <td>581538</td>\n",
              "      <td>22068</td>\n",
              "      <td>BLACK PIRATE TREASURE CHEST</td>\n",
              "      <td>1</td>\n",
              "      <td>12/9/2011 11:34</td>\n",
              "      <td>0.39</td>\n",
              "      <td>14446.0</td>\n",
              "      <td>United Kingdom</td>\n",
              "      <td>2011-12-09</td>\n",
              "      <td>0.0</td>\n",
              "      <td>0</td>\n",
              "      <td>0.0</td>\n",
              "      <td>2011</td>\n",
              "      <td>12</td>\n",
              "      <td>9</td>\n",
              "    </tr>\n",
              "    <tr>\n",
              "      <th>541689</th>\n",
              "      <td>581538</td>\n",
              "      <td>23318</td>\n",
              "      <td>BOX OF 6 MINI VINTAGE CRACKERS</td>\n",
              "      <td>1</td>\n",
              "      <td>12/9/2011 11:34</td>\n",
              "      <td>2.49</td>\n",
              "      <td>14446.0</td>\n",
              "      <td>United Kingdom</td>\n",
              "      <td>2011-12-09</td>\n",
              "      <td>0.0</td>\n",
              "      <td>0</td>\n",
              "      <td>0.0</td>\n",
              "      <td>2011</td>\n",
              "      <td>12</td>\n",
              "      <td>9</td>\n",
              "    </tr>\n",
              "    <tr>\n",
              "      <th>541692</th>\n",
              "      <td>581538</td>\n",
              "      <td>22992</td>\n",
              "      <td>REVOLVER WOODEN RULER</td>\n",
              "      <td>1</td>\n",
              "      <td>12/9/2011 11:34</td>\n",
              "      <td>1.95</td>\n",
              "      <td>14446.0</td>\n",
              "      <td>United Kingdom</td>\n",
              "      <td>2011-12-09</td>\n",
              "      <td>0.0</td>\n",
              "      <td>0</td>\n",
              "      <td>0.0</td>\n",
              "      <td>2011</td>\n",
              "      <td>12</td>\n",
              "      <td>9</td>\n",
              "    </tr>\n",
              "    <tr>\n",
              "      <th>541699</th>\n",
              "      <td>581538</td>\n",
              "      <td>22694</td>\n",
              "      <td>WICKER STAR</td>\n",
              "      <td>1</td>\n",
              "      <td>12/9/2011 11:34</td>\n",
              "      <td>2.10</td>\n",
              "      <td>14446.0</td>\n",
              "      <td>United Kingdom</td>\n",
              "      <td>2011-12-09</td>\n",
              "      <td>0.0</td>\n",
              "      <td>0</td>\n",
              "      <td>0.0</td>\n",
              "      <td>2011</td>\n",
              "      <td>12</td>\n",
              "      <td>9</td>\n",
              "    </tr>\n",
              "    <tr>\n",
              "      <th>541701</th>\n",
              "      <td>581538</td>\n",
              "      <td>23343</td>\n",
              "      <td>JUMBO BAG VINTAGE CHRISTMAS</td>\n",
              "      <td>1</td>\n",
              "      <td>12/9/2011 11:34</td>\n",
              "      <td>2.08</td>\n",
              "      <td>14446.0</td>\n",
              "      <td>United Kingdom</td>\n",
              "      <td>2011-12-09</td>\n",
              "      <td>0.0</td>\n",
              "      <td>0</td>\n",
              "      <td>0.0</td>\n",
              "      <td>2011</td>\n",
              "      <td>12</td>\n",
              "      <td>9</td>\n",
              "    </tr>\n",
              "  </tbody>\n",
              "</table>\n",
              "<p>5267 rows × 15 columns</p>\n",
              "</div>"
            ],
            "text/plain": [
              "       invoiceno stockcode                        description  ...  year Month  Day\n",
              "517       536409     21866        UNION JACK FLAG LUGGAGE TAG  ...  2010    12    1\n",
              "527       536409     22866      HAND WARMER SCOTTY DOG DESIGN  ...  2010    12    1\n",
              "537       536409     22900    SET 2 TEA TOWELS I LOVE LONDON   ...  2010    12    1\n",
              "539       536409     22111       SCOTTIE DOG HOT WATER BOTTLE  ...  2010    12    1\n",
              "555       536412     22327  ROUND SNACK BOXES SET OF 4 SKULLS  ...  2010    12    1\n",
              "...          ...       ...                                ...  ...   ...   ...  ...\n",
              "541675    581538     22068        BLACK PIRATE TREASURE CHEST  ...  2011    12    9\n",
              "541689    581538     23318     BOX OF 6 MINI VINTAGE CRACKERS  ...  2011    12    9\n",
              "541692    581538     22992             REVOLVER WOODEN RULER   ...  2011    12    9\n",
              "541699    581538     22694                       WICKER STAR   ...  2011    12    9\n",
              "541701    581538     23343       JUMBO BAG VINTAGE CHRISTMAS   ...  2011    12    9\n",
              "\n",
              "[5267 rows x 15 columns]"
            ]
          },
          "metadata": {
            "tags": []
          },
          "execution_count": 88
        }
      ]
    },
    {
      "cell_type": "code",
      "metadata": {
        "id": "XPC9jcO6tbGP",
        "colab_type": "code",
        "outputId": "fb9c22e1-1464-4456-f1dc-3eff504d3395",
        "colab": {
          "base_uri": "https://localhost:8080/",
          "height": 238
        }
      },
      "source": [
        "duplicate_rows = cleanecom[cleanecom.duplicated() & (cleanecom.invoiceno=='536409')]\n",
        "duplicate_rows"
      ],
      "execution_count": 0,
      "outputs": [
        {
          "output_type": "execute_result",
          "data": {
            "text/html": [
              "<div>\n",
              "<style scoped>\n",
              "    .dataframe tbody tr th:only-of-type {\n",
              "        vertical-align: middle;\n",
              "    }\n",
              "\n",
              "    .dataframe tbody tr th {\n",
              "        vertical-align: top;\n",
              "    }\n",
              "\n",
              "    .dataframe thead th {\n",
              "        text-align: right;\n",
              "    }\n",
              "</style>\n",
              "<table border=\"1\" class=\"dataframe\">\n",
              "  <thead>\n",
              "    <tr style=\"text-align: right;\">\n",
              "      <th></th>\n",
              "      <th>invoiceno</th>\n",
              "      <th>stockcode</th>\n",
              "      <th>description</th>\n",
              "      <th>quantity</th>\n",
              "      <th>invoicedate</th>\n",
              "      <th>unitprice</th>\n",
              "      <th>customerid</th>\n",
              "      <th>country</th>\n",
              "      <th>newdate</th>\n",
              "      <th>Flag</th>\n",
              "      <th>qtyflag</th>\n",
              "      <th>finalflag</th>\n",
              "      <th>year</th>\n",
              "      <th>Month</th>\n",
              "      <th>Day</th>\n",
              "    </tr>\n",
              "  </thead>\n",
              "  <tbody>\n",
              "    <tr>\n",
              "      <th>517</th>\n",
              "      <td>536409</td>\n",
              "      <td>21866</td>\n",
              "      <td>UNION JACK FLAG LUGGAGE TAG</td>\n",
              "      <td>1</td>\n",
              "      <td>12/1/2010 11:45</td>\n",
              "      <td>1.25</td>\n",
              "      <td>17908.0</td>\n",
              "      <td>United Kingdom</td>\n",
              "      <td>2010-12-01</td>\n",
              "      <td>0.0</td>\n",
              "      <td>0</td>\n",
              "      <td>0.0</td>\n",
              "      <td>2010</td>\n",
              "      <td>12</td>\n",
              "      <td>1</td>\n",
              "    </tr>\n",
              "    <tr>\n",
              "      <th>527</th>\n",
              "      <td>536409</td>\n",
              "      <td>22866</td>\n",
              "      <td>HAND WARMER SCOTTY DOG DESIGN</td>\n",
              "      <td>1</td>\n",
              "      <td>12/1/2010 11:45</td>\n",
              "      <td>2.10</td>\n",
              "      <td>17908.0</td>\n",
              "      <td>United Kingdom</td>\n",
              "      <td>2010-12-01</td>\n",
              "      <td>0.0</td>\n",
              "      <td>0</td>\n",
              "      <td>0.0</td>\n",
              "      <td>2010</td>\n",
              "      <td>12</td>\n",
              "      <td>1</td>\n",
              "    </tr>\n",
              "    <tr>\n",
              "      <th>537</th>\n",
              "      <td>536409</td>\n",
              "      <td>22900</td>\n",
              "      <td>SET 2 TEA TOWELS I LOVE LONDON</td>\n",
              "      <td>1</td>\n",
              "      <td>12/1/2010 11:45</td>\n",
              "      <td>2.95</td>\n",
              "      <td>17908.0</td>\n",
              "      <td>United Kingdom</td>\n",
              "      <td>2010-12-01</td>\n",
              "      <td>0.0</td>\n",
              "      <td>0</td>\n",
              "      <td>0.0</td>\n",
              "      <td>2010</td>\n",
              "      <td>12</td>\n",
              "      <td>1</td>\n",
              "    </tr>\n",
              "    <tr>\n",
              "      <th>539</th>\n",
              "      <td>536409</td>\n",
              "      <td>22111</td>\n",
              "      <td>SCOTTIE DOG HOT WATER BOTTLE</td>\n",
              "      <td>1</td>\n",
              "      <td>12/1/2010 11:45</td>\n",
              "      <td>4.95</td>\n",
              "      <td>17908.0</td>\n",
              "      <td>United Kingdom</td>\n",
              "      <td>2010-12-01</td>\n",
              "      <td>0.0</td>\n",
              "      <td>0</td>\n",
              "      <td>0.0</td>\n",
              "      <td>2010</td>\n",
              "      <td>12</td>\n",
              "      <td>1</td>\n",
              "    </tr>\n",
              "  </tbody>\n",
              "</table>\n",
              "</div>"
            ],
            "text/plain": [
              "    invoiceno stockcode                       description  ...  year Month  Day\n",
              "517    536409     21866       UNION JACK FLAG LUGGAGE TAG  ...  2010    12    1\n",
              "527    536409     22866     HAND WARMER SCOTTY DOG DESIGN  ...  2010    12    1\n",
              "537    536409     22900   SET 2 TEA TOWELS I LOVE LONDON   ...  2010    12    1\n",
              "539    536409     22111      SCOTTIE DOG HOT WATER BOTTLE  ...  2010    12    1\n",
              "\n",
              "[4 rows x 15 columns]"
            ]
          },
          "metadata": {
            "tags": []
          },
          "execution_count": 90
        }
      ]
    },
    {
      "cell_type": "markdown",
      "metadata": {
        "id": "rXcA13cQKGj_",
        "colab_type": "text"
      },
      "source": [
        "### Looks like the above one is a data entry mistake. somehow people have forgotton to club the items in the single invoice. Hence these are not duplicates. However below is an example , how you can remove duplicates"
      ]
    },
    {
      "cell_type": "code",
      "metadata": {
        "id": "SHqXsDNsurKv",
        "colab_type": "code",
        "outputId": "d81c1853-bd59-4474-998e-a80a30af2f11",
        "colab": {
          "base_uri": "https://localhost:8080/",
          "height": 35
        }
      },
      "source": [
        "cleanecom.shape"
      ],
      "execution_count": 0,
      "outputs": [
        {
          "output_type": "execute_result",
          "data": {
            "text/plain": [
              "(541716, 15)"
            ]
          },
          "metadata": {
            "tags": []
          },
          "execution_count": 91
        }
      ]
    },
    {
      "cell_type": "code",
      "metadata": {
        "id": "QBFf_u8Oug2I",
        "colab_type": "code",
        "outputId": "f901e0e3-05d8-42bb-9054-e8fc1ca30c46",
        "colab": {
          "base_uri": "https://localhost:8080/",
          "height": 35
        }
      },
      "source": [
        "# Dropping the duplicates \n",
        "cleanecom = cleanecom.drop_duplicates(keep= 'first',inplace=True)\n",
        "cleanecom.shape"
      ],
      "execution_count": 0,
      "outputs": [
        {
          "output_type": "execute_result",
          "data": {
            "text/plain": [
              "(536449, 15)"
            ]
          },
          "metadata": {
            "tags": []
          },
          "execution_count": 92
        }
      ]
    },
    {
      "cell_type": "markdown",
      "metadata": {
        "id": "SIfbNa5DsZE2",
        "colab_type": "text"
      },
      "source": [
        "### Let's create some date features :\n",
        "\n",
        "\n",
        "*   Extract Month \n",
        "*   Year\n",
        "*    Day of the transaction\n",
        "\n"
      ]
    },
    {
      "cell_type": "code",
      "metadata": {
        "id": "0sk2DBHymmzB",
        "colab_type": "code",
        "colab": {}
      },
      "source": [
        "cleanecom[\"year\"] = cleanecom.newdate.dt.year\n",
        "cleanecom[\"Month\"] = cleanecom.newdate.dt.month\n",
        "cleanecom[\"Day\"] = cleanecom.newdate.dt.day"
      ],
      "execution_count": 0,
      "outputs": []
    },
    {
      "cell_type": "code",
      "metadata": {
        "id": "dxwR5NjsrufA",
        "colab_type": "code",
        "outputId": "af5c0158-ef38-44ef-c453-d7f4aab4039e",
        "colab": {
          "base_uri": "https://localhost:8080/",
          "height": 285
        }
      },
      "source": [
        "cleanecom.head()"
      ],
      "execution_count": 0,
      "outputs": [
        {
          "output_type": "execute_result",
          "data": {
            "text/html": [
              "<div>\n",
              "<style scoped>\n",
              "    .dataframe tbody tr th:only-of-type {\n",
              "        vertical-align: middle;\n",
              "    }\n",
              "\n",
              "    .dataframe tbody tr th {\n",
              "        vertical-align: top;\n",
              "    }\n",
              "\n",
              "    .dataframe thead th {\n",
              "        text-align: right;\n",
              "    }\n",
              "</style>\n",
              "<table border=\"1\" class=\"dataframe\">\n",
              "  <thead>\n",
              "    <tr style=\"text-align: right;\">\n",
              "      <th></th>\n",
              "      <th>invoiceno</th>\n",
              "      <th>stockcode</th>\n",
              "      <th>description</th>\n",
              "      <th>quantity</th>\n",
              "      <th>invoicedate</th>\n",
              "      <th>unitprice</th>\n",
              "      <th>customerid</th>\n",
              "      <th>country</th>\n",
              "      <th>newdate</th>\n",
              "      <th>Flag</th>\n",
              "      <th>qtyflag</th>\n",
              "      <th>finalflag</th>\n",
              "      <th>year</th>\n",
              "      <th>Month</th>\n",
              "      <th>Day</th>\n",
              "    </tr>\n",
              "  </thead>\n",
              "  <tbody>\n",
              "    <tr>\n",
              "      <th>0</th>\n",
              "      <td>536365</td>\n",
              "      <td>85123A</td>\n",
              "      <td>WHITE HANGING HEART T-LIGHT HOLDER</td>\n",
              "      <td>6</td>\n",
              "      <td>12/1/2010 8:26</td>\n",
              "      <td>2.55</td>\n",
              "      <td>17850.0</td>\n",
              "      <td>United Kingdom</td>\n",
              "      <td>2010-12-01</td>\n",
              "      <td>0.0</td>\n",
              "      <td>0</td>\n",
              "      <td>0.0</td>\n",
              "      <td>2010</td>\n",
              "      <td>12</td>\n",
              "      <td>1</td>\n",
              "    </tr>\n",
              "    <tr>\n",
              "      <th>1</th>\n",
              "      <td>536365</td>\n",
              "      <td>71053</td>\n",
              "      <td>WHITE METAL LANTERN</td>\n",
              "      <td>6</td>\n",
              "      <td>12/1/2010 8:26</td>\n",
              "      <td>3.39</td>\n",
              "      <td>17850.0</td>\n",
              "      <td>United Kingdom</td>\n",
              "      <td>2010-12-01</td>\n",
              "      <td>0.0</td>\n",
              "      <td>0</td>\n",
              "      <td>0.0</td>\n",
              "      <td>2010</td>\n",
              "      <td>12</td>\n",
              "      <td>1</td>\n",
              "    </tr>\n",
              "    <tr>\n",
              "      <th>2</th>\n",
              "      <td>536365</td>\n",
              "      <td>84406B</td>\n",
              "      <td>CREAM CUPID HEARTS COAT HANGER</td>\n",
              "      <td>8</td>\n",
              "      <td>12/1/2010 8:26</td>\n",
              "      <td>2.75</td>\n",
              "      <td>17850.0</td>\n",
              "      <td>United Kingdom</td>\n",
              "      <td>2010-12-01</td>\n",
              "      <td>0.0</td>\n",
              "      <td>0</td>\n",
              "      <td>0.0</td>\n",
              "      <td>2010</td>\n",
              "      <td>12</td>\n",
              "      <td>1</td>\n",
              "    </tr>\n",
              "    <tr>\n",
              "      <th>3</th>\n",
              "      <td>536365</td>\n",
              "      <td>84029G</td>\n",
              "      <td>KNITTED UNION FLAG HOT WATER BOTTLE</td>\n",
              "      <td>6</td>\n",
              "      <td>12/1/2010 8:26</td>\n",
              "      <td>3.39</td>\n",
              "      <td>17850.0</td>\n",
              "      <td>United Kingdom</td>\n",
              "      <td>2010-12-01</td>\n",
              "      <td>0.0</td>\n",
              "      <td>0</td>\n",
              "      <td>0.0</td>\n",
              "      <td>2010</td>\n",
              "      <td>12</td>\n",
              "      <td>1</td>\n",
              "    </tr>\n",
              "    <tr>\n",
              "      <th>4</th>\n",
              "      <td>536365</td>\n",
              "      <td>84029E</td>\n",
              "      <td>RED WOOLLY HOTTIE WHITE HEART.</td>\n",
              "      <td>6</td>\n",
              "      <td>12/1/2010 8:26</td>\n",
              "      <td>3.39</td>\n",
              "      <td>17850.0</td>\n",
              "      <td>United Kingdom</td>\n",
              "      <td>2010-12-01</td>\n",
              "      <td>0.0</td>\n",
              "      <td>0</td>\n",
              "      <td>0.0</td>\n",
              "      <td>2010</td>\n",
              "      <td>12</td>\n",
              "      <td>1</td>\n",
              "    </tr>\n",
              "  </tbody>\n",
              "</table>\n",
              "</div>"
            ],
            "text/plain": [
              "  invoiceno stockcode                          description  ...  year Month  Day\n",
              "0    536365    85123A   WHITE HANGING HEART T-LIGHT HOLDER  ...  2010    12    1\n",
              "1    536365     71053                  WHITE METAL LANTERN  ...  2010    12    1\n",
              "2    536365    84406B       CREAM CUPID HEARTS COAT HANGER  ...  2010    12    1\n",
              "3    536365    84029G  KNITTED UNION FLAG HOT WATER BOTTLE  ...  2010    12    1\n",
              "4    536365    84029E       RED WOOLLY HOTTIE WHITE HEART.  ...  2010    12    1\n",
              "\n",
              "[5 rows x 15 columns]"
            ]
          },
          "metadata": {
            "tags": []
          },
          "execution_count": 86
        }
      ]
    },
    {
      "cell_type": "markdown",
      "metadata": {
        "id": "BZnFwb5hydf9",
        "colab_type": "text"
      },
      "source": [
        "# EDA - Exploratory data analysis before creating ABT\n",
        "# & Feature Engineering "
      ]
    },
    {
      "cell_type": "markdown",
      "metadata": {
        "id": "KqtRGmmzMRKO",
        "colab_type": "text"
      },
      "source": [
        "### In case if you forgot my life long learning what I am still trying to share with you, \"please know your data like your girlfriend/boyfriend\"\n",
        "\n",
        "### Exploratory data analysis is again dependent on your creativity and zeal to know your data. There is no boundery what you can do here. \n",
        "\n",
        "Wat I am going to share are some simple techniques (never enough) which might get you started on the journey.\n",
        "\n",
        "Exploration should be done at 2 stages for any data:\n",
        "\n",
        "\n",
        "*   Before you create your ABT(Analytical Base Table). which will be consumed by model. \n",
        "         This will help you to understand in case any anomally data before\n",
        "         get's on aggregation. Like in case if you have not removed all 193 \n",
        "         transactions we removed it might be lost in the aggregation at \n",
        "         customer level. However impact might be there. Same goes for null values as well\n",
        "*   After you have actually created the ABT as well. \n",
        "        This would help you to study the relationship between features and help\n",
        "        you to understand how each feature might impact your dependent variable.\n",
        "        In case if you have any colier features which is not adding any value.\n",
        "        Is there any noisy features which we should drom or transform.\n",
        "\n",
        "        What Feature engineering may be required in order to capture the right pattern.\n",
        "\n"
      ]
    },
    {
      "cell_type": "markdown",
      "metadata": {
        "id": "jN6sJdBxPGjw",
        "colab_type": "text"
      },
      "source": [
        "### Good way to start may be to understand how many unique values you have in each column:"
      ]
    },
    {
      "cell_type": "code",
      "metadata": {
        "id": "yGDkO_7arzE9",
        "colab_type": "code",
        "outputId": "9ed3ed58-63ea-40dd-f433-6b4df97002a2",
        "colab": {
          "base_uri": "https://localhost:8080/",
          "height": 314
        }
      },
      "source": [
        "\n",
        "\n",
        "print('Total number of records in the data frame: ', cleanecom.customerid.count() )\n",
        "print('Count of unique values by each column:', cleanecom.nunique())\n",
        "\n",
        "\n"
      ],
      "execution_count": 0,
      "outputs": [
        {
          "output_type": "stream",
          "text": [
            "Total number of records in the data frame:  406645\n",
            "Count of unique values by each column: invoiceno      25838\n",
            "stockcode       4069\n",
            "description     4219\n",
            "quantity         684\n",
            "invoicedate    23214\n",
            "unitprice       1628\n",
            "customerid      4371\n",
            "country            9\n",
            "newdate          305\n",
            "Flag               2\n",
            "qtyflag            2\n",
            "finalflag          2\n",
            "year               2\n",
            "Month             12\n",
            "Day               31\n",
            "dtype: int64\n"
          ],
          "name": "stdout"
        }
      ]
    },
    {
      "cell_type": "markdown",
      "metadata": {
        "id": "In03Tz-OWMso",
        "colab_type": "text"
      },
      "source": [
        "### We have also cheked that some of the stok codes are alpha neumeric. Shall we have a better look them?"
      ]
    },
    {
      "cell_type": "code",
      "metadata": {
        "id": "G3h0FRQQWjAt",
        "colab_type": "code",
        "colab": {}
      },
      "source": [
        "cleanecom[\"alpha_description\"] = cleanecom['stockcode'].str[:1]\n"
      ],
      "execution_count": 0,
      "outputs": []
    },
    {
      "cell_type": "code",
      "metadata": {
        "id": "DAwxxwI6Y5cB",
        "colab_type": "code",
        "outputId": "b4cd91bd-cbb2-40dc-9b50-bf76d0983130",
        "colab": {
          "base_uri": "https://localhost:8080/",
          "height": 349
        }
      },
      "source": [
        "cleanecom.alpha_description.value_counts()"
      ],
      "execution_count": 0,
      "outputs": [
        {
          "output_type": "execute_result",
          "data": {
            "text/plain": [
              "2    438290\n",
              "8     62972\n",
              "4     11460\n",
              "1      7623\n",
              "7      7216\n",
              "3      5757\n",
              "9      4656\n",
              "P      1260\n",
              "D       830\n",
              "5       641\n",
              "M       566\n",
              "C       160\n",
              "6       113\n",
              "S        63\n",
              "B        40\n",
              "A        34\n",
              "g        34\n",
              "m         1\n",
              "Name: alpha_description, dtype: int64"
            ]
          },
          "metadata": {
            "tags": []
          },
          "execution_count": 43
        }
      ]
    },
    {
      "cell_type": "markdown",
      "metadata": {
        "id": "2pOf1ojHQVF-",
        "colab_type": "text"
      },
      "source": [
        "### Some alpha caracters are seen. We can have a better look at them:\n"
      ]
    },
    {
      "cell_type": "code",
      "metadata": {
        "id": "ENew5Z_iaCta",
        "colab_type": "code",
        "outputId": "c91aef45-66ac-4542-a3ee-2b882ceeb5d4",
        "colab": {
          "base_uri": "https://localhost:8080/",
          "height": 197
        }
      },
      "source": [
        "cleanecom[cleanecom.alpha_description=='M'].head()"
      ],
      "execution_count": 0,
      "outputs": [
        {
          "output_type": "execute_result",
          "data": {
            "text/html": [
              "<div>\n",
              "<style scoped>\n",
              "    .dataframe tbody tr th:only-of-type {\n",
              "        vertical-align: middle;\n",
              "    }\n",
              "\n",
              "    .dataframe tbody tr th {\n",
              "        vertical-align: top;\n",
              "    }\n",
              "\n",
              "    .dataframe thead th {\n",
              "        text-align: right;\n",
              "    }\n",
              "</style>\n",
              "<table border=\"1\" class=\"dataframe\">\n",
              "  <thead>\n",
              "    <tr style=\"text-align: right;\">\n",
              "      <th></th>\n",
              "      <th>invoiceno</th>\n",
              "      <th>stockcode</th>\n",
              "      <th>description</th>\n",
              "      <th>quantity</th>\n",
              "      <th>invoicedate</th>\n",
              "      <th>unitprice</th>\n",
              "      <th>customerid</th>\n",
              "      <th>country</th>\n",
              "      <th>newdate</th>\n",
              "      <th>finalflag</th>\n",
              "      <th>year</th>\n",
              "      <th>Month</th>\n",
              "      <th>Day</th>\n",
              "      <th>alpha_description</th>\n",
              "    </tr>\n",
              "  </thead>\n",
              "  <tbody>\n",
              "    <tr>\n",
              "      <th>2239</th>\n",
              "      <td>536569</td>\n",
              "      <td>M</td>\n",
              "      <td>Manual</td>\n",
              "      <td>1</td>\n",
              "      <td>12/1/2010 15:35</td>\n",
              "      <td>1.25</td>\n",
              "      <td>16274.0</td>\n",
              "      <td>United Kingdom</td>\n",
              "      <td>2010-12-01</td>\n",
              "      <td>0.0</td>\n",
              "      <td>2010</td>\n",
              "      <td>12</td>\n",
              "      <td>1</td>\n",
              "      <td>M</td>\n",
              "    </tr>\n",
              "    <tr>\n",
              "      <th>2250</th>\n",
              "      <td>536569</td>\n",
              "      <td>M</td>\n",
              "      <td>Manual</td>\n",
              "      <td>1</td>\n",
              "      <td>12/1/2010 15:35</td>\n",
              "      <td>18.95</td>\n",
              "      <td>16274.0</td>\n",
              "      <td>United Kingdom</td>\n",
              "      <td>2010-12-01</td>\n",
              "      <td>0.0</td>\n",
              "      <td>2010</td>\n",
              "      <td>12</td>\n",
              "      <td>1</td>\n",
              "      <td>M</td>\n",
              "    </tr>\n",
              "    <tr>\n",
              "      <th>5684</th>\n",
              "      <td>536865</td>\n",
              "      <td>M</td>\n",
              "      <td>Manual</td>\n",
              "      <td>1</td>\n",
              "      <td>12/3/2010 11:28</td>\n",
              "      <td>2.55</td>\n",
              "      <td>NaN</td>\n",
              "      <td>United Kingdom</td>\n",
              "      <td>2010-12-03</td>\n",
              "      <td>0.0</td>\n",
              "      <td>2010</td>\n",
              "      <td>12</td>\n",
              "      <td>3</td>\n",
              "      <td>M</td>\n",
              "    </tr>\n",
              "    <tr>\n",
              "      <th>6798</th>\n",
              "      <td>536981</td>\n",
              "      <td>M</td>\n",
              "      <td>Manual</td>\n",
              "      <td>2</td>\n",
              "      <td>12/3/2010 14:26</td>\n",
              "      <td>0.85</td>\n",
              "      <td>14723.0</td>\n",
              "      <td>United Kingdom</td>\n",
              "      <td>2010-12-03</td>\n",
              "      <td>0.0</td>\n",
              "      <td>2010</td>\n",
              "      <td>12</td>\n",
              "      <td>3</td>\n",
              "      <td>M</td>\n",
              "    </tr>\n",
              "    <tr>\n",
              "      <th>7976</th>\n",
              "      <td>537077</td>\n",
              "      <td>M</td>\n",
              "      <td>Manual</td>\n",
              "      <td>12</td>\n",
              "      <td>12/5/2010 11:59</td>\n",
              "      <td>0.42</td>\n",
              "      <td>17062.0</td>\n",
              "      <td>United Kingdom</td>\n",
              "      <td>2010-12-05</td>\n",
              "      <td>0.0</td>\n",
              "      <td>2010</td>\n",
              "      <td>12</td>\n",
              "      <td>5</td>\n",
              "      <td>M</td>\n",
              "    </tr>\n",
              "  </tbody>\n",
              "</table>\n",
              "</div>"
            ],
            "text/plain": [
              "     invoiceno stockcode description  ...  Month Day  alpha_description\n",
              "2239    536569         M      Manual  ...     12   1                  M\n",
              "2250    536569         M      Manual  ...     12   1                  M\n",
              "5684    536865         M      Manual  ...     12   3                  M\n",
              "6798    536981         M      Manual  ...     12   3                  M\n",
              "7976    537077         M      Manual  ...     12   5                  M\n",
              "\n",
              "[5 rows x 14 columns]"
            ]
          },
          "metadata": {
            "tags": []
          },
          "execution_count": 61
        }
      ]
    },
    {
      "cell_type": "code",
      "metadata": {
        "id": "N2uNDWMCaO9s",
        "colab_type": "code",
        "outputId": "75bc84b3-08a5-4cea-97a9-d0137653b60e",
        "colab": {
          "base_uri": "https://localhost:8080/",
          "height": 197
        }
      },
      "source": [
        "cleanecom[cleanecom.alpha_description=='A'].head()"
      ],
      "execution_count": 0,
      "outputs": [
        {
          "output_type": "execute_result",
          "data": {
            "text/html": [
              "<div>\n",
              "<style scoped>\n",
              "    .dataframe tbody tr th:only-of-type {\n",
              "        vertical-align: middle;\n",
              "    }\n",
              "\n",
              "    .dataframe tbody tr th {\n",
              "        vertical-align: top;\n",
              "    }\n",
              "\n",
              "    .dataframe thead th {\n",
              "        text-align: right;\n",
              "    }\n",
              "</style>\n",
              "<table border=\"1\" class=\"dataframe\">\n",
              "  <thead>\n",
              "    <tr style=\"text-align: right;\">\n",
              "      <th></th>\n",
              "      <th>invoiceno</th>\n",
              "      <th>stockcode</th>\n",
              "      <th>description</th>\n",
              "      <th>quantity</th>\n",
              "      <th>invoicedate</th>\n",
              "      <th>unitprice</th>\n",
              "      <th>customerid</th>\n",
              "      <th>country</th>\n",
              "      <th>newdate</th>\n",
              "      <th>Flag</th>\n",
              "      <th>qtyflag</th>\n",
              "      <th>finalflag</th>\n",
              "      <th>year</th>\n",
              "      <th>Month</th>\n",
              "      <th>Day</th>\n",
              "      <th>alpha_description</th>\n",
              "    </tr>\n",
              "  </thead>\n",
              "  <tbody>\n",
              "    <tr>\n",
              "      <th>14514</th>\n",
              "      <td>C537600</td>\n",
              "      <td>AMAZONFEE</td>\n",
              "      <td>AMAZON FEE</td>\n",
              "      <td>-1</td>\n",
              "      <td>12/7/2010 12:41</td>\n",
              "      <td>1.00</td>\n",
              "      <td>NaN</td>\n",
              "      <td>United Kingdom</td>\n",
              "      <td>2010-12-07</td>\n",
              "      <td>0.0</td>\n",
              "      <td>0</td>\n",
              "      <td>0.0</td>\n",
              "      <td>2010</td>\n",
              "      <td>12</td>\n",
              "      <td>7</td>\n",
              "      <td>A</td>\n",
              "    </tr>\n",
              "    <tr>\n",
              "      <th>15016</th>\n",
              "      <td>C537630</td>\n",
              "      <td>AMAZONFEE</td>\n",
              "      <td>AMAZON FEE</td>\n",
              "      <td>-1</td>\n",
              "      <td>12/7/2010 15:04</td>\n",
              "      <td>13541.33</td>\n",
              "      <td>NaN</td>\n",
              "      <td>United Kingdom</td>\n",
              "      <td>2010-12-07</td>\n",
              "      <td>0.0</td>\n",
              "      <td>0</td>\n",
              "      <td>0.0</td>\n",
              "      <td>2010</td>\n",
              "      <td>12</td>\n",
              "      <td>7</td>\n",
              "      <td>A</td>\n",
              "    </tr>\n",
              "    <tr>\n",
              "      <th>15017</th>\n",
              "      <td>537632</td>\n",
              "      <td>AMAZONFEE</td>\n",
              "      <td>AMAZON FEE</td>\n",
              "      <td>1</td>\n",
              "      <td>12/7/2010 15:08</td>\n",
              "      <td>13541.33</td>\n",
              "      <td>NaN</td>\n",
              "      <td>United Kingdom</td>\n",
              "      <td>2010-12-07</td>\n",
              "      <td>0.0</td>\n",
              "      <td>0</td>\n",
              "      <td>0.0</td>\n",
              "      <td>2010</td>\n",
              "      <td>12</td>\n",
              "      <td>7</td>\n",
              "      <td>A</td>\n",
              "    </tr>\n",
              "    <tr>\n",
              "      <th>16232</th>\n",
              "      <td>C537644</td>\n",
              "      <td>AMAZONFEE</td>\n",
              "      <td>AMAZON FEE</td>\n",
              "      <td>-1</td>\n",
              "      <td>12/7/2010 15:34</td>\n",
              "      <td>13474.79</td>\n",
              "      <td>NaN</td>\n",
              "      <td>United Kingdom</td>\n",
              "      <td>2010-12-07</td>\n",
              "      <td>0.0</td>\n",
              "      <td>0</td>\n",
              "      <td>0.0</td>\n",
              "      <td>2010</td>\n",
              "      <td>12</td>\n",
              "      <td>7</td>\n",
              "      <td>A</td>\n",
              "    </tr>\n",
              "    <tr>\n",
              "      <th>16313</th>\n",
              "      <td>C537647</td>\n",
              "      <td>AMAZONFEE</td>\n",
              "      <td>AMAZON FEE</td>\n",
              "      <td>-1</td>\n",
              "      <td>12/7/2010 15:41</td>\n",
              "      <td>5519.25</td>\n",
              "      <td>NaN</td>\n",
              "      <td>United Kingdom</td>\n",
              "      <td>2010-12-07</td>\n",
              "      <td>0.0</td>\n",
              "      <td>0</td>\n",
              "      <td>0.0</td>\n",
              "      <td>2010</td>\n",
              "      <td>12</td>\n",
              "      <td>7</td>\n",
              "      <td>A</td>\n",
              "    </tr>\n",
              "  </tbody>\n",
              "</table>\n",
              "</div>"
            ],
            "text/plain": [
              "      invoiceno  stockcode description  ...  Month Day  alpha_description\n",
              "14514   C537600  AMAZONFEE  AMAZON FEE  ...     12   7                  A\n",
              "15016   C537630  AMAZONFEE  AMAZON FEE  ...     12   7                  A\n",
              "15017    537632  AMAZONFEE  AMAZON FEE  ...     12   7                  A\n",
              "16232   C537644  AMAZONFEE  AMAZON FEE  ...     12   7                  A\n",
              "16313   C537647  AMAZONFEE  AMAZON FEE  ...     12   7                  A\n",
              "\n",
              "[5 rows x 16 columns]"
            ]
          },
          "metadata": {
            "tags": []
          },
          "execution_count": 49
        }
      ]
    },
    {
      "cell_type": "markdown",
      "metadata": {
        "id": "a_v2d2AOapPG",
        "colab_type": "text"
      },
      "source": [
        ""
      ]
    },
    {
      "cell_type": "code",
      "metadata": {
        "id": "zPyp8QkeabEP",
        "colab_type": "code",
        "outputId": "9d158490-cde0-4092-be31-2f11a99f346e",
        "colab": {
          "base_uri": "https://localhost:8080/",
          "height": 197
        }
      },
      "source": [
        "cleanecom[cleanecom.alpha_description=='B'].head()"
      ],
      "execution_count": 0,
      "outputs": [
        {
          "output_type": "execute_result",
          "data": {
            "text/html": [
              "<div>\n",
              "<style scoped>\n",
              "    .dataframe tbody tr th:only-of-type {\n",
              "        vertical-align: middle;\n",
              "    }\n",
              "\n",
              "    .dataframe tbody tr th {\n",
              "        vertical-align: top;\n",
              "    }\n",
              "\n",
              "    .dataframe thead th {\n",
              "        text-align: right;\n",
              "    }\n",
              "</style>\n",
              "<table border=\"1\" class=\"dataframe\">\n",
              "  <thead>\n",
              "    <tr style=\"text-align: right;\">\n",
              "      <th></th>\n",
              "      <th>invoiceno</th>\n",
              "      <th>stockcode</th>\n",
              "      <th>description</th>\n",
              "      <th>quantity</th>\n",
              "      <th>invoicedate</th>\n",
              "      <th>unitprice</th>\n",
              "      <th>customerid</th>\n",
              "      <th>country</th>\n",
              "      <th>newdate</th>\n",
              "      <th>Flag</th>\n",
              "      <th>qtyflag</th>\n",
              "      <th>finalflag</th>\n",
              "      <th>year</th>\n",
              "      <th>Month</th>\n",
              "      <th>Day</th>\n",
              "      <th>alpha_description</th>\n",
              "    </tr>\n",
              "  </thead>\n",
              "  <tbody>\n",
              "    <tr>\n",
              "      <th>4406</th>\n",
              "      <td>536779</td>\n",
              "      <td>BANK CHARGES</td>\n",
              "      <td>Bank Charges</td>\n",
              "      <td>1</td>\n",
              "      <td>12/2/2010 15:08</td>\n",
              "      <td>15.00</td>\n",
              "      <td>15823.0</td>\n",
              "      <td>United Kingdom</td>\n",
              "      <td>2010-12-02</td>\n",
              "      <td>0.0</td>\n",
              "      <td>0</td>\n",
              "      <td>0.0</td>\n",
              "      <td>2010</td>\n",
              "      <td>12</td>\n",
              "      <td>2</td>\n",
              "      <td>B</td>\n",
              "    </tr>\n",
              "    <tr>\n",
              "      <th>14435</th>\n",
              "      <td>C537572</td>\n",
              "      <td>BANK CHARGES</td>\n",
              "      <td>Bank Charges</td>\n",
              "      <td>-1</td>\n",
              "      <td>12/7/2010 12:00</td>\n",
              "      <td>95.38</td>\n",
              "      <td>NaN</td>\n",
              "      <td>United Kingdom</td>\n",
              "      <td>2010-12-07</td>\n",
              "      <td>0.0</td>\n",
              "      <td>0</td>\n",
              "      <td>0.0</td>\n",
              "      <td>2010</td>\n",
              "      <td>12</td>\n",
              "      <td>7</td>\n",
              "      <td>B</td>\n",
              "    </tr>\n",
              "    <tr>\n",
              "      <th>28992</th>\n",
              "      <td>C538680</td>\n",
              "      <td>BANK CHARGES</td>\n",
              "      <td>Bank Charges</td>\n",
              "      <td>-1</td>\n",
              "      <td>12/13/2010 17:10</td>\n",
              "      <td>966.92</td>\n",
              "      <td>NaN</td>\n",
              "      <td>United Kingdom</td>\n",
              "      <td>2010-12-13</td>\n",
              "      <td>0.0</td>\n",
              "      <td>0</td>\n",
              "      <td>0.0</td>\n",
              "      <td>2010</td>\n",
              "      <td>12</td>\n",
              "      <td>13</td>\n",
              "      <td>B</td>\n",
              "    </tr>\n",
              "    <tr>\n",
              "      <th>62508</th>\n",
              "      <td>541505</td>\n",
              "      <td>BANK CHARGES</td>\n",
              "      <td>Bank Charges</td>\n",
              "      <td>1</td>\n",
              "      <td>1/18/2011 15:58</td>\n",
              "      <td>15.00</td>\n",
              "      <td>15939.0</td>\n",
              "      <td>United Kingdom</td>\n",
              "      <td>2011-01-18</td>\n",
              "      <td>0.0</td>\n",
              "      <td>0</td>\n",
              "      <td>0.0</td>\n",
              "      <td>2011</td>\n",
              "      <td>1</td>\n",
              "      <td>18</td>\n",
              "      <td>B</td>\n",
              "    </tr>\n",
              "    <tr>\n",
              "      <th>64573</th>\n",
              "      <td>C541653</td>\n",
              "      <td>BANK CHARGES</td>\n",
              "      <td>Bank Charges</td>\n",
              "      <td>-1</td>\n",
              "      <td>1/20/2011 11:50</td>\n",
              "      <td>1050.15</td>\n",
              "      <td>NaN</td>\n",
              "      <td>United Kingdom</td>\n",
              "      <td>2011-01-20</td>\n",
              "      <td>0.0</td>\n",
              "      <td>0</td>\n",
              "      <td>0.0</td>\n",
              "      <td>2011</td>\n",
              "      <td>1</td>\n",
              "      <td>20</td>\n",
              "      <td>B</td>\n",
              "    </tr>\n",
              "  </tbody>\n",
              "</table>\n",
              "</div>"
            ],
            "text/plain": [
              "      invoiceno     stockcode   description  ...  Month Day  alpha_description\n",
              "4406     536779  BANK CHARGES  Bank Charges  ...     12   2                  B\n",
              "14435   C537572  BANK CHARGES  Bank Charges  ...     12   7                  B\n",
              "28992   C538680  BANK CHARGES  Bank Charges  ...     12  13                  B\n",
              "62508    541505  BANK CHARGES  Bank Charges  ...      1  18                  B\n",
              "64573   C541653  BANK CHARGES  Bank Charges  ...      1  20                  B\n",
              "\n",
              "[5 rows x 16 columns]"
            ]
          },
          "metadata": {
            "tags": []
          },
          "execution_count": 50
        }
      ]
    },
    {
      "cell_type": "code",
      "metadata": {
        "id": "Mu8EwMTqavQx",
        "colab_type": "code",
        "outputId": "f44414e6-2345-4bb9-f942-8850000795ba",
        "colab": {
          "base_uri": "https://localhost:8080/",
          "height": 197
        }
      },
      "source": [
        "cleanecom[cleanecom.alpha_description=='g'].head()"
      ],
      "execution_count": 0,
      "outputs": [
        {
          "output_type": "execute_result",
          "data": {
            "text/html": [
              "<div>\n",
              "<style scoped>\n",
              "    .dataframe tbody tr th:only-of-type {\n",
              "        vertical-align: middle;\n",
              "    }\n",
              "\n",
              "    .dataframe tbody tr th {\n",
              "        vertical-align: top;\n",
              "    }\n",
              "\n",
              "    .dataframe thead th {\n",
              "        text-align: right;\n",
              "    }\n",
              "</style>\n",
              "<table border=\"1\" class=\"dataframe\">\n",
              "  <thead>\n",
              "    <tr style=\"text-align: right;\">\n",
              "      <th></th>\n",
              "      <th>invoiceno</th>\n",
              "      <th>stockcode</th>\n",
              "      <th>description</th>\n",
              "      <th>quantity</th>\n",
              "      <th>invoicedate</th>\n",
              "      <th>unitprice</th>\n",
              "      <th>customerid</th>\n",
              "      <th>country</th>\n",
              "      <th>newdate</th>\n",
              "      <th>finalflag</th>\n",
              "      <th>year</th>\n",
              "      <th>Month</th>\n",
              "      <th>Day</th>\n",
              "      <th>alpha_description</th>\n",
              "    </tr>\n",
              "  </thead>\n",
              "  <tbody>\n",
              "    <tr>\n",
              "      <th>38248</th>\n",
              "      <td>539492</td>\n",
              "      <td>gift_0001_40</td>\n",
              "      <td>Dotcomgiftshop Gift Voucher £40.00</td>\n",
              "      <td>1</td>\n",
              "      <td>12/20/2010 10:14</td>\n",
              "      <td>34.04</td>\n",
              "      <td>NaN</td>\n",
              "      <td>United Kingdom</td>\n",
              "      <td>2010-12-20</td>\n",
              "      <td>0.0</td>\n",
              "      <td>2010</td>\n",
              "      <td>12</td>\n",
              "      <td>20</td>\n",
              "      <td>g</td>\n",
              "    </tr>\n",
              "    <tr>\n",
              "      <th>42057</th>\n",
              "      <td>539958</td>\n",
              "      <td>gift_0001_50</td>\n",
              "      <td>Dotcomgiftshop Gift Voucher £50.00</td>\n",
              "      <td>1</td>\n",
              "      <td>12/23/2010 13:26</td>\n",
              "      <td>42.55</td>\n",
              "      <td>NaN</td>\n",
              "      <td>United Kingdom</td>\n",
              "      <td>2010-12-23</td>\n",
              "      <td>0.0</td>\n",
              "      <td>2010</td>\n",
              "      <td>12</td>\n",
              "      <td>23</td>\n",
              "      <td>g</td>\n",
              "    </tr>\n",
              "    <tr>\n",
              "      <th>44725</th>\n",
              "      <td>540238</td>\n",
              "      <td>gift_0001_30</td>\n",
              "      <td>Dotcomgiftshop Gift Voucher £30.00</td>\n",
              "      <td>1</td>\n",
              "      <td>1/5/2011 14:44</td>\n",
              "      <td>25.53</td>\n",
              "      <td>NaN</td>\n",
              "      <td>United Kingdom</td>\n",
              "      <td>2011-01-05</td>\n",
              "      <td>1.0</td>\n",
              "      <td>2011</td>\n",
              "      <td>1</td>\n",
              "      <td>5</td>\n",
              "      <td>g</td>\n",
              "    </tr>\n",
              "    <tr>\n",
              "      <th>44794</th>\n",
              "      <td>540238</td>\n",
              "      <td>gift_0001_20</td>\n",
              "      <td>Dotcomgiftshop Gift Voucher £20.00</td>\n",
              "      <td>1</td>\n",
              "      <td>1/5/2011 14:44</td>\n",
              "      <td>17.02</td>\n",
              "      <td>NaN</td>\n",
              "      <td>United Kingdom</td>\n",
              "      <td>2011-01-05</td>\n",
              "      <td>1.0</td>\n",
              "      <td>2011</td>\n",
              "      <td>1</td>\n",
              "      <td>5</td>\n",
              "      <td>g</td>\n",
              "    </tr>\n",
              "    <tr>\n",
              "      <th>55589</th>\n",
              "      <td>540995</td>\n",
              "      <td>gift_0001_20</td>\n",
              "      <td>Dotcomgiftshop Gift Voucher £20.00</td>\n",
              "      <td>1</td>\n",
              "      <td>1/13/2011 9:30</td>\n",
              "      <td>16.67</td>\n",
              "      <td>NaN</td>\n",
              "      <td>United Kingdom</td>\n",
              "      <td>2011-01-13</td>\n",
              "      <td>0.0</td>\n",
              "      <td>2011</td>\n",
              "      <td>1</td>\n",
              "      <td>13</td>\n",
              "      <td>g</td>\n",
              "    </tr>\n",
              "  </tbody>\n",
              "</table>\n",
              "</div>"
            ],
            "text/plain": [
              "      invoiceno     stockcode  ... Day  alpha_description\n",
              "38248    539492  gift_0001_40  ...  20                  g\n",
              "42057    539958  gift_0001_50  ...  23                  g\n",
              "44725    540238  gift_0001_30  ...   5                  g\n",
              "44794    540238  gift_0001_20  ...   5                  g\n",
              "55589    540995  gift_0001_20  ...  13                  g\n",
              "\n",
              "[5 rows x 14 columns]"
            ]
          },
          "metadata": {
            "tags": []
          },
          "execution_count": 60
        }
      ]
    },
    {
      "cell_type": "code",
      "metadata": {
        "id": "jo_Rahhscszf",
        "colab_type": "code",
        "outputId": "15b03e98-3a28-437b-e262-76e6552171d3",
        "colab": {
          "base_uri": "https://localhost:8080/",
          "height": 87
        }
      },
      "source": [
        "cleanecom.columns"
      ],
      "execution_count": 0,
      "outputs": [
        {
          "output_type": "execute_result",
          "data": {
            "text/plain": [
              "Index(['invoiceno', 'stockcode', 'description', 'quantity', 'invoicedate',\n",
              "       'unitprice', 'customerid', 'country', 'newdate', 'Flag', 'qtyflag',\n",
              "       'finalflag', 'year', 'Month', 'Day', 'alpha_description'],\n",
              "      dtype='object')"
            ]
          },
          "metadata": {
            "tags": []
          },
          "execution_count": 55
        }
      ]
    },
    {
      "cell_type": "markdown",
      "metadata": {
        "id": "YdAY_0b6a_pT",
        "colab_type": "text"
      },
      "source": [
        "### Please take a subjective decision which one you want ot keep and which one you want to eliminate?"
      ]
    },
    {
      "cell_type": "code",
      "metadata": {
        "id": "boo-vZXYa6Tm",
        "colab_type": "code",
        "outputId": "bed34f41-b253-41a2-9b6d-f539045a2aa1",
        "colab": {
          "base_uri": "https://localhost:8080/",
          "height": 582
        }
      },
      "source": [
        "cleanecom=cleanecom[(cleanecom.alpha_description!='A') & (cleanecom.alpha_description!='B')] # Removing A and B for now\n",
        "print('New distribution of th alpha char:\\n', cleanecom.alpha_description.value_counts())\n",
        "cleanecom=cleanecom[['invoiceno', 'stockcode', 'description', 'quantity', 'invoicedate',\n",
        "       'unitprice', 'customerid', 'country', 'newdate',\n",
        "       'finalflag', 'year', 'Month', 'Day']] # Keeping only the required columns \n",
        "\n",
        "print('\\n\\n data frame cleaned:\\n')\n",
        "cleanecom.head()\n"
      ],
      "execution_count": 0,
      "outputs": [
        {
          "output_type": "stream",
          "text": [
            "New distribution of th alpha char:\n",
            " 2    438290\n",
            "8     62972\n",
            "4     11460\n",
            "1      7623\n",
            "7      7216\n",
            "3      5757\n",
            "9      4656\n",
            "P      1260\n",
            "D       830\n",
            "5       641\n",
            "M       566\n",
            "C       160\n",
            "6       113\n",
            "S        63\n",
            "g        34\n",
            "m         1\n",
            "Name: alpha_description, dtype: int64\n",
            "\n",
            "\n",
            " data frame cleaned:\n",
            "\n"
          ],
          "name": "stdout"
        },
        {
          "output_type": "execute_result",
          "data": {
            "text/html": [
              "<div>\n",
              "<style scoped>\n",
              "    .dataframe tbody tr th:only-of-type {\n",
              "        vertical-align: middle;\n",
              "    }\n",
              "\n",
              "    .dataframe tbody tr th {\n",
              "        vertical-align: top;\n",
              "    }\n",
              "\n",
              "    .dataframe thead th {\n",
              "        text-align: right;\n",
              "    }\n",
              "</style>\n",
              "<table border=\"1\" class=\"dataframe\">\n",
              "  <thead>\n",
              "    <tr style=\"text-align: right;\">\n",
              "      <th></th>\n",
              "      <th>invoiceno</th>\n",
              "      <th>stockcode</th>\n",
              "      <th>description</th>\n",
              "      <th>quantity</th>\n",
              "      <th>invoicedate</th>\n",
              "      <th>unitprice</th>\n",
              "      <th>customerid</th>\n",
              "      <th>country</th>\n",
              "      <th>newdate</th>\n",
              "      <th>finalflag</th>\n",
              "      <th>year</th>\n",
              "      <th>Month</th>\n",
              "      <th>Day</th>\n",
              "    </tr>\n",
              "  </thead>\n",
              "  <tbody>\n",
              "    <tr>\n",
              "      <th>0</th>\n",
              "      <td>536365</td>\n",
              "      <td>85123A</td>\n",
              "      <td>WHITE HANGING HEART T-LIGHT HOLDER</td>\n",
              "      <td>6</td>\n",
              "      <td>12/1/2010 8:26</td>\n",
              "      <td>2.55</td>\n",
              "      <td>17850.0</td>\n",
              "      <td>United Kingdom</td>\n",
              "      <td>2010-12-01</td>\n",
              "      <td>0.0</td>\n",
              "      <td>2010</td>\n",
              "      <td>12</td>\n",
              "      <td>1</td>\n",
              "    </tr>\n",
              "    <tr>\n",
              "      <th>1</th>\n",
              "      <td>536365</td>\n",
              "      <td>71053</td>\n",
              "      <td>WHITE METAL LANTERN</td>\n",
              "      <td>6</td>\n",
              "      <td>12/1/2010 8:26</td>\n",
              "      <td>3.39</td>\n",
              "      <td>17850.0</td>\n",
              "      <td>United Kingdom</td>\n",
              "      <td>2010-12-01</td>\n",
              "      <td>0.0</td>\n",
              "      <td>2010</td>\n",
              "      <td>12</td>\n",
              "      <td>1</td>\n",
              "    </tr>\n",
              "    <tr>\n",
              "      <th>2</th>\n",
              "      <td>536365</td>\n",
              "      <td>84406B</td>\n",
              "      <td>CREAM CUPID HEARTS COAT HANGER</td>\n",
              "      <td>8</td>\n",
              "      <td>12/1/2010 8:26</td>\n",
              "      <td>2.75</td>\n",
              "      <td>17850.0</td>\n",
              "      <td>United Kingdom</td>\n",
              "      <td>2010-12-01</td>\n",
              "      <td>0.0</td>\n",
              "      <td>2010</td>\n",
              "      <td>12</td>\n",
              "      <td>1</td>\n",
              "    </tr>\n",
              "    <tr>\n",
              "      <th>3</th>\n",
              "      <td>536365</td>\n",
              "      <td>84029G</td>\n",
              "      <td>KNITTED UNION FLAG HOT WATER BOTTLE</td>\n",
              "      <td>6</td>\n",
              "      <td>12/1/2010 8:26</td>\n",
              "      <td>3.39</td>\n",
              "      <td>17850.0</td>\n",
              "      <td>United Kingdom</td>\n",
              "      <td>2010-12-01</td>\n",
              "      <td>0.0</td>\n",
              "      <td>2010</td>\n",
              "      <td>12</td>\n",
              "      <td>1</td>\n",
              "    </tr>\n",
              "    <tr>\n",
              "      <th>4</th>\n",
              "      <td>536365</td>\n",
              "      <td>84029E</td>\n",
              "      <td>RED WOOLLY HOTTIE WHITE HEART.</td>\n",
              "      <td>6</td>\n",
              "      <td>12/1/2010 8:26</td>\n",
              "      <td>3.39</td>\n",
              "      <td>17850.0</td>\n",
              "      <td>United Kingdom</td>\n",
              "      <td>2010-12-01</td>\n",
              "      <td>0.0</td>\n",
              "      <td>2010</td>\n",
              "      <td>12</td>\n",
              "      <td>1</td>\n",
              "    </tr>\n",
              "  </tbody>\n",
              "</table>\n",
              "</div>"
            ],
            "text/plain": [
              "  invoiceno stockcode                          description  ...  year Month  Day\n",
              "0    536365    85123A   WHITE HANGING HEART T-LIGHT HOLDER  ...  2010    12    1\n",
              "1    536365     71053                  WHITE METAL LANTERN  ...  2010    12    1\n",
              "2    536365    84406B       CREAM CUPID HEARTS COAT HANGER  ...  2010    12    1\n",
              "3    536365    84029G  KNITTED UNION FLAG HOT WATER BOTTLE  ...  2010    12    1\n",
              "4    536365    84029E       RED WOOLLY HOTTIE WHITE HEART.  ...  2010    12    1\n",
              "\n",
              "[5 rows x 13 columns]"
            ]
          },
          "metadata": {
            "tags": []
          },
          "execution_count": 68
        }
      ]
    },
    {
      "cell_type": "markdown",
      "metadata": {
        "id": "V5uMbvVDfv84",
        "colab_type": "text"
      },
      "source": [
        "### Time to look for some plots. Obviously all the analysis at this point would be univariate study. "
      ]
    },
    {
      "cell_type": "code",
      "metadata": {
        "id": "g54wChqhbtVB",
        "colab_type": "code",
        "outputId": "6dac7516-e813-4dfe-b4b1-06b03ecf1cad",
        "colab": {
          "base_uri": "https://localhost:8080/",
          "height": 52
        }
      },
      "source": [
        "### let's import the wel-knowen libraries:\n",
        "import matplotlib as mpl\n",
        "import matplotlib.pyplot as plt\n",
        "import seaborn as sns\n",
        "\n",
        "%matplotlib inline"
      ],
      "execution_count": 0,
      "outputs": [
        {
          "output_type": "stream",
          "text": [
            "/usr/local/lib/python3.6/dist-packages/statsmodels/tools/_testing.py:19: FutureWarning: pandas.util.testing is deprecated. Use the functions in the public API at pandas.testing instead.\n",
            "  import pandas.util.testing as tm\n"
          ],
          "name": "stderr"
        }
      ]
    },
    {
      "cell_type": "code",
      "metadata": {
        "id": "r6JduRydb0XK",
        "colab_type": "code",
        "outputId": "15e76d5b-4cb9-4ea7-c59b-e7d06813a03f",
        "colab": {
          "base_uri": "https://localhost:8080/",
          "height": 405
        }
      },
      "source": [
        "plt.boxplot(cleanecom.quantity)"
      ],
      "execution_count": 0,
      "outputs": [
        {
          "output_type": "execute_result",
          "data": {
            "text/plain": [
              "{'boxes': [<matplotlib.lines.Line2D at 0x7fe70a03b320>],\n",
              " 'caps': [<matplotlib.lines.Line2D at 0x7fe70a03bd30>,\n",
              "  <matplotlib.lines.Line2D at 0x7fe709fd10f0>],\n",
              " 'fliers': [<matplotlib.lines.Line2D at 0x7fe709fd17f0>],\n",
              " 'means': [],\n",
              " 'medians': [<matplotlib.lines.Line2D at 0x7fe709fd1470>],\n",
              " 'whiskers': [<matplotlib.lines.Line2D at 0x7fe70a03b630>,\n",
              "  <matplotlib.lines.Line2D at 0x7fe70a03b9b0>]}"
            ]
          },
          "metadata": {
            "tags": []
          },
          "execution_count": 70
        },
        {
          "output_type": "display_data",
          "data": {
            "image/png": "[encoded data removed]",
            "text/plain": [
              "<Figure size 432x288 with 1 Axes>"
            ]
          },
          "metadata": {
            "tags": [],
            "needs_background": "light"
          }
        }
      ]
    },
    {
      "cell_type": "code",
      "metadata": {
        "id": "EGdbmMARgjCr",
        "colab_type": "code",
        "outputId": "8cee573d-3a20-49f8-d10e-e6de51c00a5d",
        "colab": {
          "base_uri": "https://localhost:8080/",
          "height": 895
        }
      },
      "source": [
        "plt.hist(cleanecom.quantity,bins=100)"
      ],
      "execution_count": 0,
      "outputs": [
        {
          "output_type": "execute_result",
          "data": {
            "text/plain": [
              "(array([2.00000e+00, 0.00000e+00, 1.00000e+00, 0.00000e+00, 0.00000e+00,\n",
              "        0.00000e+00, 0.00000e+00, 0.00000e+00, 0.00000e+00, 0.00000e+00,\n",
              "        0.00000e+00, 0.00000e+00, 0.00000e+00, 0.00000e+00, 0.00000e+00,\n",
              "        0.00000e+00, 0.00000e+00, 0.00000e+00, 0.00000e+00, 1.00000e+00,\n",
              "        0.00000e+00, 1.00000e+00, 0.00000e+00, 0.00000e+00, 0.00000e+00,\n",
              "        0.00000e+00, 1.00000e+00, 0.00000e+00, 0.00000e+00, 3.00000e+00,\n",
              "        2.00000e+00, 2.00000e+00, 2.00000e+00, 0.00000e+00, 2.00000e+00,\n",
              "        2.00000e+00, 8.00000e+00, 7.00000e+00, 1.20000e+01, 8.00000e+00,\n",
              "        2.10000e+01, 4.00000e+01, 4.05000e+02, 5.37326e+05, 3.06400e+03,\n",
              "        4.06000e+02, 1.62000e+02, 6.20000e+01, 2.80000e+01, 2.80000e+01,\n",
              "        8.00000e+00, 8.00000e+00, 9.00000e+00, 1.00000e+00, 5.00000e+00,\n",
              "        2.00000e+00, 4.00000e+00, 3.00000e+00, 0.00000e+00, 0.00000e+00,\n",
              "        0.00000e+00, 2.00000e+00, 1.00000e+00, 0.00000e+00, 0.00000e+00,\n",
              "        1.00000e+00, 0.00000e+00, 0.00000e+00, 1.00000e+00, 0.00000e+00,\n",
              "        0.00000e+00, 0.00000e+00, 0.00000e+00, 0.00000e+00, 0.00000e+00,\n",
              "        0.00000e+00, 0.00000e+00, 0.00000e+00, 0.00000e+00, 0.00000e+00,\n",
              "        0.00000e+00, 0.00000e+00, 0.00000e+00, 0.00000e+00, 0.00000e+00,\n",
              "        0.00000e+00, 0.00000e+00, 0.00000e+00, 0.00000e+00, 0.00000e+00,\n",
              "        0.00000e+00, 0.00000e+00, 0.00000e+00, 0.00000e+00, 0.00000e+00,\n",
              "        0.00000e+00, 0.00000e+00, 0.00000e+00, 0.00000e+00, 1.00000e+00]),\n",
              " array([-9600. , -9378.6, -9157.2, -8935.8, -8714.4, -8493. , -8271.6,\n",
              "        -8050.2, -7828.8, -7607.4, -7386. , -7164.6, -6943.2, -6721.8,\n",
              "        -6500.4, -6279. , -6057.6, -5836.2, -5614.8, -5393.4, -5172. ,\n",
              "        -4950.6, -4729.2, -4507.8, -4286.4, -4065. , -3843.6, -3622.2,\n",
              "        -3400.8, -3179.4, -2958. , -2736.6, -2515.2, -2293.8, -2072.4,\n",
              "        -1851. , -1629.6, -1408.2, -1186.8,  -965.4,  -744. ,  -522.6,\n",
              "         -301.2,   -79.8,   141.6,   363. ,   584.4,   805.8,  1027.2,\n",
              "         1248.6,  1470. ,  1691.4,  1912.8,  2134.2,  2355.6,  2577. ,\n",
              "         2798.4,  3019.8,  3241.2,  3462.6,  3684. ,  3905.4,  4126.8,\n",
              "         4348.2,  4569.6,  4791. ,  5012.4,  5233.8,  5455.2,  5676.6,\n",
              "         5898. ,  6119.4,  6340.8,  6562.2,  6783.6,  7005. ,  7226.4,\n",
              "         7447.8,  7669.2,  7890.6,  8112. ,  8333.4,  8554.8,  8776.2,\n",
              "         8997.6,  9219. ,  9440.4,  9661.8,  9883.2, 10104.6, 10326. ,\n",
              "        10547.4, 10768.8, 10990.2, 11211.6, 11433. , 11654.4, 11875.8,\n",
              "        12097.2, 12318.6, 12540. ]),\n",
              " <a list of 100 Patch objects>)"
            ]
          },
          "metadata": {
            "tags": []
          },
          "execution_count": 72
        },
        {
          "output_type": "display_data",
          "data": {
            "image/png": "[encoded data removed]",
            "text/plain": [
              "<Figure size 432x288 with 1 Axes>"
            ]
          },
          "metadata": {
            "tags": [],
            "needs_background": "light"
          }
        }
      ]
    },
    {
      "cell_type": "code",
      "metadata": {
        "id": "MQVPtKxbg5Y0",
        "colab_type": "code",
        "colab": {}
      },
      "source": [
        ""
      ],
      "execution_count": 0,
      "outputs": []
    }
  ]
}